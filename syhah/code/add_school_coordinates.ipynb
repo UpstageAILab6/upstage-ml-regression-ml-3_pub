{
 "cells": [
  {
   "cell_type": "code",
   "execution_count": 4,
   "metadata": {},
   "outputs": [],
   "source": [
    "import pandas as pd\n",
    "\n",
    "# 데이터 로드\n",
    "all_schools_data = pd.read_csv('../data/all_school_data.csv', encoding='euc-kr')\n",
    "middle_school_data = pd.read_csv('../data/seoul_middle_school_data.csv', encoding='utf-8')\n",
    "high_school_data = pd.read_csv('../data/seoul_high_school_data .csv', encoding='utf-8')\n",
    "\n",
    "# 서울시 학교만 필터링\n",
    "all_schools_data = all_schools_data[all_schools_data['소재지도로명주소'].str.contains('서울특별시', na=False)]\n",
    "\n",
    "# 필요한 열 선택 (학교명, 위도, 경도)\n",
    "all_schools_data = all_schools_data[['학교명', '위도', '경도']]\n",
    "\n",
    "# 데이터에 좌표 추가\n",
    "def add_coordinates(school_df, schools_coords):\n",
    "    merged_data = pd.merge(school_df, schools_coords, on='학교명', how='left')\n",
    "    return merged_data\n",
    "\n",
    "# 중학교 및 고등학교 데이터에 좌표 추가\n",
    "middle_school_with_coords = add_coordinates(middle_school_data, all_schools_data)\n",
    "high_school_with_coords = add_coordinates(high_school_data, all_schools_data)\n",
    "\n",
    "# 결과 저장\n",
    "middle_school_with_coords.to_csv('../data/seoul_middle_school_with_coords.csv', index=False, encoding='utf-8')\n",
    "high_school_with_coords.to_csv('../data/seoul_high_school_with_coords.csv', index=False, encoding='utf-8')"
   ]
  },
  {
   "cell_type": "code",
   "execution_count": null,
   "metadata": {},
   "outputs": [],
   "source": []
  }
 ],
 "metadata": {
  "kernelspec": {
   "display_name": "py3_11_9",
   "language": "python",
   "name": "python3"
  },
  "language_info": {
   "codemirror_mode": {
    "name": "ipython",
    "version": 3
   },
   "file_extension": ".py",
   "mimetype": "text/x-python",
   "name": "python",
   "nbconvert_exporter": "python",
   "pygments_lexer": "ipython3",
   "version": "3.11.9"
  }
 },
 "nbformat": 4,
 "nbformat_minor": 2
}
