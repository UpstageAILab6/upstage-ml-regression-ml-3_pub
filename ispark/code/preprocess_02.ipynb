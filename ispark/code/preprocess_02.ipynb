{
 "cells": [
  {
   "cell_type": "code",
   "execution_count": 247,
   "metadata": {},
   "outputs": [],
   "source": [
    "import requests\n",
    "import numpy as np\n",
    "import pandas as pd\n",
    "\n",
    "from tqdm import tqdm"
   ]
  },
  {
   "cell_type": "code",
   "execution_count": 248,
   "metadata": {},
   "outputs": [
    {
     "name": "stderr",
     "output_type": "stream",
     "text": [
      "/tmp/ipykernel_542535/1537677476.py:1: DtypeWarning: Columns (16,17,36) have mixed types. Specify dtype option on import or set low_memory=False.\n",
      "  df_train = pd.read_csv(\"../data/train.csv\")\n"
     ]
    }
   ],
   "source": [
    "df_train = pd.read_csv(\"../data/train.csv\")\n",
    "df_test = pd.read_csv(\"../data/test.csv\")\n",
    "pre_test = pd.read_csv(\"../data/pre_test.csv\")"
   ]
  },
  {
   "cell_type": "code",
   "execution_count": 206,
   "metadata": {},
   "outputs": [],
   "source": [
    "df_test[['본번', '부번']] = df_test[['본번', '부번']].astype(int)"
   ]
  },
  {
   "cell_type": "code",
   "execution_count": 207,
   "metadata": {},
   "outputs": [],
   "source": [
    "api_key = '' # kakao rest_api key"
   ]
  },
  {
   "cell_type": "code",
   "execution_count": 208,
   "metadata": {},
   "outputs": [],
   "source": [
    "def get_coordinates_with_fallback(region, bonbun, bubun, api_key):\n",
    "    \"\"\"\n",
    "    주소를 단계적으로 축소해가며 좌표를 검색합니다.\n",
    "    \n",
    "    Parameters:\n",
    "    - region (str): 행정구역 (시/도 + 구/군 + 읍/면/동)\n",
    "    - bonbun (int): 본번\n",
    "    - bubun (int): 부번\n",
    "    - api_key (str): Kakao Maps REST API 키\n",
    "    \n",
    "    Returns:\n",
    "    - tuple: (latitude, longitude) 또는 None (오류 시)\n",
    "    \"\"\"\n",
    "    # 주소를 축소하는 순서대로 리스트 생성\n",
    "    addresses = []\n",
    "    if bubun > 0:\n",
    "        addresses.append(f\"{region} {bonbun}-{bubun}\")  # 본번과 부번 포함\n",
    "    addresses.append(f\"{region} {bonbun}\")  # 본번만 포함\n",
    "    addresses.append(region)  # 행정구역만 포함\n",
    "\n",
    "    url = \"https://dapi.kakao.com/v2/local/search/address.json\"\n",
    "    headers = {\"Authorization\": f\"KakaoAK {api_key}\"}\n",
    "\n",
    "    for address in addresses:\n",
    "        params = {\"query\": address}\n",
    "        try:\n",
    "            response = requests.get(url, headers=headers, params=params)\n",
    "            response.raise_for_status()\n",
    "            result = response.json()\n",
    "\n",
    "            if result[\"documents\"]:\n",
    "                # 첫 번째 결과의 좌표 반환\n",
    "                x = result[\"documents\"][0][\"x\"]  # 경도\n",
    "                y = result[\"documents\"][0][\"y\"]  # 위도\n",
    "                # print(f\"주소 검색 성공: {address}\")\n",
    "                return float(y), float(x)\n",
    "            else:\n",
    "                # print(f\"주소를 찾을 수 없습니다: {address}\")\n",
    "                pass\n",
    "\n",
    "        except requests.exceptions.HTTPError as e:\n",
    "            print(f\"HTTP 오류 발생: {e}\")\n",
    "        except Exception as e:\n",
    "            print(f\"기타 오류 발생: {e}\")\n",
    "    \n",
    "    # 모든 시도가 실패하면 None 반환\n",
    "    return None"
   ]
  },
  {
   "cell_type": "code",
   "execution_count": 209,
   "metadata": {},
   "outputs": [],
   "source": [
    "df_test[['new_x', 'new_y']] = ''"
   ]
  },
  {
   "cell_type": "code",
   "execution_count": 210,
   "metadata": {},
   "outputs": [],
   "source": [
    "API_KEY = api_key"
   ]
  },
  {
   "cell_type": "code",
   "execution_count": 211,
   "metadata": {},
   "outputs": [
    {
     "name": "stderr",
     "output_type": "stream",
     "text": [
      "100%|██████████| 9272/9272 [09:36<00:00, 16.08it/s]\n"
     ]
    }
   ],
   "source": [
    "for i in tqdm(range(len(df_test))):\n",
    "    # 본번과 부번을 사용한 예제\n",
    "    region = df_test['시군구'][i]\n",
    "    bonbun = df_test['본번'][i]\n",
    "    bubun = df_test['부번'][i]\n",
    "\n",
    "    coordinates = get_coordinates_with_fallback(region, bonbun, bubun, API_KEY)\n",
    "\n",
    "    if coordinates:\n",
    "        df_test.loc[i, ['new_x', 'new_y']] = coordinates[0], coordinates[1]\n",
    "    else:\n",
    "        print(\"좌표를 가져오는 데 실패했습니다.\")"
   ]
  },
  {
   "cell_type": "code",
   "execution_count": 212,
   "metadata": {},
   "outputs": [
    {
     "data": {
      "text/plain": [
       "new_x    0\n",
       "new_y    0\n",
       "dtype: int64"
      ]
     },
     "execution_count": 212,
     "metadata": {},
     "output_type": "execute_result"
    }
   ],
   "source": [
    "df_test[['new_x', 'new_y']].isnull().sum()"
   ]
  },
  {
   "cell_type": "code",
   "execution_count": 213,
   "metadata": {},
   "outputs": [
    {
     "data": {
      "text/plain": [
       "array([[<Axes: title={'center': '좌표X'}>, <Axes: title={'center': '좌표Y'}>]],\n",
       "      dtype=object)"
      ]
     },
     "execution_count": 213,
     "metadata": {},
     "output_type": "execute_result"
    },
    {
     "name": "stderr",
     "output_type": "stream",
     "text": [
      "/opt/conda/lib/python3.10/site-packages/IPython/core/events.py:93: UserWarning: Glyph 51340 (\\N{HANGUL SYLLABLE JWA}) missing from current font.\n",
      "  func(*args, **kwargs)\n",
      "/opt/conda/lib/python3.10/site-packages/IPython/core/events.py:93: UserWarning: Glyph 54364 (\\N{HANGUL SYLLABLE PYO}) missing from current font.\n",
      "  func(*args, **kwargs)\n",
      "/opt/conda/lib/python3.10/site-packages/IPython/core/pylabtools.py:152: UserWarning: Glyph 51340 (\\N{HANGUL SYLLABLE JWA}) missing from current font.\n",
      "  fig.canvas.print_figure(bytes_io, **kw)\n",
      "/opt/conda/lib/python3.10/site-packages/IPython/core/pylabtools.py:152: UserWarning: Glyph 54364 (\\N{HANGUL SYLLABLE PYO}) missing from current font.\n",
      "  fig.canvas.print_figure(bytes_io, **kw)\n"
     ]
    },
    {
     "data": {
      "image/png": "[encoded data removed]",
      "text/plain": [
       "<Figure size 640x480 with 2 Axes>"
      ]
     },
     "metadata": {},
     "output_type": "display_data"
    }
   ],
   "source": [
    "pre_test[['좌표X', '좌표Y']].hist()"
   ]
  },
  {
   "cell_type": "code",
   "execution_count": 218,
   "metadata": {},
   "outputs": [],
   "source": [
    "df_test['new_x'] = df_test['new_x'].astype('float')\n",
    "df_test['new_y'] = df_test['new_y'].astype('float')"
   ]
  },
  {
   "cell_type": "code",
   "execution_count": 219,
   "metadata": {},
   "outputs": [
    {
     "data": {
      "text/plain": [
       "array([[<Axes: title={'center': 'new_x'}>,\n",
       "        <Axes: title={'center': 'new_y'}>]], dtype=object)"
      ]
     },
     "execution_count": 219,
     "metadata": {},
     "output_type": "execute_result"
    },
    {
     "data": {
      "image/png": "[encoded data removed]",
      "text/plain": [
       "<Figure size 640x480 with 2 Axes>"
      ]
     },
     "metadata": {},
     "output_type": "display_data"
    }
   ],
   "source": [
    "df_test[['new_x', 'new_y']].hist()"
   ]
  },
  {
   "cell_type": "code",
   "execution_count": 221,
   "metadata": {},
   "outputs": [],
   "source": [
    "pre_test[['좌표X', '좌표Y']] = df_test[['new_x', 'new_y']]"
   ]
  },
  {
   "cell_type": "code",
   "execution_count": 223,
   "metadata": {},
   "outputs": [],
   "source": [
    "pre_test.to_csv(\"../data/pre_test_01.csv\", index=False)"
   ]
  },
  {
   "cell_type": "markdown",
   "metadata": {},
   "source": [
    "---"
   ]
  },
  {
   "cell_type": "code",
   "execution_count": 249,
   "metadata": {},
   "outputs": [],
   "source": [
    "pre_train = pd.read_csv(\"../data/pre_train.csv\")"
   ]
  },
  {
   "cell_type": "code",
   "execution_count": 250,
   "metadata": {},
   "outputs": [
    {
     "data": {
      "text/plain": [
       "(1116621, 1118822)"
      ]
     },
     "execution_count": 250,
     "metadata": {},
     "output_type": "execute_result"
    }
   ],
   "source": [
    "len(pre_train), len(df_train)"
   ]
  },
  {
   "cell_type": "code",
   "execution_count": 251,
   "metadata": {},
   "outputs": [],
   "source": [
    "nan_index = df_train['아파트명'].dropna(axis=0).index"
   ]
  },
  {
   "cell_type": "code",
   "execution_count": 254,
   "metadata": {},
   "outputs": [],
   "source": [
    "df_train = df_train.iloc[nan_index]"
   ]
  },
  {
   "cell_type": "code",
   "execution_count": 255,
   "metadata": {},
   "outputs": [],
   "source": [
    "df_train.reset_index(drop=True, inplace=True)"
   ]
  },
  {
   "cell_type": "code",
   "execution_count": 256,
   "metadata": {},
   "outputs": [
    {
     "data": {
      "text/plain": [
       "(1116621, 1116696)"
      ]
     },
     "execution_count": 256,
     "metadata": {},
     "output_type": "execute_result"
    }
   ],
   "source": [
    "len(pre_train), len(df_train)"
   ]
  },
  {
   "cell_type": "code",
   "execution_count": 257,
   "metadata": {},
   "outputs": [],
   "source": [
    "nan_index = df_train[df_train[['번지', '본번','부번']].isna().all(axis=1)].index"
   ]
  },
  {
   "cell_type": "code",
   "execution_count": 258,
   "metadata": {},
   "outputs": [
    {
     "data": {
      "text/plain": [
       "75"
      ]
     },
     "execution_count": 258,
     "metadata": {},
     "output_type": "execute_result"
    }
   ],
   "source": [
    "len(nan_index)"
   ]
  },
  {
   "cell_type": "code",
   "execution_count": 260,
   "metadata": {},
   "outputs": [
    {
     "name": "stderr",
     "output_type": "stream",
     "text": [
      "/tmp/ipykernel_542535/3889652446.py:1: SettingWithCopyWarning: \n",
      "A value is trying to be set on a copy of a slice from a DataFrame\n",
      "\n",
      "See the caveats in the documentation: https://pandas.pydata.org/pandas-docs/stable/user_guide/indexing.html#returning-a-view-versus-a-copy\n",
      "  df_train.drop(nan_index, inplace=True)\n"
     ]
    }
   ],
   "source": [
    "df_train.drop(nan_index, inplace=True)"
   ]
  },
  {
   "cell_type": "code",
   "execution_count": 261,
   "metadata": {},
   "outputs": [],
   "source": [
    "df_train.reset_index(drop=True, inplace=True)"
   ]
  },
  {
   "cell_type": "code",
   "execution_count": 262,
   "metadata": {},
   "outputs": [
    {
     "data": {
      "text/plain": [
       "(1116621, 1116621)"
      ]
     },
     "execution_count": 262,
     "metadata": {},
     "output_type": "execute_result"
    }
   ],
   "source": [
    "len(pre_train), len(df_train)"
   ]
  },
  {
   "cell_type": "code",
   "execution_count": 263,
   "metadata": {},
   "outputs": [
    {
     "name": "stderr",
     "output_type": "stream",
     "text": [
      "/tmp/ipykernel_542535/2517129124.py:1: SettingWithCopyWarning: \n",
      "A value is trying to be set on a copy of a slice from a DataFrame.\n",
      "Try using .loc[row_indexer,col_indexer] = value instead\n",
      "\n",
      "See the caveats in the documentation: https://pandas.pydata.org/pandas-docs/stable/user_guide/indexing.html#returning-a-view-versus-a-copy\n",
      "  df_train[['new_x', 'new_y']] = ''\n",
      "/tmp/ipykernel_542535/2517129124.py:1: SettingWithCopyWarning: \n",
      "A value is trying to be set on a copy of a slice from a DataFrame.\n",
      "Try using .loc[row_indexer,col_indexer] = value instead\n",
      "\n",
      "See the caveats in the documentation: https://pandas.pydata.org/pandas-docs/stable/user_guide/indexing.html#returning-a-view-versus-a-copy\n",
      "  df_train[['new_x', 'new_y']] = ''\n"
     ]
    }
   ],
   "source": [
    "df_train[['new_x', 'new_y']] = ''"
   ]
  },
  {
   "cell_type": "code",
   "execution_count": 264,
   "metadata": {},
   "outputs": [
    {
     "name": "stderr",
     "output_type": "stream",
     "text": [
      "/tmp/ipykernel_542535/1103116773.py:1: SettingWithCopyWarning: \n",
      "A value is trying to be set on a copy of a slice from a DataFrame.\n",
      "Try using .loc[row_indexer,col_indexer] = value instead\n",
      "\n",
      "See the caveats in the documentation: https://pandas.pydata.org/pandas-docs/stable/user_guide/indexing.html#returning-a-view-versus-a-copy\n",
      "  df_train[['본번', '부번']] = df_train[['본번', '부번']].astype(int)\n"
     ]
    }
   ],
   "source": [
    "df_train[['본번', '부번']] = df_train[['본번', '부번']].astype(int)"
   ]
  },
  {
   "cell_type": "code",
   "execution_count": 266,
   "metadata": {},
   "outputs": [
    {
     "data": {
      "text/html": [
       "<div>\n",
       "<style scoped>\n",
       "    .dataframe tbody tr th:only-of-type {\n",
       "        vertical-align: middle;\n",
       "    }\n",
       "\n",
       "    .dataframe tbody tr th {\n",
       "        vertical-align: top;\n",
       "    }\n",
       "\n",
       "    .dataframe thead th {\n",
       "        text-align: right;\n",
       "    }\n",
       "</style>\n",
       "<table border=\"1\" class=\"dataframe\">\n",
       "  <thead>\n",
       "    <tr style=\"text-align: right;\">\n",
       "      <th></th>\n",
       "      <th>시군구</th>\n",
       "      <th>본번</th>\n",
       "      <th>부번</th>\n",
       "    </tr>\n",
       "  </thead>\n",
       "  <tbody>\n",
       "    <tr>\n",
       "      <th>0</th>\n",
       "      <td>서울특별시 강남구 개포동</td>\n",
       "      <td>658</td>\n",
       "      <td>1</td>\n",
       "    </tr>\n",
       "    <tr>\n",
       "      <th>12</th>\n",
       "      <td>서울특별시 강남구 개포동</td>\n",
       "      <td>652</td>\n",
       "      <td>0</td>\n",
       "    </tr>\n",
       "    <tr>\n",
       "      <th>25</th>\n",
       "      <td>서울특별시 강남구 개포동</td>\n",
       "      <td>12</td>\n",
       "      <td>2</td>\n",
       "    </tr>\n",
       "    <tr>\n",
       "      <th>38</th>\n",
       "      <td>서울특별시 강남구 개포동</td>\n",
       "      <td>141</td>\n",
       "      <td>0</td>\n",
       "    </tr>\n",
       "    <tr>\n",
       "      <th>204</th>\n",
       "      <td>서울특별시 강남구 개포동</td>\n",
       "      <td>187</td>\n",
       "      <td>0</td>\n",
       "    </tr>\n",
       "    <tr>\n",
       "      <th>...</th>\n",
       "      <td>...</td>\n",
       "      <td>...</td>\n",
       "      <td>...</td>\n",
       "    </tr>\n",
       "    <tr>\n",
       "      <th>1076698</th>\n",
       "      <td>서울특별시 강남구 역삼동</td>\n",
       "      <td>763</td>\n",
       "      <td>0</td>\n",
       "    </tr>\n",
       "    <tr>\n",
       "      <th>1084864</th>\n",
       "      <td>서울특별시 구로구 구로동</td>\n",
       "      <td>807</td>\n",
       "      <td>39</td>\n",
       "    </tr>\n",
       "    <tr>\n",
       "      <th>1102856</th>\n",
       "      <td>서울특별시 서초구 반포동</td>\n",
       "      <td>16</td>\n",
       "      <td>1</td>\n",
       "    </tr>\n",
       "    <tr>\n",
       "      <th>1103228</th>\n",
       "      <td>서울특별시 서초구 서초동</td>\n",
       "      <td>1686</td>\n",
       "      <td>4</td>\n",
       "    </tr>\n",
       "    <tr>\n",
       "      <th>1111802</th>\n",
       "      <td>서울특별시 용산구 한강로2가</td>\n",
       "      <td>196</td>\n",
       "      <td>0</td>\n",
       "    </tr>\n",
       "  </tbody>\n",
       "</table>\n",
       "<p>8661 rows × 3 columns</p>\n",
       "</div>"
      ],
      "text/plain": [
       "                     시군구    본번  부번\n",
       "0          서울특별시 강남구 개포동   658   1\n",
       "12         서울특별시 강남구 개포동   652   0\n",
       "25         서울특별시 강남구 개포동    12   2\n",
       "38         서울특별시 강남구 개포동   141   0\n",
       "204        서울특별시 강남구 개포동   187   0\n",
       "...                  ...   ...  ..\n",
       "1076698    서울특별시 강남구 역삼동   763   0\n",
       "1084864    서울특별시 구로구 구로동   807  39\n",
       "1102856    서울특별시 서초구 반포동    16   1\n",
       "1103228    서울특별시 서초구 서초동  1686   4\n",
       "1111802  서울특별시 용산구 한강로2가   196   0\n",
       "\n",
       "[8661 rows x 3 columns]"
      ]
     },
     "execution_count": 266,
     "metadata": {},
     "output_type": "execute_result"
    }
   ],
   "source": [
    "unique_addresses = df_train[['시군구', '본번', '부번']].drop_duplicates()\n",
    "unique_addresses"
   ]
  },
  {
   "cell_type": "code",
   "execution_count": 268,
   "metadata": {},
   "outputs": [],
   "source": [
    "tqdm.pandas() "
   ]
  },
  {
   "cell_type": "code",
   "execution_count": 269,
   "metadata": {},
   "outputs": [
    {
     "name": "stderr",
     "output_type": "stream",
     "text": [
      "100%|██████████| 8661/8661 [10:04<00:00, 14.33it/s]\n"
     ]
    }
   ],
   "source": [
    "unique_addresses['coordinates'] = unique_addresses.progress_apply(\n",
    "    lambda row: get_coordinates_with_fallback(row['시군구'], row['본번'], row['부번'], API_KEY), axis=1\n",
    ")"
   ]
  },
  {
   "cell_type": "code",
   "execution_count": 270,
   "metadata": {},
   "outputs": [],
   "source": [
    "# 원본 데이터와 병합\n",
    "df_train = df_train.merge(unique_addresses, on=['시군구', '본번', '부번'], how='left')"
   ]
  },
  {
   "cell_type": "code",
   "execution_count": 302,
   "metadata": {},
   "outputs": [],
   "source": [
    "df_train['new_x'] = df_train['coordinates'].astype('str').str.split(',', expand=True)[0].str.split('(', expand=True)[1]\n",
    "df_train['new_y'] = df_train['coordinates'].astype('str').str.split(',', expand=True)[1].str.split(')', expand=True)[0]"
   ]
  },
  {
   "cell_type": "code",
   "execution_count": 305,
   "metadata": {},
   "outputs": [
    {
     "data": {
      "text/plain": [
       "new_x    0\n",
       "new_y    0\n",
       "dtype: int64"
      ]
     },
     "execution_count": 305,
     "metadata": {},
     "output_type": "execute_result"
    }
   ],
   "source": [
    "df_train[['new_x', 'new_y']].isnull().sum()"
   ]
  },
  {
   "cell_type": "code",
   "execution_count": 307,
   "metadata": {},
   "outputs": [],
   "source": [
    "df_train[['new_x', 'new_y']] = df_train[['new_x', 'new_y']].astype('float')"
   ]
  },
  {
   "cell_type": "code",
   "execution_count": 308,
   "metadata": {},
   "outputs": [
    {
     "data": {
      "text/plain": [
       "array([[<Axes: title={'center': 'new_x'}>,\n",
       "        <Axes: title={'center': 'new_y'}>]], dtype=object)"
      ]
     },
     "execution_count": 308,
     "metadata": {},
     "output_type": "execute_result"
    },
    {
     "data": {
      "image/png": "[encoded data removed]",
      "text/plain": [
       "<Figure size 640x480 with 2 Axes>"
      ]
     },
     "metadata": {},
     "output_type": "display_data"
    }
   ],
   "source": [
    "df_train[['new_x', 'new_y']].hist()"
   ]
  },
  {
   "cell_type": "code",
   "execution_count": 309,
   "metadata": {},
   "outputs": [],
   "source": [
    "pre_train[['좌표X', '좌표Y']] = df_train[['new_x', 'new_y']]"
   ]
  },
  {
   "cell_type": "code",
   "execution_count": 310,
   "metadata": {},
   "outputs": [],
   "source": [
    "pre_train.to_csv(\"../data/pre_train_01.csv\", index=False)"
   ]
  },
  {
   "cell_type": "markdown",
   "metadata": {},
   "source": [
    "---"
   ]
  },
  {
   "cell_type": "code",
   "execution_count": 313,
   "metadata": {},
   "outputs": [
    {
     "data": {
      "text/html": [
       "<div>\n",
       "<style scoped>\n",
       "    .dataframe tbody tr th:only-of-type {\n",
       "        vertical-align: middle;\n",
       "    }\n",
       "\n",
       "    .dataframe tbody tr th {\n",
       "        vertical-align: top;\n",
       "    }\n",
       "\n",
       "    .dataframe thead th {\n",
       "        text-align: right;\n",
       "    }\n",
       "</style>\n",
       "<table border=\"1\" class=\"dataframe\">\n",
       "  <thead>\n",
       "    <tr style=\"text-align: right;\">\n",
       "      <th></th>\n",
       "      <th>동</th>\n",
       "      <th>강남구</th>\n",
       "      <th>강동구</th>\n",
       "      <th>강북구</th>\n",
       "      <th>강서구</th>\n",
       "      <th>관악구</th>\n",
       "      <th>광진구</th>\n",
       "      <th>구로구</th>\n",
       "      <th>금천구</th>\n",
       "      <th>노원구</th>\n",
       "      <th>...</th>\n",
       "      <th>전체동수</th>\n",
       "      <th>전체세대수</th>\n",
       "      <th>연면적</th>\n",
       "      <th>주거전용면적</th>\n",
       "      <th>관리비부과면적</th>\n",
       "      <th>전용면적별세대현황합</th>\n",
       "      <th>건축면적</th>\n",
       "      <th>주차대수</th>\n",
       "      <th>좌표X</th>\n",
       "      <th>좌표Y</th>\n",
       "    </tr>\n",
       "  </thead>\n",
       "  <tbody>\n",
       "    <tr>\n",
       "      <th>0</th>\n",
       "      <td>319</td>\n",
       "      <td>1</td>\n",
       "      <td>0</td>\n",
       "      <td>0</td>\n",
       "      <td>0</td>\n",
       "      <td>0</td>\n",
       "      <td>0</td>\n",
       "      <td>0</td>\n",
       "      <td>0</td>\n",
       "      <td>0</td>\n",
       "      <td>...</td>\n",
       "      <td>8.0</td>\n",
       "      <td>270.0</td>\n",
       "      <td>22637.0</td>\n",
       "      <td>20204.0</td>\n",
       "      <td>22637.0</td>\n",
       "      <td>520.0</td>\n",
       "      <td>4858.0</td>\n",
       "      <td>262.0</td>\n",
       "      <td>37.476156</td>\n",
       "      <td>127.057212</td>\n",
       "    </tr>\n",
       "    <tr>\n",
       "      <th>1</th>\n",
       "      <td>319</td>\n",
       "      <td>1</td>\n",
       "      <td>0</td>\n",
       "      <td>0</td>\n",
       "      <td>0</td>\n",
       "      <td>0</td>\n",
       "      <td>0</td>\n",
       "      <td>0</td>\n",
       "      <td>0</td>\n",
       "      <td>0</td>\n",
       "      <td>...</td>\n",
       "      <td>8.0</td>\n",
       "      <td>270.0</td>\n",
       "      <td>22637.0</td>\n",
       "      <td>20204.0</td>\n",
       "      <td>22637.0</td>\n",
       "      <td>520.0</td>\n",
       "      <td>4858.0</td>\n",
       "      <td>262.0</td>\n",
       "      <td>37.476156</td>\n",
       "      <td>127.057212</td>\n",
       "    </tr>\n",
       "  </tbody>\n",
       "</table>\n",
       "<p>2 rows × 88 columns</p>\n",
       "</div>"
      ],
      "text/plain": [
       "     동  강남구  강동구  강북구  강서구  관악구  광진구  구로구  금천구  노원구  ...  전체동수  전체세대수  \\\n",
       "0  319    1    0    0    0    0    0    0    0    0  ...   8.0  270.0   \n",
       "1  319    1    0    0    0    0    0    0    0    0  ...   8.0  270.0   \n",
       "\n",
       "       연면적   주거전용면적  관리비부과면적  전용면적별세대현황합    건축면적   주차대수        좌표X         좌표Y  \n",
       "0  22637.0  20204.0  22637.0       520.0  4858.0  262.0  37.476156  127.057212  \n",
       "1  22637.0  20204.0  22637.0       520.0  4858.0  262.0  37.476156  127.057212  \n",
       "\n",
       "[2 rows x 88 columns]"
      ]
     },
     "execution_count": 313,
     "metadata": {},
     "output_type": "execute_result"
    }
   ],
   "source": [
    "pre_train.head(2)"
   ]
  },
  {
   "cell_type": "code",
   "execution_count": 314,
   "metadata": {},
   "outputs": [
    {
     "data": {
      "text/html": [
       "<div>\n",
       "<style scoped>\n",
       "    .dataframe tbody tr th:only-of-type {\n",
       "        vertical-align: middle;\n",
       "    }\n",
       "\n",
       "    .dataframe tbody tr th {\n",
       "        vertical-align: top;\n",
       "    }\n",
       "\n",
       "    .dataframe thead th {\n",
       "        text-align: right;\n",
       "    }\n",
       "</style>\n",
       "<table border=\"1\" class=\"dataframe\">\n",
       "  <thead>\n",
       "    <tr style=\"text-align: right;\">\n",
       "      <th></th>\n",
       "      <th>동</th>\n",
       "      <th>강남구</th>\n",
       "      <th>강동구</th>\n",
       "      <th>강북구</th>\n",
       "      <th>강서구</th>\n",
       "      <th>관악구</th>\n",
       "      <th>광진구</th>\n",
       "      <th>구로구</th>\n",
       "      <th>금천구</th>\n",
       "      <th>노원구</th>\n",
       "      <th>...</th>\n",
       "      <th>전체동수</th>\n",
       "      <th>전체세대수</th>\n",
       "      <th>연면적</th>\n",
       "      <th>주거전용면적</th>\n",
       "      <th>관리비부과면적</th>\n",
       "      <th>전용면적별세대현황합</th>\n",
       "      <th>건축면적</th>\n",
       "      <th>주차대수</th>\n",
       "      <th>좌표X</th>\n",
       "      <th>좌표Y</th>\n",
       "    </tr>\n",
       "  </thead>\n",
       "  <tbody>\n",
       "    <tr>\n",
       "      <th>0</th>\n",
       "      <td>319</td>\n",
       "      <td>1</td>\n",
       "      <td>0</td>\n",
       "      <td>0</td>\n",
       "      <td>0</td>\n",
       "      <td>0</td>\n",
       "      <td>0</td>\n",
       "      <td>0</td>\n",
       "      <td>0</td>\n",
       "      <td>0</td>\n",
       "      <td>...</td>\n",
       "      <td>8.0</td>\n",
       "      <td>270.0</td>\n",
       "      <td>22637.0</td>\n",
       "      <td>20204.0</td>\n",
       "      <td>22637.0</td>\n",
       "      <td>520.0</td>\n",
       "      <td>4858.00</td>\n",
       "      <td>262.0</td>\n",
       "      <td>127.057210</td>\n",
       "      <td>37.476763</td>\n",
       "    </tr>\n",
       "    <tr>\n",
       "      <th>1</th>\n",
       "      <td>319</td>\n",
       "      <td>1</td>\n",
       "      <td>0</td>\n",
       "      <td>0</td>\n",
       "      <td>0</td>\n",
       "      <td>0</td>\n",
       "      <td>0</td>\n",
       "      <td>0</td>\n",
       "      <td>0</td>\n",
       "      <td>0</td>\n",
       "      <td>...</td>\n",
       "      <td>2.0</td>\n",
       "      <td>232.0</td>\n",
       "      <td>44951.0</td>\n",
       "      <td>24878.0</td>\n",
       "      <td>31174.0</td>\n",
       "      <td>696.0</td>\n",
       "      <td>2724.46</td>\n",
       "      <td>305.0</td>\n",
       "      <td>127.056394</td>\n",
       "      <td>37.484892</td>\n",
       "    </tr>\n",
       "  </tbody>\n",
       "</table>\n",
       "<p>2 rows × 88 columns</p>\n",
       "</div>"
      ],
      "text/plain": [
       "     동  강남구  강동구  강북구  강서구  관악구  광진구  구로구  금천구  노원구  ...  전체동수  전체세대수  \\\n",
       "0  319    1    0    0    0    0    0    0    0    0  ...   8.0  270.0   \n",
       "1  319    1    0    0    0    0    0    0    0    0  ...   2.0  232.0   \n",
       "\n",
       "       연면적   주거전용면적  관리비부과면적  전용면적별세대현황합     건축면적   주차대수         좌표X  \\\n",
       "0  22637.0  20204.0  22637.0       520.0  4858.00  262.0  127.057210   \n",
       "1  44951.0  24878.0  31174.0       696.0  2724.46  305.0  127.056394   \n",
       "\n",
       "         좌표Y  \n",
       "0  37.476763  \n",
       "1  37.484892  \n",
       "\n",
       "[2 rows x 88 columns]"
      ]
     },
     "execution_count": 314,
     "metadata": {},
     "output_type": "execute_result"
    }
   ],
   "source": [
    "pre_test.head(2)"
   ]
  },
  {
   "cell_type": "markdown",
   "metadata": {},
   "source": [
    "---"
   ]
  },
  {
   "cell_type": "code",
   "execution_count": 354,
   "metadata": {},
   "outputs": [],
   "source": [
    "from scipy.spatial.distance import cdist\n",
    "\n",
    "subway = pd.read_csv(\"../data/subway_feature.csv\")"
   ]
  },
  {
   "cell_type": "code",
   "execution_count": 355,
   "metadata": {},
   "outputs": [
    {
     "data": {
      "text/html": [
       "<div>\n",
       "<style scoped>\n",
       "    .dataframe tbody tr th:only-of-type {\n",
       "        vertical-align: middle;\n",
       "    }\n",
       "\n",
       "    .dataframe tbody tr th {\n",
       "        vertical-align: top;\n",
       "    }\n",
       "\n",
       "    .dataframe thead th {\n",
       "        text-align: right;\n",
       "    }\n",
       "</style>\n",
       "<table border=\"1\" class=\"dataframe\">\n",
       "  <thead>\n",
       "    <tr style=\"text-align: right;\">\n",
       "      <th></th>\n",
       "      <th>역사_ID</th>\n",
       "      <th>역사명</th>\n",
       "      <th>호선</th>\n",
       "      <th>위도</th>\n",
       "      <th>경도</th>\n",
       "    </tr>\n",
       "  </thead>\n",
       "  <tbody>\n",
       "    <tr>\n",
       "      <th>0</th>\n",
       "      <td>9996</td>\n",
       "      <td>미사</td>\n",
       "      <td>5호선</td>\n",
       "      <td>37.560927</td>\n",
       "      <td>127.193877</td>\n",
       "    </tr>\n",
       "    <tr>\n",
       "      <th>1</th>\n",
       "      <td>9995</td>\n",
       "      <td>강일</td>\n",
       "      <td>5호선</td>\n",
       "      <td>37.557490</td>\n",
       "      <td>127.175930</td>\n",
       "    </tr>\n",
       "  </tbody>\n",
       "</table>\n",
       "</div>"
      ],
      "text/plain": [
       "   역사_ID 역사명   호선         위도          경도\n",
       "0   9996  미사  5호선  37.560927  127.193877\n",
       "1   9995  강일  5호선  37.557490  127.175930"
      ]
     },
     "execution_count": 355,
     "metadata": {},
     "output_type": "execute_result"
    }
   ],
   "source": [
    "subway.head(2)"
   ]
  },
  {
   "cell_type": "code",
   "execution_count": 356,
   "metadata": {},
   "outputs": [],
   "source": [
    "# 거리 계산 (유클리드 거리 사용)\n",
    "distances = cdist(pre_train[['좌표X', '좌표Y']], subway[['위도', '경도']], metric='euclidean')\n",
    "\n",
    "# 각 행에서 가장 가까운 인덱스와 거리 추출\n",
    "closest_indices = np.argmin(distances, axis=1)\n",
    "closest_distances = np.min(distances, axis=1)\n",
    "\n",
    "# 결과를 새로운 데이터프레임에 저장\n",
    "results = pd.DataFrame({\n",
    "    'pre_train_index': range(len(pre_train)),\n",
    "    'subway_index': closest_indices,\n",
    "    'distance': closest_distances\n",
    "})"
   ]
  },
  {
   "cell_type": "code",
   "execution_count": 357,
   "metadata": {},
   "outputs": [],
   "source": [
    "pre_train['subway_distance'] = results['distance']"
   ]
  },
  {
   "cell_type": "code",
   "execution_count": 358,
   "metadata": {},
   "outputs": [
    {
     "data": {
      "text/html": [
       "<div>\n",
       "<style scoped>\n",
       "    .dataframe tbody tr th:only-of-type {\n",
       "        vertical-align: middle;\n",
       "    }\n",
       "\n",
       "    .dataframe tbody tr th {\n",
       "        vertical-align: top;\n",
       "    }\n",
       "\n",
       "    .dataframe thead th {\n",
       "        text-align: right;\n",
       "    }\n",
       "</style>\n",
       "<table border=\"1\" class=\"dataframe\">\n",
       "  <thead>\n",
       "    <tr style=\"text-align: right;\">\n",
       "      <th></th>\n",
       "      <th>pre_train_index</th>\n",
       "      <th>subway_index</th>\n",
       "      <th>distance</th>\n",
       "    </tr>\n",
       "  </thead>\n",
       "  <tbody>\n",
       "    <tr>\n",
       "      <th>0</th>\n",
       "      <td>0</td>\n",
       "      <td>619</td>\n",
       "      <td>0.010809</td>\n",
       "    </tr>\n",
       "    <tr>\n",
       "      <th>1</th>\n",
       "      <td>1</td>\n",
       "      <td>619</td>\n",
       "      <td>0.010809</td>\n",
       "    </tr>\n",
       "    <tr>\n",
       "      <th>2</th>\n",
       "      <td>2</td>\n",
       "      <td>619</td>\n",
       "      <td>0.010809</td>\n",
       "    </tr>\n",
       "    <tr>\n",
       "      <th>3</th>\n",
       "      <td>3</td>\n",
       "      <td>619</td>\n",
       "      <td>0.010809</td>\n",
       "    </tr>\n",
       "    <tr>\n",
       "      <th>4</th>\n",
       "      <td>4</td>\n",
       "      <td>619</td>\n",
       "      <td>0.010809</td>\n",
       "    </tr>\n",
       "    <tr>\n",
       "      <th>...</th>\n",
       "      <td>...</td>\n",
       "      <td>...</td>\n",
       "      <td>...</td>\n",
       "    </tr>\n",
       "    <tr>\n",
       "      <th>1116616</th>\n",
       "      <td>1116616</td>\n",
       "      <td>316</td>\n",
       "      <td>0.011771</td>\n",
       "    </tr>\n",
       "    <tr>\n",
       "      <th>1116617</th>\n",
       "      <td>1116617</td>\n",
       "      <td>316</td>\n",
       "      <td>0.011771</td>\n",
       "    </tr>\n",
       "    <tr>\n",
       "      <th>1116618</th>\n",
       "      <td>1116618</td>\n",
       "      <td>316</td>\n",
       "      <td>0.011771</td>\n",
       "    </tr>\n",
       "    <tr>\n",
       "      <th>1116619</th>\n",
       "      <td>1116619</td>\n",
       "      <td>316</td>\n",
       "      <td>0.011771</td>\n",
       "    </tr>\n",
       "    <tr>\n",
       "      <th>1116620</th>\n",
       "      <td>1116620</td>\n",
       "      <td>694</td>\n",
       "      <td>0.005784</td>\n",
       "    </tr>\n",
       "  </tbody>\n",
       "</table>\n",
       "<p>1116621 rows × 3 columns</p>\n",
       "</div>"
      ],
      "text/plain": [
       "         pre_train_index  subway_index  distance\n",
       "0                      0           619  0.010809\n",
       "1                      1           619  0.010809\n",
       "2                      2           619  0.010809\n",
       "3                      3           619  0.010809\n",
       "4                      4           619  0.010809\n",
       "...                  ...           ...       ...\n",
       "1116616          1116616           316  0.011771\n",
       "1116617          1116617           316  0.011771\n",
       "1116618          1116618           316  0.011771\n",
       "1116619          1116619           316  0.011771\n",
       "1116620          1116620           694  0.005784\n",
       "\n",
       "[1116621 rows x 3 columns]"
      ]
     },
     "execution_count": 358,
     "metadata": {},
     "output_type": "execute_result"
    }
   ],
   "source": [
    "results"
   ]
  },
  {
   "cell_type": "code",
   "execution_count": 362,
   "metadata": {},
   "outputs": [],
   "source": [
    "subway_selected = subway[['역사_ID','역사명', '호선']]"
   ]
  },
  {
   "cell_type": "code",
   "execution_count": 363,
   "metadata": {},
   "outputs": [],
   "source": [
    "subway_indices = results['subway_index'].values"
   ]
  },
  {
   "cell_type": "code",
   "execution_count": 365,
   "metadata": {},
   "outputs": [],
   "source": [
    "pre_train[['역사ID', '역사명', '호선']] = subway_selected.iloc[subway_indices].values"
   ]
  },
  {
   "cell_type": "code",
   "execution_count": 369,
   "metadata": {},
   "outputs": [],
   "source": [
    "pre_train['역사ID'] = pre_train['역사ID'].astype('int')"
   ]
  },
  {
   "cell_type": "code",
   "execution_count": 371,
   "metadata": {},
   "outputs": [],
   "source": [
    "pre_train.to_csv(\"../data/pre_train_02.csv\", index=False)"
   ]
  },
  {
   "cell_type": "code",
   "execution_count": 372,
   "metadata": {},
   "outputs": [],
   "source": [
    "subway = pd.read_csv(\"../data/subway_feature.csv\")\n",
    "\n",
    "# 거리 계산 (유클리드 거리 사용)\n",
    "distances = cdist(pre_test[['좌표X', '좌표Y']], subway[['위도', '경도']], metric='euclidean')\n",
    "\n",
    "# 각 행에서 가장 가까운 인덱스와 거리 추출\n",
    "closest_indices = np.argmin(distances, axis=1)\n",
    "closest_distances = np.min(distances, axis=1)\n",
    "\n",
    "# 결과를 새로운 데이터프레임에 저장\n",
    "results = pd.DataFrame({\n",
    "    'pre_test_index': range(len(pre_test)),\n",
    "    'subway_index': closest_indices,\n",
    "    'distance': closest_distances\n",
    "})"
   ]
  },
  {
   "cell_type": "code",
   "execution_count": 373,
   "metadata": {},
   "outputs": [],
   "source": [
    "pre_test['subway_distance'] = results['distance']"
   ]
  },
  {
   "cell_type": "code",
   "execution_count": 374,
   "metadata": {},
   "outputs": [],
   "source": [
    "subway_selected = subway[['역사_ID','역사명', '호선']]\n",
    "subway_indices = results['subway_index'].values\n",
    "pre_test[['역사ID', '역사명', '호선']] = subway_selected.iloc[subway_indices].values\n",
    "pre_test['역사ID'] = pre_test['역사ID'].astype('int')\n",
    "pre_test.to_csv(\"../data/pre_test_02.csv\", index=False)"
   ]
  },
  {
   "cell_type": "markdown",
   "metadata": {},
   "source": [
    "---"
   ]
  },
  {
   "cell_type": "code",
   "execution_count": 376,
   "metadata": {},
   "outputs": [],
   "source": [
    "# train/test 구분을 위한 칼럼을 하나 만들어 줍니다.\n",
    "pre_train['is_test'] = 0\n",
    "pre_test['is_test'] = 1\n",
    "concat = pd.concat([pre_train, pre_test])     # 하나의 데이터로 만들어줍니다."
   ]
  },
  {
   "cell_type": "code",
   "execution_count": 379,
   "metadata": {},
   "outputs": [],
   "source": [
    "concat.reset_index(drop=True, inplace=True)"
   ]
  },
  {
   "cell_type": "code",
   "execution_count": 383,
   "metadata": {},
   "outputs": [],
   "source": [
    "from sklearn.preprocessing import LabelEncoder"
   ]
  },
  {
   "cell_type": "code",
   "execution_count": 384,
   "metadata": {},
   "outputs": [],
   "source": [
    "le = LabelEncoder()"
   ]
  },
  {
   "cell_type": "code",
   "execution_count": 386,
   "metadata": {},
   "outputs": [],
   "source": [
    "concat['역사명'] = le.fit_transform(concat['역사명'])"
   ]
  },
  {
   "cell_type": "code",
   "execution_count": 390,
   "metadata": {},
   "outputs": [],
   "source": [
    "le = LabelEncoder()"
   ]
  },
  {
   "cell_type": "code",
   "execution_count": 391,
   "metadata": {},
   "outputs": [],
   "source": [
    "concat['호선'] = le.fit_transform(concat['호선'])"
   ]
  },
  {
   "cell_type": "code",
   "execution_count": 392,
   "metadata": {},
   "outputs": [],
   "source": [
    "# 이제 다시 train과 test dataset을 분할해줍니다. 위에서 제작해 놓았던 is_test 칼럼을 이용합니다.\n",
    "pre_train = concat.query('is_test==0')\n",
    "pre_test = concat.query('is_test==1')"
   ]
  },
  {
   "cell_type": "code",
   "execution_count": 393,
   "metadata": {},
   "outputs": [
    {
     "data": {
      "text/plain": [
       "(1116621, 9272)"
      ]
     },
     "execution_count": 393,
     "metadata": {},
     "output_type": "execute_result"
    }
   ],
   "source": [
    "len(pre_train) , len(pre_test)"
   ]
  },
  {
   "cell_type": "code",
   "execution_count": 394,
   "metadata": {},
   "outputs": [
    {
     "name": "stdout",
     "output_type": "stream",
     "text": [
      "(1116621, 92) (9272, 92) (1116621, 1)\n"
     ]
    },
    {
     "name": "stderr",
     "output_type": "stream",
     "text": [
      "/tmp/ipykernel_542535/1025557389.py:2: SettingWithCopyWarning: \n",
      "A value is trying to be set on a copy of a slice from a DataFrame\n",
      "\n",
      "See the caveats in the documentation: https://pandas.pydata.org/pandas-docs/stable/user_guide/indexing.html#returning-a-view-versus-a-copy\n",
      "  pre_train.drop(['is_test'], axis = 1, inplace=True)\n",
      "/tmp/ipykernel_542535/1025557389.py:3: SettingWithCopyWarning: \n",
      "A value is trying to be set on a copy of a slice from a DataFrame\n",
      "\n",
      "See the caveats in the documentation: https://pandas.pydata.org/pandas-docs/stable/user_guide/indexing.html#returning-a-view-versus-a-copy\n",
      "  pre_test.drop(['is_test'], axis = 1, inplace=True)\n"
     ]
    }
   ],
   "source": [
    "# 이제 is_test 칼럼은 drop해줍니다.\n",
    "pre_train.drop(['is_test'], axis = 1, inplace=True)\n",
    "pre_test.drop(['is_test'], axis = 1, inplace=True)\n",
    "print(pre_train.shape, pre_test.shape, y.shape)"
   ]
  },
  {
   "cell_type": "code",
   "execution_count": 395,
   "metadata": {},
   "outputs": [],
   "source": [
    "pre_train.to_csv(\"../data/pre_train_03.csv\", index=False)\n",
    "pre_test.to_csv(\"../data/pre_test_03.csv\", index=False)"
   ]
  }
 ],
 "metadata": {
  "kernelspec": {
   "display_name": "base",
   "language": "python",
   "name": "python3"
  },
  "language_info": {
   "codemirror_mode": {
    "name": "ipython",
    "version": 3
   },
   "file_extension": ".py",
   "mimetype": "text/x-python",
   "name": "python",
   "nbconvert_exporter": "python",
   "pygments_lexer": "ipython3",
   "version": "3.10.13"
  }
 },
 "nbformat": 4,
 "nbformat_minor": 2
}
