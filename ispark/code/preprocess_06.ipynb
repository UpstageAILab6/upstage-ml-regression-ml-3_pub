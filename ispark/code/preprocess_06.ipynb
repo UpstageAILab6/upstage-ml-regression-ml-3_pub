{
 "cells": [
  {
   "cell_type": "code",
   "execution_count": 80,
   "metadata": {},
   "outputs": [],
   "source": [
    "import re\n",
    "import requests\n",
    "import numpy as np\n",
    "import pandas as pd\n",
    "import seaborn as sns\n",
    "import matplotlib.pyplot as plt\n",
    "import matplotlib.font_manager as fm\n",
    "fe = fm.FontEntry(\n",
    "    fname=r'/usr/share/fonts/truetype/nanum/NanumGothic.ttf', # ttf 파일이 저장되어 있는 경로\n",
    "    name='NanumBarunGothic')                        # 이 폰트의 원하는 이름 설정\n",
    "fm.fontManager.ttflist.insert(0, fe)              # Matplotlib에 폰트 추가\n",
    "plt.rcParams.update({'font.size': 10, 'font.family': 'NanumBarunGothic'}) # 폰트 설정\n",
    "plt.rc('font', family='NanumBarunGothic')\n",
    "\n",
    "from tqdm import tqdm\n",
    "tqdm.pandas() \n",
    "\n",
    "from scipy.stats import pearsonr\n",
    "from sklearn.preprocessing import LabelEncoder"
   ]
  },
  {
   "cell_type": "code",
   "execution_count": 1723,
   "metadata": {},
   "outputs": [
    {
     "name": "stderr",
     "output_type": "stream",
     "text": [
      "/tmp/ipykernel_673659/1519268164.py:1: DtypeWarning: Columns (16,17,36) have mixed types. Specify dtype option on import or set low_memory=False.\n",
      "  train = pd.read_csv(\"../data/train.csv\")\n"
     ]
    },
    {
     "name": "stdout",
     "output_type": "stream",
     "text": [
      "1128094 1128094\n",
      "1128094 1128094\n"
     ]
    }
   ],
   "source": [
    "train = pd.read_csv(\"../data/train.csv\")\n",
    "test = pd.read_csv(\"../data/test.csv\")\n",
    "y = train['target']\n",
    "\n",
    "train.drop(columns=['target'], axis=1, inplace=True)\n",
    "# train/test 구분을 위한 칼럼을 하나 만들어 줍니다.\n",
    "train['is_test'] = 0\n",
    "test['is_test'] = 1\n",
    "\n",
    "concat = pd.concat([train, test], ignore_index=True)     # 하나의 데이터로 만들어줍니다.\n",
    "concat.reset_index(drop=True, inplace=True)\n",
    "print(len(train) + len(test), len(concat))\n",
    "\n",
    "pre_df = pd.DataFrame()\n",
    "pre_df['is_test'] = concat['is_test']\n",
    "pre_df.reset_index(drop=True, inplace=True)\n",
    "pre_train = pd.DataFrame()\n",
    "pre_test = pd.DataFrame()\n",
    "print(len(pre_df), len(concat))"
   ]
  },
  {
   "cell_type": "code",
   "execution_count": 1724,
   "metadata": {},
   "outputs": [
    {
     "data": {
      "text/plain": [
       "Index(['시군구', '번지', '본번', '부번', '아파트명', '전용면적(㎡)', '계약년월', '계약일', '층', '건축년도',\n",
       "       '도로명', '해제사유발생일', '등기신청일자', '거래유형', '중개사소재지', 'k-단지분류(아파트,주상복합등등)',\n",
       "       'k-전화번호', 'k-팩스번호', '단지소개기존clob', 'k-세대타입(분양형태)', 'k-관리방식', 'k-복도유형',\n",
       "       'k-난방방식', 'k-전체동수', 'k-전체세대수', 'k-건설사(시공사)', 'k-시행사', 'k-사용검사일-사용승인일',\n",
       "       'k-연면적', 'k-주거전용면적', 'k-관리비부과면적', 'k-전용면적별세대현황(60㎡이하)',\n",
       "       'k-전용면적별세대현황(60㎡~85㎡이하)', 'k-85㎡~135㎡이하', 'k-135㎡초과', 'k-홈페이지',\n",
       "       'k-등록일자', 'k-수정일자', '고용보험관리번호', '경비비관리형태', '세대전기계약방법', '청소비관리형태',\n",
       "       '건축면적', '주차대수', '기타/의무/임대/임의=1/2/3/4', '단지승인일', '사용허가여부', '관리비 업로드',\n",
       "       '좌표X', '좌표Y', '단지신청일', 'is_test'],\n",
       "      dtype='object')"
      ]
     },
     "execution_count": 1724,
     "metadata": {},
     "output_type": "execute_result"
    }
   ],
   "source": [
    "concat.columns"
   ]
  },
  {
   "cell_type": "markdown",
   "metadata": {},
   "source": [
    "# 번지 = 본번 + 부번"
   ]
  },
  {
   "cell_type": "code",
   "execution_count": 1725,
   "metadata": {},
   "outputs": [
    {
     "data": {
      "text/plain": [
       "번지    227\n",
       "본번     75\n",
       "부번     75\n",
       "dtype: int64"
      ]
     },
     "execution_count": 1725,
     "metadata": {},
     "output_type": "execute_result"
    }
   ],
   "source": [
    "concat[['번지', '본번','부번']].isnull().sum()"
   ]
  },
  {
   "cell_type": "code",
   "execution_count": 1726,
   "metadata": {},
   "outputs": [
    {
     "data": {
      "text/plain": [
       "75"
      ]
     },
     "execution_count": 1726,
     "metadata": {},
     "output_type": "execute_result"
    }
   ],
   "source": [
    "# 번지, 본번, 부번 컬럼이 전부 NAN값인 개수\n",
    "len(concat[concat[['번지', '본번','부번']].isna().all(axis=1)].index)"
   ]
  },
  {
   "cell_type": "code",
   "execution_count": 1727,
   "metadata": {},
   "outputs": [],
   "source": [
    "address_nan = concat[concat[['번지', '본번','부번']].isna().all(axis=1)].index"
   ]
  },
  {
   "cell_type": "code",
   "execution_count": 1728,
   "metadata": {},
   "outputs": [
    {
     "data": {
      "text/plain": [
       "0    75\n",
       "Name: is_test, dtype: int64"
      ]
     },
     "execution_count": 1728,
     "metadata": {},
     "output_type": "execute_result"
    }
   ],
   "source": [
    "# 전부 train data에만 있는 것을 확인\n",
    "concat.iloc[address_nan]['is_test'].value_counts() "
   ]
  },
  {
   "cell_type": "code",
   "execution_count": 1729,
   "metadata": {},
   "outputs": [],
   "source": [
    "concat.drop(address_nan, inplace=True)\n",
    "concat = concat.reset_index(drop=True)\n",
    "\n",
    "pre_df.drop(address_nan, inplace=True)\n",
    "pre_df = pre_df.reset_index(drop=True)\n",
    "\n",
    "y.drop(address_nan, inplace=True)\n",
    "y = y.reset_index(drop=True)"
   ]
  },
  {
   "cell_type": "code",
   "execution_count": 1730,
   "metadata": {},
   "outputs": [
    {
     "data": {
      "text/plain": [
       "(1128019, 1128019, 1118747, 1118747)"
      ]
     },
     "execution_count": 1730,
     "metadata": {},
     "output_type": "execute_result"
    }
   ],
   "source": [
    "len(concat), len(pre_df), len(concat.query('is_test==0')), len(pre_df.query('is_test==0'))"
   ]
  },
  {
   "cell_type": "code",
   "execution_count": 1731,
   "metadata": {},
   "outputs": [
    {
     "data": {
      "text/plain": [
       "번지    152\n",
       "본번      0\n",
       "부번      0\n",
       "dtype: int64"
      ]
     },
     "execution_count": 1731,
     "metadata": {},
     "output_type": "execute_result"
    }
   ],
   "source": [
    "concat[['번지', '본번','부번']].isnull().sum()"
   ]
  },
  {
   "cell_type": "code",
   "execution_count": 1732,
   "metadata": {},
   "outputs": [],
   "source": [
    "pre_df['본번'] = concat['본번']\n",
    "pre_df['부번'] = concat['부번']"
   ]
  },
  {
   "cell_type": "code",
   "execution_count": 1733,
   "metadata": {},
   "outputs": [],
   "source": [
    "concat.drop(columns = ['본번', '부번', '번지'], axis=1, inplace=True)"
   ]
  },
  {
   "cell_type": "markdown",
   "metadata": {},
   "source": [
    "# X, Y 좌표"
   ]
  },
  {
   "cell_type": "code",
   "execution_count": 1734,
   "metadata": {},
   "outputs": [],
   "source": [
    "pre_df['시군구'] = concat['시군구']\n",
    "\n",
    "pre_df[['본번', '부번']] = pre_df[['본번', '부번']].astype(int)\n",
    "pre_df[['본번', '부번']] = pre_df[['본번', '부번']].astype(int)"
   ]
  },
  {
   "cell_type": "code",
   "execution_count": 1735,
   "metadata": {},
   "outputs": [],
   "source": [
    "api_key = '68ea765cd9f5c429a1fa932481c8c151'"
   ]
  },
  {
   "cell_type": "code",
   "execution_count": 1736,
   "metadata": {},
   "outputs": [],
   "source": [
    "def get_coordinates_with_fallback(region, bonbun, bubun, api_key):\n",
    "    \"\"\"\n",
    "    주소를 단계적으로 축소해가며 좌표를 검색합니다.\n",
    "    \n",
    "    Parameters:\n",
    "    - region (str): 행정구역 (시/도 + 구/군 + 읍/면/동)\n",
    "    - bonbun (int): 본번\n",
    "    - bubun (int): 부번\n",
    "    - api_key (str): Kakao Maps REST API 키\n",
    "    \n",
    "    Returns:\n",
    "    - tuple: (latitude, longitude) 또는 None (오류 시)\n",
    "    \"\"\"\n",
    "    # 주소를 축소하는 순서대로 리스트 생성\n",
    "    addresses = []\n",
    "    # if bubun > 0:\n",
    "    addresses.append(f\"{region} {bonbun}-{bubun}\")  # 본번과 부번 포함\n",
    "    addresses.append(f\"{region} {bonbun}\")  # 본번만 포함\n",
    "    addresses.append(region)  # 행정구역만 포함\n",
    "\n",
    "    url = \"https://dapi.kakao.com/v2/local/search/address.json\"\n",
    "    headers = {\"Authorization\": f\"KakaoAK {api_key}\"}\n",
    "\n",
    "    for address in addresses:\n",
    "        params = {\"query\": address}\n",
    "        try:\n",
    "            response = requests.get(url, headers=headers, params=params)\n",
    "            response.raise_for_status()\n",
    "            result = response.json()\n",
    "\n",
    "            if result[\"documents\"]:\n",
    "                # 첫 번째 결과의 좌표 반환\n",
    "                x = result[\"documents\"][0][\"x\"]  # 경도\n",
    "                y = result[\"documents\"][0][\"y\"]  # 위도\n",
    "                # print(f\"주소 검색 성공: {address}\")\n",
    "                return float(y), float(x)\n",
    "            else:\n",
    "                # print(f\"주소를 찾을 수 없습니다: {address}\")\n",
    "                pass\n",
    "\n",
    "        except requests.exceptions.HTTPError as e:\n",
    "            print(f\"HTTP 오류 발생: {e}\")\n",
    "        except Exception as e:\n",
    "            print(f\"기타 오류 발생: {e}\")\n",
    "    \n",
    "    # 모든 시도가 실패하면 None 반환\n",
    "    return None"
   ]
  },
  {
   "cell_type": "code",
   "execution_count": 1737,
   "metadata": {},
   "outputs": [
    {
     "data": {
      "text/html": [
       "<div>\n",
       "<style scoped>\n",
       "    .dataframe tbody tr th:only-of-type {\n",
       "        vertical-align: middle;\n",
       "    }\n",
       "\n",
       "    .dataframe tbody tr th {\n",
       "        vertical-align: top;\n",
       "    }\n",
       "\n",
       "    .dataframe thead th {\n",
       "        text-align: right;\n",
       "    }\n",
       "</style>\n",
       "<table border=\"1\" class=\"dataframe\">\n",
       "  <thead>\n",
       "    <tr style=\"text-align: right;\">\n",
       "      <th></th>\n",
       "      <th>시군구</th>\n",
       "      <th>본번</th>\n",
       "      <th>부번</th>\n",
       "    </tr>\n",
       "  </thead>\n",
       "  <tbody>\n",
       "    <tr>\n",
       "      <th>0</th>\n",
       "      <td>서울특별시 강남구 개포동</td>\n",
       "      <td>658</td>\n",
       "      <td>1</td>\n",
       "    </tr>\n",
       "    <tr>\n",
       "      <th>12</th>\n",
       "      <td>서울특별시 강남구 개포동</td>\n",
       "      <td>652</td>\n",
       "      <td>0</td>\n",
       "    </tr>\n",
       "    <tr>\n",
       "      <th>25</th>\n",
       "      <td>서울특별시 강남구 개포동</td>\n",
       "      <td>12</td>\n",
       "      <td>2</td>\n",
       "    </tr>\n",
       "    <tr>\n",
       "      <th>38</th>\n",
       "      <td>서울특별시 강남구 개포동</td>\n",
       "      <td>141</td>\n",
       "      <td>0</td>\n",
       "    </tr>\n",
       "    <tr>\n",
       "      <th>204</th>\n",
       "      <td>서울특별시 강남구 개포동</td>\n",
       "      <td>187</td>\n",
       "      <td>0</td>\n",
       "    </tr>\n",
       "    <tr>\n",
       "      <th>...</th>\n",
       "      <td>...</td>\n",
       "      <td>...</td>\n",
       "      <td>...</td>\n",
       "    </tr>\n",
       "    <tr>\n",
       "      <th>1123328</th>\n",
       "      <td>서울특별시 동작구 흑석동</td>\n",
       "      <td>253</td>\n",
       "      <td>89</td>\n",
       "    </tr>\n",
       "    <tr>\n",
       "      <th>1123485</th>\n",
       "      <td>서울특별시 마포구 신수동</td>\n",
       "      <td>400</td>\n",
       "      <td>1</td>\n",
       "    </tr>\n",
       "    <tr>\n",
       "      <th>1124834</th>\n",
       "      <td>서울특별시 성동구 송정동</td>\n",
       "      <td>67</td>\n",
       "      <td>5</td>\n",
       "    </tr>\n",
       "    <tr>\n",
       "      <th>1127627</th>\n",
       "      <td>서울특별시 중구 인현동2가</td>\n",
       "      <td>240</td>\n",
       "      <td>0</td>\n",
       "    </tr>\n",
       "    <tr>\n",
       "      <th>1127797</th>\n",
       "      <td>서울특별시 중구 입정동</td>\n",
       "      <td>277</td>\n",
       "      <td>0</td>\n",
       "    </tr>\n",
       "  </tbody>\n",
       "</table>\n",
       "<p>8954 rows × 3 columns</p>\n",
       "</div>"
      ],
      "text/plain": [
       "                    시군구   본번  부번\n",
       "0         서울특별시 강남구 개포동  658   1\n",
       "12        서울특별시 강남구 개포동  652   0\n",
       "25        서울특별시 강남구 개포동   12   2\n",
       "38        서울특별시 강남구 개포동  141   0\n",
       "204       서울특별시 강남구 개포동  187   0\n",
       "...                 ...  ...  ..\n",
       "1123328   서울특별시 동작구 흑석동  253  89\n",
       "1123485   서울특별시 마포구 신수동  400   1\n",
       "1124834   서울특별시 성동구 송정동   67   5\n",
       "1127627  서울특별시 중구 인현동2가  240   0\n",
       "1127797    서울특별시 중구 입정동  277   0\n",
       "\n",
       "[8954 rows x 3 columns]"
      ]
     },
     "execution_count": 1737,
     "metadata": {},
     "output_type": "execute_result"
    }
   ],
   "source": [
    "unique_addresses = pre_df[['시군구', '본번', '부번']].drop_duplicates()\n",
    "unique_addresses"
   ]
  },
  {
   "cell_type": "code",
   "execution_count": 1738,
   "metadata": {},
   "outputs": [
    {
     "name": "stderr",
     "output_type": "stream",
     "text": [
      "100%|██████████| 8954/8954 [10:50<00:00, 13.75it/s]\n"
     ]
    }
   ],
   "source": [
    "unique_addresses['coordinates'] = unique_addresses.progress_apply(\n",
    "    lambda row: get_coordinates_with_fallback(row['시군구'], row['본번'], row['부번'], api_key=api_key), axis=1\n",
    ")"
   ]
  },
  {
   "cell_type": "code",
   "execution_count": 1739,
   "metadata": {},
   "outputs": [
    {
     "data": {
      "text/html": [
       "<div>\n",
       "<style scoped>\n",
       "    .dataframe tbody tr th:only-of-type {\n",
       "        vertical-align: middle;\n",
       "    }\n",
       "\n",
       "    .dataframe tbody tr th {\n",
       "        vertical-align: top;\n",
       "    }\n",
       "\n",
       "    .dataframe thead th {\n",
       "        text-align: right;\n",
       "    }\n",
       "</style>\n",
       "<table border=\"1\" class=\"dataframe\">\n",
       "  <thead>\n",
       "    <tr style=\"text-align: right;\">\n",
       "      <th></th>\n",
       "      <th>is_test</th>\n",
       "      <th>본번</th>\n",
       "      <th>부번</th>\n",
       "      <th>시군구</th>\n",
       "      <th>coordinates</th>\n",
       "    </tr>\n",
       "  </thead>\n",
       "  <tbody>\n",
       "    <tr>\n",
       "      <th>0</th>\n",
       "      <td>0</td>\n",
       "      <td>658</td>\n",
       "      <td>1</td>\n",
       "      <td>서울특별시 강남구 개포동</td>\n",
       "      <td>(37.4761560791019, 127.05721239635)</td>\n",
       "    </tr>\n",
       "    <tr>\n",
       "      <th>1</th>\n",
       "      <td>0</td>\n",
       "      <td>658</td>\n",
       "      <td>1</td>\n",
       "      <td>서울특별시 강남구 개포동</td>\n",
       "      <td>(37.4761560791019, 127.05721239635)</td>\n",
       "    </tr>\n",
       "    <tr>\n",
       "      <th>2</th>\n",
       "      <td>0</td>\n",
       "      <td>658</td>\n",
       "      <td>1</td>\n",
       "      <td>서울특별시 강남구 개포동</td>\n",
       "      <td>(37.4761560791019, 127.05721239635)</td>\n",
       "    </tr>\n",
       "    <tr>\n",
       "      <th>3</th>\n",
       "      <td>0</td>\n",
       "      <td>658</td>\n",
       "      <td>1</td>\n",
       "      <td>서울특별시 강남구 개포동</td>\n",
       "      <td>(37.4761560791019, 127.05721239635)</td>\n",
       "    </tr>\n",
       "    <tr>\n",
       "      <th>4</th>\n",
       "      <td>0</td>\n",
       "      <td>658</td>\n",
       "      <td>1</td>\n",
       "      <td>서울특별시 강남구 개포동</td>\n",
       "      <td>(37.4761560791019, 127.05721239635)</td>\n",
       "    </tr>\n",
       "  </tbody>\n",
       "</table>\n",
       "</div>"
      ],
      "text/plain": [
       "   is_test   본번  부번            시군구                          coordinates\n",
       "0        0  658   1  서울특별시 강남구 개포동  (37.4761560791019, 127.05721239635)\n",
       "1        0  658   1  서울특별시 강남구 개포동  (37.4761560791019, 127.05721239635)\n",
       "2        0  658   1  서울특별시 강남구 개포동  (37.4761560791019, 127.05721239635)\n",
       "3        0  658   1  서울특별시 강남구 개포동  (37.4761560791019, 127.05721239635)\n",
       "4        0  658   1  서울특별시 강남구 개포동  (37.4761560791019, 127.05721239635)"
      ]
     },
     "execution_count": 1739,
     "metadata": {},
     "output_type": "execute_result"
    }
   ],
   "source": [
    "# 원본 데이터와 병합\n",
    "pre_df = pre_df.merge(unique_addresses, on=['시군구', '본번', '부번'], how='left')\n",
    "pre_df.head()"
   ]
  },
  {
   "cell_type": "code",
   "execution_count": 1740,
   "metadata": {},
   "outputs": [
    {
     "data": {
      "text/html": [
       "<div>\n",
       "<style scoped>\n",
       "    .dataframe tbody tr th:only-of-type {\n",
       "        vertical-align: middle;\n",
       "    }\n",
       "\n",
       "    .dataframe tbody tr th {\n",
       "        vertical-align: top;\n",
       "    }\n",
       "\n",
       "    .dataframe thead th {\n",
       "        text-align: right;\n",
       "    }\n",
       "</style>\n",
       "<table border=\"1\" class=\"dataframe\">\n",
       "  <thead>\n",
       "    <tr style=\"text-align: right;\">\n",
       "      <th></th>\n",
       "      <th>is_test</th>\n",
       "      <th>본번</th>\n",
       "      <th>부번</th>\n",
       "      <th>시군구</th>\n",
       "      <th>coordinates</th>\n",
       "      <th>좌표Y</th>\n",
       "      <th>좌표X</th>\n",
       "    </tr>\n",
       "  </thead>\n",
       "  <tbody>\n",
       "    <tr>\n",
       "      <th>0</th>\n",
       "      <td>0</td>\n",
       "      <td>658</td>\n",
       "      <td>1</td>\n",
       "      <td>서울특별시 강남구 개포동</td>\n",
       "      <td>(37.4761560791019, 127.05721239635)</td>\n",
       "      <td>37.476156</td>\n",
       "      <td>127.057212</td>\n",
       "    </tr>\n",
       "    <tr>\n",
       "      <th>1</th>\n",
       "      <td>0</td>\n",
       "      <td>658</td>\n",
       "      <td>1</td>\n",
       "      <td>서울특별시 강남구 개포동</td>\n",
       "      <td>(37.4761560791019, 127.05721239635)</td>\n",
       "      <td>37.476156</td>\n",
       "      <td>127.057212</td>\n",
       "    </tr>\n",
       "    <tr>\n",
       "      <th>2</th>\n",
       "      <td>0</td>\n",
       "      <td>658</td>\n",
       "      <td>1</td>\n",
       "      <td>서울특별시 강남구 개포동</td>\n",
       "      <td>(37.4761560791019, 127.05721239635)</td>\n",
       "      <td>37.476156</td>\n",
       "      <td>127.057212</td>\n",
       "    </tr>\n",
       "    <tr>\n",
       "      <th>3</th>\n",
       "      <td>0</td>\n",
       "      <td>658</td>\n",
       "      <td>1</td>\n",
       "      <td>서울특별시 강남구 개포동</td>\n",
       "      <td>(37.4761560791019, 127.05721239635)</td>\n",
       "      <td>37.476156</td>\n",
       "      <td>127.057212</td>\n",
       "    </tr>\n",
       "    <tr>\n",
       "      <th>4</th>\n",
       "      <td>0</td>\n",
       "      <td>658</td>\n",
       "      <td>1</td>\n",
       "      <td>서울특별시 강남구 개포동</td>\n",
       "      <td>(37.4761560791019, 127.05721239635)</td>\n",
       "      <td>37.476156</td>\n",
       "      <td>127.057212</td>\n",
       "    </tr>\n",
       "  </tbody>\n",
       "</table>\n",
       "</div>"
      ],
      "text/plain": [
       "   is_test   본번  부번            시군구                          coordinates  \\\n",
       "0        0  658   1  서울특별시 강남구 개포동  (37.4761560791019, 127.05721239635)   \n",
       "1        0  658   1  서울특별시 강남구 개포동  (37.4761560791019, 127.05721239635)   \n",
       "2        0  658   1  서울특별시 강남구 개포동  (37.4761560791019, 127.05721239635)   \n",
       "3        0  658   1  서울특별시 강남구 개포동  (37.4761560791019, 127.05721239635)   \n",
       "4        0  658   1  서울특별시 강남구 개포동  (37.4761560791019, 127.05721239635)   \n",
       "\n",
       "         좌표Y         좌표X  \n",
       "0  37.476156  127.057212  \n",
       "1  37.476156  127.057212  \n",
       "2  37.476156  127.057212  \n",
       "3  37.476156  127.057212  \n",
       "4  37.476156  127.057212  "
      ]
     },
     "execution_count": 1740,
     "metadata": {},
     "output_type": "execute_result"
    }
   ],
   "source": [
    "pre_df['좌표Y'] = pre_df['coordinates'].astype('str').str.split(',', expand=True)[0].str.split('(', expand=True)[1].astype('float')\n",
    "pre_df['좌표X'] = pre_df['coordinates'].astype('str').str.split(',', expand=True)[1].str.split(')', expand=True)[0].astype('float')\n",
    "pre_df.head()"
   ]
  },
  {
   "cell_type": "code",
   "execution_count": 1741,
   "metadata": {},
   "outputs": [],
   "source": [
    "pre_df.drop(columns=['coordinates'], axis=1, inplace=True)"
   ]
  },
  {
   "cell_type": "code",
   "execution_count": 1742,
   "metadata": {},
   "outputs": [
    {
     "data": {
      "text/plain": [
       "is_test    0\n",
       "본번         0\n",
       "부번         0\n",
       "시군구        0\n",
       "좌표Y        0\n",
       "좌표X        0\n",
       "dtype: int64"
      ]
     },
     "execution_count": 1742,
     "metadata": {},
     "output_type": "execute_result"
    }
   ],
   "source": [
    "pre_df.isnull().sum()"
   ]
  },
  {
   "cell_type": "code",
   "execution_count": 1743,
   "metadata": {},
   "outputs": [],
   "source": [
    "concat.drop(columns = ['좌표X', '좌표Y'], axis=1, inplace=True)"
   ]
  },
  {
   "cell_type": "markdown",
   "metadata": {},
   "source": [
    "pre_df.to_csv('../data/dump/pre_df.csv', index=False)    \n",
    "concat.to_csv('../data/dump/concat.csv', index=False)    \n",
    "y.to_csv('../data/dump/y.csv', index=False)    "
   ]
  },
  {
   "cell_type": "code",
   "execution_count": 1747,
   "metadata": {},
   "outputs": [
    {
     "data": {
      "text/plain": [
       "<matplotlib.collections.PathCollection at 0x7f5e3b7906a0>"
      ]
     },
     "execution_count": 1747,
     "metadata": {},
     "output_type": "execute_result"
    },
    {
     "data": {
      "image/png": "[encoded data removed]",
      "text/plain": [
       "<Figure size 640x480 with 1 Axes>"
      ]
     },
     "metadata": {},
     "output_type": "display_data"
    }
   ],
   "source": [
    "plt.scatter(pre_df['좌표X'], pre_df['좌표Y'])"
   ]
  },
  {
   "cell_type": "code",
   "execution_count": 2974,
   "metadata": {},
   "outputs": [
    {
     "name": "stderr",
     "output_type": "stream",
     "text": [
      "/tmp/ipykernel_673659/3990387966.py:2: DtypeWarning: Columns (13,14,33) have mixed types. Specify dtype option on import or set low_memory=False.\n",
      "  concat = pd.read_csv(\"../data/dump/concat.csv\")\n"
     ]
    }
   ],
   "source": [
    "pre_df = pd.read_csv(\"../data/dump/pre_df.csv\")\n",
    "concat = pd.read_csv(\"../data/dump/concat.csv\")\n",
    "y = pd.read_csv(\"../data/dump/y.csv\")"
   ]
  },
  {
   "cell_type": "markdown",
   "metadata": {},
   "source": [
    "# 시군구"
   ]
  },
  {
   "cell_type": "code",
   "execution_count": 2975,
   "metadata": {},
   "outputs": [
    {
     "data": {
      "text/html": [
       "<div>\n",
       "<style scoped>\n",
       "    .dataframe tbody tr th:only-of-type {\n",
       "        vertical-align: middle;\n",
       "    }\n",
       "\n",
       "    .dataframe tbody tr th {\n",
       "        vertical-align: top;\n",
       "    }\n",
       "\n",
       "    .dataframe thead th {\n",
       "        text-align: right;\n",
       "    }\n",
       "</style>\n",
       "<table border=\"1\" class=\"dataframe\">\n",
       "  <thead>\n",
       "    <tr style=\"text-align: right;\">\n",
       "      <th></th>\n",
       "      <th>is_test</th>\n",
       "      <th>본번</th>\n",
       "      <th>부번</th>\n",
       "      <th>시군구</th>\n",
       "      <th>좌표Y</th>\n",
       "      <th>좌표X</th>\n",
       "    </tr>\n",
       "  </thead>\n",
       "  <tbody>\n",
       "    <tr>\n",
       "      <th>0</th>\n",
       "      <td>0</td>\n",
       "      <td>658</td>\n",
       "      <td>1</td>\n",
       "      <td>서울특별시 강남구 개포동</td>\n",
       "      <td>37.476156</td>\n",
       "      <td>127.057212</td>\n",
       "    </tr>\n",
       "    <tr>\n",
       "      <th>1</th>\n",
       "      <td>0</td>\n",
       "      <td>658</td>\n",
       "      <td>1</td>\n",
       "      <td>서울특별시 강남구 개포동</td>\n",
       "      <td>37.476156</td>\n",
       "      <td>127.057212</td>\n",
       "    </tr>\n",
       "    <tr>\n",
       "      <th>2</th>\n",
       "      <td>0</td>\n",
       "      <td>658</td>\n",
       "      <td>1</td>\n",
       "      <td>서울특별시 강남구 개포동</td>\n",
       "      <td>37.476156</td>\n",
       "      <td>127.057212</td>\n",
       "    </tr>\n",
       "    <tr>\n",
       "      <th>3</th>\n",
       "      <td>0</td>\n",
       "      <td>658</td>\n",
       "      <td>1</td>\n",
       "      <td>서울특별시 강남구 개포동</td>\n",
       "      <td>37.476156</td>\n",
       "      <td>127.057212</td>\n",
       "    </tr>\n",
       "    <tr>\n",
       "      <th>4</th>\n",
       "      <td>0</td>\n",
       "      <td>658</td>\n",
       "      <td>1</td>\n",
       "      <td>서울특별시 강남구 개포동</td>\n",
       "      <td>37.476156</td>\n",
       "      <td>127.057212</td>\n",
       "    </tr>\n",
       "  </tbody>\n",
       "</table>\n",
       "</div>"
      ],
      "text/plain": [
       "   is_test   본번  부번            시군구        좌표Y         좌표X\n",
       "0        0  658   1  서울특별시 강남구 개포동  37.476156  127.057212\n",
       "1        0  658   1  서울특별시 강남구 개포동  37.476156  127.057212\n",
       "2        0  658   1  서울특별시 강남구 개포동  37.476156  127.057212\n",
       "3        0  658   1  서울특별시 강남구 개포동  37.476156  127.057212\n",
       "4        0  658   1  서울특별시 강남구 개포동  37.476156  127.057212"
      ]
     },
     "execution_count": 2975,
     "metadata": {},
     "output_type": "execute_result"
    }
   ],
   "source": [
    "pre_df.head()"
   ]
  },
  {
   "cell_type": "code",
   "execution_count": 2976,
   "metadata": {},
   "outputs": [],
   "source": [
    "pre_df['시'] = pre_df['시군구'].str.split(' ', expand=True)[0]\n",
    "pre_df['구'] = pre_df['시군구'].str.split(' ', expand=True)[1]\n",
    "pre_df['동'] = pre_df['시군구'].str.split(' ', expand=True)[2]"
   ]
  },
  {
   "cell_type": "code",
   "execution_count": 2977,
   "metadata": {},
   "outputs": [],
   "source": [
    "pre_df.drop(columns=['시군구'], axis=1 , inplace=True)\n",
    "concat.drop(columns=['시군구'], axis=1 , inplace=True)"
   ]
  },
  {
   "cell_type": "markdown",
   "metadata": {},
   "source": [
    "## 시"
   ]
  },
  {
   "cell_type": "code",
   "execution_count": 2978,
   "metadata": {},
   "outputs": [
    {
     "data": {
      "text/plain": [
       "서울특별시    1128019\n",
       "Name: 시, dtype: int64"
      ]
     },
     "execution_count": 2978,
     "metadata": {},
     "output_type": "execute_result"
    }
   ],
   "source": [
    "pre_df['시'].value_counts()"
   ]
  },
  {
   "cell_type": "code",
   "execution_count": 2979,
   "metadata": {},
   "outputs": [],
   "source": [
    "pre_df.drop(columns=['시'], axis=1, inplace=True)"
   ]
  },
  {
   "cell_type": "markdown",
   "metadata": {},
   "source": [
    "## 구"
   ]
  },
  {
   "cell_type": "code",
   "execution_count": 2980,
   "metadata": {},
   "outputs": [
    {
     "data": {
      "text/plain": [
       "0"
      ]
     },
     "execution_count": 2980,
     "metadata": {},
     "output_type": "execute_result"
    }
   ],
   "source": [
    "pre_df['구'].isnull().sum()"
   ]
  },
  {
   "cell_type": "code",
   "execution_count": 2981,
   "metadata": {},
   "outputs": [
    {
     "data": {
      "text/plain": [
       "노원구     115837\n",
       "송파구      74444\n",
       "강남구      69656\n",
       "강서구      67041\n",
       "강동구      62425\n",
       "구로구      57983\n",
       "성북구      57160\n",
       "양천구      54441\n",
       "서초구      53478\n",
       "도봉구      52872\n",
       "영등포구     48097\n",
       "동작구      40867\n",
       "마포구      40810\n",
       "동대문구     40068\n",
       "성동구      39831\n",
       "은평구      38664\n",
       "중랑구      37303\n",
       "관악구      36243\n",
       "서대문구     33272\n",
       "광진구      22252\n",
       "강북구      22137\n",
       "용산구      20682\n",
       "금천구      19738\n",
       "중구       13534\n",
       "종로구       9184\n",
       "Name: 구, dtype: int64"
      ]
     },
     "execution_count": 2981,
     "metadata": {},
     "output_type": "execute_result"
    }
   ],
   "source": [
    "pre_df['구'].value_counts()"
   ]
  },
  {
   "cell_type": "code",
   "execution_count": 2982,
   "metadata": {},
   "outputs": [],
   "source": [
    "pre_df = pd.concat([pre_df, pd.get_dummies(pre_df['구'])], axis=1)"
   ]
  },
  {
   "cell_type": "code",
   "execution_count": 2983,
   "metadata": {},
   "outputs": [],
   "source": [
    "pre_df.drop(columns=['구'], axis=1, inplace=True)"
   ]
  },
  {
   "cell_type": "markdown",
   "metadata": {},
   "source": [
    "## 동"
   ]
  },
  {
   "cell_type": "code",
   "execution_count": 2984,
   "metadata": {},
   "outputs": [
    {
     "data": {
      "text/plain": [
       "0"
      ]
     },
     "execution_count": 2984,
     "metadata": {},
     "output_type": "execute_result"
    }
   ],
   "source": [
    "pre_df['동'].isnull().sum()"
   ]
  },
  {
   "cell_type": "code",
   "execution_count": 2985,
   "metadata": {},
   "outputs": [
    {
     "data": {
      "text/plain": [
       "상계동     45232\n",
       "중계동     26524\n",
       "신정동     24240\n",
       "창동      23222\n",
       "구로동     22941\n",
       "        ...  \n",
       "필동1가        6\n",
       "주성동         5\n",
       "연지동         4\n",
       "입정동         3\n",
       "구수동         3\n",
       "Name: 동, Length: 337, dtype: int64"
      ]
     },
     "execution_count": 2985,
     "metadata": {},
     "output_type": "execute_result"
    }
   ],
   "source": [
    "pre_df['동'].value_counts()"
   ]
  },
  {
   "cell_type": "code",
   "execution_count": 2986,
   "metadata": {},
   "outputs": [
    {
     "data": {
      "text/plain": [
       "상계동    45232\n",
       "중계동    26524\n",
       "신정동    24240\n",
       "창동     23222\n",
       "구로동    22941\n",
       "       ...  \n",
       "누상동        8\n",
       "주성동        5\n",
       "연지동        4\n",
       "입정동        3\n",
       "구수동        3\n",
       "Name: 동, Length: 279, dtype: int64"
      ]
     },
     "execution_count": 2986,
     "metadata": {},
     "output_type": "execute_result"
    }
   ],
   "source": [
    "pre_df['동'].apply(lambda x: re.split(r'\\d', x, maxsplit=1)[0]).value_counts()"
   ]
  },
  {
   "cell_type": "code",
   "execution_count": 2987,
   "metadata": {},
   "outputs": [],
   "source": [
    "pre_df['동'] = pre_df['동'].apply(lambda x: re.split(r'\\d', x, maxsplit=1)[0])"
   ]
  },
  {
   "cell_type": "code",
   "execution_count": 2988,
   "metadata": {},
   "outputs": [
    {
     "name": "stdout",
     "output_type": "stream",
     "text": [
      "PearsonRResult(statistic=-0.1570008475900332, pvalue=0.0)\n",
      "PearsonRResult(statistic=0.00309354441085033, pvalue=0.0010676238571287273)\n"
     ]
    },
    {
     "name": "stderr",
     "output_type": "stream",
     "text": [
      "/tmp/ipykernel_673659/157625362.py:8: SettingWithCopyWarning: \n",
      "A value is trying to be set on a copy of a slice from a DataFrame.\n",
      "Try using .loc[row_indexer,col_indexer] = value instead\n",
      "\n",
      "See the caveats in the documentation: https://pandas.pydata.org/pandas-docs/stable/user_guide/indexing.html#returning-a-view-versus-a-copy\n",
      "  tmp['y'] = y\n"
     ]
    }
   ],
   "source": [
    "value_counts = pre_df['동'].value_counts()\n",
    "pre_df['빈도수_동'] = pre_df['동'].map(value_counts)\n",
    "\n",
    "le = LabelEncoder()\n",
    "pre_df['le_동'] = le.fit_transform(pre_df['동'])\n",
    "\n",
    "tmp = pre_df.query('is_test==0')\n",
    "tmp['y'] = y\n",
    "\n",
    "print(pearsonr(tmp['빈도수_동'], tmp['y']))\n",
    "print(pearsonr(tmp['le_동'], tmp['y']))"
   ]
  },
  {
   "cell_type": "code",
   "execution_count": 2989,
   "metadata": {},
   "outputs": [],
   "source": [
    "pre_df['동'] = pre_df['빈도수_동']\n",
    "\n",
    "pre_df.drop(columns=['빈도수_동', 'le_동'], axis=1, inplace=True)"
   ]
  },
  {
   "cell_type": "code",
   "execution_count": 2990,
   "metadata": {},
   "outputs": [
    {
     "data": {
      "text/html": [
       "<div>\n",
       "<style scoped>\n",
       "    .dataframe tbody tr th:only-of-type {\n",
       "        vertical-align: middle;\n",
       "    }\n",
       "\n",
       "    .dataframe tbody tr th {\n",
       "        vertical-align: top;\n",
       "    }\n",
       "\n",
       "    .dataframe thead th {\n",
       "        text-align: right;\n",
       "    }\n",
       "</style>\n",
       "<table border=\"1\" class=\"dataframe\">\n",
       "  <thead>\n",
       "    <tr style=\"text-align: right;\">\n",
       "      <th></th>\n",
       "      <th>is_test</th>\n",
       "      <th>본번</th>\n",
       "      <th>부번</th>\n",
       "      <th>좌표Y</th>\n",
       "      <th>좌표X</th>\n",
       "      <th>동</th>\n",
       "      <th>강남구</th>\n",
       "      <th>강동구</th>\n",
       "      <th>강북구</th>\n",
       "      <th>강서구</th>\n",
       "      <th>...</th>\n",
       "      <th>성동구</th>\n",
       "      <th>성북구</th>\n",
       "      <th>송파구</th>\n",
       "      <th>양천구</th>\n",
       "      <th>영등포구</th>\n",
       "      <th>용산구</th>\n",
       "      <th>은평구</th>\n",
       "      <th>종로구</th>\n",
       "      <th>중구</th>\n",
       "      <th>중랑구</th>\n",
       "    </tr>\n",
       "  </thead>\n",
       "  <tbody>\n",
       "    <tr>\n",
       "      <th>0</th>\n",
       "      <td>0</td>\n",
       "      <td>658</td>\n",
       "      <td>1</td>\n",
       "      <td>37.476156</td>\n",
       "      <td>127.057212</td>\n",
       "      <td>12309</td>\n",
       "      <td>1</td>\n",
       "      <td>0</td>\n",
       "      <td>0</td>\n",
       "      <td>0</td>\n",
       "      <td>...</td>\n",
       "      <td>0</td>\n",
       "      <td>0</td>\n",
       "      <td>0</td>\n",
       "      <td>0</td>\n",
       "      <td>0</td>\n",
       "      <td>0</td>\n",
       "      <td>0</td>\n",
       "      <td>0</td>\n",
       "      <td>0</td>\n",
       "      <td>0</td>\n",
       "    </tr>\n",
       "    <tr>\n",
       "      <th>1</th>\n",
       "      <td>0</td>\n",
       "      <td>658</td>\n",
       "      <td>1</td>\n",
       "      <td>37.476156</td>\n",
       "      <td>127.057212</td>\n",
       "      <td>12309</td>\n",
       "      <td>1</td>\n",
       "      <td>0</td>\n",
       "      <td>0</td>\n",
       "      <td>0</td>\n",
       "      <td>...</td>\n",
       "      <td>0</td>\n",
       "      <td>0</td>\n",
       "      <td>0</td>\n",
       "      <td>0</td>\n",
       "      <td>0</td>\n",
       "      <td>0</td>\n",
       "      <td>0</td>\n",
       "      <td>0</td>\n",
       "      <td>0</td>\n",
       "      <td>0</td>\n",
       "    </tr>\n",
       "    <tr>\n",
       "      <th>2</th>\n",
       "      <td>0</td>\n",
       "      <td>658</td>\n",
       "      <td>1</td>\n",
       "      <td>37.476156</td>\n",
       "      <td>127.057212</td>\n",
       "      <td>12309</td>\n",
       "      <td>1</td>\n",
       "      <td>0</td>\n",
       "      <td>0</td>\n",
       "      <td>0</td>\n",
       "      <td>...</td>\n",
       "      <td>0</td>\n",
       "      <td>0</td>\n",
       "      <td>0</td>\n",
       "      <td>0</td>\n",
       "      <td>0</td>\n",
       "      <td>0</td>\n",
       "      <td>0</td>\n",
       "      <td>0</td>\n",
       "      <td>0</td>\n",
       "      <td>0</td>\n",
       "    </tr>\n",
       "    <tr>\n",
       "      <th>3</th>\n",
       "      <td>0</td>\n",
       "      <td>658</td>\n",
       "      <td>1</td>\n",
       "      <td>37.476156</td>\n",
       "      <td>127.057212</td>\n",
       "      <td>12309</td>\n",
       "      <td>1</td>\n",
       "      <td>0</td>\n",
       "      <td>0</td>\n",
       "      <td>0</td>\n",
       "      <td>...</td>\n",
       "      <td>0</td>\n",
       "      <td>0</td>\n",
       "      <td>0</td>\n",
       "      <td>0</td>\n",
       "      <td>0</td>\n",
       "      <td>0</td>\n",
       "      <td>0</td>\n",
       "      <td>0</td>\n",
       "      <td>0</td>\n",
       "      <td>0</td>\n",
       "    </tr>\n",
       "    <tr>\n",
       "      <th>4</th>\n",
       "      <td>0</td>\n",
       "      <td>658</td>\n",
       "      <td>1</td>\n",
       "      <td>37.476156</td>\n",
       "      <td>127.057212</td>\n",
       "      <td>12309</td>\n",
       "      <td>1</td>\n",
       "      <td>0</td>\n",
       "      <td>0</td>\n",
       "      <td>0</td>\n",
       "      <td>...</td>\n",
       "      <td>0</td>\n",
       "      <td>0</td>\n",
       "      <td>0</td>\n",
       "      <td>0</td>\n",
       "      <td>0</td>\n",
       "      <td>0</td>\n",
       "      <td>0</td>\n",
       "      <td>0</td>\n",
       "      <td>0</td>\n",
       "      <td>0</td>\n",
       "    </tr>\n",
       "  </tbody>\n",
       "</table>\n",
       "<p>5 rows × 31 columns</p>\n",
       "</div>"
      ],
      "text/plain": [
       "   is_test   본번  부번        좌표Y         좌표X      동  강남구  강동구  강북구  강서구  ...  \\\n",
       "0        0  658   1  37.476156  127.057212  12309    1    0    0    0  ...   \n",
       "1        0  658   1  37.476156  127.057212  12309    1    0    0    0  ...   \n",
       "2        0  658   1  37.476156  127.057212  12309    1    0    0    0  ...   \n",
       "3        0  658   1  37.476156  127.057212  12309    1    0    0    0  ...   \n",
       "4        0  658   1  37.476156  127.057212  12309    1    0    0    0  ...   \n",
       "\n",
       "   성동구  성북구  송파구  양천구  영등포구  용산구  은평구  종로구  중구  중랑구  \n",
       "0    0    0    0    0     0    0    0    0   0    0  \n",
       "1    0    0    0    0     0    0    0    0   0    0  \n",
       "2    0    0    0    0     0    0    0    0   0    0  \n",
       "3    0    0    0    0     0    0    0    0   0    0  \n",
       "4    0    0    0    0     0    0    0    0   0    0  \n",
       "\n",
       "[5 rows x 31 columns]"
      ]
     },
     "execution_count": 2990,
     "metadata": {},
     "output_type": "execute_result"
    }
   ],
   "source": [
    "pre_df.head()"
   ]
  },
  {
   "cell_type": "markdown",
   "metadata": {},
   "source": [
    "# 아파트명"
   ]
  },
  {
   "cell_type": "code",
   "execution_count": 2991,
   "metadata": {},
   "outputs": [
    {
     "data": {
      "text/plain": [
       "2136"
      ]
     },
     "execution_count": 2991,
     "metadata": {},
     "output_type": "execute_result"
    }
   ],
   "source": [
    "concat['아파트명'].isnull().sum()"
   ]
  },
  {
   "cell_type": "code",
   "execution_count": 2992,
   "metadata": {},
   "outputs": [
    {
     "data": {
      "text/plain": [
       "2126"
      ]
     },
     "execution_count": 2992,
     "metadata": {},
     "output_type": "execute_result"
    }
   ],
   "source": [
    "# train nan : 2126, test nan : 10\n",
    "concat.query('is_test==0')['아파트명'].isnull().sum()"
   ]
  },
  {
   "cell_type": "code",
   "execution_count": 2993,
   "metadata": {},
   "outputs": [],
   "source": [
    "tmp_0 = concat.query('is_test==0')\n",
    "tmp_1 = concat.query('is_test==1')"
   ]
  },
  {
   "cell_type": "code",
   "execution_count": 2994,
   "metadata": {},
   "outputs": [],
   "source": [
    "nan_index = tmp_0[tmp_0['아파트명'].isnull()].index"
   ]
  },
  {
   "cell_type": "code",
   "execution_count": 2995,
   "metadata": {},
   "outputs": [
    {
     "name": "stderr",
     "output_type": "stream",
     "text": [
      "/tmp/ipykernel_673659/3017390333.py:1: SettingWithCopyWarning: \n",
      "A value is trying to be set on a copy of a slice from a DataFrame\n",
      "\n",
      "See the caveats in the documentation: https://pandas.pydata.org/pandas-docs/stable/user_guide/indexing.html#returning-a-view-versus-a-copy\n",
      "  tmp_0.drop(nan_index, inplace=True)\n"
     ]
    }
   ],
   "source": [
    "tmp_0.drop(nan_index, inplace=True)\n",
    "tmp_0.reset_index(inplace=True, drop=True)\n",
    "\n",
    "concat = pd.concat([tmp_0, tmp_1]) \n",
    "concat.reset_index(inplace=True, drop=True)\n",
    "\n",
    "y.drop(nan_index, inplace=True)\n",
    "y.reset_index(inplace=True, drop=True)\n",
    "\n",
    "pre_df.drop(nan_index, inplace=True)\n",
    "pre_df.reset_index(inplace=True, drop=True)"
   ]
  },
  {
   "cell_type": "code",
   "execution_count": 2996,
   "metadata": {},
   "outputs": [
    {
     "data": {
      "text/plain": [
       "(1125893, 1125893, 1116621, 1116621, 1116621)"
      ]
     },
     "execution_count": 2996,
     "metadata": {},
     "output_type": "execute_result"
    }
   ],
   "source": [
    "len(concat), len(pre_df), len(concat.query('is_test==0')), len(pre_df.query('is_test==0')), len(y)"
   ]
  },
  {
   "cell_type": "code",
   "execution_count": 2997,
   "metadata": {},
   "outputs": [
    {
     "data": {
      "text/plain": [
       "10"
      ]
     },
     "execution_count": 2997,
     "metadata": {},
     "output_type": "execute_result"
    }
   ],
   "source": [
    "concat['아파트명'].isnull().sum()"
   ]
  },
  {
   "cell_type": "code",
   "execution_count": 2998,
   "metadata": {},
   "outputs": [],
   "source": [
    "pre_df['아파트명'] = concat['아파트명']"
   ]
  },
  {
   "cell_type": "code",
   "execution_count": 2999,
   "metadata": {},
   "outputs": [],
   "source": [
    "nan_index = pre_df[pre_df['아파트명'].isna()].index"
   ]
  },
  {
   "cell_type": "code",
   "execution_count": 3000,
   "metadata": {},
   "outputs": [
    {
     "data": {
      "text/html": [
       "<div>\n",
       "<style scoped>\n",
       "    .dataframe tbody tr th:only-of-type {\n",
       "        vertical-align: middle;\n",
       "    }\n",
       "\n",
       "    .dataframe tbody tr th {\n",
       "        vertical-align: top;\n",
       "    }\n",
       "\n",
       "    .dataframe thead th {\n",
       "        text-align: right;\n",
       "    }\n",
       "</style>\n",
       "<table border=\"1\" class=\"dataframe\">\n",
       "  <thead>\n",
       "    <tr style=\"text-align: right;\">\n",
       "      <th></th>\n",
       "      <th>is_test</th>\n",
       "      <th>본번</th>\n",
       "      <th>부번</th>\n",
       "      <th>좌표Y</th>\n",
       "      <th>좌표X</th>\n",
       "      <th>동</th>\n",
       "      <th>강남구</th>\n",
       "      <th>강동구</th>\n",
       "      <th>강북구</th>\n",
       "      <th>강서구</th>\n",
       "      <th>...</th>\n",
       "      <th>성북구</th>\n",
       "      <th>송파구</th>\n",
       "      <th>양천구</th>\n",
       "      <th>영등포구</th>\n",
       "      <th>용산구</th>\n",
       "      <th>은평구</th>\n",
       "      <th>종로구</th>\n",
       "      <th>중구</th>\n",
       "      <th>중랑구</th>\n",
       "      <th>아파트명</th>\n",
       "    </tr>\n",
       "  </thead>\n",
       "  <tbody>\n",
       "    <tr>\n",
       "      <th>1119072</th>\n",
       "      <td>1</td>\n",
       "      <td>740</td>\n",
       "      <td>7</td>\n",
       "      <td>37.488786</td>\n",
       "      <td>126.886504</td>\n",
       "      <td>22941</td>\n",
       "      <td>0</td>\n",
       "      <td>0</td>\n",
       "      <td>0</td>\n",
       "      <td>0</td>\n",
       "      <td>...</td>\n",
       "      <td>0</td>\n",
       "      <td>0</td>\n",
       "      <td>0</td>\n",
       "      <td>0</td>\n",
       "      <td>0</td>\n",
       "      <td>0</td>\n",
       "      <td>0</td>\n",
       "      <td>0</td>\n",
       "      <td>0</td>\n",
       "      <td>NaN</td>\n",
       "    </tr>\n",
       "    <tr>\n",
       "      <th>1119073</th>\n",
       "      <td>1</td>\n",
       "      <td>743</td>\n",
       "      <td>27</td>\n",
       "      <td>37.488947</td>\n",
       "      <td>126.887178</td>\n",
       "      <td>22941</td>\n",
       "      <td>0</td>\n",
       "      <td>0</td>\n",
       "      <td>0</td>\n",
       "      <td>0</td>\n",
       "      <td>...</td>\n",
       "      <td>0</td>\n",
       "      <td>0</td>\n",
       "      <td>0</td>\n",
       "      <td>0</td>\n",
       "      <td>0</td>\n",
       "      <td>0</td>\n",
       "      <td>0</td>\n",
       "      <td>0</td>\n",
       "      <td>0</td>\n",
       "      <td>NaN</td>\n",
       "    </tr>\n",
       "    <tr>\n",
       "      <th>1119074</th>\n",
       "      <td>1</td>\n",
       "      <td>747</td>\n",
       "      <td>34</td>\n",
       "      <td>37.486943</td>\n",
       "      <td>126.886823</td>\n",
       "      <td>22941</td>\n",
       "      <td>0</td>\n",
       "      <td>0</td>\n",
       "      <td>0</td>\n",
       "      <td>0</td>\n",
       "      <td>...</td>\n",
       "      <td>0</td>\n",
       "      <td>0</td>\n",
       "      <td>0</td>\n",
       "      <td>0</td>\n",
       "      <td>0</td>\n",
       "      <td>0</td>\n",
       "      <td>0</td>\n",
       "      <td>0</td>\n",
       "      <td>0</td>\n",
       "      <td>NaN</td>\n",
       "    </tr>\n",
       "    <tr>\n",
       "      <th>1119075</th>\n",
       "      <td>1</td>\n",
       "      <td>752</td>\n",
       "      <td>17</td>\n",
       "      <td>37.488452</td>\n",
       "      <td>126.888092</td>\n",
       "      <td>22941</td>\n",
       "      <td>0</td>\n",
       "      <td>0</td>\n",
       "      <td>0</td>\n",
       "      <td>0</td>\n",
       "      <td>...</td>\n",
       "      <td>0</td>\n",
       "      <td>0</td>\n",
       "      <td>0</td>\n",
       "      <td>0</td>\n",
       "      <td>0</td>\n",
       "      <td>0</td>\n",
       "      <td>0</td>\n",
       "      <td>0</td>\n",
       "      <td>0</td>\n",
       "      <td>NaN</td>\n",
       "    </tr>\n",
       "    <tr>\n",
       "      <th>1119076</th>\n",
       "      <td>1</td>\n",
       "      <td>780</td>\n",
       "      <td>86</td>\n",
       "      <td>37.486882</td>\n",
       "      <td>126.888783</td>\n",
       "      <td>22941</td>\n",
       "      <td>0</td>\n",
       "      <td>0</td>\n",
       "      <td>0</td>\n",
       "      <td>0</td>\n",
       "      <td>...</td>\n",
       "      <td>0</td>\n",
       "      <td>0</td>\n",
       "      <td>0</td>\n",
       "      <td>0</td>\n",
       "      <td>0</td>\n",
       "      <td>0</td>\n",
       "      <td>0</td>\n",
       "      <td>0</td>\n",
       "      <td>0</td>\n",
       "      <td>NaN</td>\n",
       "    </tr>\n",
       "    <tr>\n",
       "      <th>1120656</th>\n",
       "      <td>1</td>\n",
       "      <td>404</td>\n",
       "      <td>13</td>\n",
       "      <td>37.564500</td>\n",
       "      <td>127.062563</td>\n",
       "      <td>10203</td>\n",
       "      <td>0</td>\n",
       "      <td>0</td>\n",
       "      <td>0</td>\n",
       "      <td>0</td>\n",
       "      <td>...</td>\n",
       "      <td>0</td>\n",
       "      <td>0</td>\n",
       "      <td>0</td>\n",
       "      <td>0</td>\n",
       "      <td>0</td>\n",
       "      <td>0</td>\n",
       "      <td>0</td>\n",
       "      <td>0</td>\n",
       "      <td>0</td>\n",
       "      <td>NaN</td>\n",
       "    </tr>\n",
       "    <tr>\n",
       "      <th>1121070</th>\n",
       "      <td>1</td>\n",
       "      <td>323</td>\n",
       "      <td>4</td>\n",
       "      <td>37.498830</td>\n",
       "      <td>126.929687</td>\n",
       "      <td>10967</td>\n",
       "      <td>0</td>\n",
       "      <td>0</td>\n",
       "      <td>0</td>\n",
       "      <td>0</td>\n",
       "      <td>...</td>\n",
       "      <td>0</td>\n",
       "      <td>0</td>\n",
       "      <td>0</td>\n",
       "      <td>0</td>\n",
       "      <td>0</td>\n",
       "      <td>0</td>\n",
       "      <td>0</td>\n",
       "      <td>0</td>\n",
       "      <td>0</td>\n",
       "      <td>NaN</td>\n",
       "    </tr>\n",
       "    <tr>\n",
       "      <th>1124662</th>\n",
       "      <td>1</td>\n",
       "      <td>1101</td>\n",
       "      <td>1</td>\n",
       "      <td>37.486919</td>\n",
       "      <td>126.900555</td>\n",
       "      <td>5555</td>\n",
       "      <td>0</td>\n",
       "      <td>0</td>\n",
       "      <td>0</td>\n",
       "      <td>0</td>\n",
       "      <td>...</td>\n",
       "      <td>0</td>\n",
       "      <td>0</td>\n",
       "      <td>0</td>\n",
       "      <td>1</td>\n",
       "      <td>0</td>\n",
       "      <td>0</td>\n",
       "      <td>0</td>\n",
       "      <td>0</td>\n",
       "      <td>0</td>\n",
       "      <td>NaN</td>\n",
       "    </tr>\n",
       "    <tr>\n",
       "      <th>1124663</th>\n",
       "      <td>1</td>\n",
       "      <td>1101</td>\n",
       "      <td>1</td>\n",
       "      <td>37.486919</td>\n",
       "      <td>126.900555</td>\n",
       "      <td>5555</td>\n",
       "      <td>0</td>\n",
       "      <td>0</td>\n",
       "      <td>0</td>\n",
       "      <td>0</td>\n",
       "      <td>...</td>\n",
       "      <td>0</td>\n",
       "      <td>0</td>\n",
       "      <td>0</td>\n",
       "      <td>1</td>\n",
       "      <td>0</td>\n",
       "      <td>0</td>\n",
       "      <td>0</td>\n",
       "      <td>0</td>\n",
       "      <td>0</td>\n",
       "      <td>NaN</td>\n",
       "    </tr>\n",
       "    <tr>\n",
       "      <th>1125587</th>\n",
       "      <td>1</td>\n",
       "      <td>432</td>\n",
       "      <td>904</td>\n",
       "      <td>37.551392</td>\n",
       "      <td>127.005965</td>\n",
       "      <td>8231</td>\n",
       "      <td>0</td>\n",
       "      <td>0</td>\n",
       "      <td>0</td>\n",
       "      <td>0</td>\n",
       "      <td>...</td>\n",
       "      <td>0</td>\n",
       "      <td>0</td>\n",
       "      <td>0</td>\n",
       "      <td>0</td>\n",
       "      <td>0</td>\n",
       "      <td>0</td>\n",
       "      <td>0</td>\n",
       "      <td>1</td>\n",
       "      <td>0</td>\n",
       "      <td>NaN</td>\n",
       "    </tr>\n",
       "  </tbody>\n",
       "</table>\n",
       "<p>10 rows × 32 columns</p>\n",
       "</div>"
      ],
      "text/plain": [
       "         is_test    본번   부번        좌표Y         좌표X      동  강남구  강동구  강북구  강서구  \\\n",
       "1119072        1   740    7  37.488786  126.886504  22941    0    0    0    0   \n",
       "1119073        1   743   27  37.488947  126.887178  22941    0    0    0    0   \n",
       "1119074        1   747   34  37.486943  126.886823  22941    0    0    0    0   \n",
       "1119075        1   752   17  37.488452  126.888092  22941    0    0    0    0   \n",
       "1119076        1   780   86  37.486882  126.888783  22941    0    0    0    0   \n",
       "1120656        1   404   13  37.564500  127.062563  10203    0    0    0    0   \n",
       "1121070        1   323    4  37.498830  126.929687  10967    0    0    0    0   \n",
       "1124662        1  1101    1  37.486919  126.900555   5555    0    0    0    0   \n",
       "1124663        1  1101    1  37.486919  126.900555   5555    0    0    0    0   \n",
       "1125587        1   432  904  37.551392  127.005965   8231    0    0    0    0   \n",
       "\n",
       "         ...  성북구  송파구  양천구  영등포구  용산구  은평구  종로구  중구  중랑구  아파트명  \n",
       "1119072  ...    0    0    0     0    0    0    0   0    0   NaN  \n",
       "1119073  ...    0    0    0     0    0    0    0   0    0   NaN  \n",
       "1119074  ...    0    0    0     0    0    0    0   0    0   NaN  \n",
       "1119075  ...    0    0    0     0    0    0    0   0    0   NaN  \n",
       "1119076  ...    0    0    0     0    0    0    0   0    0   NaN  \n",
       "1120656  ...    0    0    0     0    0    0    0   0    0   NaN  \n",
       "1121070  ...    0    0    0     0    0    0    0   0    0   NaN  \n",
       "1124662  ...    0    0    0     1    0    0    0   0    0   NaN  \n",
       "1124663  ...    0    0    0     1    0    0    0   0    0   NaN  \n",
       "1125587  ...    0    0    0     0    0    0    0   1    0   NaN  \n",
       "\n",
       "[10 rows x 32 columns]"
      ]
     },
     "execution_count": 3000,
     "metadata": {},
     "output_type": "execute_result"
    }
   ],
   "source": [
    "pre_df.iloc[nan_index]"
   ]
  },
  {
   "cell_type": "code",
   "execution_count": 3001,
   "metadata": {},
   "outputs": [],
   "source": [
    "pre_df['아파트명'] = pre_df['아파트명'].ffill()"
   ]
  },
  {
   "cell_type": "code",
   "execution_count": 3002,
   "metadata": {},
   "outputs": [
    {
     "data": {
      "text/plain": [
       "6548"
      ]
     },
     "execution_count": 3002,
     "metadata": {},
     "output_type": "execute_result"
    }
   ],
   "source": [
    "len(pre_df['아파트명'].value_counts())"
   ]
  },
  {
   "cell_type": "code",
   "execution_count": 3003,
   "metadata": {},
   "outputs": [],
   "source": [
    "pre_df['아파트명'] = pre_df['아파트명'].str.split(' ', expand=True)[0]"
   ]
  },
  {
   "cell_type": "code",
   "execution_count": 3004,
   "metadata": {},
   "outputs": [
    {
     "data": {
      "text/plain": [
       "상계주공           24239\n",
       "현대             24138\n",
       "주공             22365\n",
       "목동신시가지         15669\n",
       "신동아            14321\n",
       "               ...  \n",
       "비버리캐슬              1\n",
       "브이티스타일             1\n",
       "한원힐트리움아레나          1\n",
       "힐스테이트홍은포레스트        1\n",
       "DK밸리뷰서초차           1\n",
       "Name: 아파트명, Length: 5663, dtype: int64"
      ]
     },
     "execution_count": 3004,
     "metadata": {},
     "output_type": "execute_result"
    }
   ],
   "source": [
    "pre_df['아파트명'] = pre_df['아파트명'].str.replace(r'\\d', '', regex=True)\n",
    "pre_df['아파트명'] = pre_df['아파트명'].str.replace(r'[A-Z]동', '', regex=True)  # A동 ~ Z동 제거\n",
    "pre_df['아파트명'] = pre_df['아파트명'].str.replace(r'뷰$', '', regex=True)  # '뷰'로 끝나는 문자열 제거\n",
    "pre_df['아파트명'].value_counts()"
   ]
  },
  {
   "cell_type": "code",
   "execution_count": 3005,
   "metadata": {},
   "outputs": [
    {
     "name": "stdout",
     "output_type": "stream",
     "text": [
      "PearsonRResult(statistic=-0.07429432346927241, pvalue=0.0)\n",
      "PearsonRResult(statistic=-0.02193577489854075, pvalue=6.859849198030036e-119)\n"
     ]
    },
    {
     "name": "stderr",
     "output_type": "stream",
     "text": [
      "/tmp/ipykernel_673659/587401346.py:8: SettingWithCopyWarning: \n",
      "A value is trying to be set on a copy of a slice from a DataFrame.\n",
      "Try using .loc[row_indexer,col_indexer] = value instead\n",
      "\n",
      "See the caveats in the documentation: https://pandas.pydata.org/pandas-docs/stable/user_guide/indexing.html#returning-a-view-versus-a-copy\n",
      "  tmp['y'] = y\n"
     ]
    }
   ],
   "source": [
    "value_counts = pre_df['아파트명'].value_counts()\n",
    "pre_df['빈도수_아파트명'] = pre_df['아파트명'].map(value_counts)\n",
    "\n",
    "le = LabelEncoder()\n",
    "pre_df['le_아파트명'] = le.fit_transform(pre_df['아파트명'])\n",
    "\n",
    "tmp = pre_df.query('is_test==0')\n",
    "tmp['y'] = y\n",
    "\n",
    "print(pearsonr(tmp['빈도수_아파트명'], tmp['y']))\n",
    "print(pearsonr(tmp['le_아파트명'], tmp['y']))"
   ]
  },
  {
   "cell_type": "code",
   "execution_count": 3006,
   "metadata": {},
   "outputs": [],
   "source": [
    "pre_df['아파트명'] = pre_df['빈도수_아파트명']\n",
    "\n",
    "pre_df.drop(columns=['빈도수_아파트명', 'le_아파트명'], axis=1, inplace=True)"
   ]
  },
  {
   "cell_type": "code",
   "execution_count": 3007,
   "metadata": {},
   "outputs": [],
   "source": [
    "concat.drop(columns=['아파트명'], axis=1, inplace = True)"
   ]
  },
  {
   "cell_type": "markdown",
   "metadata": {},
   "source": [
    "# 전용면적"
   ]
  },
  {
   "cell_type": "code",
   "execution_count": 3008,
   "metadata": {},
   "outputs": [
    {
     "data": {
      "text/plain": [
       "0"
      ]
     },
     "execution_count": 3008,
     "metadata": {},
     "output_type": "execute_result"
    }
   ],
   "source": [
    "concat['전용면적(㎡)'].isnull().sum()"
   ]
  },
  {
   "cell_type": "code",
   "execution_count": 3009,
   "metadata": {},
   "outputs": [],
   "source": [
    "pre_df['전용면적'] = concat['전용면적(㎡)']"
   ]
  },
  {
   "cell_type": "code",
   "execution_count": 3010,
   "metadata": {},
   "outputs": [],
   "source": [
    "concat.drop(columns=['전용면적(㎡)'], axis=1, inplace=True)"
   ]
  },
  {
   "cell_type": "markdown",
   "metadata": {},
   "source": [
    "# 계약년월 + 계약일"
   ]
  },
  {
   "cell_type": "code",
   "execution_count": 3011,
   "metadata": {},
   "outputs": [
    {
     "data": {
      "text/plain": [
       "계약년월    0\n",
       "계약일     0\n",
       "dtype: int64"
      ]
     },
     "execution_count": 3011,
     "metadata": {},
     "output_type": "execute_result"
    }
   ],
   "source": [
    "concat[['계약년월', '계약일']].isnull().sum()"
   ]
  },
  {
   "cell_type": "code",
   "execution_count": 3012,
   "metadata": {},
   "outputs": [],
   "source": [
    "pre_df['계약_년'] = concat['계약년월'].astype('str').str.slice(0,4).astype('int')\n",
    "pre_df['계약_월'] = concat['계약년월'].astype('str').str.slice(4,7).astype('int')\n",
    "pre_df['계약_일'] = concat['계약일']"
   ]
  },
  {
   "cell_type": "code",
   "execution_count": 3013,
   "metadata": {},
   "outputs": [],
   "source": [
    "concat.drop(columns=['계약년월', '계약일'], axis=1, inplace=True)"
   ]
  },
  {
   "cell_type": "markdown",
   "metadata": {},
   "source": [
    "# 층"
   ]
  },
  {
   "cell_type": "code",
   "execution_count": 3014,
   "metadata": {},
   "outputs": [
    {
     "data": {
      "text/plain": [
       "259"
      ]
     },
     "execution_count": 3014,
     "metadata": {},
     "output_type": "execute_result"
    }
   ],
   "source": [
    "len(concat[concat['층'] < 0])"
   ]
  },
  {
   "cell_type": "code",
   "execution_count": 3015,
   "metadata": {},
   "outputs": [
    {
     "data": {
      "text/plain": [
       "0"
      ]
     },
     "execution_count": 3015,
     "metadata": {},
     "output_type": "execute_result"
    }
   ],
   "source": [
    "concat['층'].isnull().sum()"
   ]
  },
  {
   "cell_type": "code",
   "execution_count": 3016,
   "metadata": {},
   "outputs": [],
   "source": [
    "pre_df['층'] = concat['층']"
   ]
  },
  {
   "cell_type": "code",
   "execution_count": 3017,
   "metadata": {},
   "outputs": [],
   "source": [
    "tmp = pre_df.query('is_test==0')"
   ]
  },
  {
   "cell_type": "code",
   "execution_count": 3018,
   "metadata": {},
   "outputs": [],
   "source": [
    "nan_index = tmp[tmp['층'] <= 0].index"
   ]
  },
  {
   "cell_type": "code",
   "execution_count": 3019,
   "metadata": {},
   "outputs": [],
   "source": [
    "pre_df.drop(nan_index, inplace=True)\n",
    "pre_df.reset_index(drop=True, inplace=True)\n",
    "\n",
    "concat.drop(nan_index, inplace=True)\n",
    "concat.reset_index(drop=True, inplace=True)\n",
    "\n",
    "y.drop(nan_index, inplace=True)\n",
    "y.reset_index(drop=True, inplace=True)"
   ]
  },
  {
   "cell_type": "code",
   "execution_count": 3020,
   "metadata": {},
   "outputs": [
    {
     "data": {
      "text/plain": [
       "(1125637, 1125637)"
      ]
     },
     "execution_count": 3020,
     "metadata": {},
     "output_type": "execute_result"
    }
   ],
   "source": [
    "len(pre_df), len(concat)"
   ]
  },
  {
   "cell_type": "code",
   "execution_count": 3021,
   "metadata": {},
   "outputs": [
    {
     "data": {
      "text/html": [
       "<div>\n",
       "<style scoped>\n",
       "    .dataframe tbody tr th:only-of-type {\n",
       "        vertical-align: middle;\n",
       "    }\n",
       "\n",
       "    .dataframe tbody tr th {\n",
       "        vertical-align: top;\n",
       "    }\n",
       "\n",
       "    .dataframe thead th {\n",
       "        text-align: right;\n",
       "    }\n",
       "</style>\n",
       "<table border=\"1\" class=\"dataframe\">\n",
       "  <thead>\n",
       "    <tr style=\"text-align: right;\">\n",
       "      <th></th>\n",
       "      <th>is_test</th>\n",
       "      <th>본번</th>\n",
       "      <th>부번</th>\n",
       "      <th>좌표Y</th>\n",
       "      <th>좌표X</th>\n",
       "      <th>동</th>\n",
       "      <th>강남구</th>\n",
       "      <th>강동구</th>\n",
       "      <th>강북구</th>\n",
       "      <th>강서구</th>\n",
       "      <th>...</th>\n",
       "      <th>은평구</th>\n",
       "      <th>종로구</th>\n",
       "      <th>중구</th>\n",
       "      <th>중랑구</th>\n",
       "      <th>아파트명</th>\n",
       "      <th>전용면적</th>\n",
       "      <th>계약_년</th>\n",
       "      <th>계약_월</th>\n",
       "      <th>계약_일</th>\n",
       "      <th>층</th>\n",
       "    </tr>\n",
       "  </thead>\n",
       "  <tbody>\n",
       "    <tr>\n",
       "      <th>1124650</th>\n",
       "      <td>1</td>\n",
       "      <td>810</td>\n",
       "      <td>0</td>\n",
       "      <td>37.536973</td>\n",
       "      <td>127.009490</td>\n",
       "      <td>2704</td>\n",
       "      <td>0</td>\n",
       "      <td>0</td>\n",
       "      <td>0</td>\n",
       "      <td>0</td>\n",
       "      <td>...</td>\n",
       "      <td>0</td>\n",
       "      <td>0</td>\n",
       "      <td>0</td>\n",
       "      <td>0</td>\n",
       "      <td>711</td>\n",
       "      <td>240.305</td>\n",
       "      <td>2023</td>\n",
       "      <td>8</td>\n",
       "      <td>27</td>\n",
       "      <td>-1</td>\n",
       "    </tr>\n",
       "    <tr>\n",
       "      <th>1125181</th>\n",
       "      <td>1</td>\n",
       "      <td>84</td>\n",
       "      <td>0</td>\n",
       "      <td>37.636440</td>\n",
       "      <td>126.928783</td>\n",
       "      <td>8580</td>\n",
       "      <td>0</td>\n",
       "      <td>0</td>\n",
       "      <td>0</td>\n",
       "      <td>0</td>\n",
       "      <td>...</td>\n",
       "      <td>1</td>\n",
       "      <td>0</td>\n",
       "      <td>0</td>\n",
       "      <td>0</td>\n",
       "      <td>1256</td>\n",
       "      <td>101.490</td>\n",
       "      <td>2023</td>\n",
       "      <td>7</td>\n",
       "      <td>29</td>\n",
       "      <td>-3</td>\n",
       "    </tr>\n",
       "    <tr>\n",
       "      <th>1125397</th>\n",
       "      <td>1</td>\n",
       "      <td>432</td>\n",
       "      <td>1970</td>\n",
       "      <td>37.551122</td>\n",
       "      <td>127.005550</td>\n",
       "      <td>8231</td>\n",
       "      <td>0</td>\n",
       "      <td>0</td>\n",
       "      <td>0</td>\n",
       "      <td>0</td>\n",
       "      <td>...</td>\n",
       "      <td>0</td>\n",
       "      <td>0</td>\n",
       "      <td>1</td>\n",
       "      <td>0</td>\n",
       "      <td>13</td>\n",
       "      <td>29.400</td>\n",
       "      <td>2023</td>\n",
       "      <td>7</td>\n",
       "      <td>21</td>\n",
       "      <td>-1</td>\n",
       "    </tr>\n",
       "  </tbody>\n",
       "</table>\n",
       "<p>3 rows × 37 columns</p>\n",
       "</div>"
      ],
      "text/plain": [
       "         is_test   본번    부번        좌표Y         좌표X     동  강남구  강동구  강북구  강서구  \\\n",
       "1124650        1  810     0  37.536973  127.009490  2704    0    0    0    0   \n",
       "1125181        1   84     0  37.636440  126.928783  8580    0    0    0    0   \n",
       "1125397        1  432  1970  37.551122  127.005550  8231    0    0    0    0   \n",
       "\n",
       "         ...  은평구  종로구  중구  중랑구  아파트명     전용면적  계약_년  계약_월  계약_일  층  \n",
       "1124650  ...    0    0   0    0   711  240.305  2023     8    27 -1  \n",
       "1125181  ...    1    0   0    0  1256  101.490  2023     7    29 -3  \n",
       "1125397  ...    0    0   1    0    13   29.400  2023     7    21 -1  \n",
       "\n",
       "[3 rows x 37 columns]"
      ]
     },
     "execution_count": 3021,
     "metadata": {},
     "output_type": "execute_result"
    }
   ],
   "source": [
    "pre_df[pre_df['층'] <= 0]"
   ]
  },
  {
   "cell_type": "code",
   "execution_count": 3022,
   "metadata": {},
   "outputs": [
    {
     "data": {
      "text/plain": [
       " 1     102\n",
       " 3     100\n",
       " 2      91\n",
       " 5      79\n",
       " 6      79\n",
       " 4      77\n",
       " 7      43\n",
       " 8      40\n",
       " 9      34\n",
       " 10     34\n",
       " 12      7\n",
       " 11      6\n",
       "-1       1\n",
       "Name: 층, dtype: int64"
      ]
     },
     "execution_count": 3022,
     "metadata": {},
     "output_type": "execute_result"
    }
   ],
   "source": [
    "pre_df[(pre_df['좌표X'] == pre_df.loc[1124650, '좌표X']) & (pre_df['좌표Y'] == pre_df.loc[1124650, '좌표Y'])]['층'].value_counts()"
   ]
  },
  {
   "cell_type": "code",
   "execution_count": 3023,
   "metadata": {},
   "outputs": [],
   "source": [
    "pre_df.loc[1124650, '층'] = 1"
   ]
  },
  {
   "cell_type": "code",
   "execution_count": 3024,
   "metadata": {},
   "outputs": [
    {
     "data": {
      "text/plain": [
       " 3     37\n",
       " 5     32\n",
       " 2     27\n",
       " 4     25\n",
       " 9     21\n",
       " 7     21\n",
       " 8     17\n",
       " 6     16\n",
       " 10    16\n",
       " 1     16\n",
       " 12    13\n",
       " 11     8\n",
       " 15     6\n",
       " 13     5\n",
       " 14     4\n",
       "-3      1\n",
       "Name: 층, dtype: int64"
      ]
     },
     "execution_count": 3024,
     "metadata": {},
     "output_type": "execute_result"
    }
   ],
   "source": [
    "pre_df[(pre_df['좌표X'] == pre_df.loc[1125181, '좌표X']) & (pre_df['좌표Y'] == pre_df.loc[1125181, '좌표Y'])]['층'].value_counts()"
   ]
  },
  {
   "cell_type": "code",
   "execution_count": 3025,
   "metadata": {},
   "outputs": [],
   "source": [
    "pre_df.loc[1125181, '층'] = 3"
   ]
  },
  {
   "cell_type": "code",
   "execution_count": 3026,
   "metadata": {},
   "outputs": [
    {
     "data": {
      "text/plain": [
       " 1    4\n",
       " 2    3\n",
       " 4    1\n",
       "-1    1\n",
       "Name: 층, dtype: int64"
      ]
     },
     "execution_count": 3026,
     "metadata": {},
     "output_type": "execute_result"
    }
   ],
   "source": [
    "pre_df[(pre_df['좌표X'] == pre_df.loc[1125397, '좌표X']) & (pre_df['좌표Y'] == pre_df.loc[1125397, '좌표Y'])]['층'].value_counts()"
   ]
  },
  {
   "cell_type": "code",
   "execution_count": 3027,
   "metadata": {},
   "outputs": [],
   "source": [
    "pre_df.loc[1125397, '층'] = 1"
   ]
  },
  {
   "cell_type": "code",
   "execution_count": 3028,
   "metadata": {},
   "outputs": [
    {
     "data": {
      "text/plain": [
       "0"
      ]
     },
     "execution_count": 3028,
     "metadata": {},
     "output_type": "execute_result"
    }
   ],
   "source": [
    "len(pre_df[pre_df['층'] <= 0])"
   ]
  },
  {
   "cell_type": "code",
   "execution_count": 3029,
   "metadata": {},
   "outputs": [],
   "source": [
    "concat.drop(columns=['층'], axis=1, inplace=True)"
   ]
  },
  {
   "cell_type": "markdown",
   "metadata": {},
   "source": [
    "# 건축년도"
   ]
  },
  {
   "cell_type": "code",
   "execution_count": 3030,
   "metadata": {},
   "outputs": [
    {
     "data": {
      "text/plain": [
       "0"
      ]
     },
     "execution_count": 3030,
     "metadata": {},
     "output_type": "execute_result"
    }
   ],
   "source": [
    "concat['건축년도'].isnull().sum()"
   ]
  },
  {
   "cell_type": "code",
   "execution_count": 3031,
   "metadata": {},
   "outputs": [],
   "source": [
    "pre_df['건축년도'] = concat['건축년도']"
   ]
  },
  {
   "cell_type": "code",
   "execution_count": 3032,
   "metadata": {},
   "outputs": [],
   "source": [
    "concat.drop(columns=['건축년도'] , axis=1, inplace=True)"
   ]
  },
  {
   "cell_type": "markdown",
   "metadata": {},
   "source": [
    "# 도로명"
   ]
  },
  {
   "cell_type": "code",
   "execution_count": 3033,
   "metadata": {},
   "outputs": [
    {
     "data": {
      "text/plain": [
       "0"
      ]
     },
     "execution_count": 3033,
     "metadata": {},
     "output_type": "execute_result"
    }
   ],
   "source": [
    "concat['도로명'].isnull().sum()"
   ]
  },
  {
   "cell_type": "code",
   "execution_count": 3034,
   "metadata": {},
   "outputs": [],
   "source": [
    "concat['도로명'] = concat['도로명'].str.split(' ', expand=True)[0]"
   ]
  },
  {
   "cell_type": "code",
   "execution_count": 3035,
   "metadata": {},
   "outputs": [
    {
     "data": {
      "text/plain": [
       "마들로         13255\n",
       "올림픽로        12790\n",
       "섬밭로         10442\n",
       "해등로         10307\n",
       "목동동로         9810\n",
       "            ...  \n",
       "청룡3길            1\n",
       "반포대로9길          1\n",
       "목동중앙북로4길        1\n",
       "노원로19길          1\n",
       "송정길             1\n",
       "Name: 도로명, Length: 3601, dtype: int64"
      ]
     },
     "execution_count": 3035,
     "metadata": {},
     "output_type": "execute_result"
    }
   ],
   "source": [
    "concat['도로명'].value_counts()"
   ]
  },
  {
   "cell_type": "code",
   "execution_count": 3036,
   "metadata": {},
   "outputs": [
    {
     "data": {
      "text/plain": [
       "동일로길      23503\n",
       "마들로       13255\n",
       "올림픽로      12790\n",
       "양천로길      10814\n",
       "섬밭로       10442\n",
       "          ...  \n",
       "효창원로마길        2\n",
       "수유로나길         1\n",
       "사당로라길         1\n",
       "경서로           1\n",
       "송정길           1\n",
       "Name: 도로명, Length: 1204, dtype: int64"
      ]
     },
     "execution_count": 3036,
     "metadata": {},
     "output_type": "execute_result"
    }
   ],
   "source": [
    "concat['도로명'].str.replace(r'\\d', '', regex=True).value_counts()"
   ]
  },
  {
   "cell_type": "code",
   "execution_count": 3037,
   "metadata": {},
   "outputs": [
    {
     "data": {
      "text/plain": [
       "동일로      35115\n",
       "올림픽로     19757\n",
       "덕릉로      17242\n",
       "양천로      15821\n",
       "한글비석로    15416\n",
       "         ...  \n",
       "비봉길          4\n",
       "위례송파로        3\n",
       "숭문           3\n",
       "과천대로         2\n",
       "송정길          1\n",
       "Name: 도로명, Length: 578, dtype: int64"
      ]
     },
     "execution_count": 3037,
     "metadata": {},
     "output_type": "execute_result"
    }
   ],
   "source": [
    "concat['도로명'].str.replace(r'\\d+(가|나|다|라|마|바|사|아|자|차|카|타|파|하)?길', '', regex=True).value_counts()"
   ]
  },
  {
   "cell_type": "code",
   "execution_count": 3038,
   "metadata": {},
   "outputs": [
    {
     "data": {
      "text/plain": [
       "동일로      35115\n",
       "올림픽로     19757\n",
       "덕릉로      17242\n",
       "양천로      15821\n",
       "한글비석로    15416\n",
       "         ...  \n",
       "비봉길          4\n",
       "위례송파로        3\n",
       "숭문           3\n",
       "과천대로         2\n",
       "송정길          1\n",
       "Name: 도로명, Length: 578, dtype: int64"
      ]
     },
     "execution_count": 3038,
     "metadata": {},
     "output_type": "execute_result"
    }
   ],
   "source": [
    "concat['도로명'] = concat['도로명'].str.replace(r'\\d+(가|나|다|라|마|바|사|아|자|차|카|타|파|하)?길', '', regex=True)\n",
    "concat['도로명'].value_counts()"
   ]
  },
  {
   "cell_type": "code",
   "execution_count": 3039,
   "metadata": {},
   "outputs": [],
   "source": [
    "pre_df['도로명'] = concat['도로명']"
   ]
  },
  {
   "cell_type": "code",
   "execution_count": 3040,
   "metadata": {},
   "outputs": [
    {
     "name": "stdout",
     "output_type": "stream",
     "text": [
      "PearsonRResult(statistic=-0.0679418046993382, pvalue=0.0)\n",
      "PearsonRResult(statistic=0.035412530297873765, pvalue=1.3732109569754525e-306)\n"
     ]
    },
    {
     "name": "stderr",
     "output_type": "stream",
     "text": [
      "/tmp/ipykernel_673659/2929029893.py:8: SettingWithCopyWarning: \n",
      "A value is trying to be set on a copy of a slice from a DataFrame.\n",
      "Try using .loc[row_indexer,col_indexer] = value instead\n",
      "\n",
      "See the caveats in the documentation: https://pandas.pydata.org/pandas-docs/stable/user_guide/indexing.html#returning-a-view-versus-a-copy\n",
      "  tmp['y'] = y\n"
     ]
    }
   ],
   "source": [
    "value_counts = pre_df['도로명'].value_counts()\n",
    "pre_df['빈도수_도로명'] = pre_df['도로명'].map(value_counts)\n",
    "\n",
    "le = LabelEncoder()\n",
    "pre_df['le_도로명'] = le.fit_transform(pre_df['도로명'])\n",
    "\n",
    "tmp = pre_df.query('is_test==0')\n",
    "tmp['y'] = y\n",
    "\n",
    "print(pearsonr(tmp['빈도수_도로명'], tmp['y']))\n",
    "print(pearsonr(tmp['le_도로명'], tmp['y']))"
   ]
  },
  {
   "cell_type": "code",
   "execution_count": 3041,
   "metadata": {},
   "outputs": [],
   "source": [
    "pre_df['도로명'] = pre_df['빈도수_도로명']\n",
    "\n",
    "pre_df.drop(columns=['빈도수_도로명', 'le_도로명'], axis=1, inplace=True)\n",
    "\n",
    "concat.drop(columns=['도로명'], axis=1, inplace=True)"
   ]
  },
  {
   "cell_type": "markdown",
   "metadata": {},
   "source": [
    "# 해제사유발생일"
   ]
  },
  {
   "cell_type": "code",
   "execution_count": 3042,
   "metadata": {},
   "outputs": [
    {
     "data": {
      "text/plain": [
       "0.9945248779135725"
      ]
     },
     "execution_count": 3042,
     "metadata": {},
     "output_type": "execute_result"
    }
   ],
   "source": [
    "concat['해제사유발생일'].isnull().sum() / len(concat)"
   ]
  },
  {
   "cell_type": "code",
   "execution_count": 3043,
   "metadata": {},
   "outputs": [],
   "source": [
    "concat.drop(columns=['해제사유발생일'], axis=1, inplace=True)"
   ]
  },
  {
   "cell_type": "markdown",
   "metadata": {},
   "source": [
    "# 등기신청일자"
   ]
  },
  {
   "cell_type": "code",
   "execution_count": 3044,
   "metadata": {},
   "outputs": [
    {
     "data": {
      "text/plain": [
       "0"
      ]
     },
     "execution_count": 3044,
     "metadata": {},
     "output_type": "execute_result"
    }
   ],
   "source": [
    "concat['등기신청일자'].isnull().sum()"
   ]
  },
  {
   "cell_type": "code",
   "execution_count": 3045,
   "metadata": {},
   "outputs": [
    {
     "data": {
      "text/plain": [
       "            1108853\n",
       "20230630        584\n",
       "20230831        496\n",
       "20230428        393\n",
       "20230731        374\n",
       "             ...   \n",
       "20230125          3\n",
       "20230105          3\n",
       "20230110          3\n",
       "20230109          1\n",
       "20230104          1\n",
       "Name: 등기신청일자, Length: 181, dtype: int64"
      ]
     },
     "execution_count": 3045,
     "metadata": {},
     "output_type": "execute_result"
    }
   ],
   "source": [
    "concat['등기신청일자'].value_counts()"
   ]
  },
  {
   "cell_type": "code",
   "execution_count": 3046,
   "metadata": {},
   "outputs": [],
   "source": [
    "concat['등기신청일자'] = concat['등기신청일자'].map(lambda x: np.NAN if x == ' ' else x)"
   ]
  },
  {
   "cell_type": "code",
   "execution_count": 3047,
   "metadata": {},
   "outputs": [
    {
     "data": {
      "text/plain": [
       "0.9850893316406621"
      ]
     },
     "execution_count": 3047,
     "metadata": {},
     "output_type": "execute_result"
    }
   ],
   "source": [
    "concat['등기신청일자'].isnull().sum() / len(concat)"
   ]
  },
  {
   "cell_type": "code",
   "execution_count": 3048,
   "metadata": {},
   "outputs": [],
   "source": [
    "concat.drop(columns=['등기신청일자'] , axis=1, inplace=True)"
   ]
  },
  {
   "cell_type": "markdown",
   "metadata": {},
   "source": [
    "# 거래유형"
   ]
  },
  {
   "cell_type": "code",
   "execution_count": 3049,
   "metadata": {},
   "outputs": [
    {
     "data": {
      "text/plain": [
       "0"
      ]
     },
     "execution_count": 3049,
     "metadata": {},
     "output_type": "execute_result"
    }
   ],
   "source": [
    "concat['거래유형'].isnull().sum()"
   ]
  },
  {
   "cell_type": "code",
   "execution_count": 3050,
   "metadata": {},
   "outputs": [
    {
     "data": {
      "text/plain": [
       "-       1084161\n",
       "중개거래      37999\n",
       "직거래        3477\n",
       "Name: 거래유형, dtype: int64"
      ]
     },
     "execution_count": 3050,
     "metadata": {},
     "output_type": "execute_result"
    }
   ],
   "source": [
    "concat['거래유형'].value_counts()"
   ]
  },
  {
   "cell_type": "code",
   "execution_count": 3051,
   "metadata": {},
   "outputs": [],
   "source": [
    "concat['거래유형'] = concat['거래유형'].map(lambda x: np.NAN if x == '-' else x)"
   ]
  },
  {
   "cell_type": "code",
   "execution_count": 3052,
   "metadata": {},
   "outputs": [
    {
     "data": {
      "text/plain": [
       "0.9631533078603493"
      ]
     },
     "execution_count": 3052,
     "metadata": {},
     "output_type": "execute_result"
    }
   ],
   "source": [
    "concat['거래유형'].isnull().sum() / len(concat)"
   ]
  },
  {
   "cell_type": "code",
   "execution_count": 3053,
   "metadata": {},
   "outputs": [],
   "source": [
    "concat.drop(columns=['거래유형'] , axis=1, inplace=True)"
   ]
  },
  {
   "cell_type": "markdown",
   "metadata": {},
   "source": [
    "# 중개사소재지"
   ]
  },
  {
   "cell_type": "code",
   "execution_count": 3054,
   "metadata": {},
   "outputs": [
    {
     "data": {
      "text/plain": [
       "-                  1087680\n",
       "서울 노원구                2627\n",
       "서울 송파구                2538\n",
       "서울 강남구                2506\n",
       "서울 강동구                2038\n",
       "                    ...   \n",
       "서울 송파구, 인천 계양구           1\n",
       "경기 연천군, 서울 송파구           1\n",
       "부산 해운대구, 서울 송파구          1\n",
       "경기 김포시, 서울 송파구           1\n",
       "서울 중랑구, 인천 부평구           1\n",
       "Name: 중개사소재지, Length: 737, dtype: int64"
      ]
     },
     "execution_count": 3054,
     "metadata": {},
     "output_type": "execute_result"
    }
   ],
   "source": [
    "concat['중개사소재지'].value_counts()"
   ]
  },
  {
   "cell_type": "code",
   "execution_count": 3055,
   "metadata": {},
   "outputs": [],
   "source": [
    "concat['중개사소재지'] = concat['중개사소재지'].map(lambda x: np.NAN if x == '-' else x)"
   ]
  },
  {
   "cell_type": "code",
   "execution_count": 3056,
   "metadata": {},
   "outputs": [
    {
     "data": {
      "text/plain": [
       "0.9662795377195312"
      ]
     },
     "execution_count": 3056,
     "metadata": {},
     "output_type": "execute_result"
    }
   ],
   "source": [
    "concat['중개사소재지'].isnull().sum() / len(concat)"
   ]
  },
  {
   "cell_type": "code",
   "execution_count": 3057,
   "metadata": {},
   "outputs": [],
   "source": [
    "concat.drop(columns=['중개사소재지'], axis=1, inplace=True)"
   ]
  },
  {
   "cell_type": "markdown",
   "metadata": {},
   "source": [
    "# k-단지분류(아파트,주상복합등등)"
   ]
  },
  {
   "cell_type": "code",
   "execution_count": 3058,
   "metadata": {},
   "outputs": [
    {
     "data": {
      "text/plain": [
       "0.7772025972849151"
      ]
     },
     "execution_count": 3058,
     "metadata": {},
     "output_type": "execute_result"
    }
   ],
   "source": [
    "concat['k-단지분류(아파트,주상복합등등)'].isnull().sum() / len(concat)"
   ]
  },
  {
   "cell_type": "code",
   "execution_count": 3059,
   "metadata": {},
   "outputs": [
    {
     "data": {
      "text/plain": [
       "아파트               238554\n",
       "주상복합               11450\n",
       "도시형 생활주택(주상복합)       505\n",
       "도시형 생활주택(아파트)        155\n",
       "연립주택                 125\n",
       "Name: k-단지분류(아파트,주상복합등등), dtype: int64"
      ]
     },
     "execution_count": 3059,
     "metadata": {},
     "output_type": "execute_result"
    }
   ],
   "source": [
    "concat['k-단지분류(아파트,주상복합등등)'].value_counts()"
   ]
  },
  {
   "cell_type": "code",
   "execution_count": 3060,
   "metadata": {},
   "outputs": [],
   "source": [
    "pre_df['단지분류'] = concat['k-단지분류(아파트,주상복합등등)']"
   ]
  },
  {
   "cell_type": "code",
   "execution_count": 3061,
   "metadata": {},
   "outputs": [
    {
     "data": {
      "text/plain": [
       "874848"
      ]
     },
     "execution_count": 3061,
     "metadata": {},
     "output_type": "execute_result"
    }
   ],
   "source": [
    "pre_df['단지분류'].isnull().sum()"
   ]
  },
  {
   "cell_type": "code",
   "execution_count": 3062,
   "metadata": {},
   "outputs": [
    {
     "name": "stderr",
     "output_type": "stream",
     "text": [
      "/tmp/ipykernel_673659/1027286490.py:9: FutureWarning: Not prepending group keys to the result index of transform-like apply. In the future, the group keys will be included in the index, regardless of whether the applied function returns a like-indexed object.\n",
      "To preserve the previous behavior, use\n",
      "\n",
      "\t>>> .groupby(..., group_keys=False)\n",
      "\n",
      "To adopt the future behavior and silence this warning, use \n",
      "\n",
      "\t>>> .groupby(..., group_keys=True)\n",
      "  pre_df = pre_df.groupby(['좌표X', '좌표Y']).apply(fill_missing_by_group)\n"
     ]
    },
    {
     "data": {
      "text/plain": [
       "873240"
      ]
     },
     "execution_count": 3062,
     "metadata": {},
     "output_type": "execute_result"
    }
   ],
   "source": [
    "# 그룹화하여 동일한 좌표의 단지분류 값을 확인\n",
    "def fill_missing_by_group(group):\n",
    "    # 단지분류가 비어 있지 않은 값 가져오기\n",
    "    non_null_values = group['단지분류'].dropna().unique()\n",
    "    if len(non_null_values) > 0:  # 채울 값이 있는 경우\n",
    "        group['단지분류'] = non_null_values[0]  # 첫 번째 값을 사용\n",
    "    return group\n",
    "\n",
    "pre_df = pre_df.groupby(['좌표X', '좌표Y']).apply(fill_missing_by_group)\n",
    "pre_df['단지분류'].isnull().sum()"
   ]
  },
  {
   "cell_type": "code",
   "execution_count": 3063,
   "metadata": {},
   "outputs": [
    {
     "data": {
      "text/plain": [
       "0.7757740728138822"
      ]
     },
     "execution_count": 3063,
     "metadata": {},
     "output_type": "execute_result"
    }
   ],
   "source": [
    "pre_df['단지분류'].isnull().sum() / len(pre_df)"
   ]
  },
  {
   "cell_type": "code",
   "execution_count": 3064,
   "metadata": {},
   "outputs": [
    {
     "data": {
      "text/plain": [
       "아파트               240162\n",
       "주상복합               11450\n",
       "도시형 생활주택(주상복합)       505\n",
       "도시형 생활주택(아파트)        155\n",
       "연립주택                 125\n",
       "Name: 단지분류, dtype: int64"
      ]
     },
     "execution_count": 3064,
     "metadata": {},
     "output_type": "execute_result"
    }
   ],
   "source": [
    "pre_df['단지분류'].value_counts()"
   ]
  },
  {
   "cell_type": "code",
   "execution_count": 3065,
   "metadata": {},
   "outputs": [
    {
     "data": {
      "text/plain": [
       "아파트     240162\n",
       "주상복합     11450\n",
       "도시형        660\n",
       "연립주택       125\n",
       "Name: 0, dtype: int64"
      ]
     },
     "execution_count": 3065,
     "metadata": {},
     "output_type": "execute_result"
    }
   ],
   "source": [
    "pre_df['단지분류'].str.split(expand=True)[0].value_counts()"
   ]
  },
  {
   "cell_type": "code",
   "execution_count": 3066,
   "metadata": {},
   "outputs": [],
   "source": [
    "pre_df['단지분류'] = pre_df['단지분류'].fillna('미정')"
   ]
  },
  {
   "cell_type": "code",
   "execution_count": 3067,
   "metadata": {},
   "outputs": [
    {
     "data": {
      "text/plain": [
       "미정                873240\n",
       "아파트               240162\n",
       "주상복합               11450\n",
       "도시형 생활주택(주상복합)       505\n",
       "도시형 생활주택(아파트)        155\n",
       "연립주택                 125\n",
       "Name: 단지분류, dtype: int64"
      ]
     },
     "execution_count": 3067,
     "metadata": {},
     "output_type": "execute_result"
    }
   ],
   "source": [
    "pre_df['단지분류'].value_counts()"
   ]
  },
  {
   "cell_type": "code",
   "execution_count": 3068,
   "metadata": {},
   "outputs": [
    {
     "name": "stdout",
     "output_type": "stream",
     "text": [
      "PearsonRResult(statistic=-0.11841741575324871, pvalue=0.0)\n",
      "PearsonRResult(statistic=0.11010324717430199, pvalue=0.0)\n"
     ]
    },
    {
     "name": "stderr",
     "output_type": "stream",
     "text": [
      "/tmp/ipykernel_673659/1741501637.py:8: SettingWithCopyWarning: \n",
      "A value is trying to be set on a copy of a slice from a DataFrame.\n",
      "Try using .loc[row_indexer,col_indexer] = value instead\n",
      "\n",
      "See the caveats in the documentation: https://pandas.pydata.org/pandas-docs/stable/user_guide/indexing.html#returning-a-view-versus-a-copy\n",
      "  tmp['y'] = y\n"
     ]
    }
   ],
   "source": [
    "value_counts = pre_df['단지분류'].value_counts()\n",
    "pre_df['빈도수_단지분류'] = pre_df['단지분류'].map(value_counts)\n",
    "\n",
    "le = LabelEncoder()\n",
    "pre_df['le_단지분류'] = le.fit_transform(pre_df['단지분류'])\n",
    "\n",
    "tmp = pre_df.query('is_test==0')\n",
    "tmp['y'] = y\n",
    "\n",
    "print(pearsonr(tmp['빈도수_단지분류'], tmp['y']))\n",
    "print(pearsonr(tmp['le_단지분류'], tmp['y']))"
   ]
  },
  {
   "cell_type": "code",
   "execution_count": 3069,
   "metadata": {},
   "outputs": [],
   "source": [
    "pre_df['단지분류'] = pre_df['빈도수_단지분류']\n",
    "\n",
    "pre_df.drop(columns=['빈도수_단지분류', 'le_단지분류'], axis=1, inplace=True)\n",
    "concat.drop(columns=['k-단지분류(아파트,주상복합등등)'], axis=1, inplace=True)"
   ]
  },
  {
   "cell_type": "code",
   "execution_count": 3070,
   "metadata": {},
   "outputs": [
    {
     "data": {
      "text/plain": [
       "0"
      ]
     },
     "execution_count": 3070,
     "metadata": {},
     "output_type": "execute_result"
    }
   ],
   "source": [
    "pre_df['단지분류'].isnull().sum()"
   ]
  },
  {
   "cell_type": "markdown",
   "metadata": {},
   "source": [
    "# k-전화번호"
   ]
  },
  {
   "cell_type": "code",
   "execution_count": 3071,
   "metadata": {},
   "outputs": [],
   "source": [
    "concat.drop(columns=['k-전화번호'], axis=1, inplace=True)"
   ]
  },
  {
   "cell_type": "markdown",
   "metadata": {},
   "source": [
    "# k-팩스번호"
   ]
  },
  {
   "cell_type": "code",
   "execution_count": 3072,
   "metadata": {},
   "outputs": [],
   "source": [
    "concat.drop(columns=['k-팩스번호'], axis=1, inplace=True)"
   ]
  },
  {
   "cell_type": "markdown",
   "metadata": {},
   "source": [
    "# 단지소개기존clob"
   ]
  },
  {
   "cell_type": "code",
   "execution_count": 3073,
   "metadata": {},
   "outputs": [
    {
     "data": {
      "text/plain": [
       "0.9385849967618335"
      ]
     },
     "execution_count": 3073,
     "metadata": {},
     "output_type": "execute_result"
    }
   ],
   "source": [
    "concat['단지소개기존clob'].isnull().sum() / len(concat)"
   ]
  },
  {
   "cell_type": "code",
   "execution_count": 3074,
   "metadata": {},
   "outputs": [],
   "source": [
    "concat.drop(columns=['단지소개기존clob'], axis=1, inplace=True)"
   ]
  },
  {
   "cell_type": "markdown",
   "metadata": {},
   "source": [
    "# k-세대타입(분양형태)"
   ]
  },
  {
   "cell_type": "code",
   "execution_count": 3075,
   "metadata": {},
   "outputs": [
    {
     "data": {
      "text/plain": [
       "0.7761827303118145"
      ]
     },
     "execution_count": 3075,
     "metadata": {},
     "output_type": "execute_result"
    }
   ],
   "source": [
    "concat['k-세대타입(분양형태)'].isnull().sum() / len(concat)"
   ]
  },
  {
   "cell_type": "code",
   "execution_count": 3076,
   "metadata": {},
   "outputs": [
    {
     "data": {
      "text/plain": [
       "분양    208079\n",
       "기타     41625\n",
       "임대      2233\n",
       "Name: k-세대타입(분양형태), dtype: int64"
      ]
     },
     "execution_count": 3076,
     "metadata": {},
     "output_type": "execute_result"
    }
   ],
   "source": [
    "concat['k-세대타입(분양형태)'].value_counts()"
   ]
  },
  {
   "cell_type": "code",
   "execution_count": 3077,
   "metadata": {},
   "outputs": [],
   "source": [
    "pre_df['분양형태'] = concat['k-세대타입(분양형태)']"
   ]
  },
  {
   "cell_type": "code",
   "execution_count": 3078,
   "metadata": {},
   "outputs": [],
   "source": [
    "pre_df['분양형태'] = pre_df['분양형태'].fillna('미정')"
   ]
  },
  {
   "cell_type": "code",
   "execution_count": 3079,
   "metadata": {},
   "outputs": [
    {
     "data": {
      "text/plain": [
       "미정    873700\n",
       "분양    208079\n",
       "기타     41625\n",
       "임대      2233\n",
       "Name: 분양형태, dtype: int64"
      ]
     },
     "execution_count": 3079,
     "metadata": {},
     "output_type": "execute_result"
    }
   ],
   "source": [
    "pre_df['분양형태'].value_counts()"
   ]
  },
  {
   "cell_type": "code",
   "execution_count": 3080,
   "metadata": {},
   "outputs": [
    {
     "name": "stdout",
     "output_type": "stream",
     "text": [
      "PearsonRResult(statistic=-0.13111814999981325, pvalue=0.0)\n",
      "PearsonRResult(statistic=-0.024199834566410693, pvalue=3.0613471992600526e-144)\n"
     ]
    },
    {
     "name": "stderr",
     "output_type": "stream",
     "text": [
      "/tmp/ipykernel_673659/832767505.py:8: SettingWithCopyWarning: \n",
      "A value is trying to be set on a copy of a slice from a DataFrame.\n",
      "Try using .loc[row_indexer,col_indexer] = value instead\n",
      "\n",
      "See the caveats in the documentation: https://pandas.pydata.org/pandas-docs/stable/user_guide/indexing.html#returning-a-view-versus-a-copy\n",
      "  tmp['y'] = y\n"
     ]
    }
   ],
   "source": [
    "value_counts = pre_df['분양형태'].value_counts()\n",
    "pre_df['빈도수_분양형태'] = pre_df['분양형태'].map(value_counts)\n",
    "\n",
    "le = LabelEncoder()\n",
    "pre_df['le_분양형태'] = le.fit_transform(pre_df['분양형태'])\n",
    "\n",
    "tmp = pre_df.query('is_test==0')\n",
    "tmp['y'] = y\n",
    "\n",
    "print(pearsonr(tmp['빈도수_분양형태'], tmp['y']))\n",
    "print(pearsonr(tmp['le_분양형태'], tmp['y']))"
   ]
  },
  {
   "cell_type": "code",
   "execution_count": 3081,
   "metadata": {},
   "outputs": [],
   "source": [
    "pre_df['분양형태'] = pre_df['빈도수_분양형태']\n",
    "\n",
    "pre_df.drop(columns=['빈도수_분양형태', 'le_분양형태'], axis=1, inplace=True)\n",
    "concat.drop(columns=['k-세대타입(분양형태)'], axis=1, inplace=True)"
   ]
  },
  {
   "cell_type": "markdown",
   "metadata": {},
   "source": [
    "# k-관리방식"
   ]
  },
  {
   "cell_type": "code",
   "execution_count": 3082,
   "metadata": {},
   "outputs": [
    {
     "data": {
      "text/plain": [
       "0.7761827303118145"
      ]
     },
     "execution_count": 3082,
     "metadata": {},
     "output_type": "execute_result"
    }
   ],
   "source": [
    "concat['k-관리방식'].isnull().sum() / len(concat)"
   ]
  },
  {
   "cell_type": "code",
   "execution_count": 3083,
   "metadata": {},
   "outputs": [
    {
     "data": {
      "text/plain": [
       "위탁관리    230329\n",
       "자치관리     18144\n",
       "직영        3464\n",
       "Name: k-관리방식, dtype: int64"
      ]
     },
     "execution_count": 3083,
     "metadata": {},
     "output_type": "execute_result"
    }
   ],
   "source": [
    "concat['k-관리방식'].value_counts()"
   ]
  },
  {
   "cell_type": "code",
   "execution_count": 3084,
   "metadata": {},
   "outputs": [],
   "source": [
    "pre_df['관리방식'] = concat['k-관리방식']"
   ]
  },
  {
   "cell_type": "code",
   "execution_count": 3085,
   "metadata": {},
   "outputs": [
    {
     "name": "stderr",
     "output_type": "stream",
     "text": [
      "/tmp/ipykernel_673659/2950445045.py:9: FutureWarning: Not prepending group keys to the result index of transform-like apply. In the future, the group keys will be included in the index, regardless of whether the applied function returns a like-indexed object.\n",
      "To preserve the previous behavior, use\n",
      "\n",
      "\t>>> .groupby(..., group_keys=False)\n",
      "\n",
      "To adopt the future behavior and silence this warning, use \n",
      "\n",
      "\t>>> .groupby(..., group_keys=True)\n",
      "  pre_df = pre_df.groupby(['좌표X', '좌표Y']).apply(fill_missing_by_group)\n"
     ]
    }
   ],
   "source": [
    "# 그룹화하여 동일한 좌표의 단지분류 값을 확인\n",
    "def fill_missing_by_group(group):\n",
    "    # 단지분류가 비어 있지 않은 값 가져오기\n",
    "    non_null_values = group['관리방식'].dropna().unique()\n",
    "    if len(non_null_values) > 0:  # 채울 값이 있는 경우\n",
    "        group['관리방식'] = non_null_values[0]  # 첫 번째 값을 사용\n",
    "    return group\n",
    "\n",
    "pre_df = pre_df.groupby(['좌표X', '좌표Y']).apply(fill_missing_by_group)"
   ]
  },
  {
   "cell_type": "code",
   "execution_count": 3086,
   "metadata": {},
   "outputs": [
    {
     "data": {
      "text/plain": [
       "0.7747542058407817"
      ]
     },
     "execution_count": 3086,
     "metadata": {},
     "output_type": "execute_result"
    }
   ],
   "source": [
    "pre_df['관리방식'].isnull().sum() / len(pre_df)"
   ]
  },
  {
   "cell_type": "code",
   "execution_count": 3087,
   "metadata": {},
   "outputs": [],
   "source": [
    "pre_df['관리방식'] = pre_df['관리방식'].fillna('미정')"
   ]
  },
  {
   "cell_type": "code",
   "execution_count": 3088,
   "metadata": {},
   "outputs": [
    {
     "data": {
      "text/plain": [
       "미정      872092\n",
       "위탁관리    231850\n",
       "자치관리     18231\n",
       "직영        3464\n",
       "Name: 관리방식, dtype: int64"
      ]
     },
     "execution_count": 3088,
     "metadata": {},
     "output_type": "execute_result"
    }
   ],
   "source": [
    "pre_df['관리방식'].value_counts()"
   ]
  },
  {
   "cell_type": "code",
   "execution_count": 3089,
   "metadata": {},
   "outputs": [
    {
     "name": "stdout",
     "output_type": "stream",
     "text": [
      "PearsonRResult(statistic=-0.12222838103695553, pvalue=0.0)\n",
      "PearsonRResult(statistic=0.12110190850405597, pvalue=0.0)\n"
     ]
    },
    {
     "name": "stderr",
     "output_type": "stream",
     "text": [
      "/tmp/ipykernel_673659/3776330431.py:8: SettingWithCopyWarning: \n",
      "A value is trying to be set on a copy of a slice from a DataFrame.\n",
      "Try using .loc[row_indexer,col_indexer] = value instead\n",
      "\n",
      "See the caveats in the documentation: https://pandas.pydata.org/pandas-docs/stable/user_guide/indexing.html#returning-a-view-versus-a-copy\n",
      "  tmp['y'] = y\n"
     ]
    }
   ],
   "source": [
    "value_counts = pre_df['관리방식'].value_counts()\n",
    "pre_df['빈도수_관리방식'] = pre_df['관리방식'].map(value_counts)\n",
    "\n",
    "le = LabelEncoder()\n",
    "pre_df['le_관리방식'] = le.fit_transform(pre_df['관리방식'])   \n",
    "\n",
    "tmp = pre_df.query('is_test==0')\n",
    "tmp['y'] = y\n",
    "\n",
    "print(pearsonr(tmp['빈도수_관리방식'], tmp['y']))\n",
    "print(pearsonr(tmp['le_관리방식'], tmp['y']))"
   ]
  },
  {
   "cell_type": "code",
   "execution_count": 3090,
   "metadata": {},
   "outputs": [],
   "source": [
    "pre_df['관리방식'] = pre_df['빈도수_관리방식']\n",
    "\n",
    "pre_df.drop(columns=['빈도수_관리방식', 'le_관리방식'], axis=1, inplace=True)\n",
    "concat.drop(columns=['k-관리방식'], axis=1, inplace=True)"
   ]
  },
  {
   "cell_type": "markdown",
   "metadata": {},
   "source": [
    "# k-복도유형"
   ]
  },
  {
   "cell_type": "code",
   "execution_count": 3091,
   "metadata": {},
   "outputs": [
    {
     "data": {
      "text/plain": [
       "0.7764750092614227"
      ]
     },
     "execution_count": 3091,
     "metadata": {},
     "output_type": "execute_result"
    }
   ],
   "source": [
    "concat['k-복도유형'].isnull().sum() / len(concat)"
   ]
  },
  {
   "cell_type": "code",
   "execution_count": 3092,
   "metadata": {},
   "outputs": [
    {
     "data": {
      "text/plain": [
       "계단식    124940\n",
       "혼합식     85505\n",
       "복도식     38710\n",
       "타워형      1371\n",
       "기타       1082\n",
       "Name: k-복도유형, dtype: int64"
      ]
     },
     "execution_count": 3092,
     "metadata": {},
     "output_type": "execute_result"
    }
   ],
   "source": [
    "concat['k-복도유형'].value_counts()"
   ]
  },
  {
   "cell_type": "code",
   "execution_count": 3093,
   "metadata": {},
   "outputs": [],
   "source": [
    "pre_df['복도유형'] = concat['k-복도유형']"
   ]
  },
  {
   "cell_type": "code",
   "execution_count": 3094,
   "metadata": {},
   "outputs": [
    {
     "name": "stderr",
     "output_type": "stream",
     "text": [
      "/tmp/ipykernel_673659/4044730807.py:9: FutureWarning: Not prepending group keys to the result index of transform-like apply. In the future, the group keys will be included in the index, regardless of whether the applied function returns a like-indexed object.\n",
      "To preserve the previous behavior, use\n",
      "\n",
      "\t>>> .groupby(..., group_keys=False)\n",
      "\n",
      "To adopt the future behavior and silence this warning, use \n",
      "\n",
      "\t>>> .groupby(..., group_keys=True)\n",
      "  pre_df = pre_df.groupby(['좌표X', '좌표Y']).apply(fill_missing_by_group)\n"
     ]
    }
   ],
   "source": [
    "# 그룹화하여 동일한 좌표의 단지분류 값을 확인\n",
    "def fill_missing_by_group(group):\n",
    "    # 단지분류가 비어 있지 않은 값 가져오기\n",
    "    non_null_values = group['복도유형'].dropna().unique()\n",
    "    if len(non_null_values) > 0:  # 채울 값이 있는 경우\n",
    "        group['복도유형'] = non_null_values[0]  # 첫 번째 값을 사용\n",
    "    return group\n",
    "\n",
    "pre_df = pre_df.groupby(['좌표X', '좌표Y']).apply(fill_missing_by_group)"
   ]
  },
  {
   "cell_type": "code",
   "execution_count": 3095,
   "metadata": {},
   "outputs": [
    {
     "data": {
      "text/plain": [
       "0.7750464847903898"
      ]
     },
     "execution_count": 3095,
     "metadata": {},
     "output_type": "execute_result"
    }
   ],
   "source": [
    "pre_df['복도유형'].isnull().sum() / len(pre_df)"
   ]
  },
  {
   "cell_type": "code",
   "execution_count": 3096,
   "metadata": {},
   "outputs": [],
   "source": [
    "pre_df['복도유형'] = pre_df['복도유형'].fillna('미정')"
   ]
  },
  {
   "cell_type": "code",
   "execution_count": 3097,
   "metadata": {},
   "outputs": [
    {
     "data": {
      "text/plain": [
       "미정     872421\n",
       "계단식    126158\n",
       "혼합식     85864\n",
       "복도식     38711\n",
       "타워형      1401\n",
       "기타       1082\n",
       "Name: 복도유형, dtype: int64"
      ]
     },
     "execution_count": 3097,
     "metadata": {},
     "output_type": "execute_result"
    }
   ],
   "source": [
    "pre_df['복도유형'].value_counts()"
   ]
  },
  {
   "cell_type": "code",
   "execution_count": 3098,
   "metadata": {},
   "outputs": [
    {
     "name": "stdout",
     "output_type": "stream",
     "text": [
      "PearsonRResult(statistic=-0.11341166438719608, pvalue=0.0)\n",
      "PearsonRResult(statistic=-0.11623703911263789, pvalue=0.0)\n"
     ]
    },
    {
     "name": "stderr",
     "output_type": "stream",
     "text": [
      "/tmp/ipykernel_673659/762706852.py:8: SettingWithCopyWarning: \n",
      "A value is trying to be set on a copy of a slice from a DataFrame.\n",
      "Try using .loc[row_indexer,col_indexer] = value instead\n",
      "\n",
      "See the caveats in the documentation: https://pandas.pydata.org/pandas-docs/stable/user_guide/indexing.html#returning-a-view-versus-a-copy\n",
      "  tmp['y'] = y\n"
     ]
    }
   ],
   "source": [
    "value_counts = pre_df['복도유형'].value_counts()\n",
    "pre_df['빈도수_복도유형'] = pre_df['복도유형'].map(value_counts)\n",
    "\n",
    "le = LabelEncoder()\n",
    "pre_df['le_복도유형'] = le.fit_transform(pre_df['복도유형'])   \n",
    "\n",
    "tmp = pre_df.query('is_test==0')\n",
    "tmp['y'] = y\n",
    "\n",
    "print(pearsonr(tmp['빈도수_복도유형'], tmp['y']))\n",
    "print(pearsonr(tmp['le_복도유형'], tmp['y']))"
   ]
  },
  {
   "cell_type": "code",
   "execution_count": 3099,
   "metadata": {},
   "outputs": [],
   "source": [
    "pre_df['복도유형'] = pre_df['le_복도유형']\n",
    "\n",
    "pre_df.drop(columns=['빈도수_복도유형', 'le_복도유형'], axis=1, inplace=True)\n",
    "concat.drop(columns=['k-복도유형'], axis=1, inplace=True)"
   ]
  },
  {
   "cell_type": "markdown",
   "metadata": {},
   "source": [
    "# k-난방방식"
   ]
  },
  {
   "cell_type": "code",
   "execution_count": 3100,
   "metadata": {},
   "outputs": [
    {
     "data": {
      "text/plain": [
       "0.7761827303118145"
      ]
     },
     "execution_count": 3100,
     "metadata": {},
     "output_type": "execute_result"
    }
   ],
   "source": [
    "concat['k-난방방식'].isnull().sum() / len(concat)"
   ]
  },
  {
   "cell_type": "code",
   "execution_count": 3101,
   "metadata": {},
   "outputs": [],
   "source": [
    "pre_df['난방방식'] = concat['k-난방방식']"
   ]
  },
  {
   "cell_type": "code",
   "execution_count": 3102,
   "metadata": {},
   "outputs": [
    {
     "name": "stderr",
     "output_type": "stream",
     "text": [
      "/tmp/ipykernel_673659/2283019425.py:9: FutureWarning: Not prepending group keys to the result index of transform-like apply. In the future, the group keys will be included in the index, regardless of whether the applied function returns a like-indexed object.\n",
      "To preserve the previous behavior, use\n",
      "\n",
      "\t>>> .groupby(..., group_keys=False)\n",
      "\n",
      "To adopt the future behavior and silence this warning, use \n",
      "\n",
      "\t>>> .groupby(..., group_keys=True)\n",
      "  pre_df = pre_df.groupby(['좌표X', '좌표Y']).apply(fill_missing_by_group)\n"
     ]
    }
   ],
   "source": [
    "# 그룹화하여 동일한 좌표의 단지분류 값을 확인\n",
    "def fill_missing_by_group(group):\n",
    "    # 단지분류가 비어 있지 않은 값 가져오기\n",
    "    non_null_values = group['난방방식'].dropna().unique()\n",
    "    if len(non_null_values) > 0:  # 채울 값이 있는 경우\n",
    "        group['난방방식'] = non_null_values[0]  # 첫 번째 값을 사용\n",
    "    return group\n",
    "\n",
    "pre_df = pre_df.groupby(['좌표X', '좌표Y']).apply(fill_missing_by_group)"
   ]
  },
  {
   "cell_type": "code",
   "execution_count": 3103,
   "metadata": {},
   "outputs": [
    {
     "data": {
      "text/plain": [
       "0.7747542058407817"
      ]
     },
     "execution_count": 3103,
     "metadata": {},
     "output_type": "execute_result"
    }
   ],
   "source": [
    "pre_df['난방방식'].isnull().sum() / len(pre_df)"
   ]
  },
  {
   "cell_type": "code",
   "execution_count": 3104,
   "metadata": {},
   "outputs": [
    {
     "data": {
      "text/plain": [
       "개별난방    153194\n",
       "지역난방     85573\n",
       "중앙난방     12687\n",
       "기타        2091\n",
       "Name: 난방방식, dtype: int64"
      ]
     },
     "execution_count": 3104,
     "metadata": {},
     "output_type": "execute_result"
    }
   ],
   "source": [
    "pre_df['난방방식'].value_counts()"
   ]
  },
  {
   "cell_type": "code",
   "execution_count": 3105,
   "metadata": {},
   "outputs": [],
   "source": [
    "pre_df['난방방식'] = pre_df['난방방식'].fillna('미정')"
   ]
  },
  {
   "cell_type": "code",
   "execution_count": 3106,
   "metadata": {},
   "outputs": [
    {
     "name": "stdout",
     "output_type": "stream",
     "text": [
      "PearsonRResult(statistic=-0.12464014953825002, pvalue=0.0)\n",
      "PearsonRResult(statistic=0.09421090665162461, pvalue=0.0)\n"
     ]
    },
    {
     "name": "stderr",
     "output_type": "stream",
     "text": [
      "/tmp/ipykernel_673659/2651802015.py:8: SettingWithCopyWarning: \n",
      "A value is trying to be set on a copy of a slice from a DataFrame.\n",
      "Try using .loc[row_indexer,col_indexer] = value instead\n",
      "\n",
      "See the caveats in the documentation: https://pandas.pydata.org/pandas-docs/stable/user_guide/indexing.html#returning-a-view-versus-a-copy\n",
      "  tmp['y'] = y\n"
     ]
    }
   ],
   "source": [
    "value_counts = pre_df['난방방식'].value_counts()\n",
    "pre_df['빈도수_난방방식'] = pre_df['난방방식'].map(value_counts)\n",
    "\n",
    "le = LabelEncoder()\n",
    "pre_df['le_난방방식'] = le.fit_transform(pre_df['난방방식'])   \n",
    "\n",
    "tmp = pre_df.query('is_test==0')\n",
    "tmp['y'] = y\n",
    "\n",
    "print(pearsonr(tmp['빈도수_난방방식'], tmp['y']))\n",
    "print(pearsonr(tmp['le_난방방식'], tmp['y']))"
   ]
  },
  {
   "cell_type": "code",
   "execution_count": 3107,
   "metadata": {},
   "outputs": [],
   "source": [
    "pre_df['난방방식'] = pre_df['빈도수_난방방식']\n",
    "\n",
    "pre_df.drop(columns=['빈도수_난방방식', 'le_난방방식'], axis=1, inplace=True)\n",
    "concat.drop(columns=['k-난방방식'], axis=1, inplace=True)"
   ]
  },
  {
   "cell_type": "markdown",
   "metadata": {},
   "source": [
    "# k-전체동수"
   ]
  },
  {
   "cell_type": "code",
   "execution_count": 3108,
   "metadata": {},
   "outputs": [
    {
     "data": {
      "text/plain": [
       "0.7771439638178205"
      ]
     },
     "execution_count": 3108,
     "metadata": {},
     "output_type": "execute_result"
    }
   ],
   "source": [
    "concat['k-전체동수'].isnull().sum() / len(concat)"
   ]
  },
  {
   "cell_type": "code",
   "execution_count": 3109,
   "metadata": {},
   "outputs": [],
   "source": [
    "pre_df['전체동수'] = concat['k-전체동수']"
   ]
  },
  {
   "cell_type": "code",
   "execution_count": 3110,
   "metadata": {},
   "outputs": [
    {
     "name": "stderr",
     "output_type": "stream",
     "text": [
      "/tmp/ipykernel_673659/3801945013.py:9: FutureWarning: Not prepending group keys to the result index of transform-like apply. In the future, the group keys will be included in the index, regardless of whether the applied function returns a like-indexed object.\n",
      "To preserve the previous behavior, use\n",
      "\n",
      "\t>>> .groupby(..., group_keys=False)\n",
      "\n",
      "To adopt the future behavior and silence this warning, use \n",
      "\n",
      "\t>>> .groupby(..., group_keys=True)\n",
      "  pre_df = pre_df.groupby(['좌표X', '좌표Y']).apply(fill_missing_by_group)\n"
     ]
    }
   ],
   "source": [
    "# 그룹화하여 동일한 좌표의 단지분류 값을 확인\n",
    "def fill_missing_by_group(group):\n",
    "    # 단지분류가 비어 있지 않은 값 가져오기\n",
    "    non_null_values = group['전체동수'].dropna().unique()\n",
    "    if len(non_null_values) > 0:  # 채울 값이 있는 경우\n",
    "        group['전체동수'] = non_null_values[0]  # 첫 번째 값을 사용\n",
    "    return group\n",
    "\n",
    "pre_df = pre_df.groupby(['좌표X', '좌표Y']).apply(fill_missing_by_group)"
   ]
  },
  {
   "cell_type": "code",
   "execution_count": 3111,
   "metadata": {},
   "outputs": [
    {
     "data": {
      "text/plain": [
       "0.7757154393467877"
      ]
     },
     "execution_count": 3111,
     "metadata": {},
     "output_type": "execute_result"
    }
   ],
   "source": [
    "pre_df['전체동수'].isnull().sum() / len(pre_df)"
   ]
  },
  {
   "cell_type": "code",
   "execution_count": 3112,
   "metadata": {},
   "outputs": [
    {
     "data": {
      "text/html": [
       "<div>\n",
       "<style scoped>\n",
       "    .dataframe tbody tr th:only-of-type {\n",
       "        vertical-align: middle;\n",
       "    }\n",
       "\n",
       "    .dataframe tbody tr th {\n",
       "        vertical-align: top;\n",
       "    }\n",
       "\n",
       "    .dataframe thead th {\n",
       "        text-align: right;\n",
       "    }\n",
       "</style>\n",
       "<table border=\"1\" class=\"dataframe\">\n",
       "  <thead>\n",
       "    <tr style=\"text-align: right;\">\n",
       "      <th></th>\n",
       "      <th>is_test</th>\n",
       "      <th>본번</th>\n",
       "      <th>부번</th>\n",
       "      <th>좌표Y</th>\n",
       "      <th>좌표X</th>\n",
       "      <th>동</th>\n",
       "      <th>강남구</th>\n",
       "      <th>강동구</th>\n",
       "      <th>강북구</th>\n",
       "      <th>강서구</th>\n",
       "      <th>...</th>\n",
       "      <th>계약_일</th>\n",
       "      <th>층</th>\n",
       "      <th>건축년도</th>\n",
       "      <th>도로명</th>\n",
       "      <th>단지분류</th>\n",
       "      <th>분양형태</th>\n",
       "      <th>관리방식</th>\n",
       "      <th>복도유형</th>\n",
       "      <th>난방방식</th>\n",
       "      <th>전체동수</th>\n",
       "    </tr>\n",
       "  </thead>\n",
       "  <tbody>\n",
       "  </tbody>\n",
       "</table>\n",
       "<p>0 rows × 45 columns</p>\n",
       "</div>"
      ],
      "text/plain": [
       "Empty DataFrame\n",
       "Columns: [is_test, 본번, 부번, 좌표Y, 좌표X, 동, 강남구, 강동구, 강북구, 강서구, 관악구, 광진구, 구로구, 금천구, 노원구, 도봉구, 동대문구, 동작구, 마포구, 서대문구, 서초구, 성동구, 성북구, 송파구, 양천구, 영등포구, 용산구, 은평구, 종로구, 중구, 중랑구, 아파트명, 전용면적, 계약_년, 계약_월, 계약_일, 층, 건축년도, 도로명, 단지분류, 분양형태, 관리방식, 복도유형, 난방방식, 전체동수]\n",
       "Index: []\n",
       "\n",
       "[0 rows x 45 columns]"
      ]
     },
     "execution_count": 3112,
     "metadata": {},
     "output_type": "execute_result"
    }
   ],
   "source": [
    "pre_df[pre_df['전체동수'] <= 0]"
   ]
  },
  {
   "cell_type": "code",
   "execution_count": 3113,
   "metadata": {},
   "outputs": [
    {
     "name": "stderr",
     "output_type": "stream",
     "text": [
      "/tmp/ipykernel_673659/3455941176.py:2: SettingWithCopyWarning: \n",
      "A value is trying to be set on a copy of a slice from a DataFrame.\n",
      "Try using .loc[row_indexer,col_indexer] = value instead\n",
      "\n",
      "See the caveats in the documentation: https://pandas.pydata.org/pandas-docs/stable/user_guide/indexing.html#returning-a-view-versus-a-copy\n",
      "  tmp['y'] = y\n"
     ]
    },
    {
     "name": "stdout",
     "output_type": "stream",
     "text": [
      "Linear Interpolation: Pearson Correlation = 0.1155, P-value = 0.0000\n",
      "Forward Fill (ffill): Pearson Correlation = 0.1063, P-value = 0.0000\n",
      "Backward Fill (bfill): Pearson Correlation = 0.1089, P-value = 0.0000\n",
      "fillna (fillna): Pearson Correlation = 0.1740, P-value = 0.0000\n"
     ]
    }
   ],
   "source": [
    "tmp = pre_df.query('is_test==0')\n",
    "tmp['y'] = y\n",
    "\n",
    "\n",
    "def calculate_pearson(df, method):\n",
    "    corr, p_value = pearsonr(df['전체동수'], df['y'])\n",
    "    return corr, p_value\n",
    "\n",
    "# 1. 선형 보간 (linear interpolation)\n",
    "df_linear = tmp.copy()\n",
    "df_linear['전체동수'] = df_linear['전체동수'].interpolate(method='linear')\n",
    "\n",
    "# 2. Forward fill (ffill)\n",
    "df_ffill = tmp.copy()\n",
    "df_ffill['전체동수'] = df_ffill['전체동수'].fillna(method='ffill')\n",
    "\n",
    "# 3. Backward fill (bfill)\n",
    "df_bfill = tmp.copy()\n",
    "df_bfill['전체동수'] = df_bfill['전체동수'].fillna(method='bfill')\n",
    "\n",
    "# 4. fillna 0\n",
    "df_fillna = tmp.copy()\n",
    "df_fillna['전체동수'] = df_fillna['전체동수'].fillna(0)\n",
    "\n",
    "# 피어슨 상관계수 계산\n",
    "results = {\n",
    "    'Linear Interpolation': calculate_pearson(df_linear, 'linear'),\n",
    "    'Forward Fill (ffill)': calculate_pearson(df_ffill, 'ffill'),\n",
    "    'Backward Fill (bfill)': calculate_pearson(df_bfill, 'bfill'),\n",
    "    'fillna (fillna)' : calculate_pearson(df_fillna, 'fillna')\n",
    "}\n",
    "\n",
    "# 결과 출력\n",
    "for method, (corr, p_value) in results.items():\n",
    "    print(f\"{method}: Pearson Correlation = {corr:.4f}, P-value = {p_value:.4f}\")"
   ]
  },
  {
   "cell_type": "code",
   "execution_count": 3114,
   "metadata": {},
   "outputs": [
    {
     "data": {
      "text/plain": [
       "0"
      ]
     },
     "execution_count": 3114,
     "metadata": {},
     "output_type": "execute_result"
    }
   ],
   "source": [
    "pre_df['전체동수'] = pre_df['전체동수'].fillna(0)\n",
    "pre_df['전체동수'].isnull().sum()"
   ]
  },
  {
   "cell_type": "code",
   "execution_count": 3115,
   "metadata": {},
   "outputs": [],
   "source": [
    "concat.drop(columns=['k-전체동수'], axis=1, inplace=True)"
   ]
  },
  {
   "cell_type": "markdown",
   "metadata": {},
   "source": [
    "# k-전체세대수"
   ]
  },
  {
   "cell_type": "code",
   "execution_count": 3116,
   "metadata": {},
   "outputs": [
    {
     "data": {
      "text/plain": [
       "0.7761827303118145"
      ]
     },
     "execution_count": 3116,
     "metadata": {},
     "output_type": "execute_result"
    }
   ],
   "source": [
    "concat['k-전체세대수'].isnull().sum() / len(concat)"
   ]
  },
  {
   "cell_type": "code",
   "execution_count": 3117,
   "metadata": {},
   "outputs": [
    {
     "data": {
      "text/plain": [
       "<Axes: >"
      ]
     },
     "execution_count": 3117,
     "metadata": {},
     "output_type": "execute_result"
    },
    {
     "data": {
      "image/png": "[encoded data removed]",
      "text/plain": [
       "<Figure size 640x480 with 1 Axes>"
      ]
     },
     "metadata": {},
     "output_type": "display_data"
    }
   ],
   "source": [
    "concat['k-전체세대수'].hist()"
   ]
  },
  {
   "cell_type": "code",
   "execution_count": 3118,
   "metadata": {},
   "outputs": [],
   "source": [
    "pre_df['전체세대수'] = concat['k-전체세대수']"
   ]
  },
  {
   "cell_type": "code",
   "execution_count": 3119,
   "metadata": {},
   "outputs": [
    {
     "name": "stderr",
     "output_type": "stream",
     "text": [
      "/tmp/ipykernel_673659/255560621.py:9: FutureWarning: Not prepending group keys to the result index of transform-like apply. In the future, the group keys will be included in the index, regardless of whether the applied function returns a like-indexed object.\n",
      "To preserve the previous behavior, use\n",
      "\n",
      "\t>>> .groupby(..., group_keys=False)\n",
      "\n",
      "To adopt the future behavior and silence this warning, use \n",
      "\n",
      "\t>>> .groupby(..., group_keys=True)\n",
      "  pre_df = pre_df.groupby(['좌표X', '좌표Y']).apply(fill_missing_by_group)\n"
     ]
    }
   ],
   "source": [
    "# 그룹화하여 동일한 좌표의 단지분류 값을 확인\n",
    "def fill_missing_by_group(group):\n",
    "    # 단지분류가 비어 있지 않은 값 가져오기\n",
    "    non_null_values = group['전체세대수'].dropna().unique()\n",
    "    if len(non_null_values) > 0:  # 채울 값이 있는 경우\n",
    "        group['전체세대수'] = non_null_values[0]  # 첫 번째 값을 사용\n",
    "    return group\n",
    "\n",
    "pre_df = pre_df.groupby(['좌표X', '좌표Y']).apply(fill_missing_by_group)"
   ]
  },
  {
   "cell_type": "code",
   "execution_count": 3120,
   "metadata": {},
   "outputs": [
    {
     "data": {
      "text/plain": [
       "0.7747542058407817"
      ]
     },
     "execution_count": 3120,
     "metadata": {},
     "output_type": "execute_result"
    }
   ],
   "source": [
    "pre_df['전체세대수'].isnull().sum() / len(pre_df)"
   ]
  },
  {
   "cell_type": "code",
   "execution_count": 3121,
   "metadata": {},
   "outputs": [
    {
     "name": "stderr",
     "output_type": "stream",
     "text": [
      "/tmp/ipykernel_673659/654649330.py:2: SettingWithCopyWarning: \n",
      "A value is trying to be set on a copy of a slice from a DataFrame.\n",
      "Try using .loc[row_indexer,col_indexer] = value instead\n",
      "\n",
      "See the caveats in the documentation: https://pandas.pydata.org/pandas-docs/stable/user_guide/indexing.html#returning-a-view-versus-a-copy\n",
      "  tmp['y'] = y\n"
     ]
    },
    {
     "name": "stdout",
     "output_type": "stream",
     "text": [
      "Linear Interpolation: Pearson Correlation = 0.1196, P-value = 0.0000\n",
      "Forward Fill (ffill): Pearson Correlation = 0.1117, P-value = 0.0000\n",
      "Backward Fill (bfill): Pearson Correlation = 0.1071, P-value = 0.0000\n",
      "fillna (fillna): Pearson Correlation = 0.1690, P-value = 0.0000\n"
     ]
    }
   ],
   "source": [
    "tmp = pre_df.query('is_test==0')\n",
    "tmp['y'] = y\n",
    "\n",
    "\n",
    "def calculate_pearson(df, method):\n",
    "    corr, p_value = pearsonr(df['전체세대수'], df['y'])\n",
    "    return corr, p_value\n",
    "\n",
    "# 1. 선형 보간 (linear interpolation)\n",
    "df_linear = tmp.copy()\n",
    "df_linear['전체세대수'] = df_linear['전체세대수'].interpolate(method='linear')\n",
    "\n",
    "# 2. Forward fill (ffill)\n",
    "df_ffill = tmp.copy()\n",
    "df_ffill['전체세대수'] = df_ffill['전체세대수'].fillna(method='ffill')\n",
    "\n",
    "# 3. Backward fill (bfill)\n",
    "df_bfill = tmp.copy()\n",
    "df_bfill['전체세대수'] = df_bfill['전체세대수'].fillna(method='bfill')\n",
    "\n",
    "# 4. fillna 0\n",
    "df_fillna = tmp.copy()\n",
    "df_fillna['전체세대수'] = df_fillna['전체세대수'].fillna(0)\n",
    "\n",
    "# 피어슨 상관계수 계산\n",
    "results = {\n",
    "    'Linear Interpolation': calculate_pearson(df_linear, 'linear'),\n",
    "    'Forward Fill (ffill)': calculate_pearson(df_ffill, 'ffill'),\n",
    "    'Backward Fill (bfill)': calculate_pearson(df_bfill, 'bfill'),\n",
    "    'fillna (fillna)' : calculate_pearson(df_fillna, 'fillna')\n",
    "}\n",
    "\n",
    "# 결과 출력\n",
    "for method, (corr, p_value) in results.items():\n",
    "    print(f\"{method}: Pearson Correlation = {corr:.4f}, P-value = {p_value:.4f}\")"
   ]
  },
  {
   "cell_type": "code",
   "execution_count": 3122,
   "metadata": {},
   "outputs": [
    {
     "data": {
      "text/plain": [
       "0"
      ]
     },
     "execution_count": 3122,
     "metadata": {},
     "output_type": "execute_result"
    }
   ],
   "source": [
    "pre_df['전체세대수'] = pre_df['전체세대수'].fillna(0)\n",
    "pre_df['전체세대수'].isnull().sum()"
   ]
  },
  {
   "cell_type": "code",
   "execution_count": 3123,
   "metadata": {},
   "outputs": [],
   "source": [
    "concat.drop(columns=['k-전체세대수'], axis=1, inplace=True)"
   ]
  },
  {
   "cell_type": "markdown",
   "metadata": {},
   "source": [
    "# k-건설사(시공사)"
   ]
  },
  {
   "cell_type": "code",
   "execution_count": 3124,
   "metadata": {},
   "outputs": [
    {
     "data": {
      "text/plain": [
       "0.7775259697398007"
      ]
     },
     "execution_count": 3124,
     "metadata": {},
     "output_type": "execute_result"
    }
   ],
   "source": [
    "concat['k-건설사(시공사)'].isnull().sum() / len(concat)"
   ]
  },
  {
   "cell_type": "code",
   "execution_count": 3125,
   "metadata": {},
   "outputs": [
    {
     "data": {
      "text/plain": [
       "삼성물산         14259\n",
       "대우건설         11549\n",
       "현대건설         10575\n",
       "대한주택공사        7665\n",
       "GS건설          7015\n",
       "             ...  \n",
       "두산               5\n",
       "신영건설             3\n",
       "자이에스앤디(주)        2\n",
       "혜림건설             1\n",
       "삼익건설(주)          1\n",
       "Name: k-건설사(시공사), Length: 344, dtype: int64"
      ]
     },
     "execution_count": 3125,
     "metadata": {},
     "output_type": "execute_result"
    }
   ],
   "source": [
    "concat['k-건설사(시공사)'].value_counts()"
   ]
  },
  {
   "cell_type": "code",
   "execution_count": 3126,
   "metadata": {},
   "outputs": [
    {
     "data": {
      "text/plain": [
       "삼성물산         14505\n",
       "대우건설         11549\n",
       "현대건설         10575\n",
       "대한주택공사        7665\n",
       "GS건설          7015\n",
       "             ...  \n",
       "두산               5\n",
       "신영건설             3\n",
       "자이에스앤디(주)        2\n",
       "혜림건설             1\n",
       "삼익건설(주)          1\n",
       "Name: k-건설사(시공사), Length: 332, dtype: int64"
      ]
     },
     "execution_count": 3126,
     "metadata": {},
     "output_type": "execute_result"
    }
   ],
   "source": [
    "concat['k-건설사(시공사)'] = concat['k-건설사(시공사)'].str.split(' ', expand=True)[0]\n",
    "concat['k-건설사(시공사)'].value_counts()"
   ]
  },
  {
   "cell_type": "code",
   "execution_count": 3127,
   "metadata": {},
   "outputs": [
    {
     "name": "stderr",
     "output_type": "stream",
     "text": [
      "/tmp/ipykernel_673659/3494475773.py:1: FutureWarning: The default value of regex will change from True to False in a future version.\n",
      "  concat['k-건설사(시공사)'] = concat['k-건설사(시공사)'].str.replace('\\(주\\)', '')\n"
     ]
    },
    {
     "data": {
      "text/plain": [
       "삼성물산      19999\n",
       "현대건설      16801\n",
       "대우건설      15797\n",
       "GS건설       8494\n",
       "현대산업개발     7714\n",
       "          ...  \n",
       "한라건설         12\n",
       "두산            5\n",
       "신영건설          3\n",
       "자이에스앤디        2\n",
       "혜림건설          1\n",
       "Name: k-건설사(시공사), Length: 261, dtype: int64"
      ]
     },
     "execution_count": 3127,
     "metadata": {},
     "output_type": "execute_result"
    }
   ],
   "source": [
    "concat['k-건설사(시공사)'] = concat['k-건설사(시공사)'].str.replace('\\(주\\)', '')\n",
    "concat['k-건설사(시공사)'].value_counts()"
   ]
  },
  {
   "cell_type": "code",
   "execution_count": 3128,
   "metadata": {},
   "outputs": [],
   "source": [
    "pre_df['건설사(시공사)'] = concat['k-건설사(시공사)']"
   ]
  },
  {
   "cell_type": "code",
   "execution_count": 3129,
   "metadata": {},
   "outputs": [
    {
     "name": "stderr",
     "output_type": "stream",
     "text": [
      "/tmp/ipykernel_673659/3855625345.py:9: FutureWarning: Not prepending group keys to the result index of transform-like apply. In the future, the group keys will be included in the index, regardless of whether the applied function returns a like-indexed object.\n",
      "To preserve the previous behavior, use\n",
      "\n",
      "\t>>> .groupby(..., group_keys=False)\n",
      "\n",
      "To adopt the future behavior and silence this warning, use \n",
      "\n",
      "\t>>> .groupby(..., group_keys=True)\n",
      "  pre_df = pre_df.groupby(['좌표X', '좌표Y']).apply(fill_missing_by_group)\n"
     ]
    }
   ],
   "source": [
    "# 그룹화하여 동일한 좌표의 단지분류 값을 확인\n",
    "def fill_missing_by_group(group):\n",
    "    # 단지분류가 비어 있지 않은 값 가져오기\n",
    "    non_null_values = group['건설사(시공사)'].dropna().unique()\n",
    "    if len(non_null_values) > 0:  # 채울 값이 있는 경우\n",
    "        group['건설사(시공사)'] = non_null_values[0]  # 첫 번째 값을 사용\n",
    "    return group\n",
    "\n",
    "pre_df = pre_df.groupby(['좌표X', '좌표Y']).apply(fill_missing_by_group)"
   ]
  },
  {
   "cell_type": "code",
   "execution_count": 3130,
   "metadata": {},
   "outputs": [
    {
     "data": {
      "text/plain": [
       "0.7760974452687678"
      ]
     },
     "execution_count": 3130,
     "metadata": {},
     "output_type": "execute_result"
    }
   ],
   "source": [
    "pre_df['건설사(시공사)'].isnull().sum() / len(pre_df)"
   ]
  },
  {
   "cell_type": "code",
   "execution_count": 3131,
   "metadata": {},
   "outputs": [],
   "source": [
    "pre_df['건설사(시공사)'] = pre_df['건설사(시공사)'].fillna('미정')"
   ]
  },
  {
   "cell_type": "code",
   "execution_count": 3132,
   "metadata": {},
   "outputs": [
    {
     "name": "stdout",
     "output_type": "stream",
     "text": [
      "PearsonRResult(statistic=-0.11987076249592696, pvalue=0.0)\n",
      "PearsonRResult(statistic=-0.002740935230025634, pvalue=0.0037792307935457154)\n"
     ]
    },
    {
     "name": "stderr",
     "output_type": "stream",
     "text": [
      "/tmp/ipykernel_673659/2693590716.py:8: SettingWithCopyWarning: \n",
      "A value is trying to be set on a copy of a slice from a DataFrame.\n",
      "Try using .loc[row_indexer,col_indexer] = value instead\n",
      "\n",
      "See the caveats in the documentation: https://pandas.pydata.org/pandas-docs/stable/user_guide/indexing.html#returning-a-view-versus-a-copy\n",
      "  tmp['y'] = y\n"
     ]
    }
   ],
   "source": [
    "value_counts = pre_df['건설사(시공사)'].value_counts()\n",
    "pre_df['빈도수_건설사(시공사)'] = pre_df['건설사(시공사)'].map(value_counts)\n",
    "\n",
    "le = LabelEncoder()\n",
    "pre_df['le_건설사(시공사)'] = le.fit_transform(pre_df['건설사(시공사)'])\n",
    "\n",
    "tmp = pre_df.query('is_test==0')\n",
    "tmp['y'] = y\n",
    "\n",
    "print(pearsonr(tmp['빈도수_건설사(시공사)'], tmp['y']))\n",
    "print(pearsonr(tmp['le_건설사(시공사)'], tmp['y']))"
   ]
  },
  {
   "cell_type": "code",
   "execution_count": 3133,
   "metadata": {},
   "outputs": [],
   "source": [
    "pre_df['건설사(시공사)'] = pre_df['빈도수_건설사(시공사)']\n",
    "\n",
    "pre_df.drop(columns=['빈도수_건설사(시공사)', 'le_건설사(시공사)'], axis=1, inplace=True)\n",
    "\n",
    "concat.drop(columns=['k-건설사(시공사)'], axis=1, inplace=True)"
   ]
  },
  {
   "cell_type": "markdown",
   "metadata": {},
   "source": [
    "# k-시행사"
   ]
  },
  {
   "cell_type": "code",
   "execution_count": 3134,
   "metadata": {},
   "outputs": [
    {
     "data": {
      "text/plain": [
       "0.7777009817552195"
      ]
     },
     "execution_count": 3134,
     "metadata": {},
     "output_type": "execute_result"
    }
   ],
   "source": [
    "concat['k-시행사'].isnull().sum() / len(concat)"
   ]
  },
  {
   "cell_type": "code",
   "execution_count": 3135,
   "metadata": {},
   "outputs": [
    {
     "data": {
      "text/plain": [
       "SH공사              12591\n",
       "대한주택공사             7784\n",
       "도시개발공사             4284\n",
       "sh공사               4194\n",
       "재건축조합              4065\n",
       "                  ...  \n",
       "(주)에스떠블유산업개발          2\n",
       "청명종합건설(주)             2\n",
       "사당3주택재건축정비사업조합        2\n",
       "개포우성9차모델링조합           2\n",
       "한호건설(주)               2\n",
       "Name: k-시행사, Length: 556, dtype: int64"
      ]
     },
     "execution_count": 3135,
     "metadata": {},
     "output_type": "execute_result"
    }
   ],
   "source": [
    "concat['k-시행사'].value_counts()"
   ]
  },
  {
   "cell_type": "code",
   "execution_count": 3136,
   "metadata": {},
   "outputs": [],
   "source": [
    "concat['k-시행사'] = concat['k-시행사'].str.split(' ', expand=True)[0]"
   ]
  },
  {
   "cell_type": "code",
   "execution_count": 3137,
   "metadata": {},
   "outputs": [
    {
     "data": {
      "text/plain": [
       "SH공사              12591\n",
       "대한주택공사             7784\n",
       "서울시                5687\n",
       "도시개발공사             4284\n",
       "sh공사               4194\n",
       "                  ...  \n",
       "청명종합건설(주)             2\n",
       "(주)에스떠블유산업개발          2\n",
       "사당3주택재건축정비사업조합        2\n",
       "개포우성9차모델링조합           2\n",
       "한호건설(주)               2\n",
       "Name: k-시행사, Length: 548, dtype: int64"
      ]
     },
     "execution_count": 3137,
     "metadata": {},
     "output_type": "execute_result"
    }
   ],
   "source": [
    "concat['k-시행사'].value_counts()"
   ]
  },
  {
   "cell_type": "code",
   "execution_count": 3138,
   "metadata": {},
   "outputs": [
    {
     "name": "stderr",
     "output_type": "stream",
     "text": [
      "/tmp/ipykernel_673659/2959314877.py:1: FutureWarning: The default value of regex will change from True to False in a future version.\n",
      "  concat['k-시행사'] = concat['k-시행사'].str.replace('\\(주\\)', '')\n"
     ]
    },
    {
     "data": {
      "text/plain": [
       "SH공사              12591\n",
       "대한주택공사             7784\n",
       "서울시                5687\n",
       "현대건설               4753\n",
       "도시개발공사             4284\n",
       "                  ...  \n",
       "청명종합건설                2\n",
       "에스떠블유산업개발             2\n",
       "사당3주택재건축정비사업조합        2\n",
       "개포우성9차모델링조합           2\n",
       "한호건설                  2\n",
       "Name: k-시행사, Length: 527, dtype: int64"
      ]
     },
     "execution_count": 3138,
     "metadata": {},
     "output_type": "execute_result"
    }
   ],
   "source": [
    "concat['k-시행사'] = concat['k-시행사'].str.replace('\\(주\\)', '')\n",
    "concat['k-시행사'].value_counts()"
   ]
  },
  {
   "cell_type": "code",
   "execution_count": 3139,
   "metadata": {},
   "outputs": [
    {
     "data": {
      "text/plain": [
       "SH공사             12591\n",
       "대한주택공사            7784\n",
       "서울시               5687\n",
       "현대건설              4753\n",
       "도시개발공사            4284\n",
       "                 ...  \n",
       "청명종합건설               2\n",
       "에스떠블유산업개발            2\n",
       "사당주택재건축정비사업조합        2\n",
       "개포우성차모델링조합           2\n",
       "한호건설                 2\n",
       "Name: k-시행사, Length: 519, dtype: int64"
      ]
     },
     "execution_count": 3139,
     "metadata": {},
     "output_type": "execute_result"
    }
   ],
   "source": [
    "concat['k-시행사'] = concat['k-시행사'].str.replace(r'\\d', '', regex=True)\n",
    "concat['k-시행사'].value_counts()"
   ]
  },
  {
   "cell_type": "code",
   "execution_count": 3140,
   "metadata": {},
   "outputs": [],
   "source": [
    "pre_df['시행사'] = concat['k-시행사']"
   ]
  },
  {
   "cell_type": "code",
   "execution_count": 3141,
   "metadata": {},
   "outputs": [],
   "source": [
    "pre_df['시행사'] = pre_df['시행사'].fillna('미정')"
   ]
  },
  {
   "cell_type": "code",
   "execution_count": 3142,
   "metadata": {},
   "outputs": [
    {
     "name": "stdout",
     "output_type": "stream",
     "text": [
      "PearsonRResult(statistic=-0.12023327753684886, pvalue=0.0)\n",
      "PearsonRResult(statistic=0.05975097118510941, pvalue=0.0)\n"
     ]
    },
    {
     "name": "stderr",
     "output_type": "stream",
     "text": [
      "/tmp/ipykernel_673659/2062971187.py:8: SettingWithCopyWarning: \n",
      "A value is trying to be set on a copy of a slice from a DataFrame.\n",
      "Try using .loc[row_indexer,col_indexer] = value instead\n",
      "\n",
      "See the caveats in the documentation: https://pandas.pydata.org/pandas-docs/stable/user_guide/indexing.html#returning-a-view-versus-a-copy\n",
      "  tmp['y'] = y\n"
     ]
    }
   ],
   "source": [
    "value_counts = pre_df['시행사'].value_counts()\n",
    "pre_df['빈도수_시행사'] = pre_df['시행사'].map(value_counts)\n",
    "\n",
    "le = LabelEncoder()\n",
    "pre_df['le_시행사'] = le.fit_transform(pre_df['시행사'])\n",
    "\n",
    "tmp = pre_df.query('is_test==0')\n",
    "tmp['y'] = y\n",
    "\n",
    "print(pearsonr(tmp['빈도수_시행사'], tmp['y']))\n",
    "print(pearsonr(tmp['le_시행사'], tmp['y']))"
   ]
  },
  {
   "cell_type": "code",
   "execution_count": 3143,
   "metadata": {},
   "outputs": [],
   "source": [
    "pre_df['시행사'] = pre_df['빈도수_시행사']\n",
    "\n",
    "pre_df.drop(columns=['빈도수_시행사', 'le_시행사'], axis=1, inplace=True)\n",
    "\n",
    "concat.drop(columns=['k-시행사'], axis=1, inplace=True)"
   ]
  },
  {
   "cell_type": "markdown",
   "metadata": {},
   "source": [
    "# k-사용검사일-사용승인일"
   ]
  },
  {
   "cell_type": "code",
   "execution_count": 3144,
   "metadata": {},
   "outputs": [
    {
     "data": {
      "text/plain": [
       "0.7763017740177339"
      ]
     },
     "execution_count": 3144,
     "metadata": {},
     "output_type": "execute_result"
    }
   ],
   "source": [
    "concat['k-사용검사일-사용승인일'].isnull().sum() / len(concat)"
   ]
  },
  {
   "cell_type": "code",
   "execution_count": 3145,
   "metadata": {},
   "outputs": [],
   "source": [
    "concat['k-사용검사일-사용승인일'] = pd.to_datetime(concat['k-사용검사일-사용승인일'])"
   ]
  },
  {
   "cell_type": "code",
   "execution_count": 3146,
   "metadata": {},
   "outputs": [],
   "source": [
    "pre_df['사용검사일_년'] = concat['k-사용검사일-사용승인일'].dt.year\n",
    "pre_df['사용검사일_월'] = concat['k-사용검사일-사용승인일'].dt.month\n",
    "pre_df['사용검사일_일'] = concat['k-사용검사일-사용승인일'].dt.day"
   ]
  },
  {
   "cell_type": "code",
   "execution_count": 3147,
   "metadata": {},
   "outputs": [
    {
     "name": "stderr",
     "output_type": "stream",
     "text": [
      "/tmp/ipykernel_673659/1500290984.py:2: SettingWithCopyWarning: \n",
      "A value is trying to be set on a copy of a slice from a DataFrame.\n",
      "Try using .loc[row_indexer,col_indexer] = value instead\n",
      "\n",
      "See the caveats in the documentation: https://pandas.pydata.org/pandas-docs/stable/user_guide/indexing.html#returning-a-view-versus-a-copy\n",
      "  tmp['y'] = y\n"
     ]
    },
    {
     "name": "stdout",
     "output_type": "stream",
     "text": [
      "Linear Interpolation: Pearson Correlation = 0.1654, P-value = 0.0000\n",
      "Forward Fill (ffill): Pearson Correlation = 0.1025, P-value = 0.0000\n",
      "Backward Fill (bfill): Pearson Correlation = 0.1866, P-value = 0.0000\n",
      "fillna (fillna): Pearson Correlation = 0.1205, P-value = 0.0000\n"
     ]
    }
   ],
   "source": [
    "tmp = pre_df.query('is_test==0')\n",
    "tmp['y'] = y\n",
    "\n",
    "\n",
    "def calculate_pearson(df, method):\n",
    "    corr, p_value = pearsonr(df['사용검사일_년'], df['y'])\n",
    "    return corr, p_value\n",
    "\n",
    "# 1. 선형 보간 (linear interpolation)\n",
    "df_linear = tmp.copy()\n",
    "df_linear['사용검사일_년'] = df_linear['사용검사일_년'].interpolate(method='linear')\n",
    "\n",
    "# 2. Forward fill (ffill)\n",
    "df_ffill = tmp.copy()\n",
    "df_ffill['사용검사일_년'] = df_ffill['사용검사일_년'].fillna(method='ffill')\n",
    "\n",
    "# 3. Backward fill (bfill)\n",
    "df_bfill = tmp.copy()\n",
    "df_bfill['사용검사일_년'] = df_bfill['사용검사일_년'].fillna(method='bfill')\n",
    "\n",
    "# 4. fillna 0\n",
    "df_fillna = tmp.copy()\n",
    "df_fillna['사용검사일_년'] = df_fillna['사용검사일_년'].fillna(0)\n",
    "\n",
    "# 피어슨 상관계수 계산\n",
    "results = {\n",
    "    'Linear Interpolation': calculate_pearson(df_linear, 'linear'),\n",
    "    'Forward Fill (ffill)': calculate_pearson(df_ffill, 'ffill'),\n",
    "    'Backward Fill (bfill)': calculate_pearson(df_bfill, 'bfill'),\n",
    "    'fillna (fillna)' : calculate_pearson(df_fillna, 'fillna')\n",
    "}\n",
    "\n",
    "# 결과 출력\n",
    "for method, (corr, p_value) in results.items():\n",
    "    print(f\"{method}: Pearson Correlation = {corr:.4f}, P-value = {p_value:.4f}\")"
   ]
  },
  {
   "cell_type": "code",
   "execution_count": 3148,
   "metadata": {},
   "outputs": [
    {
     "data": {
      "text/plain": [
       "0"
      ]
     },
     "execution_count": 3148,
     "metadata": {},
     "output_type": "execute_result"
    }
   ],
   "source": [
    "pre_df['사용검사일_년'] = pre_df['사용검사일_년'].bfill()\n",
    "pre_df['사용검사일_년'].isnull().sum()"
   ]
  },
  {
   "cell_type": "code",
   "execution_count": 3149,
   "metadata": {},
   "outputs": [
    {
     "name": "stderr",
     "output_type": "stream",
     "text": [
      "/tmp/ipykernel_673659/3763086991.py:2: SettingWithCopyWarning: \n",
      "A value is trying to be set on a copy of a slice from a DataFrame.\n",
      "Try using .loc[row_indexer,col_indexer] = value instead\n",
      "\n",
      "See the caveats in the documentation: https://pandas.pydata.org/pandas-docs/stable/user_guide/indexing.html#returning-a-view-versus-a-copy\n",
      "  tmp['y'] = y\n"
     ]
    },
    {
     "name": "stdout",
     "output_type": "stream",
     "text": [
      "Linear Interpolation: Pearson Correlation = -0.0778, P-value = 0.0000\n",
      "Forward Fill (ffill): Pearson Correlation = -0.0666, P-value = 0.0000\n",
      "Backward Fill (bfill): Pearson Correlation = -0.0661, P-value = 0.0000\n",
      "fillna (fillna): Pearson Correlation = 0.0842, P-value = 0.0000\n"
     ]
    }
   ],
   "source": [
    "tmp = pre_df.query('is_test==0')\n",
    "tmp['y'] = y\n",
    "\n",
    "\n",
    "def calculate_pearson(df, method):\n",
    "    corr, p_value = pearsonr(df['사용검사일_월'], df['y'])\n",
    "    return corr, p_value\n",
    "\n",
    "# 1. 선형 보간 (linear interpolation)\n",
    "df_linear = tmp.copy()\n",
    "df_linear['사용검사일_월'] = df_linear['사용검사일_월'].interpolate(method='linear')\n",
    "\n",
    "# 2. Forward fill (ffill)\n",
    "df_ffill = tmp.copy()\n",
    "df_ffill['사용검사일_월'] = df_ffill['사용검사일_월'].fillna(method='ffill')\n",
    "\n",
    "# 3. Backward fill (bfill)\n",
    "df_bfill = tmp.copy()\n",
    "df_bfill['사용검사일_월'] = df_bfill['사용검사일_월'].fillna(method='bfill')\n",
    "\n",
    "# 4. fillna 0\n",
    "df_fillna = tmp.copy()\n",
    "df_fillna['사용검사일_월'] = df_fillna['사용검사일_월'].fillna(0)\n",
    "\n",
    "# 피어슨 상관계수 계산\n",
    "results = {\n",
    "    'Linear Interpolation': calculate_pearson(df_linear, 'linear'),\n",
    "    'Forward Fill (ffill)': calculate_pearson(df_ffill, 'ffill'),\n",
    "    'Backward Fill (bfill)': calculate_pearson(df_bfill, 'bfill'),\n",
    "    'fillna (fillna)' : calculate_pearson(df_fillna, 'fillna')\n",
    "}\n",
    "\n",
    "# 결과 출력\n",
    "for method, (corr, p_value) in results.items():\n",
    "    print(f\"{method}: Pearson Correlation = {corr:.4f}, P-value = {p_value:.4f}\")"
   ]
  },
  {
   "cell_type": "code",
   "execution_count": 3150,
   "metadata": {},
   "outputs": [
    {
     "data": {
      "text/plain": [
       "0"
      ]
     },
     "execution_count": 3150,
     "metadata": {},
     "output_type": "execute_result"
    }
   ],
   "source": [
    "pre_df['사용검사일_월'] = pre_df['사용검사일_월'].fillna(0)\n",
    "pre_df['사용검사일_월'].isnull().sum()"
   ]
  },
  {
   "cell_type": "code",
   "execution_count": 3151,
   "metadata": {},
   "outputs": [
    {
     "name": "stderr",
     "output_type": "stream",
     "text": [
      "/tmp/ipykernel_673659/241048560.py:2: SettingWithCopyWarning: \n",
      "A value is trying to be set on a copy of a slice from a DataFrame.\n",
      "Try using .loc[row_indexer,col_indexer] = value instead\n",
      "\n",
      "See the caveats in the documentation: https://pandas.pydata.org/pandas-docs/stable/user_guide/indexing.html#returning-a-view-versus-a-copy\n",
      "  tmp['y'] = y\n"
     ]
    },
    {
     "name": "stdout",
     "output_type": "stream",
     "text": [
      "Linear Interpolation: Pearson Correlation = -0.0188, P-value = 0.0000\n",
      "Forward Fill (ffill): Pearson Correlation = 0.0325, P-value = 0.0000\n",
      "Backward Fill (bfill): Pearson Correlation = -0.0565, P-value = 0.0000\n",
      "fillna (fillna): Pearson Correlation = 0.1060, P-value = 0.0000\n"
     ]
    }
   ],
   "source": [
    "tmp = pre_df.query('is_test==0')\n",
    "tmp['y'] = y\n",
    "\n",
    "\n",
    "def calculate_pearson(df, method):\n",
    "    corr, p_value = pearsonr(df['사용검사일_일'], df['y'])\n",
    "    return corr, p_value\n",
    "\n",
    "# 1. 선형 보간 (linear interpolation)\n",
    "df_linear = tmp.copy()\n",
    "df_linear['사용검사일_일'] = df_linear['사용검사일_일'].interpolate(method='linear')\n",
    "\n",
    "# 2. Forward fill (ffill)\n",
    "df_ffill = tmp.copy()\n",
    "df_ffill['사용검사일_일'] = df_ffill['사용검사일_일'].fillna(method='ffill')\n",
    "\n",
    "# 3. Backward fill (bfill)\n",
    "df_bfill = tmp.copy()\n",
    "df_bfill['사용검사일_일'] = df_bfill['사용검사일_일'].fillna(method='bfill')\n",
    "\n",
    "# 4. fillna 0\n",
    "df_fillna = tmp.copy()\n",
    "df_fillna['사용검사일_일'] = df_fillna['사용검사일_일'].fillna(0)\n",
    "\n",
    "# 피어슨 상관계수 계산\n",
    "results = {\n",
    "    'Linear Interpolation': calculate_pearson(df_linear, 'linear'),\n",
    "    'Forward Fill (ffill)': calculate_pearson(df_ffill, 'ffill'),\n",
    "    'Backward Fill (bfill)': calculate_pearson(df_bfill, 'bfill'),\n",
    "    'fillna (fillna)' : calculate_pearson(df_fillna, 'fillna')\n",
    "}\n",
    "\n",
    "# 결과 출력\n",
    "for method, (corr, p_value) in results.items():\n",
    "    print(f\"{method}: Pearson Correlation = {corr:.4f}, P-value = {p_value:.4f}\")"
   ]
  },
  {
   "cell_type": "code",
   "execution_count": 3152,
   "metadata": {},
   "outputs": [
    {
     "data": {
      "text/plain": [
       "0"
      ]
     },
     "execution_count": 3152,
     "metadata": {},
     "output_type": "execute_result"
    }
   ],
   "source": [
    "pre_df['사용검사일_일'] = pre_df['사용검사일_일'].fillna(0)\n",
    "pre_df['사용검사일_일'].isnull().sum()"
   ]
  },
  {
   "cell_type": "code",
   "execution_count": 3153,
   "metadata": {},
   "outputs": [],
   "source": [
    "concat.drop(columns=['k-사용검사일-사용승인일'], axis=1, inplace=True)"
   ]
  },
  {
   "cell_type": "markdown",
   "metadata": {},
   "source": [
    "# k-연면적"
   ]
  },
  {
   "cell_type": "code",
   "execution_count": 3154,
   "metadata": {},
   "outputs": [
    {
     "data": {
      "text/plain": [
       "0.7761827303118145"
      ]
     },
     "execution_count": 3154,
     "metadata": {},
     "output_type": "execute_result"
    }
   ],
   "source": [
    "concat['k-연면적'].isnull().sum() / len(concat)"
   ]
  },
  {
   "cell_type": "code",
   "execution_count": 3155,
   "metadata": {},
   "outputs": [
    {
     "data": {
      "text/plain": [
       "0.0    1082\n",
       "Name: k-연면적, dtype: int64"
      ]
     },
     "execution_count": 3155,
     "metadata": {},
     "output_type": "execute_result"
    }
   ],
   "source": [
    "concat[concat['k-연면적'] <= 0]['k-연면적'].value_counts()"
   ]
  },
  {
   "cell_type": "code",
   "execution_count": 3156,
   "metadata": {},
   "outputs": [],
   "source": [
    "nan_index = concat[concat['k-연면적'] <= 0].index"
   ]
  },
  {
   "cell_type": "code",
   "execution_count": 3157,
   "metadata": {},
   "outputs": [],
   "source": [
    "concat.loc[nan_index, 'k-연면적'] = np.nan"
   ]
  },
  {
   "cell_type": "code",
   "execution_count": 3158,
   "metadata": {},
   "outputs": [
    {
     "data": {
      "text/plain": [
       "1082"
      ]
     },
     "execution_count": 3158,
     "metadata": {},
     "output_type": "execute_result"
    }
   ],
   "source": [
    "concat.loc[nan_index, 'k-연면적'].isnull().sum()"
   ]
  },
  {
   "cell_type": "code",
   "execution_count": 3159,
   "metadata": {},
   "outputs": [],
   "source": [
    "pre_df['연면적'] = concat['k-연면적']"
   ]
  },
  {
   "cell_type": "code",
   "execution_count": 3160,
   "metadata": {},
   "outputs": [
    {
     "name": "stderr",
     "output_type": "stream",
     "text": [
      "/tmp/ipykernel_673659/98035644.py:2: SettingWithCopyWarning: \n",
      "A value is trying to be set on a copy of a slice from a DataFrame.\n",
      "Try using .loc[row_indexer,col_indexer] = value instead\n",
      "\n",
      "See the caveats in the documentation: https://pandas.pydata.org/pandas-docs/stable/user_guide/indexing.html#returning-a-view-versus-a-copy\n",
      "  tmp['y'] = y\n"
     ]
    },
    {
     "name": "stdout",
     "output_type": "stream",
     "text": [
      "Linear Interpolation: Pearson Correlation = 0.2209, P-value = 0.0000\n",
      "Forward Fill (ffill): Pearson Correlation = 0.2230, P-value = 0.0000\n",
      "Backward Fill (bfill): Pearson Correlation = 0.1964, P-value = 0.0000\n",
      "fillna (fillna): Pearson Correlation = 0.2218, P-value = 0.0000\n"
     ]
    }
   ],
   "source": [
    "tmp = pre_df.query('is_test==0')\n",
    "tmp['y'] = y\n",
    "\n",
    "\n",
    "def calculate_pearson(df, method):\n",
    "    corr, p_value = pearsonr(df['연면적'], df['y'])\n",
    "    return corr, p_value\n",
    "\n",
    "# 1. 선형 보간 (linear interpolation)\n",
    "df_linear = tmp.copy()\n",
    "df_linear['연면적'] = df_linear['연면적'].interpolate(method='linear')\n",
    "\n",
    "# 2. Forward fill (ffill)\n",
    "df_ffill = tmp.copy()\n",
    "df_ffill['연면적'] = df_ffill['연면적'].fillna(method='ffill')\n",
    "\n",
    "# 3. Backward fill (bfill)\n",
    "df_bfill = tmp.copy()\n",
    "df_bfill['연면적'] = df_bfill['연면적'].fillna(method='bfill')\n",
    "\n",
    "# 4. fillna 0\n",
    "df_fillna = tmp.copy()\n",
    "df_fillna['연면적'] = df_fillna['연면적'].fillna(0)\n",
    "\n",
    "# 피어슨 상관계수 계산\n",
    "results = {\n",
    "    'Linear Interpolation': calculate_pearson(df_linear, 'linear'),\n",
    "    'Forward Fill (ffill)': calculate_pearson(df_ffill, 'ffill'),\n",
    "    'Backward Fill (bfill)': calculate_pearson(df_bfill, 'bfill'),\n",
    "    'fillna (fillna)' : calculate_pearson(df_fillna, 'fillna')\n",
    "}\n",
    "\n",
    "# 결과 출력\n",
    "for method, (corr, p_value) in results.items():\n",
    "    print(f\"{method}: Pearson Correlation = {corr:.4f}, P-value = {p_value:.4f}\")"
   ]
  },
  {
   "cell_type": "code",
   "execution_count": 3161,
   "metadata": {},
   "outputs": [
    {
     "data": {
      "text/plain": [
       "0"
      ]
     },
     "execution_count": 3161,
     "metadata": {},
     "output_type": "execute_result"
    }
   ],
   "source": [
    "pre_df['연면적'] = pre_df['연면적'].ffill()\n",
    "pre_df['연면적'].isnull().sum()"
   ]
  },
  {
   "cell_type": "code",
   "execution_count": 3162,
   "metadata": {},
   "outputs": [],
   "source": [
    "concat.drop(columns=['k-연면적'], axis=1, inplace=True)"
   ]
  },
  {
   "cell_type": "markdown",
   "metadata": {},
   "source": [
    "# k-주거전용면적"
   ]
  },
  {
   "cell_type": "code",
   "execution_count": 3163,
   "metadata": {},
   "outputs": [
    {
     "data": {
      "text/plain": [
       "0.7762227076757428"
      ]
     },
     "execution_count": 3163,
     "metadata": {},
     "output_type": "execute_result"
    }
   ],
   "source": [
    "concat['k-주거전용면적'].isnull().sum() / len(concat)"
   ]
  },
  {
   "cell_type": "code",
   "execution_count": 3164,
   "metadata": {},
   "outputs": [
    {
     "data": {
      "text/plain": [
       "Series([], Name: k-주거전용면적, dtype: int64)"
      ]
     },
     "execution_count": 3164,
     "metadata": {},
     "output_type": "execute_result"
    }
   ],
   "source": [
    "concat[concat['k-주거전용면적'] <= 0]['k-주거전용면적'].value_counts()"
   ]
  },
  {
   "cell_type": "code",
   "execution_count": 3165,
   "metadata": {},
   "outputs": [],
   "source": [
    "pre_df['주거전용면적'] = concat['k-주거전용면적']"
   ]
  },
  {
   "cell_type": "code",
   "execution_count": 3166,
   "metadata": {},
   "outputs": [
    {
     "name": "stderr",
     "output_type": "stream",
     "text": [
      "/tmp/ipykernel_673659/3567771943.py:2: SettingWithCopyWarning: \n",
      "A value is trying to be set on a copy of a slice from a DataFrame.\n",
      "Try using .loc[row_indexer,col_indexer] = value instead\n",
      "\n",
      "See the caveats in the documentation: https://pandas.pydata.org/pandas-docs/stable/user_guide/indexing.html#returning-a-view-versus-a-copy\n",
      "  tmp['y'] = y\n"
     ]
    },
    {
     "name": "stdout",
     "output_type": "stream",
     "text": [
      "Linear Interpolation: Pearson Correlation = 0.2024, P-value = 0.0000\n",
      "Forward Fill (ffill): Pearson Correlation = 0.2129, P-value = 0.0000\n",
      "Backward Fill (bfill): Pearson Correlation = 0.1743, P-value = 0.0000\n",
      "fillna (fillna): Pearson Correlation = 0.2172, P-value = 0.0000\n"
     ]
    }
   ],
   "source": [
    "tmp = pre_df.query('is_test==0')\n",
    "tmp['y'] = y\n",
    "\n",
    "\n",
    "def calculate_pearson(df, method):\n",
    "    corr, p_value = pearsonr(df['주거전용면적'], df['y'])\n",
    "    return corr, p_value\n",
    "\n",
    "# 1. 선형 보간 (linear interpolation)\n",
    "df_linear = tmp.copy()\n",
    "df_linear['주거전용면적'] = df_linear['주거전용면적'].interpolate(method='linear')\n",
    "\n",
    "# 2. Forward fill (ffill)\n",
    "df_ffill = tmp.copy()\n",
    "df_ffill['주거전용면적'] = df_ffill['주거전용면적'].fillna(method='ffill')\n",
    "\n",
    "# 3. Backward fill (bfill)\n",
    "df_bfill = tmp.copy()\n",
    "df_bfill['주거전용면적'] = df_bfill['주거전용면적'].fillna(method='bfill')\n",
    "\n",
    "# 4. fillna 0\n",
    "df_fillna = tmp.copy()\n",
    "df_fillna['주거전용면적'] = df_fillna['주거전용면적'].fillna(0)\n",
    "\n",
    "# 피어슨 상관계수 계산\n",
    "results = {\n",
    "    'Linear Interpolation': calculate_pearson(df_linear, 'linear'),\n",
    "    'Forward Fill (ffill)': calculate_pearson(df_ffill, 'ffill'),\n",
    "    'Backward Fill (bfill)': calculate_pearson(df_bfill, 'bfill'),\n",
    "    'fillna (fillna)' : calculate_pearson(df_fillna, 'fillna')\n",
    "}\n",
    "\n",
    "# 결과 출력\n",
    "for method, (corr, p_value) in results.items():\n",
    "    print(f\"{method}: Pearson Correlation = {corr:.4f}, P-value = {p_value:.4f}\")"
   ]
  },
  {
   "cell_type": "code",
   "execution_count": 3167,
   "metadata": {},
   "outputs": [
    {
     "data": {
      "text/plain": [
       "0"
      ]
     },
     "execution_count": 3167,
     "metadata": {},
     "output_type": "execute_result"
    }
   ],
   "source": [
    "pre_df['주거전용면적'] = pre_df['주거전용면적'].fillna(0)\n",
    "pre_df['주거전용면적'].isnull().sum()"
   ]
  },
  {
   "cell_type": "code",
   "execution_count": 3168,
   "metadata": {},
   "outputs": [],
   "source": [
    "concat.drop(columns=['k-주거전용면적'], axis=1, inplace=True)"
   ]
  },
  {
   "cell_type": "markdown",
   "metadata": {},
   "source": [
    "# k-관리비부과면적"
   ]
  },
  {
   "cell_type": "code",
   "execution_count": 3169,
   "metadata": {},
   "outputs": [
    {
     "data": {
      "text/plain": [
       "0.7761827303118145"
      ]
     },
     "execution_count": 3169,
     "metadata": {},
     "output_type": "execute_result"
    }
   ],
   "source": [
    "concat['k-관리비부과면적'].isnull().sum() / len(concat)"
   ]
  },
  {
   "cell_type": "code",
   "execution_count": 3170,
   "metadata": {},
   "outputs": [
    {
     "data": {
      "text/plain": [
       "0.0    1082\n",
       "Name: k-관리비부과면적, dtype: int64"
      ]
     },
     "execution_count": 3170,
     "metadata": {},
     "output_type": "execute_result"
    }
   ],
   "source": [
    "concat[concat['k-관리비부과면적'] <= 0]['k-관리비부과면적'].value_counts()"
   ]
  },
  {
   "cell_type": "code",
   "execution_count": 3171,
   "metadata": {},
   "outputs": [],
   "source": [
    "nan_index = concat[concat['k-관리비부과면적'] <= 0].index"
   ]
  },
  {
   "cell_type": "code",
   "execution_count": 3172,
   "metadata": {},
   "outputs": [],
   "source": [
    "concat.loc[nan_index, 'k-관리비부과면적'] = np.nan"
   ]
  },
  {
   "cell_type": "code",
   "execution_count": 3173,
   "metadata": {},
   "outputs": [],
   "source": [
    "pre_df['관리비부과면적'] = concat['k-관리비부과면적']"
   ]
  },
  {
   "cell_type": "code",
   "execution_count": 3174,
   "metadata": {},
   "outputs": [
    {
     "name": "stderr",
     "output_type": "stream",
     "text": [
      "/tmp/ipykernel_673659/1995597562.py:2: SettingWithCopyWarning: \n",
      "A value is trying to be set on a copy of a slice from a DataFrame.\n",
      "Try using .loc[row_indexer,col_indexer] = value instead\n",
      "\n",
      "See the caveats in the documentation: https://pandas.pydata.org/pandas-docs/stable/user_guide/indexing.html#returning-a-view-versus-a-copy\n",
      "  tmp['y'] = y\n"
     ]
    },
    {
     "name": "stdout",
     "output_type": "stream",
     "text": [
      "Linear Interpolation: Pearson Correlation = 0.1989, P-value = 0.0000\n",
      "Forward Fill (ffill): Pearson Correlation = 0.2136, P-value = 0.0000\n",
      "Backward Fill (bfill): Pearson Correlation = 0.1649, P-value = 0.0000\n",
      "fillna (fillna): Pearson Correlation = 0.2099, P-value = 0.0000\n"
     ]
    }
   ],
   "source": [
    "tmp = pre_df.query('is_test==0')\n",
    "tmp['y'] = y\n",
    "\n",
    "\n",
    "def calculate_pearson(df, method):\n",
    "    corr, p_value = pearsonr(df['관리비부과면적'], df['y'])\n",
    "    return corr, p_value\n",
    "\n",
    "# 1. 선형 보간 (linear interpolation)\n",
    "df_linear = tmp.copy()\n",
    "df_linear['관리비부과면적'] = df_linear['관리비부과면적'].interpolate(method='linear')\n",
    "\n",
    "# 2. Forward fill (ffill)\n",
    "df_ffill = tmp.copy()\n",
    "df_ffill['관리비부과면적'] = df_ffill['관리비부과면적'].fillna(method='ffill')\n",
    "\n",
    "# 3. Backward fill (bfill)\n",
    "df_bfill = tmp.copy()\n",
    "df_bfill['관리비부과면적'] = df_bfill['관리비부과면적'].fillna(method='bfill')\n",
    "\n",
    "# 4. fillna 0\n",
    "df_fillna = tmp.copy()\n",
    "df_fillna['관리비부과면적'] = df_fillna['관리비부과면적'].fillna(0)\n",
    "\n",
    "# 피어슨 상관계수 계산\n",
    "results = {\n",
    "    'Linear Interpolation': calculate_pearson(df_linear, 'linear'),\n",
    "    'Forward Fill (ffill)': calculate_pearson(df_ffill, 'ffill'),\n",
    "    'Backward Fill (bfill)': calculate_pearson(df_bfill, 'bfill'),\n",
    "    'fillna (fillna)' : calculate_pearson(df_fillna, 'fillna')\n",
    "}\n",
    "\n",
    "# 결과 출력\n",
    "for method, (corr, p_value) in results.items():\n",
    "    print(f\"{method}: Pearson Correlation = {corr:.4f}, P-value = {p_value:.4f}\")"
   ]
  },
  {
   "cell_type": "code",
   "execution_count": 3175,
   "metadata": {},
   "outputs": [
    {
     "data": {
      "text/plain": [
       "0"
      ]
     },
     "execution_count": 3175,
     "metadata": {},
     "output_type": "execute_result"
    }
   ],
   "source": [
    "pre_df['관리비부과면적'] = pre_df['관리비부과면적'].ffill()\n",
    "pre_df['관리비부과면적'].isnull().sum()"
   ]
  },
  {
   "cell_type": "code",
   "execution_count": 3176,
   "metadata": {},
   "outputs": [],
   "source": [
    "concat.drop(columns=['k-관리비부과면적'], axis=1, inplace=True)"
   ]
  },
  {
   "cell_type": "markdown",
   "metadata": {},
   "source": [
    "# 전용면적별세대현황"
   ]
  },
  {
   "cell_type": "code",
   "execution_count": 3177,
   "metadata": {},
   "outputs": [],
   "source": [
    "concat.rename(\n",
    "    columns={\n",
    "        'k-전용면적별세대현황(60㎡이하)' : '60이하',\n",
    "        'k-전용면적별세대현황(60㎡~85㎡이하)' : '85이하',\n",
    "        'k-85㎡~135㎡이하' : '135이하',\n",
    "        'k-135㎡초과' : '135초과'\n",
    "    }, inplace=True\n",
    ")"
   ]
  },
  {
   "cell_type": "code",
   "execution_count": 3178,
   "metadata": {},
   "outputs": [
    {
     "data": {
      "text/plain": [
       "60이하      873745\n",
       "85이하      873745\n",
       "135이하     873745\n",
       "135초과    1125308\n",
       "dtype: int64"
      ]
     },
     "execution_count": 3178,
     "metadata": {},
     "output_type": "execute_result"
    }
   ],
   "source": [
    "tmp_cols = ['60이하', '85이하','135이하', '135초과']\n",
    "concat[tmp_cols].isnull().sum()"
   ]
  },
  {
   "cell_type": "code",
   "execution_count": 3179,
   "metadata": {},
   "outputs": [],
   "source": [
    "pre_df['전용면적별세대현황합'] = (concat[tmp_cols] * [1,2,3,4]).sum(axis=1)"
   ]
  },
  {
   "cell_type": "code",
   "execution_count": 3180,
   "metadata": {},
   "outputs": [
    {
     "data": {
      "text/plain": [
       "0"
      ]
     },
     "execution_count": 3180,
     "metadata": {},
     "output_type": "execute_result"
    }
   ],
   "source": [
    "pre_df['전용면적별세대현황합'].isnull().sum()"
   ]
  },
  {
   "cell_type": "code",
   "execution_count": 3181,
   "metadata": {},
   "outputs": [
    {
     "data": {
      "text/plain": [
       "<Axes: >"
      ]
     },
     "execution_count": 3181,
     "metadata": {},
     "output_type": "execute_result"
    },
    {
     "data": {
      "image/png": "[encoded data removed]",
      "text/plain": [
       "<Figure size 640x480 with 1 Axes>"
      ]
     },
     "metadata": {},
     "output_type": "display_data"
    }
   ],
   "source": [
    "pre_df['전용면적별세대현황합'].hist()"
   ]
  },
  {
   "cell_type": "code",
   "execution_count": 3182,
   "metadata": {},
   "outputs": [],
   "source": [
    "concat.drop(columns=tmp_cols, axis=1, inplace=True)"
   ]
  },
  {
   "cell_type": "markdown",
   "metadata": {},
   "source": [
    "# k-홈페이지"
   ]
  },
  {
   "cell_type": "code",
   "execution_count": 3183,
   "metadata": {},
   "outputs": [
    {
     "data": {
      "text/plain": [
       "0.8982167430530447"
      ]
     },
     "execution_count": 3183,
     "metadata": {},
     "output_type": "execute_result"
    }
   ],
   "source": [
    "concat['k-홈페이지'].isnull().sum() / len(concat)"
   ]
  },
  {
   "cell_type": "code",
   "execution_count": 3184,
   "metadata": {},
   "outputs": [],
   "source": [
    "concat.drop(columns=['k-홈페이지'], axis=1, inplace=True)"
   ]
  },
  {
   "cell_type": "markdown",
   "metadata": {},
   "source": [
    "# k-등록일자"
   ]
  },
  {
   "cell_type": "code",
   "execution_count": 3185,
   "metadata": {},
   "outputs": [
    {
     "data": {
      "text/plain": [
       "0.9895987782917584"
      ]
     },
     "execution_count": 3185,
     "metadata": {},
     "output_type": "execute_result"
    }
   ],
   "source": [
    "concat['k-등록일자'].isnull().sum() / len(concat)"
   ]
  },
  {
   "cell_type": "code",
   "execution_count": 3186,
   "metadata": {},
   "outputs": [],
   "source": [
    "concat.drop(columns=['k-등록일자'], axis=1, inplace=True)"
   ]
  },
  {
   "cell_type": "markdown",
   "metadata": {},
   "source": [
    "# k-수정일자"
   ]
  },
  {
   "cell_type": "code",
   "execution_count": 3187,
   "metadata": {},
   "outputs": [
    {
     "data": {
      "text/plain": [
       "0.7762227076757428"
      ]
     },
     "execution_count": 3187,
     "metadata": {},
     "output_type": "execute_result"
    }
   ],
   "source": [
    "concat['k-수정일자'].isnull().sum() / len(concat)"
   ]
  },
  {
   "cell_type": "code",
   "execution_count": 3188,
   "metadata": {},
   "outputs": [],
   "source": [
    "concat['k-수정일자'] = pd.to_datetime(concat['k-수정일자'])"
   ]
  },
  {
   "cell_type": "code",
   "execution_count": 3189,
   "metadata": {},
   "outputs": [],
   "source": [
    "pre_df['수정일자_년'] = concat['k-수정일자'].dt.year\n",
    "pre_df['수정일자_월'] = concat['k-수정일자'].dt.month\n",
    "pre_df['수정일자_일'] = concat['k-수정일자'].dt.day"
   ]
  },
  {
   "cell_type": "code",
   "execution_count": 3190,
   "metadata": {},
   "outputs": [
    {
     "data": {
      "text/plain": [
       "2023.0    247742\n",
       "2020.0      3736\n",
       "2021.0       414\n",
       "Name: 수정일자_년, dtype: int64"
      ]
     },
     "execution_count": 3190,
     "metadata": {},
     "output_type": "execute_result"
    }
   ],
   "source": [
    "pre_df['수정일자_년'].value_counts()"
   ]
  },
  {
   "cell_type": "code",
   "execution_count": 3191,
   "metadata": {},
   "outputs": [
    {
     "name": "stderr",
     "output_type": "stream",
     "text": [
      "/opt/conda/lib/python3.10/site-packages/IPython/core/displayhook.py:281: UserWarning: Output cache limit (currently 1000 entries) hit.\n",
      "Flushing oldest 200 entries.\n",
      "  warn('Output cache limit (currently {sz} entries) hit.\\n'\n"
     ]
    },
    {
     "data": {
      "text/plain": [
       "9.0    247523\n",
       "2.0      3955\n",
       "3.0       414\n",
       "Name: 수정일자_월, dtype: int64"
      ]
     },
     "execution_count": 3191,
     "metadata": {},
     "output_type": "execute_result"
    }
   ],
   "source": [
    "pre_df['수정일자_월'].value_counts()"
   ]
  },
  {
   "cell_type": "code",
   "execution_count": 3192,
   "metadata": {},
   "outputs": [
    {
     "data": {
      "text/plain": [
       "25.0    87106\n",
       "26.0    56865\n",
       "23.0    55370\n",
       "24.0    25645\n",
       "20.0    20718\n",
       "17.0     3736\n",
       "21.0     2038\n",
       "30.0      414\n",
       "Name: 수정일자_일, dtype: int64"
      ]
     },
     "execution_count": 3192,
     "metadata": {},
     "output_type": "execute_result"
    }
   ],
   "source": [
    "pre_df['수정일자_일'].value_counts()"
   ]
  },
  {
   "cell_type": "code",
   "execution_count": 3193,
   "metadata": {},
   "outputs": [
    {
     "name": "stderr",
     "output_type": "stream",
     "text": [
      "/tmp/ipykernel_673659/4282175856.py:2: SettingWithCopyWarning: \n",
      "A value is trying to be set on a copy of a slice from a DataFrame.\n",
      "Try using .loc[row_indexer,col_indexer] = value instead\n",
      "\n",
      "See the caveats in the documentation: https://pandas.pydata.org/pandas-docs/stable/user_guide/indexing.html#returning-a-view-versus-a-copy\n",
      "  tmp['y'] = y\n"
     ]
    },
    {
     "name": "stdout",
     "output_type": "stream",
     "text": [
      "Linear Interpolation: Pearson Correlation = -0.0040, P-value = 0.0000\n",
      "Forward Fill (ffill): Pearson Correlation = 0.0133, P-value = 0.0000\n",
      "Backward Fill (bfill): Pearson Correlation = -0.0215, P-value = 0.0000\n",
      "fillna (fillna): Pearson Correlation = 0.1198, P-value = 0.0000\n"
     ]
    }
   ],
   "source": [
    "tmp = pre_df.query('is_test==0')\n",
    "tmp['y'] = y\n",
    "\n",
    "\n",
    "def calculate_pearson(df, method):\n",
    "    corr, p_value = pearsonr(df['수정일자_년'], df['y'])\n",
    "    return corr, p_value\n",
    "\n",
    "# 1. 선형 보간 (linear interpolation)\n",
    "df_linear = tmp.copy()\n",
    "df_linear['수정일자_년'] = df_linear['수정일자_년'].interpolate(method='linear')\n",
    "\n",
    "# 2. Forward fill (ffill)\n",
    "df_ffill = tmp.copy()\n",
    "df_ffill['수정일자_년'] = df_ffill['수정일자_년'].fillna(method='ffill')\n",
    "\n",
    "# 3. Backward fill (bfill)\n",
    "df_bfill = tmp.copy()\n",
    "df_bfill['수정일자_년'] = df_bfill['수정일자_년'].fillna(method='bfill')\n",
    "\n",
    "# 4. fillna 0\n",
    "df_fillna = tmp.copy()\n",
    "df_fillna['수정일자_년'] = df_fillna['수정일자_년'].fillna(0)\n",
    "\n",
    "# 피어슨 상관계수 계산\n",
    "results = {\n",
    "    'Linear Interpolation': calculate_pearson(df_linear, 'linear'),\n",
    "    'Forward Fill (ffill)': calculate_pearson(df_ffill, 'ffill'),\n",
    "    'Backward Fill (bfill)': calculate_pearson(df_bfill, 'bfill'),\n",
    "    'fillna (fillna)' : calculate_pearson(df_fillna, 'fillna')\n",
    "}\n",
    "\n",
    "# 결과 출력\n",
    "for method, (corr, p_value) in results.items():\n",
    "    print(f\"{method}: Pearson Correlation = {corr:.4f}, P-value = {p_value:.4f}\")"
   ]
  },
  {
   "cell_type": "code",
   "execution_count": 3194,
   "metadata": {},
   "outputs": [
    {
     "data": {
      "text/plain": [
       "0"
      ]
     },
     "execution_count": 3194,
     "metadata": {},
     "output_type": "execute_result"
    }
   ],
   "source": [
    "pre_df['수정일자_년'] = pre_df['수정일자_년'].fillna(0)\n",
    "pre_df['수정일자_년'].isnull().sum()"
   ]
  },
  {
   "cell_type": "code",
   "execution_count": 3195,
   "metadata": {},
   "outputs": [
    {
     "name": "stderr",
     "output_type": "stream",
     "text": [
      "/tmp/ipykernel_673659/2970824261.py:2: SettingWithCopyWarning: \n",
      "A value is trying to be set on a copy of a slice from a DataFrame.\n",
      "Try using .loc[row_indexer,col_indexer] = value instead\n",
      "\n",
      "See the caveats in the documentation: https://pandas.pydata.org/pandas-docs/stable/user_guide/indexing.html#returning-a-view-versus-a-copy\n",
      "  tmp['y'] = y\n"
     ]
    },
    {
     "name": "stdout",
     "output_type": "stream",
     "text": [
      "Linear Interpolation: Pearson Correlation = -0.0044, P-value = 0.0000\n",
      "Forward Fill (ffill): Pearson Correlation = 0.0128, P-value = 0.0000\n",
      "Backward Fill (bfill): Pearson Correlation = -0.0217, P-value = 0.0000\n",
      "fillna (fillna): Pearson Correlation = 0.1153, P-value = 0.0000\n"
     ]
    }
   ],
   "source": [
    "tmp = pre_df.query('is_test==0')\n",
    "tmp['y'] = y\n",
    "\n",
    "\n",
    "def calculate_pearson(df, method):\n",
    "    corr, p_value = pearsonr(df['수정일자_월'], df['y'])\n",
    "    return corr, p_value\n",
    "\n",
    "# 1. 선형 보간 (linear interpolation)\n",
    "df_linear = tmp.copy()\n",
    "df_linear['수정일자_월'] = df_linear['수정일자_월'].interpolate(method='linear')\n",
    "\n",
    "# 2. Forward fill (ffill)\n",
    "df_ffill = tmp.copy()\n",
    "df_ffill['수정일자_월'] = df_ffill['수정일자_월'].fillna(method='ffill')\n",
    "\n",
    "# 3. Backward fill (bfill)\n",
    "df_bfill = tmp.copy()\n",
    "df_bfill['수정일자_월'] = df_bfill['수정일자_월'].fillna(method='bfill')\n",
    "\n",
    "# 4. fillna 0\n",
    "df_fillna = tmp.copy()\n",
    "df_fillna['수정일자_월'] = df_fillna['수정일자_월'].fillna(0)\n",
    "\n",
    "# 피어슨 상관계수 계산\n",
    "results = {\n",
    "    'Linear Interpolation': calculate_pearson(df_linear, 'linear'),\n",
    "    'Forward Fill (ffill)': calculate_pearson(df_ffill, 'ffill'),\n",
    "    'Backward Fill (bfill)': calculate_pearson(df_bfill, 'bfill'),\n",
    "    'fillna (fillna)' : calculate_pearson(df_fillna, 'fillna')\n",
    "}\n",
    "\n",
    "# 결과 출력\n",
    "for method, (corr, p_value) in results.items():\n",
    "    print(f\"{method}: Pearson Correlation = {corr:.4f}, P-value = {p_value:.4f}\")"
   ]
  },
  {
   "cell_type": "code",
   "execution_count": 3196,
   "metadata": {},
   "outputs": [
    {
     "data": {
      "text/plain": [
       "0"
      ]
     },
     "execution_count": 3196,
     "metadata": {},
     "output_type": "execute_result"
    }
   ],
   "source": [
    "pre_df['수정일자_월'] = pre_df['수정일자_월'].fillna(0)\n",
    "pre_df['수정일자_월'].isnull().sum()"
   ]
  },
  {
   "cell_type": "code",
   "execution_count": 3197,
   "metadata": {},
   "outputs": [
    {
     "name": "stderr",
     "output_type": "stream",
     "text": [
      "/tmp/ipykernel_673659/2438259889.py:2: SettingWithCopyWarning: \n",
      "A value is trying to be set on a copy of a slice from a DataFrame.\n",
      "Try using .loc[row_indexer,col_indexer] = value instead\n",
      "\n",
      "See the caveats in the documentation: https://pandas.pydata.org/pandas-docs/stable/user_guide/indexing.html#returning-a-view-versus-a-copy\n",
      "  tmp['y'] = y\n"
     ]
    },
    {
     "name": "stdout",
     "output_type": "stream",
     "text": [
      "Linear Interpolation: Pearson Correlation = -0.1971, P-value = 0.0000\n",
      "Forward Fill (ffill): Pearson Correlation = -0.1800, P-value = 0.0000\n",
      "Backward Fill (bfill): Pearson Correlation = -0.1973, P-value = 0.0000\n",
      "fillna (fillna): Pearson Correlation = 0.1076, P-value = 0.0000\n"
     ]
    }
   ],
   "source": [
    "tmp = pre_df.query('is_test==0')\n",
    "tmp['y'] = y\n",
    "\n",
    "\n",
    "def calculate_pearson(df, method):\n",
    "    corr, p_value = pearsonr(df['수정일자_일'], df['y'])\n",
    "    return corr, p_value\n",
    "\n",
    "# 1. 선형 보간 (linear interpolation)\n",
    "df_linear = tmp.copy()\n",
    "df_linear['수정일자_일'] = df_linear['수정일자_일'].interpolate(method='linear')\n",
    "\n",
    "# 2. Forward fill (ffill)\n",
    "df_ffill = tmp.copy()\n",
    "df_ffill['수정일자_일'] = df_ffill['수정일자_일'].fillna(method='ffill')\n",
    "\n",
    "# 3. Backward fill (bfill)\n",
    "df_bfill = tmp.copy()\n",
    "df_bfill['수정일자_일'] = df_bfill['수정일자_일'].fillna(method='bfill')\n",
    "\n",
    "# 4. fillna 0\n",
    "df_fillna = tmp.copy()\n",
    "df_fillna['수정일자_일'] = df_fillna['수정일자_일'].fillna(0)\n",
    "\n",
    "# 피어슨 상관계수 계산\n",
    "results = {\n",
    "    'Linear Interpolation': calculate_pearson(df_linear, 'linear'),\n",
    "    'Forward Fill (ffill)': calculate_pearson(df_ffill, 'ffill'),\n",
    "    'Backward Fill (bfill)': calculate_pearson(df_bfill, 'bfill'),\n",
    "    'fillna (fillna)' : calculate_pearson(df_fillna, 'fillna')\n",
    "}\n",
    "\n",
    "# 결과 출력\n",
    "for method, (corr, p_value) in results.items():\n",
    "    print(f\"{method}: Pearson Correlation = {corr:.4f}, P-value = {p_value:.4f}\")"
   ]
  },
  {
   "cell_type": "code",
   "execution_count": 3198,
   "metadata": {},
   "outputs": [
    {
     "data": {
      "text/plain": [
       "0"
      ]
     },
     "execution_count": 3198,
     "metadata": {},
     "output_type": "execute_result"
    }
   ],
   "source": [
    "pre_df['수정일자_일'] = pre_df['수정일자_일'].bfill()\n",
    "pre_df['수정일자_일'].isnull().sum()"
   ]
  },
  {
   "cell_type": "code",
   "execution_count": 3199,
   "metadata": {},
   "outputs": [],
   "source": [
    "concat.drop(columns=['k-수정일자'], axis=1, inplace=True)"
   ]
  },
  {
   "cell_type": "markdown",
   "metadata": {},
   "source": [
    "# 고용보험관리번호"
   ]
  },
  {
   "cell_type": "code",
   "execution_count": 3200,
   "metadata": {},
   "outputs": [
    {
     "data": {
      "text/plain": [
       "0.8158331682416268"
      ]
     },
     "execution_count": 3200,
     "metadata": {},
     "output_type": "execute_result"
    }
   ],
   "source": [
    "concat['고용보험관리번호'].isnull().sum() / len(concat)"
   ]
  },
  {
   "cell_type": "code",
   "execution_count": 3201,
   "metadata": {},
   "outputs": [],
   "source": [
    "concat.drop(columns=['고용보험관리번호'], axis=1, inplace=True)"
   ]
  },
  {
   "cell_type": "markdown",
   "metadata": {},
   "source": [
    "# 경비비관리형태"
   ]
  },
  {
   "cell_type": "code",
   "execution_count": 3202,
   "metadata": {},
   "outputs": [
    {
     "data": {
      "text/plain": [
       "0.7774584524140553"
      ]
     },
     "execution_count": 3202,
     "metadata": {},
     "output_type": "execute_result"
    }
   ],
   "source": [
    "concat['경비비관리형태'].isnull().sum() / len(concat)"
   ]
  },
  {
   "cell_type": "code",
   "execution_count": 3203,
   "metadata": {},
   "outputs": [
    {
     "data": {
      "text/plain": [
       "위탁       208725\n",
       "직영        33791\n",
       "위탁+직영      6168\n",
       "기타         1817\n",
       "Name: 경비비관리형태, dtype: int64"
      ]
     },
     "execution_count": 3203,
     "metadata": {},
     "output_type": "execute_result"
    }
   ],
   "source": [
    "concat['경비비관리형태'].value_counts()"
   ]
  },
  {
   "cell_type": "code",
   "execution_count": 3204,
   "metadata": {},
   "outputs": [],
   "source": [
    "pre_df['경비비관리형태'] = concat['경비비관리형태']"
   ]
  },
  {
   "cell_type": "code",
   "execution_count": 3205,
   "metadata": {},
   "outputs": [],
   "source": [
    "pre_df['경비비관리형태'] = pre_df['경비비관리형태'].fillna('미정')"
   ]
  },
  {
   "cell_type": "code",
   "execution_count": 3206,
   "metadata": {},
   "outputs": [
    {
     "name": "stdout",
     "output_type": "stream",
     "text": [
      "PearsonRResult(statistic=-0.11833081980405882, pvalue=0.0)\n",
      "PearsonRResult(statistic=0.08705856181982738, pvalue=0.0)\n"
     ]
    },
    {
     "name": "stderr",
     "output_type": "stream",
     "text": [
      "/tmp/ipykernel_673659/219611535.py:8: SettingWithCopyWarning: \n",
      "A value is trying to be set on a copy of a slice from a DataFrame.\n",
      "Try using .loc[row_indexer,col_indexer] = value instead\n",
      "\n",
      "See the caveats in the documentation: https://pandas.pydata.org/pandas-docs/stable/user_guide/indexing.html#returning-a-view-versus-a-copy\n",
      "  tmp['y'] = y\n"
     ]
    }
   ],
   "source": [
    "value_counts = pre_df['경비비관리형태'].value_counts()\n",
    "pre_df['빈도수_경비비관리형태'] = pre_df['경비비관리형태'].map(value_counts)\n",
    "\n",
    "le = LabelEncoder()\n",
    "pre_df['le_경비비관리형태'] = le.fit_transform(pre_df['경비비관리형태'])\n",
    "\n",
    "tmp = pre_df.query('is_test==0')\n",
    "tmp['y'] = y\n",
    "\n",
    "print(pearsonr(tmp['빈도수_경비비관리형태'], tmp['y']))\n",
    "print(pearsonr(tmp['le_경비비관리형태'], tmp['y']))"
   ]
  },
  {
   "cell_type": "code",
   "execution_count": 3207,
   "metadata": {},
   "outputs": [],
   "source": [
    "pre_df['경비비관리형태'] = pre_df['빈도수_경비비관리형태']\n",
    "\n",
    "pre_df.drop(columns=['빈도수_경비비관리형태', 'le_경비비관리형태'], axis=1, inplace=True)\n",
    "\n",
    "concat.drop(columns=['경비비관리형태'], axis=1, inplace=True)"
   ]
  },
  {
   "cell_type": "markdown",
   "metadata": {},
   "source": [
    "# 세대전기계약방법"
   ]
  },
  {
   "cell_type": "code",
   "execution_count": 3208,
   "metadata": {},
   "outputs": [
    {
     "data": {
      "text/plain": [
       "0.7844127369658247"
      ]
     },
     "execution_count": 3208,
     "metadata": {},
     "output_type": "execute_result"
    }
   ],
   "source": [
    "concat['세대전기계약방법'].isnull().sum() / len(concat)"
   ]
  },
  {
   "cell_type": "code",
   "execution_count": 3209,
   "metadata": {},
   "outputs": [
    {
     "data": {
      "text/plain": [
       "종합계약    124583\n",
       "단일계약    118090\n",
       "Name: 세대전기계약방법, dtype: int64"
      ]
     },
     "execution_count": 3209,
     "metadata": {},
     "output_type": "execute_result"
    }
   ],
   "source": [
    "concat['세대전기계약방법'].value_counts()"
   ]
  },
  {
   "cell_type": "code",
   "execution_count": 3210,
   "metadata": {},
   "outputs": [],
   "source": [
    "concat.drop(columns=['세대전기계약방법'] , axis=1, inplace=True)"
   ]
  },
  {
   "cell_type": "markdown",
   "metadata": {},
   "source": [
    "# 청소비관리형태"
   ]
  },
  {
   "cell_type": "code",
   "execution_count": 3211,
   "metadata": {},
   "outputs": [
    {
     "data": {
      "text/plain": [
       "0.7776272457284187"
      ]
     },
     "execution_count": 3211,
     "metadata": {},
     "output_type": "execute_result"
    }
   ],
   "source": [
    "concat['청소비관리형태'].isnull().sum() / len(concat)"
   ]
  },
  {
   "cell_type": "code",
   "execution_count": 3212,
   "metadata": {},
   "outputs": [
    {
     "data": {
      "text/plain": [
       "위탁       227479\n",
       "직영        15174\n",
       "위탁+직영      4179\n",
       "기타         3479\n",
       "Name: 청소비관리형태, dtype: int64"
      ]
     },
     "execution_count": 3212,
     "metadata": {},
     "output_type": "execute_result"
    }
   ],
   "source": [
    "concat['청소비관리형태'].value_counts()"
   ]
  },
  {
   "cell_type": "code",
   "execution_count": 3213,
   "metadata": {},
   "outputs": [],
   "source": [
    "concat.drop(columns=['청소비관리형태'], axis=1, inplace=True)"
   ]
  },
  {
   "cell_type": "markdown",
   "metadata": {},
   "source": [
    "# 건축면적"
   ]
  },
  {
   "cell_type": "code",
   "execution_count": 3214,
   "metadata": {},
   "outputs": [
    {
     "data": {
      "text/plain": [
       "0.7763195417350354"
      ]
     },
     "execution_count": 3214,
     "metadata": {},
     "output_type": "execute_result"
    }
   ],
   "source": [
    "concat['건축면적'].isnull().sum() / len(concat)"
   ]
  },
  {
   "cell_type": "code",
   "execution_count": 3215,
   "metadata": {},
   "outputs": [],
   "source": [
    "pre_df['건축면적'] = concat['건축면적']"
   ]
  },
  {
   "cell_type": "code",
   "execution_count": 3216,
   "metadata": {},
   "outputs": [
    {
     "name": "stderr",
     "output_type": "stream",
     "text": [
      "/tmp/ipykernel_673659/1334877677.py:2: SettingWithCopyWarning: \n",
      "A value is trying to be set on a copy of a slice from a DataFrame.\n",
      "Try using .loc[row_indexer,col_indexer] = value instead\n",
      "\n",
      "See the caveats in the documentation: https://pandas.pydata.org/pandas-docs/stable/user_guide/indexing.html#returning-a-view-versus-a-copy\n",
      "  tmp['y'] = y\n"
     ]
    },
    {
     "name": "stdout",
     "output_type": "stream",
     "text": [
      "Linear Interpolation: Pearson Correlation = -0.0073, P-value = 0.0000\n",
      "Forward Fill (ffill): Pearson Correlation = -0.0140, P-value = 0.0000\n",
      "Backward Fill (bfill): Pearson Correlation = 0.0046, P-value = 0.0000\n",
      "fillna (fillna): Pearson Correlation = 0.0259, P-value = 0.0000\n"
     ]
    }
   ],
   "source": [
    "tmp = pre_df.query('is_test==0')\n",
    "tmp['y'] = y\n",
    "\n",
    "\n",
    "def calculate_pearson(df, method):\n",
    "    corr, p_value = pearsonr(df['건축면적'], df['y'])\n",
    "    return corr, p_value\n",
    "\n",
    "# 1. 선형 보간 (linear interpolation)\n",
    "df_linear = tmp.copy()\n",
    "df_linear['건축면적'] = df_linear['건축면적'].interpolate(method='linear')\n",
    "\n",
    "# 2. Forward fill (ffill)\n",
    "df_ffill = tmp.copy()\n",
    "df_ffill['건축면적'] = df_ffill['건축면적'].fillna(method='ffill')\n",
    "\n",
    "# 3. Backward fill (bfill)\n",
    "df_bfill = tmp.copy()\n",
    "df_bfill['건축면적'] = df_bfill['건축면적'].fillna(method='bfill')\n",
    "\n",
    "# 4. fillna 0\n",
    "df_fillna = tmp.copy()\n",
    "df_fillna['건축면적'] = df_fillna['건축면적'].fillna(0)\n",
    "\n",
    "# 피어슨 상관계수 계산\n",
    "results = {\n",
    "    'Linear Interpolation': calculate_pearson(df_linear, 'linear'),\n",
    "    'Forward Fill (ffill)': calculate_pearson(df_ffill, 'ffill'),\n",
    "    'Backward Fill (bfill)': calculate_pearson(df_bfill, 'bfill'),\n",
    "    'fillna (fillna)' : calculate_pearson(df_fillna, 'fillna')\n",
    "}\n",
    "\n",
    "# 결과 출력\n",
    "for method, (corr, p_value) in results.items():\n",
    "    print(f\"{method}: Pearson Correlation = {corr:.4f}, P-value = {p_value:.4f}\")"
   ]
  },
  {
   "cell_type": "code",
   "execution_count": 3315,
   "metadata": {},
   "outputs": [],
   "source": [
    "pre_df.drop(columns=['건축면적'] , axis=1, inplace=True)"
   ]
  },
  {
   "cell_type": "code",
   "execution_count": 3217,
   "metadata": {},
   "outputs": [],
   "source": [
    "concat.drop(columns=['건축면적'] , axis=1, inplace=True)"
   ]
  },
  {
   "cell_type": "markdown",
   "metadata": {},
   "source": [
    "# 주차대수"
   ]
  },
  {
   "cell_type": "code",
   "execution_count": 3218,
   "metadata": {},
   "outputs": [
    {
     "data": {
      "text/plain": [
       "0.7763177649633052"
      ]
     },
     "execution_count": 3218,
     "metadata": {},
     "output_type": "execute_result"
    }
   ],
   "source": [
    "concat['주차대수'].isnull().sum() / len(concat)"
   ]
  },
  {
   "cell_type": "code",
   "execution_count": 3219,
   "metadata": {},
   "outputs": [],
   "source": [
    "pre_df['주차대수'] = concat['주차대수']"
   ]
  },
  {
   "cell_type": "code",
   "execution_count": 3220,
   "metadata": {},
   "outputs": [
    {
     "name": "stderr",
     "output_type": "stream",
     "text": [
      "/tmp/ipykernel_673659/1113381248.py:2: SettingWithCopyWarning: \n",
      "A value is trying to be set on a copy of a slice from a DataFrame.\n",
      "Try using .loc[row_indexer,col_indexer] = value instead\n",
      "\n",
      "See the caveats in the documentation: https://pandas.pydata.org/pandas-docs/stable/user_guide/indexing.html#returning-a-view-versus-a-copy\n",
      "  tmp['y'] = y\n"
     ]
    },
    {
     "name": "stdout",
     "output_type": "stream",
     "text": [
      "Linear Interpolation: Pearson Correlation = 0.2022, P-value = 0.0000\n",
      "Forward Fill (ffill): Pearson Correlation = 0.2153, P-value = 0.0000\n",
      "Backward Fill (bfill): Pearson Correlation = 0.1673, P-value = 0.0000\n",
      "fillna (fillna): Pearson Correlation = 0.2240, P-value = 0.0000\n"
     ]
    }
   ],
   "source": [
    "tmp = pre_df.query('is_test==0')\n",
    "tmp['y'] = y\n",
    "\n",
    "\n",
    "def calculate_pearson(df, method):\n",
    "    corr, p_value = pearsonr(df['주차대수'], df['y'])\n",
    "    return corr, p_value\n",
    "\n",
    "# 1. 선형 보간 (linear interpolation)\n",
    "df_linear = tmp.copy()\n",
    "df_linear['주차대수'] = df_linear['주차대수'].interpolate(method='linear')\n",
    "\n",
    "# 2. Forward fill (ffill)\n",
    "df_ffill = tmp.copy()\n",
    "df_ffill['주차대수'] = df_ffill['주차대수'].fillna(method='ffill')\n",
    "\n",
    "# 3. Backward fill (bfill)\n",
    "df_bfill = tmp.copy()\n",
    "df_bfill['주차대수'] = df_bfill['주차대수'].fillna(method='bfill')\n",
    "\n",
    "# 4. fillna 0\n",
    "df_fillna = tmp.copy()\n",
    "df_fillna['주차대수'] = df_fillna['주차대수'].fillna(0)\n",
    "\n",
    "# 피어슨 상관계수 계산\n",
    "results = {\n",
    "    'Linear Interpolation': calculate_pearson(df_linear, 'linear'),\n",
    "    'Forward Fill (ffill)': calculate_pearson(df_ffill, 'ffill'),\n",
    "    'Backward Fill (bfill)': calculate_pearson(df_bfill, 'bfill'),\n",
    "    'fillna (fillna)' : calculate_pearson(df_fillna, 'fillna')\n",
    "}\n",
    "\n",
    "# 결과 출력\n",
    "for method, (corr, p_value) in results.items():\n",
    "    print(f\"{method}: Pearson Correlation = {corr:.4f}, P-value = {p_value:.4f}\")"
   ]
  },
  {
   "cell_type": "code",
   "execution_count": 3221,
   "metadata": {},
   "outputs": [
    {
     "data": {
      "text/plain": [
       "0"
      ]
     },
     "execution_count": 3221,
     "metadata": {},
     "output_type": "execute_result"
    }
   ],
   "source": [
    "pre_df['주차대수'] = pre_df['주차대수'].fillna(0)\n",
    "pre_df['주차대수'].isnull().sum()"
   ]
  },
  {
   "cell_type": "code",
   "execution_count": 3222,
   "metadata": {},
   "outputs": [],
   "source": [
    "concat.drop(columns=['주차대수'] , axis=1, inplace=True)"
   ]
  },
  {
   "cell_type": "markdown",
   "metadata": {},
   "source": [
    "# 기타/의무/임대/임의"
   ]
  },
  {
   "cell_type": "code",
   "execution_count": 3223,
   "metadata": {},
   "outputs": [
    {
     "data": {
      "text/plain": [
       "0.7761827303118145"
      ]
     },
     "execution_count": 3223,
     "metadata": {},
     "output_type": "execute_result"
    }
   ],
   "source": [
    "concat['기타/의무/임대/임의=1/2/3/4'].isnull().sum()/ len(concat)"
   ]
  },
  {
   "cell_type": "code",
   "execution_count": 3224,
   "metadata": {},
   "outputs": [
    {
     "data": {
      "text/plain": [
       "의무    241817\n",
       "기타      4186\n",
       "임의      3701\n",
       "임대      2233\n",
       "Name: 기타/의무/임대/임의=1/2/3/4, dtype: int64"
      ]
     },
     "execution_count": 3224,
     "metadata": {},
     "output_type": "execute_result"
    }
   ],
   "source": [
    "concat['기타/의무/임대/임의=1/2/3/4'].value_counts()"
   ]
  },
  {
   "cell_type": "code",
   "execution_count": 3225,
   "metadata": {},
   "outputs": [],
   "source": [
    "pre_df['기타/의무/임대/임의'] = concat['기타/의무/임대/임의=1/2/3/4'].fillna('미정')"
   ]
  },
  {
   "cell_type": "code",
   "execution_count": 3226,
   "metadata": {},
   "outputs": [
    {
     "data": {
      "text/plain": [
       "미정    873700\n",
       "의무    241817\n",
       "기타      4186\n",
       "임의      3701\n",
       "임대      2233\n",
       "Name: 기타/의무/임대/임의, dtype: int64"
      ]
     },
     "execution_count": 3226,
     "metadata": {},
     "output_type": "execute_result"
    }
   ],
   "source": [
    "pre_df['기타/의무/임대/임의'].value_counts()"
   ]
  },
  {
   "cell_type": "code",
   "execution_count": 3227,
   "metadata": {},
   "outputs": [
    {
     "name": "stdout",
     "output_type": "stream",
     "text": [
      "PearsonRResult(statistic=-0.11993039875933532, pvalue=0.0)\n",
      "PearsonRResult(statistic=0.10041095990302623, pvalue=0.0)\n"
     ]
    },
    {
     "name": "stderr",
     "output_type": "stream",
     "text": [
      "/tmp/ipykernel_673659/580443014.py:8: SettingWithCopyWarning: \n",
      "A value is trying to be set on a copy of a slice from a DataFrame.\n",
      "Try using .loc[row_indexer,col_indexer] = value instead\n",
      "\n",
      "See the caveats in the documentation: https://pandas.pydata.org/pandas-docs/stable/user_guide/indexing.html#returning-a-view-versus-a-copy\n",
      "  tmp['y'] = y\n"
     ]
    }
   ],
   "source": [
    "value_counts = pre_df['기타/의무/임대/임의'].value_counts()\n",
    "pre_df['빈도수_기타/의무/임대/임의'] = pre_df['기타/의무/임대/임의'].map(value_counts)\n",
    "\n",
    "le = LabelEncoder()\n",
    "pre_df['le_기타/의무/임대/임의'] = le.fit_transform(pre_df['기타/의무/임대/임의'])\n",
    "\n",
    "tmp = pre_df.query('is_test==0')\n",
    "tmp['y'] = y\n",
    "\n",
    "print(pearsonr(tmp['빈도수_기타/의무/임대/임의'], tmp['y']))\n",
    "print(pearsonr(tmp['le_기타/의무/임대/임의'], tmp['y']))"
   ]
  },
  {
   "cell_type": "code",
   "execution_count": 3228,
   "metadata": {},
   "outputs": [],
   "source": [
    "pre_df['기타/의무/임대/임의'] = pre_df['빈도수_기타/의무/임대/임의']\n",
    "\n",
    "pre_df.drop(columns=['빈도수_기타/의무/임대/임의', 'le_기타/의무/임대/임의'], axis=1, inplace=True)\n",
    "\n",
    "concat.drop(columns=['기타/의무/임대/임의=1/2/3/4'], axis=1, inplace=True)"
   ]
  },
  {
   "cell_type": "markdown",
   "metadata": {},
   "source": [
    "# 단지승인일"
   ]
  },
  {
   "cell_type": "code",
   "execution_count": 3229,
   "metadata": {},
   "outputs": [
    {
     "data": {
      "text/plain": [
       "0.7768303636074507"
      ]
     },
     "execution_count": 3229,
     "metadata": {},
     "output_type": "execute_result"
    }
   ],
   "source": [
    "concat['단지승인일'].isnull().sum() / len(concat)"
   ]
  },
  {
   "cell_type": "code",
   "execution_count": 3230,
   "metadata": {},
   "outputs": [],
   "source": [
    "concat['단지승인일'] = pd.to_datetime(concat['단지승인일'])"
   ]
  },
  {
   "cell_type": "code",
   "execution_count": 3231,
   "metadata": {},
   "outputs": [],
   "source": [
    "pre_df['단지승인일_년'] = concat['단지승인일'].dt.year\n",
    "pre_df['단지승인일_월'] = concat['단지승인일'].dt.month\n",
    "pre_df['단지승인일_일'] = concat['단지승인일'].dt.day"
   ]
  },
  {
   "cell_type": "code",
   "execution_count": 3232,
   "metadata": {},
   "outputs": [
    {
     "name": "stderr",
     "output_type": "stream",
     "text": [
      "/tmp/ipykernel_673659/651114169.py:2: SettingWithCopyWarning: \n",
      "A value is trying to be set on a copy of a slice from a DataFrame.\n",
      "Try using .loc[row_indexer,col_indexer] = value instead\n",
      "\n",
      "See the caveats in the documentation: https://pandas.pydata.org/pandas-docs/stable/user_guide/indexing.html#returning-a-view-versus-a-copy\n",
      "  tmp['y'] = y\n"
     ]
    },
    {
     "name": "stdout",
     "output_type": "stream",
     "text": [
      "Linear Interpolation: Pearson Correlation = 0.0130, P-value = 0.0000\n",
      "Forward Fill (ffill): Pearson Correlation = 0.0188, P-value = 0.0000\n",
      "Backward Fill (bfill): Pearson Correlation = 0.0066, P-value = 0.0000\n",
      "fillna (fillna): Pearson Correlation = 0.1206, P-value = 0.0000\n"
     ]
    }
   ],
   "source": [
    "tmp = pre_df.query('is_test==0')\n",
    "tmp['y'] = y\n",
    "\n",
    "\n",
    "def calculate_pearson(df, method):\n",
    "    corr, p_value = pearsonr(df['단지승인일_년'], df['y'])\n",
    "    return corr, p_value\n",
    "\n",
    "# 1. 선형 보간 (linear interpolation)\n",
    "df_linear = tmp.copy()\n",
    "df_linear['단지승인일_년'] = df_linear['단지승인일_년'].interpolate(method='linear')\n",
    "\n",
    "# 2. Forward fill (ffill)\n",
    "df_ffill = tmp.copy()\n",
    "df_ffill['단지승인일_년'] = df_ffill['단지승인일_년'].fillna(method='ffill')\n",
    "\n",
    "# 3. Backward fill (bfill)\n",
    "df_bfill = tmp.copy()\n",
    "df_bfill['단지승인일_년'] = df_bfill['단지승인일_년'].fillna(method='bfill')\n",
    "\n",
    "# 4. fillna 0\n",
    "df_fillna = tmp.copy()\n",
    "df_fillna['단지승인일_년'] = df_fillna['단지승인일_년'].fillna(0)\n",
    "\n",
    "# 피어슨 상관계수 계산\n",
    "results = {\n",
    "    'Linear Interpolation': calculate_pearson(df_linear, 'linear'),\n",
    "    'Forward Fill (ffill)': calculate_pearson(df_ffill, 'ffill'),\n",
    "    'Backward Fill (bfill)': calculate_pearson(df_bfill, 'bfill'),\n",
    "    'fillna (fillna)' : calculate_pearson(df_fillna, 'fillna')\n",
    "}\n",
    "\n",
    "# 결과 출력\n",
    "for method, (corr, p_value) in results.items():\n",
    "    print(f\"{method}: Pearson Correlation = {corr:.4f}, P-value = {p_value:.4f}\")"
   ]
  },
  {
   "cell_type": "code",
   "execution_count": 3233,
   "metadata": {},
   "outputs": [
    {
     "data": {
      "text/plain": [
       "0"
      ]
     },
     "execution_count": 3233,
     "metadata": {},
     "output_type": "execute_result"
    }
   ],
   "source": [
    "pre_df['단지승인일_년'] = pre_df['단지승인일_년'].fillna(0)\n",
    "pre_df['단지승인일_년'].isnull().sum()"
   ]
  },
  {
   "cell_type": "code",
   "execution_count": 3234,
   "metadata": {},
   "outputs": [
    {
     "name": "stderr",
     "output_type": "stream",
     "text": [
      "/tmp/ipykernel_673659/185204749.py:2: SettingWithCopyWarning: \n",
      "A value is trying to be set on a copy of a slice from a DataFrame.\n",
      "Try using .loc[row_indexer,col_indexer] = value instead\n",
      "\n",
      "See the caveats in the documentation: https://pandas.pydata.org/pandas-docs/stable/user_guide/indexing.html#returning-a-view-versus-a-copy\n",
      "  tmp['y'] = y\n"
     ]
    },
    {
     "name": "stdout",
     "output_type": "stream",
     "text": [
      "Linear Interpolation: Pearson Correlation = -0.0557, P-value = 0.0000\n",
      "Forward Fill (ffill): Pearson Correlation = -0.0420, P-value = 0.0000\n",
      "Backward Fill (bfill): Pearson Correlation = -0.0539, P-value = 0.0000\n",
      "fillna (fillna): Pearson Correlation = 0.0838, P-value = 0.0000\n"
     ]
    }
   ],
   "source": [
    "tmp = pre_df.query('is_test==0')\n",
    "tmp['y'] = y\n",
    "\n",
    "\n",
    "def calculate_pearson(df, method):\n",
    "    corr, p_value = pearsonr(df['단지승인일_월'], df['y'])\n",
    "    return corr, p_value\n",
    "\n",
    "# 1. 선형 보간 (linear interpolation)\n",
    "df_linear = tmp.copy()\n",
    "df_linear['단지승인일_월'] = df_linear['단지승인일_월'].interpolate(method='linear')\n",
    "\n",
    "# 2. Forward fill (ffill)\n",
    "df_ffill = tmp.copy()\n",
    "df_ffill['단지승인일_월'] = df_ffill['단지승인일_월'].fillna(method='ffill')\n",
    "\n",
    "# 3. Backward fill (bfill)\n",
    "df_bfill = tmp.copy()\n",
    "df_bfill['단지승인일_월'] = df_bfill['단지승인일_월'].fillna(method='bfill')\n",
    "\n",
    "# 4. fillna 0\n",
    "df_fillna = tmp.copy()\n",
    "df_fillna['단지승인일_월'] = df_fillna['단지승인일_월'].fillna(0)\n",
    "\n",
    "# 피어슨 상관계수 계산\n",
    "results = {\n",
    "    'Linear Interpolation': calculate_pearson(df_linear, 'linear'),\n",
    "    'Forward Fill (ffill)': calculate_pearson(df_ffill, 'ffill'),\n",
    "    'Backward Fill (bfill)': calculate_pearson(df_bfill, 'bfill'),\n",
    "    'fillna (fillna)' : calculate_pearson(df_fillna, 'fillna')\n",
    "}\n",
    "\n",
    "# 결과 출력\n",
    "for method, (corr, p_value) in results.items():\n",
    "    print(f\"{method}: Pearson Correlation = {corr:.4f}, P-value = {p_value:.4f}\")"
   ]
  },
  {
   "cell_type": "code",
   "execution_count": 3235,
   "metadata": {},
   "outputs": [
    {
     "data": {
      "text/plain": [
       "0"
      ]
     },
     "execution_count": 3235,
     "metadata": {},
     "output_type": "execute_result"
    }
   ],
   "source": [
    "pre_df['단지승인일_월'] = pre_df['단지승인일_월'].fillna(0)\n",
    "pre_df['단지승인일_월'].isnull().sum()"
   ]
  },
  {
   "cell_type": "code",
   "execution_count": 3236,
   "metadata": {},
   "outputs": [
    {
     "name": "stderr",
     "output_type": "stream",
     "text": [
      "/tmp/ipykernel_673659/3589054337.py:2: SettingWithCopyWarning: \n",
      "A value is trying to be set on a copy of a slice from a DataFrame.\n",
      "Try using .loc[row_indexer,col_indexer] = value instead\n",
      "\n",
      "See the caveats in the documentation: https://pandas.pydata.org/pandas-docs/stable/user_guide/indexing.html#returning-a-view-versus-a-copy\n",
      "  tmp['y'] = y\n"
     ]
    },
    {
     "name": "stdout",
     "output_type": "stream",
     "text": [
      "Linear Interpolation: Pearson Correlation = 0.0502, P-value = 0.0000\n",
      "Forward Fill (ffill): Pearson Correlation = 0.0384, P-value = 0.0000\n",
      "Backward Fill (bfill): Pearson Correlation = 0.0357, P-value = 0.0000\n",
      "fillna (fillna): Pearson Correlation = 0.1007, P-value = 0.0000\n"
     ]
    }
   ],
   "source": [
    "tmp = pre_df.query('is_test==0')\n",
    "tmp['y'] = y\n",
    "\n",
    "\n",
    "def calculate_pearson(df, method):\n",
    "    corr, p_value = pearsonr(df['단지승인일_일'], df['y'])\n",
    "    return corr, p_value\n",
    "\n",
    "# 1. 선형 보간 (linear interpolation)\n",
    "df_linear = tmp.copy()\n",
    "df_linear['단지승인일_일'] = df_linear['단지승인일_일'].interpolate(method='linear')\n",
    "\n",
    "# 2. Forward fill (ffill)\n",
    "df_ffill = tmp.copy()\n",
    "df_ffill['단지승인일_일'] = df_ffill['단지승인일_일'].fillna(method='ffill')\n",
    "\n",
    "# 3. Backward fill (bfill)\n",
    "df_bfill = tmp.copy()\n",
    "df_bfill['단지승인일_일'] = df_bfill['단지승인일_일'].fillna(method='bfill')\n",
    "\n",
    "# 4. fillna 0\n",
    "df_fillna = tmp.copy()\n",
    "df_fillna['단지승인일_일'] = df_fillna['단지승인일_일'].fillna(0)\n",
    "\n",
    "# 피어슨 상관계수 계산\n",
    "results = {\n",
    "    'Linear Interpolation': calculate_pearson(df_linear, 'linear'),\n",
    "    'Forward Fill (ffill)': calculate_pearson(df_ffill, 'ffill'),\n",
    "    'Backward Fill (bfill)': calculate_pearson(df_bfill, 'bfill'),\n",
    "    'fillna (fillna)' : calculate_pearson(df_fillna, 'fillna')\n",
    "}\n",
    "\n",
    "# 결과 출력\n",
    "for method, (corr, p_value) in results.items():\n",
    "    print(f\"{method}: Pearson Correlation = {corr:.4f}, P-value = {p_value:.4f}\")"
   ]
  },
  {
   "cell_type": "code",
   "execution_count": 3237,
   "metadata": {},
   "outputs": [
    {
     "data": {
      "text/plain": [
       "0"
      ]
     },
     "execution_count": 3237,
     "metadata": {},
     "output_type": "execute_result"
    }
   ],
   "source": [
    "pre_df['단지승인일_일'] = pre_df['단지승인일_일'].fillna(0)\n",
    "pre_df['단지승인일_일'].isnull().sum()"
   ]
  },
  {
   "cell_type": "code",
   "execution_count": 3238,
   "metadata": {},
   "outputs": [],
   "source": [
    "concat.drop(columns=['단지승인일'] , axis=1, inplace=True)"
   ]
  },
  {
   "cell_type": "markdown",
   "metadata": {},
   "source": [
    "# 사용허가여부"
   ]
  },
  {
   "cell_type": "code",
   "execution_count": 3239,
   "metadata": {},
   "outputs": [
    {
     "data": {
      "text/plain": [
       "0.7761827303118145"
      ]
     },
     "execution_count": 3239,
     "metadata": {},
     "output_type": "execute_result"
    }
   ],
   "source": [
    "concat['사용허가여부'].isnull().sum() / len(concat)"
   ]
  },
  {
   "cell_type": "code",
   "execution_count": 3240,
   "metadata": {},
   "outputs": [
    {
     "data": {
      "text/plain": [
       "Y    251937\n",
       "Name: 사용허가여부, dtype: int64"
      ]
     },
     "execution_count": 3240,
     "metadata": {},
     "output_type": "execute_result"
    }
   ],
   "source": [
    "concat['사용허가여부'].value_counts()"
   ]
  },
  {
   "cell_type": "code",
   "execution_count": 3241,
   "metadata": {},
   "outputs": [],
   "source": [
    "pre_df['사용허가여부'] = concat['사용허가여부'].map(lambda x: 1 if x == 'Y' else 0)"
   ]
  },
  {
   "cell_type": "code",
   "execution_count": 3242,
   "metadata": {},
   "outputs": [],
   "source": [
    "concat.drop(columns=['사용허가여부'] ,axis=1, inplace=True)"
   ]
  },
  {
   "cell_type": "markdown",
   "metadata": {},
   "source": [
    "# 관리비 업로드"
   ]
  },
  {
   "cell_type": "code",
   "execution_count": 3243,
   "metadata": {},
   "outputs": [
    {
     "data": {
      "text/plain": [
       "0.7761827303118145"
      ]
     },
     "execution_count": 3243,
     "metadata": {},
     "output_type": "execute_result"
    }
   ],
   "source": [
    "concat['관리비 업로드'].isnull().sum() / len(concat)"
   ]
  },
  {
   "cell_type": "code",
   "execution_count": 3244,
   "metadata": {},
   "outputs": [
    {
     "data": {
      "text/plain": [
       "N    247774\n",
       "Y      4163\n",
       "Name: 관리비 업로드, dtype: int64"
      ]
     },
     "execution_count": 3244,
     "metadata": {},
     "output_type": "execute_result"
    }
   ],
   "source": [
    "concat['관리비 업로드'].value_counts()"
   ]
  },
  {
   "cell_type": "code",
   "execution_count": 3245,
   "metadata": {},
   "outputs": [],
   "source": [
    "concat.drop(columns=['관리비 업로드'] , axis=1, inplace=True)"
   ]
  },
  {
   "cell_type": "markdown",
   "metadata": {},
   "source": [
    "# 단지신청일"
   ]
  },
  {
   "cell_type": "code",
   "execution_count": 3250,
   "metadata": {},
   "outputs": [
    {
     "data": {
      "text/plain": [
       "0.7762378102354489"
      ]
     },
     "execution_count": 3250,
     "metadata": {},
     "output_type": "execute_result"
    }
   ],
   "source": [
    "concat['단지신청일'].isnull().sum() / len(concat)"
   ]
  },
  {
   "cell_type": "code",
   "execution_count": 3252,
   "metadata": {},
   "outputs": [],
   "source": [
    "concat['단지신청일'] = pd.to_datetime(concat['단지신청일'])"
   ]
  },
  {
   "cell_type": "code",
   "execution_count": 3253,
   "metadata": {},
   "outputs": [],
   "source": [
    "pre_df['단지신청일_년'] = concat['단지신청일'].dt.year\n",
    "pre_df['단지신청일_월'] = concat['단지신청일'].dt.month\n",
    "pre_df['단지신청일_일'] = concat['단지신청일'].dt.day"
   ]
  },
  {
   "cell_type": "code",
   "execution_count": 3254,
   "metadata": {},
   "outputs": [
    {
     "data": {
      "text/plain": [
       "2013.0    224044\n",
       "2015.0      7640\n",
       "2017.0      5521\n",
       "2014.0      4919\n",
       "2016.0      2503\n",
       "2020.0      2339\n",
       "2019.0      2115\n",
       "2018.0      1270\n",
       "2021.0       847\n",
       "2022.0       385\n",
       "2023.0       292\n",
       "Name: 단지신청일_년, dtype: int64"
      ]
     },
     "execution_count": 3254,
     "metadata": {},
     "output_type": "execute_result"
    }
   ],
   "source": [
    "pre_df['단지신청일_년'].value_counts()"
   ]
  },
  {
   "cell_type": "code",
   "execution_count": 3255,
   "metadata": {},
   "outputs": [
    {
     "data": {
      "text/plain": [
       "3.0     223334\n",
       "2.0       5593\n",
       "1.0       3585\n",
       "6.0       3535\n",
       "11.0      2484\n",
       "9.0       2417\n",
       "7.0       2405\n",
       "5.0       2367\n",
       "8.0       1902\n",
       "10.0      1711\n",
       "4.0       1691\n",
       "12.0       851\n",
       "Name: 단지신청일_월, dtype: int64"
      ]
     },
     "execution_count": 3255,
     "metadata": {},
     "output_type": "execute_result"
    }
   ],
   "source": [
    "pre_df['단지신청일_월'].value_counts()"
   ]
  },
  {
   "cell_type": "code",
   "execution_count": 3256,
   "metadata": {},
   "outputs": [
    {
     "data": {
      "text/plain": [
       "7.0     222649\n",
       "1.0       3179\n",
       "22.0      2255\n",
       "10.0      2196\n",
       "12.0      1994\n",
       "11.0      1918\n",
       "21.0      1767\n",
       "27.0      1630\n",
       "9.0       1132\n",
       "17.0      1022\n",
       "14.0       999\n",
       "26.0       977\n",
       "23.0       933\n",
       "25.0       912\n",
       "28.0       867\n",
       "18.0       721\n",
       "16.0       715\n",
       "8.0        659\n",
       "2.0        656\n",
       "24.0       646\n",
       "3.0        595\n",
       "13.0       563\n",
       "15.0       539\n",
       "6.0        414\n",
       "29.0       384\n",
       "19.0       379\n",
       "5.0        368\n",
       "30.0       351\n",
       "20.0       277\n",
       "4.0        178\n",
       "Name: 단지신청일_일, dtype: int64"
      ]
     },
     "execution_count": 3256,
     "metadata": {},
     "output_type": "execute_result"
    }
   ],
   "source": [
    "pre_df['단지신청일_일'].value_counts()"
   ]
  },
  {
   "cell_type": "code",
   "execution_count": 3257,
   "metadata": {},
   "outputs": [
    {
     "name": "stderr",
     "output_type": "stream",
     "text": [
      "/tmp/ipykernel_673659/1427519775.py:2: SettingWithCopyWarning: \n",
      "A value is trying to be set on a copy of a slice from a DataFrame.\n",
      "Try using .loc[row_indexer,col_indexer] = value instead\n",
      "\n",
      "See the caveats in the documentation: https://pandas.pydata.org/pandas-docs/stable/user_guide/indexing.html#returning-a-view-versus-a-copy\n",
      "  tmp['y'] = y\n"
     ]
    },
    {
     "name": "stdout",
     "output_type": "stream",
     "text": [
      "Linear Interpolation: Pearson Correlation = 0.1265, P-value = 0.0000\n",
      "Forward Fill (ffill): Pearson Correlation = 0.1198, P-value = 0.0000\n",
      "Backward Fill (bfill): Pearson Correlation = 0.1038, P-value = 0.0000\n",
      "fillna (fillna): Pearson Correlation = 0.1201, P-value = 0.0000\n"
     ]
    }
   ],
   "source": [
    "tmp = pre_df.query('is_test==0')\n",
    "tmp['y'] = y\n",
    "\n",
    "\n",
    "def calculate_pearson(df, method):\n",
    "    corr, p_value = pearsonr(df['단지신청일_년'], df['y'])\n",
    "    return corr, p_value\n",
    "\n",
    "# 1. 선형 보간 (linear interpolation)\n",
    "df_linear = tmp.copy()\n",
    "df_linear['단지신청일_년'] = df_linear['단지신청일_년'].interpolate(method='linear')\n",
    "\n",
    "# 2. Forward fill (ffill)\n",
    "df_ffill = tmp.copy()\n",
    "df_ffill['단지신청일_년'] = df_ffill['단지신청일_년'].fillna(method='ffill')\n",
    "\n",
    "# 3. Backward fill (bfill)\n",
    "df_bfill = tmp.copy()\n",
    "df_bfill['단지신청일_년'] = df_bfill['단지신청일_년'].fillna(method='bfill')\n",
    "\n",
    "# 4. fillna 0\n",
    "df_fillna = tmp.copy()\n",
    "df_fillna['단지신청일_년'] = df_fillna['단지신청일_년'].fillna(0)\n",
    "\n",
    "# 피어슨 상관계수 계산\n",
    "results = {\n",
    "    'Linear Interpolation': calculate_pearson(df_linear, 'linear'),\n",
    "    'Forward Fill (ffill)': calculate_pearson(df_ffill, 'ffill'),\n",
    "    'Backward Fill (bfill)': calculate_pearson(df_bfill, 'bfill'),\n",
    "    'fillna (fillna)' : calculate_pearson(df_fillna, 'fillna')\n",
    "}\n",
    "\n",
    "# 결과 출력\n",
    "for method, (corr, p_value) in results.items():\n",
    "    print(f\"{method}: Pearson Correlation = {corr:.4f}, P-value = {p_value:.4f}\")"
   ]
  },
  {
   "cell_type": "code",
   "execution_count": 3258,
   "metadata": {},
   "outputs": [
    {
     "data": {
      "text/plain": [
       "0"
      ]
     },
     "execution_count": 3258,
     "metadata": {},
     "output_type": "execute_result"
    }
   ],
   "source": [
    "pre_df['단지신청일_년'] = pre_df['단지신청일_년'].interpolate(method='linear')\n",
    "pre_df['단지신청일_년'].isnull().sum()"
   ]
  },
  {
   "cell_type": "code",
   "execution_count": 3259,
   "metadata": {},
   "outputs": [
    {
     "name": "stderr",
     "output_type": "stream",
     "text": [
      "/tmp/ipykernel_673659/1614922833.py:2: SettingWithCopyWarning: \n",
      "A value is trying to be set on a copy of a slice from a DataFrame.\n",
      "Try using .loc[row_indexer,col_indexer] = value instead\n",
      "\n",
      "See the caveats in the documentation: https://pandas.pydata.org/pandas-docs/stable/user_guide/indexing.html#returning-a-view-versus-a-copy\n",
      "  tmp['y'] = y\n"
     ]
    },
    {
     "name": "stdout",
     "output_type": "stream",
     "text": [
      "Linear Interpolation: Pearson Correlation = 0.0825, P-value = 0.0000\n",
      "Forward Fill (ffill): Pearson Correlation = 0.0864, P-value = 0.0000\n",
      "Backward Fill (bfill): Pearson Correlation = 0.0577, P-value = 0.0000\n",
      "fillna (fillna): Pearson Correlation = 0.1293, P-value = 0.0000\n"
     ]
    }
   ],
   "source": [
    "tmp = pre_df.query('is_test==0')\n",
    "tmp['y'] = y\n",
    "\n",
    "\n",
    "def calculate_pearson(df, method):\n",
    "    corr, p_value = pearsonr(df['단지신청일_월'], df['y'])\n",
    "    return corr, p_value\n",
    "\n",
    "# 1. 선형 보간 (linear interpolation)\n",
    "df_linear = tmp.copy()\n",
    "df_linear['단지신청일_월'] = df_linear['단지신청일_월'].interpolate(method='linear')\n",
    "\n",
    "# 2. Forward fill (ffill)\n",
    "df_ffill = tmp.copy()\n",
    "df_ffill['단지신청일_월'] = df_ffill['단지신청일_월'].fillna(method='ffill')\n",
    "\n",
    "# 3. Backward fill (bfill)\n",
    "df_bfill = tmp.copy()\n",
    "df_bfill['단지신청일_월'] = df_bfill['단지신청일_월'].fillna(method='bfill')\n",
    "\n",
    "# 4. fillna 0\n",
    "df_fillna = tmp.copy()\n",
    "df_fillna['단지신청일_월'] = df_fillna['단지신청일_월'].fillna(0)\n",
    "\n",
    "# 피어슨 상관계수 계산\n",
    "results = {\n",
    "    'Linear Interpolation': calculate_pearson(df_linear, 'linear'),\n",
    "    'Forward Fill (ffill)': calculate_pearson(df_ffill, 'ffill'),\n",
    "    'Backward Fill (bfill)': calculate_pearson(df_bfill, 'bfill'),\n",
    "    'fillna (fillna)' : calculate_pearson(df_fillna, 'fillna')\n",
    "}\n",
    "\n",
    "# 결과 출력\n",
    "for method, (corr, p_value) in results.items():\n",
    "    print(f\"{method}: Pearson Correlation = {corr:.4f}, P-value = {p_value:.4f}\")"
   ]
  },
  {
   "cell_type": "code",
   "execution_count": 3260,
   "metadata": {},
   "outputs": [
    {
     "data": {
      "text/plain": [
       "0"
      ]
     },
     "execution_count": 3260,
     "metadata": {},
     "output_type": "execute_result"
    }
   ],
   "source": [
    "pre_df['단지신청일_월'] = pre_df['단지신청일_월'].fillna(0)\n",
    "pre_df['단지신청일_월'].isnull().sum()"
   ]
  },
  {
   "cell_type": "code",
   "execution_count": 3261,
   "metadata": {},
   "outputs": [
    {
     "name": "stderr",
     "output_type": "stream",
     "text": [
      "/tmp/ipykernel_673659/4154583352.py:2: SettingWithCopyWarning: \n",
      "A value is trying to be set on a copy of a slice from a DataFrame.\n",
      "Try using .loc[row_indexer,col_indexer] = value instead\n",
      "\n",
      "See the caveats in the documentation: https://pandas.pydata.org/pandas-docs/stable/user_guide/indexing.html#returning-a-view-versus-a-copy\n",
      "  tmp['y'] = y\n"
     ]
    },
    {
     "name": "stdout",
     "output_type": "stream",
     "text": [
      "Linear Interpolation: Pearson Correlation = 0.0821, P-value = 0.0000\n",
      "Forward Fill (ffill): Pearson Correlation = 0.0420, P-value = 0.0000\n",
      "Backward Fill (bfill): Pearson Correlation = 0.0958, P-value = 0.0000\n",
      "fillna (fillna): Pearson Correlation = 0.1324, P-value = 0.0000\n"
     ]
    }
   ],
   "source": [
    "tmp = pre_df.query('is_test==0')\n",
    "tmp['y'] = y\n",
    "\n",
    "\n",
    "def calculate_pearson(df, method):\n",
    "    corr, p_value = pearsonr(df['단지신청일_일'], df['y'])\n",
    "    return corr, p_value\n",
    "\n",
    "# 1. 선형 보간 (linear interpolation)\n",
    "df_linear = tmp.copy()\n",
    "df_linear['단지신청일_일'] = df_linear['단지신청일_일'].interpolate(method='linear')\n",
    "\n",
    "# 2. Forward fill (ffill)\n",
    "df_ffill = tmp.copy()\n",
    "df_ffill['단지신청일_일'] = df_ffill['단지신청일_일'].fillna(method='ffill')\n",
    "\n",
    "# 3. Backward fill (bfill)\n",
    "df_bfill = tmp.copy()\n",
    "df_bfill['단지신청일_일'] = df_bfill['단지신청일_일'].fillna(method='bfill')\n",
    "\n",
    "# 4. fillna 0\n",
    "df_fillna = tmp.copy()\n",
    "df_fillna['단지신청일_일'] = df_fillna['단지신청일_일'].fillna(0)\n",
    "\n",
    "# 피어슨 상관계수 계산\n",
    "results = {\n",
    "    'Linear Interpolation': calculate_pearson(df_linear, 'linear'),\n",
    "    'Forward Fill (ffill)': calculate_pearson(df_ffill, 'ffill'),\n",
    "    'Backward Fill (bfill)': calculate_pearson(df_bfill, 'bfill'),\n",
    "    'fillna (fillna)' : calculate_pearson(df_fillna, 'fillna')\n",
    "}\n",
    "\n",
    "# 결과 출력\n",
    "for method, (corr, p_value) in results.items():\n",
    "    print(f\"{method}: Pearson Correlation = {corr:.4f}, P-value = {p_value:.4f}\")"
   ]
  },
  {
   "cell_type": "code",
   "execution_count": 3262,
   "metadata": {},
   "outputs": [
    {
     "data": {
      "text/plain": [
       "0"
      ]
     },
     "execution_count": 3262,
     "metadata": {},
     "output_type": "execute_result"
    }
   ],
   "source": [
    "pre_df['단지신청일_일'] = pre_df['단지신청일_일'].fillna(0)\n",
    "pre_df['단지신청일_일'].isnull().sum()"
   ]
  },
  {
   "cell_type": "code",
   "execution_count": 3263,
   "metadata": {},
   "outputs": [],
   "source": [
    "concat.drop(columns=['단지신청일'], axis=1, inplace=True)"
   ]
  },
  {
   "cell_type": "markdown",
   "metadata": {},
   "source": [
    "# 지하철 데이터"
   ]
  },
  {
   "cell_type": "code",
   "execution_count": 81,
   "metadata": {},
   "outputs": [],
   "source": [
    "from scipy.spatial.distance import cdist"
   ]
  },
  {
   "cell_type": "code",
   "execution_count": 82,
   "metadata": {},
   "outputs": [],
   "source": [
    "pre_df = pd.read_csv(\"../data/final/pre_df.csv\")\n",
    "y = pd.read_csv(\"../data/final/y.csv\")\n",
    "subway_df = pd.read_csv(\"../data/subway_feature.csv\")"
   ]
  },
  {
   "cell_type": "code",
   "execution_count": 83,
   "metadata": {},
   "outputs": [],
   "source": [
    "# 거리 계산 (맨해튼 거리 사용)\n",
    "distances = cdist(pre_df[['좌표X', '좌표Y']], subway_df[['경도', '위도']], metric='cityblock')\n",
    "\n",
    "# 각 행에서 가장 가까운 인덱스와 거리 추출\n",
    "closest_indices = np.argmin(distances, axis=1)\n",
    "closest_distances = np.min(distances, axis=1)\n",
    "\n",
    "# 결과를 새로운 데이터프레임에 저장\n",
    "results = pd.DataFrame({\n",
    "    'pre_train_index': range(len(pre_df)),\n",
    "    'subway_index': closest_indices,\n",
    "    'distance': closest_distances\n",
    "})"
   ]
  },
  {
   "cell_type": "code",
   "execution_count": 84,
   "metadata": {},
   "outputs": [],
   "source": [
    "pre_df['subway_distance'] = results['distance']\n",
    "subway_selected = subway_df[['역사_ID','역사명', '호선']]\n",
    "subway_indices = results['subway_index'].values\n",
    "pre_df[['역사ID', '역사명', '호선']] = subway_selected.iloc[subway_indices].values\n",
    "pre_df['역사ID'] = pre_df['역사ID'].astype('int')"
   ]
  },
  {
   "cell_type": "code",
   "execution_count": 85,
   "metadata": {},
   "outputs": [
    {
     "data": {
      "text/plain": [
       "상계             18808\n",
       "마들             16167\n",
       "중계             15140\n",
       "신정네거리          14685\n",
       "쌍문             14236\n",
       "               ...  \n",
       "광화문(세종문화회관)       53\n",
       "동대문역사문화공원         30\n",
       "복정                25\n",
       "숙대입구(갈월)          18\n",
       "을지로3가              3\n",
       "Name: 역사명, Length: 311, dtype: int64"
      ]
     },
     "execution_count": 85,
     "metadata": {},
     "output_type": "execute_result"
    }
   ],
   "source": [
    "pre_df['역사명'].value_counts()"
   ]
  },
  {
   "cell_type": "code",
   "execution_count": 86,
   "metadata": {},
   "outputs": [
    {
     "data": {
      "text/plain": [
       "25"
      ]
     },
     "execution_count": 86,
     "metadata": {},
     "output_type": "execute_result"
    }
   ],
   "source": [
    "len(pre_df['호선'].value_counts())"
   ]
  },
  {
   "cell_type": "code",
   "execution_count": 87,
   "metadata": {},
   "outputs": [
    {
     "name": "stdout",
     "output_type": "stream",
     "text": [
      "PearsonRResult(statistic=-0.20474158150268768, pvalue=0.0)\n",
      "PearsonRResult(statistic=0.03225683663705246, pvalue=1.0090600823142987e-254)\n"
     ]
    },
    {
     "name": "stderr",
     "output_type": "stream",
     "text": [
      "/tmp/ipykernel_727293/1583762025.py:8: SettingWithCopyWarning: \n",
      "A value is trying to be set on a copy of a slice from a DataFrame.\n",
      "Try using .loc[row_indexer,col_indexer] = value instead\n",
      "\n",
      "See the caveats in the documentation: https://pandas.pydata.org/pandas-docs/stable/user_guide/indexing.html#returning-a-view-versus-a-copy\n",
      "  tmp['y'] = y\n"
     ]
    }
   ],
   "source": [
    "value_counts = pre_df['역사명'].value_counts()\n",
    "pre_df['빈도수_역사명'] = pre_df['역사명'].map(value_counts)\n",
    "\n",
    "le = LabelEncoder()\n",
    "pre_df['le_역사명'] = le.fit_transform(pre_df['역사명'])\n",
    "\n",
    "tmp = pre_df.query('is_test==0')\n",
    "tmp['y'] = y\n",
    "\n",
    "print(pearsonr(tmp['빈도수_역사명'], tmp['y']))\n",
    "print(pearsonr(tmp['le_역사명'], tmp['y']))"
   ]
  },
  {
   "cell_type": "code",
   "execution_count": 88,
   "metadata": {},
   "outputs": [],
   "source": [
    "pre_df['역사명'] = pre_df['빈도수_역사명']\n",
    "\n",
    "pre_df.drop(columns=['빈도수_역사명', 'le_역사명'], axis=1, inplace=True)"
   ]
  },
  {
   "cell_type": "code",
   "execution_count": 91,
   "metadata": {},
   "outputs": [],
   "source": [
    "pre_df = pd.concat([pre_df, pd.get_dummies(pre_df['호선'])], axis=1)"
   ]
  },
  {
   "cell_type": "markdown",
   "metadata": {},
   "source": [
    "# 버스 데이터"
   ]
  },
  {
   "cell_type": "code",
   "execution_count": 93,
   "metadata": {},
   "outputs": [],
   "source": [
    "bus_df = pd.read_csv(\"../data/bus_feature.csv\")"
   ]
  },
  {
   "cell_type": "code",
   "execution_count": 95,
   "metadata": {},
   "outputs": [
    {
     "name": "stderr",
     "output_type": "stream",
     "text": [
      "100%|██████████| 1126/1126 [01:13<00:00, 15.34it/s]\n"
     ]
    }
   ],
   "source": [
    "batch_size = 1000  # 한 번에 처리할 데이터 크기\n",
    "results = []\n",
    "\n",
    "for start_idx in tqdm(range(0, len(pre_df), batch_size)):\n",
    "    end_idx = start_idx + batch_size\n",
    "    batch = pre_df[['좌표X', '좌표Y']].iloc[start_idx:end_idx].to_numpy()\n",
    "    distances = np.abs(batch[:, np.newaxis, 0] - bus_df[['X좌표']].to_numpy().T) + \\\n",
    "                np.abs(batch[:, np.newaxis, 1] - bus_df[['Y좌표']].to_numpy().T)\n",
    "    \n",
    "    closest_indices = np.argmin(distances, axis=1)\n",
    "    closest_distances = np.min(distances, axis=1)\n",
    "    \n",
    "    for idx, (closest_index, closest_distance) in enumerate(zip(closest_indices, closest_distances)):\n",
    "        results.append({'pre_df_index': start_idx + idx, 'bus_index': closest_index, 'distance': closest_distance})\n",
    "\n",
    "results_df = pd.DataFrame(results)"
   ]
  },
  {
   "cell_type": "code",
   "execution_count": 96,
   "metadata": {},
   "outputs": [],
   "source": [
    "pre_df['bus_distance'] = results_df['distance']\n",
    "bus_selected = bus_df[['노드 ID', '정류소번호', '정류소명', '정류소 타입']]\n",
    "bus_indices = results_df['bus_index'].values\n",
    "pre_df[['노드 ID', '정류소번호', '정류소명', '정류소 타입']] = bus_selected.iloc[bus_indices].values"
   ]
  },
  {
   "cell_type": "code",
   "execution_count": 97,
   "metadata": {},
   "outputs": [],
   "source": [
    "pre_df[['노드 ID', '정류소번호']] = pre_df[['노드 ID', '정류소번호']].astype('int')"
   ]
  },
  {
   "cell_type": "code",
   "execution_count": 101,
   "metadata": {},
   "outputs": [
    {
     "data": {
      "text/html": [
       "<div>\n",
       "<style scoped>\n",
       "    .dataframe tbody tr th:only-of-type {\n",
       "        vertical-align: middle;\n",
       "    }\n",
       "\n",
       "    .dataframe tbody tr th {\n",
       "        vertical-align: top;\n",
       "    }\n",
       "\n",
       "    .dataframe thead th {\n",
       "        text-align: right;\n",
       "    }\n",
       "</style>\n",
       "<table border=\"1\" class=\"dataframe\">\n",
       "  <thead>\n",
       "    <tr style=\"text-align: right;\">\n",
       "      <th></th>\n",
       "      <th>is_test</th>\n",
       "      <th>본번</th>\n",
       "      <th>부번</th>\n",
       "      <th>좌표Y</th>\n",
       "      <th>좌표X</th>\n",
       "      <th>동</th>\n",
       "      <th>강남구</th>\n",
       "      <th>강동구</th>\n",
       "      <th>강북구</th>\n",
       "      <th>강서구</th>\n",
       "      <th>...</th>\n",
       "      <th>신분당선</th>\n",
       "      <th>신분당선(연장2)</th>\n",
       "      <th>우이신설선</th>\n",
       "      <th>일산선</th>\n",
       "      <th>중앙선</th>\n",
       "      <th>bus_distance</th>\n",
       "      <th>노드 ID</th>\n",
       "      <th>정류소번호</th>\n",
       "      <th>정류소명</th>\n",
       "      <th>정류소 타입</th>\n",
       "    </tr>\n",
       "  </thead>\n",
       "  <tbody>\n",
       "    <tr>\n",
       "      <th>0</th>\n",
       "      <td>0</td>\n",
       "      <td>658</td>\n",
       "      <td>1</td>\n",
       "      <td>37.476156</td>\n",
       "      <td>127.057212</td>\n",
       "      <td>12309</td>\n",
       "      <td>1</td>\n",
       "      <td>0</td>\n",
       "      <td>0</td>\n",
       "      <td>0</td>\n",
       "      <td>...</td>\n",
       "      <td>0</td>\n",
       "      <td>0</td>\n",
       "      <td>0</td>\n",
       "      <td>0</td>\n",
       "      <td>0</td>\n",
       "      <td>0.00106</td>\n",
       "      <td>122000333</td>\n",
       "      <td>23445</td>\n",
       "      <td>개포우성아파트</td>\n",
       "      <td>일반차로</td>\n",
       "    </tr>\n",
       "    <tr>\n",
       "      <th>1</th>\n",
       "      <td>0</td>\n",
       "      <td>658</td>\n",
       "      <td>1</td>\n",
       "      <td>37.476156</td>\n",
       "      <td>127.057212</td>\n",
       "      <td>12309</td>\n",
       "      <td>1</td>\n",
       "      <td>0</td>\n",
       "      <td>0</td>\n",
       "      <td>0</td>\n",
       "      <td>...</td>\n",
       "      <td>0</td>\n",
       "      <td>0</td>\n",
       "      <td>0</td>\n",
       "      <td>0</td>\n",
       "      <td>0</td>\n",
       "      <td>0.00106</td>\n",
       "      <td>122000333</td>\n",
       "      <td>23445</td>\n",
       "      <td>개포우성아파트</td>\n",
       "      <td>일반차로</td>\n",
       "    </tr>\n",
       "    <tr>\n",
       "      <th>2</th>\n",
       "      <td>0</td>\n",
       "      <td>658</td>\n",
       "      <td>1</td>\n",
       "      <td>37.476156</td>\n",
       "      <td>127.057212</td>\n",
       "      <td>12309</td>\n",
       "      <td>1</td>\n",
       "      <td>0</td>\n",
       "      <td>0</td>\n",
       "      <td>0</td>\n",
       "      <td>...</td>\n",
       "      <td>0</td>\n",
       "      <td>0</td>\n",
       "      <td>0</td>\n",
       "      <td>0</td>\n",
       "      <td>0</td>\n",
       "      <td>0.00106</td>\n",
       "      <td>122000333</td>\n",
       "      <td>23445</td>\n",
       "      <td>개포우성아파트</td>\n",
       "      <td>일반차로</td>\n",
       "    </tr>\n",
       "    <tr>\n",
       "      <th>3</th>\n",
       "      <td>0</td>\n",
       "      <td>658</td>\n",
       "      <td>1</td>\n",
       "      <td>37.476156</td>\n",
       "      <td>127.057212</td>\n",
       "      <td>12309</td>\n",
       "      <td>1</td>\n",
       "      <td>0</td>\n",
       "      <td>0</td>\n",
       "      <td>0</td>\n",
       "      <td>...</td>\n",
       "      <td>0</td>\n",
       "      <td>0</td>\n",
       "      <td>0</td>\n",
       "      <td>0</td>\n",
       "      <td>0</td>\n",
       "      <td>0.00106</td>\n",
       "      <td>122000333</td>\n",
       "      <td>23445</td>\n",
       "      <td>개포우성아파트</td>\n",
       "      <td>일반차로</td>\n",
       "    </tr>\n",
       "    <tr>\n",
       "      <th>4</th>\n",
       "      <td>0</td>\n",
       "      <td>658</td>\n",
       "      <td>1</td>\n",
       "      <td>37.476156</td>\n",
       "      <td>127.057212</td>\n",
       "      <td>12309</td>\n",
       "      <td>1</td>\n",
       "      <td>0</td>\n",
       "      <td>0</td>\n",
       "      <td>0</td>\n",
       "      <td>...</td>\n",
       "      <td>0</td>\n",
       "      <td>0</td>\n",
       "      <td>0</td>\n",
       "      <td>0</td>\n",
       "      <td>0</td>\n",
       "      <td>0.00106</td>\n",
       "      <td>122000333</td>\n",
       "      <td>23445</td>\n",
       "      <td>개포우성아파트</td>\n",
       "      <td>일반차로</td>\n",
       "    </tr>\n",
       "  </tbody>\n",
       "</table>\n",
       "<p>5 rows × 102 columns</p>\n",
       "</div>"
      ],
      "text/plain": [
       "   is_test   본번  부번        좌표Y         좌표X      동  강남구  강동구  강북구  강서구  ...  \\\n",
       "0        0  658   1  37.476156  127.057212  12309    1    0    0    0  ...   \n",
       "1        0  658   1  37.476156  127.057212  12309    1    0    0    0  ...   \n",
       "2        0  658   1  37.476156  127.057212  12309    1    0    0    0  ...   \n",
       "3        0  658   1  37.476156  127.057212  12309    1    0    0    0  ...   \n",
       "4        0  658   1  37.476156  127.057212  12309    1    0    0    0  ...   \n",
       "\n",
       "   신분당선  신분당선(연장2)  우이신설선  일산선  중앙선  bus_distance      노드 ID  정류소번호     정류소명  \\\n",
       "0     0          0      0    0    0       0.00106  122000333  23445  개포우성아파트   \n",
       "1     0          0      0    0    0       0.00106  122000333  23445  개포우성아파트   \n",
       "2     0          0      0    0    0       0.00106  122000333  23445  개포우성아파트   \n",
       "3     0          0      0    0    0       0.00106  122000333  23445  개포우성아파트   \n",
       "4     0          0      0    0    0       0.00106  122000333  23445  개포우성아파트   \n",
       "\n",
       "   정류소 타입  \n",
       "0    일반차로  \n",
       "1    일반차로  \n",
       "2    일반차로  \n",
       "3    일반차로  \n",
       "4    일반차로  \n",
       "\n",
       "[5 rows x 102 columns]"
      ]
     },
     "execution_count": 101,
     "metadata": {},
     "output_type": "execute_result"
    }
   ],
   "source": [
    "pre_df.head()"
   ]
  },
  {
   "cell_type": "code",
   "execution_count": 102,
   "metadata": {},
   "outputs": [
    {
     "name": "stdout",
     "output_type": "stream",
     "text": [
      "PearsonRResult(statistic=0.024304932993568538, pvalue=1.768199008883121e-145)\n",
      "PearsonRResult(statistic=0.01449250627451243, pvalue=6.231561051609271e-53)\n"
     ]
    },
    {
     "name": "stderr",
     "output_type": "stream",
     "text": [
      "/tmp/ipykernel_727293/485569240.py:8: SettingWithCopyWarning: \n",
      "A value is trying to be set on a copy of a slice from a DataFrame.\n",
      "Try using .loc[row_indexer,col_indexer] = value instead\n",
      "\n",
      "See the caveats in the documentation: https://pandas.pydata.org/pandas-docs/stable/user_guide/indexing.html#returning-a-view-versus-a-copy\n",
      "  tmp['y'] = y\n"
     ]
    }
   ],
   "source": [
    "value_counts = pre_df['정류소명'].value_counts()\n",
    "pre_df['빈도수_정류소명'] = pre_df['정류소명'].map(value_counts)\n",
    "\n",
    "le = LabelEncoder()\n",
    "pre_df['le_정류소명'] = le.fit_transform(pre_df['정류소명'])\n",
    "\n",
    "tmp = pre_df.query('is_test==0')\n",
    "tmp['y'] = y\n",
    "\n",
    "print(pearsonr(tmp['빈도수_정류소명'], tmp['y']))\n",
    "print(pearsonr(tmp['le_정류소명'], tmp['y']))"
   ]
  },
  {
   "cell_type": "code",
   "execution_count": 103,
   "metadata": {},
   "outputs": [],
   "source": [
    "pre_df.drop(columns=['정류소명', '빈도수_정류소명', 'le_정류소명'], axis=1, inplace=True)"
   ]
  },
  {
   "cell_type": "code",
   "execution_count": 106,
   "metadata": {},
   "outputs": [
    {
     "data": {
      "text/plain": [
       "일반차로     635190\n",
       "마을버스     398139\n",
       "가로변시간     34008\n",
       "중앙차로      27174\n",
       "가로변전일     26561\n",
       "가상정류장      4565\n",
       "Name: 정류소 타입, dtype: int64"
      ]
     },
     "execution_count": 106,
     "metadata": {},
     "output_type": "execute_result"
    }
   ],
   "source": [
    "pre_df['정류소 타입'].value_counts()"
   ]
  },
  {
   "cell_type": "code",
   "execution_count": 107,
   "metadata": {},
   "outputs": [],
   "source": [
    "pre_df = pd.concat([pre_df, pd.get_dummies(pre_df['정류소 타입'])], axis=1)"
   ]
  },
  {
   "cell_type": "code",
   "execution_count": 111,
   "metadata": {},
   "outputs": [],
   "source": [
    "pre_df.drop(columns=['호선', '정류소 타입'], axis=1, inplace=True)"
   ]
  },
  {
   "cell_type": "markdown",
   "metadata": {},
   "source": [
    "# 데이터 저장"
   ]
  },
  {
   "cell_type": "code",
   "execution_count": 113,
   "metadata": {},
   "outputs": [],
   "source": [
    "pre_df.to_csv(\"../data/final/pre_df.csv\", index=False)\n",
    "y.to_csv(\"../data/final/y.csv\", index=False)"
   ]
  },
  {
   "cell_type": "code",
   "execution_count": 114,
   "metadata": {},
   "outputs": [
    {
     "name": "stdout",
     "output_type": "stream",
     "text": [
      "(1116365, 104) (9272, 104) (1116365, 1)\n"
     ]
    },
    {
     "name": "stderr",
     "output_type": "stream",
     "text": [
      "/tmp/ipykernel_727293/2814595013.py:6: SettingWithCopyWarning: \n",
      "A value is trying to be set on a copy of a slice from a DataFrame\n",
      "\n",
      "See the caveats in the documentation: https://pandas.pydata.org/pandas-docs/stable/user_guide/indexing.html#returning-a-view-versus-a-copy\n",
      "  pre_train.drop(columns = ['is_test'], axis = 1, inplace=True)\n",
      "/tmp/ipykernel_727293/2814595013.py:7: SettingWithCopyWarning: \n",
      "A value is trying to be set on a copy of a slice from a DataFrame\n",
      "\n",
      "See the caveats in the documentation: https://pandas.pydata.org/pandas-docs/stable/user_guide/indexing.html#returning-a-view-versus-a-copy\n",
      "  pre_test.drop(columns = ['is_test'], axis = 1, inplace=True)\n"
     ]
    }
   ],
   "source": [
    "# 이제 다시 train과 test dataset을 분할해줍니다. 위에서 제작해 놓았던 is_test 칼럼을 이용합니다.\n",
    "pre_train = pre_df.query('is_test==0')\n",
    "pre_test = pre_df.query('is_test==1')\n",
    "\n",
    "# 이제 is_test 칼럼은 drop해줍니다.\n",
    "pre_train.drop(columns = ['is_test'], axis = 1, inplace=True)\n",
    "pre_test.drop(columns = ['is_test'], axis = 1, inplace=True)\n",
    "print(pre_train.shape, pre_test.shape, y.shape)"
   ]
  },
  {
   "cell_type": "code",
   "execution_count": 115,
   "metadata": {},
   "outputs": [],
   "source": [
    "pre_train.to_csv(\"../data/final/pre_train.csv\", index=False)\n",
    "pre_test.to_csv(\"../data/final/pre_test.csv\", index=False)"
   ]
  },
  {
   "cell_type": "markdown",
   "metadata": {},
   "source": [
    "# 모델 학습"
   ]
  },
  {
   "cell_type": "code",
   "execution_count": 49,
   "metadata": {},
   "outputs": [],
   "source": [
    "random_state = 42\n",
    "\n",
    "import numpy as np\n",
    "import pandas as pd\n",
    "from sklearn import metrics\n",
    "\n",
    "import xgboost as xgb\n",
    "import seaborn as sns\n",
    "import matplotlib.pyplot as plt\n",
    "import matplotlib.font_manager as fm\n",
    "fe = fm.FontEntry(\n",
    "    fname=r'/usr/share/fonts/truetype/nanum/NanumGothic.ttf', # ttf 파일이 저장되어 있는 경로\n",
    "    name='NanumBarunGothic')                        # 이 폰트의 원하는 이름 설정\n",
    "fm.fontManager.ttflist.insert(0, fe)              # Matplotlib에 폰트 추가\n",
    "plt.rcParams.update({'font.size': 10, 'font.family': 'NanumBarunGothic'}) # 폰트 설정\n",
    "plt.rc('font', family='NanumBarunGothic')\n",
    "\n",
    "from sklearn.preprocessing import StandardScaler\n",
    "from sklearn.ensemble import RandomForestRegressor\n",
    "from sklearn.model_selection import train_test_split"
   ]
  },
  {
   "cell_type": "code",
   "execution_count": 40,
   "metadata": {},
   "outputs": [],
   "source": [
    "train = pd.read_csv(\"../data/final/pre_train.csv\")\n",
    "test = pd.read_csv(\"../data/final/pre_test.csv\")\n",
    "y = pd.read_csv(\"../data/final/y.csv\")"
   ]
  },
  {
   "cell_type": "code",
   "execution_count": 41,
   "metadata": {},
   "outputs": [],
   "source": [
    "scaler = StandardScaler()\n",
    "\n",
    "train[train.columns] = scaler.fit_transform(train)\n",
    "test[test.columns] = scaler.transform(test)"
   ]
  },
  {
   "cell_type": "code",
   "execution_count": 42,
   "metadata": {},
   "outputs": [],
   "source": [
    "y = y.values.ravel()\n",
    "y = np.log1p(y)"
   ]
  },
  {
   "cell_type": "code",
   "execution_count": 43,
   "metadata": {},
   "outputs": [],
   "source": [
    "x_train, x_test, y_train, y_test = train_test_split(train, y, test_size=0.2, random_state=random_state)"
   ]
  },
  {
   "cell_type": "code",
   "execution_count": 44,
   "metadata": {},
   "outputs": [
    {
     "name": "stdout",
     "output_type": "stream",
     "text": [
      "(893092, 67) (893092,) (223273, 67) (223273,)\n"
     ]
    }
   ],
   "source": [
    "print(x_train.shape, y_train.shape, x_test.shape, y_test.shape)"
   ]
  },
  {
   "cell_type": "code",
   "execution_count": 45,
   "metadata": {},
   "outputs": [
    {
     "data": {
      "text/html": [
       "<style>#sk-container-id-2 {color: black;background-color: white;}#sk-container-id-2 pre{padding: 0;}#sk-container-id-2 div.sk-toggleable {background-color: white;}#sk-container-id-2 label.sk-toggleable__label {cursor: pointer;display: block;width: 100%;margin-bottom: 0;padding: 0.3em;box-sizing: border-box;text-align: center;}#sk-container-id-2 label.sk-toggleable__label-arrow:before {content: \"▸\";float: left;margin-right: 0.25em;color: #696969;}#sk-container-id-2 label.sk-toggleable__label-arrow:hover:before {color: black;}#sk-container-id-2 div.sk-estimator:hover label.sk-toggleable__label-arrow:before {color: black;}#sk-container-id-2 div.sk-toggleable__content {max-height: 0;max-width: 0;overflow: hidden;text-align: left;background-color: #f0f8ff;}#sk-container-id-2 div.sk-toggleable__content pre {margin: 0.2em;color: black;border-radius: 0.25em;background-color: #f0f8ff;}#sk-container-id-2 input.sk-toggleable__control:checked~div.sk-toggleable__content {max-height: 200px;max-width: 100%;overflow: auto;}#sk-container-id-2 input.sk-toggleable__control:checked~label.sk-toggleable__label-arrow:before {content: \"▾\";}#sk-container-id-2 div.sk-estimator input.sk-toggleable__control:checked~label.sk-toggleable__label {background-color: #d4ebff;}#sk-container-id-2 div.sk-label input.sk-toggleable__control:checked~label.sk-toggleable__label {background-color: #d4ebff;}#sk-container-id-2 input.sk-hidden--visually {border: 0;clip: rect(1px 1px 1px 1px);clip: rect(1px, 1px, 1px, 1px);height: 1px;margin: -1px;overflow: hidden;padding: 0;position: absolute;width: 1px;}#sk-container-id-2 div.sk-estimator {font-family: monospace;background-color: #f0f8ff;border: 1px dotted black;border-radius: 0.25em;box-sizing: border-box;margin-bottom: 0.5em;}#sk-container-id-2 div.sk-estimator:hover {background-color: #d4ebff;}#sk-container-id-2 div.sk-parallel-item::after {content: \"\";width: 100%;border-bottom: 1px solid gray;flex-grow: 1;}#sk-container-id-2 div.sk-label:hover label.sk-toggleable__label {background-color: #d4ebff;}#sk-container-id-2 div.sk-serial::before {content: \"\";position: absolute;border-left: 1px solid gray;box-sizing: border-box;top: 0;bottom: 0;left: 50%;z-index: 0;}#sk-container-id-2 div.sk-serial {display: flex;flex-direction: column;align-items: center;background-color: white;padding-right: 0.2em;padding-left: 0.2em;position: relative;}#sk-container-id-2 div.sk-item {position: relative;z-index: 1;}#sk-container-id-2 div.sk-parallel {display: flex;align-items: stretch;justify-content: center;background-color: white;position: relative;}#sk-container-id-2 div.sk-item::before, #sk-container-id-2 div.sk-parallel-item::before {content: \"\";position: absolute;border-left: 1px solid gray;box-sizing: border-box;top: 0;bottom: 0;left: 50%;z-index: -1;}#sk-container-id-2 div.sk-parallel-item {display: flex;flex-direction: column;z-index: 1;position: relative;background-color: white;}#sk-container-id-2 div.sk-parallel-item:first-child::after {align-self: flex-end;width: 50%;}#sk-container-id-2 div.sk-parallel-item:last-child::after {align-self: flex-start;width: 50%;}#sk-container-id-2 div.sk-parallel-item:only-child::after {width: 0;}#sk-container-id-2 div.sk-dashed-wrapped {border: 1px dashed gray;margin: 0 0.4em 0.5em 0.4em;box-sizing: border-box;padding-bottom: 0.4em;background-color: white;}#sk-container-id-2 div.sk-label label {font-family: monospace;font-weight: bold;display: inline-block;line-height: 1.2em;}#sk-container-id-2 div.sk-label-container {text-align: center;}#sk-container-id-2 div.sk-container {/* jupyter's `normalize.less` sets `[hidden] { display: none; }` but bootstrap.min.css set `[hidden] { display: none !important; }` so we also need the `!important` here to be able to override the default hidden behavior on the sphinx rendered scikit-learn.org. See: https://github.com/scikit-learn/scikit-learn/issues/21755 */display: inline-block !important;position: relative;}#sk-container-id-2 div.sk-text-repr-fallback {display: none;}</style><div id=\"sk-container-id-2\" class=\"sk-top-container\"><div class=\"sk-text-repr-fallback\"><pre>RandomForestRegressor(n_estimators=10, n_jobs=-1, random_state=42)</pre><b>In a Jupyter environment, please rerun this cell to show the HTML representation or trust the notebook. <br />On GitHub, the HTML representation is unable to render, please try loading this page with nbviewer.org.</b></div><div class=\"sk-container\" hidden><div class=\"sk-item\"><div class=\"sk-estimator sk-toggleable\"><input class=\"sk-toggleable__control sk-hidden--visually\" id=\"sk-estimator-id-2\" type=\"checkbox\" checked><label for=\"sk-estimator-id-2\" class=\"sk-toggleable__label sk-toggleable__label-arrow\">RandomForestRegressor</label><div class=\"sk-toggleable__content\"><pre>RandomForestRegressor(n_estimators=10, n_jobs=-1, random_state=42)</pre></div></div></div></div></div>"
      ],
      "text/plain": [
       "RandomForestRegressor(n_estimators=10, n_jobs=-1, random_state=42)"
      ]
     },
     "execution_count": 45,
     "metadata": {},
     "output_type": "execute_result"
    }
   ],
   "source": [
    "# RandomForestRegressor를 이용해 회귀 모델을 적합시키겠습니다.\n",
    "model = RandomForestRegressor(n_estimators=10, criterion='squared_error', random_state=random_state, n_jobs=-1)\n",
    "model.fit(x_train, y_train)"
   ]
  },
  {
   "cell_type": "code",
   "execution_count": 46,
   "metadata": {},
   "outputs": [
    {
     "name": "stdout",
     "output_type": "stream",
     "text": [
      "RMSE train: 0.037073892543767396\n",
      "RMSE test: 0.08717541325890714\n"
     ]
    }
   ],
   "source": [
    "pred_train = model.predict(x_train)\n",
    "pred_test = model.predict(x_test)\n",
    "\n",
    "# 회귀 관련 metric을 통해 train/valid의 모델 적합 결과를 관찰합니다.\n",
    "print(f'RMSE train: {np.sqrt(metrics.mean_squared_error(y_train, pred_train))}')\n",
    "print(f'RMSE test: {np.sqrt(metrics.mean_squared_error(y_test, pred_test))}')"
   ]
  },
  {
   "cell_type": "code",
   "execution_count": 47,
   "metadata": {},
   "outputs": [
    {
     "data": {
      "image/png": "[encoded data removed]",
      "text/plain": [
       "<Figure size 1000x2000 with 1 Axes>"
      ]
     },
     "metadata": {},
     "output_type": "display_data"
    }
   ],
   "source": [
    "# 위 feature importance를 시각화해봅니다.\n",
    "importances = pd.Series(model.feature_importances_, index=list(x_train.columns))\n",
    "importances = importances.sort_values(ascending=False)\n",
    "\n",
    "plt.figure(figsize=(10,20))\n",
    "plt.title(\"Feature Importances\")\n",
    "sns.barplot(x=importances, y=importances.index)\n",
    "plt.show()"
   ]
  },
  {
   "cell_type": "code",
   "execution_count": 48,
   "metadata": {},
   "outputs": [],
   "source": [
    "from sklearn.metrics import r2_score\n",
    "\n",
    "# R² 사용자 정의 평가 함수\n",
    "def r2_eval(preds, dtrain):\n",
    "    labels = dtrain.get_label()  # 실제 값\n",
    "    r2 = r2_score(labels, preds)  # R² 계산\n",
    "    return 'r2', r2"
   ]
  },
  {
   "cell_type": "code",
   "execution_count": 50,
   "metadata": {},
   "outputs": [
    {
     "name": "stderr",
     "output_type": "stream",
     "text": [
      "/opt/conda/lib/python3.10/site-packages/xgboost/training.py:38: UserWarning: `feval` is deprecated, use `custom_metric` instead.  They have different behavior when custom objective is also used.See https://xgboost.readthedocs.io/en/latest/tutorials/custom_metric_obj.html for details on the `custom_metric`.\n",
      "  warnings.warn(\n"
     ]
    },
    {
     "name": "stdout",
     "output_type": "stream",
     "text": [
      "[0]\ttrain-rmse:0.61804\ttrain-r2:0.05325\teval-rmse:0.61929\teval-r2:0.05313\n",
      "[1]\ttrain-rmse:0.59635\ttrain-r2:0.11853\teval-rmse:0.59754\teval-r2:0.11847\n",
      "[2]\ttrain-rmse:0.57480\ttrain-r2:0.18107\teval-rmse:0.57593\teval-r2:0.18107\n",
      "[3]\ttrain-rmse:0.55433\ttrain-r2:0.23838\teval-rmse:0.55542\teval-r2:0.23837\n",
      "[4]\ttrain-rmse:0.53569\ttrain-r2:0.28873\teval-rmse:0.53673\teval-r2:0.28876\n",
      "[5]\ttrain-rmse:0.51736\ttrain-r2:0.33658\teval-rmse:0.51834\teval-r2:0.33666\n",
      "[6]\ttrain-rmse:0.50010\ttrain-r2:0.38011\teval-rmse:0.50102\teval-r2:0.38024\n",
      "[7]\ttrain-rmse:0.48787\ttrain-r2:0.41004\teval-rmse:0.48881\teval-r2:0.41009\n",
      "[8]\ttrain-rmse:0.47427\ttrain-r2:0.44247\teval-rmse:0.47510\teval-r2:0.44272\n",
      "[9]\ttrain-rmse:0.46260\ttrain-r2:0.46957\teval-rmse:0.46344\teval-r2:0.46972\n",
      "[10]\ttrain-rmse:0.44862\ttrain-r2:0.50115\teval-rmse:0.44943\teval-r2:0.50131\n",
      "[11]\ttrain-rmse:0.43680\ttrain-r2:0.52711\teval-rmse:0.43752\teval-r2:0.52738\n",
      "[12]\ttrain-rmse:0.42348\ttrain-r2:0.55550\teval-rmse:0.42415\teval-r2:0.55583\n",
      "[13]\ttrain-rmse:0.41125\ttrain-r2:0.58081\teval-rmse:0.41186\teval-r2:0.58120\n",
      "[14]\ttrain-rmse:0.39994\ttrain-r2:0.60354\teval-rmse:0.40050\teval-r2:0.60398\n",
      "[15]\ttrain-rmse:0.39046\ttrain-r2:0.62211\teval-rmse:0.39096\teval-r2:0.62262\n",
      "[16]\ttrain-rmse:0.38211\ttrain-r2:0.63809\teval-rmse:0.38263\teval-r2:0.63854\n",
      "[17]\ttrain-rmse:0.37213\ttrain-r2:0.65677\teval-rmse:0.37259\teval-r2:0.65725\n",
      "[18]\ttrain-rmse:0.36296\ttrain-r2:0.67346\teval-rmse:0.36339\teval-r2:0.67398\n",
      "[19]\ttrain-rmse:0.35527\ttrain-r2:0.68715\teval-rmse:0.35569\teval-r2:0.68764\n",
      "[20]\ttrain-rmse:0.34689\ttrain-r2:0.70175\teval-rmse:0.34726\teval-r2:0.70228\n",
      "[21]\ttrain-rmse:0.33982\ttrain-r2:0.71378\teval-rmse:0.34016\teval-r2:0.71432\n",
      "[22]\ttrain-rmse:0.33353\ttrain-r2:0.72428\teval-rmse:0.33385\teval-r2:0.72483\n",
      "[23]\ttrain-rmse:0.32593\ttrain-r2:0.73670\teval-rmse:0.32621\teval-r2:0.73727\n",
      "[24]\ttrain-rmse:0.31907\ttrain-r2:0.74767\teval-rmse:0.31933\teval-r2:0.74824\n",
      "[25]\ttrain-rmse:0.31330\ttrain-r2:0.75671\teval-rmse:0.31354\teval-r2:0.75729\n",
      "[26]\ttrain-rmse:0.30670\ttrain-r2:0.76685\teval-rmse:0.30694\teval-r2:0.76739\n",
      "[27]\ttrain-rmse:0.30056\ttrain-r2:0.77609\teval-rmse:0.30079\teval-r2:0.77663\n",
      "[28]\ttrain-rmse:0.29506\ttrain-r2:0.78421\teval-rmse:0.29527\teval-r2:0.78474\n",
      "[29]\ttrain-rmse:0.28969\ttrain-r2:0.79200\teval-rmse:0.28992\teval-r2:0.79247\n",
      "[30]\ttrain-rmse:0.28481\ttrain-r2:0.79895\teval-rmse:0.28499\teval-r2:0.79947\n",
      "[31]\ttrain-rmse:0.27956\ttrain-r2:0.80628\teval-rmse:0.27972\teval-r2:0.80683\n",
      "[32]\ttrain-rmse:0.27482\ttrain-r2:0.81281\teval-rmse:0.27496\teval-r2:0.81334\n",
      "[33]\ttrain-rmse:0.27014\ttrain-r2:0.81912\teval-rmse:0.27027\teval-r2:0.81965\n",
      "[34]\ttrain-rmse:0.26566\ttrain-r2:0.82508\teval-rmse:0.26576\teval-r2:0.82562\n",
      "[35]\ttrain-rmse:0.26133\ttrain-r2:0.83072\teval-rmse:0.26141\teval-r2:0.83128\n",
      "[36]\ttrain-rmse:0.25760\ttrain-r2:0.83553\teval-rmse:0.25767\teval-r2:0.83608\n",
      "[37]\ttrain-rmse:0.25377\ttrain-r2:0.84038\teval-rmse:0.25384\teval-r2:0.84092\n",
      "[38]\ttrain-rmse:0.25063\ttrain-r2:0.84430\teval-rmse:0.25072\teval-r2:0.84481\n",
      "[39]\ttrain-rmse:0.24737\ttrain-r2:0.84832\teval-rmse:0.24746\teval-r2:0.84882\n",
      "[40]\ttrain-rmse:0.24405\ttrain-r2:0.85238\teval-rmse:0.24409\teval-r2:0.85290\n",
      "[41]\ttrain-rmse:0.24090\ttrain-r2:0.85616\teval-rmse:0.24094\teval-r2:0.85667\n",
      "[42]\ttrain-rmse:0.23787\ttrain-r2:0.85975\teval-rmse:0.23790\teval-r2:0.86026\n",
      "[43]\ttrain-rmse:0.23496\ttrain-r2:0.86316\teval-rmse:0.23499\teval-r2:0.86367\n",
      "[44]\ttrain-rmse:0.23219\ttrain-r2:0.86637\teval-rmse:0.23221\teval-r2:0.86688\n",
      "[45]\ttrain-rmse:0.22894\ttrain-r2:0.87009\teval-rmse:0.22895\teval-r2:0.87059\n",
      "[46]\ttrain-rmse:0.22641\ttrain-r2:0.87294\teval-rmse:0.22642\teval-r2:0.87342\n",
      "[47]\ttrain-rmse:0.22386\ttrain-r2:0.87579\teval-rmse:0.22386\teval-r2:0.87628\n",
      "[48]\ttrain-rmse:0.22150\ttrain-r2:0.87840\teval-rmse:0.22149\teval-r2:0.87888\n",
      "[49]\ttrain-rmse:0.21889\ttrain-r2:0.88124\teval-rmse:0.21889\teval-r2:0.88171\n",
      "[50]\ttrain-rmse:0.21675\ttrain-r2:0.88356\teval-rmse:0.21675\teval-r2:0.88400\n",
      "[51]\ttrain-rmse:0.21485\ttrain-r2:0.88559\teval-rmse:0.21485\teval-r2:0.88604\n",
      "[52]\ttrain-rmse:0.21288\ttrain-r2:0.88767\teval-rmse:0.21287\teval-r2:0.88812\n",
      "[53]\ttrain-rmse:0.21097\ttrain-r2:0.88968\teval-rmse:0.21095\teval-r2:0.89013\n",
      "[54]\ttrain-rmse:0.20915\ttrain-r2:0.89158\teval-rmse:0.20912\teval-r2:0.89203\n",
      "[55]\ttrain-rmse:0.20754\ttrain-r2:0.89324\teval-rmse:0.20752\teval-r2:0.89368\n",
      "[56]\ttrain-rmse:0.20600\ttrain-r2:0.89482\teval-rmse:0.20596\teval-r2:0.89527\n",
      "[57]\ttrain-rmse:0.20452\ttrain-r2:0.89632\teval-rmse:0.20449\teval-r2:0.89676\n",
      "[58]\ttrain-rmse:0.20293\ttrain-r2:0.89793\teval-rmse:0.20291\teval-r2:0.89835\n",
      "[59]\ttrain-rmse:0.20120\ttrain-r2:0.89966\teval-rmse:0.20118\teval-r2:0.90008\n",
      "[60]\ttrain-rmse:0.19982\ttrain-r2:0.90104\teval-rmse:0.19980\teval-r2:0.90144\n",
      "[61]\ttrain-rmse:0.19847\ttrain-r2:0.90237\teval-rmse:0.19846\teval-r2:0.90275\n",
      "[62]\ttrain-rmse:0.19708\ttrain-r2:0.90373\teval-rmse:0.19707\teval-r2:0.90412\n",
      "[63]\ttrain-rmse:0.19548\ttrain-r2:0.90529\teval-rmse:0.19548\teval-r2:0.90565\n",
      "[64]\ttrain-rmse:0.19386\ttrain-r2:0.90685\teval-rmse:0.19388\teval-r2:0.90720\n",
      "[65]\ttrain-rmse:0.19258\ttrain-r2:0.90807\teval-rmse:0.19258\teval-r2:0.90843\n",
      "[66]\ttrain-rmse:0.19139\ttrain-r2:0.90921\teval-rmse:0.19139\teval-r2:0.90957\n",
      "[67]\ttrain-rmse:0.19031\ttrain-r2:0.91023\teval-rmse:0.19031\teval-r2:0.91058\n",
      "[68]\ttrain-rmse:0.18919\ttrain-r2:0.91128\teval-rmse:0.18920\teval-r2:0.91162\n",
      "[69]\ttrain-rmse:0.18810\ttrain-r2:0.91231\teval-rmse:0.18812\teval-r2:0.91263\n",
      "[70]\ttrain-rmse:0.18681\ttrain-r2:0.91350\teval-rmse:0.18683\teval-r2:0.91382\n",
      "[71]\ttrain-rmse:0.18572\ttrain-r2:0.91451\teval-rmse:0.18573\teval-r2:0.91484\n",
      "[72]\ttrain-rmse:0.18441\ttrain-r2:0.91571\teval-rmse:0.18441\teval-r2:0.91604\n",
      "[73]\ttrain-rmse:0.18318\ttrain-r2:0.91683\teval-rmse:0.18319\teval-r2:0.91715\n",
      "[74]\ttrain-rmse:0.18217\ttrain-r2:0.91775\teval-rmse:0.18219\teval-r2:0.91804\n",
      "[75]\ttrain-rmse:0.18128\ttrain-r2:0.91855\teval-rmse:0.18131\teval-r2:0.91883\n",
      "[76]\ttrain-rmse:0.18025\ttrain-r2:0.91947\teval-rmse:0.18030\teval-r2:0.91974\n",
      "[77]\ttrain-rmse:0.17935\ttrain-r2:0.92027\teval-rmse:0.17941\teval-r2:0.92053\n",
      "[78]\ttrain-rmse:0.17844\ttrain-r2:0.92108\teval-rmse:0.17848\teval-r2:0.92135\n",
      "[79]\ttrain-rmse:0.17755\ttrain-r2:0.92186\teval-rmse:0.17761\teval-r2:0.92212\n",
      "[80]\ttrain-rmse:0.17667\ttrain-r2:0.92264\teval-rmse:0.17673\teval-r2:0.92289\n",
      "[81]\ttrain-rmse:0.17539\ttrain-r2:0.92376\teval-rmse:0.17545\teval-r2:0.92400\n",
      "[82]\ttrain-rmse:0.17469\ttrain-r2:0.92436\teval-rmse:0.17475\teval-r2:0.92460\n",
      "[83]\ttrain-rmse:0.17383\ttrain-r2:0.92510\teval-rmse:0.17390\teval-r2:0.92533\n",
      "[84]\ttrain-rmse:0.17313\ttrain-r2:0.92571\teval-rmse:0.17321\teval-r2:0.92593\n",
      "[85]\ttrain-rmse:0.17253\ttrain-r2:0.92622\teval-rmse:0.17260\teval-r2:0.92645\n",
      "[86]\ttrain-rmse:0.17175\ttrain-r2:0.92689\teval-rmse:0.17183\teval-r2:0.92710\n",
      "[87]\ttrain-rmse:0.17120\ttrain-r2:0.92736\teval-rmse:0.17129\teval-r2:0.92756\n",
      "[88]\ttrain-rmse:0.17040\ttrain-r2:0.92803\teval-rmse:0.17050\teval-r2:0.92823\n",
      "[89]\ttrain-rmse:0.16985\ttrain-r2:0.92849\teval-rmse:0.16996\teval-r2:0.92868\n",
      "[90]\ttrain-rmse:0.16928\ttrain-r2:0.92897\teval-rmse:0.16940\teval-r2:0.92915\n",
      "[91]\ttrain-rmse:0.16874\ttrain-r2:0.92943\teval-rmse:0.16887\teval-r2:0.92960\n",
      "[92]\ttrain-rmse:0.16808\ttrain-r2:0.92997\teval-rmse:0.16821\teval-r2:0.93014\n",
      "[93]\ttrain-rmse:0.16753\ttrain-r2:0.93043\teval-rmse:0.16767\teval-r2:0.93059\n",
      "[94]\ttrain-rmse:0.16693\ttrain-r2:0.93093\teval-rmse:0.16707\teval-r2:0.93109\n",
      "[95]\ttrain-rmse:0.16642\ttrain-r2:0.93135\teval-rmse:0.16656\teval-r2:0.93151\n",
      "[96]\ttrain-rmse:0.16603\ttrain-r2:0.93167\teval-rmse:0.16618\teval-r2:0.93182\n",
      "[97]\ttrain-rmse:0.16546\ttrain-r2:0.93214\teval-rmse:0.16561\teval-r2:0.93228\n",
      "[98]\ttrain-rmse:0.16504\ttrain-r2:0.93249\teval-rmse:0.16519\teval-r2:0.93263\n",
      "[99]\ttrain-rmse:0.16465\ttrain-r2:0.93280\teval-rmse:0.16481\teval-r2:0.93294\n",
      "[100]\ttrain-rmse:0.16405\ttrain-r2:0.93330\teval-rmse:0.16420\teval-r2:0.93344\n",
      "[101]\ttrain-rmse:0.16354\ttrain-r2:0.93371\teval-rmse:0.16369\teval-r2:0.93385\n",
      "[102]\ttrain-rmse:0.16277\ttrain-r2:0.93433\teval-rmse:0.16291\teval-r2:0.93447\n",
      "[103]\ttrain-rmse:0.16225\ttrain-r2:0.93475\teval-rmse:0.16240\teval-r2:0.93489\n",
      "[104]\ttrain-rmse:0.16184\ttrain-r2:0.93508\teval-rmse:0.16199\teval-r2:0.93521\n",
      "[105]\ttrain-rmse:0.16136\ttrain-r2:0.93546\teval-rmse:0.16152\teval-r2:0.93559\n",
      "[106]\ttrain-rmse:0.16101\ttrain-r2:0.93575\teval-rmse:0.16118\teval-r2:0.93586\n",
      "[107]\ttrain-rmse:0.16065\ttrain-r2:0.93603\teval-rmse:0.16083\teval-r2:0.93614\n",
      "[108]\ttrain-rmse:0.16016\ttrain-r2:0.93642\teval-rmse:0.16034\teval-r2:0.93652\n",
      "[109]\ttrain-rmse:0.15983\ttrain-r2:0.93668\teval-rmse:0.16001\teval-r2:0.93679\n",
      "[110]\ttrain-rmse:0.15931\ttrain-r2:0.93709\teval-rmse:0.15949\teval-r2:0.93720\n",
      "[111]\ttrain-rmse:0.15899\ttrain-r2:0.93735\teval-rmse:0.15918\teval-r2:0.93744\n",
      "[112]\ttrain-rmse:0.15863\ttrain-r2:0.93763\teval-rmse:0.15881\teval-r2:0.93773\n",
      "[113]\ttrain-rmse:0.15829\ttrain-r2:0.93790\teval-rmse:0.15848\teval-r2:0.93799\n",
      "[114]\ttrain-rmse:0.15782\ttrain-r2:0.93827\teval-rmse:0.15801\teval-r2:0.93836\n",
      "[115]\ttrain-rmse:0.15733\ttrain-r2:0.93865\teval-rmse:0.15752\teval-r2:0.93874\n",
      "[116]\ttrain-rmse:0.15704\ttrain-r2:0.93888\teval-rmse:0.15723\teval-r2:0.93897\n",
      "[117]\ttrain-rmse:0.15672\ttrain-r2:0.93912\teval-rmse:0.15692\teval-r2:0.93921\n",
      "[118]\ttrain-rmse:0.15639\ttrain-r2:0.93938\teval-rmse:0.15659\teval-r2:0.93946\n",
      "[119]\ttrain-rmse:0.15611\ttrain-r2:0.93959\teval-rmse:0.15633\teval-r2:0.93966\n",
      "[120]\ttrain-rmse:0.15584\ttrain-r2:0.93980\teval-rmse:0.15606\teval-r2:0.93987\n",
      "[121]\ttrain-rmse:0.15537\ttrain-r2:0.94016\teval-rmse:0.15560\teval-r2:0.94023\n",
      "[122]\ttrain-rmse:0.15508\ttrain-r2:0.94039\teval-rmse:0.15531\teval-r2:0.94045\n",
      "[123]\ttrain-rmse:0.15473\ttrain-r2:0.94066\teval-rmse:0.15496\teval-r2:0.94071\n",
      "[124]\ttrain-rmse:0.15447\ttrain-r2:0.94086\teval-rmse:0.15469\teval-r2:0.94092\n",
      "[125]\ttrain-rmse:0.15422\ttrain-r2:0.94105\teval-rmse:0.15445\teval-r2:0.94110\n",
      "[126]\ttrain-rmse:0.15379\ttrain-r2:0.94137\teval-rmse:0.15402\teval-r2:0.94143\n",
      "[127]\ttrain-rmse:0.15351\ttrain-r2:0.94159\teval-rmse:0.15374\teval-r2:0.94165\n",
      "[128]\ttrain-rmse:0.15310\ttrain-r2:0.94190\teval-rmse:0.15332\teval-r2:0.94196\n",
      "[129]\ttrain-rmse:0.15286\ttrain-r2:0.94208\teval-rmse:0.15308\teval-r2:0.94214\n",
      "[130]\ttrain-rmse:0.15262\ttrain-r2:0.94227\teval-rmse:0.15285\teval-r2:0.94232\n",
      "[131]\ttrain-rmse:0.15229\ttrain-r2:0.94251\teval-rmse:0.15252\teval-r2:0.94256\n",
      "[132]\ttrain-rmse:0.15208\ttrain-r2:0.94268\teval-rmse:0.15231\teval-r2:0.94272\n",
      "[133]\ttrain-rmse:0.15189\ttrain-r2:0.94281\teval-rmse:0.15212\teval-r2:0.94287\n",
      "[134]\ttrain-rmse:0.15167\ttrain-r2:0.94298\teval-rmse:0.15190\teval-r2:0.94303\n",
      "[135]\ttrain-rmse:0.15135\ttrain-r2:0.94322\teval-rmse:0.15158\teval-r2:0.94327\n",
      "[136]\ttrain-rmse:0.15107\ttrain-r2:0.94343\teval-rmse:0.15132\teval-r2:0.94347\n",
      "[137]\ttrain-rmse:0.15077\ttrain-r2:0.94366\teval-rmse:0.15102\teval-r2:0.94369\n",
      "[138]\ttrain-rmse:0.15058\ttrain-r2:0.94380\teval-rmse:0.15083\teval-r2:0.94383\n",
      "[139]\ttrain-rmse:0.15029\ttrain-r2:0.94401\teval-rmse:0.15054\teval-r2:0.94405\n",
      "[140]\ttrain-rmse:0.15005\ttrain-r2:0.94420\teval-rmse:0.15029\teval-r2:0.94423\n",
      "[141]\ttrain-rmse:0.14979\ttrain-r2:0.94439\teval-rmse:0.15004\teval-r2:0.94442\n",
      "[142]\ttrain-rmse:0.14950\ttrain-r2:0.94460\teval-rmse:0.14976\teval-r2:0.94463\n",
      "[143]\ttrain-rmse:0.14925\ttrain-r2:0.94479\teval-rmse:0.14950\teval-r2:0.94482\n",
      "[144]\ttrain-rmse:0.14904\ttrain-r2:0.94494\teval-rmse:0.14929\teval-r2:0.94497\n",
      "[145]\ttrain-rmse:0.14880\ttrain-r2:0.94512\teval-rmse:0.14904\teval-r2:0.94516\n",
      "[146]\ttrain-rmse:0.14846\ttrain-r2:0.94537\teval-rmse:0.14872\teval-r2:0.94539\n",
      "[147]\ttrain-rmse:0.14831\ttrain-r2:0.94548\teval-rmse:0.14856\teval-r2:0.94551\n",
      "[148]\ttrain-rmse:0.14815\ttrain-r2:0.94560\teval-rmse:0.14840\teval-r2:0.94563\n",
      "[149]\ttrain-rmse:0.14791\ttrain-r2:0.94577\teval-rmse:0.14817\teval-r2:0.94580\n",
      "[150]\ttrain-rmse:0.14768\ttrain-r2:0.94594\teval-rmse:0.14794\teval-r2:0.94596\n",
      "[151]\ttrain-rmse:0.14747\ttrain-r2:0.94610\teval-rmse:0.14773\teval-r2:0.94612\n",
      "[152]\ttrain-rmse:0.14719\ttrain-r2:0.94630\teval-rmse:0.14745\teval-r2:0.94632\n",
      "[153]\ttrain-rmse:0.14698\ttrain-r2:0.94646\teval-rmse:0.14724\teval-r2:0.94647\n",
      "[154]\ttrain-rmse:0.14675\ttrain-r2:0.94662\teval-rmse:0.14699\teval-r2:0.94665\n",
      "[155]\ttrain-rmse:0.14647\ttrain-r2:0.94683\teval-rmse:0.14671\teval-r2:0.94686\n",
      "[156]\ttrain-rmse:0.14619\ttrain-r2:0.94703\teval-rmse:0.14645\teval-r2:0.94705\n",
      "[157]\ttrain-rmse:0.14601\ttrain-r2:0.94716\teval-rmse:0.14626\teval-r2:0.94718\n",
      "[158]\ttrain-rmse:0.14582\ttrain-r2:0.94730\teval-rmse:0.14607\teval-r2:0.94732\n",
      "[159]\ttrain-rmse:0.14561\ttrain-r2:0.94745\teval-rmse:0.14587\teval-r2:0.94746\n",
      "[160]\ttrain-rmse:0.14543\ttrain-r2:0.94758\teval-rmse:0.14569\teval-r2:0.94759\n",
      "[161]\ttrain-rmse:0.14522\ttrain-r2:0.94773\teval-rmse:0.14548\teval-r2:0.94775\n",
      "[162]\ttrain-rmse:0.14506\ttrain-r2:0.94784\teval-rmse:0.14533\teval-r2:0.94786\n",
      "[163]\ttrain-rmse:0.14490\ttrain-r2:0.94796\teval-rmse:0.14516\teval-r2:0.94798\n",
      "[164]\ttrain-rmse:0.14449\ttrain-r2:0.94825\teval-rmse:0.14477\teval-r2:0.94826\n",
      "[165]\ttrain-rmse:0.14432\ttrain-r2:0.94838\teval-rmse:0.14459\teval-r2:0.94838\n",
      "[166]\ttrain-rmse:0.14412\ttrain-r2:0.94852\teval-rmse:0.14439\teval-r2:0.94853\n",
      "[167]\ttrain-rmse:0.14400\ttrain-r2:0.94861\teval-rmse:0.14427\teval-r2:0.94861\n",
      "[168]\ttrain-rmse:0.14389\ttrain-r2:0.94868\teval-rmse:0.14417\teval-r2:0.94869\n",
      "[169]\ttrain-rmse:0.14368\ttrain-r2:0.94883\teval-rmse:0.14396\teval-r2:0.94883\n",
      "[170]\ttrain-rmse:0.14329\ttrain-r2:0.94911\teval-rmse:0.14358\teval-r2:0.94910\n",
      "[171]\ttrain-rmse:0.14317\ttrain-r2:0.94919\teval-rmse:0.14346\teval-r2:0.94919\n",
      "[172]\ttrain-rmse:0.14294\ttrain-r2:0.94935\teval-rmse:0.14323\teval-r2:0.94935\n",
      "[173]\ttrain-rmse:0.14281\ttrain-r2:0.94945\teval-rmse:0.14310\teval-r2:0.94944\n",
      "[174]\ttrain-rmse:0.14268\ttrain-r2:0.94954\teval-rmse:0.14297\teval-r2:0.94954\n",
      "[175]\ttrain-rmse:0.14245\ttrain-r2:0.94971\teval-rmse:0.14274\teval-r2:0.94970\n",
      "[176]\ttrain-rmse:0.14229\ttrain-r2:0.94982\teval-rmse:0.14258\teval-r2:0.94981\n",
      "[177]\ttrain-rmse:0.14210\ttrain-r2:0.94995\teval-rmse:0.14239\teval-r2:0.94995\n",
      "[178]\ttrain-rmse:0.14191\ttrain-r2:0.95008\teval-rmse:0.14221\teval-r2:0.95007\n",
      "[179]\ttrain-rmse:0.14164\ttrain-r2:0.95027\teval-rmse:0.14190\teval-r2:0.95029\n",
      "[180]\ttrain-rmse:0.14152\ttrain-r2:0.95036\teval-rmse:0.14177\teval-r2:0.95037\n",
      "[181]\ttrain-rmse:0.14132\ttrain-r2:0.95050\teval-rmse:0.14155\teval-r2:0.95053\n",
      "[182]\ttrain-rmse:0.14118\ttrain-r2:0.95059\teval-rmse:0.14142\teval-r2:0.95062\n",
      "[183]\ttrain-rmse:0.14105\ttrain-r2:0.95069\teval-rmse:0.14128\teval-r2:0.95072\n",
      "[184]\ttrain-rmse:0.14082\ttrain-r2:0.95085\teval-rmse:0.14106\teval-r2:0.95087\n",
      "[185]\ttrain-rmse:0.14068\ttrain-r2:0.95095\teval-rmse:0.14092\teval-r2:0.95097\n",
      "[186]\ttrain-rmse:0.14059\ttrain-r2:0.95101\teval-rmse:0.14084\teval-r2:0.95103\n",
      "[187]\ttrain-rmse:0.14046\ttrain-r2:0.95110\teval-rmse:0.14070\teval-r2:0.95112\n",
      "[188]\ttrain-rmse:0.14029\ttrain-r2:0.95122\teval-rmse:0.14054\teval-r2:0.95124\n",
      "[189]\ttrain-rmse:0.14013\ttrain-r2:0.95133\teval-rmse:0.14037\teval-r2:0.95135\n",
      "[190]\ttrain-rmse:0.14003\ttrain-r2:0.95140\teval-rmse:0.14028\teval-r2:0.95142\n",
      "[191]\ttrain-rmse:0.13973\ttrain-r2:0.95161\teval-rmse:0.13998\teval-r2:0.95163\n",
      "[192]\ttrain-rmse:0.13964\ttrain-r2:0.95167\teval-rmse:0.13989\teval-r2:0.95168\n",
      "[193]\ttrain-rmse:0.13957\ttrain-r2:0.95172\teval-rmse:0.13982\teval-r2:0.95173\n",
      "[194]\ttrain-rmse:0.13943\ttrain-r2:0.95182\teval-rmse:0.13967\teval-r2:0.95183\n",
      "[195]\ttrain-rmse:0.13925\ttrain-r2:0.95194\teval-rmse:0.13950\teval-r2:0.95195\n",
      "[196]\ttrain-rmse:0.13904\ttrain-r2:0.95208\teval-rmse:0.13929\teval-r2:0.95210\n",
      "[197]\ttrain-rmse:0.13894\ttrain-r2:0.95215\teval-rmse:0.13919\teval-r2:0.95216\n",
      "[198]\ttrain-rmse:0.13878\ttrain-r2:0.95226\teval-rmse:0.13904\teval-r2:0.95227\n",
      "[199]\ttrain-rmse:0.13864\ttrain-r2:0.95235\teval-rmse:0.13890\teval-r2:0.95237\n",
      "[200]\ttrain-rmse:0.13847\ttrain-r2:0.95247\teval-rmse:0.13874\teval-r2:0.95248\n",
      "[201]\ttrain-rmse:0.13835\ttrain-r2:0.95256\teval-rmse:0.13862\teval-r2:0.95256\n",
      "[202]\ttrain-rmse:0.13823\ttrain-r2:0.95264\teval-rmse:0.13850\teval-r2:0.95264\n",
      "[203]\ttrain-rmse:0.13809\ttrain-r2:0.95273\teval-rmse:0.13836\teval-r2:0.95274\n",
      "[204]\ttrain-rmse:0.13795\ttrain-r2:0.95283\teval-rmse:0.13821\teval-r2:0.95284\n",
      "[205]\ttrain-rmse:0.13777\ttrain-r2:0.95295\teval-rmse:0.13804\teval-r2:0.95295\n",
      "[206]\ttrain-rmse:0.13765\ttrain-r2:0.95303\teval-rmse:0.13792\teval-r2:0.95304\n",
      "[207]\ttrain-rmse:0.13752\ttrain-r2:0.95313\teval-rmse:0.13778\teval-r2:0.95313\n",
      "[208]\ttrain-rmse:0.13740\ttrain-r2:0.95321\teval-rmse:0.13767\teval-r2:0.95321\n",
      "[209]\ttrain-rmse:0.13726\ttrain-r2:0.95330\teval-rmse:0.13753\teval-r2:0.95330\n",
      "[210]\ttrain-rmse:0.13713\ttrain-r2:0.95339\teval-rmse:0.13741\teval-r2:0.95338\n",
      "[211]\ttrain-rmse:0.13698\ttrain-r2:0.95349\teval-rmse:0.13726\teval-r2:0.95348\n",
      "[212]\ttrain-rmse:0.13676\ttrain-r2:0.95364\teval-rmse:0.13705\teval-r2:0.95363\n",
      "[213]\ttrain-rmse:0.13662\ttrain-r2:0.95374\teval-rmse:0.13690\teval-r2:0.95373\n",
      "[214]\ttrain-rmse:0.13652\ttrain-r2:0.95380\teval-rmse:0.13681\teval-r2:0.95379\n",
      "[215]\ttrain-rmse:0.13641\ttrain-r2:0.95388\teval-rmse:0.13670\teval-r2:0.95386\n",
      "[216]\ttrain-rmse:0.13626\ttrain-r2:0.95398\teval-rmse:0.13655\teval-r2:0.95396\n",
      "[217]\ttrain-rmse:0.13605\ttrain-r2:0.95412\teval-rmse:0.13635\teval-r2:0.95410\n",
      "[218]\ttrain-rmse:0.13589\ttrain-r2:0.95423\teval-rmse:0.13619\teval-r2:0.95420\n",
      "[219]\ttrain-rmse:0.13567\ttrain-r2:0.95438\teval-rmse:0.13597\teval-r2:0.95435\n",
      "[220]\ttrain-rmse:0.13556\ttrain-r2:0.95446\teval-rmse:0.13587\teval-r2:0.95442\n",
      "[221]\ttrain-rmse:0.13543\ttrain-r2:0.95454\teval-rmse:0.13574\teval-r2:0.95451\n",
      "[222]\ttrain-rmse:0.13533\ttrain-r2:0.95461\teval-rmse:0.13565\teval-r2:0.95457\n",
      "[223]\ttrain-rmse:0.13520\ttrain-r2:0.95470\teval-rmse:0.13552\teval-r2:0.95466\n",
      "[224]\ttrain-rmse:0.13500\ttrain-r2:0.95483\teval-rmse:0.13533\teval-r2:0.95478\n",
      "[225]\ttrain-rmse:0.13492\ttrain-r2:0.95488\teval-rmse:0.13525\teval-r2:0.95483\n",
      "[226]\ttrain-rmse:0.13482\ttrain-r2:0.95495\teval-rmse:0.13516\teval-r2:0.95490\n",
      "[227]\ttrain-rmse:0.13476\ttrain-r2:0.95499\teval-rmse:0.13510\teval-r2:0.95494\n",
      "[228]\ttrain-rmse:0.13468\ttrain-r2:0.95504\teval-rmse:0.13502\teval-r2:0.95499\n",
      "[229]\ttrain-rmse:0.13455\ttrain-r2:0.95513\teval-rmse:0.13489\teval-r2:0.95508\n",
      "[230]\ttrain-rmse:0.13445\ttrain-r2:0.95519\teval-rmse:0.13480\teval-r2:0.95514\n",
      "[231]\ttrain-rmse:0.13429\ttrain-r2:0.95530\teval-rmse:0.13464\teval-r2:0.95525\n",
      "[232]\ttrain-rmse:0.13416\ttrain-r2:0.95539\teval-rmse:0.13451\teval-r2:0.95533\n",
      "[233]\ttrain-rmse:0.13402\ttrain-r2:0.95548\teval-rmse:0.13438\teval-r2:0.95542\n",
      "[234]\ttrain-rmse:0.13385\ttrain-r2:0.95559\teval-rmse:0.13422\teval-r2:0.95552\n",
      "[235]\ttrain-rmse:0.13374\ttrain-r2:0.95567\teval-rmse:0.13411\teval-r2:0.95559\n",
      "[236]\ttrain-rmse:0.13369\ttrain-r2:0.95570\teval-rmse:0.13406\teval-r2:0.95563\n",
      "[237]\ttrain-rmse:0.13358\ttrain-r2:0.95577\teval-rmse:0.13396\teval-r2:0.95569\n",
      "[238]\ttrain-rmse:0.13351\ttrain-r2:0.95582\teval-rmse:0.13389\teval-r2:0.95574\n",
      "[239]\ttrain-rmse:0.13338\ttrain-r2:0.95591\teval-rmse:0.13377\teval-r2:0.95582\n",
      "[240]\ttrain-rmse:0.13327\ttrain-r2:0.95598\teval-rmse:0.13365\teval-r2:0.95590\n",
      "[241]\ttrain-rmse:0.13311\ttrain-r2:0.95608\teval-rmse:0.13350\teval-r2:0.95600\n",
      "[242]\ttrain-rmse:0.13298\ttrain-r2:0.95617\teval-rmse:0.13337\teval-r2:0.95608\n",
      "[243]\ttrain-rmse:0.13287\ttrain-r2:0.95624\teval-rmse:0.13327\teval-r2:0.95615\n",
      "[244]\ttrain-rmse:0.13275\ttrain-r2:0.95632\teval-rmse:0.13315\teval-r2:0.95623\n",
      "[245]\ttrain-rmse:0.13269\ttrain-r2:0.95636\teval-rmse:0.13309\teval-r2:0.95627\n",
      "[246]\ttrain-rmse:0.13257\ttrain-r2:0.95644\teval-rmse:0.13297\teval-r2:0.95635\n",
      "[247]\ttrain-rmse:0.13248\ttrain-r2:0.95649\teval-rmse:0.13289\teval-r2:0.95640\n",
      "[248]\ttrain-rmse:0.13240\ttrain-r2:0.95655\teval-rmse:0.13281\teval-r2:0.95645\n",
      "[249]\ttrain-rmse:0.13220\ttrain-r2:0.95669\teval-rmse:0.13261\teval-r2:0.95658\n",
      "[250]\ttrain-rmse:0.13209\ttrain-r2:0.95675\teval-rmse:0.13251\teval-r2:0.95665\n",
      "[251]\ttrain-rmse:0.13202\ttrain-r2:0.95680\teval-rmse:0.13244\teval-r2:0.95669\n",
      "[252]\ttrain-rmse:0.13190\ttrain-r2:0.95688\teval-rmse:0.13232\teval-r2:0.95677\n",
      "[253]\ttrain-rmse:0.13179\ttrain-r2:0.95695\teval-rmse:0.13221\teval-r2:0.95684\n",
      "[254]\ttrain-rmse:0.13161\ttrain-r2:0.95707\teval-rmse:0.13204\teval-r2:0.95696\n",
      "[255]\ttrain-rmse:0.13155\ttrain-r2:0.95710\teval-rmse:0.13199\teval-r2:0.95699\n",
      "[256]\ttrain-rmse:0.13147\ttrain-r2:0.95716\teval-rmse:0.13190\teval-r2:0.95705\n",
      "[257]\ttrain-rmse:0.13137\ttrain-r2:0.95722\teval-rmse:0.13181\teval-r2:0.95710\n",
      "[258]\ttrain-rmse:0.13128\ttrain-r2:0.95728\teval-rmse:0.13172\teval-r2:0.95716\n",
      "[259]\ttrain-rmse:0.13118\ttrain-r2:0.95735\teval-rmse:0.13162\teval-r2:0.95723\n",
      "[260]\ttrain-rmse:0.13101\ttrain-r2:0.95746\teval-rmse:0.13146\teval-r2:0.95733\n",
      "[261]\ttrain-rmse:0.13086\ttrain-r2:0.95755\teval-rmse:0.13132\teval-r2:0.95742\n",
      "[262]\ttrain-rmse:0.13074\ttrain-r2:0.95763\teval-rmse:0.13121\teval-r2:0.95749\n",
      "[263]\ttrain-rmse:0.13055\ttrain-r2:0.95776\teval-rmse:0.13102\teval-r2:0.95762\n",
      "[264]\ttrain-rmse:0.13045\ttrain-r2:0.95782\teval-rmse:0.13093\teval-r2:0.95768\n",
      "[265]\ttrain-rmse:0.13042\ttrain-r2:0.95784\teval-rmse:0.13090\teval-r2:0.95769\n",
      "[266]\ttrain-rmse:0.13034\ttrain-r2:0.95789\teval-rmse:0.13082\teval-r2:0.95775\n",
      "[267]\ttrain-rmse:0.13024\ttrain-r2:0.95796\teval-rmse:0.13073\teval-r2:0.95781\n",
      "[268]\ttrain-rmse:0.13018\ttrain-r2:0.95800\teval-rmse:0.13067\teval-r2:0.95785\n",
      "[269]\ttrain-rmse:0.13000\ttrain-r2:0.95811\teval-rmse:0.13048\teval-r2:0.95796\n",
      "[270]\ttrain-rmse:0.12988\ttrain-r2:0.95819\teval-rmse:0.13037\teval-r2:0.95804\n",
      "[271]\ttrain-rmse:0.12976\ttrain-r2:0.95827\teval-rmse:0.13025\teval-r2:0.95812\n",
      "[272]\ttrain-rmse:0.12970\ttrain-r2:0.95831\teval-rmse:0.13019\teval-r2:0.95815\n",
      "[273]\ttrain-rmse:0.12956\ttrain-r2:0.95839\teval-rmse:0.13006\teval-r2:0.95824\n",
      "[274]\ttrain-rmse:0.12945\ttrain-r2:0.95847\teval-rmse:0.12994\teval-r2:0.95831\n",
      "[275]\ttrain-rmse:0.12936\ttrain-r2:0.95852\teval-rmse:0.12986\teval-r2:0.95837\n",
      "[276]\ttrain-rmse:0.12930\ttrain-r2:0.95856\teval-rmse:0.12980\teval-r2:0.95840\n",
      "[277]\ttrain-rmse:0.12923\ttrain-r2:0.95861\teval-rmse:0.12973\teval-r2:0.95845\n",
      "[278]\ttrain-rmse:0.12908\ttrain-r2:0.95870\teval-rmse:0.12959\teval-r2:0.95854\n",
      "[279]\ttrain-rmse:0.12902\ttrain-r2:0.95874\teval-rmse:0.12953\teval-r2:0.95857\n",
      "[280]\ttrain-rmse:0.12895\ttrain-r2:0.95878\teval-rmse:0.12946\teval-r2:0.95862\n",
      "[281]\ttrain-rmse:0.12885\ttrain-r2:0.95885\teval-rmse:0.12936\teval-r2:0.95868\n",
      "[282]\ttrain-rmse:0.12873\ttrain-r2:0.95893\teval-rmse:0.12925\teval-r2:0.95876\n",
      "[283]\ttrain-rmse:0.12865\ttrain-r2:0.95898\teval-rmse:0.12914\teval-r2:0.95882\n",
      "[284]\ttrain-rmse:0.12852\ttrain-r2:0.95906\teval-rmse:0.12902\teval-r2:0.95890\n",
      "[285]\ttrain-rmse:0.12848\ttrain-r2:0.95908\teval-rmse:0.12898\teval-r2:0.95893\n",
      "[286]\ttrain-rmse:0.12841\ttrain-r2:0.95913\teval-rmse:0.12892\teval-r2:0.95896\n",
      "[287]\ttrain-rmse:0.12833\ttrain-r2:0.95918\teval-rmse:0.12882\teval-r2:0.95903\n",
      "[288]\ttrain-rmse:0.12823\ttrain-r2:0.95925\teval-rmse:0.12872\teval-r2:0.95910\n",
      "[289]\ttrain-rmse:0.12815\ttrain-r2:0.95930\teval-rmse:0.12864\teval-r2:0.95915\n",
      "[290]\ttrain-rmse:0.12809\ttrain-r2:0.95933\teval-rmse:0.12858\teval-r2:0.95918\n",
      "[291]\ttrain-rmse:0.12800\ttrain-r2:0.95939\teval-rmse:0.12850\teval-r2:0.95923\n",
      "[292]\ttrain-rmse:0.12792\ttrain-r2:0.95944\teval-rmse:0.12843\teval-r2:0.95928\n",
      "[293]\ttrain-rmse:0.12782\ttrain-r2:0.95950\teval-rmse:0.12833\teval-r2:0.95934\n",
      "[294]\ttrain-rmse:0.12771\ttrain-r2:0.95957\teval-rmse:0.12822\teval-r2:0.95941\n",
      "[295]\ttrain-rmse:0.12768\ttrain-r2:0.95959\teval-rmse:0.12819\teval-r2:0.95943\n",
      "[296]\ttrain-rmse:0.12761\ttrain-r2:0.95964\teval-rmse:0.12812\teval-r2:0.95947\n",
      "[297]\ttrain-rmse:0.12752\ttrain-r2:0.95969\teval-rmse:0.12804\teval-r2:0.95952\n",
      "[298]\ttrain-rmse:0.12747\ttrain-r2:0.95973\teval-rmse:0.12799\teval-r2:0.95956\n",
      "[299]\ttrain-rmse:0.12738\ttrain-r2:0.95978\teval-rmse:0.12791\teval-r2:0.95961\n",
      "[300]\ttrain-rmse:0.12735\ttrain-r2:0.95980\teval-rmse:0.12788\teval-r2:0.95963\n",
      "[301]\ttrain-rmse:0.12721\ttrain-r2:0.95989\teval-rmse:0.12775\teval-r2:0.95971\n",
      "[302]\ttrain-rmse:0.12703\ttrain-r2:0.96000\teval-rmse:0.12757\teval-r2:0.95982\n",
      "[303]\ttrain-rmse:0.12684\ttrain-r2:0.96012\teval-rmse:0.12738\teval-r2:0.95994\n",
      "[304]\ttrain-rmse:0.12675\ttrain-r2:0.96018\teval-rmse:0.12728\teval-r2:0.96000\n",
      "[305]\ttrain-rmse:0.12661\ttrain-r2:0.96027\teval-rmse:0.12715\teval-r2:0.96009\n",
      "[306]\ttrain-rmse:0.12649\ttrain-r2:0.96034\teval-rmse:0.12704\teval-r2:0.96015\n",
      "[307]\ttrain-rmse:0.12643\ttrain-r2:0.96038\teval-rmse:0.12698\teval-r2:0.96019\n",
      "[308]\ttrain-rmse:0.12638\ttrain-r2:0.96041\teval-rmse:0.12694\teval-r2:0.96022\n",
      "[309]\ttrain-rmse:0.12633\ttrain-r2:0.96044\teval-rmse:0.12689\teval-r2:0.96025\n",
      "[310]\ttrain-rmse:0.12622\ttrain-r2:0.96051\teval-rmse:0.12678\teval-r2:0.96032\n",
      "[311]\ttrain-rmse:0.12615\ttrain-r2:0.96056\teval-rmse:0.12671\teval-r2:0.96036\n",
      "[312]\ttrain-rmse:0.12602\ttrain-r2:0.96064\teval-rmse:0.12654\teval-r2:0.96046\n",
      "[313]\ttrain-rmse:0.12594\ttrain-r2:0.96069\teval-rmse:0.12646\teval-r2:0.96051\n",
      "[314]\ttrain-rmse:0.12585\ttrain-r2:0.96075\teval-rmse:0.12638\teval-r2:0.96057\n",
      "[315]\ttrain-rmse:0.12577\ttrain-r2:0.96079\teval-rmse:0.12630\teval-r2:0.96061\n",
      "[316]\ttrain-rmse:0.12568\ttrain-r2:0.96085\teval-rmse:0.12622\teval-r2:0.96067\n",
      "[317]\ttrain-rmse:0.12563\ttrain-r2:0.96088\teval-rmse:0.12616\teval-r2:0.96070\n",
      "[318]\ttrain-rmse:0.12555\ttrain-r2:0.96093\teval-rmse:0.12609\teval-r2:0.96075\n",
      "[319]\ttrain-rmse:0.12545\ttrain-r2:0.96099\teval-rmse:0.12598\teval-r2:0.96082\n",
      "[320]\ttrain-rmse:0.12533\ttrain-r2:0.96107\teval-rmse:0.12586\teval-r2:0.96089\n",
      "[321]\ttrain-rmse:0.12524\ttrain-r2:0.96112\teval-rmse:0.12578\teval-r2:0.96094\n",
      "[322]\ttrain-rmse:0.12520\ttrain-r2:0.96115\teval-rmse:0.12574\teval-r2:0.96096\n",
      "[323]\ttrain-rmse:0.12511\ttrain-r2:0.96120\teval-rmse:0.12566\teval-r2:0.96102\n",
      "[324]\ttrain-rmse:0.12508\ttrain-r2:0.96122\teval-rmse:0.12563\teval-r2:0.96103\n",
      "[325]\ttrain-rmse:0.12498\ttrain-r2:0.96128\teval-rmse:0.12554\teval-r2:0.96109\n",
      "[326]\ttrain-rmse:0.12490\ttrain-r2:0.96133\teval-rmse:0.12546\teval-r2:0.96114\n",
      "[327]\ttrain-rmse:0.12486\ttrain-r2:0.96136\teval-rmse:0.12542\teval-r2:0.96116\n",
      "[328]\ttrain-rmse:0.12480\ttrain-r2:0.96139\teval-rmse:0.12537\teval-r2:0.96120\n",
      "[329]\ttrain-rmse:0.12472\ttrain-r2:0.96144\teval-rmse:0.12529\teval-r2:0.96124\n",
      "[330]\ttrain-rmse:0.12462\ttrain-r2:0.96151\teval-rmse:0.12519\teval-r2:0.96131\n",
      "[331]\ttrain-rmse:0.12453\ttrain-r2:0.96156\teval-rmse:0.12510\teval-r2:0.96136\n",
      "[332]\ttrain-rmse:0.12447\ttrain-r2:0.96160\teval-rmse:0.12505\teval-r2:0.96139\n",
      "[333]\ttrain-rmse:0.12444\ttrain-r2:0.96162\teval-rmse:0.12502\teval-r2:0.96141\n",
      "[334]\ttrain-rmse:0.12441\ttrain-r2:0.96164\teval-rmse:0.12498\teval-r2:0.96144\n",
      "[335]\ttrain-rmse:0.12433\ttrain-r2:0.96169\teval-rmse:0.12490\teval-r2:0.96149\n",
      "[336]\ttrain-rmse:0.12427\ttrain-r2:0.96172\teval-rmse:0.12485\teval-r2:0.96152\n",
      "[337]\ttrain-rmse:0.12420\ttrain-r2:0.96176\teval-rmse:0.12478\teval-r2:0.96156\n",
      "[338]\ttrain-rmse:0.12417\ttrain-r2:0.96179\teval-rmse:0.12474\teval-r2:0.96158\n",
      "[339]\ttrain-rmse:0.12409\ttrain-r2:0.96183\teval-rmse:0.12467\teval-r2:0.96163\n",
      "[340]\ttrain-rmse:0.12400\ttrain-r2:0.96189\teval-rmse:0.12458\teval-r2:0.96168\n",
      "[341]\ttrain-rmse:0.12397\ttrain-r2:0.96191\teval-rmse:0.12456\teval-r2:0.96170\n",
      "[342]\ttrain-rmse:0.12392\ttrain-r2:0.96194\teval-rmse:0.12450\teval-r2:0.96173\n",
      "[343]\ttrain-rmse:0.12387\ttrain-r2:0.96197\teval-rmse:0.12446\teval-r2:0.96176\n",
      "[344]\ttrain-rmse:0.12382\ttrain-r2:0.96200\teval-rmse:0.12441\teval-r2:0.96178\n",
      "[345]\ttrain-rmse:0.12376\ttrain-r2:0.96203\teval-rmse:0.12436\teval-r2:0.96182\n",
      "[346]\ttrain-rmse:0.12369\ttrain-r2:0.96208\teval-rmse:0.12428\teval-r2:0.96187\n",
      "[347]\ttrain-rmse:0.12360\ttrain-r2:0.96213\teval-rmse:0.12420\teval-r2:0.96191\n",
      "[348]\ttrain-rmse:0.12355\ttrain-r2:0.96216\teval-rmse:0.12415\teval-r2:0.96194\n",
      "[349]\ttrain-rmse:0.12348\ttrain-r2:0.96220\teval-rmse:0.12409\teval-r2:0.96198\n",
      "[350]\ttrain-rmse:0.12344\ttrain-r2:0.96223\teval-rmse:0.12404\teval-r2:0.96201\n",
      "[351]\ttrain-rmse:0.12337\ttrain-r2:0.96227\teval-rmse:0.12398\teval-r2:0.96205\n",
      "[352]\ttrain-rmse:0.12326\ttrain-r2:0.96234\teval-rmse:0.12387\teval-r2:0.96212\n",
      "[353]\ttrain-rmse:0.12318\ttrain-r2:0.96239\teval-rmse:0.12379\teval-r2:0.96217\n",
      "[354]\ttrain-rmse:0.12311\ttrain-r2:0.96244\teval-rmse:0.12371\teval-r2:0.96221\n",
      "[355]\ttrain-rmse:0.12305\ttrain-r2:0.96247\teval-rmse:0.12366\teval-r2:0.96224\n",
      "[356]\ttrain-rmse:0.12294\ttrain-r2:0.96254\teval-rmse:0.12355\teval-r2:0.96231\n",
      "[357]\ttrain-rmse:0.12288\ttrain-r2:0.96257\teval-rmse:0.12350\teval-r2:0.96234\n",
      "[358]\ttrain-rmse:0.12280\ttrain-r2:0.96262\teval-rmse:0.12341\teval-r2:0.96240\n",
      "[359]\ttrain-rmse:0.12269\ttrain-r2:0.96269\teval-rmse:0.12330\teval-r2:0.96246\n",
      "[360]\ttrain-rmse:0.12263\ttrain-r2:0.96273\teval-rmse:0.12324\teval-r2:0.96250\n",
      "[361]\ttrain-rmse:0.12255\ttrain-r2:0.96278\teval-rmse:0.12316\teval-r2:0.96255\n",
      "[362]\ttrain-rmse:0.12249\ttrain-r2:0.96281\teval-rmse:0.12310\teval-r2:0.96258\n",
      "[363]\ttrain-rmse:0.12245\ttrain-r2:0.96284\teval-rmse:0.12307\teval-r2:0.96261\n",
      "[364]\ttrain-rmse:0.12232\ttrain-r2:0.96291\teval-rmse:0.12294\teval-r2:0.96268\n",
      "[365]\ttrain-rmse:0.12219\ttrain-r2:0.96299\teval-rmse:0.12282\teval-r2:0.96276\n",
      "[366]\ttrain-rmse:0.12215\ttrain-r2:0.96302\teval-rmse:0.12277\teval-r2:0.96279\n",
      "[367]\ttrain-rmse:0.12211\ttrain-r2:0.96304\teval-rmse:0.12273\teval-r2:0.96281\n",
      "[368]\ttrain-rmse:0.12205\ttrain-r2:0.96308\teval-rmse:0.12268\teval-r2:0.96284\n",
      "[369]\ttrain-rmse:0.12198\ttrain-r2:0.96312\teval-rmse:0.12261\teval-r2:0.96288\n",
      "[370]\ttrain-rmse:0.12195\ttrain-r2:0.96314\teval-rmse:0.12258\teval-r2:0.96290\n",
      "[371]\ttrain-rmse:0.12190\ttrain-r2:0.96317\teval-rmse:0.12253\teval-r2:0.96293\n",
      "[372]\ttrain-rmse:0.12182\ttrain-r2:0.96322\teval-rmse:0.12246\teval-r2:0.96297\n",
      "[373]\ttrain-rmse:0.12176\ttrain-r2:0.96325\teval-rmse:0.12241\teval-r2:0.96301\n",
      "[374]\ttrain-rmse:0.12172\ttrain-r2:0.96328\teval-rmse:0.12237\teval-r2:0.96303\n",
      "[375]\ttrain-rmse:0.12167\ttrain-r2:0.96331\teval-rmse:0.12232\teval-r2:0.96306\n",
      "[376]\ttrain-rmse:0.12161\ttrain-r2:0.96334\teval-rmse:0.12227\teval-r2:0.96309\n",
      "[377]\ttrain-rmse:0.12158\ttrain-r2:0.96336\teval-rmse:0.12224\teval-r2:0.96311\n",
      "[378]\ttrain-rmse:0.12156\ttrain-r2:0.96338\teval-rmse:0.12222\teval-r2:0.96312\n",
      "[379]\ttrain-rmse:0.12153\ttrain-r2:0.96339\teval-rmse:0.12219\teval-r2:0.96314\n",
      "[380]\ttrain-rmse:0.12145\ttrain-r2:0.96344\teval-rmse:0.12211\teval-r2:0.96319\n",
      "[381]\ttrain-rmse:0.12136\ttrain-r2:0.96349\teval-rmse:0.12203\teval-r2:0.96324\n",
      "[382]\ttrain-rmse:0.12131\ttrain-r2:0.96352\teval-rmse:0.12198\teval-r2:0.96327\n",
      "[383]\ttrain-rmse:0.12126\ttrain-r2:0.96355\teval-rmse:0.12193\teval-r2:0.96329\n",
      "[384]\ttrain-rmse:0.12120\ttrain-r2:0.96359\teval-rmse:0.12187\teval-r2:0.96333\n",
      "[385]\ttrain-rmse:0.12112\ttrain-r2:0.96364\teval-rmse:0.12180\teval-r2:0.96337\n",
      "[386]\ttrain-rmse:0.12102\ttrain-r2:0.96370\teval-rmse:0.12170\teval-r2:0.96344\n",
      "[387]\ttrain-rmse:0.12093\ttrain-r2:0.96375\teval-rmse:0.12162\teval-r2:0.96348\n",
      "[388]\ttrain-rmse:0.12090\ttrain-r2:0.96377\teval-rmse:0.12159\teval-r2:0.96350\n",
      "[389]\ttrain-rmse:0.12077\ttrain-r2:0.96385\teval-rmse:0.12147\teval-r2:0.96357\n",
      "[390]\ttrain-rmse:0.12070\ttrain-r2:0.96389\teval-rmse:0.12139\teval-r2:0.96362\n",
      "[391]\ttrain-rmse:0.12062\ttrain-r2:0.96394\teval-rmse:0.12132\teval-r2:0.96366\n",
      "[392]\ttrain-rmse:0.12058\ttrain-r2:0.96396\teval-rmse:0.12128\teval-r2:0.96369\n",
      "[393]\ttrain-rmse:0.12053\ttrain-r2:0.96399\teval-rmse:0.12124\teval-r2:0.96371\n",
      "[394]\ttrain-rmse:0.12049\ttrain-r2:0.96401\teval-rmse:0.12120\teval-r2:0.96374\n",
      "[395]\ttrain-rmse:0.12043\ttrain-r2:0.96405\teval-rmse:0.12114\teval-r2:0.96377\n",
      "[396]\ttrain-rmse:0.12037\ttrain-r2:0.96409\teval-rmse:0.12108\teval-r2:0.96380\n",
      "[397]\ttrain-rmse:0.12030\ttrain-r2:0.96413\teval-rmse:0.12101\teval-r2:0.96384\n",
      "[398]\ttrain-rmse:0.12028\ttrain-r2:0.96414\teval-rmse:0.12099\teval-r2:0.96386\n",
      "[399]\ttrain-rmse:0.12020\ttrain-r2:0.96419\teval-rmse:0.12091\teval-r2:0.96391\n",
      "[400]\ttrain-rmse:0.12011\ttrain-r2:0.96424\teval-rmse:0.12083\teval-r2:0.96395\n",
      "[401]\ttrain-rmse:0.12008\ttrain-r2:0.96426\teval-rmse:0.12081\teval-r2:0.96397\n",
      "[402]\ttrain-rmse:0.12002\ttrain-r2:0.96429\teval-rmse:0.12076\teval-r2:0.96400\n",
      "[403]\ttrain-rmse:0.11998\ttrain-r2:0.96432\teval-rmse:0.12072\teval-r2:0.96402\n",
      "[404]\ttrain-rmse:0.11993\ttrain-r2:0.96435\teval-rmse:0.12067\teval-r2:0.96405\n",
      "[405]\ttrain-rmse:0.11985\ttrain-r2:0.96439\teval-rmse:0.12060\teval-r2:0.96409\n",
      "[406]\ttrain-rmse:0.11982\ttrain-r2:0.96442\teval-rmse:0.12056\teval-r2:0.96412\n",
      "[407]\ttrain-rmse:0.11977\ttrain-r2:0.96445\teval-rmse:0.12051\teval-r2:0.96415\n",
      "[408]\ttrain-rmse:0.11965\ttrain-r2:0.96451\teval-rmse:0.12039\teval-r2:0.96421\n",
      "[409]\ttrain-rmse:0.11958\ttrain-r2:0.96456\teval-rmse:0.12032\teval-r2:0.96426\n",
      "[410]\ttrain-rmse:0.11949\ttrain-r2:0.96461\teval-rmse:0.12023\teval-r2:0.96431\n",
      "[411]\ttrain-rmse:0.11943\ttrain-r2:0.96464\teval-rmse:0.12018\teval-r2:0.96434\n",
      "[412]\ttrain-rmse:0.11941\ttrain-r2:0.96466\teval-rmse:0.12016\teval-r2:0.96435\n",
      "[413]\ttrain-rmse:0.11939\ttrain-r2:0.96467\teval-rmse:0.12014\teval-r2:0.96437\n",
      "[414]\ttrain-rmse:0.11936\ttrain-r2:0.96469\teval-rmse:0.12011\teval-r2:0.96438\n",
      "[415]\ttrain-rmse:0.11928\ttrain-r2:0.96473\teval-rmse:0.12004\teval-r2:0.96442\n",
      "[416]\ttrain-rmse:0.11926\ttrain-r2:0.96475\teval-rmse:0.12001\teval-r2:0.96444\n",
      "[417]\ttrain-rmse:0.11922\ttrain-r2:0.96477\teval-rmse:0.11998\teval-r2:0.96446\n",
      "[418]\ttrain-rmse:0.11915\ttrain-r2:0.96481\teval-rmse:0.11990\teval-r2:0.96450\n",
      "[419]\ttrain-rmse:0.11911\ttrain-r2:0.96484\teval-rmse:0.11987\teval-r2:0.96453\n",
      "[420]\ttrain-rmse:0.11904\ttrain-r2:0.96488\teval-rmse:0.11980\teval-r2:0.96457\n",
      "[421]\ttrain-rmse:0.11901\ttrain-r2:0.96489\teval-rmse:0.11977\teval-r2:0.96458\n",
      "[422]\ttrain-rmse:0.11895\ttrain-r2:0.96493\teval-rmse:0.11970\teval-r2:0.96462\n",
      "[423]\ttrain-rmse:0.11892\ttrain-r2:0.96495\teval-rmse:0.11968\teval-r2:0.96464\n",
      "[424]\ttrain-rmse:0.11886\ttrain-r2:0.96498\teval-rmse:0.11962\teval-r2:0.96467\n",
      "[425]\ttrain-rmse:0.11881\ttrain-r2:0.96501\teval-rmse:0.11957\teval-r2:0.96470\n",
      "[426]\ttrain-rmse:0.11876\ttrain-r2:0.96504\teval-rmse:0.11952\teval-r2:0.96473\n",
      "[427]\ttrain-rmse:0.11872\ttrain-r2:0.96506\teval-rmse:0.11949\teval-r2:0.96475\n",
      "[428]\ttrain-rmse:0.11870\ttrain-r2:0.96508\teval-rmse:0.11947\teval-r2:0.96476\n",
      "[429]\ttrain-rmse:0.11866\ttrain-r2:0.96510\teval-rmse:0.11943\teval-r2:0.96479\n",
      "[430]\ttrain-rmse:0.11863\ttrain-r2:0.96512\teval-rmse:0.11940\teval-r2:0.96480\n",
      "[431]\ttrain-rmse:0.11853\ttrain-r2:0.96518\teval-rmse:0.11931\teval-r2:0.96486\n",
      "[432]\ttrain-rmse:0.11848\ttrain-r2:0.96521\teval-rmse:0.11926\teval-r2:0.96488\n",
      "[433]\ttrain-rmse:0.11844\ttrain-r2:0.96523\teval-rmse:0.11923\teval-r2:0.96491\n",
      "[434]\ttrain-rmse:0.11842\ttrain-r2:0.96524\teval-rmse:0.11920\teval-r2:0.96492\n",
      "[435]\ttrain-rmse:0.11837\ttrain-r2:0.96527\teval-rmse:0.11915\teval-r2:0.96495\n",
      "[436]\ttrain-rmse:0.11832\ttrain-r2:0.96530\teval-rmse:0.11911\teval-r2:0.96497\n",
      "[437]\ttrain-rmse:0.11828\ttrain-r2:0.96532\teval-rmse:0.11908\teval-r2:0.96499\n",
      "[438]\ttrain-rmse:0.11826\ttrain-r2:0.96533\teval-rmse:0.11906\teval-r2:0.96500\n",
      "[439]\ttrain-rmse:0.11814\ttrain-r2:0.96541\teval-rmse:0.11895\teval-r2:0.96507\n",
      "[440]\ttrain-rmse:0.11808\ttrain-r2:0.96544\teval-rmse:0.11889\teval-r2:0.96510\n",
      "[441]\ttrain-rmse:0.11797\ttrain-r2:0.96551\teval-rmse:0.11878\teval-r2:0.96517\n",
      "[442]\ttrain-rmse:0.11794\ttrain-r2:0.96552\teval-rmse:0.11875\teval-r2:0.96518\n",
      "[443]\ttrain-rmse:0.11788\ttrain-r2:0.96556\teval-rmse:0.11869\teval-r2:0.96522\n",
      "[444]\ttrain-rmse:0.11780\ttrain-r2:0.96561\teval-rmse:0.11861\teval-r2:0.96526\n",
      "[445]\ttrain-rmse:0.11772\ttrain-r2:0.96565\teval-rmse:0.11854\teval-r2:0.96531\n",
      "[446]\ttrain-rmse:0.11770\ttrain-r2:0.96566\teval-rmse:0.11852\teval-r2:0.96532\n",
      "[447]\ttrain-rmse:0.11764\ttrain-r2:0.96570\teval-rmse:0.11846\teval-r2:0.96535\n",
      "[448]\ttrain-rmse:0.11752\ttrain-r2:0.96577\teval-rmse:0.11834\teval-r2:0.96542\n",
      "[449]\ttrain-rmse:0.11748\ttrain-r2:0.96579\teval-rmse:0.11831\teval-r2:0.96544\n",
      "[450]\ttrain-rmse:0.11740\ttrain-r2:0.96584\teval-rmse:0.11823\teval-r2:0.96549\n",
      "[451]\ttrain-rmse:0.11732\ttrain-r2:0.96589\teval-rmse:0.11815\teval-r2:0.96554\n",
      "[452]\ttrain-rmse:0.11729\ttrain-r2:0.96590\teval-rmse:0.11813\teval-r2:0.96555\n",
      "[453]\ttrain-rmse:0.11723\ttrain-r2:0.96594\teval-rmse:0.11806\teval-r2:0.96559\n",
      "[454]\ttrain-rmse:0.11715\ttrain-r2:0.96598\teval-rmse:0.11798\teval-r2:0.96563\n",
      "[455]\ttrain-rmse:0.11710\ttrain-r2:0.96601\teval-rmse:0.11793\teval-r2:0.96566\n",
      "[456]\ttrain-rmse:0.11702\ttrain-r2:0.96606\teval-rmse:0.11787\teval-r2:0.96570\n",
      "[457]\ttrain-rmse:0.11697\ttrain-r2:0.96609\teval-rmse:0.11783\teval-r2:0.96572\n",
      "[458]\ttrain-rmse:0.11689\ttrain-r2:0.96613\teval-rmse:0.11775\teval-r2:0.96577\n",
      "[459]\ttrain-rmse:0.11687\ttrain-r2:0.96614\teval-rmse:0.11774\teval-r2:0.96578\n",
      "[460]\ttrain-rmse:0.11684\ttrain-r2:0.96617\teval-rmse:0.11770\teval-r2:0.96580\n",
      "[461]\ttrain-rmse:0.11678\ttrain-r2:0.96620\teval-rmse:0.11765\teval-r2:0.96583\n",
      "[462]\ttrain-rmse:0.11675\ttrain-r2:0.96621\teval-rmse:0.11762\teval-r2:0.96584\n",
      "[463]\ttrain-rmse:0.11667\ttrain-r2:0.96626\teval-rmse:0.11754\teval-r2:0.96589\n",
      "[464]\ttrain-rmse:0.11663\ttrain-r2:0.96629\teval-rmse:0.11750\teval-r2:0.96591\n",
      "[465]\ttrain-rmse:0.11659\ttrain-r2:0.96630\teval-rmse:0.11746\teval-r2:0.96593\n",
      "[466]\ttrain-rmse:0.11654\ttrain-r2:0.96634\teval-rmse:0.11741\teval-r2:0.96596\n",
      "[467]\ttrain-rmse:0.11649\ttrain-r2:0.96636\teval-rmse:0.11736\teval-r2:0.96600\n",
      "[468]\ttrain-rmse:0.11644\ttrain-r2:0.96639\teval-rmse:0.11731\teval-r2:0.96603\n",
      "[469]\ttrain-rmse:0.11635\ttrain-r2:0.96645\teval-rmse:0.11722\teval-r2:0.96608\n",
      "[470]\ttrain-rmse:0.11631\ttrain-r2:0.96647\teval-rmse:0.11718\teval-r2:0.96610\n",
      "[471]\ttrain-rmse:0.11620\ttrain-r2:0.96654\teval-rmse:0.11707\teval-r2:0.96616\n",
      "[472]\ttrain-rmse:0.11614\ttrain-r2:0.96657\teval-rmse:0.11702\teval-r2:0.96619\n",
      "[473]\ttrain-rmse:0.11610\ttrain-r2:0.96659\teval-rmse:0.11698\teval-r2:0.96622\n",
      "[474]\ttrain-rmse:0.11604\ttrain-r2:0.96662\teval-rmse:0.11692\teval-r2:0.96625\n",
      "[475]\ttrain-rmse:0.11600\ttrain-r2:0.96665\teval-rmse:0.11689\teval-r2:0.96627\n",
      "[476]\ttrain-rmse:0.11594\ttrain-r2:0.96668\teval-rmse:0.11683\teval-r2:0.96630\n",
      "[477]\ttrain-rmse:0.11588\ttrain-r2:0.96671\teval-rmse:0.11677\teval-r2:0.96634\n",
      "[478]\ttrain-rmse:0.11580\ttrain-r2:0.96676\teval-rmse:0.11670\teval-r2:0.96638\n",
      "[479]\ttrain-rmse:0.11577\ttrain-r2:0.96678\teval-rmse:0.11666\teval-r2:0.96640\n",
      "[480]\ttrain-rmse:0.11573\ttrain-r2:0.96680\teval-rmse:0.11663\teval-r2:0.96642\n",
      "[481]\ttrain-rmse:0.11570\ttrain-r2:0.96682\teval-rmse:0.11659\teval-r2:0.96644\n",
      "[482]\ttrain-rmse:0.11562\ttrain-r2:0.96686\teval-rmse:0.11652\teval-r2:0.96648\n",
      "[483]\ttrain-rmse:0.11560\ttrain-r2:0.96688\teval-rmse:0.11649\teval-r2:0.96650\n",
      "[484]\ttrain-rmse:0.11555\ttrain-r2:0.96691\teval-rmse:0.11644\teval-r2:0.96652\n",
      "[485]\ttrain-rmse:0.11551\ttrain-r2:0.96693\teval-rmse:0.11641\teval-r2:0.96654\n",
      "[486]\ttrain-rmse:0.11547\ttrain-r2:0.96695\teval-rmse:0.11638\teval-r2:0.96656\n",
      "[487]\ttrain-rmse:0.11543\ttrain-r2:0.96698\teval-rmse:0.11633\teval-r2:0.96659\n",
      "[488]\ttrain-rmse:0.11535\ttrain-r2:0.96702\teval-rmse:0.11626\teval-r2:0.96663\n",
      "[489]\ttrain-rmse:0.11528\ttrain-r2:0.96706\teval-rmse:0.11620\teval-r2:0.96666\n",
      "[490]\ttrain-rmse:0.11525\ttrain-r2:0.96708\teval-rmse:0.11616\teval-r2:0.96669\n",
      "[491]\ttrain-rmse:0.11521\ttrain-r2:0.96710\teval-rmse:0.11613\teval-r2:0.96671\n",
      "[492]\ttrain-rmse:0.11519\ttrain-r2:0.96711\teval-rmse:0.11610\teval-r2:0.96672\n",
      "[493]\ttrain-rmse:0.11517\ttrain-r2:0.96712\teval-rmse:0.11608\teval-r2:0.96673\n",
      "[494]\ttrain-rmse:0.11513\ttrain-r2:0.96714\teval-rmse:0.11605\teval-r2:0.96675\n",
      "[495]\ttrain-rmse:0.11509\ttrain-r2:0.96717\teval-rmse:0.11601\teval-r2:0.96677\n",
      "[496]\ttrain-rmse:0.11503\ttrain-r2:0.96720\teval-rmse:0.11595\teval-r2:0.96681\n",
      "[497]\ttrain-rmse:0.11498\ttrain-r2:0.96723\teval-rmse:0.11591\teval-r2:0.96683\n",
      "[498]\ttrain-rmse:0.11492\ttrain-r2:0.96726\teval-rmse:0.11586\teval-r2:0.96686\n",
      "[499]\ttrain-rmse:0.11487\ttrain-r2:0.96729\teval-rmse:0.11580\teval-r2:0.96689\n",
      "[500]\ttrain-rmse:0.11484\ttrain-r2:0.96731\teval-rmse:0.11577\teval-r2:0.96691\n",
      "[501]\ttrain-rmse:0.11479\ttrain-r2:0.96734\teval-rmse:0.11572\teval-r2:0.96694\n",
      "[502]\ttrain-rmse:0.11475\ttrain-r2:0.96736\teval-rmse:0.11569\teval-r2:0.96696\n",
      "[503]\ttrain-rmse:0.11472\ttrain-r2:0.96738\teval-rmse:0.11565\teval-r2:0.96698\n",
      "[504]\ttrain-rmse:0.11469\ttrain-r2:0.96740\teval-rmse:0.11562\teval-r2:0.96700\n",
      "[505]\ttrain-rmse:0.11462\ttrain-r2:0.96744\teval-rmse:0.11556\teval-r2:0.96703\n",
      "[506]\ttrain-rmse:0.11459\ttrain-r2:0.96745\teval-rmse:0.11553\teval-r2:0.96705\n",
      "[507]\ttrain-rmse:0.11452\ttrain-r2:0.96749\teval-rmse:0.11546\teval-r2:0.96709\n",
      "[508]\ttrain-rmse:0.11447\ttrain-r2:0.96752\teval-rmse:0.11542\teval-r2:0.96711\n",
      "[509]\ttrain-rmse:0.11445\ttrain-r2:0.96753\teval-rmse:0.11540\teval-r2:0.96712\n",
      "[510]\ttrain-rmse:0.11441\ttrain-r2:0.96756\teval-rmse:0.11536\teval-r2:0.96715\n",
      "[511]\ttrain-rmse:0.11436\ttrain-r2:0.96759\teval-rmse:0.11531\teval-r2:0.96717\n",
      "[512]\ttrain-rmse:0.11428\ttrain-r2:0.96763\teval-rmse:0.11524\teval-r2:0.96721\n",
      "[513]\ttrain-rmse:0.11424\ttrain-r2:0.96765\teval-rmse:0.11519\teval-r2:0.96724\n",
      "[514]\ttrain-rmse:0.11421\ttrain-r2:0.96767\teval-rmse:0.11516\teval-r2:0.96726\n",
      "[515]\ttrain-rmse:0.11415\ttrain-r2:0.96770\teval-rmse:0.11510\teval-r2:0.96729\n",
      "[516]\ttrain-rmse:0.11410\ttrain-r2:0.96773\teval-rmse:0.11505\teval-r2:0.96732\n",
      "[517]\ttrain-rmse:0.11406\ttrain-r2:0.96775\teval-rmse:0.11501\teval-r2:0.96734\n",
      "[518]\ttrain-rmse:0.11404\ttrain-r2:0.96777\teval-rmse:0.11499\teval-r2:0.96735\n",
      "[519]\ttrain-rmse:0.11400\ttrain-r2:0.96779\teval-rmse:0.11496\teval-r2:0.96737\n",
      "[520]\ttrain-rmse:0.11392\ttrain-r2:0.96784\teval-rmse:0.11488\teval-r2:0.96742\n",
      "[521]\ttrain-rmse:0.11381\ttrain-r2:0.96790\teval-rmse:0.11478\teval-r2:0.96747\n",
      "[522]\ttrain-rmse:0.11380\ttrain-r2:0.96790\teval-rmse:0.11477\teval-r2:0.96748\n",
      "[523]\ttrain-rmse:0.11371\ttrain-r2:0.96795\teval-rmse:0.11468\teval-r2:0.96753\n",
      "[524]\ttrain-rmse:0.11367\ttrain-r2:0.96797\teval-rmse:0.11464\teval-r2:0.96755\n",
      "[525]\ttrain-rmse:0.11361\ttrain-r2:0.96801\teval-rmse:0.11458\teval-r2:0.96759\n",
      "[526]\ttrain-rmse:0.11356\ttrain-r2:0.96803\teval-rmse:0.11451\teval-r2:0.96762\n",
      "[527]\ttrain-rmse:0.11347\ttrain-r2:0.96809\teval-rmse:0.11442\teval-r2:0.96768\n",
      "[528]\ttrain-rmse:0.11344\ttrain-r2:0.96811\teval-rmse:0.11439\teval-r2:0.96769\n",
      "[529]\ttrain-rmse:0.11340\ttrain-r2:0.96812\teval-rmse:0.11436\teval-r2:0.96771\n",
      "[530]\ttrain-rmse:0.11337\ttrain-r2:0.96814\teval-rmse:0.11433\teval-r2:0.96773\n",
      "[531]\ttrain-rmse:0.11332\ttrain-r2:0.96817\teval-rmse:0.11429\teval-r2:0.96775\n",
      "[532]\ttrain-rmse:0.11328\ttrain-r2:0.96820\teval-rmse:0.11424\teval-r2:0.96778\n",
      "[533]\ttrain-rmse:0.11327\ttrain-r2:0.96820\teval-rmse:0.11423\teval-r2:0.96778\n",
      "[534]\ttrain-rmse:0.11325\ttrain-r2:0.96821\teval-rmse:0.11422\teval-r2:0.96779\n",
      "[535]\ttrain-rmse:0.11320\ttrain-r2:0.96824\teval-rmse:0.11417\teval-r2:0.96782\n",
      "[536]\ttrain-rmse:0.11318\ttrain-r2:0.96825\teval-rmse:0.11415\teval-r2:0.96783\n",
      "[537]\ttrain-rmse:0.11313\ttrain-r2:0.96827\teval-rmse:0.11410\teval-r2:0.96786\n",
      "[538]\ttrain-rmse:0.11307\ttrain-r2:0.96831\teval-rmse:0.11404\teval-r2:0.96789\n",
      "[539]\ttrain-rmse:0.11298\ttrain-r2:0.96836\teval-rmse:0.11395\teval-r2:0.96794\n",
      "[540]\ttrain-rmse:0.11296\ttrain-r2:0.96837\teval-rmse:0.11393\teval-r2:0.96795\n",
      "[541]\ttrain-rmse:0.11291\ttrain-r2:0.96840\teval-rmse:0.11389\teval-r2:0.96798\n",
      "[542]\ttrain-rmse:0.11287\ttrain-r2:0.96842\teval-rmse:0.11385\teval-r2:0.96800\n",
      "[543]\ttrain-rmse:0.11281\ttrain-r2:0.96846\teval-rmse:0.11378\teval-r2:0.96803\n",
      "[544]\ttrain-rmse:0.11276\ttrain-r2:0.96849\teval-rmse:0.11374\teval-r2:0.96806\n",
      "[545]\ttrain-rmse:0.11267\ttrain-r2:0.96854\teval-rmse:0.11365\teval-r2:0.96811\n",
      "[546]\ttrain-rmse:0.11263\ttrain-r2:0.96856\teval-rmse:0.11362\teval-r2:0.96813\n",
      "[547]\ttrain-rmse:0.11256\ttrain-r2:0.96860\teval-rmse:0.11355\teval-r2:0.96817\n",
      "[548]\ttrain-rmse:0.11255\ttrain-r2:0.96860\teval-rmse:0.11354\teval-r2:0.96817\n",
      "[549]\ttrain-rmse:0.11247\ttrain-r2:0.96865\teval-rmse:0.11346\teval-r2:0.96821\n",
      "[550]\ttrain-rmse:0.11242\ttrain-r2:0.96868\teval-rmse:0.11341\teval-r2:0.96824\n",
      "[551]\ttrain-rmse:0.11237\ttrain-r2:0.96871\teval-rmse:0.11336\teval-r2:0.96827\n",
      "[552]\ttrain-rmse:0.11232\ttrain-r2:0.96873\teval-rmse:0.11332\teval-r2:0.96830\n",
      "[553]\ttrain-rmse:0.11224\ttrain-r2:0.96878\teval-rmse:0.11324\teval-r2:0.96834\n",
      "[554]\ttrain-rmse:0.11217\ttrain-r2:0.96881\teval-rmse:0.11318\teval-r2:0.96837\n",
      "[555]\ttrain-rmse:0.11213\ttrain-r2:0.96883\teval-rmse:0.11314\teval-r2:0.96840\n",
      "[556]\ttrain-rmse:0.11209\ttrain-r2:0.96886\teval-rmse:0.11310\teval-r2:0.96842\n",
      "[557]\ttrain-rmse:0.11200\ttrain-r2:0.96891\teval-rmse:0.11301\teval-r2:0.96847\n",
      "[558]\ttrain-rmse:0.11197\ttrain-r2:0.96893\teval-rmse:0.11298\teval-r2:0.96848\n",
      "[559]\ttrain-rmse:0.11188\ttrain-r2:0.96897\teval-rmse:0.11290\teval-r2:0.96853\n",
      "[560]\ttrain-rmse:0.11186\ttrain-r2:0.96899\teval-rmse:0.11287\teval-r2:0.96854\n",
      "[561]\ttrain-rmse:0.11182\ttrain-r2:0.96901\teval-rmse:0.11284\teval-r2:0.96856\n",
      "[562]\ttrain-rmse:0.11180\ttrain-r2:0.96902\teval-rmse:0.11282\teval-r2:0.96858\n",
      "[563]\ttrain-rmse:0.11175\ttrain-r2:0.96905\teval-rmse:0.11278\teval-r2:0.96860\n",
      "[564]\ttrain-rmse:0.11169\ttrain-r2:0.96908\teval-rmse:0.11272\teval-r2:0.96863\n",
      "[565]\ttrain-rmse:0.11163\ttrain-r2:0.96912\teval-rmse:0.11266\teval-r2:0.96866\n",
      "[566]\ttrain-rmse:0.11158\ttrain-r2:0.96914\teval-rmse:0.11262\teval-r2:0.96869\n",
      "[567]\ttrain-rmse:0.11153\ttrain-r2:0.96917\teval-rmse:0.11257\teval-r2:0.96871\n",
      "[568]\ttrain-rmse:0.11151\ttrain-r2:0.96918\teval-rmse:0.11255\teval-r2:0.96873\n",
      "[569]\ttrain-rmse:0.11148\ttrain-r2:0.96920\teval-rmse:0.11252\teval-r2:0.96874\n",
      "[570]\ttrain-rmse:0.11141\ttrain-r2:0.96923\teval-rmse:0.11246\teval-r2:0.96878\n",
      "[571]\ttrain-rmse:0.11138\ttrain-r2:0.96925\teval-rmse:0.11243\teval-r2:0.96879\n",
      "[572]\ttrain-rmse:0.11134\ttrain-r2:0.96927\teval-rmse:0.11239\teval-r2:0.96881\n",
      "[573]\ttrain-rmse:0.11131\ttrain-r2:0.96929\teval-rmse:0.11236\teval-r2:0.96883\n",
      "[574]\ttrain-rmse:0.11126\ttrain-r2:0.96932\teval-rmse:0.11231\teval-r2:0.96886\n",
      "[575]\ttrain-rmse:0.11125\ttrain-r2:0.96933\teval-rmse:0.11230\teval-r2:0.96886\n",
      "[576]\ttrain-rmse:0.11120\ttrain-r2:0.96935\teval-rmse:0.11225\teval-r2:0.96889\n",
      "[577]\ttrain-rmse:0.11113\ttrain-r2:0.96939\teval-rmse:0.11219\teval-r2:0.96893\n",
      "[578]\ttrain-rmse:0.11108\ttrain-r2:0.96942\teval-rmse:0.11215\teval-r2:0.96895\n",
      "[579]\ttrain-rmse:0.11101\ttrain-r2:0.96945\teval-rmse:0.11208\teval-r2:0.96898\n",
      "[580]\ttrain-rmse:0.11092\ttrain-r2:0.96950\teval-rmse:0.11199\teval-r2:0.96903\n",
      "[581]\ttrain-rmse:0.11088\ttrain-r2:0.96953\teval-rmse:0.11195\teval-r2:0.96906\n",
      "[582]\ttrain-rmse:0.11081\ttrain-r2:0.96957\teval-rmse:0.11188\teval-r2:0.96910\n",
      "[583]\ttrain-rmse:0.11078\ttrain-r2:0.96958\teval-rmse:0.11186\teval-r2:0.96911\n",
      "[584]\ttrain-rmse:0.11075\ttrain-r2:0.96960\teval-rmse:0.11183\teval-r2:0.96913\n",
      "[585]\ttrain-rmse:0.11070\ttrain-r2:0.96962\teval-rmse:0.11178\teval-r2:0.96915\n",
      "[586]\ttrain-rmse:0.11062\ttrain-r2:0.96967\teval-rmse:0.11170\teval-r2:0.96920\n",
      "[587]\ttrain-rmse:0.11059\ttrain-r2:0.96969\teval-rmse:0.11167\teval-r2:0.96921\n",
      "[588]\ttrain-rmse:0.11054\ttrain-r2:0.96971\teval-rmse:0.11163\teval-r2:0.96924\n",
      "[589]\ttrain-rmse:0.11050\ttrain-r2:0.96974\teval-rmse:0.11158\teval-r2:0.96926\n",
      "[590]\ttrain-rmse:0.11048\ttrain-r2:0.96975\teval-rmse:0.11156\teval-r2:0.96927\n",
      "[591]\ttrain-rmse:0.11046\ttrain-r2:0.96976\teval-rmse:0.11154\teval-r2:0.96928\n",
      "[592]\ttrain-rmse:0.11044\ttrain-r2:0.96977\teval-rmse:0.11153\teval-r2:0.96929\n",
      "[593]\ttrain-rmse:0.11039\ttrain-r2:0.96979\teval-rmse:0.11148\teval-r2:0.96932\n",
      "[594]\ttrain-rmse:0.11038\ttrain-r2:0.96980\teval-rmse:0.11147\teval-r2:0.96932\n",
      "[595]\ttrain-rmse:0.11032\ttrain-r2:0.96983\teval-rmse:0.11141\teval-r2:0.96936\n",
      "[596]\ttrain-rmse:0.11030\ttrain-r2:0.96984\teval-rmse:0.11139\teval-r2:0.96937\n",
      "[597]\ttrain-rmse:0.11027\ttrain-r2:0.96986\teval-rmse:0.11135\teval-r2:0.96939\n",
      "[598]\ttrain-rmse:0.11024\ttrain-r2:0.96988\teval-rmse:0.11132\teval-r2:0.96940\n",
      "[599]\ttrain-rmse:0.11018\ttrain-r2:0.96991\teval-rmse:0.11124\teval-r2:0.96945\n",
      "[600]\ttrain-rmse:0.11013\ttrain-r2:0.96994\teval-rmse:0.11119\teval-r2:0.96948\n",
      "[601]\ttrain-rmse:0.11010\ttrain-r2:0.96996\teval-rmse:0.11116\teval-r2:0.96949\n",
      "[602]\ttrain-rmse:0.11004\ttrain-r2:0.96999\teval-rmse:0.11110\teval-r2:0.96952\n",
      "[603]\ttrain-rmse:0.11001\ttrain-r2:0.97000\teval-rmse:0.11108\teval-r2:0.96954\n",
      "[604]\ttrain-rmse:0.10993\ttrain-r2:0.97005\teval-rmse:0.11101\teval-r2:0.96958\n",
      "[605]\ttrain-rmse:0.10991\ttrain-r2:0.97006\teval-rmse:0.11098\teval-r2:0.96959\n",
      "[606]\ttrain-rmse:0.10987\ttrain-r2:0.97008\teval-rmse:0.11095\teval-r2:0.96961\n",
      "[607]\ttrain-rmse:0.10984\ttrain-r2:0.97010\teval-rmse:0.11092\teval-r2:0.96962\n",
      "[608]\ttrain-rmse:0.10979\ttrain-r2:0.97012\teval-rmse:0.11088\teval-r2:0.96965\n",
      "[609]\ttrain-rmse:0.10974\ttrain-r2:0.97015\teval-rmse:0.11082\teval-r2:0.96968\n",
      "[610]\ttrain-rmse:0.10971\ttrain-r2:0.97017\teval-rmse:0.11079\teval-r2:0.96970\n",
      "[611]\ttrain-rmse:0.10964\ttrain-r2:0.97021\teval-rmse:0.11072\teval-r2:0.96973\n",
      "[612]\ttrain-rmse:0.10960\ttrain-r2:0.97023\teval-rmse:0.11069\teval-r2:0.96975\n",
      "[613]\ttrain-rmse:0.10956\ttrain-r2:0.97025\teval-rmse:0.11065\teval-r2:0.96977\n",
      "[614]\ttrain-rmse:0.10954\ttrain-r2:0.97026\teval-rmse:0.11063\teval-r2:0.96978\n",
      "[615]\ttrain-rmse:0.10952\ttrain-r2:0.97027\teval-rmse:0.11061\teval-r2:0.96979\n",
      "[616]\ttrain-rmse:0.10949\ttrain-r2:0.97028\teval-rmse:0.11059\teval-r2:0.96981\n",
      "[617]\ttrain-rmse:0.10945\ttrain-r2:0.97031\teval-rmse:0.11055\teval-r2:0.96983\n",
      "[618]\ttrain-rmse:0.10942\ttrain-r2:0.97032\teval-rmse:0.11052\teval-r2:0.96984\n",
      "[619]\ttrain-rmse:0.10939\ttrain-r2:0.97034\teval-rmse:0.11048\teval-r2:0.96986\n",
      "[620]\ttrain-rmse:0.10934\ttrain-r2:0.97037\teval-rmse:0.11044\teval-r2:0.96988\n",
      "[621]\ttrain-rmse:0.10929\ttrain-r2:0.97039\teval-rmse:0.11040\teval-r2:0.96991\n",
      "[622]\ttrain-rmse:0.10927\ttrain-r2:0.97041\teval-rmse:0.11037\teval-r2:0.96992\n",
      "[623]\ttrain-rmse:0.10924\ttrain-r2:0.97042\teval-rmse:0.11035\teval-r2:0.96994\n",
      "[624]\ttrain-rmse:0.10922\ttrain-r2:0.97043\teval-rmse:0.11033\teval-r2:0.96994\n",
      "[625]\ttrain-rmse:0.10917\ttrain-r2:0.97046\teval-rmse:0.11029\teval-r2:0.96997\n",
      "[626]\ttrain-rmse:0.10915\ttrain-r2:0.97047\teval-rmse:0.11026\teval-r2:0.96998\n",
      "[627]\ttrain-rmse:0.10909\ttrain-r2:0.97050\teval-rmse:0.11021\teval-r2:0.97001\n",
      "[628]\ttrain-rmse:0.10905\ttrain-r2:0.97052\teval-rmse:0.11017\teval-r2:0.97003\n",
      "[629]\ttrain-rmse:0.10902\ttrain-r2:0.97054\teval-rmse:0.11014\teval-r2:0.97005\n",
      "[630]\ttrain-rmse:0.10896\ttrain-r2:0.97057\teval-rmse:0.11009\teval-r2:0.97008\n",
      "[631]\ttrain-rmse:0.10886\ttrain-r2:0.97062\teval-rmse:0.11000\teval-r2:0.97013\n",
      "[632]\ttrain-rmse:0.10882\ttrain-r2:0.97065\teval-rmse:0.10995\teval-r2:0.97015\n",
      "[633]\ttrain-rmse:0.10878\ttrain-r2:0.97067\teval-rmse:0.10991\teval-r2:0.97017\n",
      "[634]\ttrain-rmse:0.10876\ttrain-r2:0.97068\teval-rmse:0.10990\teval-r2:0.97018\n",
      "[635]\ttrain-rmse:0.10870\ttrain-r2:0.97071\teval-rmse:0.10984\teval-r2:0.97021\n",
      "[636]\ttrain-rmse:0.10865\ttrain-r2:0.97074\teval-rmse:0.10979\teval-r2:0.97024\n",
      "[637]\ttrain-rmse:0.10860\ttrain-r2:0.97077\teval-rmse:0.10974\teval-r2:0.97027\n",
      "[638]\ttrain-rmse:0.10853\ttrain-r2:0.97081\teval-rmse:0.10967\teval-r2:0.97030\n",
      "[639]\ttrain-rmse:0.10850\ttrain-r2:0.97082\teval-rmse:0.10965\teval-r2:0.97032\n",
      "[640]\ttrain-rmse:0.10844\ttrain-r2:0.97085\teval-rmse:0.10959\teval-r2:0.97035\n",
      "[641]\ttrain-rmse:0.10842\ttrain-r2:0.97086\teval-rmse:0.10958\teval-r2:0.97036\n",
      "[642]\ttrain-rmse:0.10841\ttrain-r2:0.97087\teval-rmse:0.10956\teval-r2:0.97036\n",
      "[643]\ttrain-rmse:0.10838\ttrain-r2:0.97089\teval-rmse:0.10953\teval-r2:0.97038\n",
      "[644]\ttrain-rmse:0.10836\ttrain-r2:0.97090\teval-rmse:0.10952\teval-r2:0.97039\n",
      "[645]\ttrain-rmse:0.10833\ttrain-r2:0.97091\teval-rmse:0.10949\teval-r2:0.97040\n",
      "[646]\ttrain-rmse:0.10828\ttrain-r2:0.97094\teval-rmse:0.10944\teval-r2:0.97043\n",
      "[647]\ttrain-rmse:0.10824\ttrain-r2:0.97096\teval-rmse:0.10940\teval-r2:0.97045\n",
      "[648]\ttrain-rmse:0.10821\ttrain-r2:0.97098\teval-rmse:0.10937\teval-r2:0.97047\n",
      "[649]\ttrain-rmse:0.10818\ttrain-r2:0.97099\teval-rmse:0.10935\teval-r2:0.97048\n",
      "[650]\ttrain-rmse:0.10813\ttrain-r2:0.97102\teval-rmse:0.10930\teval-r2:0.97050\n",
      "[651]\ttrain-rmse:0.10810\ttrain-r2:0.97104\teval-rmse:0.10927\teval-r2:0.97052\n",
      "[652]\ttrain-rmse:0.10806\ttrain-r2:0.97106\teval-rmse:0.10923\teval-r2:0.97054\n",
      "[653]\ttrain-rmse:0.10803\ttrain-r2:0.97107\teval-rmse:0.10920\teval-r2:0.97056\n",
      "[654]\ttrain-rmse:0.10799\ttrain-r2:0.97109\teval-rmse:0.10916\teval-r2:0.97058\n",
      "[655]\ttrain-rmse:0.10793\ttrain-r2:0.97113\teval-rmse:0.10910\teval-r2:0.97061\n",
      "[656]\ttrain-rmse:0.10787\ttrain-r2:0.97116\teval-rmse:0.10904\teval-r2:0.97064\n",
      "[657]\ttrain-rmse:0.10781\ttrain-r2:0.97119\teval-rmse:0.10899\teval-r2:0.97067\n",
      "[658]\ttrain-rmse:0.10779\ttrain-r2:0.97120\teval-rmse:0.10897\teval-r2:0.97068\n",
      "[659]\ttrain-rmse:0.10775\ttrain-r2:0.97122\teval-rmse:0.10893\teval-r2:0.97070\n",
      "[660]\ttrain-rmse:0.10765\ttrain-r2:0.97127\teval-rmse:0.10884\teval-r2:0.97075\n",
      "[661]\ttrain-rmse:0.10760\ttrain-r2:0.97130\teval-rmse:0.10875\teval-r2:0.97080\n",
      "[662]\ttrain-rmse:0.10757\ttrain-r2:0.97132\teval-rmse:0.10872\teval-r2:0.97081\n",
      "[663]\ttrain-rmse:0.10753\ttrain-r2:0.97134\teval-rmse:0.10869\teval-r2:0.97083\n",
      "[664]\ttrain-rmse:0.10751\ttrain-r2:0.97135\teval-rmse:0.10867\teval-r2:0.97084\n",
      "[665]\ttrain-rmse:0.10747\ttrain-r2:0.97137\teval-rmse:0.10863\teval-r2:0.97086\n",
      "[666]\ttrain-rmse:0.10740\ttrain-r2:0.97141\teval-rmse:0.10857\teval-r2:0.97090\n",
      "[667]\ttrain-rmse:0.10735\ttrain-r2:0.97144\teval-rmse:0.10852\teval-r2:0.97092\n",
      "[668]\ttrain-rmse:0.10729\ttrain-r2:0.97147\teval-rmse:0.10846\teval-r2:0.97096\n",
      "[669]\ttrain-rmse:0.10726\ttrain-r2:0.97148\teval-rmse:0.10844\teval-r2:0.97097\n",
      "[670]\ttrain-rmse:0.10720\ttrain-r2:0.97152\teval-rmse:0.10837\teval-r2:0.97100\n",
      "[671]\ttrain-rmse:0.10715\ttrain-r2:0.97154\teval-rmse:0.10833\teval-r2:0.97102\n",
      "[672]\ttrain-rmse:0.10712\ttrain-r2:0.97156\teval-rmse:0.10830\teval-r2:0.97104\n",
      "[673]\ttrain-rmse:0.10709\ttrain-r2:0.97158\teval-rmse:0.10827\teval-r2:0.97106\n",
      "[674]\ttrain-rmse:0.10704\ttrain-r2:0.97160\teval-rmse:0.10822\teval-r2:0.97108\n",
      "[675]\ttrain-rmse:0.10702\ttrain-r2:0.97161\teval-rmse:0.10820\teval-r2:0.97109\n",
      "[676]\ttrain-rmse:0.10696\ttrain-r2:0.97164\teval-rmse:0.10816\teval-r2:0.97112\n",
      "[677]\ttrain-rmse:0.10692\ttrain-r2:0.97166\teval-rmse:0.10812\teval-r2:0.97114\n",
      "[678]\ttrain-rmse:0.10691\ttrain-r2:0.97167\teval-rmse:0.10811\teval-r2:0.97114\n",
      "[679]\ttrain-rmse:0.10686\ttrain-r2:0.97169\teval-rmse:0.10807\teval-r2:0.97117\n",
      "[680]\ttrain-rmse:0.10683\ttrain-r2:0.97171\teval-rmse:0.10803\teval-r2:0.97118\n",
      "[681]\ttrain-rmse:0.10678\ttrain-r2:0.97174\teval-rmse:0.10799\teval-r2:0.97121\n",
      "[682]\ttrain-rmse:0.10677\ttrain-r2:0.97175\teval-rmse:0.10797\teval-r2:0.97122\n",
      "[683]\ttrain-rmse:0.10670\ttrain-r2:0.97178\teval-rmse:0.10791\teval-r2:0.97125\n",
      "[684]\ttrain-rmse:0.10667\ttrain-r2:0.97180\teval-rmse:0.10788\teval-r2:0.97127\n",
      "[685]\ttrain-rmse:0.10666\ttrain-r2:0.97180\teval-rmse:0.10787\teval-r2:0.97127\n",
      "[686]\ttrain-rmse:0.10664\ttrain-r2:0.97181\teval-rmse:0.10786\teval-r2:0.97128\n",
      "[687]\ttrain-rmse:0.10662\ttrain-r2:0.97182\teval-rmse:0.10784\teval-r2:0.97129\n",
      "[688]\ttrain-rmse:0.10661\ttrain-r2:0.97183\teval-rmse:0.10783\teval-r2:0.97129\n",
      "[689]\ttrain-rmse:0.10657\ttrain-r2:0.97185\teval-rmse:0.10779\teval-r2:0.97131\n",
      "[690]\ttrain-rmse:0.10656\ttrain-r2:0.97186\teval-rmse:0.10778\teval-r2:0.97132\n",
      "[691]\ttrain-rmse:0.10653\ttrain-r2:0.97187\teval-rmse:0.10775\teval-r2:0.97133\n",
      "[692]\ttrain-rmse:0.10650\ttrain-r2:0.97189\teval-rmse:0.10772\teval-r2:0.97135\n",
      "[693]\ttrain-rmse:0.10646\ttrain-r2:0.97191\teval-rmse:0.10769\teval-r2:0.97137\n",
      "[694]\ttrain-rmse:0.10641\ttrain-r2:0.97193\teval-rmse:0.10764\teval-r2:0.97139\n",
      "[695]\ttrain-rmse:0.10638\ttrain-r2:0.97195\teval-rmse:0.10761\teval-r2:0.97141\n",
      "[696]\ttrain-rmse:0.10636\ttrain-r2:0.97196\teval-rmse:0.10760\teval-r2:0.97142\n",
      "[697]\ttrain-rmse:0.10635\ttrain-r2:0.97197\teval-rmse:0.10758\teval-r2:0.97142\n",
      "[698]\ttrain-rmse:0.10632\ttrain-r2:0.97198\teval-rmse:0.10755\teval-r2:0.97144\n",
      "[699]\ttrain-rmse:0.10625\ttrain-r2:0.97202\teval-rmse:0.10749\teval-r2:0.97147\n",
      "[700]\ttrain-rmse:0.10620\ttrain-r2:0.97205\teval-rmse:0.10744\teval-r2:0.97150\n",
      "[701]\ttrain-rmse:0.10616\ttrain-r2:0.97206\teval-rmse:0.10741\teval-r2:0.97152\n",
      "[702]\ttrain-rmse:0.10614\ttrain-r2:0.97208\teval-rmse:0.10738\teval-r2:0.97153\n",
      "[703]\ttrain-rmse:0.10612\ttrain-r2:0.97209\teval-rmse:0.10736\teval-r2:0.97154\n",
      "[704]\ttrain-rmse:0.10610\ttrain-r2:0.97210\teval-rmse:0.10735\teval-r2:0.97155\n",
      "[705]\ttrain-rmse:0.10609\ttrain-r2:0.97211\teval-rmse:0.10733\teval-r2:0.97156\n",
      "[706]\ttrain-rmse:0.10607\ttrain-r2:0.97211\teval-rmse:0.10732\teval-r2:0.97156\n",
      "[707]\ttrain-rmse:0.10605\ttrain-r2:0.97213\teval-rmse:0.10730\teval-r2:0.97158\n",
      "[708]\ttrain-rmse:0.10602\ttrain-r2:0.97214\teval-rmse:0.10728\teval-r2:0.97159\n",
      "[709]\ttrain-rmse:0.10599\ttrain-r2:0.97215\teval-rmse:0.10725\teval-r2:0.97160\n",
      "[710]\ttrain-rmse:0.10597\ttrain-r2:0.97217\teval-rmse:0.10723\teval-r2:0.97161\n",
      "[711]\ttrain-rmse:0.10591\ttrain-r2:0.97220\teval-rmse:0.10718\teval-r2:0.97164\n",
      "[712]\ttrain-rmse:0.10586\ttrain-r2:0.97223\teval-rmse:0.10713\teval-r2:0.97167\n",
      "[713]\ttrain-rmse:0.10583\ttrain-r2:0.97224\teval-rmse:0.10710\teval-r2:0.97168\n",
      "[714]\ttrain-rmse:0.10577\ttrain-r2:0.97227\teval-rmse:0.10706\teval-r2:0.97170\n",
      "[715]\ttrain-rmse:0.10576\ttrain-r2:0.97228\teval-rmse:0.10705\teval-r2:0.97171\n",
      "[716]\ttrain-rmse:0.10573\ttrain-r2:0.97229\teval-rmse:0.10702\teval-r2:0.97172\n",
      "[717]\ttrain-rmse:0.10571\ttrain-r2:0.97230\teval-rmse:0.10700\teval-r2:0.97173\n",
      "[718]\ttrain-rmse:0.10566\ttrain-r2:0.97233\teval-rmse:0.10694\teval-r2:0.97177\n",
      "[719]\ttrain-rmse:0.10565\ttrain-r2:0.97234\teval-rmse:0.10691\teval-r2:0.97178\n",
      "[720]\ttrain-rmse:0.10561\ttrain-r2:0.97235\teval-rmse:0.10688\teval-r2:0.97180\n",
      "[721]\ttrain-rmse:0.10557\ttrain-r2:0.97238\teval-rmse:0.10684\teval-r2:0.97182\n",
      "[722]\ttrain-rmse:0.10553\ttrain-r2:0.97240\teval-rmse:0.10680\teval-r2:0.97184\n",
      "[723]\ttrain-rmse:0.10551\ttrain-r2:0.97241\teval-rmse:0.10678\teval-r2:0.97185\n",
      "[724]\ttrain-rmse:0.10548\ttrain-r2:0.97242\teval-rmse:0.10675\teval-r2:0.97186\n",
      "[725]\ttrain-rmse:0.10547\ttrain-r2:0.97243\teval-rmse:0.10674\teval-r2:0.97187\n",
      "[726]\ttrain-rmse:0.10540\ttrain-r2:0.97247\teval-rmse:0.10668\teval-r2:0.97190\n",
      "[727]\ttrain-rmse:0.10539\ttrain-r2:0.97247\teval-rmse:0.10667\teval-r2:0.97191\n",
      "[728]\ttrain-rmse:0.10537\ttrain-r2:0.97248\teval-rmse:0.10665\teval-r2:0.97192\n",
      "[729]\ttrain-rmse:0.10535\ttrain-r2:0.97249\teval-rmse:0.10663\teval-r2:0.97193\n",
      "[730]\ttrain-rmse:0.10532\ttrain-r2:0.97251\teval-rmse:0.10661\teval-r2:0.97194\n",
      "[731]\ttrain-rmse:0.10530\ttrain-r2:0.97252\teval-rmse:0.10659\teval-r2:0.97195\n",
      "[732]\ttrain-rmse:0.10527\ttrain-r2:0.97253\teval-rmse:0.10656\teval-r2:0.97196\n",
      "[733]\ttrain-rmse:0.10524\ttrain-r2:0.97255\teval-rmse:0.10653\teval-r2:0.97198\n",
      "[734]\ttrain-rmse:0.10522\ttrain-r2:0.97256\teval-rmse:0.10651\teval-r2:0.97199\n",
      "[735]\ttrain-rmse:0.10518\ttrain-r2:0.97258\teval-rmse:0.10645\teval-r2:0.97202\n",
      "[736]\ttrain-rmse:0.10514\ttrain-r2:0.97260\teval-rmse:0.10641\teval-r2:0.97205\n",
      "[737]\ttrain-rmse:0.10508\ttrain-r2:0.97263\teval-rmse:0.10635\teval-r2:0.97207\n",
      "[738]\ttrain-rmse:0.10506\ttrain-r2:0.97264\teval-rmse:0.10634\teval-r2:0.97208\n",
      "[739]\ttrain-rmse:0.10501\ttrain-r2:0.97267\teval-rmse:0.10630\teval-r2:0.97210\n",
      "[740]\ttrain-rmse:0.10499\ttrain-r2:0.97268\teval-rmse:0.10628\teval-r2:0.97211\n",
      "[741]\ttrain-rmse:0.10495\ttrain-r2:0.97270\teval-rmse:0.10623\teval-r2:0.97214\n",
      "[742]\ttrain-rmse:0.10489\ttrain-r2:0.97273\teval-rmse:0.10618\teval-r2:0.97216\n",
      "[743]\ttrain-rmse:0.10487\ttrain-r2:0.97274\teval-rmse:0.10616\teval-r2:0.97218\n",
      "[744]\ttrain-rmse:0.10482\ttrain-r2:0.97277\teval-rmse:0.10612\teval-r2:0.97220\n",
      "[745]\ttrain-rmse:0.10477\ttrain-r2:0.97279\teval-rmse:0.10606\teval-r2:0.97223\n",
      "[746]\ttrain-rmse:0.10472\ttrain-r2:0.97282\teval-rmse:0.10602\teval-r2:0.97225\n",
      "[747]\ttrain-rmse:0.10468\ttrain-r2:0.97284\teval-rmse:0.10599\teval-r2:0.97227\n",
      "[748]\ttrain-rmse:0.10464\ttrain-r2:0.97286\teval-rmse:0.10595\teval-r2:0.97229\n",
      "[749]\ttrain-rmse:0.10462\ttrain-r2:0.97287\teval-rmse:0.10593\teval-r2:0.97229\n",
      "[750]\ttrain-rmse:0.10459\ttrain-r2:0.97289\teval-rmse:0.10590\teval-r2:0.97231\n",
      "[751]\ttrain-rmse:0.10455\ttrain-r2:0.97291\teval-rmse:0.10586\teval-r2:0.97233\n",
      "[752]\ttrain-rmse:0.10448\ttrain-r2:0.97294\teval-rmse:0.10580\teval-r2:0.97237\n",
      "[753]\ttrain-rmse:0.10447\ttrain-r2:0.97295\teval-rmse:0.10578\teval-r2:0.97237\n",
      "[754]\ttrain-rmse:0.10443\ttrain-r2:0.97297\teval-rmse:0.10576\teval-r2:0.97239\n",
      "[755]\ttrain-rmse:0.10441\ttrain-r2:0.97298\teval-rmse:0.10574\teval-r2:0.97240\n",
      "[756]\ttrain-rmse:0.10438\ttrain-r2:0.97299\teval-rmse:0.10571\teval-r2:0.97241\n",
      "[757]\ttrain-rmse:0.10436\ttrain-r2:0.97300\teval-rmse:0.10569\teval-r2:0.97242\n",
      "[758]\ttrain-rmse:0.10430\ttrain-r2:0.97304\teval-rmse:0.10563\teval-r2:0.97245\n",
      "[759]\ttrain-rmse:0.10428\ttrain-r2:0.97305\teval-rmse:0.10561\teval-r2:0.97246\n",
      "[760]\ttrain-rmse:0.10424\ttrain-r2:0.97306\teval-rmse:0.10558\teval-r2:0.97248\n",
      "[761]\ttrain-rmse:0.10421\ttrain-r2:0.97308\teval-rmse:0.10555\teval-r2:0.97250\n",
      "[762]\ttrain-rmse:0.10417\ttrain-r2:0.97310\teval-rmse:0.10550\teval-r2:0.97252\n",
      "[763]\ttrain-rmse:0.10414\ttrain-r2:0.97312\teval-rmse:0.10548\teval-r2:0.97253\n",
      "[764]\ttrain-rmse:0.10409\ttrain-r2:0.97315\teval-rmse:0.10543\teval-r2:0.97256\n",
      "[765]\ttrain-rmse:0.10407\ttrain-r2:0.97315\teval-rmse:0.10541\teval-r2:0.97257\n",
      "[766]\ttrain-rmse:0.10404\ttrain-r2:0.97317\teval-rmse:0.10539\teval-r2:0.97258\n",
      "[767]\ttrain-rmse:0.10402\ttrain-r2:0.97318\teval-rmse:0.10536\teval-r2:0.97259\n",
      "[768]\ttrain-rmse:0.10398\ttrain-r2:0.97320\teval-rmse:0.10533\teval-r2:0.97261\n",
      "[769]\ttrain-rmse:0.10394\ttrain-r2:0.97322\teval-rmse:0.10528\teval-r2:0.97263\n",
      "[770]\ttrain-rmse:0.10393\ttrain-r2:0.97323\teval-rmse:0.10527\teval-r2:0.97264\n",
      "[771]\ttrain-rmse:0.10388\ttrain-r2:0.97325\teval-rmse:0.10523\teval-r2:0.97266\n",
      "[772]\ttrain-rmse:0.10385\ttrain-r2:0.97327\teval-rmse:0.10520\teval-r2:0.97267\n",
      "[773]\ttrain-rmse:0.10384\ttrain-r2:0.97328\teval-rmse:0.10519\teval-r2:0.97268\n",
      "[774]\ttrain-rmse:0.10382\ttrain-r2:0.97328\teval-rmse:0.10518\teval-r2:0.97269\n",
      "[775]\ttrain-rmse:0.10375\ttrain-r2:0.97332\teval-rmse:0.10511\teval-r2:0.97272\n",
      "[776]\ttrain-rmse:0.10370\ttrain-r2:0.97334\teval-rmse:0.10506\teval-r2:0.97275\n",
      "[777]\ttrain-rmse:0.10367\ttrain-r2:0.97336\teval-rmse:0.10503\teval-r2:0.97276\n",
      "[778]\ttrain-rmse:0.10364\ttrain-r2:0.97337\teval-rmse:0.10501\teval-r2:0.97278\n",
      "[779]\ttrain-rmse:0.10362\ttrain-r2:0.97338\teval-rmse:0.10498\teval-r2:0.97279\n",
      "[780]\ttrain-rmse:0.10361\ttrain-r2:0.97339\teval-rmse:0.10497\teval-r2:0.97280\n",
      "[781]\ttrain-rmse:0.10352\ttrain-r2:0.97344\teval-rmse:0.10488\teval-r2:0.97284\n",
      "[782]\ttrain-rmse:0.10348\ttrain-r2:0.97346\teval-rmse:0.10485\teval-r2:0.97286\n",
      "[783]\ttrain-rmse:0.10342\ttrain-r2:0.97349\teval-rmse:0.10478\teval-r2:0.97289\n",
      "[784]\ttrain-rmse:0.10340\ttrain-r2:0.97350\teval-rmse:0.10477\teval-r2:0.97290\n",
      "[785]\ttrain-rmse:0.10337\ttrain-r2:0.97351\teval-rmse:0.10474\teval-r2:0.97291\n",
      "[786]\ttrain-rmse:0.10336\ttrain-r2:0.97352\teval-rmse:0.10473\teval-r2:0.97292\n",
      "[787]\ttrain-rmse:0.10333\ttrain-r2:0.97354\teval-rmse:0.10470\teval-r2:0.97293\n",
      "[788]\ttrain-rmse:0.10332\ttrain-r2:0.97354\teval-rmse:0.10469\teval-r2:0.97294\n",
      "[789]\ttrain-rmse:0.10329\ttrain-r2:0.97356\teval-rmse:0.10466\teval-r2:0.97296\n",
      "[790]\ttrain-rmse:0.10325\ttrain-r2:0.97357\teval-rmse:0.10463\teval-r2:0.97297\n",
      "[791]\ttrain-rmse:0.10322\ttrain-r2:0.97359\teval-rmse:0.10459\teval-r2:0.97299\n",
      "[792]\ttrain-rmse:0.10318\ttrain-r2:0.97361\teval-rmse:0.10455\teval-r2:0.97301\n",
      "[793]\ttrain-rmse:0.10314\ttrain-r2:0.97363\teval-rmse:0.10452\teval-r2:0.97303\n",
      "[794]\ttrain-rmse:0.10311\ttrain-r2:0.97365\teval-rmse:0.10449\teval-r2:0.97304\n",
      "[795]\ttrain-rmse:0.10309\ttrain-r2:0.97366\teval-rmse:0.10447\teval-r2:0.97305\n",
      "[796]\ttrain-rmse:0.10306\ttrain-r2:0.97367\teval-rmse:0.10444\teval-r2:0.97307\n",
      "[797]\ttrain-rmse:0.10305\ttrain-r2:0.97368\teval-rmse:0.10443\teval-r2:0.97307\n",
      "[798]\ttrain-rmse:0.10302\ttrain-r2:0.97370\teval-rmse:0.10440\teval-r2:0.97309\n",
      "[799]\ttrain-rmse:0.10299\ttrain-r2:0.97371\teval-rmse:0.10438\teval-r2:0.97310\n",
      "[800]\ttrain-rmse:0.10298\ttrain-r2:0.97371\teval-rmse:0.10437\teval-r2:0.97311\n",
      "[801]\ttrain-rmse:0.10297\ttrain-r2:0.97372\teval-rmse:0.10436\teval-r2:0.97311\n",
      "[802]\ttrain-rmse:0.10293\ttrain-r2:0.97374\teval-rmse:0.10432\teval-r2:0.97313\n",
      "[803]\ttrain-rmse:0.10290\ttrain-r2:0.97376\teval-rmse:0.10429\teval-r2:0.97315\n",
      "[804]\ttrain-rmse:0.10288\ttrain-r2:0.97377\teval-rmse:0.10427\teval-r2:0.97316\n",
      "[805]\ttrain-rmse:0.10285\ttrain-r2:0.97378\teval-rmse:0.10425\teval-r2:0.97317\n",
      "[806]\ttrain-rmse:0.10283\ttrain-r2:0.97379\teval-rmse:0.10423\teval-r2:0.97318\n",
      "[807]\ttrain-rmse:0.10281\ttrain-r2:0.97380\teval-rmse:0.10421\teval-r2:0.97319\n",
      "[808]\ttrain-rmse:0.10279\ttrain-r2:0.97381\teval-rmse:0.10418\teval-r2:0.97320\n",
      "[809]\ttrain-rmse:0.10277\ttrain-r2:0.97382\teval-rmse:0.10417\teval-r2:0.97321\n",
      "[810]\ttrain-rmse:0.10275\ttrain-r2:0.97383\teval-rmse:0.10415\teval-r2:0.97322\n",
      "[811]\ttrain-rmse:0.10272\ttrain-r2:0.97385\teval-rmse:0.10413\teval-r2:0.97323\n",
      "[812]\ttrain-rmse:0.10269\ttrain-r2:0.97386\teval-rmse:0.10409\teval-r2:0.97325\n",
      "[813]\ttrain-rmse:0.10267\ttrain-r2:0.97387\teval-rmse:0.10408\teval-r2:0.97325\n",
      "[814]\ttrain-rmse:0.10265\ttrain-r2:0.97388\teval-rmse:0.10406\teval-r2:0.97327\n",
      "[815]\ttrain-rmse:0.10261\ttrain-r2:0.97390\teval-rmse:0.10402\teval-r2:0.97328\n",
      "[816]\ttrain-rmse:0.10258\ttrain-r2:0.97392\teval-rmse:0.10399\teval-r2:0.97330\n",
      "[817]\ttrain-rmse:0.10253\ttrain-r2:0.97394\teval-rmse:0.10394\teval-r2:0.97332\n",
      "[818]\ttrain-rmse:0.10251\ttrain-r2:0.97395\teval-rmse:0.10393\teval-r2:0.97333\n",
      "[819]\ttrain-rmse:0.10249\ttrain-r2:0.97396\teval-rmse:0.10391\teval-r2:0.97335\n",
      "[820]\ttrain-rmse:0.10247\ttrain-r2:0.97398\teval-rmse:0.10389\teval-r2:0.97335\n",
      "[821]\ttrain-rmse:0.10246\ttrain-r2:0.97398\teval-rmse:0.10388\teval-r2:0.97336\n",
      "[822]\ttrain-rmse:0.10243\ttrain-r2:0.97399\teval-rmse:0.10385\teval-r2:0.97337\n",
      "[823]\ttrain-rmse:0.10242\ttrain-r2:0.97400\teval-rmse:0.10384\teval-r2:0.97338\n",
      "[824]\ttrain-rmse:0.10240\ttrain-r2:0.97401\teval-rmse:0.10382\teval-r2:0.97339\n",
      "[825]\ttrain-rmse:0.10237\ttrain-r2:0.97403\teval-rmse:0.10378\teval-r2:0.97341\n",
      "[826]\ttrain-rmse:0.10235\ttrain-r2:0.97403\teval-rmse:0.10376\teval-r2:0.97342\n",
      "[827]\ttrain-rmse:0.10231\ttrain-r2:0.97405\teval-rmse:0.10372\teval-r2:0.97344\n",
      "[828]\ttrain-rmse:0.10229\ttrain-r2:0.97407\teval-rmse:0.10369\teval-r2:0.97345\n",
      "[829]\ttrain-rmse:0.10223\ttrain-r2:0.97409\teval-rmse:0.10364\teval-r2:0.97348\n",
      "[830]\ttrain-rmse:0.10221\ttrain-r2:0.97410\teval-rmse:0.10363\teval-r2:0.97349\n",
      "[831]\ttrain-rmse:0.10218\ttrain-r2:0.97412\teval-rmse:0.10359\teval-r2:0.97350\n",
      "[832]\ttrain-rmse:0.10215\ttrain-r2:0.97413\teval-rmse:0.10357\teval-r2:0.97352\n",
      "[833]\ttrain-rmse:0.10214\ttrain-r2:0.97414\teval-rmse:0.10355\teval-r2:0.97353\n",
      "[834]\ttrain-rmse:0.10212\ttrain-r2:0.97415\teval-rmse:0.10354\teval-r2:0.97353\n",
      "[835]\ttrain-rmse:0.10210\ttrain-r2:0.97416\teval-rmse:0.10352\teval-r2:0.97354\n",
      "[836]\ttrain-rmse:0.10205\ttrain-r2:0.97418\teval-rmse:0.10347\teval-r2:0.97357\n",
      "[837]\ttrain-rmse:0.10204\ttrain-r2:0.97419\teval-rmse:0.10346\teval-r2:0.97357\n",
      "[838]\ttrain-rmse:0.10200\ttrain-r2:0.97422\teval-rmse:0.10342\teval-r2:0.97359\n",
      "[839]\ttrain-rmse:0.10196\ttrain-r2:0.97423\teval-rmse:0.10338\teval-r2:0.97361\n",
      "[840]\ttrain-rmse:0.10195\ttrain-r2:0.97424\teval-rmse:0.10337\teval-r2:0.97362\n",
      "[841]\ttrain-rmse:0.10192\ttrain-r2:0.97425\teval-rmse:0.10335\teval-r2:0.97363\n",
      "[842]\ttrain-rmse:0.10190\ttrain-r2:0.97426\teval-rmse:0.10333\teval-r2:0.97364\n",
      "[843]\ttrain-rmse:0.10189\ttrain-r2:0.97427\teval-rmse:0.10332\teval-r2:0.97364\n",
      "[844]\ttrain-rmse:0.10186\ttrain-r2:0.97428\teval-rmse:0.10330\teval-r2:0.97365\n",
      "[845]\ttrain-rmse:0.10184\ttrain-r2:0.97429\teval-rmse:0.10328\teval-r2:0.97367\n",
      "[846]\ttrain-rmse:0.10181\ttrain-r2:0.97431\teval-rmse:0.10325\teval-r2:0.97368\n",
      "[847]\ttrain-rmse:0.10180\ttrain-r2:0.97431\teval-rmse:0.10324\teval-r2:0.97369\n",
      "[848]\ttrain-rmse:0.10177\ttrain-r2:0.97433\teval-rmse:0.10322\teval-r2:0.97370\n",
      "[849]\ttrain-rmse:0.10175\ttrain-r2:0.97434\teval-rmse:0.10319\teval-r2:0.97371\n",
      "[850]\ttrain-rmse:0.10173\ttrain-r2:0.97435\teval-rmse:0.10318\teval-r2:0.97372\n",
      "[851]\ttrain-rmse:0.10172\ttrain-r2:0.97435\teval-rmse:0.10317\teval-r2:0.97372\n",
      "[852]\ttrain-rmse:0.10171\ttrain-r2:0.97436\teval-rmse:0.10315\teval-r2:0.97373\n",
      "[853]\ttrain-rmse:0.10170\ttrain-r2:0.97437\teval-rmse:0.10315\teval-r2:0.97373\n",
      "[854]\ttrain-rmse:0.10167\ttrain-r2:0.97438\teval-rmse:0.10313\teval-r2:0.97374\n",
      "[855]\ttrain-rmse:0.10166\ttrain-r2:0.97439\teval-rmse:0.10311\teval-r2:0.97375\n",
      "[856]\ttrain-rmse:0.10161\ttrain-r2:0.97441\teval-rmse:0.10307\teval-r2:0.97377\n",
      "[857]\ttrain-rmse:0.10160\ttrain-r2:0.97442\teval-rmse:0.10305\teval-r2:0.97378\n",
      "[858]\ttrain-rmse:0.10158\ttrain-r2:0.97443\teval-rmse:0.10304\teval-r2:0.97379\n",
      "[859]\ttrain-rmse:0.10155\ttrain-r2:0.97444\teval-rmse:0.10301\teval-r2:0.97380\n",
      "[860]\ttrain-rmse:0.10153\ttrain-r2:0.97445\teval-rmse:0.10299\teval-r2:0.97381\n",
      "[861]\ttrain-rmse:0.10151\ttrain-r2:0.97446\teval-rmse:0.10297\teval-r2:0.97382\n",
      "[862]\ttrain-rmse:0.10149\ttrain-r2:0.97447\teval-rmse:0.10296\teval-r2:0.97383\n",
      "[863]\ttrain-rmse:0.10146\ttrain-r2:0.97448\teval-rmse:0.10293\teval-r2:0.97384\n",
      "[864]\ttrain-rmse:0.10142\ttrain-r2:0.97450\teval-rmse:0.10290\teval-r2:0.97386\n",
      "[865]\ttrain-rmse:0.10141\ttrain-r2:0.97451\teval-rmse:0.10289\teval-r2:0.97386\n",
      "[866]\ttrain-rmse:0.10139\ttrain-r2:0.97452\teval-rmse:0.10287\teval-r2:0.97387\n",
      "[867]\ttrain-rmse:0.10136\ttrain-r2:0.97454\teval-rmse:0.10284\teval-r2:0.97389\n",
      "[868]\ttrain-rmse:0.10133\ttrain-r2:0.97455\teval-rmse:0.10282\teval-r2:0.97390\n",
      "[869]\ttrain-rmse:0.10131\ttrain-r2:0.97456\teval-rmse:0.10280\teval-r2:0.97391\n",
      "[870]\ttrain-rmse:0.10129\ttrain-r2:0.97457\teval-rmse:0.10278\teval-r2:0.97392\n",
      "[871]\ttrain-rmse:0.10128\ttrain-r2:0.97457\teval-rmse:0.10277\teval-r2:0.97392\n",
      "[872]\ttrain-rmse:0.10127\ttrain-r2:0.97458\teval-rmse:0.10276\teval-r2:0.97393\n",
      "[873]\ttrain-rmse:0.10121\ttrain-r2:0.97461\teval-rmse:0.10271\teval-r2:0.97396\n",
      "[874]\ttrain-rmse:0.10119\ttrain-r2:0.97462\teval-rmse:0.10269\teval-r2:0.97397\n",
      "[875]\ttrain-rmse:0.10115\ttrain-r2:0.97464\teval-rmse:0.10265\teval-r2:0.97398\n",
      "[876]\ttrain-rmse:0.10112\ttrain-r2:0.97466\teval-rmse:0.10262\teval-r2:0.97400\n",
      "[877]\ttrain-rmse:0.10110\ttrain-r2:0.97466\teval-rmse:0.10261\teval-r2:0.97401\n",
      "[878]\ttrain-rmse:0.10107\ttrain-r2:0.97468\teval-rmse:0.10257\teval-r2:0.97402\n",
      "[879]\ttrain-rmse:0.10105\ttrain-r2:0.97469\teval-rmse:0.10255\teval-r2:0.97403\n",
      "[880]\ttrain-rmse:0.10101\ttrain-r2:0.97471\teval-rmse:0.10252\teval-r2:0.97405\n",
      "[881]\ttrain-rmse:0.10096\ttrain-r2:0.97474\teval-rmse:0.10247\teval-r2:0.97408\n",
      "[882]\ttrain-rmse:0.10094\ttrain-r2:0.97474\teval-rmse:0.10245\teval-r2:0.97408\n",
      "[883]\ttrain-rmse:0.10092\ttrain-r2:0.97476\teval-rmse:0.10244\teval-r2:0.97409\n",
      "[884]\ttrain-rmse:0.10088\ttrain-r2:0.97478\teval-rmse:0.10240\teval-r2:0.97411\n",
      "[885]\ttrain-rmse:0.10084\ttrain-r2:0.97480\teval-rmse:0.10236\teval-r2:0.97413\n",
      "[886]\ttrain-rmse:0.10080\ttrain-r2:0.97481\teval-rmse:0.10233\teval-r2:0.97415\n",
      "[887]\ttrain-rmse:0.10079\ttrain-r2:0.97482\teval-rmse:0.10231\teval-r2:0.97415\n",
      "[888]\ttrain-rmse:0.10077\ttrain-r2:0.97483\teval-rmse:0.10229\teval-r2:0.97417\n",
      "[889]\ttrain-rmse:0.10073\ttrain-r2:0.97485\teval-rmse:0.10225\teval-r2:0.97419\n",
      "[890]\ttrain-rmse:0.10070\ttrain-r2:0.97487\teval-rmse:0.10223\teval-r2:0.97420\n",
      "[891]\ttrain-rmse:0.10066\ttrain-r2:0.97488\teval-rmse:0.10219\teval-r2:0.97422\n",
      "[892]\ttrain-rmse:0.10065\ttrain-r2:0.97489\teval-rmse:0.10218\teval-r2:0.97422\n",
      "[893]\ttrain-rmse:0.10062\ttrain-r2:0.97490\teval-rmse:0.10216\teval-r2:0.97423\n",
      "[894]\ttrain-rmse:0.10059\ttrain-r2:0.97492\teval-rmse:0.10213\teval-r2:0.97425\n",
      "[895]\ttrain-rmse:0.10058\ttrain-r2:0.97493\teval-rmse:0.10212\teval-r2:0.97425\n",
      "[896]\ttrain-rmse:0.10058\ttrain-r2:0.97493\teval-rmse:0.10211\teval-r2:0.97426\n",
      "[897]\ttrain-rmse:0.10056\ttrain-r2:0.97494\teval-rmse:0.10209\teval-r2:0.97427\n",
      "[898]\ttrain-rmse:0.10055\ttrain-r2:0.97494\teval-rmse:0.10209\teval-r2:0.97427\n",
      "[899]\ttrain-rmse:0.10053\ttrain-r2:0.97495\teval-rmse:0.10206\teval-r2:0.97428\n",
      "[900]\ttrain-rmse:0.10048\ttrain-r2:0.97498\teval-rmse:0.10202\teval-r2:0.97430\n",
      "[901]\ttrain-rmse:0.10047\ttrain-r2:0.97498\teval-rmse:0.10201\teval-r2:0.97431\n",
      "[902]\ttrain-rmse:0.10045\ttrain-r2:0.97499\teval-rmse:0.10200\teval-r2:0.97432\n",
      "[903]\ttrain-rmse:0.10043\ttrain-r2:0.97500\teval-rmse:0.10197\teval-r2:0.97433\n",
      "[904]\ttrain-rmse:0.10040\ttrain-r2:0.97501\teval-rmse:0.10195\teval-r2:0.97434\n",
      "[905]\ttrain-rmse:0.10038\ttrain-r2:0.97503\teval-rmse:0.10193\teval-r2:0.97435\n",
      "[906]\ttrain-rmse:0.10035\ttrain-r2:0.97504\teval-rmse:0.10190\teval-r2:0.97436\n",
      "[907]\ttrain-rmse:0.10032\ttrain-r2:0.97505\teval-rmse:0.10187\teval-r2:0.97438\n",
      "[908]\ttrain-rmse:0.10030\ttrain-r2:0.97507\teval-rmse:0.10185\teval-r2:0.97439\n",
      "[909]\ttrain-rmse:0.10029\ttrain-r2:0.97507\teval-rmse:0.10184\teval-r2:0.97439\n",
      "[910]\ttrain-rmse:0.10024\ttrain-r2:0.97509\teval-rmse:0.10181\teval-r2:0.97441\n",
      "[911]\ttrain-rmse:0.10020\ttrain-r2:0.97512\teval-rmse:0.10177\teval-r2:0.97443\n",
      "[912]\ttrain-rmse:0.10018\ttrain-r2:0.97513\teval-rmse:0.10175\teval-r2:0.97444\n",
      "[913]\ttrain-rmse:0.10017\ttrain-r2:0.97513\teval-rmse:0.10174\teval-r2:0.97444\n",
      "[914]\ttrain-rmse:0.10015\ttrain-r2:0.97514\teval-rmse:0.10172\teval-r2:0.97445\n",
      "[915]\ttrain-rmse:0.10011\ttrain-r2:0.97516\teval-rmse:0.10169\teval-r2:0.97447\n",
      "[916]\ttrain-rmse:0.10010\ttrain-r2:0.97516\teval-rmse:0.10168\teval-r2:0.97447\n",
      "[917]\ttrain-rmse:0.10008\ttrain-r2:0.97518\teval-rmse:0.10165\teval-r2:0.97449\n",
      "[918]\ttrain-rmse:0.10006\ttrain-r2:0.97518\teval-rmse:0.10164\teval-r2:0.97449\n",
      "[919]\ttrain-rmse:0.10004\ttrain-r2:0.97520\teval-rmse:0.10162\teval-r2:0.97451\n",
      "[920]\ttrain-rmse:0.10002\ttrain-r2:0.97520\teval-rmse:0.10160\teval-r2:0.97451\n",
      "[921]\ttrain-rmse:0.10001\ttrain-r2:0.97521\teval-rmse:0.10159\teval-r2:0.97452\n",
      "[922]\ttrain-rmse:0.09997\ttrain-r2:0.97523\teval-rmse:0.10155\teval-r2:0.97454\n",
      "[923]\ttrain-rmse:0.09995\ttrain-r2:0.97524\teval-rmse:0.10154\teval-r2:0.97454\n",
      "[924]\ttrain-rmse:0.09994\ttrain-r2:0.97524\teval-rmse:0.10153\teval-r2:0.97455\n",
      "[925]\ttrain-rmse:0.09992\ttrain-r2:0.97525\teval-rmse:0.10151\teval-r2:0.97456\n",
      "[926]\ttrain-rmse:0.09990\ttrain-r2:0.97527\teval-rmse:0.10149\teval-r2:0.97457\n",
      "[927]\ttrain-rmse:0.09985\ttrain-r2:0.97529\teval-rmse:0.10144\teval-r2:0.97459\n",
      "[928]\ttrain-rmse:0.09983\ttrain-r2:0.97530\teval-rmse:0.10142\teval-r2:0.97460\n",
      "[929]\ttrain-rmse:0.09979\ttrain-r2:0.97532\teval-rmse:0.10139\teval-r2:0.97462\n",
      "[930]\ttrain-rmse:0.09974\ttrain-r2:0.97534\teval-rmse:0.10133\teval-r2:0.97465\n",
      "[931]\ttrain-rmse:0.09973\ttrain-r2:0.97535\teval-rmse:0.10132\teval-r2:0.97465\n",
      "[932]\ttrain-rmse:0.09971\ttrain-r2:0.97536\teval-rmse:0.10131\teval-r2:0.97466\n",
      "[933]\ttrain-rmse:0.09969\ttrain-r2:0.97537\teval-rmse:0.10129\teval-r2:0.97467\n",
      "[934]\ttrain-rmse:0.09965\ttrain-r2:0.97539\teval-rmse:0.10125\teval-r2:0.97469\n",
      "[935]\ttrain-rmse:0.09964\ttrain-r2:0.97539\teval-rmse:0.10124\teval-r2:0.97469\n",
      "[936]\ttrain-rmse:0.09961\ttrain-r2:0.97541\teval-rmse:0.10121\teval-r2:0.97471\n",
      "[937]\ttrain-rmse:0.09959\ttrain-r2:0.97542\teval-rmse:0.10119\teval-r2:0.97472\n",
      "[938]\ttrain-rmse:0.09957\ttrain-r2:0.97543\teval-rmse:0.10118\teval-r2:0.97473\n",
      "[939]\ttrain-rmse:0.09954\ttrain-r2:0.97544\teval-rmse:0.10115\teval-r2:0.97474\n",
      "[940]\ttrain-rmse:0.09952\ttrain-r2:0.97545\teval-rmse:0.10113\teval-r2:0.97475\n",
      "[941]\ttrain-rmse:0.09949\ttrain-r2:0.97547\teval-rmse:0.10109\teval-r2:0.97477\n",
      "[942]\ttrain-rmse:0.09946\ttrain-r2:0.97548\teval-rmse:0.10107\teval-r2:0.97478\n",
      "[943]\ttrain-rmse:0.09943\ttrain-r2:0.97550\teval-rmse:0.10104\teval-r2:0.97479\n",
      "[944]\ttrain-rmse:0.09939\ttrain-r2:0.97551\teval-rmse:0.10101\teval-r2:0.97481\n",
      "[945]\ttrain-rmse:0.09938\ttrain-r2:0.97552\teval-rmse:0.10099\teval-r2:0.97482\n",
      "[946]\ttrain-rmse:0.09935\ttrain-r2:0.97553\teval-rmse:0.10097\teval-r2:0.97483\n",
      "[947]\ttrain-rmse:0.09934\ttrain-r2:0.97554\teval-rmse:0.10096\teval-r2:0.97484\n",
      "[948]\ttrain-rmse:0.09931\ttrain-r2:0.97555\teval-rmse:0.10094\teval-r2:0.97485\n",
      "[949]\ttrain-rmse:0.09930\ttrain-r2:0.97556\teval-rmse:0.10092\teval-r2:0.97486\n",
      "[950]\ttrain-rmse:0.09928\ttrain-r2:0.97557\teval-rmse:0.10090\teval-r2:0.97487\n",
      "[951]\ttrain-rmse:0.09926\ttrain-r2:0.97558\teval-rmse:0.10089\teval-r2:0.97487\n",
      "[952]\ttrain-rmse:0.09924\ttrain-r2:0.97559\teval-rmse:0.10087\teval-r2:0.97488\n",
      "[953]\ttrain-rmse:0.09921\ttrain-r2:0.97560\teval-rmse:0.10084\teval-r2:0.97489\n",
      "[954]\ttrain-rmse:0.09920\ttrain-r2:0.97561\teval-rmse:0.10083\teval-r2:0.97490\n",
      "[955]\ttrain-rmse:0.09918\ttrain-r2:0.97562\teval-rmse:0.10081\teval-r2:0.97491\n",
      "[956]\ttrain-rmse:0.09917\ttrain-r2:0.97562\teval-rmse:0.10080\teval-r2:0.97491\n",
      "[957]\ttrain-rmse:0.09913\ttrain-r2:0.97564\teval-rmse:0.10077\teval-r2:0.97493\n",
      "[958]\ttrain-rmse:0.09911\ttrain-r2:0.97565\teval-rmse:0.10075\teval-r2:0.97494\n",
      "[959]\ttrain-rmse:0.09909\ttrain-r2:0.97566\teval-rmse:0.10074\teval-r2:0.97495\n",
      "[960]\ttrain-rmse:0.09907\ttrain-r2:0.97567\teval-rmse:0.10071\teval-r2:0.97496\n",
      "[961]\ttrain-rmse:0.09904\ttrain-r2:0.97569\teval-rmse:0.10067\teval-r2:0.97498\n",
      "[962]\ttrain-rmse:0.09902\ttrain-r2:0.97570\teval-rmse:0.10066\teval-r2:0.97499\n",
      "[963]\ttrain-rmse:0.09899\ttrain-r2:0.97571\teval-rmse:0.10063\teval-r2:0.97500\n",
      "[964]\ttrain-rmse:0.09898\ttrain-r2:0.97572\teval-rmse:0.10062\teval-r2:0.97500\n",
      "[965]\ttrain-rmse:0.09896\ttrain-r2:0.97573\teval-rmse:0.10061\teval-r2:0.97501\n",
      "[966]\ttrain-rmse:0.09892\ttrain-r2:0.97575\teval-rmse:0.10056\teval-r2:0.97503\n",
      "[967]\ttrain-rmse:0.09890\ttrain-r2:0.97575\teval-rmse:0.10055\teval-r2:0.97504\n",
      "[968]\ttrain-rmse:0.09889\ttrain-r2:0.97576\teval-rmse:0.10054\teval-r2:0.97504\n",
      "[969]\ttrain-rmse:0.09887\ttrain-r2:0.97577\teval-rmse:0.10052\teval-r2:0.97505\n",
      "[970]\ttrain-rmse:0.09883\ttrain-r2:0.97579\teval-rmse:0.10049\teval-r2:0.97507\n",
      "[971]\ttrain-rmse:0.09882\ttrain-r2:0.97580\teval-rmse:0.10047\teval-r2:0.97508\n",
      "[972]\ttrain-rmse:0.09879\ttrain-r2:0.97581\teval-rmse:0.10044\teval-r2:0.97510\n",
      "[973]\ttrain-rmse:0.09877\ttrain-r2:0.97582\teval-rmse:0.10042\teval-r2:0.97510\n",
      "[974]\ttrain-rmse:0.09876\ttrain-r2:0.97582\teval-rmse:0.10041\teval-r2:0.97511\n",
      "[975]\ttrain-rmse:0.09875\ttrain-r2:0.97583\teval-rmse:0.10040\teval-r2:0.97511\n",
      "[976]\ttrain-rmse:0.09873\ttrain-r2:0.97584\teval-rmse:0.10038\teval-r2:0.97512\n",
      "[977]\ttrain-rmse:0.09871\ttrain-r2:0.97585\teval-rmse:0.10036\teval-r2:0.97513\n",
      "[978]\ttrain-rmse:0.09867\ttrain-r2:0.97587\teval-rmse:0.10033\teval-r2:0.97515\n",
      "[979]\ttrain-rmse:0.09865\ttrain-r2:0.97588\teval-rmse:0.10030\teval-r2:0.97516\n",
      "[980]\ttrain-rmse:0.09864\ttrain-r2:0.97588\teval-rmse:0.10030\teval-r2:0.97516\n",
      "[981]\ttrain-rmse:0.09860\ttrain-r2:0.97590\teval-rmse:0.10026\teval-r2:0.97518\n",
      "[982]\ttrain-rmse:0.09856\ttrain-r2:0.97592\teval-rmse:0.10020\teval-r2:0.97521\n",
      "[983]\ttrain-rmse:0.09855\ttrain-r2:0.97593\teval-rmse:0.10018\teval-r2:0.97522\n",
      "[984]\ttrain-rmse:0.09853\ttrain-r2:0.97594\teval-rmse:0.10017\teval-r2:0.97523\n",
      "[985]\ttrain-rmse:0.09850\ttrain-r2:0.97595\teval-rmse:0.10015\teval-r2:0.97524\n",
      "[986]\ttrain-rmse:0.09848\ttrain-r2:0.97596\teval-rmse:0.10013\teval-r2:0.97525\n",
      "[987]\ttrain-rmse:0.09844\ttrain-r2:0.97598\teval-rmse:0.10007\teval-r2:0.97528\n",
      "[988]\ttrain-rmse:0.09840\ttrain-r2:0.97600\teval-rmse:0.10003\teval-r2:0.97530\n",
      "[989]\ttrain-rmse:0.09838\ttrain-r2:0.97601\teval-rmse:0.10001\teval-r2:0.97530\n",
      "[990]\ttrain-rmse:0.09836\ttrain-r2:0.97602\teval-rmse:0.09999\teval-r2:0.97531\n",
      "[991]\ttrain-rmse:0.09835\ttrain-r2:0.97603\teval-rmse:0.09998\teval-r2:0.97532\n",
      "[992]\ttrain-rmse:0.09834\ttrain-r2:0.97603\teval-rmse:0.09998\teval-r2:0.97532\n",
      "[993]\ttrain-rmse:0.09832\ttrain-r2:0.97604\teval-rmse:0.09996\teval-r2:0.97533\n",
      "[994]\ttrain-rmse:0.09830\ttrain-r2:0.97605\teval-rmse:0.09993\teval-r2:0.97534\n",
      "[995]\ttrain-rmse:0.09828\ttrain-r2:0.97606\teval-rmse:0.09992\teval-r2:0.97535\n",
      "[996]\ttrain-rmse:0.09826\ttrain-r2:0.97607\teval-rmse:0.09990\teval-r2:0.97536\n",
      "[997]\ttrain-rmse:0.09825\ttrain-r2:0.97607\teval-rmse:0.09989\teval-r2:0.97537\n",
      "[998]\ttrain-rmse:0.09822\ttrain-r2:0.97609\teval-rmse:0.09986\teval-r2:0.97538\n",
      "[999]\ttrain-rmse:0.09818\ttrain-r2:0.97611\teval-rmse:0.09982\teval-r2:0.97540\n",
      "[1000]\ttrain-rmse:0.09818\ttrain-r2:0.97611\teval-rmse:0.09982\teval-r2:0.97540\n",
      "[1001]\ttrain-rmse:0.09817\ttrain-r2:0.97611\teval-rmse:0.09981\teval-r2:0.97540\n",
      "[1002]\ttrain-rmse:0.09814\ttrain-r2:0.97613\teval-rmse:0.09978\teval-r2:0.97542\n",
      "[1003]\ttrain-rmse:0.09811\ttrain-r2:0.97614\teval-rmse:0.09976\teval-r2:0.97543\n",
      "[1004]\ttrain-rmse:0.09809\ttrain-r2:0.97615\teval-rmse:0.09974\teval-r2:0.97544\n",
      "[1005]\ttrain-rmse:0.09808\ttrain-r2:0.97616\teval-rmse:0.09973\teval-r2:0.97545\n",
      "[1006]\ttrain-rmse:0.09805\ttrain-r2:0.97617\teval-rmse:0.09970\teval-r2:0.97546\n",
      "[1007]\ttrain-rmse:0.09801\ttrain-r2:0.97619\teval-rmse:0.09966\teval-r2:0.97548\n",
      "[1008]\ttrain-rmse:0.09795\ttrain-r2:0.97622\teval-rmse:0.09961\teval-r2:0.97550\n",
      "[1009]\ttrain-rmse:0.09794\ttrain-r2:0.97623\teval-rmse:0.09959\teval-r2:0.97551\n",
      "[1010]\ttrain-rmse:0.09791\ttrain-r2:0.97624\teval-rmse:0.09956\teval-r2:0.97552\n",
      "[1011]\ttrain-rmse:0.09789\ttrain-r2:0.97625\teval-rmse:0.09954\teval-r2:0.97554\n",
      "[1012]\ttrain-rmse:0.09788\ttrain-r2:0.97625\teval-rmse:0.09954\teval-r2:0.97554\n",
      "[1013]\ttrain-rmse:0.09786\ttrain-r2:0.97626\teval-rmse:0.09952\teval-r2:0.97554\n",
      "[1014]\ttrain-rmse:0.09785\ttrain-r2:0.97627\teval-rmse:0.09952\teval-r2:0.97555\n",
      "[1015]\ttrain-rmse:0.09781\ttrain-r2:0.97628\teval-rmse:0.09948\teval-r2:0.97557\n",
      "[1016]\ttrain-rmse:0.09779\ttrain-r2:0.97630\teval-rmse:0.09946\teval-r2:0.97558\n",
      "[1017]\ttrain-rmse:0.09776\ttrain-r2:0.97631\teval-rmse:0.09943\teval-r2:0.97559\n",
      "[1018]\ttrain-rmse:0.09774\ttrain-r2:0.97632\teval-rmse:0.09940\teval-r2:0.97560\n",
      "[1019]\ttrain-rmse:0.09771\ttrain-r2:0.97634\teval-rmse:0.09937\teval-r2:0.97562\n",
      "[1020]\ttrain-rmse:0.09768\ttrain-r2:0.97635\teval-rmse:0.09935\teval-r2:0.97563\n",
      "[1021]\ttrain-rmse:0.09766\ttrain-r2:0.97636\teval-rmse:0.09933\teval-r2:0.97564\n",
      "[1022]\ttrain-rmse:0.09763\ttrain-r2:0.97637\teval-rmse:0.09930\teval-r2:0.97565\n",
      "[1023]\ttrain-rmse:0.09762\ttrain-r2:0.97638\teval-rmse:0.09930\teval-r2:0.97566\n",
      "[1024]\ttrain-rmse:0.09760\ttrain-r2:0.97639\teval-rmse:0.09928\teval-r2:0.97567\n",
      "[1025]\ttrain-rmse:0.09759\ttrain-r2:0.97639\teval-rmse:0.09927\teval-r2:0.97567\n",
      "[1026]\ttrain-rmse:0.09757\ttrain-r2:0.97640\teval-rmse:0.09925\teval-r2:0.97568\n",
      "[1027]\ttrain-rmse:0.09755\ttrain-r2:0.97641\teval-rmse:0.09923\teval-r2:0.97569\n",
      "[1028]\ttrain-rmse:0.09753\ttrain-r2:0.97643\teval-rmse:0.09920\teval-r2:0.97570\n",
      "[1029]\ttrain-rmse:0.09749\ttrain-r2:0.97644\teval-rmse:0.09918\teval-r2:0.97572\n",
      "[1030]\ttrain-rmse:0.09747\ttrain-r2:0.97645\teval-rmse:0.09915\teval-r2:0.97573\n",
      "[1031]\ttrain-rmse:0.09745\ttrain-r2:0.97646\teval-rmse:0.09914\teval-r2:0.97574\n",
      "[1032]\ttrain-rmse:0.09745\ttrain-r2:0.97646\teval-rmse:0.09913\teval-r2:0.97574\n",
      "[1033]\ttrain-rmse:0.09740\ttrain-r2:0.97649\teval-rmse:0.09908\teval-r2:0.97576\n",
      "[1034]\ttrain-rmse:0.09737\ttrain-r2:0.97650\teval-rmse:0.09906\teval-r2:0.97577\n",
      "[1035]\ttrain-rmse:0.09737\ttrain-r2:0.97650\teval-rmse:0.09906\teval-r2:0.97577\n",
      "[1036]\ttrain-rmse:0.09736\ttrain-r2:0.97651\teval-rmse:0.09905\teval-r2:0.97578\n",
      "[1037]\ttrain-rmse:0.09734\ttrain-r2:0.97652\teval-rmse:0.09903\teval-r2:0.97579\n",
      "[1038]\ttrain-rmse:0.09732\ttrain-r2:0.97652\teval-rmse:0.09901\teval-r2:0.97580\n",
      "[1039]\ttrain-rmse:0.09730\ttrain-r2:0.97654\teval-rmse:0.09899\teval-r2:0.97581\n",
      "[1040]\ttrain-rmse:0.09727\ttrain-r2:0.97655\teval-rmse:0.09897\teval-r2:0.97581\n",
      "[1041]\ttrain-rmse:0.09725\ttrain-r2:0.97656\teval-rmse:0.09895\teval-r2:0.97583\n",
      "[1042]\ttrain-rmse:0.09722\ttrain-r2:0.97657\teval-rmse:0.09892\teval-r2:0.97584\n",
      "[1043]\ttrain-rmse:0.09720\ttrain-r2:0.97658\teval-rmse:0.09891\teval-r2:0.97585\n",
      "[1044]\ttrain-rmse:0.09718\ttrain-r2:0.97659\teval-rmse:0.09889\teval-r2:0.97586\n",
      "[1045]\ttrain-rmse:0.09715\ttrain-r2:0.97660\teval-rmse:0.09887\teval-r2:0.97587\n",
      "[1046]\ttrain-rmse:0.09714\ttrain-r2:0.97661\teval-rmse:0.09885\teval-r2:0.97588\n",
      "[1047]\ttrain-rmse:0.09712\ttrain-r2:0.97662\teval-rmse:0.09884\teval-r2:0.97588\n",
      "[1048]\ttrain-rmse:0.09709\ttrain-r2:0.97664\teval-rmse:0.09881\teval-r2:0.97590\n",
      "[1049]\ttrain-rmse:0.09708\ttrain-r2:0.97664\teval-rmse:0.09880\teval-r2:0.97590\n",
      "[1050]\ttrain-rmse:0.09707\ttrain-r2:0.97665\teval-rmse:0.09879\teval-r2:0.97591\n",
      "[1051]\ttrain-rmse:0.09705\ttrain-r2:0.97665\teval-rmse:0.09878\teval-r2:0.97591\n",
      "[1052]\ttrain-rmse:0.09704\ttrain-r2:0.97666\teval-rmse:0.09877\teval-r2:0.97592\n",
      "[1053]\ttrain-rmse:0.09703\ttrain-r2:0.97666\teval-rmse:0.09874\teval-r2:0.97593\n",
      "[1054]\ttrain-rmse:0.09701\ttrain-r2:0.97667\teval-rmse:0.09872\teval-r2:0.97594\n",
      "[1055]\ttrain-rmse:0.09699\ttrain-r2:0.97668\teval-rmse:0.09871\teval-r2:0.97595\n",
      "[1056]\ttrain-rmse:0.09699\ttrain-r2:0.97668\teval-rmse:0.09870\teval-r2:0.97595\n",
      "[1057]\ttrain-rmse:0.09696\ttrain-r2:0.97670\teval-rmse:0.09867\teval-r2:0.97596\n",
      "[1058]\ttrain-rmse:0.09693\ttrain-r2:0.97671\teval-rmse:0.09865\teval-r2:0.97597\n",
      "[1059]\ttrain-rmse:0.09691\ttrain-r2:0.97672\teval-rmse:0.09863\teval-r2:0.97598\n",
      "[1060]\ttrain-rmse:0.09689\ttrain-r2:0.97673\teval-rmse:0.09860\teval-r2:0.97599\n",
      "[1061]\ttrain-rmse:0.09686\ttrain-r2:0.97675\teval-rmse:0.09858\teval-r2:0.97601\n",
      "[1062]\ttrain-rmse:0.09684\ttrain-r2:0.97675\teval-rmse:0.09857\teval-r2:0.97601\n",
      "[1063]\ttrain-rmse:0.09683\ttrain-r2:0.97676\teval-rmse:0.09855\teval-r2:0.97602\n",
      "[1064]\ttrain-rmse:0.09682\ttrain-r2:0.97677\teval-rmse:0.09854\teval-r2:0.97603\n",
      "[1065]\ttrain-rmse:0.09680\ttrain-r2:0.97678\teval-rmse:0.09852\teval-r2:0.97604\n",
      "[1066]\ttrain-rmse:0.09679\ttrain-r2:0.97678\teval-rmse:0.09851\teval-r2:0.97604\n",
      "[1067]\ttrain-rmse:0.09679\ttrain-r2:0.97678\teval-rmse:0.09851\teval-r2:0.97604\n",
      "[1068]\ttrain-rmse:0.09677\ttrain-r2:0.97679\teval-rmse:0.09849\teval-r2:0.97605\n",
      "[1069]\ttrain-rmse:0.09675\ttrain-r2:0.97680\teval-rmse:0.09847\teval-r2:0.97606\n",
      "[1070]\ttrain-rmse:0.09673\ttrain-r2:0.97681\teval-rmse:0.09846\teval-r2:0.97607\n",
      "[1071]\ttrain-rmse:0.09672\ttrain-r2:0.97681\teval-rmse:0.09845\teval-r2:0.97607\n",
      "[1072]\ttrain-rmse:0.09669\ttrain-r2:0.97683\teval-rmse:0.09842\teval-r2:0.97609\n",
      "[1073]\ttrain-rmse:0.09667\ttrain-r2:0.97684\teval-rmse:0.09840\teval-r2:0.97610\n",
      "[1074]\ttrain-rmse:0.09664\ttrain-r2:0.97685\teval-rmse:0.09837\teval-r2:0.97611\n",
      "[1075]\ttrain-rmse:0.09662\ttrain-r2:0.97686\teval-rmse:0.09835\teval-r2:0.97612\n",
      "[1076]\ttrain-rmse:0.09660\ttrain-r2:0.97687\teval-rmse:0.09833\teval-r2:0.97613\n",
      "[1077]\ttrain-rmse:0.09657\ttrain-r2:0.97689\teval-rmse:0.09830\teval-r2:0.97614\n",
      "[1078]\ttrain-rmse:0.09657\ttrain-r2:0.97689\teval-rmse:0.09830\teval-r2:0.97614\n",
      "[1079]\ttrain-rmse:0.09654\ttrain-r2:0.97690\teval-rmse:0.09828\teval-r2:0.97615\n",
      "[1080]\ttrain-rmse:0.09654\ttrain-r2:0.97690\teval-rmse:0.09828\teval-r2:0.97615\n",
      "[1081]\ttrain-rmse:0.09652\ttrain-r2:0.97691\teval-rmse:0.09826\teval-r2:0.97616\n",
      "[1082]\ttrain-rmse:0.09651\ttrain-r2:0.97691\teval-rmse:0.09825\teval-r2:0.97617\n",
      "[1083]\ttrain-rmse:0.09649\ttrain-r2:0.97692\teval-rmse:0.09821\teval-r2:0.97619\n",
      "[1084]\ttrain-rmse:0.09647\ttrain-r2:0.97693\teval-rmse:0.09819\teval-r2:0.97619\n",
      "[1085]\ttrain-rmse:0.09647\ttrain-r2:0.97693\teval-rmse:0.09819\teval-r2:0.97620\n",
      "[1086]\ttrain-rmse:0.09644\ttrain-r2:0.97695\teval-rmse:0.09816\teval-r2:0.97621\n",
      "[1087]\ttrain-rmse:0.09644\ttrain-r2:0.97695\teval-rmse:0.09816\teval-r2:0.97621\n",
      "[1088]\ttrain-rmse:0.09642\ttrain-r2:0.97696\teval-rmse:0.09814\teval-r2:0.97622\n",
      "[1089]\ttrain-rmse:0.09641\ttrain-r2:0.97696\teval-rmse:0.09814\teval-r2:0.97622\n",
      "[1090]\ttrain-rmse:0.09641\ttrain-r2:0.97696\teval-rmse:0.09814\teval-r2:0.97622\n",
      "[1091]\ttrain-rmse:0.09639\ttrain-r2:0.97697\teval-rmse:0.09812\teval-r2:0.97623\n",
      "[1092]\ttrain-rmse:0.09638\ttrain-r2:0.97697\teval-rmse:0.09811\teval-r2:0.97623\n",
      "[1093]\ttrain-rmse:0.09638\ttrain-r2:0.97697\teval-rmse:0.09811\teval-r2:0.97623\n",
      "[1094]\ttrain-rmse:0.09638\ttrain-r2:0.97697\teval-rmse:0.09811\teval-r2:0.97623\n",
      "[1095]\ttrain-rmse:0.09636\ttrain-r2:0.97698\teval-rmse:0.09809\teval-r2:0.97624\n",
      "[1096]\ttrain-rmse:0.09635\ttrain-r2:0.97699\teval-rmse:0.09808\teval-r2:0.97625\n",
      "[1097]\ttrain-rmse:0.09634\ttrain-r2:0.97700\teval-rmse:0.09807\teval-r2:0.97625\n",
      "[1098]\ttrain-rmse:0.09634\ttrain-r2:0.97700\teval-rmse:0.09807\teval-r2:0.97625\n",
      "[1099]\ttrain-rmse:0.09631\ttrain-r2:0.97701\teval-rmse:0.09805\teval-r2:0.97627\n",
      "[1100]\ttrain-rmse:0.09631\ttrain-r2:0.97701\teval-rmse:0.09805\teval-r2:0.97627\n",
      "[1101]\ttrain-rmse:0.09628\ttrain-r2:0.97702\teval-rmse:0.09800\teval-r2:0.97629\n",
      "[1102]\ttrain-rmse:0.09627\ttrain-r2:0.97703\teval-rmse:0.09799\teval-r2:0.97630\n",
      "[1103]\ttrain-rmse:0.09627\ttrain-r2:0.97703\teval-rmse:0.09799\teval-r2:0.97630\n",
      "[1104]\ttrain-rmse:0.09627\ttrain-r2:0.97703\teval-rmse:0.09799\teval-r2:0.97630\n",
      "[1105]\ttrain-rmse:0.09627\ttrain-r2:0.97703\teval-rmse:0.09799\teval-r2:0.97630\n",
      "[1106]\ttrain-rmse:0.09625\ttrain-r2:0.97704\teval-rmse:0.09798\teval-r2:0.97630\n",
      "[1107]\ttrain-rmse:0.09625\ttrain-r2:0.97704\teval-rmse:0.09798\teval-r2:0.97630\n",
      "[1108]\ttrain-rmse:0.09624\ttrain-r2:0.97704\teval-rmse:0.09797\teval-r2:0.97630\n",
      "[1109]\ttrain-rmse:0.09624\ttrain-r2:0.97704\teval-rmse:0.09797\teval-r2:0.97630\n",
      "[1110]\ttrain-rmse:0.09622\ttrain-r2:0.97705\teval-rmse:0.09795\teval-r2:0.97631\n",
      "[1111]\ttrain-rmse:0.09622\ttrain-r2:0.97705\teval-rmse:0.09795\teval-r2:0.97631\n",
      "[1112]\ttrain-rmse:0.09620\ttrain-r2:0.97706\teval-rmse:0.09793\teval-r2:0.97632\n",
      "[1113]\ttrain-rmse:0.09619\ttrain-r2:0.97707\teval-rmse:0.09792\teval-r2:0.97633\n",
      "[1114]\ttrain-rmse:0.09619\ttrain-r2:0.97707\teval-rmse:0.09792\teval-r2:0.97633\n",
      "[1115]\ttrain-rmse:0.09618\ttrain-r2:0.97707\teval-rmse:0.09791\teval-r2:0.97633\n",
      "[1116]\ttrain-rmse:0.09616\ttrain-r2:0.97708\teval-rmse:0.09788\teval-r2:0.97634\n",
      "[1117]\ttrain-rmse:0.09616\ttrain-r2:0.97708\teval-rmse:0.09788\teval-r2:0.97634\n",
      "[1118]\ttrain-rmse:0.09616\ttrain-r2:0.97708\teval-rmse:0.09788\teval-r2:0.97634\n",
      "[1119]\ttrain-rmse:0.09616\ttrain-r2:0.97708\teval-rmse:0.09788\teval-r2:0.97634\n",
      "[1120]\ttrain-rmse:0.09614\ttrain-r2:0.97709\teval-rmse:0.09787\teval-r2:0.97635\n",
      "[1121]\ttrain-rmse:0.09611\ttrain-r2:0.97710\teval-rmse:0.09785\teval-r2:0.97636\n",
      "[1122]\ttrain-rmse:0.09610\ttrain-r2:0.97711\teval-rmse:0.09784\teval-r2:0.97637\n",
      "[1123]\ttrain-rmse:0.09608\ttrain-r2:0.97712\teval-rmse:0.09782\teval-r2:0.97638\n",
      "[1124]\ttrain-rmse:0.09606\ttrain-r2:0.97713\teval-rmse:0.09780\teval-r2:0.97639\n",
      "[1125]\ttrain-rmse:0.09602\ttrain-r2:0.97715\teval-rmse:0.09777\teval-r2:0.97640\n",
      "[1126]\ttrain-rmse:0.09600\ttrain-r2:0.97716\teval-rmse:0.09775\teval-r2:0.97641\n",
      "[1127]\ttrain-rmse:0.09600\ttrain-r2:0.97716\teval-rmse:0.09775\teval-r2:0.97641\n",
      "[1128]\ttrain-rmse:0.09600\ttrain-r2:0.97716\teval-rmse:0.09775\teval-r2:0.97641\n",
      "[1129]\ttrain-rmse:0.09598\ttrain-r2:0.97717\teval-rmse:0.09773\teval-r2:0.97642\n",
      "[1130]\ttrain-rmse:0.09596\ttrain-r2:0.97718\teval-rmse:0.09771\teval-r2:0.97643\n",
      "[1131]\ttrain-rmse:0.09596\ttrain-r2:0.97718\teval-rmse:0.09771\teval-r2:0.97643\n",
      "[1132]\ttrain-rmse:0.09593\ttrain-r2:0.97719\teval-rmse:0.09768\teval-r2:0.97644\n",
      "[1133]\ttrain-rmse:0.09591\ttrain-r2:0.97720\teval-rmse:0.09767\teval-r2:0.97645\n",
      "[1134]\ttrain-rmse:0.09589\ttrain-r2:0.97721\teval-rmse:0.09765\teval-r2:0.97646\n",
      "[1135]\ttrain-rmse:0.09589\ttrain-r2:0.97721\teval-rmse:0.09765\teval-r2:0.97646\n",
      "[1136]\ttrain-rmse:0.09588\ttrain-r2:0.97722\teval-rmse:0.09763\teval-r2:0.97647\n",
      "[1137]\ttrain-rmse:0.09588\ttrain-r2:0.97722\teval-rmse:0.09763\teval-r2:0.97647\n",
      "[1138]\ttrain-rmse:0.09584\ttrain-r2:0.97723\teval-rmse:0.09760\teval-r2:0.97648\n",
      "[1139]\ttrain-rmse:0.09583\ttrain-r2:0.97724\teval-rmse:0.09759\teval-r2:0.97649\n",
      "[1140]\ttrain-rmse:0.09583\ttrain-r2:0.97724\teval-rmse:0.09759\teval-r2:0.97649\n",
      "[1141]\ttrain-rmse:0.09582\ttrain-r2:0.97724\teval-rmse:0.09758\teval-r2:0.97649\n",
      "[1142]\ttrain-rmse:0.09580\ttrain-r2:0.97725\teval-rmse:0.09756\teval-r2:0.97650\n",
      "[1143]\ttrain-rmse:0.09577\ttrain-r2:0.97727\teval-rmse:0.09753\teval-r2:0.97652\n",
      "[1144]\ttrain-rmse:0.09577\ttrain-r2:0.97727\teval-rmse:0.09753\teval-r2:0.97652\n",
      "[1145]\ttrain-rmse:0.09577\ttrain-r2:0.97727\teval-rmse:0.09753\teval-r2:0.97652\n",
      "[1146]\ttrain-rmse:0.09576\ttrain-r2:0.97727\teval-rmse:0.09752\teval-r2:0.97652\n",
      "[1147]\ttrain-rmse:0.09576\ttrain-r2:0.97727\teval-rmse:0.09752\teval-r2:0.97652\n",
      "[1148]\ttrain-rmse:0.09573\ttrain-r2:0.97729\teval-rmse:0.09749\teval-r2:0.97653\n",
      "[1149]\ttrain-rmse:0.09571\ttrain-r2:0.97729\teval-rmse:0.09748\teval-r2:0.97654\n",
      "[1150]\ttrain-rmse:0.09571\ttrain-r2:0.97729\teval-rmse:0.09748\teval-r2:0.97654\n",
      "[1151]\ttrain-rmse:0.09570\ttrain-r2:0.97730\teval-rmse:0.09747\teval-r2:0.97655\n",
      "[1152]\ttrain-rmse:0.09569\ttrain-r2:0.97730\teval-rmse:0.09746\teval-r2:0.97655\n",
      "[1153]\ttrain-rmse:0.09569\ttrain-r2:0.97730\teval-rmse:0.09746\teval-r2:0.97655\n",
      "[1154]\ttrain-rmse:0.09569\ttrain-r2:0.97730\teval-rmse:0.09746\teval-r2:0.97655\n",
      "[1155]\ttrain-rmse:0.09566\ttrain-r2:0.97732\teval-rmse:0.09743\teval-r2:0.97657\n",
      "[1156]\ttrain-rmse:0.09566\ttrain-r2:0.97732\teval-rmse:0.09743\teval-r2:0.97657\n",
      "[1157]\ttrain-rmse:0.09566\ttrain-r2:0.97732\teval-rmse:0.09743\teval-r2:0.97657\n",
      "[1158]\ttrain-rmse:0.09565\ttrain-r2:0.97732\teval-rmse:0.09742\teval-r2:0.97657\n",
      "[1159]\ttrain-rmse:0.09563\ttrain-r2:0.97733\teval-rmse:0.09740\teval-r2:0.97658\n",
      "[1160]\ttrain-rmse:0.09563\ttrain-r2:0.97733\teval-rmse:0.09740\teval-r2:0.97658\n",
      "[1161]\ttrain-rmse:0.09560\ttrain-r2:0.97735\teval-rmse:0.09737\teval-r2:0.97659\n",
      "[1162]\ttrain-rmse:0.09558\ttrain-r2:0.97736\teval-rmse:0.09735\teval-r2:0.97660\n",
      "[1163]\ttrain-rmse:0.09558\ttrain-r2:0.97736\teval-rmse:0.09735\teval-r2:0.97660\n",
      "[1164]\ttrain-rmse:0.09557\ttrain-r2:0.97736\teval-rmse:0.09734\teval-r2:0.97661\n",
      "[1165]\ttrain-rmse:0.09556\ttrain-r2:0.97736\teval-rmse:0.09734\teval-r2:0.97661\n",
      "[1166]\ttrain-rmse:0.09556\ttrain-r2:0.97736\teval-rmse:0.09734\teval-r2:0.97661\n",
      "[1167]\ttrain-rmse:0.09555\ttrain-r2:0.97737\teval-rmse:0.09733\teval-r2:0.97661\n",
      "[1168]\ttrain-rmse:0.09551\ttrain-r2:0.97739\teval-rmse:0.09729\teval-r2:0.97663\n",
      "[1169]\ttrain-rmse:0.09550\ttrain-r2:0.97740\teval-rmse:0.09728\teval-r2:0.97664\n",
      "[1170]\ttrain-rmse:0.09549\ttrain-r2:0.97740\teval-rmse:0.09727\teval-r2:0.97664\n",
      "[1171]\ttrain-rmse:0.09549\ttrain-r2:0.97740\teval-rmse:0.09727\teval-r2:0.97664\n",
      "[1172]\ttrain-rmse:0.09546\ttrain-r2:0.97741\teval-rmse:0.09725\teval-r2:0.97665\n",
      "[1173]\ttrain-rmse:0.09546\ttrain-r2:0.97741\teval-rmse:0.09725\teval-r2:0.97665\n",
      "[1174]\ttrain-rmse:0.09546\ttrain-r2:0.97741\teval-rmse:0.09725\teval-r2:0.97665\n",
      "[1175]\ttrain-rmse:0.09544\ttrain-r2:0.97742\teval-rmse:0.09723\teval-r2:0.97666\n",
      "[1176]\ttrain-rmse:0.09544\ttrain-r2:0.97742\teval-rmse:0.09723\teval-r2:0.97666\n",
      "[1177]\ttrain-rmse:0.09542\ttrain-r2:0.97743\teval-rmse:0.09721\teval-r2:0.97667\n",
      "[1178]\ttrain-rmse:0.09542\ttrain-r2:0.97743\teval-rmse:0.09721\teval-r2:0.97667\n",
      "[1179]\ttrain-rmse:0.09540\ttrain-r2:0.97744\teval-rmse:0.09719\teval-r2:0.97668\n",
      "[1180]\ttrain-rmse:0.09540\ttrain-r2:0.97744\teval-rmse:0.09719\teval-r2:0.97668\n",
      "[1181]\ttrain-rmse:0.09540\ttrain-r2:0.97744\teval-rmse:0.09719\teval-r2:0.97668\n",
      "[1182]\ttrain-rmse:0.09537\ttrain-r2:0.97746\teval-rmse:0.09716\teval-r2:0.97669\n",
      "[1183]\ttrain-rmse:0.09537\ttrain-r2:0.97746\teval-rmse:0.09716\teval-r2:0.97669\n",
      "[1184]\ttrain-rmse:0.09535\ttrain-r2:0.97747\teval-rmse:0.09714\teval-r2:0.97670\n",
      "[1185]\ttrain-rmse:0.09534\ttrain-r2:0.97747\teval-rmse:0.09714\teval-r2:0.97670\n",
      "[1186]\ttrain-rmse:0.09534\ttrain-r2:0.97747\teval-rmse:0.09714\teval-r2:0.97670\n",
      "[1187]\ttrain-rmse:0.09534\ttrain-r2:0.97747\teval-rmse:0.09714\teval-r2:0.97670\n",
      "[1188]\ttrain-rmse:0.09532\ttrain-r2:0.97748\teval-rmse:0.09712\teval-r2:0.97671\n",
      "[1189]\ttrain-rmse:0.09531\ttrain-r2:0.97749\teval-rmse:0.09711\teval-r2:0.97672\n",
      "[1190]\ttrain-rmse:0.09531\ttrain-r2:0.97749\teval-rmse:0.09711\teval-r2:0.97672\n",
      "[1191]\ttrain-rmse:0.09530\ttrain-r2:0.97749\teval-rmse:0.09710\teval-r2:0.97672\n",
      "[1192]\ttrain-rmse:0.09527\ttrain-r2:0.97750\teval-rmse:0.09708\teval-r2:0.97673\n",
      "[1193]\ttrain-rmse:0.09526\ttrain-r2:0.97751\teval-rmse:0.09707\teval-r2:0.97674\n",
      "[1194]\ttrain-rmse:0.09526\ttrain-r2:0.97751\teval-rmse:0.09707\teval-r2:0.97674\n",
      "[1195]\ttrain-rmse:0.09526\ttrain-r2:0.97751\teval-rmse:0.09707\teval-r2:0.97674\n",
      "[1196]\ttrain-rmse:0.09524\ttrain-r2:0.97752\teval-rmse:0.09705\teval-r2:0.97674\n",
      "[1197]\ttrain-rmse:0.09524\ttrain-r2:0.97752\teval-rmse:0.09705\teval-r2:0.97675\n",
      "[1198]\ttrain-rmse:0.09522\ttrain-r2:0.97753\teval-rmse:0.09703\teval-r2:0.97676\n",
      "[1199]\ttrain-rmse:0.09522\ttrain-r2:0.97753\teval-rmse:0.09703\teval-r2:0.97676\n",
      "[1200]\ttrain-rmse:0.09519\ttrain-r2:0.97754\teval-rmse:0.09701\teval-r2:0.97677\n",
      "[1201]\ttrain-rmse:0.09519\ttrain-r2:0.97754\teval-rmse:0.09701\teval-r2:0.97677\n",
      "[1202]\ttrain-rmse:0.09519\ttrain-r2:0.97754\teval-rmse:0.09701\teval-r2:0.97677\n",
      "[1203]\ttrain-rmse:0.09517\ttrain-r2:0.97755\teval-rmse:0.09699\teval-r2:0.97677\n",
      "[1204]\ttrain-rmse:0.09517\ttrain-r2:0.97755\teval-rmse:0.09699\teval-r2:0.97677\n",
      "[1205]\ttrain-rmse:0.09515\ttrain-r2:0.97756\teval-rmse:0.09697\teval-r2:0.97679\n",
      "[1206]\ttrain-rmse:0.09515\ttrain-r2:0.97756\teval-rmse:0.09697\teval-r2:0.97679\n",
      "[1207]\ttrain-rmse:0.09513\ttrain-r2:0.97757\teval-rmse:0.09695\teval-r2:0.97679\n",
      "[1208]\ttrain-rmse:0.09510\ttrain-r2:0.97758\teval-rmse:0.09693\teval-r2:0.97680\n",
      "[1209]\ttrain-rmse:0.09510\ttrain-r2:0.97758\teval-rmse:0.09693\teval-r2:0.97680\n",
      "[1210]\ttrain-rmse:0.09509\ttrain-r2:0.97759\teval-rmse:0.09692\teval-r2:0.97681\n",
      "[1211]\ttrain-rmse:0.09509\ttrain-r2:0.97759\teval-rmse:0.09692\teval-r2:0.97681\n",
      "[1212]\ttrain-rmse:0.09507\ttrain-r2:0.97759\teval-rmse:0.09690\teval-r2:0.97682\n",
      "[1213]\ttrain-rmse:0.09507\ttrain-r2:0.97760\teval-rmse:0.09689\teval-r2:0.97682\n",
      "[1214]\ttrain-rmse:0.09505\ttrain-r2:0.97760\teval-rmse:0.09689\teval-r2:0.97683\n",
      "[1215]\ttrain-rmse:0.09505\ttrain-r2:0.97761\teval-rmse:0.09688\teval-r2:0.97683\n",
      "[1216]\ttrain-rmse:0.09505\ttrain-r2:0.97761\teval-rmse:0.09688\teval-r2:0.97683\n",
      "[1217]\ttrain-rmse:0.09505\ttrain-r2:0.97761\teval-rmse:0.09688\teval-r2:0.97683\n",
      "[1218]\ttrain-rmse:0.09504\ttrain-r2:0.97761\teval-rmse:0.09687\teval-r2:0.97683\n",
      "[1219]\ttrain-rmse:0.09504\ttrain-r2:0.97761\teval-rmse:0.09687\teval-r2:0.97683\n",
      "[1220]\ttrain-rmse:0.09502\ttrain-r2:0.97762\teval-rmse:0.09685\teval-r2:0.97684\n",
      "[1221]\ttrain-rmse:0.09502\ttrain-r2:0.97762\teval-rmse:0.09685\teval-r2:0.97684\n",
      "[1222]\ttrain-rmse:0.09500\ttrain-r2:0.97763\teval-rmse:0.09683\teval-r2:0.97685\n",
      "[1223]\ttrain-rmse:0.09499\ttrain-r2:0.97763\teval-rmse:0.09683\teval-r2:0.97685\n",
      "[1224]\ttrain-rmse:0.09497\ttrain-r2:0.97764\teval-rmse:0.09681\teval-r2:0.97686\n",
      "[1225]\ttrain-rmse:0.09495\ttrain-r2:0.97766\teval-rmse:0.09679\teval-r2:0.97687\n",
      "[1226]\ttrain-rmse:0.09495\ttrain-r2:0.97766\teval-rmse:0.09679\teval-r2:0.97687\n",
      "[1227]\ttrain-rmse:0.09495\ttrain-r2:0.97766\teval-rmse:0.09679\teval-r2:0.97687\n",
      "[1228]\ttrain-rmse:0.09495\ttrain-r2:0.97766\teval-rmse:0.09679\teval-r2:0.97687\n",
      "[1229]\ttrain-rmse:0.09492\ttrain-r2:0.97767\teval-rmse:0.09677\teval-r2:0.97688\n",
      "[1230]\ttrain-rmse:0.09492\ttrain-r2:0.97767\teval-rmse:0.09677\teval-r2:0.97688\n",
      "[1231]\ttrain-rmse:0.09492\ttrain-r2:0.97767\teval-rmse:0.09677\teval-r2:0.97688\n",
      "[1232]\ttrain-rmse:0.09492\ttrain-r2:0.97767\teval-rmse:0.09677\teval-r2:0.97688\n",
      "[1233]\ttrain-rmse:0.09491\ttrain-r2:0.97767\teval-rmse:0.09675\teval-r2:0.97689\n",
      "[1234]\ttrain-rmse:0.09491\ttrain-r2:0.97767\teval-rmse:0.09675\teval-r2:0.97689\n",
      "[1235]\ttrain-rmse:0.09488\ttrain-r2:0.97769\teval-rmse:0.09672\teval-r2:0.97691\n",
      "[1236]\ttrain-rmse:0.09487\ttrain-r2:0.97769\teval-rmse:0.09671\teval-r2:0.97691\n",
      "[1237]\ttrain-rmse:0.09487\ttrain-r2:0.97769\teval-rmse:0.09671\teval-r2:0.97691\n",
      "[1238]\ttrain-rmse:0.09487\ttrain-r2:0.97769\teval-rmse:0.09671\teval-r2:0.97691\n",
      "[1239]\ttrain-rmse:0.09487\ttrain-r2:0.97769\teval-rmse:0.09671\teval-r2:0.97691\n",
      "[1240]\ttrain-rmse:0.09485\ttrain-r2:0.97770\teval-rmse:0.09669\teval-r2:0.97692\n",
      "[1241]\ttrain-rmse:0.09485\ttrain-r2:0.97770\teval-rmse:0.09669\teval-r2:0.97692\n",
      "[1242]\ttrain-rmse:0.09483\ttrain-r2:0.97771\teval-rmse:0.09667\teval-r2:0.97693\n",
      "[1243]\ttrain-rmse:0.09483\ttrain-r2:0.97771\teval-rmse:0.09667\teval-r2:0.97693\n",
      "[1244]\ttrain-rmse:0.09481\ttrain-r2:0.97772\teval-rmse:0.09666\teval-r2:0.97693\n",
      "[1245]\ttrain-rmse:0.09481\ttrain-r2:0.97772\teval-rmse:0.09665\teval-r2:0.97693\n",
      "[1246]\ttrain-rmse:0.09479\ttrain-r2:0.97773\teval-rmse:0.09664\teval-r2:0.97694\n",
      "[1247]\ttrain-rmse:0.09479\ttrain-r2:0.97773\teval-rmse:0.09664\teval-r2:0.97694\n",
      "[1248]\ttrain-rmse:0.09477\ttrain-r2:0.97774\teval-rmse:0.09662\teval-r2:0.97695\n",
      "[1249]\ttrain-rmse:0.09476\ttrain-r2:0.97774\teval-rmse:0.09661\teval-r2:0.97696\n",
      "[1250]\ttrain-rmse:0.09476\ttrain-r2:0.97774\teval-rmse:0.09661\teval-r2:0.97696\n",
      "[1251]\ttrain-rmse:0.09475\ttrain-r2:0.97775\teval-rmse:0.09660\teval-r2:0.97696\n",
      "[1252]\ttrain-rmse:0.09473\ttrain-r2:0.97776\teval-rmse:0.09659\teval-r2:0.97697\n",
      "[1253]\ttrain-rmse:0.09471\ttrain-r2:0.97777\teval-rmse:0.09657\teval-r2:0.97698\n",
      "[1254]\ttrain-rmse:0.09471\ttrain-r2:0.97777\teval-rmse:0.09657\teval-r2:0.97698\n",
      "[1255]\ttrain-rmse:0.09471\ttrain-r2:0.97777\teval-rmse:0.09657\teval-r2:0.97698\n",
      "[1256]\ttrain-rmse:0.09468\ttrain-r2:0.97778\teval-rmse:0.09654\teval-r2:0.97699\n",
      "[1257]\ttrain-rmse:0.09468\ttrain-r2:0.97778\teval-rmse:0.09654\teval-r2:0.97699\n",
      "[1258]\ttrain-rmse:0.09468\ttrain-r2:0.97778\teval-rmse:0.09654\teval-r2:0.97699\n",
      "[1259]\ttrain-rmse:0.09468\ttrain-r2:0.97778\teval-rmse:0.09654\teval-r2:0.97699\n",
      "[1260]\ttrain-rmse:0.09468\ttrain-r2:0.97778\teval-rmse:0.09654\teval-r2:0.97699\n",
      "[1261]\ttrain-rmse:0.09466\ttrain-r2:0.97779\teval-rmse:0.09652\teval-r2:0.97700\n",
      "[1262]\ttrain-rmse:0.09466\ttrain-r2:0.97779\teval-rmse:0.09652\teval-r2:0.97700\n",
      "[1263]\ttrain-rmse:0.09464\ttrain-r2:0.97780\teval-rmse:0.09651\teval-r2:0.97701\n",
      "[1264]\ttrain-rmse:0.09464\ttrain-r2:0.97780\teval-rmse:0.09651\teval-r2:0.97701\n",
      "[1265]\ttrain-rmse:0.09464\ttrain-r2:0.97780\teval-rmse:0.09651\teval-r2:0.97701\n",
      "[1266]\ttrain-rmse:0.09464\ttrain-r2:0.97780\teval-rmse:0.09651\teval-r2:0.97701\n",
      "[1267]\ttrain-rmse:0.09463\ttrain-r2:0.97780\teval-rmse:0.09650\teval-r2:0.97701\n",
      "[1268]\ttrain-rmse:0.09463\ttrain-r2:0.97780\teval-rmse:0.09650\teval-r2:0.97701\n",
      "[1269]\ttrain-rmse:0.09463\ttrain-r2:0.97780\teval-rmse:0.09650\teval-r2:0.97701\n",
      "[1270]\ttrain-rmse:0.09463\ttrain-r2:0.97780\teval-rmse:0.09650\teval-r2:0.97701\n",
      "[1271]\ttrain-rmse:0.09463\ttrain-r2:0.97780\teval-rmse:0.09650\teval-r2:0.97701\n",
      "[1272]\ttrain-rmse:0.09461\ttrain-r2:0.97781\teval-rmse:0.09647\teval-r2:0.97702\n",
      "[1273]\ttrain-rmse:0.09461\ttrain-r2:0.97781\teval-rmse:0.09647\teval-r2:0.97702\n",
      "[1274]\ttrain-rmse:0.09461\ttrain-r2:0.97781\teval-rmse:0.09647\teval-r2:0.97702\n",
      "[1275]\ttrain-rmse:0.09459\ttrain-r2:0.97782\teval-rmse:0.09646\teval-r2:0.97703\n",
      "[1276]\ttrain-rmse:0.09459\ttrain-r2:0.97782\teval-rmse:0.09646\teval-r2:0.97703\n",
      "[1277]\ttrain-rmse:0.09457\ttrain-r2:0.97783\teval-rmse:0.09644\teval-r2:0.97704\n",
      "[1278]\ttrain-rmse:0.09457\ttrain-r2:0.97783\teval-rmse:0.09644\teval-r2:0.97704\n",
      "[1279]\ttrain-rmse:0.09457\ttrain-r2:0.97783\teval-rmse:0.09644\teval-r2:0.97704\n",
      "[1280]\ttrain-rmse:0.09455\ttrain-r2:0.97784\teval-rmse:0.09642\teval-r2:0.97705\n",
      "[1281]\ttrain-rmse:0.09454\ttrain-r2:0.97784\teval-rmse:0.09641\teval-r2:0.97705\n",
      "[1282]\ttrain-rmse:0.09454\ttrain-r2:0.97784\teval-rmse:0.09641\teval-r2:0.97705\n",
      "[1283]\ttrain-rmse:0.09454\ttrain-r2:0.97784\teval-rmse:0.09641\teval-r2:0.97705\n",
      "[1284]\ttrain-rmse:0.09453\ttrain-r2:0.97785\teval-rmse:0.09640\teval-r2:0.97706\n",
      "[1285]\ttrain-rmse:0.09452\ttrain-r2:0.97786\teval-rmse:0.09639\teval-r2:0.97706\n",
      "[1286]\ttrain-rmse:0.09452\ttrain-r2:0.97786\teval-rmse:0.09639\teval-r2:0.97706\n",
      "[1287]\ttrain-rmse:0.09452\ttrain-r2:0.97786\teval-rmse:0.09639\teval-r2:0.97706\n",
      "[1288]\ttrain-rmse:0.09452\ttrain-r2:0.97786\teval-rmse:0.09639\teval-r2:0.97706\n",
      "[1289]\ttrain-rmse:0.09452\ttrain-r2:0.97786\teval-rmse:0.09639\teval-r2:0.97706\n",
      "[1290]\ttrain-rmse:0.09452\ttrain-r2:0.97786\teval-rmse:0.09639\teval-r2:0.97706\n",
      "[1291]\ttrain-rmse:0.09452\ttrain-r2:0.97786\teval-rmse:0.09639\teval-r2:0.97706\n",
      "[1292]\ttrain-rmse:0.09452\ttrain-r2:0.97786\teval-rmse:0.09639\teval-r2:0.97706\n",
      "[1293]\ttrain-rmse:0.09450\ttrain-r2:0.97786\teval-rmse:0.09638\teval-r2:0.97707\n",
      "[1294]\ttrain-rmse:0.09450\ttrain-r2:0.97786\teval-rmse:0.09638\teval-r2:0.97707\n",
      "[1295]\ttrain-rmse:0.09450\ttrain-r2:0.97786\teval-rmse:0.09638\teval-r2:0.97707\n",
      "[1296]\ttrain-rmse:0.09450\ttrain-r2:0.97786\teval-rmse:0.09638\teval-r2:0.97707\n",
      "[1297]\ttrain-rmse:0.09450\ttrain-r2:0.97786\teval-rmse:0.09638\teval-r2:0.97707\n",
      "[1298]\ttrain-rmse:0.09450\ttrain-r2:0.97786\teval-rmse:0.09638\teval-r2:0.97707\n",
      "[1299]\ttrain-rmse:0.09450\ttrain-r2:0.97786\teval-rmse:0.09638\teval-r2:0.97707\n",
      "[1300]\ttrain-rmse:0.09450\ttrain-r2:0.97786\teval-rmse:0.09638\teval-r2:0.97707\n",
      "[1301]\ttrain-rmse:0.09450\ttrain-r2:0.97786\teval-rmse:0.09638\teval-r2:0.97707\n",
      "[1302]\ttrain-rmse:0.09450\ttrain-r2:0.97786\teval-rmse:0.09638\teval-r2:0.97707\n",
      "[1303]\ttrain-rmse:0.09450\ttrain-r2:0.97786\teval-rmse:0.09638\teval-r2:0.97707\n",
      "[1304]\ttrain-rmse:0.09450\ttrain-r2:0.97786\teval-rmse:0.09638\teval-r2:0.97707\n",
      "[1305]\ttrain-rmse:0.09450\ttrain-r2:0.97786\teval-rmse:0.09638\teval-r2:0.97707\n",
      "[1306]\ttrain-rmse:0.09450\ttrain-r2:0.97786\teval-rmse:0.09638\teval-r2:0.97707\n",
      "[1307]\ttrain-rmse:0.09450\ttrain-r2:0.97786\teval-rmse:0.09638\teval-r2:0.97707\n",
      "[1308]\ttrain-rmse:0.09447\ttrain-r2:0.97788\teval-rmse:0.09634\teval-r2:0.97708\n",
      "[1309]\ttrain-rmse:0.09447\ttrain-r2:0.97788\teval-rmse:0.09634\teval-r2:0.97708\n",
      "[1310]\ttrain-rmse:0.09447\ttrain-r2:0.97788\teval-rmse:0.09634\teval-r2:0.97708\n",
      "[1311]\ttrain-rmse:0.09447\ttrain-r2:0.97788\teval-rmse:0.09634\teval-r2:0.97708\n",
      "[1312]\ttrain-rmse:0.09444\ttrain-r2:0.97789\teval-rmse:0.09632\teval-r2:0.97710\n",
      "[1313]\ttrain-rmse:0.09444\ttrain-r2:0.97789\teval-rmse:0.09631\teval-r2:0.97710\n",
      "[1314]\ttrain-rmse:0.09444\ttrain-r2:0.97789\teval-rmse:0.09632\teval-r2:0.97710\n",
      "[1315]\ttrain-rmse:0.09444\ttrain-r2:0.97789\teval-rmse:0.09631\teval-r2:0.97710\n",
      "[1316]\ttrain-rmse:0.09442\ttrain-r2:0.97791\teval-rmse:0.09630\teval-r2:0.97711\n",
      "[1317]\ttrain-rmse:0.09442\ttrain-r2:0.97791\teval-rmse:0.09630\teval-r2:0.97711\n",
      "[1318]\ttrain-rmse:0.09439\ttrain-r2:0.97792\teval-rmse:0.09627\teval-r2:0.97712\n",
      "[1319]\ttrain-rmse:0.09439\ttrain-r2:0.97792\teval-rmse:0.09627\teval-r2:0.97712\n",
      "[1320]\ttrain-rmse:0.09439\ttrain-r2:0.97792\teval-rmse:0.09627\teval-r2:0.97712\n",
      "[1321]\ttrain-rmse:0.09439\ttrain-r2:0.97792\teval-rmse:0.09627\teval-r2:0.97712\n",
      "[1322]\ttrain-rmse:0.09439\ttrain-r2:0.97792\teval-rmse:0.09627\teval-r2:0.97712\n",
      "[1323]\ttrain-rmse:0.09439\ttrain-r2:0.97792\teval-rmse:0.09627\teval-r2:0.97712\n",
      "[1324]\ttrain-rmse:0.09439\ttrain-r2:0.97792\teval-rmse:0.09627\teval-r2:0.97712\n",
      "[1325]\ttrain-rmse:0.09439\ttrain-r2:0.97792\teval-rmse:0.09627\teval-r2:0.97712\n",
      "[1326]\ttrain-rmse:0.09439\ttrain-r2:0.97792\teval-rmse:0.09627\teval-r2:0.97712\n",
      "[1327]\ttrain-rmse:0.09438\ttrain-r2:0.97792\teval-rmse:0.09626\teval-r2:0.97712\n",
      "[1328]\ttrain-rmse:0.09438\ttrain-r2:0.97792\teval-rmse:0.09626\teval-r2:0.97712\n",
      "[1329]\ttrain-rmse:0.09438\ttrain-r2:0.97792\teval-rmse:0.09626\teval-r2:0.97712\n",
      "[1330]\ttrain-rmse:0.09438\ttrain-r2:0.97792\teval-rmse:0.09626\teval-r2:0.97712\n",
      "[1331]\ttrain-rmse:0.09438\ttrain-r2:0.97792\teval-rmse:0.09626\teval-r2:0.97712\n",
      "[1332]\ttrain-rmse:0.09438\ttrain-r2:0.97792\teval-rmse:0.09626\teval-r2:0.97712\n",
      "[1333]\ttrain-rmse:0.09438\ttrain-r2:0.97792\teval-rmse:0.09626\teval-r2:0.97712\n",
      "[1334]\ttrain-rmse:0.09438\ttrain-r2:0.97792\teval-rmse:0.09626\teval-r2:0.97712\n",
      "[1335]\ttrain-rmse:0.09438\ttrain-r2:0.97792\teval-rmse:0.09626\teval-r2:0.97712\n",
      "[1336]\ttrain-rmse:0.09438\ttrain-r2:0.97792\teval-rmse:0.09626\teval-r2:0.97712\n",
      "[1337]\ttrain-rmse:0.09438\ttrain-r2:0.97792\teval-rmse:0.09626\teval-r2:0.97712\n",
      "[1338]\ttrain-rmse:0.09438\ttrain-r2:0.97792\teval-rmse:0.09626\teval-r2:0.97712\n",
      "[1339]\ttrain-rmse:0.09436\ttrain-r2:0.97793\teval-rmse:0.09624\teval-r2:0.97713\n",
      "[1340]\ttrain-rmse:0.09436\ttrain-r2:0.97793\teval-rmse:0.09624\teval-r2:0.97713\n",
      "[1341]\ttrain-rmse:0.09436\ttrain-r2:0.97793\teval-rmse:0.09624\teval-r2:0.97713\n",
      "[1342]\ttrain-rmse:0.09436\ttrain-r2:0.97793\teval-rmse:0.09624\teval-r2:0.97713\n",
      "[1343]\ttrain-rmse:0.09436\ttrain-r2:0.97793\teval-rmse:0.09624\teval-r2:0.97713\n",
      "[1344]\ttrain-rmse:0.09435\ttrain-r2:0.97794\teval-rmse:0.09624\teval-r2:0.97713\n",
      "[1345]\ttrain-rmse:0.09435\ttrain-r2:0.97794\teval-rmse:0.09624\teval-r2:0.97713\n",
      "[1346]\ttrain-rmse:0.09435\ttrain-r2:0.97794\teval-rmse:0.09624\teval-r2:0.97713\n",
      "[1347]\ttrain-rmse:0.09435\ttrain-r2:0.97794\teval-rmse:0.09624\teval-r2:0.97713\n",
      "[1348]\ttrain-rmse:0.09433\ttrain-r2:0.97795\teval-rmse:0.09621\teval-r2:0.97714\n",
      "[1349]\ttrain-rmse:0.09433\ttrain-r2:0.97795\teval-rmse:0.09621\teval-r2:0.97714\n",
      "[1350]\ttrain-rmse:0.09433\ttrain-r2:0.97795\teval-rmse:0.09621\teval-r2:0.97714\n",
      "[1351]\ttrain-rmse:0.09433\ttrain-r2:0.97795\teval-rmse:0.09621\teval-r2:0.97714\n",
      "[1352]\ttrain-rmse:0.09433\ttrain-r2:0.97795\teval-rmse:0.09621\teval-r2:0.97714\n",
      "[1353]\ttrain-rmse:0.09431\ttrain-r2:0.97795\teval-rmse:0.09621\teval-r2:0.97715\n",
      "[1354]\ttrain-rmse:0.09431\ttrain-r2:0.97795\teval-rmse:0.09621\teval-r2:0.97715\n",
      "[1355]\ttrain-rmse:0.09431\ttrain-r2:0.97795\teval-rmse:0.09621\teval-r2:0.97715\n",
      "[1356]\ttrain-rmse:0.09431\ttrain-r2:0.97795\teval-rmse:0.09621\teval-r2:0.97715\n",
      "[1357]\ttrain-rmse:0.09429\ttrain-r2:0.97796\teval-rmse:0.09619\teval-r2:0.97716\n",
      "[1358]\ttrain-rmse:0.09427\ttrain-r2:0.97797\teval-rmse:0.09616\teval-r2:0.97717\n",
      "[1359]\ttrain-rmse:0.09427\ttrain-r2:0.97797\teval-rmse:0.09616\teval-r2:0.97717\n",
      "[1360]\ttrain-rmse:0.09427\ttrain-r2:0.97797\teval-rmse:0.09616\teval-r2:0.97717\n",
      "[1361]\ttrain-rmse:0.09422\ttrain-r2:0.97799\teval-rmse:0.09612\teval-r2:0.97719\n",
      "[1362]\ttrain-rmse:0.09422\ttrain-r2:0.97799\teval-rmse:0.09612\teval-r2:0.97719\n",
      "[1363]\ttrain-rmse:0.09422\ttrain-r2:0.97799\teval-rmse:0.09612\teval-r2:0.97719\n",
      "[1364]\ttrain-rmse:0.09422\ttrain-r2:0.97799\teval-rmse:0.09612\teval-r2:0.97719\n",
      "[1365]\ttrain-rmse:0.09422\ttrain-r2:0.97799\teval-rmse:0.09612\teval-r2:0.97719\n",
      "[1366]\ttrain-rmse:0.09422\ttrain-r2:0.97799\teval-rmse:0.09612\teval-r2:0.97719\n",
      "[1367]\ttrain-rmse:0.09422\ttrain-r2:0.97799\teval-rmse:0.09612\teval-r2:0.97719\n",
      "[1368]\ttrain-rmse:0.09422\ttrain-r2:0.97799\teval-rmse:0.09612\teval-r2:0.97719\n",
      "[1369]\ttrain-rmse:0.09422\ttrain-r2:0.97799\teval-rmse:0.09612\teval-r2:0.97719\n",
      "[1370]\ttrain-rmse:0.09422\ttrain-r2:0.97799\teval-rmse:0.09612\teval-r2:0.97719\n",
      "[1371]\ttrain-rmse:0.09422\ttrain-r2:0.97799\teval-rmse:0.09612\teval-r2:0.97719\n",
      "[1372]\ttrain-rmse:0.09422\ttrain-r2:0.97799\teval-rmse:0.09612\teval-r2:0.97719\n",
      "[1373]\ttrain-rmse:0.09422\ttrain-r2:0.97799\teval-rmse:0.09612\teval-r2:0.97719\n",
      "[1374]\ttrain-rmse:0.09422\ttrain-r2:0.97799\teval-rmse:0.09612\teval-r2:0.97719\n",
      "[1375]\ttrain-rmse:0.09422\ttrain-r2:0.97799\teval-rmse:0.09612\teval-r2:0.97719\n",
      "[1376]\ttrain-rmse:0.09421\ttrain-r2:0.97800\teval-rmse:0.09611\teval-r2:0.97720\n",
      "[1377]\ttrain-rmse:0.09418\ttrain-r2:0.97801\teval-rmse:0.09609\teval-r2:0.97720\n",
      "[1378]\ttrain-rmse:0.09418\ttrain-r2:0.97801\teval-rmse:0.09609\teval-r2:0.97720\n",
      "[1379]\ttrain-rmse:0.09418\ttrain-r2:0.97801\teval-rmse:0.09609\teval-r2:0.97720\n",
      "[1380]\ttrain-rmse:0.09416\ttrain-r2:0.97803\teval-rmse:0.09606\teval-r2:0.97722\n",
      "[1381]\ttrain-rmse:0.09416\ttrain-r2:0.97803\teval-rmse:0.09606\teval-r2:0.97722\n",
      "[1382]\ttrain-rmse:0.09416\ttrain-r2:0.97803\teval-rmse:0.09606\teval-r2:0.97722\n",
      "[1383]\ttrain-rmse:0.09416\ttrain-r2:0.97803\teval-rmse:0.09606\teval-r2:0.97722\n",
      "[1384]\ttrain-rmse:0.09416\ttrain-r2:0.97803\teval-rmse:0.09606\teval-r2:0.97722\n",
      "[1385]\ttrain-rmse:0.09416\ttrain-r2:0.97803\teval-rmse:0.09606\teval-r2:0.97722\n",
      "[1386]\ttrain-rmse:0.09416\ttrain-r2:0.97803\teval-rmse:0.09606\teval-r2:0.97722\n",
      "[1387]\ttrain-rmse:0.09416\ttrain-r2:0.97803\teval-rmse:0.09606\teval-r2:0.97722\n",
      "[1388]\ttrain-rmse:0.09416\ttrain-r2:0.97803\teval-rmse:0.09606\teval-r2:0.97722\n",
      "[1389]\ttrain-rmse:0.09414\ttrain-r2:0.97803\teval-rmse:0.09605\teval-r2:0.97722\n",
      "[1390]\ttrain-rmse:0.09414\ttrain-r2:0.97803\teval-rmse:0.09605\teval-r2:0.97722\n",
      "[1391]\ttrain-rmse:0.09414\ttrain-r2:0.97803\teval-rmse:0.09605\teval-r2:0.97722\n",
      "[1392]\ttrain-rmse:0.09414\ttrain-r2:0.97803\teval-rmse:0.09605\teval-r2:0.97722\n",
      "[1393]\ttrain-rmse:0.09414\ttrain-r2:0.97803\teval-rmse:0.09605\teval-r2:0.97722\n",
      "[1394]\ttrain-rmse:0.09414\ttrain-r2:0.97803\teval-rmse:0.09605\teval-r2:0.97722\n",
      "[1395]\ttrain-rmse:0.09414\ttrain-r2:0.97803\teval-rmse:0.09605\teval-r2:0.97722\n",
      "[1396]\ttrain-rmse:0.09414\ttrain-r2:0.97803\teval-rmse:0.09605\teval-r2:0.97722\n",
      "[1397]\ttrain-rmse:0.09412\ttrain-r2:0.97805\teval-rmse:0.09602\teval-r2:0.97723\n",
      "[1398]\ttrain-rmse:0.09412\ttrain-r2:0.97805\teval-rmse:0.09602\teval-r2:0.97723\n",
      "[1399]\ttrain-rmse:0.09412\ttrain-r2:0.97805\teval-rmse:0.09602\teval-r2:0.97723\n",
      "[1400]\ttrain-rmse:0.09411\ttrain-r2:0.97805\teval-rmse:0.09602\teval-r2:0.97724\n",
      "[1401]\ttrain-rmse:0.09411\ttrain-r2:0.97805\teval-rmse:0.09602\teval-r2:0.97724\n",
      "[1402]\ttrain-rmse:0.09411\ttrain-r2:0.97805\teval-rmse:0.09602\teval-r2:0.97724\n",
      "[1403]\ttrain-rmse:0.09411\ttrain-r2:0.97805\teval-rmse:0.09602\teval-r2:0.97724\n",
      "[1404]\ttrain-rmse:0.09411\ttrain-r2:0.97805\teval-rmse:0.09602\teval-r2:0.97724\n",
      "[1405]\ttrain-rmse:0.09410\ttrain-r2:0.97805\teval-rmse:0.09601\teval-r2:0.97724\n",
      "[1406]\ttrain-rmse:0.09410\ttrain-r2:0.97805\teval-rmse:0.09601\teval-r2:0.97724\n",
      "[1407]\ttrain-rmse:0.09410\ttrain-r2:0.97805\teval-rmse:0.09601\teval-r2:0.97724\n",
      "[1408]\ttrain-rmse:0.09410\ttrain-r2:0.97805\teval-rmse:0.09601\teval-r2:0.97724\n",
      "[1409]\ttrain-rmse:0.09410\ttrain-r2:0.97805\teval-rmse:0.09601\teval-r2:0.97724\n",
      "[1410]\ttrain-rmse:0.09410\ttrain-r2:0.97805\teval-rmse:0.09601\teval-r2:0.97724\n",
      "[1411]\ttrain-rmse:0.09410\ttrain-r2:0.97805\teval-rmse:0.09601\teval-r2:0.97724\n",
      "[1412]\ttrain-rmse:0.09410\ttrain-r2:0.97805\teval-rmse:0.09601\teval-r2:0.97724\n",
      "[1413]\ttrain-rmse:0.09410\ttrain-r2:0.97805\teval-rmse:0.09601\teval-r2:0.97724\n",
      "[1414]\ttrain-rmse:0.09410\ttrain-r2:0.97805\teval-rmse:0.09601\teval-r2:0.97724\n",
      "[1415]\ttrain-rmse:0.09408\ttrain-r2:0.97806\teval-rmse:0.09599\teval-r2:0.97725\n",
      "[1416]\ttrain-rmse:0.09408\ttrain-r2:0.97806\teval-rmse:0.09599\teval-r2:0.97725\n",
      "[1417]\ttrain-rmse:0.09408\ttrain-r2:0.97806\teval-rmse:0.09599\teval-r2:0.97725\n",
      "[1418]\ttrain-rmse:0.09408\ttrain-r2:0.97806\teval-rmse:0.09599\teval-r2:0.97725\n",
      "[1419]\ttrain-rmse:0.09408\ttrain-r2:0.97806\teval-rmse:0.09599\teval-r2:0.97725\n",
      "[1420]\ttrain-rmse:0.09408\ttrain-r2:0.97806\teval-rmse:0.09599\teval-r2:0.97725\n",
      "[1421]\ttrain-rmse:0.09408\ttrain-r2:0.97806\teval-rmse:0.09599\teval-r2:0.97725\n",
      "[1422]\ttrain-rmse:0.09408\ttrain-r2:0.97806\teval-rmse:0.09599\teval-r2:0.97725\n",
      "[1423]\ttrain-rmse:0.09408\ttrain-r2:0.97806\teval-rmse:0.09599\teval-r2:0.97725\n",
      "[1424]\ttrain-rmse:0.09408\ttrain-r2:0.97806\teval-rmse:0.09599\teval-r2:0.97725\n",
      "[1425]\ttrain-rmse:0.09408\ttrain-r2:0.97806\teval-rmse:0.09599\teval-r2:0.97725\n",
      "[1426]\ttrain-rmse:0.09408\ttrain-r2:0.97806\teval-rmse:0.09599\teval-r2:0.97725\n",
      "[1427]\ttrain-rmse:0.09406\ttrain-r2:0.97807\teval-rmse:0.09597\teval-r2:0.97726\n",
      "[1428]\ttrain-rmse:0.09406\ttrain-r2:0.97807\teval-rmse:0.09597\teval-r2:0.97726\n",
      "[1429]\ttrain-rmse:0.09406\ttrain-r2:0.97807\teval-rmse:0.09597\teval-r2:0.97726\n",
      "[1430]\ttrain-rmse:0.09406\ttrain-r2:0.97807\teval-rmse:0.09597\teval-r2:0.97726\n",
      "[1431]\ttrain-rmse:0.09406\ttrain-r2:0.97807\teval-rmse:0.09597\teval-r2:0.97726\n",
      "[1432]\ttrain-rmse:0.09404\ttrain-r2:0.97808\teval-rmse:0.09595\teval-r2:0.97727\n",
      "[1433]\ttrain-rmse:0.09403\ttrain-r2:0.97809\teval-rmse:0.09594\teval-r2:0.97727\n",
      "[1434]\ttrain-rmse:0.09403\ttrain-r2:0.97809\teval-rmse:0.09594\teval-r2:0.97727\n",
      "[1435]\ttrain-rmse:0.09403\ttrain-r2:0.97809\teval-rmse:0.09594\teval-r2:0.97727\n",
      "[1436]\ttrain-rmse:0.09403\ttrain-r2:0.97809\teval-rmse:0.09594\teval-r2:0.97727\n",
      "[1437]\ttrain-rmse:0.09403\ttrain-r2:0.97809\teval-rmse:0.09594\teval-r2:0.97727\n",
      "[1438]\ttrain-rmse:0.09401\ttrain-r2:0.97810\teval-rmse:0.09592\teval-r2:0.97728\n",
      "[1439]\ttrain-rmse:0.09401\ttrain-r2:0.97810\teval-rmse:0.09592\teval-r2:0.97728\n",
      "[1440]\ttrain-rmse:0.09398\ttrain-r2:0.97811\teval-rmse:0.09590\teval-r2:0.97729\n",
      "[1441]\ttrain-rmse:0.09395\ttrain-r2:0.97812\teval-rmse:0.09587\teval-r2:0.97731\n",
      "[1442]\ttrain-rmse:0.09395\ttrain-r2:0.97812\teval-rmse:0.09587\teval-r2:0.97731\n",
      "[1443]\ttrain-rmse:0.09394\ttrain-r2:0.97813\teval-rmse:0.09586\teval-r2:0.97731\n",
      "[1444]\ttrain-rmse:0.09393\ttrain-r2:0.97813\teval-rmse:0.09586\teval-r2:0.97731\n",
      "[1445]\ttrain-rmse:0.09393\ttrain-r2:0.97813\teval-rmse:0.09586\teval-r2:0.97731\n",
      "[1446]\ttrain-rmse:0.09393\ttrain-r2:0.97813\teval-rmse:0.09586\teval-r2:0.97731\n",
      "[1447]\ttrain-rmse:0.09393\ttrain-r2:0.97813\teval-rmse:0.09586\teval-r2:0.97731\n",
      "[1448]\ttrain-rmse:0.09393\ttrain-r2:0.97813\teval-rmse:0.09586\teval-r2:0.97731\n",
      "[1449]\ttrain-rmse:0.09393\ttrain-r2:0.97813\teval-rmse:0.09586\teval-r2:0.97731\n",
      "[1450]\ttrain-rmse:0.09393\ttrain-r2:0.97813\teval-rmse:0.09586\teval-r2:0.97731\n",
      "[1451]\ttrain-rmse:0.09393\ttrain-r2:0.97813\teval-rmse:0.09585\teval-r2:0.97732\n",
      "[1452]\ttrain-rmse:0.09393\ttrain-r2:0.97813\teval-rmse:0.09585\teval-r2:0.97732\n",
      "[1453]\ttrain-rmse:0.09392\ttrain-r2:0.97814\teval-rmse:0.09585\teval-r2:0.97732\n",
      "[1454]\ttrain-rmse:0.09392\ttrain-r2:0.97814\teval-rmse:0.09585\teval-r2:0.97732\n",
      "[1455]\ttrain-rmse:0.09392\ttrain-r2:0.97814\teval-rmse:0.09585\teval-r2:0.97732\n",
      "[1456]\ttrain-rmse:0.09391\ttrain-r2:0.97814\teval-rmse:0.09583\teval-r2:0.97733\n",
      "[1457]\ttrain-rmse:0.09388\ttrain-r2:0.97815\teval-rmse:0.09581\teval-r2:0.97734\n",
      "[1458]\ttrain-rmse:0.09388\ttrain-r2:0.97815\teval-rmse:0.09581\teval-r2:0.97734\n",
      "[1459]\ttrain-rmse:0.09388\ttrain-r2:0.97815\teval-rmse:0.09581\teval-r2:0.97734\n",
      "[1460]\ttrain-rmse:0.09388\ttrain-r2:0.97816\teval-rmse:0.09580\teval-r2:0.97734\n",
      "[1461]\ttrain-rmse:0.09388\ttrain-r2:0.97816\teval-rmse:0.09580\teval-r2:0.97734\n",
      "[1462]\ttrain-rmse:0.09388\ttrain-r2:0.97816\teval-rmse:0.09580\teval-r2:0.97734\n",
      "[1463]\ttrain-rmse:0.09386\ttrain-r2:0.97817\teval-rmse:0.09579\teval-r2:0.97735\n",
      "[1464]\ttrain-rmse:0.09386\ttrain-r2:0.97817\teval-rmse:0.09579\teval-r2:0.97735\n",
      "[1465]\ttrain-rmse:0.09384\ttrain-r2:0.97817\teval-rmse:0.09577\teval-r2:0.97735\n",
      "[1466]\ttrain-rmse:0.09384\ttrain-r2:0.97817\teval-rmse:0.09577\teval-r2:0.97735\n",
      "[1467]\ttrain-rmse:0.09384\ttrain-r2:0.97817\teval-rmse:0.09577\teval-r2:0.97735\n",
      "[1468]\ttrain-rmse:0.09384\ttrain-r2:0.97817\teval-rmse:0.09577\teval-r2:0.97735\n",
      "[1469]\ttrain-rmse:0.09384\ttrain-r2:0.97817\teval-rmse:0.09577\teval-r2:0.97735\n",
      "[1470]\ttrain-rmse:0.09384\ttrain-r2:0.97817\teval-rmse:0.09577\teval-r2:0.97735\n",
      "[1471]\ttrain-rmse:0.09383\ttrain-r2:0.97818\teval-rmse:0.09576\teval-r2:0.97736\n",
      "[1472]\ttrain-rmse:0.09383\ttrain-r2:0.97818\teval-rmse:0.09576\teval-r2:0.97736\n",
      "[1473]\ttrain-rmse:0.09382\ttrain-r2:0.97818\teval-rmse:0.09575\teval-r2:0.97736\n",
      "[1474]\ttrain-rmse:0.09382\ttrain-r2:0.97818\teval-rmse:0.09575\teval-r2:0.97736\n",
      "[1475]\ttrain-rmse:0.09382\ttrain-r2:0.97818\teval-rmse:0.09575\teval-r2:0.97736\n",
      "[1476]\ttrain-rmse:0.09378\ttrain-r2:0.97820\teval-rmse:0.09572\teval-r2:0.97738\n",
      "[1477]\ttrain-rmse:0.09378\ttrain-r2:0.97820\teval-rmse:0.09572\teval-r2:0.97738\n",
      "[1478]\ttrain-rmse:0.09378\ttrain-r2:0.97820\teval-rmse:0.09572\teval-r2:0.97738\n",
      "[1479]\ttrain-rmse:0.09378\ttrain-r2:0.97820\teval-rmse:0.09572\teval-r2:0.97738\n",
      "[1480]\ttrain-rmse:0.09378\ttrain-r2:0.97820\teval-rmse:0.09572\teval-r2:0.97738\n",
      "[1481]\ttrain-rmse:0.09378\ttrain-r2:0.97820\teval-rmse:0.09572\teval-r2:0.97738\n",
      "[1482]\ttrain-rmse:0.09378\ttrain-r2:0.97820\teval-rmse:0.09572\teval-r2:0.97738\n",
      "[1483]\ttrain-rmse:0.09376\ttrain-r2:0.97821\teval-rmse:0.09570\teval-r2:0.97739\n",
      "[1484]\ttrain-rmse:0.09376\ttrain-r2:0.97821\teval-rmse:0.09570\teval-r2:0.97739\n",
      "[1485]\ttrain-rmse:0.09376\ttrain-r2:0.97821\teval-rmse:0.09570\teval-r2:0.97739\n",
      "[1486]\ttrain-rmse:0.09374\ttrain-r2:0.97822\teval-rmse:0.09569\teval-r2:0.97739\n",
      "[1487]\ttrain-rmse:0.09374\ttrain-r2:0.97822\teval-rmse:0.09569\teval-r2:0.97739\n",
      "[1488]\ttrain-rmse:0.09371\ttrain-r2:0.97823\teval-rmse:0.09566\teval-r2:0.97741\n",
      "[1489]\ttrain-rmse:0.09371\ttrain-r2:0.97823\teval-rmse:0.09566\teval-r2:0.97741\n",
      "[1490]\ttrain-rmse:0.09371\ttrain-r2:0.97823\teval-rmse:0.09566\teval-r2:0.97741\n",
      "[1491]\ttrain-rmse:0.09371\ttrain-r2:0.97823\teval-rmse:0.09566\teval-r2:0.97741\n",
      "[1492]\ttrain-rmse:0.09371\ttrain-r2:0.97823\teval-rmse:0.09566\teval-r2:0.97741\n",
      "[1493]\ttrain-rmse:0.09371\ttrain-r2:0.97823\teval-rmse:0.09566\teval-r2:0.97741\n",
      "[1494]\ttrain-rmse:0.09371\ttrain-r2:0.97823\teval-rmse:0.09566\teval-r2:0.97741\n",
      "[1495]\ttrain-rmse:0.09371\ttrain-r2:0.97823\teval-rmse:0.09566\teval-r2:0.97741\n",
      "[1496]\ttrain-rmse:0.09371\ttrain-r2:0.97823\teval-rmse:0.09566\teval-r2:0.97741\n",
      "[1497]\ttrain-rmse:0.09370\ttrain-r2:0.97824\teval-rmse:0.09566\teval-r2:0.97741\n",
      "[1498]\ttrain-rmse:0.09370\ttrain-r2:0.97824\teval-rmse:0.09566\teval-r2:0.97741\n",
      "[1499]\ttrain-rmse:0.09370\ttrain-r2:0.97824\teval-rmse:0.09566\teval-r2:0.97741\n",
      "[1500]\ttrain-rmse:0.09367\ttrain-r2:0.97825\teval-rmse:0.09564\teval-r2:0.97742\n",
      "[1501]\ttrain-rmse:0.09367\ttrain-r2:0.97825\teval-rmse:0.09564\teval-r2:0.97742\n",
      "[1502]\ttrain-rmse:0.09367\ttrain-r2:0.97825\teval-rmse:0.09564\teval-r2:0.97742\n",
      "[1503]\ttrain-rmse:0.09367\ttrain-r2:0.97825\teval-rmse:0.09564\teval-r2:0.97742\n",
      "[1504]\ttrain-rmse:0.09365\ttrain-r2:0.97826\teval-rmse:0.09562\teval-r2:0.97742\n",
      "[1505]\ttrain-rmse:0.09365\ttrain-r2:0.97826\teval-rmse:0.09562\teval-r2:0.97742\n",
      "[1506]\ttrain-rmse:0.09365\ttrain-r2:0.97826\teval-rmse:0.09562\teval-r2:0.97742\n",
      "[1507]\ttrain-rmse:0.09363\ttrain-r2:0.97827\teval-rmse:0.09560\teval-r2:0.97744\n",
      "[1508]\ttrain-rmse:0.09363\ttrain-r2:0.97827\teval-rmse:0.09560\teval-r2:0.97744\n",
      "[1509]\ttrain-rmse:0.09363\ttrain-r2:0.97827\teval-rmse:0.09560\teval-r2:0.97744\n",
      "[1510]\ttrain-rmse:0.09363\ttrain-r2:0.97827\teval-rmse:0.09560\teval-r2:0.97744\n",
      "[1511]\ttrain-rmse:0.09363\ttrain-r2:0.97827\teval-rmse:0.09560\teval-r2:0.97744\n",
      "[1512]\ttrain-rmse:0.09361\ttrain-r2:0.97828\teval-rmse:0.09558\teval-r2:0.97745\n",
      "[1513]\ttrain-rmse:0.09361\ttrain-r2:0.97828\teval-rmse:0.09558\teval-r2:0.97745\n",
      "[1514]\ttrain-rmse:0.09361\ttrain-r2:0.97828\teval-rmse:0.09558\teval-r2:0.97745\n",
      "[1515]\ttrain-rmse:0.09360\ttrain-r2:0.97829\teval-rmse:0.09557\teval-r2:0.97745\n",
      "[1516]\ttrain-rmse:0.09360\ttrain-r2:0.97829\teval-rmse:0.09557\teval-r2:0.97745\n",
      "[1517]\ttrain-rmse:0.09360\ttrain-r2:0.97829\teval-rmse:0.09557\teval-r2:0.97745\n",
      "[1518]\ttrain-rmse:0.09360\ttrain-r2:0.97829\teval-rmse:0.09557\teval-r2:0.97745\n",
      "[1519]\ttrain-rmse:0.09360\ttrain-r2:0.97829\teval-rmse:0.09557\teval-r2:0.97745\n",
      "[1520]\ttrain-rmse:0.09360\ttrain-r2:0.97829\teval-rmse:0.09557\teval-r2:0.97745\n",
      "[1521]\ttrain-rmse:0.09360\ttrain-r2:0.97829\teval-rmse:0.09557\teval-r2:0.97745\n",
      "[1522]\ttrain-rmse:0.09359\ttrain-r2:0.97829\teval-rmse:0.09557\teval-r2:0.97745\n",
      "[1523]\ttrain-rmse:0.09359\ttrain-r2:0.97829\teval-rmse:0.09557\teval-r2:0.97745\n",
      "[1524]\ttrain-rmse:0.09359\ttrain-r2:0.97829\teval-rmse:0.09557\teval-r2:0.97745\n",
      "[1525]\ttrain-rmse:0.09359\ttrain-r2:0.97829\teval-rmse:0.09557\teval-r2:0.97745\n",
      "[1526]\ttrain-rmse:0.09359\ttrain-r2:0.97829\teval-rmse:0.09557\teval-r2:0.97745\n",
      "[1527]\ttrain-rmse:0.09359\ttrain-r2:0.97829\teval-rmse:0.09557\teval-r2:0.97745\n",
      "[1528]\ttrain-rmse:0.09359\ttrain-r2:0.97829\teval-rmse:0.09557\teval-r2:0.97745\n",
      "[1529]\ttrain-rmse:0.09359\ttrain-r2:0.97829\teval-rmse:0.09557\teval-r2:0.97745\n",
      "[1530]\ttrain-rmse:0.09359\ttrain-r2:0.97829\teval-rmse:0.09557\teval-r2:0.97745\n",
      "[1531]\ttrain-rmse:0.09359\ttrain-r2:0.97829\teval-rmse:0.09557\teval-r2:0.97745\n",
      "[1532]\ttrain-rmse:0.09359\ttrain-r2:0.97829\teval-rmse:0.09557\teval-r2:0.97745\n",
      "[1533]\ttrain-rmse:0.09359\ttrain-r2:0.97829\teval-rmse:0.09557\teval-r2:0.97745\n",
      "[1534]\ttrain-rmse:0.09359\ttrain-r2:0.97829\teval-rmse:0.09557\teval-r2:0.97745\n",
      "[1535]\ttrain-rmse:0.09359\ttrain-r2:0.97829\teval-rmse:0.09557\teval-r2:0.97745\n",
      "[1536]\ttrain-rmse:0.09359\ttrain-r2:0.97829\teval-rmse:0.09557\teval-r2:0.97745\n",
      "[1537]\ttrain-rmse:0.09359\ttrain-r2:0.97829\teval-rmse:0.09557\teval-r2:0.97745\n",
      "[1538]\ttrain-rmse:0.09359\ttrain-r2:0.97829\teval-rmse:0.09557\teval-r2:0.97745\n",
      "[1539]\ttrain-rmse:0.09359\ttrain-r2:0.97829\teval-rmse:0.09557\teval-r2:0.97745\n",
      "[1540]\ttrain-rmse:0.09359\ttrain-r2:0.97829\teval-rmse:0.09556\teval-r2:0.97745\n",
      "[1541]\ttrain-rmse:0.09358\ttrain-r2:0.97830\teval-rmse:0.09555\teval-r2:0.97746\n",
      "[1542]\ttrain-rmse:0.09358\ttrain-r2:0.97830\teval-rmse:0.09555\teval-r2:0.97746\n",
      "[1543]\ttrain-rmse:0.09358\ttrain-r2:0.97830\teval-rmse:0.09555\teval-r2:0.97746\n",
      "[1544]\ttrain-rmse:0.09358\ttrain-r2:0.97830\teval-rmse:0.09555\teval-r2:0.97746\n",
      "[1545]\ttrain-rmse:0.09358\ttrain-r2:0.97830\teval-rmse:0.09555\teval-r2:0.97746\n",
      "[1546]\ttrain-rmse:0.09356\ttrain-r2:0.97830\teval-rmse:0.09554\teval-r2:0.97747\n",
      "[1547]\ttrain-rmse:0.09356\ttrain-r2:0.97830\teval-rmse:0.09554\teval-r2:0.97747\n",
      "[1548]\ttrain-rmse:0.09356\ttrain-r2:0.97830\teval-rmse:0.09554\teval-r2:0.97747\n",
      "[1549]\ttrain-rmse:0.09356\ttrain-r2:0.97830\teval-rmse:0.09554\teval-r2:0.97747\n",
      "[1550]\ttrain-rmse:0.09356\ttrain-r2:0.97830\teval-rmse:0.09554\teval-r2:0.97747\n",
      "[1551]\ttrain-rmse:0.09356\ttrain-r2:0.97830\teval-rmse:0.09554\teval-r2:0.97747\n",
      "[1552]\ttrain-rmse:0.09356\ttrain-r2:0.97830\teval-rmse:0.09554\teval-r2:0.97747\n",
      "[1553]\ttrain-rmse:0.09356\ttrain-r2:0.97830\teval-rmse:0.09554\teval-r2:0.97747\n",
      "[1554]\ttrain-rmse:0.09356\ttrain-r2:0.97830\teval-rmse:0.09554\teval-r2:0.97747\n",
      "[1555]\ttrain-rmse:0.09354\ttrain-r2:0.97831\teval-rmse:0.09551\teval-r2:0.97748\n",
      "[1556]\ttrain-rmse:0.09354\ttrain-r2:0.97831\teval-rmse:0.09551\teval-r2:0.97748\n",
      "[1557]\ttrain-rmse:0.09354\ttrain-r2:0.97831\teval-rmse:0.09551\teval-r2:0.97748\n",
      "[1558]\ttrain-rmse:0.09354\ttrain-r2:0.97831\teval-rmse:0.09551\teval-r2:0.97748\n",
      "[1559]\ttrain-rmse:0.09354\ttrain-r2:0.97831\teval-rmse:0.09551\teval-r2:0.97748\n",
      "[1560]\ttrain-rmse:0.09354\ttrain-r2:0.97831\teval-rmse:0.09551\teval-r2:0.97748\n",
      "[1561]\ttrain-rmse:0.09354\ttrain-r2:0.97831\teval-rmse:0.09551\teval-r2:0.97748\n",
      "[1562]\ttrain-rmse:0.09354\ttrain-r2:0.97831\teval-rmse:0.09551\teval-r2:0.97748\n",
      "[1563]\ttrain-rmse:0.09354\ttrain-r2:0.97831\teval-rmse:0.09551\teval-r2:0.97748\n",
      "[1564]\ttrain-rmse:0.09354\ttrain-r2:0.97831\teval-rmse:0.09551\teval-r2:0.97748\n",
      "[1565]\ttrain-rmse:0.09352\ttrain-r2:0.97832\teval-rmse:0.09549\teval-r2:0.97749\n",
      "[1566]\ttrain-rmse:0.09352\ttrain-r2:0.97832\teval-rmse:0.09549\teval-r2:0.97749\n",
      "[1567]\ttrain-rmse:0.09352\ttrain-r2:0.97832\teval-rmse:0.09549\teval-r2:0.97749\n",
      "[1568]\ttrain-rmse:0.09352\ttrain-r2:0.97832\teval-rmse:0.09549\teval-r2:0.97749\n",
      "[1569]\ttrain-rmse:0.09352\ttrain-r2:0.97832\teval-rmse:0.09549\teval-r2:0.97749\n",
      "[1570]\ttrain-rmse:0.09352\ttrain-r2:0.97832\teval-rmse:0.09549\teval-r2:0.97749\n",
      "[1571]\ttrain-rmse:0.09352\ttrain-r2:0.97832\teval-rmse:0.09549\teval-r2:0.97749\n",
      "[1572]\ttrain-rmse:0.09352\ttrain-r2:0.97832\teval-rmse:0.09549\teval-r2:0.97749\n",
      "[1573]\ttrain-rmse:0.09352\ttrain-r2:0.97832\teval-rmse:0.09549\teval-r2:0.97749\n",
      "[1574]\ttrain-rmse:0.09352\ttrain-r2:0.97832\teval-rmse:0.09549\teval-r2:0.97749\n",
      "[1575]\ttrain-rmse:0.09352\ttrain-r2:0.97832\teval-rmse:0.09549\teval-r2:0.97749\n",
      "[1576]\ttrain-rmse:0.09352\ttrain-r2:0.97832\teval-rmse:0.09549\teval-r2:0.97749\n",
      "[1577]\ttrain-rmse:0.09352\ttrain-r2:0.97832\teval-rmse:0.09549\teval-r2:0.97749\n",
      "[1578]\ttrain-rmse:0.09352\ttrain-r2:0.97832\teval-rmse:0.09549\teval-r2:0.97749\n",
      "[1579]\ttrain-rmse:0.09352\ttrain-r2:0.97832\teval-rmse:0.09549\teval-r2:0.97749\n",
      "[1580]\ttrain-rmse:0.09352\ttrain-r2:0.97832\teval-rmse:0.09549\teval-r2:0.97749\n",
      "[1581]\ttrain-rmse:0.09352\ttrain-r2:0.97832\teval-rmse:0.09549\teval-r2:0.97749\n",
      "[1582]\ttrain-rmse:0.09352\ttrain-r2:0.97832\teval-rmse:0.09549\teval-r2:0.97749\n",
      "[1583]\ttrain-rmse:0.09352\ttrain-r2:0.97832\teval-rmse:0.09549\teval-r2:0.97749\n",
      "[1584]\ttrain-rmse:0.09352\ttrain-r2:0.97832\teval-rmse:0.09549\teval-r2:0.97749\n",
      "[1585]\ttrain-rmse:0.09352\ttrain-r2:0.97832\teval-rmse:0.09549\teval-r2:0.97749\n",
      "[1586]\ttrain-rmse:0.09350\ttrain-r2:0.97833\teval-rmse:0.09548\teval-r2:0.97749\n",
      "[1587]\ttrain-rmse:0.09350\ttrain-r2:0.97833\teval-rmse:0.09548\teval-r2:0.97749\n",
      "[1588]\ttrain-rmse:0.09350\ttrain-r2:0.97833\teval-rmse:0.09548\teval-r2:0.97749\n",
      "[1589]\ttrain-rmse:0.09350\ttrain-r2:0.97833\teval-rmse:0.09548\teval-r2:0.97749\n",
      "[1590]\ttrain-rmse:0.09350\ttrain-r2:0.97833\teval-rmse:0.09548\teval-r2:0.97749\n",
      "[1591]\ttrain-rmse:0.09350\ttrain-r2:0.97833\teval-rmse:0.09548\teval-r2:0.97749\n",
      "[1592]\ttrain-rmse:0.09350\ttrain-r2:0.97833\teval-rmse:0.09548\teval-r2:0.97749\n",
      "[1593]\ttrain-rmse:0.09350\ttrain-r2:0.97833\teval-rmse:0.09548\teval-r2:0.97749\n",
      "[1594]\ttrain-rmse:0.09350\ttrain-r2:0.97833\teval-rmse:0.09548\teval-r2:0.97749\n",
      "[1595]\ttrain-rmse:0.09350\ttrain-r2:0.97833\teval-rmse:0.09548\teval-r2:0.97749\n",
      "[1596]\ttrain-rmse:0.09350\ttrain-r2:0.97833\teval-rmse:0.09548\teval-r2:0.97749\n",
      "[1597]\ttrain-rmse:0.09350\ttrain-r2:0.97833\teval-rmse:0.09548\teval-r2:0.97749\n",
      "[1598]\ttrain-rmse:0.09350\ttrain-r2:0.97833\teval-rmse:0.09548\teval-r2:0.97749\n",
      "[1599]\ttrain-rmse:0.09348\ttrain-r2:0.97834\teval-rmse:0.09545\teval-r2:0.97750\n",
      "[1600]\ttrain-rmse:0.09348\ttrain-r2:0.97834\teval-rmse:0.09545\teval-r2:0.97750\n",
      "[1601]\ttrain-rmse:0.09348\ttrain-r2:0.97834\teval-rmse:0.09545\teval-r2:0.97750\n",
      "[1602]\ttrain-rmse:0.09348\ttrain-r2:0.97834\teval-rmse:0.09545\teval-r2:0.97750\n",
      "[1603]\ttrain-rmse:0.09348\ttrain-r2:0.97834\teval-rmse:0.09545\teval-r2:0.97750\n",
      "[1604]\ttrain-rmse:0.09348\ttrain-r2:0.97834\teval-rmse:0.09545\teval-r2:0.97750\n",
      "[1605]\ttrain-rmse:0.09345\ttrain-r2:0.97835\teval-rmse:0.09543\teval-r2:0.97752\n",
      "[1606]\ttrain-rmse:0.09345\ttrain-r2:0.97835\teval-rmse:0.09543\teval-r2:0.97752\n",
      "[1607]\ttrain-rmse:0.09345\ttrain-r2:0.97835\teval-rmse:0.09543\teval-r2:0.97752\n",
      "[1608]\ttrain-rmse:0.09345\ttrain-r2:0.97835\teval-rmse:0.09543\teval-r2:0.97752\n",
      "[1609]\ttrain-rmse:0.09345\ttrain-r2:0.97835\teval-rmse:0.09543\teval-r2:0.97752\n",
      "[1610]\ttrain-rmse:0.09345\ttrain-r2:0.97835\teval-rmse:0.09543\teval-r2:0.97752\n",
      "[1611]\ttrain-rmse:0.09345\ttrain-r2:0.97835\teval-rmse:0.09543\teval-r2:0.97752\n",
      "[1612]\ttrain-rmse:0.09345\ttrain-r2:0.97835\teval-rmse:0.09543\teval-r2:0.97752\n",
      "[1613]\ttrain-rmse:0.09345\ttrain-r2:0.97835\teval-rmse:0.09543\teval-r2:0.97752\n",
      "[1614]\ttrain-rmse:0.09345\ttrain-r2:0.97835\teval-rmse:0.09543\teval-r2:0.97752\n",
      "[1615]\ttrain-rmse:0.09345\ttrain-r2:0.97835\teval-rmse:0.09543\teval-r2:0.97752\n",
      "[1616]\ttrain-rmse:0.09345\ttrain-r2:0.97835\teval-rmse:0.09543\teval-r2:0.97752\n",
      "[1617]\ttrain-rmse:0.09345\ttrain-r2:0.97835\teval-rmse:0.09543\teval-r2:0.97752\n",
      "[1618]\ttrain-rmse:0.09345\ttrain-r2:0.97835\teval-rmse:0.09543\teval-r2:0.97752\n",
      "[1619]\ttrain-rmse:0.09345\ttrain-r2:0.97835\teval-rmse:0.09543\teval-r2:0.97752\n",
      "[1620]\ttrain-rmse:0.09345\ttrain-r2:0.97835\teval-rmse:0.09543\teval-r2:0.97752\n",
      "[1621]\ttrain-rmse:0.09345\ttrain-r2:0.97835\teval-rmse:0.09543\teval-r2:0.97752\n",
      "[1622]\ttrain-rmse:0.09345\ttrain-r2:0.97835\teval-rmse:0.09543\teval-r2:0.97752\n",
      "[1623]\ttrain-rmse:0.09345\ttrain-r2:0.97835\teval-rmse:0.09543\teval-r2:0.97752\n",
      "[1624]\ttrain-rmse:0.09345\ttrain-r2:0.97835\teval-rmse:0.09543\teval-r2:0.97752\n",
      "[1625]\ttrain-rmse:0.09345\ttrain-r2:0.97835\teval-rmse:0.09543\teval-r2:0.97752\n",
      "[1626]\ttrain-rmse:0.09345\ttrain-r2:0.97835\teval-rmse:0.09543\teval-r2:0.97752\n",
      "[1627]\ttrain-rmse:0.09344\ttrain-r2:0.97836\teval-rmse:0.09542\teval-r2:0.97752\n",
      "[1628]\ttrain-rmse:0.09344\ttrain-r2:0.97836\teval-rmse:0.09542\teval-r2:0.97752\n",
      "[1629]\ttrain-rmse:0.09344\ttrain-r2:0.97836\teval-rmse:0.09542\teval-r2:0.97752\n",
      "[1630]\ttrain-rmse:0.09344\ttrain-r2:0.97836\teval-rmse:0.09542\teval-r2:0.97752\n",
      "[1631]\ttrain-rmse:0.09344\ttrain-r2:0.97836\teval-rmse:0.09542\teval-r2:0.97752\n",
      "[1632]\ttrain-rmse:0.09344\ttrain-r2:0.97836\teval-rmse:0.09542\teval-r2:0.97752\n",
      "[1633]\ttrain-rmse:0.09342\ttrain-r2:0.97837\teval-rmse:0.09540\teval-r2:0.97753\n",
      "[1634]\ttrain-rmse:0.09342\ttrain-r2:0.97837\teval-rmse:0.09540\teval-r2:0.97753\n",
      "[1635]\ttrain-rmse:0.09342\ttrain-r2:0.97837\teval-rmse:0.09540\teval-r2:0.97753\n",
      "[1636]\ttrain-rmse:0.09342\ttrain-r2:0.97837\teval-rmse:0.09540\teval-r2:0.97753\n",
      "[1637]\ttrain-rmse:0.09342\ttrain-r2:0.97837\teval-rmse:0.09540\teval-r2:0.97753\n",
      "[1638]\ttrain-rmse:0.09339\ttrain-r2:0.97838\teval-rmse:0.09537\teval-r2:0.97754\n",
      "[1639]\ttrain-rmse:0.09339\ttrain-r2:0.97838\teval-rmse:0.09537\teval-r2:0.97754\n",
      "[1640]\ttrain-rmse:0.09339\ttrain-r2:0.97838\teval-rmse:0.09537\teval-r2:0.97754\n",
      "[1641]\ttrain-rmse:0.09339\ttrain-r2:0.97838\teval-rmse:0.09537\teval-r2:0.97754\n",
      "[1642]\ttrain-rmse:0.09339\ttrain-r2:0.97838\teval-rmse:0.09537\teval-r2:0.97754\n",
      "[1643]\ttrain-rmse:0.09339\ttrain-r2:0.97838\teval-rmse:0.09537\teval-r2:0.97754\n",
      "[1644]\ttrain-rmse:0.09339\ttrain-r2:0.97838\teval-rmse:0.09537\teval-r2:0.97754\n",
      "[1645]\ttrain-rmse:0.09339\ttrain-r2:0.97838\teval-rmse:0.09537\teval-r2:0.97754\n",
      "[1646]\ttrain-rmse:0.09339\ttrain-r2:0.97838\teval-rmse:0.09537\teval-r2:0.97754\n",
      "[1647]\ttrain-rmse:0.09339\ttrain-r2:0.97838\teval-rmse:0.09537\teval-r2:0.97754\n",
      "[1648]\ttrain-rmse:0.09339\ttrain-r2:0.97838\teval-rmse:0.09537\teval-r2:0.97754\n",
      "[1649]\ttrain-rmse:0.09339\ttrain-r2:0.97838\teval-rmse:0.09537\teval-r2:0.97754\n",
      "[1650]\ttrain-rmse:0.09339\ttrain-r2:0.97838\teval-rmse:0.09537\teval-r2:0.97754\n",
      "[1651]\ttrain-rmse:0.09339\ttrain-r2:0.97838\teval-rmse:0.09537\teval-r2:0.97754\n",
      "[1652]\ttrain-rmse:0.09338\ttrain-r2:0.97839\teval-rmse:0.09536\teval-r2:0.97755\n",
      "[1653]\ttrain-rmse:0.09338\ttrain-r2:0.97839\teval-rmse:0.09536\teval-r2:0.97755\n",
      "[1654]\ttrain-rmse:0.09338\ttrain-r2:0.97839\teval-rmse:0.09536\teval-r2:0.97755\n",
      "[1655]\ttrain-rmse:0.09338\ttrain-r2:0.97839\teval-rmse:0.09536\teval-r2:0.97755\n",
      "[1656]\ttrain-rmse:0.09338\ttrain-r2:0.97839\teval-rmse:0.09536\teval-r2:0.97755\n",
      "[1657]\ttrain-rmse:0.09338\ttrain-r2:0.97839\teval-rmse:0.09536\teval-r2:0.97755\n",
      "[1658]\ttrain-rmse:0.09338\ttrain-r2:0.97839\teval-rmse:0.09536\teval-r2:0.97755\n",
      "[1659]\ttrain-rmse:0.09338\ttrain-r2:0.97839\teval-rmse:0.09536\teval-r2:0.97755\n",
      "[1660]\ttrain-rmse:0.09336\ttrain-r2:0.97840\teval-rmse:0.09535\teval-r2:0.97755\n",
      "[1661]\ttrain-rmse:0.09336\ttrain-r2:0.97840\teval-rmse:0.09535\teval-r2:0.97755\n",
      "[1662]\ttrain-rmse:0.09336\ttrain-r2:0.97840\teval-rmse:0.09535\teval-r2:0.97755\n",
      "[1663]\ttrain-rmse:0.09336\ttrain-r2:0.97840\teval-rmse:0.09535\teval-r2:0.97755\n",
      "[1664]\ttrain-rmse:0.09336\ttrain-r2:0.97840\teval-rmse:0.09535\teval-r2:0.97755\n",
      "[1665]\ttrain-rmse:0.09336\ttrain-r2:0.97840\teval-rmse:0.09535\teval-r2:0.97755\n",
      "[1666]\ttrain-rmse:0.09334\ttrain-r2:0.97840\teval-rmse:0.09533\teval-r2:0.97756\n",
      "[1667]\ttrain-rmse:0.09332\ttrain-r2:0.97842\teval-rmse:0.09531\teval-r2:0.97757\n",
      "[1668]\ttrain-rmse:0.09332\ttrain-r2:0.97842\teval-rmse:0.09531\teval-r2:0.97757\n",
      "[1669]\ttrain-rmse:0.09332\ttrain-r2:0.97842\teval-rmse:0.09531\teval-r2:0.97757\n",
      "[1670]\ttrain-rmse:0.09332\ttrain-r2:0.97842\teval-rmse:0.09531\teval-r2:0.97757\n",
      "[1671]\ttrain-rmse:0.09332\ttrain-r2:0.97842\teval-rmse:0.09531\teval-r2:0.97757\n",
      "[1672]\ttrain-rmse:0.09332\ttrain-r2:0.97842\teval-rmse:0.09531\teval-r2:0.97757\n",
      "[1673]\ttrain-rmse:0.09332\ttrain-r2:0.97842\teval-rmse:0.09531\teval-r2:0.97757\n",
      "[1674]\ttrain-rmse:0.09332\ttrain-r2:0.97842\teval-rmse:0.09531\teval-r2:0.97757\n",
      "[1675]\ttrain-rmse:0.09332\ttrain-r2:0.97842\teval-rmse:0.09531\teval-r2:0.97757\n",
      "[1676]\ttrain-rmse:0.09332\ttrain-r2:0.97842\teval-rmse:0.09531\teval-r2:0.97757\n",
      "[1677]\ttrain-rmse:0.09332\ttrain-r2:0.97842\teval-rmse:0.09531\teval-r2:0.97757\n",
      "[1678]\ttrain-rmse:0.09330\ttrain-r2:0.97842\teval-rmse:0.09530\teval-r2:0.97758\n",
      "[1679]\ttrain-rmse:0.09330\ttrain-r2:0.97842\teval-rmse:0.09530\teval-r2:0.97758\n",
      "[1680]\ttrain-rmse:0.09330\ttrain-r2:0.97842\teval-rmse:0.09530\teval-r2:0.97758\n",
      "[1681]\ttrain-rmse:0.09330\ttrain-r2:0.97842\teval-rmse:0.09530\teval-r2:0.97758\n",
      "[1682]\ttrain-rmse:0.09330\ttrain-r2:0.97842\teval-rmse:0.09530\teval-r2:0.97758\n",
      "[1683]\ttrain-rmse:0.09330\ttrain-r2:0.97842\teval-rmse:0.09530\teval-r2:0.97758\n",
      "[1684]\ttrain-rmse:0.09330\ttrain-r2:0.97842\teval-rmse:0.09530\teval-r2:0.97758\n",
      "[1685]\ttrain-rmse:0.09330\ttrain-r2:0.97842\teval-rmse:0.09530\teval-r2:0.97758\n",
      "[1686]\ttrain-rmse:0.09330\ttrain-r2:0.97842\teval-rmse:0.09530\teval-r2:0.97758\n",
      "[1687]\ttrain-rmse:0.09330\ttrain-r2:0.97842\teval-rmse:0.09530\teval-r2:0.97758\n",
      "[1688]\ttrain-rmse:0.09330\ttrain-r2:0.97843\teval-rmse:0.09529\teval-r2:0.97758\n",
      "[1689]\ttrain-rmse:0.09330\ttrain-r2:0.97843\teval-rmse:0.09529\teval-r2:0.97758\n",
      "[1690]\ttrain-rmse:0.09330\ttrain-r2:0.97843\teval-rmse:0.09529\teval-r2:0.97758\n",
      "[1691]\ttrain-rmse:0.09330\ttrain-r2:0.97843\teval-rmse:0.09529\teval-r2:0.97758\n",
      "[1692]\ttrain-rmse:0.09330\ttrain-r2:0.97843\teval-rmse:0.09529\teval-r2:0.97758\n",
      "[1693]\ttrain-rmse:0.09330\ttrain-r2:0.97843\teval-rmse:0.09529\teval-r2:0.97758\n",
      "[1694]\ttrain-rmse:0.09329\ttrain-r2:0.97843\teval-rmse:0.09529\teval-r2:0.97758\n",
      "[1695]\ttrain-rmse:0.09329\ttrain-r2:0.97843\teval-rmse:0.09529\teval-r2:0.97758\n",
      "[1696]\ttrain-rmse:0.09329\ttrain-r2:0.97843\teval-rmse:0.09529\teval-r2:0.97758\n",
      "[1697]\ttrain-rmse:0.09329\ttrain-r2:0.97843\teval-rmse:0.09529\teval-r2:0.97758\n",
      "[1698]\ttrain-rmse:0.09329\ttrain-r2:0.97843\teval-rmse:0.09529\teval-r2:0.97758\n",
      "[1699]\ttrain-rmse:0.09329\ttrain-r2:0.97843\teval-rmse:0.09529\teval-r2:0.97758\n",
      "[1700]\ttrain-rmse:0.09329\ttrain-r2:0.97843\teval-rmse:0.09529\teval-r2:0.97758\n",
      "[1701]\ttrain-rmse:0.09329\ttrain-r2:0.97843\teval-rmse:0.09529\teval-r2:0.97758\n",
      "[1702]\ttrain-rmse:0.09329\ttrain-r2:0.97843\teval-rmse:0.09529\teval-r2:0.97758\n",
      "[1703]\ttrain-rmse:0.09329\ttrain-r2:0.97843\teval-rmse:0.09529\teval-r2:0.97758\n",
      "[1704]\ttrain-rmse:0.09329\ttrain-r2:0.97843\teval-rmse:0.09529\teval-r2:0.97758\n",
      "[1705]\ttrain-rmse:0.09329\ttrain-r2:0.97843\teval-rmse:0.09529\teval-r2:0.97758\n",
      "[1706]\ttrain-rmse:0.09329\ttrain-r2:0.97843\teval-rmse:0.09529\teval-r2:0.97758\n",
      "[1707]\ttrain-rmse:0.09329\ttrain-r2:0.97843\teval-rmse:0.09529\teval-r2:0.97758\n",
      "[1708]\ttrain-rmse:0.09329\ttrain-r2:0.97843\teval-rmse:0.09529\teval-r2:0.97758\n",
      "[1709]\ttrain-rmse:0.09326\ttrain-r2:0.97844\teval-rmse:0.09526\teval-r2:0.97760\n",
      "[1710]\ttrain-rmse:0.09326\ttrain-r2:0.97844\teval-rmse:0.09526\teval-r2:0.97760\n",
      "[1711]\ttrain-rmse:0.09326\ttrain-r2:0.97844\teval-rmse:0.09526\teval-r2:0.97760\n",
      "[1712]\ttrain-rmse:0.09326\ttrain-r2:0.97844\teval-rmse:0.09526\teval-r2:0.97760\n",
      "[1713]\ttrain-rmse:0.09323\ttrain-r2:0.97845\teval-rmse:0.09524\teval-r2:0.97761\n",
      "[1714]\ttrain-rmse:0.09323\ttrain-r2:0.97845\teval-rmse:0.09524\teval-r2:0.97761\n",
      "[1715]\ttrain-rmse:0.09323\ttrain-r2:0.97845\teval-rmse:0.09524\teval-r2:0.97761\n",
      "[1716]\ttrain-rmse:0.09323\ttrain-r2:0.97846\teval-rmse:0.09523\teval-r2:0.97761\n",
      "[1717]\ttrain-rmse:0.09321\ttrain-r2:0.97847\teval-rmse:0.09521\teval-r2:0.97762\n",
      "[1718]\ttrain-rmse:0.09320\ttrain-r2:0.97847\teval-rmse:0.09520\teval-r2:0.97762\n",
      "[1719]\ttrain-rmse:0.09320\ttrain-r2:0.97847\teval-rmse:0.09520\teval-r2:0.97762\n",
      "[1720]\ttrain-rmse:0.09319\ttrain-r2:0.97847\teval-rmse:0.09520\teval-r2:0.97762\n",
      "[1721]\ttrain-rmse:0.09319\ttrain-r2:0.97847\teval-rmse:0.09520\teval-r2:0.97762\n",
      "[1722]\ttrain-rmse:0.09319\ttrain-r2:0.97847\teval-rmse:0.09520\teval-r2:0.97763\n",
      "[1723]\ttrain-rmse:0.09319\ttrain-r2:0.97847\teval-rmse:0.09520\teval-r2:0.97763\n",
      "[1724]\ttrain-rmse:0.09319\ttrain-r2:0.97847\teval-rmse:0.09520\teval-r2:0.97763\n",
      "[1725]\ttrain-rmse:0.09319\ttrain-r2:0.97847\teval-rmse:0.09520\teval-r2:0.97763\n",
      "[1726]\ttrain-rmse:0.09319\ttrain-r2:0.97847\teval-rmse:0.09520\teval-r2:0.97763\n",
      "[1727]\ttrain-rmse:0.09319\ttrain-r2:0.97847\teval-rmse:0.09520\teval-r2:0.97763\n",
      "[1728]\ttrain-rmse:0.09319\ttrain-r2:0.97847\teval-rmse:0.09520\teval-r2:0.97763\n",
      "[1729]\ttrain-rmse:0.09319\ttrain-r2:0.97847\teval-rmse:0.09520\teval-r2:0.97763\n",
      "[1730]\ttrain-rmse:0.09319\ttrain-r2:0.97847\teval-rmse:0.09520\teval-r2:0.97763\n",
      "[1731]\ttrain-rmse:0.09319\ttrain-r2:0.97847\teval-rmse:0.09520\teval-r2:0.97763\n",
      "[1732]\ttrain-rmse:0.09319\ttrain-r2:0.97847\teval-rmse:0.09520\teval-r2:0.97763\n",
      "[1733]\ttrain-rmse:0.09319\ttrain-r2:0.97847\teval-rmse:0.09520\teval-r2:0.97763\n",
      "[1734]\ttrain-rmse:0.09319\ttrain-r2:0.97847\teval-rmse:0.09520\teval-r2:0.97763\n",
      "[1735]\ttrain-rmse:0.09319\ttrain-r2:0.97847\teval-rmse:0.09520\teval-r2:0.97763\n",
      "[1736]\ttrain-rmse:0.09319\ttrain-r2:0.97847\teval-rmse:0.09520\teval-r2:0.97763\n",
      "[1737]\ttrain-rmse:0.09319\ttrain-r2:0.97847\teval-rmse:0.09520\teval-r2:0.97763\n",
      "[1738]\ttrain-rmse:0.09319\ttrain-r2:0.97847\teval-rmse:0.09520\teval-r2:0.97763\n",
      "[1739]\ttrain-rmse:0.09319\ttrain-r2:0.97847\teval-rmse:0.09520\teval-r2:0.97763\n",
      "[1740]\ttrain-rmse:0.09319\ttrain-r2:0.97847\teval-rmse:0.09520\teval-r2:0.97763\n",
      "[1741]\ttrain-rmse:0.09319\ttrain-r2:0.97847\teval-rmse:0.09520\teval-r2:0.97763\n",
      "[1742]\ttrain-rmse:0.09319\ttrain-r2:0.97847\teval-rmse:0.09520\teval-r2:0.97763\n",
      "[1743]\ttrain-rmse:0.09319\ttrain-r2:0.97847\teval-rmse:0.09520\teval-r2:0.97763\n",
      "[1744]\ttrain-rmse:0.09319\ttrain-r2:0.97847\teval-rmse:0.09520\teval-r2:0.97763\n",
      "[1745]\ttrain-rmse:0.09319\ttrain-r2:0.97847\teval-rmse:0.09520\teval-r2:0.97763\n",
      "[1746]\ttrain-rmse:0.09319\ttrain-r2:0.97847\teval-rmse:0.09520\teval-r2:0.97763\n",
      "[1747]\ttrain-rmse:0.09319\ttrain-r2:0.97847\teval-rmse:0.09520\teval-r2:0.97763\n",
      "[1748]\ttrain-rmse:0.09319\ttrain-r2:0.97847\teval-rmse:0.09520\teval-r2:0.97763\n",
      "[1749]\ttrain-rmse:0.09319\ttrain-r2:0.97847\teval-rmse:0.09520\teval-r2:0.97763\n",
      "[1750]\ttrain-rmse:0.09319\ttrain-r2:0.97847\teval-rmse:0.09520\teval-r2:0.97763\n",
      "[1751]\ttrain-rmse:0.09319\ttrain-r2:0.97847\teval-rmse:0.09520\teval-r2:0.97763\n",
      "[1752]\ttrain-rmse:0.09319\ttrain-r2:0.97847\teval-rmse:0.09520\teval-r2:0.97763\n",
      "[1753]\ttrain-rmse:0.09319\ttrain-r2:0.97847\teval-rmse:0.09520\teval-r2:0.97763\n",
      "[1754]\ttrain-rmse:0.09319\ttrain-r2:0.97847\teval-rmse:0.09520\teval-r2:0.97763\n",
      "[1755]\ttrain-rmse:0.09319\ttrain-r2:0.97847\teval-rmse:0.09520\teval-r2:0.97763\n",
      "[1756]\ttrain-rmse:0.09319\ttrain-r2:0.97847\teval-rmse:0.09520\teval-r2:0.97763\n",
      "[1757]\ttrain-rmse:0.09319\ttrain-r2:0.97848\teval-rmse:0.09519\teval-r2:0.97763\n",
      "[1758]\ttrain-rmse:0.09319\ttrain-r2:0.97848\teval-rmse:0.09519\teval-r2:0.97763\n",
      "[1759]\ttrain-rmse:0.09319\ttrain-r2:0.97848\teval-rmse:0.09519\teval-r2:0.97763\n",
      "[1760]\ttrain-rmse:0.09319\ttrain-r2:0.97848\teval-rmse:0.09519\teval-r2:0.97763\n",
      "[1761]\ttrain-rmse:0.09316\ttrain-r2:0.97849\teval-rmse:0.09517\teval-r2:0.97764\n",
      "[1762]\ttrain-rmse:0.09316\ttrain-r2:0.97849\teval-rmse:0.09517\teval-r2:0.97764\n",
      "[1763]\ttrain-rmse:0.09316\ttrain-r2:0.97849\teval-rmse:0.09517\teval-r2:0.97764\n",
      "[1764]\ttrain-rmse:0.09316\ttrain-r2:0.97849\teval-rmse:0.09517\teval-r2:0.97764\n",
      "[1765]\ttrain-rmse:0.09316\ttrain-r2:0.97849\teval-rmse:0.09517\teval-r2:0.97764\n",
      "[1766]\ttrain-rmse:0.09316\ttrain-r2:0.97849\teval-rmse:0.09517\teval-r2:0.97764\n",
      "[1767]\ttrain-rmse:0.09316\ttrain-r2:0.97849\teval-rmse:0.09517\teval-r2:0.97764\n",
      "[1768]\ttrain-rmse:0.09316\ttrain-r2:0.97849\teval-rmse:0.09517\teval-r2:0.97764\n",
      "[1769]\ttrain-rmse:0.09316\ttrain-r2:0.97849\teval-rmse:0.09517\teval-r2:0.97764\n",
      "[1770]\ttrain-rmse:0.09316\ttrain-r2:0.97849\teval-rmse:0.09517\teval-r2:0.97764\n",
      "[1771]\ttrain-rmse:0.09316\ttrain-r2:0.97849\teval-rmse:0.09517\teval-r2:0.97764\n",
      "[1772]\ttrain-rmse:0.09316\ttrain-r2:0.97849\teval-rmse:0.09517\teval-r2:0.97764\n",
      "[1773]\ttrain-rmse:0.09316\ttrain-r2:0.97849\teval-rmse:0.09517\teval-r2:0.97764\n",
      "[1774]\ttrain-rmse:0.09314\ttrain-r2:0.97850\teval-rmse:0.09515\teval-r2:0.97765\n",
      "[1775]\ttrain-rmse:0.09314\ttrain-r2:0.97850\teval-rmse:0.09515\teval-r2:0.97765\n",
      "[1776]\ttrain-rmse:0.09314\ttrain-r2:0.97850\teval-rmse:0.09515\teval-r2:0.97765\n",
      "[1777]\ttrain-rmse:0.09314\ttrain-r2:0.97850\teval-rmse:0.09515\teval-r2:0.97765\n",
      "[1778]\ttrain-rmse:0.09314\ttrain-r2:0.97850\teval-rmse:0.09515\teval-r2:0.97765\n",
      "[1779]\ttrain-rmse:0.09314\ttrain-r2:0.97850\teval-rmse:0.09515\teval-r2:0.97765\n",
      "[1780]\ttrain-rmse:0.09314\ttrain-r2:0.97850\teval-rmse:0.09515\teval-r2:0.97765\n",
      "[1781]\ttrain-rmse:0.09314\ttrain-r2:0.97850\teval-rmse:0.09515\teval-r2:0.97765\n",
      "[1782]\ttrain-rmse:0.09314\ttrain-r2:0.97850\teval-rmse:0.09515\teval-r2:0.97765\n",
      "[1783]\ttrain-rmse:0.09314\ttrain-r2:0.97850\teval-rmse:0.09515\teval-r2:0.97765\n",
      "[1784]\ttrain-rmse:0.09314\ttrain-r2:0.97850\teval-rmse:0.09515\teval-r2:0.97765\n",
      "[1785]\ttrain-rmse:0.09314\ttrain-r2:0.97850\teval-rmse:0.09515\teval-r2:0.97765\n",
      "[1786]\ttrain-rmse:0.09314\ttrain-r2:0.97850\teval-rmse:0.09515\teval-r2:0.97765\n",
      "[1787]\ttrain-rmse:0.09314\ttrain-r2:0.97850\teval-rmse:0.09515\teval-r2:0.97765\n",
      "[1788]\ttrain-rmse:0.09314\ttrain-r2:0.97850\teval-rmse:0.09515\teval-r2:0.97765\n",
      "[1789]\ttrain-rmse:0.09314\ttrain-r2:0.97850\teval-rmse:0.09515\teval-r2:0.97765\n",
      "[1790]\ttrain-rmse:0.09314\ttrain-r2:0.97850\teval-rmse:0.09515\teval-r2:0.97765\n",
      "[1791]\ttrain-rmse:0.09314\ttrain-r2:0.97850\teval-rmse:0.09515\teval-r2:0.97765\n",
      "[1792]\ttrain-rmse:0.09314\ttrain-r2:0.97850\teval-rmse:0.09515\teval-r2:0.97765\n",
      "[1793]\ttrain-rmse:0.09314\ttrain-r2:0.97850\teval-rmse:0.09515\teval-r2:0.97765\n",
      "[1794]\ttrain-rmse:0.09314\ttrain-r2:0.97850\teval-rmse:0.09515\teval-r2:0.97765\n",
      "[1795]\ttrain-rmse:0.09314\ttrain-r2:0.97850\teval-rmse:0.09515\teval-r2:0.97765\n",
      "[1796]\ttrain-rmse:0.09314\ttrain-r2:0.97850\teval-rmse:0.09515\teval-r2:0.97765\n",
      "[1797]\ttrain-rmse:0.09314\ttrain-r2:0.97850\teval-rmse:0.09515\teval-r2:0.97765\n",
      "[1798]\ttrain-rmse:0.09314\ttrain-r2:0.97850\teval-rmse:0.09515\teval-r2:0.97765\n",
      "[1799]\ttrain-rmse:0.09314\ttrain-r2:0.97850\teval-rmse:0.09515\teval-r2:0.97765\n",
      "[1800]\ttrain-rmse:0.09314\ttrain-r2:0.97850\teval-rmse:0.09515\teval-r2:0.97765\n",
      "[1801]\ttrain-rmse:0.09314\ttrain-r2:0.97850\teval-rmse:0.09515\teval-r2:0.97765\n",
      "[1802]\ttrain-rmse:0.09314\ttrain-r2:0.97850\teval-rmse:0.09515\teval-r2:0.97765\n",
      "[1803]\ttrain-rmse:0.09314\ttrain-r2:0.97850\teval-rmse:0.09515\teval-r2:0.97765\n",
      "[1804]\ttrain-rmse:0.09314\ttrain-r2:0.97850\teval-rmse:0.09515\teval-r2:0.97765\n",
      "[1805]\ttrain-rmse:0.09314\ttrain-r2:0.97850\teval-rmse:0.09515\teval-r2:0.97765\n",
      "[1806]\ttrain-rmse:0.09314\ttrain-r2:0.97850\teval-rmse:0.09515\teval-r2:0.97765\n",
      "[1807]\ttrain-rmse:0.09314\ttrain-r2:0.97850\teval-rmse:0.09515\teval-r2:0.97765\n",
      "[1808]\ttrain-rmse:0.09311\ttrain-r2:0.97851\teval-rmse:0.09513\teval-r2:0.97766\n",
      "[1809]\ttrain-rmse:0.09311\ttrain-r2:0.97851\teval-rmse:0.09513\teval-r2:0.97766\n",
      "[1810]\ttrain-rmse:0.09311\ttrain-r2:0.97851\teval-rmse:0.09513\teval-r2:0.97766\n",
      "[1811]\ttrain-rmse:0.09310\ttrain-r2:0.97852\teval-rmse:0.09512\teval-r2:0.97766\n",
      "[1812]\ttrain-rmse:0.09309\ttrain-r2:0.97852\teval-rmse:0.09511\teval-r2:0.97767\n",
      "[1813]\ttrain-rmse:0.09309\ttrain-r2:0.97852\teval-rmse:0.09511\teval-r2:0.97767\n",
      "[1814]\ttrain-rmse:0.09309\ttrain-r2:0.97852\teval-rmse:0.09511\teval-r2:0.97767\n",
      "[1815]\ttrain-rmse:0.09309\ttrain-r2:0.97852\teval-rmse:0.09511\teval-r2:0.97767\n",
      "[1816]\ttrain-rmse:0.09309\ttrain-r2:0.97852\teval-rmse:0.09511\teval-r2:0.97767\n",
      "[1817]\ttrain-rmse:0.09309\ttrain-r2:0.97852\teval-rmse:0.09511\teval-r2:0.97767\n",
      "[1818]\ttrain-rmse:0.09309\ttrain-r2:0.97852\teval-rmse:0.09511\teval-r2:0.97767\n",
      "[1819]\ttrain-rmse:0.09309\ttrain-r2:0.97852\teval-rmse:0.09511\teval-r2:0.97767\n",
      "[1820]\ttrain-rmse:0.09309\ttrain-r2:0.97852\teval-rmse:0.09511\teval-r2:0.97767\n",
      "[1821]\ttrain-rmse:0.09309\ttrain-r2:0.97852\teval-rmse:0.09511\teval-r2:0.97767\n",
      "[1822]\ttrain-rmse:0.09309\ttrain-r2:0.97852\teval-rmse:0.09511\teval-r2:0.97767\n",
      "[1823]\ttrain-rmse:0.09309\ttrain-r2:0.97852\teval-rmse:0.09511\teval-r2:0.97767\n",
      "[1824]\ttrain-rmse:0.09309\ttrain-r2:0.97852\teval-rmse:0.09511\teval-r2:0.97767\n",
      "[1825]\ttrain-rmse:0.09309\ttrain-r2:0.97852\teval-rmse:0.09511\teval-r2:0.97767\n",
      "[1826]\ttrain-rmse:0.09309\ttrain-r2:0.97852\teval-rmse:0.09511\teval-r2:0.97767\n",
      "[1827]\ttrain-rmse:0.09309\ttrain-r2:0.97852\teval-rmse:0.09511\teval-r2:0.97767\n",
      "[1828]\ttrain-rmse:0.09309\ttrain-r2:0.97852\teval-rmse:0.09511\teval-r2:0.97767\n",
      "[1829]\ttrain-rmse:0.09309\ttrain-r2:0.97852\teval-rmse:0.09511\teval-r2:0.97767\n",
      "[1830]\ttrain-rmse:0.09309\ttrain-r2:0.97852\teval-rmse:0.09511\teval-r2:0.97767\n",
      "[1831]\ttrain-rmse:0.09309\ttrain-r2:0.97852\teval-rmse:0.09511\teval-r2:0.97767\n",
      "[1832]\ttrain-rmse:0.09309\ttrain-r2:0.97852\teval-rmse:0.09511\teval-r2:0.97767\n",
      "[1833]\ttrain-rmse:0.09309\ttrain-r2:0.97852\teval-rmse:0.09511\teval-r2:0.97767\n",
      "[1834]\ttrain-rmse:0.09309\ttrain-r2:0.97852\teval-rmse:0.09511\teval-r2:0.97767\n",
      "[1835]\ttrain-rmse:0.09309\ttrain-r2:0.97852\teval-rmse:0.09511\teval-r2:0.97767\n",
      "[1836]\ttrain-rmse:0.09309\ttrain-r2:0.97852\teval-rmse:0.09511\teval-r2:0.97767\n",
      "[1837]\ttrain-rmse:0.09309\ttrain-r2:0.97852\teval-rmse:0.09511\teval-r2:0.97767\n",
      "[1838]\ttrain-rmse:0.09309\ttrain-r2:0.97852\teval-rmse:0.09511\teval-r2:0.97767\n",
      "[1839]\ttrain-rmse:0.09309\ttrain-r2:0.97852\teval-rmse:0.09511\teval-r2:0.97767\n",
      "[1840]\ttrain-rmse:0.09309\ttrain-r2:0.97852\teval-rmse:0.09511\teval-r2:0.97767\n",
      "[1841]\ttrain-rmse:0.09309\ttrain-r2:0.97852\teval-rmse:0.09511\teval-r2:0.97767\n",
      "[1842]\ttrain-rmse:0.09309\ttrain-r2:0.97852\teval-rmse:0.09511\teval-r2:0.97767\n",
      "[1843]\ttrain-rmse:0.09309\ttrain-r2:0.97852\teval-rmse:0.09511\teval-r2:0.97767\n",
      "[1844]\ttrain-rmse:0.09309\ttrain-r2:0.97852\teval-rmse:0.09511\teval-r2:0.97767\n",
      "[1845]\ttrain-rmse:0.09309\ttrain-r2:0.97852\teval-rmse:0.09511\teval-r2:0.97767\n",
      "[1846]\ttrain-rmse:0.09306\ttrain-r2:0.97853\teval-rmse:0.09508\teval-r2:0.97768\n",
      "[1847]\ttrain-rmse:0.09306\ttrain-r2:0.97853\teval-rmse:0.09508\teval-r2:0.97768\n",
      "[1848]\ttrain-rmse:0.09304\ttrain-r2:0.97854\teval-rmse:0.09506\teval-r2:0.97769\n",
      "[1849]\ttrain-rmse:0.09304\ttrain-r2:0.97854\teval-rmse:0.09506\teval-r2:0.97769\n",
      "[1850]\ttrain-rmse:0.09304\ttrain-r2:0.97854\teval-rmse:0.09506\teval-r2:0.97769\n",
      "[1851]\ttrain-rmse:0.09304\ttrain-r2:0.97854\teval-rmse:0.09506\teval-r2:0.97769\n",
      "[1852]\ttrain-rmse:0.09304\ttrain-r2:0.97854\teval-rmse:0.09506\teval-r2:0.97769\n",
      "[1853]\ttrain-rmse:0.09304\ttrain-r2:0.97854\teval-rmse:0.09506\teval-r2:0.97769\n",
      "[1854]\ttrain-rmse:0.09304\ttrain-r2:0.97854\teval-rmse:0.09506\teval-r2:0.97769\n",
      "[1855]\ttrain-rmse:0.09303\ttrain-r2:0.97855\teval-rmse:0.09505\teval-r2:0.97769\n",
      "[1856]\ttrain-rmse:0.09303\ttrain-r2:0.97855\teval-rmse:0.09505\teval-r2:0.97769\n",
      "[1857]\ttrain-rmse:0.09303\ttrain-r2:0.97855\teval-rmse:0.09505\teval-r2:0.97769\n",
      "[1858]\ttrain-rmse:0.09303\ttrain-r2:0.97855\teval-rmse:0.09505\teval-r2:0.97769\n",
      "[1859]\ttrain-rmse:0.09303\ttrain-r2:0.97855\teval-rmse:0.09505\teval-r2:0.97769\n",
      "[1860]\ttrain-rmse:0.09303\ttrain-r2:0.97855\teval-rmse:0.09505\teval-r2:0.97769\n",
      "[1861]\ttrain-rmse:0.09303\ttrain-r2:0.97855\teval-rmse:0.09505\teval-r2:0.97769\n",
      "[1862]\ttrain-rmse:0.09303\ttrain-r2:0.97855\teval-rmse:0.09505\teval-r2:0.97769\n",
      "[1863]\ttrain-rmse:0.09303\ttrain-r2:0.97855\teval-rmse:0.09505\teval-r2:0.97769\n",
      "[1864]\ttrain-rmse:0.09303\ttrain-r2:0.97855\teval-rmse:0.09505\teval-r2:0.97769\n",
      "[1865]\ttrain-rmse:0.09302\ttrain-r2:0.97855\teval-rmse:0.09504\teval-r2:0.97770\n",
      "[1866]\ttrain-rmse:0.09300\ttrain-r2:0.97856\teval-rmse:0.09502\teval-r2:0.97771\n",
      "[1867]\ttrain-rmse:0.09300\ttrain-r2:0.97856\teval-rmse:0.09502\teval-r2:0.97771\n",
      "[1868]\ttrain-rmse:0.09300\ttrain-r2:0.97857\teval-rmse:0.09502\teval-r2:0.97771\n",
      "[1869]\ttrain-rmse:0.09300\ttrain-r2:0.97857\teval-rmse:0.09502\teval-r2:0.97771\n",
      "[1870]\ttrain-rmse:0.09300\ttrain-r2:0.97857\teval-rmse:0.09502\teval-r2:0.97771\n",
      "[1871]\ttrain-rmse:0.09300\ttrain-r2:0.97857\teval-rmse:0.09502\teval-r2:0.97771\n",
      "[1872]\ttrain-rmse:0.09300\ttrain-r2:0.97857\teval-rmse:0.09502\teval-r2:0.97771\n",
      "[1873]\ttrain-rmse:0.09300\ttrain-r2:0.97857\teval-rmse:0.09502\teval-r2:0.97771\n",
      "[1874]\ttrain-rmse:0.09300\ttrain-r2:0.97857\teval-rmse:0.09502\teval-r2:0.97771\n",
      "[1875]\ttrain-rmse:0.09300\ttrain-r2:0.97857\teval-rmse:0.09502\teval-r2:0.97771\n",
      "[1876]\ttrain-rmse:0.09300\ttrain-r2:0.97857\teval-rmse:0.09502\teval-r2:0.97771\n",
      "[1877]\ttrain-rmse:0.09300\ttrain-r2:0.97857\teval-rmse:0.09502\teval-r2:0.97771\n",
      "[1878]\ttrain-rmse:0.09300\ttrain-r2:0.97857\teval-rmse:0.09502\teval-r2:0.97771\n",
      "[1879]\ttrain-rmse:0.09300\ttrain-r2:0.97857\teval-rmse:0.09502\teval-r2:0.97771\n",
      "[1880]\ttrain-rmse:0.09300\ttrain-r2:0.97857\teval-rmse:0.09502\teval-r2:0.97771\n",
      "[1881]\ttrain-rmse:0.09300\ttrain-r2:0.97857\teval-rmse:0.09502\teval-r2:0.97771\n",
      "[1882]\ttrain-rmse:0.09300\ttrain-r2:0.97857\teval-rmse:0.09502\teval-r2:0.97771\n",
      "[1883]\ttrain-rmse:0.09300\ttrain-r2:0.97857\teval-rmse:0.09502\teval-r2:0.97771\n",
      "[1884]\ttrain-rmse:0.09300\ttrain-r2:0.97857\teval-rmse:0.09502\teval-r2:0.97771\n",
      "[1885]\ttrain-rmse:0.09300\ttrain-r2:0.97857\teval-rmse:0.09502\teval-r2:0.97771\n",
      "[1886]\ttrain-rmse:0.09300\ttrain-r2:0.97857\teval-rmse:0.09502\teval-r2:0.97771\n",
      "[1887]\ttrain-rmse:0.09300\ttrain-r2:0.97857\teval-rmse:0.09502\teval-r2:0.97771\n",
      "[1888]\ttrain-rmse:0.09300\ttrain-r2:0.97857\teval-rmse:0.09502\teval-r2:0.97771\n",
      "[1889]\ttrain-rmse:0.09300\ttrain-r2:0.97857\teval-rmse:0.09502\teval-r2:0.97771\n",
      "[1890]\ttrain-rmse:0.09300\ttrain-r2:0.97857\teval-rmse:0.09502\teval-r2:0.97771\n",
      "[1891]\ttrain-rmse:0.09300\ttrain-r2:0.97857\teval-rmse:0.09502\teval-r2:0.97771\n",
      "[1892]\ttrain-rmse:0.09300\ttrain-r2:0.97857\teval-rmse:0.09502\teval-r2:0.97771\n",
      "[1893]\ttrain-rmse:0.09299\ttrain-r2:0.97857\teval-rmse:0.09501\teval-r2:0.97771\n",
      "[1894]\ttrain-rmse:0.09299\ttrain-r2:0.97857\teval-rmse:0.09501\teval-r2:0.97771\n",
      "[1895]\ttrain-rmse:0.09299\ttrain-r2:0.97857\teval-rmse:0.09501\teval-r2:0.97771\n",
      "[1896]\ttrain-rmse:0.09299\ttrain-r2:0.97857\teval-rmse:0.09501\teval-r2:0.97771\n",
      "[1897]\ttrain-rmse:0.09299\ttrain-r2:0.97857\teval-rmse:0.09501\teval-r2:0.97771\n",
      "[1898]\ttrain-rmse:0.09299\ttrain-r2:0.97857\teval-rmse:0.09501\teval-r2:0.97771\n",
      "[1899]\ttrain-rmse:0.09299\ttrain-r2:0.97857\teval-rmse:0.09501\teval-r2:0.97771\n",
      "[1900]\ttrain-rmse:0.09299\ttrain-r2:0.97857\teval-rmse:0.09501\teval-r2:0.97771\n",
      "[1901]\ttrain-rmse:0.09299\ttrain-r2:0.97857\teval-rmse:0.09501\teval-r2:0.97771\n",
      "[1902]\ttrain-rmse:0.09299\ttrain-r2:0.97857\teval-rmse:0.09501\teval-r2:0.97771\n",
      "[1903]\ttrain-rmse:0.09299\ttrain-r2:0.97857\teval-rmse:0.09501\teval-r2:0.97771\n",
      "[1904]\ttrain-rmse:0.09299\ttrain-r2:0.97857\teval-rmse:0.09501\teval-r2:0.97771\n",
      "[1905]\ttrain-rmse:0.09299\ttrain-r2:0.97857\teval-rmse:0.09501\teval-r2:0.97771\n",
      "[1906]\ttrain-rmse:0.09299\ttrain-r2:0.97857\teval-rmse:0.09501\teval-r2:0.97771\n",
      "[1907]\ttrain-rmse:0.09299\ttrain-r2:0.97857\teval-rmse:0.09501\teval-r2:0.97771\n",
      "[1908]\ttrain-rmse:0.09299\ttrain-r2:0.97857\teval-rmse:0.09501\teval-r2:0.97771\n",
      "[1909]\ttrain-rmse:0.09299\ttrain-r2:0.97857\teval-rmse:0.09501\teval-r2:0.97771\n",
      "[1910]\ttrain-rmse:0.09299\ttrain-r2:0.97857\teval-rmse:0.09501\teval-r2:0.97771\n",
      "[1911]\ttrain-rmse:0.09299\ttrain-r2:0.97857\teval-rmse:0.09501\teval-r2:0.97771\n",
      "[1912]\ttrain-rmse:0.09299\ttrain-r2:0.97857\teval-rmse:0.09501\teval-r2:0.97771\n",
      "[1913]\ttrain-rmse:0.09299\ttrain-r2:0.97857\teval-rmse:0.09501\teval-r2:0.97771\n",
      "[1914]\ttrain-rmse:0.09299\ttrain-r2:0.97857\teval-rmse:0.09501\teval-r2:0.97771\n",
      "[1915]\ttrain-rmse:0.09299\ttrain-r2:0.97857\teval-rmse:0.09501\teval-r2:0.97771\n",
      "[1916]\ttrain-rmse:0.09296\ttrain-r2:0.97858\teval-rmse:0.09498\teval-r2:0.97773\n",
      "[1917]\ttrain-rmse:0.09295\ttrain-r2:0.97859\teval-rmse:0.09497\teval-r2:0.97773\n",
      "[1918]\ttrain-rmse:0.09295\ttrain-r2:0.97859\teval-rmse:0.09497\teval-r2:0.97773\n",
      "[1919]\ttrain-rmse:0.09295\ttrain-r2:0.97859\teval-rmse:0.09497\teval-r2:0.97773\n",
      "[1920]\ttrain-rmse:0.09295\ttrain-r2:0.97859\teval-rmse:0.09497\teval-r2:0.97773\n",
      "[1921]\ttrain-rmse:0.09295\ttrain-r2:0.97859\teval-rmse:0.09497\teval-r2:0.97773\n",
      "[1922]\ttrain-rmse:0.09295\ttrain-r2:0.97859\teval-rmse:0.09497\teval-r2:0.97773\n",
      "[1923]\ttrain-rmse:0.09294\ttrain-r2:0.97859\teval-rmse:0.09496\teval-r2:0.97774\n",
      "[1924]\ttrain-rmse:0.09294\ttrain-r2:0.97859\teval-rmse:0.09496\teval-r2:0.97774\n",
      "[1925]\ttrain-rmse:0.09294\ttrain-r2:0.97859\teval-rmse:0.09496\teval-r2:0.97774\n",
      "[1926]\ttrain-rmse:0.09294\ttrain-r2:0.97859\teval-rmse:0.09496\teval-r2:0.97774\n",
      "[1927]\ttrain-rmse:0.09294\ttrain-r2:0.97859\teval-rmse:0.09496\teval-r2:0.97774\n",
      "[1928]\ttrain-rmse:0.09294\ttrain-r2:0.97859\teval-rmse:0.09496\teval-r2:0.97774\n",
      "[1929]\ttrain-rmse:0.09294\ttrain-r2:0.97859\teval-rmse:0.09496\teval-r2:0.97774\n",
      "[1930]\ttrain-rmse:0.09294\ttrain-r2:0.97859\teval-rmse:0.09496\teval-r2:0.97774\n",
      "[1931]\ttrain-rmse:0.09294\ttrain-r2:0.97859\teval-rmse:0.09496\teval-r2:0.97774\n",
      "[1932]\ttrain-rmse:0.09294\ttrain-r2:0.97859\teval-rmse:0.09496\teval-r2:0.97774\n",
      "[1933]\ttrain-rmse:0.09294\ttrain-r2:0.97859\teval-rmse:0.09496\teval-r2:0.97774\n",
      "[1934]\ttrain-rmse:0.09294\ttrain-r2:0.97859\teval-rmse:0.09496\teval-r2:0.97774\n",
      "[1935]\ttrain-rmse:0.09294\ttrain-r2:0.97859\teval-rmse:0.09496\teval-r2:0.97774\n",
      "[1936]\ttrain-rmse:0.09294\ttrain-r2:0.97859\teval-rmse:0.09496\teval-r2:0.97774\n",
      "[1937]\ttrain-rmse:0.09294\ttrain-r2:0.97859\teval-rmse:0.09496\teval-r2:0.97774\n",
      "[1938]\ttrain-rmse:0.09294\ttrain-r2:0.97859\teval-rmse:0.09496\teval-r2:0.97774\n",
      "[1939]\ttrain-rmse:0.09294\ttrain-r2:0.97859\teval-rmse:0.09496\teval-r2:0.97774\n",
      "[1940]\ttrain-rmse:0.09294\ttrain-r2:0.97859\teval-rmse:0.09496\teval-r2:0.97774\n",
      "[1941]\ttrain-rmse:0.09294\ttrain-r2:0.97859\teval-rmse:0.09496\teval-r2:0.97774\n",
      "[1942]\ttrain-rmse:0.09294\ttrain-r2:0.97859\teval-rmse:0.09496\teval-r2:0.97774\n",
      "[1943]\ttrain-rmse:0.09294\ttrain-r2:0.97859\teval-rmse:0.09496\teval-r2:0.97774\n",
      "[1944]\ttrain-rmse:0.09294\ttrain-r2:0.97859\teval-rmse:0.09496\teval-r2:0.97774\n",
      "[1945]\ttrain-rmse:0.09294\ttrain-r2:0.97859\teval-rmse:0.09496\teval-r2:0.97774\n",
      "[1946]\ttrain-rmse:0.09294\ttrain-r2:0.97859\teval-rmse:0.09496\teval-r2:0.97774\n",
      "[1947]\ttrain-rmse:0.09291\ttrain-r2:0.97860\teval-rmse:0.09493\teval-r2:0.97775\n",
      "[1948]\ttrain-rmse:0.09291\ttrain-r2:0.97860\teval-rmse:0.09493\teval-r2:0.97775\n",
      "[1949]\ttrain-rmse:0.09291\ttrain-r2:0.97860\teval-rmse:0.09493\teval-r2:0.97775\n",
      "[1950]\ttrain-rmse:0.09291\ttrain-r2:0.97860\teval-rmse:0.09493\teval-r2:0.97775\n",
      "[1951]\ttrain-rmse:0.09291\ttrain-r2:0.97860\teval-rmse:0.09493\teval-r2:0.97775\n",
      "[1952]\ttrain-rmse:0.09291\ttrain-r2:0.97860\teval-rmse:0.09493\teval-r2:0.97775\n",
      "[1953]\ttrain-rmse:0.09291\ttrain-r2:0.97860\teval-rmse:0.09493\teval-r2:0.97775\n",
      "[1954]\ttrain-rmse:0.09291\ttrain-r2:0.97860\teval-rmse:0.09493\teval-r2:0.97775\n",
      "[1955]\ttrain-rmse:0.09291\ttrain-r2:0.97860\teval-rmse:0.09493\teval-r2:0.97775\n",
      "[1956]\ttrain-rmse:0.09291\ttrain-r2:0.97860\teval-rmse:0.09493\teval-r2:0.97775\n",
      "[1957]\ttrain-rmse:0.09291\ttrain-r2:0.97860\teval-rmse:0.09493\teval-r2:0.97775\n",
      "[1958]\ttrain-rmse:0.09291\ttrain-r2:0.97860\teval-rmse:0.09493\teval-r2:0.97775\n",
      "[1959]\ttrain-rmse:0.09290\ttrain-r2:0.97861\teval-rmse:0.09493\teval-r2:0.97775\n",
      "[1960]\ttrain-rmse:0.09290\ttrain-r2:0.97861\teval-rmse:0.09492\teval-r2:0.97775\n",
      "[1961]\ttrain-rmse:0.09290\ttrain-r2:0.97861\teval-rmse:0.09492\teval-r2:0.97775\n",
      "[1962]\ttrain-rmse:0.09290\ttrain-r2:0.97861\teval-rmse:0.09492\teval-r2:0.97775\n",
      "[1963]\ttrain-rmse:0.09290\ttrain-r2:0.97861\teval-rmse:0.09492\teval-r2:0.97775\n",
      "[1964]\ttrain-rmse:0.09290\ttrain-r2:0.97861\teval-rmse:0.09492\teval-r2:0.97775\n",
      "[1965]\ttrain-rmse:0.09287\ttrain-r2:0.97862\teval-rmse:0.09490\teval-r2:0.97776\n",
      "[1966]\ttrain-rmse:0.09287\ttrain-r2:0.97862\teval-rmse:0.09490\teval-r2:0.97776\n",
      "[1967]\ttrain-rmse:0.09287\ttrain-r2:0.97862\teval-rmse:0.09490\teval-r2:0.97776\n",
      "[1968]\ttrain-rmse:0.09287\ttrain-r2:0.97862\teval-rmse:0.09490\teval-r2:0.97776\n",
      "[1969]\ttrain-rmse:0.09287\ttrain-r2:0.97862\teval-rmse:0.09490\teval-r2:0.97776\n",
      "[1970]\ttrain-rmse:0.09285\ttrain-r2:0.97863\teval-rmse:0.09488\teval-r2:0.97777\n",
      "[1971]\ttrain-rmse:0.09283\ttrain-r2:0.97864\teval-rmse:0.09486\teval-r2:0.97778\n",
      "[1972]\ttrain-rmse:0.09283\ttrain-r2:0.97864\teval-rmse:0.09486\teval-r2:0.97778\n",
      "[1973]\ttrain-rmse:0.09283\ttrain-r2:0.97864\teval-rmse:0.09486\teval-r2:0.97778\n",
      "[1974]\ttrain-rmse:0.09282\ttrain-r2:0.97865\teval-rmse:0.09485\teval-r2:0.97779\n",
      "[1975]\ttrain-rmse:0.09282\ttrain-r2:0.97865\teval-rmse:0.09485\teval-r2:0.97779\n",
      "[1976]\ttrain-rmse:0.09282\ttrain-r2:0.97865\teval-rmse:0.09485\teval-r2:0.97779\n",
      "[1977]\ttrain-rmse:0.09282\ttrain-r2:0.97865\teval-rmse:0.09485\teval-r2:0.97779\n",
      "[1978]\ttrain-rmse:0.09282\ttrain-r2:0.97865\teval-rmse:0.09485\teval-r2:0.97779\n",
      "[1979]\ttrain-rmse:0.09282\ttrain-r2:0.97865\teval-rmse:0.09485\teval-r2:0.97779\n",
      "[1980]\ttrain-rmse:0.09282\ttrain-r2:0.97865\teval-rmse:0.09485\teval-r2:0.97779\n",
      "[1981]\ttrain-rmse:0.09282\ttrain-r2:0.97865\teval-rmse:0.09485\teval-r2:0.97779\n",
      "[1982]\ttrain-rmse:0.09282\ttrain-r2:0.97865\teval-rmse:0.09485\teval-r2:0.97779\n",
      "[1983]\ttrain-rmse:0.09282\ttrain-r2:0.97865\teval-rmse:0.09485\teval-r2:0.97779\n",
      "[1984]\ttrain-rmse:0.09282\ttrain-r2:0.97865\teval-rmse:0.09485\teval-r2:0.97779\n",
      "[1985]\ttrain-rmse:0.09282\ttrain-r2:0.97865\teval-rmse:0.09485\teval-r2:0.97779\n",
      "[1986]\ttrain-rmse:0.09282\ttrain-r2:0.97865\teval-rmse:0.09485\teval-r2:0.97779\n",
      "[1987]\ttrain-rmse:0.09282\ttrain-r2:0.97865\teval-rmse:0.09485\teval-r2:0.97779\n",
      "[1988]\ttrain-rmse:0.09282\ttrain-r2:0.97865\teval-rmse:0.09485\teval-r2:0.97779\n",
      "[1989]\ttrain-rmse:0.09282\ttrain-r2:0.97865\teval-rmse:0.09485\teval-r2:0.97779\n",
      "[1990]\ttrain-rmse:0.09282\ttrain-r2:0.97865\teval-rmse:0.09485\teval-r2:0.97779\n",
      "[1991]\ttrain-rmse:0.09282\ttrain-r2:0.97865\teval-rmse:0.09485\teval-r2:0.97779\n",
      "[1992]\ttrain-rmse:0.09282\ttrain-r2:0.97865\teval-rmse:0.09485\teval-r2:0.97779\n",
      "[1993]\ttrain-rmse:0.09282\ttrain-r2:0.97865\teval-rmse:0.09485\teval-r2:0.97779\n",
      "[1994]\ttrain-rmse:0.09282\ttrain-r2:0.97865\teval-rmse:0.09485\teval-r2:0.97779\n",
      "[1995]\ttrain-rmse:0.09282\ttrain-r2:0.97865\teval-rmse:0.09485\teval-r2:0.97779\n",
      "[1996]\ttrain-rmse:0.09282\ttrain-r2:0.97865\teval-rmse:0.09485\teval-r2:0.97779\n",
      "[1997]\ttrain-rmse:0.09282\ttrain-r2:0.97865\teval-rmse:0.09485\teval-r2:0.97779\n",
      "[1998]\ttrain-rmse:0.09282\ttrain-r2:0.97865\teval-rmse:0.09485\teval-r2:0.97779\n",
      "[1999]\ttrain-rmse:0.09279\ttrain-r2:0.97866\teval-rmse:0.09483\teval-r2:0.97780\n",
      "[2000]\ttrain-rmse:0.09279\ttrain-r2:0.97866\teval-rmse:0.09483\teval-r2:0.97780\n",
      "[2001]\ttrain-rmse:0.09279\ttrain-r2:0.97866\teval-rmse:0.09483\teval-r2:0.97780\n",
      "[2002]\ttrain-rmse:0.09279\ttrain-r2:0.97866\teval-rmse:0.09483\teval-r2:0.97780\n",
      "[2003]\ttrain-rmse:0.09279\ttrain-r2:0.97866\teval-rmse:0.09483\teval-r2:0.97780\n",
      "[2004]\ttrain-rmse:0.09279\ttrain-r2:0.97866\teval-rmse:0.09483\teval-r2:0.97780\n",
      "[2005]\ttrain-rmse:0.09279\ttrain-r2:0.97866\teval-rmse:0.09483\teval-r2:0.97780\n",
      "[2006]\ttrain-rmse:0.09279\ttrain-r2:0.97866\teval-rmse:0.09483\teval-r2:0.97780\n",
      "[2007]\ttrain-rmse:0.09279\ttrain-r2:0.97866\teval-rmse:0.09483\teval-r2:0.97780\n",
      "[2008]\ttrain-rmse:0.09279\ttrain-r2:0.97866\teval-rmse:0.09483\teval-r2:0.97780\n",
      "[2009]\ttrain-rmse:0.09279\ttrain-r2:0.97866\teval-rmse:0.09483\teval-r2:0.97780\n",
      "[2010]\ttrain-rmse:0.09279\ttrain-r2:0.97866\teval-rmse:0.09483\teval-r2:0.97780\n",
      "[2011]\ttrain-rmse:0.09279\ttrain-r2:0.97866\teval-rmse:0.09483\teval-r2:0.97780\n",
      "[2012]\ttrain-rmse:0.09279\ttrain-r2:0.97866\teval-rmse:0.09483\teval-r2:0.97780\n",
      "[2013]\ttrain-rmse:0.09279\ttrain-r2:0.97866\teval-rmse:0.09483\teval-r2:0.97780\n",
      "[2014]\ttrain-rmse:0.09279\ttrain-r2:0.97866\teval-rmse:0.09483\teval-r2:0.97780\n",
      "[2015]\ttrain-rmse:0.09278\ttrain-r2:0.97866\teval-rmse:0.09482\teval-r2:0.97780\n",
      "[2016]\ttrain-rmse:0.09278\ttrain-r2:0.97866\teval-rmse:0.09482\teval-r2:0.97780\n",
      "[2017]\ttrain-rmse:0.09277\ttrain-r2:0.97867\teval-rmse:0.09481\teval-r2:0.97781\n",
      "[2018]\ttrain-rmse:0.09277\ttrain-r2:0.97867\teval-rmse:0.09481\teval-r2:0.97781\n",
      "[2019]\ttrain-rmse:0.09277\ttrain-r2:0.97867\teval-rmse:0.09481\teval-r2:0.97781\n",
      "[2020]\ttrain-rmse:0.09277\ttrain-r2:0.97867\teval-rmse:0.09481\teval-r2:0.97781\n",
      "[2021]\ttrain-rmse:0.09277\ttrain-r2:0.97867\teval-rmse:0.09481\teval-r2:0.97781\n",
      "[2022]\ttrain-rmse:0.09277\ttrain-r2:0.97867\teval-rmse:0.09481\teval-r2:0.97781\n",
      "[2023]\ttrain-rmse:0.09277\ttrain-r2:0.97867\teval-rmse:0.09481\teval-r2:0.97781\n",
      "[2024]\ttrain-rmse:0.09277\ttrain-r2:0.97867\teval-rmse:0.09481\teval-r2:0.97781\n",
      "[2025]\ttrain-rmse:0.09277\ttrain-r2:0.97867\teval-rmse:0.09481\teval-r2:0.97781\n",
      "[2026]\ttrain-rmse:0.09274\ttrain-r2:0.97868\teval-rmse:0.09478\teval-r2:0.97782\n",
      "[2027]\ttrain-rmse:0.09274\ttrain-r2:0.97868\teval-rmse:0.09478\teval-r2:0.97782\n",
      "[2028]\ttrain-rmse:0.09270\ttrain-r2:0.97870\teval-rmse:0.09476\teval-r2:0.97783\n",
      "[2029]\ttrain-rmse:0.09270\ttrain-r2:0.97870\teval-rmse:0.09476\teval-r2:0.97783\n",
      "[2030]\ttrain-rmse:0.09270\ttrain-r2:0.97870\teval-rmse:0.09476\teval-r2:0.97783\n",
      "[2031]\ttrain-rmse:0.09270\ttrain-r2:0.97870\teval-rmse:0.09476\teval-r2:0.97783\n",
      "[2032]\ttrain-rmse:0.09270\ttrain-r2:0.97870\teval-rmse:0.09476\teval-r2:0.97783\n",
      "[2033]\ttrain-rmse:0.09270\ttrain-r2:0.97870\teval-rmse:0.09476\teval-r2:0.97783\n",
      "[2034]\ttrain-rmse:0.09270\ttrain-r2:0.97870\teval-rmse:0.09476\teval-r2:0.97783\n",
      "[2035]\ttrain-rmse:0.09270\ttrain-r2:0.97870\teval-rmse:0.09476\teval-r2:0.97783\n",
      "[2036]\ttrain-rmse:0.09270\ttrain-r2:0.97870\teval-rmse:0.09476\teval-r2:0.97783\n",
      "[2037]\ttrain-rmse:0.09269\ttrain-r2:0.97870\teval-rmse:0.09475\teval-r2:0.97783\n",
      "[2038]\ttrain-rmse:0.09269\ttrain-r2:0.97870\teval-rmse:0.09475\teval-r2:0.97783\n",
      "[2039]\ttrain-rmse:0.09269\ttrain-r2:0.97870\teval-rmse:0.09475\teval-r2:0.97783\n",
      "[2040]\ttrain-rmse:0.09269\ttrain-r2:0.97870\teval-rmse:0.09475\teval-r2:0.97783\n",
      "[2041]\ttrain-rmse:0.09269\ttrain-r2:0.97870\teval-rmse:0.09475\teval-r2:0.97783\n",
      "[2042]\ttrain-rmse:0.09269\ttrain-r2:0.97870\teval-rmse:0.09475\teval-r2:0.97783\n",
      "[2043]\ttrain-rmse:0.09269\ttrain-r2:0.97870\teval-rmse:0.09475\teval-r2:0.97783\n",
      "[2044]\ttrain-rmse:0.09269\ttrain-r2:0.97871\teval-rmse:0.09475\teval-r2:0.97784\n",
      "[2045]\ttrain-rmse:0.09269\ttrain-r2:0.97871\teval-rmse:0.09475\teval-r2:0.97784\n",
      "[2046]\ttrain-rmse:0.09269\ttrain-r2:0.97871\teval-rmse:0.09475\teval-r2:0.97784\n",
      "[2047]\ttrain-rmse:0.09269\ttrain-r2:0.97871\teval-rmse:0.09475\teval-r2:0.97784\n",
      "[2048]\ttrain-rmse:0.09269\ttrain-r2:0.97871\teval-rmse:0.09475\teval-r2:0.97784\n",
      "[2049]\ttrain-rmse:0.09269\ttrain-r2:0.97871\teval-rmse:0.09475\teval-r2:0.97784\n",
      "[2050]\ttrain-rmse:0.09269\ttrain-r2:0.97871\teval-rmse:0.09475\teval-r2:0.97784\n",
      "[2051]\ttrain-rmse:0.09269\ttrain-r2:0.97871\teval-rmse:0.09475\teval-r2:0.97784\n",
      "[2052]\ttrain-rmse:0.09269\ttrain-r2:0.97871\teval-rmse:0.09475\teval-r2:0.97784\n",
      "[2053]\ttrain-rmse:0.09269\ttrain-r2:0.97871\teval-rmse:0.09475\teval-r2:0.97784\n",
      "[2054]\ttrain-rmse:0.09269\ttrain-r2:0.97871\teval-rmse:0.09475\teval-r2:0.97784\n",
      "[2055]\ttrain-rmse:0.09269\ttrain-r2:0.97871\teval-rmse:0.09475\teval-r2:0.97784\n",
      "[2056]\ttrain-rmse:0.09269\ttrain-r2:0.97871\teval-rmse:0.09475\teval-r2:0.97784\n",
      "[2057]\ttrain-rmse:0.09269\ttrain-r2:0.97871\teval-rmse:0.09475\teval-r2:0.97784\n",
      "[2058]\ttrain-rmse:0.09269\ttrain-r2:0.97871\teval-rmse:0.09475\teval-r2:0.97784\n",
      "[2059]\ttrain-rmse:0.09269\ttrain-r2:0.97871\teval-rmse:0.09475\teval-r2:0.97784\n",
      "[2060]\ttrain-rmse:0.09269\ttrain-r2:0.97871\teval-rmse:0.09475\teval-r2:0.97784\n",
      "[2061]\ttrain-rmse:0.09269\ttrain-r2:0.97871\teval-rmse:0.09475\teval-r2:0.97784\n",
      "[2062]\ttrain-rmse:0.09269\ttrain-r2:0.97871\teval-rmse:0.09475\teval-r2:0.97784\n",
      "[2063]\ttrain-rmse:0.09269\ttrain-r2:0.97871\teval-rmse:0.09475\teval-r2:0.97784\n",
      "[2064]\ttrain-rmse:0.09269\ttrain-r2:0.97871\teval-rmse:0.09475\teval-r2:0.97784\n",
      "[2065]\ttrain-rmse:0.09269\ttrain-r2:0.97871\teval-rmse:0.09475\teval-r2:0.97784\n",
      "[2066]\ttrain-rmse:0.09269\ttrain-r2:0.97871\teval-rmse:0.09475\teval-r2:0.97784\n",
      "[2067]\ttrain-rmse:0.09269\ttrain-r2:0.97871\teval-rmse:0.09475\teval-r2:0.97784\n",
      "[2068]\ttrain-rmse:0.09269\ttrain-r2:0.97871\teval-rmse:0.09475\teval-r2:0.97784\n",
      "[2069]\ttrain-rmse:0.09269\ttrain-r2:0.97871\teval-rmse:0.09475\teval-r2:0.97784\n",
      "[2070]\ttrain-rmse:0.09269\ttrain-r2:0.97871\teval-rmse:0.09475\teval-r2:0.97784\n",
      "[2071]\ttrain-rmse:0.09269\ttrain-r2:0.97871\teval-rmse:0.09475\teval-r2:0.97784\n",
      "[2072]\ttrain-rmse:0.09269\ttrain-r2:0.97871\teval-rmse:0.09475\teval-r2:0.97784\n",
      "[2073]\ttrain-rmse:0.09269\ttrain-r2:0.97871\teval-rmse:0.09475\teval-r2:0.97784\n",
      "[2074]\ttrain-rmse:0.09269\ttrain-r2:0.97871\teval-rmse:0.09475\teval-r2:0.97784\n",
      "[2075]\ttrain-rmse:0.09269\ttrain-r2:0.97871\teval-rmse:0.09475\teval-r2:0.97784\n",
      "[2076]\ttrain-rmse:0.09269\ttrain-r2:0.97871\teval-rmse:0.09475\teval-r2:0.97784\n",
      "[2077]\ttrain-rmse:0.09269\ttrain-r2:0.97871\teval-rmse:0.09475\teval-r2:0.97784\n",
      "[2078]\ttrain-rmse:0.09269\ttrain-r2:0.97871\teval-rmse:0.09475\teval-r2:0.97784\n",
      "[2079]\ttrain-rmse:0.09269\ttrain-r2:0.97871\teval-rmse:0.09475\teval-r2:0.97784\n",
      "[2080]\ttrain-rmse:0.09269\ttrain-r2:0.97871\teval-rmse:0.09475\teval-r2:0.97784\n",
      "[2081]\ttrain-rmse:0.09267\ttrain-r2:0.97871\teval-rmse:0.09474\teval-r2:0.97784\n",
      "[2082]\ttrain-rmse:0.09267\ttrain-r2:0.97871\teval-rmse:0.09474\teval-r2:0.97784\n",
      "[2083]\ttrain-rmse:0.09267\ttrain-r2:0.97871\teval-rmse:0.09474\teval-r2:0.97784\n",
      "[2084]\ttrain-rmse:0.09267\ttrain-r2:0.97871\teval-rmse:0.09474\teval-r2:0.97784\n",
      "[2085]\ttrain-rmse:0.09267\ttrain-r2:0.97871\teval-rmse:0.09474\teval-r2:0.97784\n",
      "[2086]\ttrain-rmse:0.09267\ttrain-r2:0.97871\teval-rmse:0.09474\teval-r2:0.97784\n",
      "[2087]\ttrain-rmse:0.09267\ttrain-r2:0.97871\teval-rmse:0.09474\teval-r2:0.97784\n",
      "[2088]\ttrain-rmse:0.09267\ttrain-r2:0.97871\teval-rmse:0.09474\teval-r2:0.97784\n",
      "[2089]\ttrain-rmse:0.09267\ttrain-r2:0.97871\teval-rmse:0.09474\teval-r2:0.97784\n",
      "[2090]\ttrain-rmse:0.09267\ttrain-r2:0.97871\teval-rmse:0.09474\teval-r2:0.97784\n",
      "[2091]\ttrain-rmse:0.09267\ttrain-r2:0.97871\teval-rmse:0.09474\teval-r2:0.97784\n",
      "[2092]\ttrain-rmse:0.09267\ttrain-r2:0.97871\teval-rmse:0.09474\teval-r2:0.97784\n",
      "[2093]\ttrain-rmse:0.09267\ttrain-r2:0.97871\teval-rmse:0.09474\teval-r2:0.97784\n",
      "[2094]\ttrain-rmse:0.09265\ttrain-r2:0.97872\teval-rmse:0.09472\teval-r2:0.97785\n",
      "[2095]\ttrain-rmse:0.09265\ttrain-r2:0.97872\teval-rmse:0.09472\teval-r2:0.97785\n",
      "[2096]\ttrain-rmse:0.09265\ttrain-r2:0.97872\teval-rmse:0.09472\teval-r2:0.97785\n",
      "[2097]\ttrain-rmse:0.09265\ttrain-r2:0.97872\teval-rmse:0.09472\teval-r2:0.97785\n",
      "[2098]\ttrain-rmse:0.09265\ttrain-r2:0.97872\teval-rmse:0.09472\teval-r2:0.97785\n",
      "[2099]\ttrain-rmse:0.09265\ttrain-r2:0.97872\teval-rmse:0.09472\teval-r2:0.97785\n",
      "[2100]\ttrain-rmse:0.09265\ttrain-r2:0.97872\teval-rmse:0.09472\teval-r2:0.97785\n",
      "[2101]\ttrain-rmse:0.09265\ttrain-r2:0.97872\teval-rmse:0.09472\teval-r2:0.97785\n",
      "[2102]\ttrain-rmse:0.09265\ttrain-r2:0.97872\teval-rmse:0.09472\teval-r2:0.97785\n",
      "[2103]\ttrain-rmse:0.09265\ttrain-r2:0.97872\teval-rmse:0.09472\teval-r2:0.97785\n",
      "[2104]\ttrain-rmse:0.09265\ttrain-r2:0.97872\teval-rmse:0.09472\teval-r2:0.97785\n",
      "[2105]\ttrain-rmse:0.09265\ttrain-r2:0.97872\teval-rmse:0.09472\teval-r2:0.97785\n",
      "[2106]\ttrain-rmse:0.09265\ttrain-r2:0.97872\teval-rmse:0.09472\teval-r2:0.97785\n",
      "[2107]\ttrain-rmse:0.09265\ttrain-r2:0.97872\teval-rmse:0.09472\teval-r2:0.97785\n",
      "[2108]\ttrain-rmse:0.09265\ttrain-r2:0.97872\teval-rmse:0.09472\teval-r2:0.97785\n",
      "[2109]\ttrain-rmse:0.09264\ttrain-r2:0.97873\teval-rmse:0.09470\teval-r2:0.97786\n",
      "[2110]\ttrain-rmse:0.09264\ttrain-r2:0.97873\teval-rmse:0.09470\teval-r2:0.97786\n",
      "[2111]\ttrain-rmse:0.09264\ttrain-r2:0.97873\teval-rmse:0.09470\teval-r2:0.97786\n",
      "[2112]\ttrain-rmse:0.09264\ttrain-r2:0.97873\teval-rmse:0.09470\teval-r2:0.97786\n",
      "[2113]\ttrain-rmse:0.09262\ttrain-r2:0.97874\teval-rmse:0.09469\teval-r2:0.97786\n",
      "[2114]\ttrain-rmse:0.09260\ttrain-r2:0.97875\teval-rmse:0.09467\teval-r2:0.97787\n",
      "[2115]\ttrain-rmse:0.09260\ttrain-r2:0.97875\teval-rmse:0.09467\teval-r2:0.97787\n",
      "[2116]\ttrain-rmse:0.09260\ttrain-r2:0.97875\teval-rmse:0.09467\teval-r2:0.97787\n",
      "[2117]\ttrain-rmse:0.09260\ttrain-r2:0.97875\teval-rmse:0.09467\teval-r2:0.97787\n",
      "[2118]\ttrain-rmse:0.09260\ttrain-r2:0.97875\teval-rmse:0.09467\teval-r2:0.97787\n",
      "[2119]\ttrain-rmse:0.09260\ttrain-r2:0.97875\teval-rmse:0.09467\teval-r2:0.97787\n",
      "[2120]\ttrain-rmse:0.09260\ttrain-r2:0.97875\teval-rmse:0.09467\teval-r2:0.97787\n",
      "[2121]\ttrain-rmse:0.09260\ttrain-r2:0.97875\teval-rmse:0.09467\teval-r2:0.97787\n",
      "[2122]\ttrain-rmse:0.09260\ttrain-r2:0.97875\teval-rmse:0.09467\teval-r2:0.97787\n",
      "[2123]\ttrain-rmse:0.09260\ttrain-r2:0.97875\teval-rmse:0.09467\teval-r2:0.97787\n",
      "[2124]\ttrain-rmse:0.09259\ttrain-r2:0.97875\teval-rmse:0.09466\teval-r2:0.97788\n",
      "[2125]\ttrain-rmse:0.09259\ttrain-r2:0.97875\teval-rmse:0.09466\teval-r2:0.97788\n",
      "[2126]\ttrain-rmse:0.09259\ttrain-r2:0.97875\teval-rmse:0.09466\teval-r2:0.97788\n",
      "[2127]\ttrain-rmse:0.09259\ttrain-r2:0.97875\teval-rmse:0.09466\teval-r2:0.97788\n",
      "[2128]\ttrain-rmse:0.09259\ttrain-r2:0.97875\teval-rmse:0.09466\teval-r2:0.97788\n",
      "[2129]\ttrain-rmse:0.09259\ttrain-r2:0.97875\teval-rmse:0.09466\teval-r2:0.97788\n",
      "[2130]\ttrain-rmse:0.09259\ttrain-r2:0.97875\teval-rmse:0.09466\teval-r2:0.97788\n",
      "[2131]\ttrain-rmse:0.09259\ttrain-r2:0.97875\teval-rmse:0.09466\teval-r2:0.97788\n",
      "[2132]\ttrain-rmse:0.09259\ttrain-r2:0.97875\teval-rmse:0.09466\teval-r2:0.97788\n",
      "[2133]\ttrain-rmse:0.09259\ttrain-r2:0.97875\teval-rmse:0.09466\teval-r2:0.97788\n",
      "[2134]\ttrain-rmse:0.09259\ttrain-r2:0.97875\teval-rmse:0.09466\teval-r2:0.97788\n",
      "[2135]\ttrain-rmse:0.09259\ttrain-r2:0.97875\teval-rmse:0.09466\teval-r2:0.97788\n",
      "[2136]\ttrain-rmse:0.09259\ttrain-r2:0.97875\teval-rmse:0.09466\teval-r2:0.97788\n",
      "[2137]\ttrain-rmse:0.09259\ttrain-r2:0.97875\teval-rmse:0.09466\teval-r2:0.97788\n",
      "[2138]\ttrain-rmse:0.09259\ttrain-r2:0.97875\teval-rmse:0.09466\teval-r2:0.97788\n",
      "[2139]\ttrain-rmse:0.09259\ttrain-r2:0.97875\teval-rmse:0.09466\teval-r2:0.97788\n",
      "[2140]\ttrain-rmse:0.09259\ttrain-r2:0.97875\teval-rmse:0.09466\teval-r2:0.97788\n",
      "[2141]\ttrain-rmse:0.09259\ttrain-r2:0.97875\teval-rmse:0.09466\teval-r2:0.97788\n",
      "[2142]\ttrain-rmse:0.09259\ttrain-r2:0.97875\teval-rmse:0.09466\teval-r2:0.97788\n",
      "[2143]\ttrain-rmse:0.09259\ttrain-r2:0.97875\teval-rmse:0.09466\teval-r2:0.97788\n",
      "[2144]\ttrain-rmse:0.09259\ttrain-r2:0.97875\teval-rmse:0.09466\teval-r2:0.97788\n",
      "[2145]\ttrain-rmse:0.09259\ttrain-r2:0.97875\teval-rmse:0.09466\teval-r2:0.97788\n",
      "[2146]\ttrain-rmse:0.09259\ttrain-r2:0.97875\teval-rmse:0.09466\teval-r2:0.97788\n",
      "[2147]\ttrain-rmse:0.09259\ttrain-r2:0.97875\teval-rmse:0.09466\teval-r2:0.97788\n",
      "[2148]\ttrain-rmse:0.09259\ttrain-r2:0.97875\teval-rmse:0.09466\teval-r2:0.97788\n",
      "[2149]\ttrain-rmse:0.09259\ttrain-r2:0.97875\teval-rmse:0.09466\teval-r2:0.97788\n",
      "[2150]\ttrain-rmse:0.09259\ttrain-r2:0.97875\teval-rmse:0.09466\teval-r2:0.97788\n",
      "[2151]\ttrain-rmse:0.09259\ttrain-r2:0.97875\teval-rmse:0.09466\teval-r2:0.97788\n",
      "[2152]\ttrain-rmse:0.09259\ttrain-r2:0.97875\teval-rmse:0.09466\teval-r2:0.97788\n",
      "[2153]\ttrain-rmse:0.09259\ttrain-r2:0.97875\teval-rmse:0.09466\teval-r2:0.97788\n",
      "[2154]\ttrain-rmse:0.09259\ttrain-r2:0.97875\teval-rmse:0.09466\teval-r2:0.97788\n",
      "[2155]\ttrain-rmse:0.09259\ttrain-r2:0.97875\teval-rmse:0.09466\teval-r2:0.97788\n",
      "[2156]\ttrain-rmse:0.09259\ttrain-r2:0.97875\teval-rmse:0.09466\teval-r2:0.97788\n",
      "[2157]\ttrain-rmse:0.09259\ttrain-r2:0.97875\teval-rmse:0.09466\teval-r2:0.97788\n",
      "[2158]\ttrain-rmse:0.09259\ttrain-r2:0.97875\teval-rmse:0.09466\teval-r2:0.97788\n",
      "[2159]\ttrain-rmse:0.09259\ttrain-r2:0.97875\teval-rmse:0.09466\teval-r2:0.97788\n",
      "[2160]\ttrain-rmse:0.09259\ttrain-r2:0.97875\teval-rmse:0.09466\teval-r2:0.97788\n",
      "[2161]\ttrain-rmse:0.09259\ttrain-r2:0.97875\teval-rmse:0.09466\teval-r2:0.97788\n",
      "[2162]\ttrain-rmse:0.09259\ttrain-r2:0.97875\teval-rmse:0.09466\teval-r2:0.97788\n",
      "[2163]\ttrain-rmse:0.09259\ttrain-r2:0.97875\teval-rmse:0.09466\teval-r2:0.97788\n",
      "[2164]\ttrain-rmse:0.09259\ttrain-r2:0.97875\teval-rmse:0.09466\teval-r2:0.97788\n",
      "[2165]\ttrain-rmse:0.09257\ttrain-r2:0.97876\teval-rmse:0.09464\teval-r2:0.97789\n",
      "[2166]\ttrain-rmse:0.09257\ttrain-r2:0.97876\teval-rmse:0.09464\teval-r2:0.97789\n",
      "[2167]\ttrain-rmse:0.09257\ttrain-r2:0.97876\teval-rmse:0.09464\teval-r2:0.97789\n",
      "[2168]\ttrain-rmse:0.09257\ttrain-r2:0.97876\teval-rmse:0.09464\teval-r2:0.97789\n",
      "[2169]\ttrain-rmse:0.09257\ttrain-r2:0.97876\teval-rmse:0.09464\teval-r2:0.97789\n",
      "[2170]\ttrain-rmse:0.09257\ttrain-r2:0.97876\teval-rmse:0.09464\teval-r2:0.97789\n",
      "[2171]\ttrain-rmse:0.09257\ttrain-r2:0.97876\teval-rmse:0.09464\teval-r2:0.97789\n",
      "[2172]\ttrain-rmse:0.09257\ttrain-r2:0.97876\teval-rmse:0.09464\teval-r2:0.97789\n",
      "[2173]\ttrain-rmse:0.09257\ttrain-r2:0.97876\teval-rmse:0.09464\teval-r2:0.97789\n",
      "[2174]\ttrain-rmse:0.09257\ttrain-r2:0.97876\teval-rmse:0.09464\teval-r2:0.97789\n",
      "[2175]\ttrain-rmse:0.09257\ttrain-r2:0.97876\teval-rmse:0.09464\teval-r2:0.97789\n",
      "[2176]\ttrain-rmse:0.09257\ttrain-r2:0.97876\teval-rmse:0.09464\teval-r2:0.97789\n",
      "[2177]\ttrain-rmse:0.09257\ttrain-r2:0.97876\teval-rmse:0.09464\teval-r2:0.97789\n",
      "[2178]\ttrain-rmse:0.09257\ttrain-r2:0.97876\teval-rmse:0.09464\teval-r2:0.97789\n",
      "[2179]\ttrain-rmse:0.09257\ttrain-r2:0.97876\teval-rmse:0.09464\teval-r2:0.97789\n",
      "[2180]\ttrain-rmse:0.09257\ttrain-r2:0.97876\teval-rmse:0.09464\teval-r2:0.97789\n",
      "[2181]\ttrain-rmse:0.09257\ttrain-r2:0.97876\teval-rmse:0.09464\teval-r2:0.97789\n",
      "[2182]\ttrain-rmse:0.09256\ttrain-r2:0.97876\teval-rmse:0.09464\teval-r2:0.97789\n",
      "[2183]\ttrain-rmse:0.09256\ttrain-r2:0.97876\teval-rmse:0.09464\teval-r2:0.97789\n",
      "[2184]\ttrain-rmse:0.09256\ttrain-r2:0.97876\teval-rmse:0.09464\teval-r2:0.97789\n",
      "[2185]\ttrain-rmse:0.09256\ttrain-r2:0.97876\teval-rmse:0.09464\teval-r2:0.97789\n",
      "[2186]\ttrain-rmse:0.09256\ttrain-r2:0.97876\teval-rmse:0.09464\teval-r2:0.97789\n",
      "[2187]\ttrain-rmse:0.09256\ttrain-r2:0.97876\teval-rmse:0.09464\teval-r2:0.97789\n",
      "[2188]\ttrain-rmse:0.09256\ttrain-r2:0.97876\teval-rmse:0.09464\teval-r2:0.97789\n",
      "[2189]\ttrain-rmse:0.09256\ttrain-r2:0.97876\teval-rmse:0.09464\teval-r2:0.97789\n",
      "[2190]\ttrain-rmse:0.09256\ttrain-r2:0.97876\teval-rmse:0.09464\teval-r2:0.97789\n",
      "[2191]\ttrain-rmse:0.09254\ttrain-r2:0.97877\teval-rmse:0.09462\teval-r2:0.97790\n",
      "[2192]\ttrain-rmse:0.09254\ttrain-r2:0.97877\teval-rmse:0.09462\teval-r2:0.97790\n",
      "[2193]\ttrain-rmse:0.09254\ttrain-r2:0.97878\teval-rmse:0.09461\teval-r2:0.97790\n",
      "[2194]\ttrain-rmse:0.09254\ttrain-r2:0.97878\teval-rmse:0.09461\teval-r2:0.97790\n",
      "[2195]\ttrain-rmse:0.09254\ttrain-r2:0.97878\teval-rmse:0.09461\teval-r2:0.97790\n",
      "[2196]\ttrain-rmse:0.09254\ttrain-r2:0.97878\teval-rmse:0.09461\teval-r2:0.97790\n",
      "[2197]\ttrain-rmse:0.09254\ttrain-r2:0.97878\teval-rmse:0.09461\teval-r2:0.97790\n",
      "[2198]\ttrain-rmse:0.09254\ttrain-r2:0.97878\teval-rmse:0.09461\teval-r2:0.97790\n",
      "[2199]\ttrain-rmse:0.09254\ttrain-r2:0.97878\teval-rmse:0.09461\teval-r2:0.97790\n",
      "[2200]\ttrain-rmse:0.09254\ttrain-r2:0.97878\teval-rmse:0.09461\teval-r2:0.97790\n",
      "[2201]\ttrain-rmse:0.09254\ttrain-r2:0.97878\teval-rmse:0.09461\teval-r2:0.97790\n",
      "[2202]\ttrain-rmse:0.09254\ttrain-r2:0.97878\teval-rmse:0.09461\teval-r2:0.97790\n",
      "[2203]\ttrain-rmse:0.09254\ttrain-r2:0.97878\teval-rmse:0.09461\teval-r2:0.97790\n",
      "[2204]\ttrain-rmse:0.09254\ttrain-r2:0.97878\teval-rmse:0.09461\teval-r2:0.97790\n",
      "[2205]\ttrain-rmse:0.09254\ttrain-r2:0.97878\teval-rmse:0.09461\teval-r2:0.97790\n",
      "[2206]\ttrain-rmse:0.09254\ttrain-r2:0.97878\teval-rmse:0.09461\teval-r2:0.97790\n",
      "[2207]\ttrain-rmse:0.09254\ttrain-r2:0.97878\teval-rmse:0.09461\teval-r2:0.97790\n",
      "[2208]\ttrain-rmse:0.09254\ttrain-r2:0.97878\teval-rmse:0.09461\teval-r2:0.97790\n",
      "[2209]\ttrain-rmse:0.09254\ttrain-r2:0.97878\teval-rmse:0.09461\teval-r2:0.97790\n",
      "[2210]\ttrain-rmse:0.09254\ttrain-r2:0.97878\teval-rmse:0.09461\teval-r2:0.97790\n",
      "[2211]\ttrain-rmse:0.09254\ttrain-r2:0.97878\teval-rmse:0.09461\teval-r2:0.97790\n",
      "[2212]\ttrain-rmse:0.09253\ttrain-r2:0.97878\teval-rmse:0.09461\teval-r2:0.97790\n",
      "[2213]\ttrain-rmse:0.09250\ttrain-r2:0.97879\teval-rmse:0.09458\teval-r2:0.97791\n",
      "[2214]\ttrain-rmse:0.09250\ttrain-r2:0.97879\teval-rmse:0.09458\teval-r2:0.97791\n",
      "[2215]\ttrain-rmse:0.09250\ttrain-r2:0.97879\teval-rmse:0.09458\teval-r2:0.97791\n",
      "[2216]\ttrain-rmse:0.09250\ttrain-r2:0.97879\teval-rmse:0.09458\teval-r2:0.97791\n",
      "[2217]\ttrain-rmse:0.09250\ttrain-r2:0.97879\teval-rmse:0.09458\teval-r2:0.97791\n",
      "[2218]\ttrain-rmse:0.09250\ttrain-r2:0.97879\teval-rmse:0.09458\teval-r2:0.97791\n",
      "[2219]\ttrain-rmse:0.09250\ttrain-r2:0.97879\teval-rmse:0.09458\teval-r2:0.97791\n",
      "[2220]\ttrain-rmse:0.09250\ttrain-r2:0.97879\teval-rmse:0.09458\teval-r2:0.97791\n",
      "[2221]\ttrain-rmse:0.09250\ttrain-r2:0.97879\teval-rmse:0.09458\teval-r2:0.97791\n",
      "[2222]\ttrain-rmse:0.09250\ttrain-r2:0.97879\teval-rmse:0.09458\teval-r2:0.97791\n",
      "[2223]\ttrain-rmse:0.09250\ttrain-r2:0.97879\teval-rmse:0.09458\teval-r2:0.97791\n",
      "[2224]\ttrain-rmse:0.09250\ttrain-r2:0.97879\teval-rmse:0.09458\teval-r2:0.97791\n",
      "[2225]\ttrain-rmse:0.09250\ttrain-r2:0.97879\teval-rmse:0.09458\teval-r2:0.97791\n",
      "[2226]\ttrain-rmse:0.09250\ttrain-r2:0.97879\teval-rmse:0.09458\teval-r2:0.97791\n",
      "[2227]\ttrain-rmse:0.09250\ttrain-r2:0.97879\teval-rmse:0.09458\teval-r2:0.97791\n",
      "[2228]\ttrain-rmse:0.09250\ttrain-r2:0.97879\teval-rmse:0.09458\teval-r2:0.97791\n",
      "[2229]\ttrain-rmse:0.09250\ttrain-r2:0.97879\teval-rmse:0.09458\teval-r2:0.97791\n",
      "[2230]\ttrain-rmse:0.09250\ttrain-r2:0.97879\teval-rmse:0.09458\teval-r2:0.97791\n",
      "[2231]\ttrain-rmse:0.09250\ttrain-r2:0.97879\teval-rmse:0.09458\teval-r2:0.97791\n",
      "[2232]\ttrain-rmse:0.09250\ttrain-r2:0.97879\teval-rmse:0.09458\teval-r2:0.97791\n",
      "[2233]\ttrain-rmse:0.09250\ttrain-r2:0.97879\teval-rmse:0.09458\teval-r2:0.97791\n",
      "[2234]\ttrain-rmse:0.09250\ttrain-r2:0.97879\teval-rmse:0.09458\teval-r2:0.97791\n",
      "[2235]\ttrain-rmse:0.09250\ttrain-r2:0.97879\teval-rmse:0.09458\teval-r2:0.97791\n",
      "[2236]\ttrain-rmse:0.09250\ttrain-r2:0.97879\teval-rmse:0.09458\teval-r2:0.97791\n",
      "[2237]\ttrain-rmse:0.09250\ttrain-r2:0.97879\teval-rmse:0.09458\teval-r2:0.97791\n",
      "[2238]\ttrain-rmse:0.09250\ttrain-r2:0.97879\teval-rmse:0.09458\teval-r2:0.97791\n",
      "[2239]\ttrain-rmse:0.09250\ttrain-r2:0.97879\teval-rmse:0.09458\teval-r2:0.97791\n",
      "[2240]\ttrain-rmse:0.09250\ttrain-r2:0.97879\teval-rmse:0.09458\teval-r2:0.97791\n",
      "[2241]\ttrain-rmse:0.09250\ttrain-r2:0.97879\teval-rmse:0.09458\teval-r2:0.97791\n",
      "[2242]\ttrain-rmse:0.09250\ttrain-r2:0.97879\teval-rmse:0.09458\teval-r2:0.97791\n",
      "[2243]\ttrain-rmse:0.09250\ttrain-r2:0.97879\teval-rmse:0.09458\teval-r2:0.97791\n",
      "[2244]\ttrain-rmse:0.09249\ttrain-r2:0.97879\teval-rmse:0.09458\teval-r2:0.97792\n",
      "[2245]\ttrain-rmse:0.09249\ttrain-r2:0.97879\teval-rmse:0.09458\teval-r2:0.97792\n",
      "[2246]\ttrain-rmse:0.09249\ttrain-r2:0.97879\teval-rmse:0.09458\teval-r2:0.97792\n",
      "[2247]\ttrain-rmse:0.09249\ttrain-r2:0.97879\teval-rmse:0.09458\teval-r2:0.97792\n",
      "[2248]\ttrain-rmse:0.09249\ttrain-r2:0.97879\teval-rmse:0.09458\teval-r2:0.97792\n",
      "[2249]\ttrain-rmse:0.09249\ttrain-r2:0.97879\teval-rmse:0.09458\teval-r2:0.97792\n",
      "[2250]\ttrain-rmse:0.09249\ttrain-r2:0.97879\teval-rmse:0.09458\teval-r2:0.97792\n",
      "[2251]\ttrain-rmse:0.09249\ttrain-r2:0.97879\teval-rmse:0.09458\teval-r2:0.97792\n",
      "[2252]\ttrain-rmse:0.09249\ttrain-r2:0.97879\teval-rmse:0.09458\teval-r2:0.97792\n",
      "[2253]\ttrain-rmse:0.09249\ttrain-r2:0.97879\teval-rmse:0.09458\teval-r2:0.97792\n",
      "[2254]\ttrain-rmse:0.09249\ttrain-r2:0.97879\teval-rmse:0.09458\teval-r2:0.97792\n",
      "[2255]\ttrain-rmse:0.09249\ttrain-r2:0.97879\teval-rmse:0.09458\teval-r2:0.97792\n",
      "[2256]\ttrain-rmse:0.09249\ttrain-r2:0.97879\teval-rmse:0.09458\teval-r2:0.97792\n",
      "[2257]\ttrain-rmse:0.09249\ttrain-r2:0.97879\teval-rmse:0.09458\teval-r2:0.97792\n",
      "[2258]\ttrain-rmse:0.09249\ttrain-r2:0.97880\teval-rmse:0.09458\teval-r2:0.97792\n",
      "[2259]\ttrain-rmse:0.09249\ttrain-r2:0.97880\teval-rmse:0.09458\teval-r2:0.97792\n",
      "[2260]\ttrain-rmse:0.09249\ttrain-r2:0.97880\teval-rmse:0.09458\teval-r2:0.97792\n",
      "[2261]\ttrain-rmse:0.09249\ttrain-r2:0.97880\teval-rmse:0.09458\teval-r2:0.97792\n",
      "[2262]\ttrain-rmse:0.09249\ttrain-r2:0.97880\teval-rmse:0.09458\teval-r2:0.97792\n",
      "[2263]\ttrain-rmse:0.09249\ttrain-r2:0.97880\teval-rmse:0.09458\teval-r2:0.97792\n",
      "[2264]\ttrain-rmse:0.09249\ttrain-r2:0.97880\teval-rmse:0.09458\teval-r2:0.97792\n",
      "[2265]\ttrain-rmse:0.09249\ttrain-r2:0.97880\teval-rmse:0.09458\teval-r2:0.97792\n",
      "[2266]\ttrain-rmse:0.09249\ttrain-r2:0.97880\teval-rmse:0.09458\teval-r2:0.97792\n",
      "[2267]\ttrain-rmse:0.09249\ttrain-r2:0.97880\teval-rmse:0.09458\teval-r2:0.97792\n",
      "[2268]\ttrain-rmse:0.09249\ttrain-r2:0.97880\teval-rmse:0.09458\teval-r2:0.97792\n",
      "[2269]\ttrain-rmse:0.09249\ttrain-r2:0.97880\teval-rmse:0.09458\teval-r2:0.97792\n",
      "[2270]\ttrain-rmse:0.09249\ttrain-r2:0.97880\teval-rmse:0.09458\teval-r2:0.97792\n",
      "[2271]\ttrain-rmse:0.09249\ttrain-r2:0.97880\teval-rmse:0.09458\teval-r2:0.97792\n",
      "[2272]\ttrain-rmse:0.09249\ttrain-r2:0.97880\teval-rmse:0.09458\teval-r2:0.97792\n",
      "[2273]\ttrain-rmse:0.09249\ttrain-r2:0.97880\teval-rmse:0.09458\teval-r2:0.97792\n",
      "[2274]\ttrain-rmse:0.09249\ttrain-r2:0.97880\teval-rmse:0.09458\teval-r2:0.97792\n",
      "[2275]\ttrain-rmse:0.09249\ttrain-r2:0.97880\teval-rmse:0.09458\teval-r2:0.97792\n",
      "[2276]\ttrain-rmse:0.09249\ttrain-r2:0.97880\teval-rmse:0.09458\teval-r2:0.97792\n",
      "[2277]\ttrain-rmse:0.09249\ttrain-r2:0.97880\teval-rmse:0.09458\teval-r2:0.97792\n",
      "[2278]\ttrain-rmse:0.09249\ttrain-r2:0.97880\teval-rmse:0.09458\teval-r2:0.97792\n",
      "[2279]\ttrain-rmse:0.09249\ttrain-r2:0.97880\teval-rmse:0.09458\teval-r2:0.97792\n",
      "[2280]\ttrain-rmse:0.09249\ttrain-r2:0.97880\teval-rmse:0.09458\teval-r2:0.97792\n",
      "[2281]\ttrain-rmse:0.09249\ttrain-r2:0.97880\teval-rmse:0.09458\teval-r2:0.97792\n",
      "[2282]\ttrain-rmse:0.09249\ttrain-r2:0.97880\teval-rmse:0.09458\teval-r2:0.97792\n",
      "[2283]\ttrain-rmse:0.09249\ttrain-r2:0.97880\teval-rmse:0.09458\teval-r2:0.97792\n",
      "[2284]\ttrain-rmse:0.09248\ttrain-r2:0.97880\teval-rmse:0.09456\teval-r2:0.97792\n",
      "[2285]\ttrain-rmse:0.09248\ttrain-r2:0.97880\teval-rmse:0.09456\teval-r2:0.97792\n",
      "[2286]\ttrain-rmse:0.09248\ttrain-r2:0.97880\teval-rmse:0.09456\teval-r2:0.97792\n",
      "[2287]\ttrain-rmse:0.09248\ttrain-r2:0.97880\teval-rmse:0.09456\teval-r2:0.97792\n",
      "[2288]\ttrain-rmse:0.09248\ttrain-r2:0.97880\teval-rmse:0.09456\teval-r2:0.97792\n",
      "[2289]\ttrain-rmse:0.09248\ttrain-r2:0.97880\teval-rmse:0.09456\teval-r2:0.97792\n",
      "[2290]\ttrain-rmse:0.09248\ttrain-r2:0.97880\teval-rmse:0.09456\teval-r2:0.97792\n",
      "[2291]\ttrain-rmse:0.09248\ttrain-r2:0.97880\teval-rmse:0.09456\teval-r2:0.97792\n",
      "[2292]\ttrain-rmse:0.09248\ttrain-r2:0.97880\teval-rmse:0.09456\teval-r2:0.97792\n",
      "[2293]\ttrain-rmse:0.09248\ttrain-r2:0.97880\teval-rmse:0.09456\teval-r2:0.97792\n",
      "[2294]\ttrain-rmse:0.09248\ttrain-r2:0.97880\teval-rmse:0.09456\teval-r2:0.97792\n",
      "[2295]\ttrain-rmse:0.09248\ttrain-r2:0.97880\teval-rmse:0.09456\teval-r2:0.97792\n",
      "[2296]\ttrain-rmse:0.09248\ttrain-r2:0.97880\teval-rmse:0.09456\teval-r2:0.97792\n",
      "[2297]\ttrain-rmse:0.09248\ttrain-r2:0.97880\teval-rmse:0.09456\teval-r2:0.97792\n",
      "[2298]\ttrain-rmse:0.09248\ttrain-r2:0.97880\teval-rmse:0.09456\teval-r2:0.97792\n",
      "[2299]\ttrain-rmse:0.09248\ttrain-r2:0.97880\teval-rmse:0.09456\teval-r2:0.97792\n",
      "[2300]\ttrain-rmse:0.09248\ttrain-r2:0.97880\teval-rmse:0.09456\teval-r2:0.97792\n",
      "[2301]\ttrain-rmse:0.09248\ttrain-r2:0.97880\teval-rmse:0.09456\teval-r2:0.97792\n",
      "[2302]\ttrain-rmse:0.09248\ttrain-r2:0.97880\teval-rmse:0.09456\teval-r2:0.97792\n",
      "[2303]\ttrain-rmse:0.09248\ttrain-r2:0.97880\teval-rmse:0.09456\teval-r2:0.97792\n",
      "[2304]\ttrain-rmse:0.09248\ttrain-r2:0.97880\teval-rmse:0.09456\teval-r2:0.97792\n",
      "[2305]\ttrain-rmse:0.09248\ttrain-r2:0.97880\teval-rmse:0.09456\teval-r2:0.97792\n",
      "[2306]\ttrain-rmse:0.09248\ttrain-r2:0.97880\teval-rmse:0.09456\teval-r2:0.97792\n",
      "[2307]\ttrain-rmse:0.09248\ttrain-r2:0.97880\teval-rmse:0.09456\teval-r2:0.97792\n",
      "[2308]\ttrain-rmse:0.09248\ttrain-r2:0.97880\teval-rmse:0.09456\teval-r2:0.97792\n",
      "[2309]\ttrain-rmse:0.09248\ttrain-r2:0.97880\teval-rmse:0.09456\teval-r2:0.97792\n",
      "[2310]\ttrain-rmse:0.09248\ttrain-r2:0.97880\teval-rmse:0.09456\teval-r2:0.97792\n",
      "[2311]\ttrain-rmse:0.09247\ttrain-r2:0.97881\teval-rmse:0.09456\teval-r2:0.97793\n",
      "[2312]\ttrain-rmse:0.09247\ttrain-r2:0.97881\teval-rmse:0.09456\teval-r2:0.97793\n",
      "[2313]\ttrain-rmse:0.09247\ttrain-r2:0.97881\teval-rmse:0.09456\teval-r2:0.97793\n",
      "[2314]\ttrain-rmse:0.09247\ttrain-r2:0.97881\teval-rmse:0.09456\teval-r2:0.97793\n",
      "[2315]\ttrain-rmse:0.09247\ttrain-r2:0.97881\teval-rmse:0.09456\teval-r2:0.97793\n",
      "[2316]\ttrain-rmse:0.09247\ttrain-r2:0.97881\teval-rmse:0.09456\teval-r2:0.97793\n",
      "[2317]\ttrain-rmse:0.09247\ttrain-r2:0.97881\teval-rmse:0.09456\teval-r2:0.97793\n",
      "[2318]\ttrain-rmse:0.09247\ttrain-r2:0.97881\teval-rmse:0.09456\teval-r2:0.97793\n",
      "[2319]\ttrain-rmse:0.09247\ttrain-r2:0.97881\teval-rmse:0.09456\teval-r2:0.97793\n",
      "[2320]\ttrain-rmse:0.09247\ttrain-r2:0.97881\teval-rmse:0.09456\teval-r2:0.97793\n",
      "[2321]\ttrain-rmse:0.09246\ttrain-r2:0.97881\teval-rmse:0.09455\teval-r2:0.97793\n",
      "[2322]\ttrain-rmse:0.09244\ttrain-r2:0.97882\teval-rmse:0.09453\teval-r2:0.97794\n",
      "[2323]\ttrain-rmse:0.09244\ttrain-r2:0.97882\teval-rmse:0.09453\teval-r2:0.97794\n",
      "[2324]\ttrain-rmse:0.09244\ttrain-r2:0.97882\teval-rmse:0.09453\teval-r2:0.97794\n",
      "[2325]\ttrain-rmse:0.09244\ttrain-r2:0.97882\teval-rmse:0.09453\teval-r2:0.97794\n",
      "[2326]\ttrain-rmse:0.09244\ttrain-r2:0.97882\teval-rmse:0.09453\teval-r2:0.97794\n",
      "[2327]\ttrain-rmse:0.09244\ttrain-r2:0.97882\teval-rmse:0.09453\teval-r2:0.97794\n",
      "[2328]\ttrain-rmse:0.09244\ttrain-r2:0.97882\teval-rmse:0.09453\teval-r2:0.97794\n",
      "[2329]\ttrain-rmse:0.09244\ttrain-r2:0.97882\teval-rmse:0.09453\teval-r2:0.97794\n",
      "[2330]\ttrain-rmse:0.09244\ttrain-r2:0.97882\teval-rmse:0.09453\teval-r2:0.97794\n",
      "[2331]\ttrain-rmse:0.09243\ttrain-r2:0.97882\teval-rmse:0.09452\teval-r2:0.97794\n",
      "[2332]\ttrain-rmse:0.09243\ttrain-r2:0.97882\teval-rmse:0.09452\teval-r2:0.97794\n",
      "[2333]\ttrain-rmse:0.09243\ttrain-r2:0.97882\teval-rmse:0.09452\teval-r2:0.97794\n",
      "[2334]\ttrain-rmse:0.09243\ttrain-r2:0.97882\teval-rmse:0.09452\teval-r2:0.97794\n",
      "[2335]\ttrain-rmse:0.09243\ttrain-r2:0.97882\teval-rmse:0.09452\teval-r2:0.97794\n",
      "[2336]\ttrain-rmse:0.09243\ttrain-r2:0.97882\teval-rmse:0.09452\teval-r2:0.97794\n",
      "[2337]\ttrain-rmse:0.09243\ttrain-r2:0.97882\teval-rmse:0.09452\teval-r2:0.97794\n",
      "[2338]\ttrain-rmse:0.09243\ttrain-r2:0.97882\teval-rmse:0.09452\teval-r2:0.97794\n",
      "[2339]\ttrain-rmse:0.09243\ttrain-r2:0.97882\teval-rmse:0.09452\teval-r2:0.97794\n",
      "[2340]\ttrain-rmse:0.09243\ttrain-r2:0.97882\teval-rmse:0.09452\teval-r2:0.97794\n",
      "[2341]\ttrain-rmse:0.09243\ttrain-r2:0.97882\teval-rmse:0.09452\teval-r2:0.97794\n",
      "[2342]\ttrain-rmse:0.09243\ttrain-r2:0.97882\teval-rmse:0.09452\teval-r2:0.97794\n",
      "[2343]\ttrain-rmse:0.09243\ttrain-r2:0.97882\teval-rmse:0.09452\teval-r2:0.97794\n",
      "[2344]\ttrain-rmse:0.09243\ttrain-r2:0.97882\teval-rmse:0.09452\teval-r2:0.97794\n",
      "[2345]\ttrain-rmse:0.09243\ttrain-r2:0.97882\teval-rmse:0.09452\teval-r2:0.97794\n",
      "[2346]\ttrain-rmse:0.09243\ttrain-r2:0.97882\teval-rmse:0.09452\teval-r2:0.97794\n",
      "[2347]\ttrain-rmse:0.09243\ttrain-r2:0.97882\teval-rmse:0.09452\teval-r2:0.97794\n",
      "[2348]\ttrain-rmse:0.09243\ttrain-r2:0.97882\teval-rmse:0.09452\teval-r2:0.97794\n",
      "[2349]\ttrain-rmse:0.09243\ttrain-r2:0.97882\teval-rmse:0.09452\teval-r2:0.97794\n",
      "[2350]\ttrain-rmse:0.09243\ttrain-r2:0.97882\teval-rmse:0.09452\teval-r2:0.97794\n",
      "[2351]\ttrain-rmse:0.09243\ttrain-r2:0.97882\teval-rmse:0.09452\teval-r2:0.97794\n",
      "[2352]\ttrain-rmse:0.09243\ttrain-r2:0.97882\teval-rmse:0.09452\teval-r2:0.97794\n",
      "[2353]\ttrain-rmse:0.09243\ttrain-r2:0.97882\teval-rmse:0.09452\teval-r2:0.97794\n",
      "[2354]\ttrain-rmse:0.09243\ttrain-r2:0.97882\teval-rmse:0.09452\teval-r2:0.97794\n",
      "[2355]\ttrain-rmse:0.09243\ttrain-r2:0.97882\teval-rmse:0.09452\teval-r2:0.97794\n",
      "[2356]\ttrain-rmse:0.09243\ttrain-r2:0.97882\teval-rmse:0.09452\teval-r2:0.97794\n",
      "[2357]\ttrain-rmse:0.09243\ttrain-r2:0.97882\teval-rmse:0.09452\teval-r2:0.97794\n",
      "[2358]\ttrain-rmse:0.09243\ttrain-r2:0.97882\teval-rmse:0.09452\teval-r2:0.97794\n",
      "[2359]\ttrain-rmse:0.09243\ttrain-r2:0.97882\teval-rmse:0.09452\teval-r2:0.97794\n",
      "[2360]\ttrain-rmse:0.09243\ttrain-r2:0.97882\teval-rmse:0.09452\teval-r2:0.97794\n",
      "[2361]\ttrain-rmse:0.09243\ttrain-r2:0.97882\teval-rmse:0.09452\teval-r2:0.97794\n",
      "[2362]\ttrain-rmse:0.09242\ttrain-r2:0.97883\teval-rmse:0.09451\teval-r2:0.97795\n",
      "[2363]\ttrain-rmse:0.09242\ttrain-r2:0.97883\teval-rmse:0.09451\teval-r2:0.97795\n",
      "[2364]\ttrain-rmse:0.09242\ttrain-r2:0.97883\teval-rmse:0.09451\teval-r2:0.97795\n",
      "[2365]\ttrain-rmse:0.09242\ttrain-r2:0.97883\teval-rmse:0.09451\teval-r2:0.97795\n",
      "[2366]\ttrain-rmse:0.09242\ttrain-r2:0.97883\teval-rmse:0.09451\teval-r2:0.97795\n",
      "[2367]\ttrain-rmse:0.09242\ttrain-r2:0.97883\teval-rmse:0.09451\teval-r2:0.97795\n",
      "[2368]\ttrain-rmse:0.09242\ttrain-r2:0.97883\teval-rmse:0.09451\teval-r2:0.97795\n",
      "[2369]\ttrain-rmse:0.09240\ttrain-r2:0.97884\teval-rmse:0.09449\teval-r2:0.97796\n",
      "[2370]\ttrain-rmse:0.09240\ttrain-r2:0.97884\teval-rmse:0.09449\teval-r2:0.97796\n",
      "[2371]\ttrain-rmse:0.09240\ttrain-r2:0.97884\teval-rmse:0.09449\teval-r2:0.97796\n",
      "[2372]\ttrain-rmse:0.09240\ttrain-r2:0.97884\teval-rmse:0.09449\teval-r2:0.97796\n",
      "[2373]\ttrain-rmse:0.09240\ttrain-r2:0.97884\teval-rmse:0.09449\teval-r2:0.97796\n",
      "[2374]\ttrain-rmse:0.09240\ttrain-r2:0.97884\teval-rmse:0.09449\teval-r2:0.97796\n",
      "[2375]\ttrain-rmse:0.09240\ttrain-r2:0.97884\teval-rmse:0.09449\teval-r2:0.97796\n",
      "[2376]\ttrain-rmse:0.09240\ttrain-r2:0.97884\teval-rmse:0.09449\teval-r2:0.97796\n",
      "[2377]\ttrain-rmse:0.09240\ttrain-r2:0.97884\teval-rmse:0.09449\teval-r2:0.97796\n",
      "[2378]\ttrain-rmse:0.09236\ttrain-r2:0.97886\teval-rmse:0.09446\teval-r2:0.97797\n",
      "[2379]\ttrain-rmse:0.09236\ttrain-r2:0.97886\teval-rmse:0.09446\teval-r2:0.97797\n",
      "[2380]\ttrain-rmse:0.09236\ttrain-r2:0.97886\teval-rmse:0.09446\teval-r2:0.97797\n",
      "[2381]\ttrain-rmse:0.09236\ttrain-r2:0.97886\teval-rmse:0.09446\teval-r2:0.97797\n",
      "[2382]\ttrain-rmse:0.09236\ttrain-r2:0.97886\teval-rmse:0.09446\teval-r2:0.97797\n",
      "[2383]\ttrain-rmse:0.09236\ttrain-r2:0.97886\teval-rmse:0.09446\teval-r2:0.97797\n",
      "[2384]\ttrain-rmse:0.09236\ttrain-r2:0.97886\teval-rmse:0.09446\teval-r2:0.97797\n",
      "[2385]\ttrain-rmse:0.09236\ttrain-r2:0.97886\teval-rmse:0.09446\teval-r2:0.97797\n",
      "[2386]\ttrain-rmse:0.09236\ttrain-r2:0.97886\teval-rmse:0.09446\teval-r2:0.97797\n",
      "[2387]\ttrain-rmse:0.09236\ttrain-r2:0.97886\teval-rmse:0.09446\teval-r2:0.97797\n",
      "[2388]\ttrain-rmse:0.09236\ttrain-r2:0.97886\teval-rmse:0.09446\teval-r2:0.97797\n",
      "[2389]\ttrain-rmse:0.09236\ttrain-r2:0.97886\teval-rmse:0.09446\teval-r2:0.97797\n",
      "[2390]\ttrain-rmse:0.09236\ttrain-r2:0.97886\teval-rmse:0.09446\teval-r2:0.97797\n",
      "[2391]\ttrain-rmse:0.09236\ttrain-r2:0.97886\teval-rmse:0.09446\teval-r2:0.97797\n",
      "[2392]\ttrain-rmse:0.09236\ttrain-r2:0.97886\teval-rmse:0.09446\teval-r2:0.97797\n",
      "[2393]\ttrain-rmse:0.09236\ttrain-r2:0.97886\teval-rmse:0.09446\teval-r2:0.97797\n",
      "[2394]\ttrain-rmse:0.09234\ttrain-r2:0.97887\teval-rmse:0.09443\teval-r2:0.97798\n",
      "[2395]\ttrain-rmse:0.09234\ttrain-r2:0.97887\teval-rmse:0.09443\teval-r2:0.97798\n",
      "[2396]\ttrain-rmse:0.09234\ttrain-r2:0.97887\teval-rmse:0.09443\teval-r2:0.97798\n",
      "[2397]\ttrain-rmse:0.09234\ttrain-r2:0.97887\teval-rmse:0.09443\teval-r2:0.97798\n",
      "[2398]\ttrain-rmse:0.09234\ttrain-r2:0.97887\teval-rmse:0.09443\teval-r2:0.97798\n",
      "[2399]\ttrain-rmse:0.09234\ttrain-r2:0.97887\teval-rmse:0.09443\teval-r2:0.97798\n",
      "[2400]\ttrain-rmse:0.09234\ttrain-r2:0.97887\teval-rmse:0.09443\teval-r2:0.97798\n",
      "[2401]\ttrain-rmse:0.09234\ttrain-r2:0.97887\teval-rmse:0.09443\teval-r2:0.97798\n",
      "[2402]\ttrain-rmse:0.09232\ttrain-r2:0.97887\teval-rmse:0.09442\teval-r2:0.97799\n",
      "[2403]\ttrain-rmse:0.09232\ttrain-r2:0.97887\teval-rmse:0.09442\teval-r2:0.97799\n",
      "[2404]\ttrain-rmse:0.09232\ttrain-r2:0.97887\teval-rmse:0.09442\teval-r2:0.97799\n",
      "[2405]\ttrain-rmse:0.09232\ttrain-r2:0.97887\teval-rmse:0.09442\teval-r2:0.97799\n",
      "[2406]\ttrain-rmse:0.09232\ttrain-r2:0.97887\teval-rmse:0.09442\teval-r2:0.97799\n",
      "[2407]\ttrain-rmse:0.09232\ttrain-r2:0.97887\teval-rmse:0.09442\teval-r2:0.97799\n",
      "[2408]\ttrain-rmse:0.09232\ttrain-r2:0.97887\teval-rmse:0.09442\teval-r2:0.97799\n",
      "[2409]\ttrain-rmse:0.09232\ttrain-r2:0.97887\teval-rmse:0.09442\teval-r2:0.97799\n",
      "[2410]\ttrain-rmse:0.09232\ttrain-r2:0.97887\teval-rmse:0.09442\teval-r2:0.97799\n",
      "[2411]\ttrain-rmse:0.09232\ttrain-r2:0.97887\teval-rmse:0.09442\teval-r2:0.97799\n",
      "[2412]\ttrain-rmse:0.09232\ttrain-r2:0.97887\teval-rmse:0.09442\teval-r2:0.97799\n",
      "[2413]\ttrain-rmse:0.09232\ttrain-r2:0.97887\teval-rmse:0.09442\teval-r2:0.97799\n",
      "[2414]\ttrain-rmse:0.09232\ttrain-r2:0.97887\teval-rmse:0.09442\teval-r2:0.97799\n",
      "[2415]\ttrain-rmse:0.09232\ttrain-r2:0.97887\teval-rmse:0.09442\teval-r2:0.97799\n",
      "[2416]\ttrain-rmse:0.09232\ttrain-r2:0.97887\teval-rmse:0.09442\teval-r2:0.97799\n",
      "[2417]\ttrain-rmse:0.09232\ttrain-r2:0.97887\teval-rmse:0.09442\teval-r2:0.97799\n",
      "[2418]\ttrain-rmse:0.09232\ttrain-r2:0.97887\teval-rmse:0.09442\teval-r2:0.97799\n",
      "[2419]\ttrain-rmse:0.09231\ttrain-r2:0.97888\teval-rmse:0.09441\teval-r2:0.97799\n",
      "[2420]\ttrain-rmse:0.09231\ttrain-r2:0.97888\teval-rmse:0.09441\teval-r2:0.97799\n",
      "[2421]\ttrain-rmse:0.09231\ttrain-r2:0.97888\teval-rmse:0.09441\teval-r2:0.97799\n",
      "[2422]\ttrain-rmse:0.09230\ttrain-r2:0.97888\teval-rmse:0.09441\teval-r2:0.97799\n",
      "[2423]\ttrain-rmse:0.09230\ttrain-r2:0.97888\teval-rmse:0.09441\teval-r2:0.97799\n",
      "[2424]\ttrain-rmse:0.09230\ttrain-r2:0.97888\teval-rmse:0.09441\teval-r2:0.97799\n",
      "[2425]\ttrain-rmse:0.09230\ttrain-r2:0.97888\teval-rmse:0.09441\teval-r2:0.97799\n",
      "[2426]\ttrain-rmse:0.09230\ttrain-r2:0.97888\teval-rmse:0.09441\teval-r2:0.97799\n",
      "[2427]\ttrain-rmse:0.09230\ttrain-r2:0.97888\teval-rmse:0.09441\teval-r2:0.97799\n",
      "[2428]\ttrain-rmse:0.09230\ttrain-r2:0.97888\teval-rmse:0.09441\teval-r2:0.97799\n",
      "[2429]\ttrain-rmse:0.09230\ttrain-r2:0.97888\teval-rmse:0.09441\teval-r2:0.97799\n",
      "[2430]\ttrain-rmse:0.09230\ttrain-r2:0.97888\teval-rmse:0.09441\teval-r2:0.97799\n",
      "[2431]\ttrain-rmse:0.09230\ttrain-r2:0.97888\teval-rmse:0.09441\teval-r2:0.97799\n",
      "[2432]\ttrain-rmse:0.09230\ttrain-r2:0.97888\teval-rmse:0.09441\teval-r2:0.97799\n",
      "[2433]\ttrain-rmse:0.09230\ttrain-r2:0.97888\teval-rmse:0.09441\teval-r2:0.97799\n",
      "[2434]\ttrain-rmse:0.09230\ttrain-r2:0.97888\teval-rmse:0.09441\teval-r2:0.97799\n",
      "[2435]\ttrain-rmse:0.09230\ttrain-r2:0.97888\teval-rmse:0.09441\teval-r2:0.97799\n",
      "[2436]\ttrain-rmse:0.09228\ttrain-r2:0.97889\teval-rmse:0.09438\teval-r2:0.97801\n",
      "[2437]\ttrain-rmse:0.09228\ttrain-r2:0.97889\teval-rmse:0.09438\teval-r2:0.97801\n",
      "[2438]\ttrain-rmse:0.09228\ttrain-r2:0.97889\teval-rmse:0.09438\teval-r2:0.97801\n",
      "[2439]\ttrain-rmse:0.09226\ttrain-r2:0.97890\teval-rmse:0.09437\teval-r2:0.97801\n",
      "[2440]\ttrain-rmse:0.09226\ttrain-r2:0.97890\teval-rmse:0.09437\teval-r2:0.97801\n",
      "[2441]\ttrain-rmse:0.09226\ttrain-r2:0.97890\teval-rmse:0.09437\teval-r2:0.97801\n",
      "[2442]\ttrain-rmse:0.09226\ttrain-r2:0.97890\teval-rmse:0.09437\teval-r2:0.97801\n",
      "[2443]\ttrain-rmse:0.09226\ttrain-r2:0.97890\teval-rmse:0.09437\teval-r2:0.97801\n",
      "[2444]\ttrain-rmse:0.09226\ttrain-r2:0.97890\teval-rmse:0.09437\teval-r2:0.97801\n",
      "[2445]\ttrain-rmse:0.09226\ttrain-r2:0.97890\teval-rmse:0.09437\teval-r2:0.97801\n",
      "[2446]\ttrain-rmse:0.09226\ttrain-r2:0.97890\teval-rmse:0.09437\teval-r2:0.97801\n",
      "[2447]\ttrain-rmse:0.09226\ttrain-r2:0.97890\teval-rmse:0.09437\teval-r2:0.97801\n",
      "[2448]\ttrain-rmse:0.09226\ttrain-r2:0.97890\teval-rmse:0.09437\teval-r2:0.97801\n",
      "[2449]\ttrain-rmse:0.09226\ttrain-r2:0.97890\teval-rmse:0.09437\teval-r2:0.97801\n",
      "[2450]\ttrain-rmse:0.09226\ttrain-r2:0.97890\teval-rmse:0.09437\teval-r2:0.97801\n",
      "[2451]\ttrain-rmse:0.09226\ttrain-r2:0.97890\teval-rmse:0.09437\teval-r2:0.97801\n",
      "[2452]\ttrain-rmse:0.09226\ttrain-r2:0.97890\teval-rmse:0.09437\teval-r2:0.97801\n",
      "[2453]\ttrain-rmse:0.09226\ttrain-r2:0.97890\teval-rmse:0.09437\teval-r2:0.97801\n",
      "[2454]\ttrain-rmse:0.09226\ttrain-r2:0.97890\teval-rmse:0.09437\teval-r2:0.97801\n",
      "[2455]\ttrain-rmse:0.09226\ttrain-r2:0.97890\teval-rmse:0.09437\teval-r2:0.97801\n",
      "[2456]\ttrain-rmse:0.09225\ttrain-r2:0.97891\teval-rmse:0.09437\teval-r2:0.97801\n",
      "[2457]\ttrain-rmse:0.09225\ttrain-r2:0.97891\teval-rmse:0.09437\teval-r2:0.97801\n",
      "[2458]\ttrain-rmse:0.09225\ttrain-r2:0.97891\teval-rmse:0.09437\teval-r2:0.97801\n",
      "[2459]\ttrain-rmse:0.09225\ttrain-r2:0.97891\teval-rmse:0.09437\teval-r2:0.97801\n",
      "[2460]\ttrain-rmse:0.09225\ttrain-r2:0.97891\teval-rmse:0.09436\teval-r2:0.97802\n",
      "[2461]\ttrain-rmse:0.09225\ttrain-r2:0.97891\teval-rmse:0.09436\teval-r2:0.97802\n",
      "[2462]\ttrain-rmse:0.09225\ttrain-r2:0.97891\teval-rmse:0.09436\teval-r2:0.97802\n",
      "[2463]\ttrain-rmse:0.09225\ttrain-r2:0.97891\teval-rmse:0.09436\teval-r2:0.97802\n",
      "[2464]\ttrain-rmse:0.09225\ttrain-r2:0.97891\teval-rmse:0.09436\teval-r2:0.97802\n",
      "[2465]\ttrain-rmse:0.09225\ttrain-r2:0.97891\teval-rmse:0.09436\teval-r2:0.97802\n",
      "[2466]\ttrain-rmse:0.09225\ttrain-r2:0.97891\teval-rmse:0.09436\teval-r2:0.97802\n",
      "[2467]\ttrain-rmse:0.09225\ttrain-r2:0.97891\teval-rmse:0.09436\teval-r2:0.97802\n",
      "[2468]\ttrain-rmse:0.09225\ttrain-r2:0.97891\teval-rmse:0.09436\teval-r2:0.97802\n",
      "[2469]\ttrain-rmse:0.09225\ttrain-r2:0.97891\teval-rmse:0.09436\teval-r2:0.97802\n",
      "[2470]\ttrain-rmse:0.09225\ttrain-r2:0.97891\teval-rmse:0.09436\teval-r2:0.97802\n",
      "[2471]\ttrain-rmse:0.09225\ttrain-r2:0.97891\teval-rmse:0.09436\teval-r2:0.97802\n",
      "[2472]\ttrain-rmse:0.09225\ttrain-r2:0.97891\teval-rmse:0.09436\teval-r2:0.97802\n",
      "[2473]\ttrain-rmse:0.09225\ttrain-r2:0.97891\teval-rmse:0.09436\teval-r2:0.97802\n",
      "[2474]\ttrain-rmse:0.09225\ttrain-r2:0.97891\teval-rmse:0.09436\teval-r2:0.97802\n",
      "[2475]\ttrain-rmse:0.09225\ttrain-r2:0.97891\teval-rmse:0.09436\teval-r2:0.97802\n",
      "[2476]\ttrain-rmse:0.09225\ttrain-r2:0.97891\teval-rmse:0.09436\teval-r2:0.97802\n",
      "[2477]\ttrain-rmse:0.09225\ttrain-r2:0.97891\teval-rmse:0.09436\teval-r2:0.97802\n",
      "[2478]\ttrain-rmse:0.09225\ttrain-r2:0.97891\teval-rmse:0.09436\teval-r2:0.97802\n",
      "[2479]\ttrain-rmse:0.09225\ttrain-r2:0.97891\teval-rmse:0.09436\teval-r2:0.97802\n",
      "[2480]\ttrain-rmse:0.09225\ttrain-r2:0.97891\teval-rmse:0.09436\teval-r2:0.97802\n",
      "[2481]\ttrain-rmse:0.09225\ttrain-r2:0.97891\teval-rmse:0.09436\teval-r2:0.97802\n",
      "[2482]\ttrain-rmse:0.09225\ttrain-r2:0.97891\teval-rmse:0.09436\teval-r2:0.97802\n",
      "[2483]\ttrain-rmse:0.09225\ttrain-r2:0.97891\teval-rmse:0.09436\teval-r2:0.97802\n",
      "[2484]\ttrain-rmse:0.09225\ttrain-r2:0.97891\teval-rmse:0.09436\teval-r2:0.97802\n",
      "[2485]\ttrain-rmse:0.09225\ttrain-r2:0.97891\teval-rmse:0.09436\teval-r2:0.97802\n",
      "[2486]\ttrain-rmse:0.09225\ttrain-r2:0.97891\teval-rmse:0.09436\teval-r2:0.97802\n",
      "[2487]\ttrain-rmse:0.09225\ttrain-r2:0.97891\teval-rmse:0.09436\teval-r2:0.97802\n",
      "[2488]\ttrain-rmse:0.09225\ttrain-r2:0.97891\teval-rmse:0.09436\teval-r2:0.97802\n",
      "[2489]\ttrain-rmse:0.09225\ttrain-r2:0.97891\teval-rmse:0.09436\teval-r2:0.97802\n",
      "[2490]\ttrain-rmse:0.09225\ttrain-r2:0.97891\teval-rmse:0.09436\teval-r2:0.97802\n",
      "[2491]\ttrain-rmse:0.09225\ttrain-r2:0.97891\teval-rmse:0.09436\teval-r2:0.97802\n",
      "[2492]\ttrain-rmse:0.09225\ttrain-r2:0.97891\teval-rmse:0.09436\teval-r2:0.97802\n",
      "[2493]\ttrain-rmse:0.09225\ttrain-r2:0.97891\teval-rmse:0.09436\teval-r2:0.97802\n",
      "[2494]\ttrain-rmse:0.09225\ttrain-r2:0.97891\teval-rmse:0.09436\teval-r2:0.97802\n",
      "[2495]\ttrain-rmse:0.09225\ttrain-r2:0.97891\teval-rmse:0.09436\teval-r2:0.97802\n",
      "[2496]\ttrain-rmse:0.09225\ttrain-r2:0.97891\teval-rmse:0.09436\teval-r2:0.97802\n",
      "[2497]\ttrain-rmse:0.09225\ttrain-r2:0.97891\teval-rmse:0.09436\teval-r2:0.97802\n",
      "[2498]\ttrain-rmse:0.09225\ttrain-r2:0.97891\teval-rmse:0.09436\teval-r2:0.97802\n",
      "[2499]\ttrain-rmse:0.09225\ttrain-r2:0.97891\teval-rmse:0.09436\teval-r2:0.97802\n",
      "[2500]\ttrain-rmse:0.09225\ttrain-r2:0.97891\teval-rmse:0.09436\teval-r2:0.97802\n",
      "[2501]\ttrain-rmse:0.09225\ttrain-r2:0.97891\teval-rmse:0.09436\teval-r2:0.97802\n",
      "[2502]\ttrain-rmse:0.09225\ttrain-r2:0.97891\teval-rmse:0.09436\teval-r2:0.97802\n",
      "[2503]\ttrain-rmse:0.09225\ttrain-r2:0.97891\teval-rmse:0.09436\teval-r2:0.97802\n",
      "[2504]\ttrain-rmse:0.09224\ttrain-r2:0.97891\teval-rmse:0.09436\teval-r2:0.97802\n",
      "[2505]\ttrain-rmse:0.09224\ttrain-r2:0.97891\teval-rmse:0.09436\teval-r2:0.97802\n",
      "[2506]\ttrain-rmse:0.09224\ttrain-r2:0.97891\teval-rmse:0.09436\teval-r2:0.97802\n",
      "[2507]\ttrain-rmse:0.09224\ttrain-r2:0.97891\teval-rmse:0.09436\teval-r2:0.97802\n",
      "[2508]\ttrain-rmse:0.09224\ttrain-r2:0.97891\teval-rmse:0.09436\teval-r2:0.97802\n",
      "[2509]\ttrain-rmse:0.09224\ttrain-r2:0.97891\teval-rmse:0.09436\teval-r2:0.97802\n",
      "[2510]\ttrain-rmse:0.09224\ttrain-r2:0.97891\teval-rmse:0.09436\teval-r2:0.97802\n",
      "[2511]\ttrain-rmse:0.09224\ttrain-r2:0.97891\teval-rmse:0.09436\teval-r2:0.97802\n",
      "[2512]\ttrain-rmse:0.09224\ttrain-r2:0.97891\teval-rmse:0.09436\teval-r2:0.97802\n",
      "[2513]\ttrain-rmse:0.09223\ttrain-r2:0.97891\teval-rmse:0.09435\teval-r2:0.97802\n",
      "[2514]\ttrain-rmse:0.09223\ttrain-r2:0.97891\teval-rmse:0.09435\teval-r2:0.97802\n",
      "[2515]\ttrain-rmse:0.09223\ttrain-r2:0.97891\teval-rmse:0.09435\teval-r2:0.97802\n",
      "[2516]\ttrain-rmse:0.09223\ttrain-r2:0.97891\teval-rmse:0.09435\teval-r2:0.97802\n",
      "[2517]\ttrain-rmse:0.09223\ttrain-r2:0.97891\teval-rmse:0.09435\teval-r2:0.97802\n",
      "[2518]\ttrain-rmse:0.09223\ttrain-r2:0.97891\teval-rmse:0.09435\teval-r2:0.97802\n",
      "[2519]\ttrain-rmse:0.09223\ttrain-r2:0.97891\teval-rmse:0.09435\teval-r2:0.97802\n",
      "[2520]\ttrain-rmse:0.09223\ttrain-r2:0.97891\teval-rmse:0.09435\teval-r2:0.97802\n",
      "[2521]\ttrain-rmse:0.09223\ttrain-r2:0.97891\teval-rmse:0.09435\teval-r2:0.97802\n",
      "[2522]\ttrain-rmse:0.09223\ttrain-r2:0.97891\teval-rmse:0.09435\teval-r2:0.97802\n",
      "[2523]\ttrain-rmse:0.09223\ttrain-r2:0.97891\teval-rmse:0.09435\teval-r2:0.97802\n",
      "[2524]\ttrain-rmse:0.09223\ttrain-r2:0.97891\teval-rmse:0.09435\teval-r2:0.97802\n",
      "[2525]\ttrain-rmse:0.09223\ttrain-r2:0.97891\teval-rmse:0.09435\teval-r2:0.97802\n",
      "[2526]\ttrain-rmse:0.09223\ttrain-r2:0.97891\teval-rmse:0.09435\teval-r2:0.97802\n",
      "[2527]\ttrain-rmse:0.09223\ttrain-r2:0.97891\teval-rmse:0.09435\teval-r2:0.97802\n",
      "[2528]\ttrain-rmse:0.09223\ttrain-r2:0.97891\teval-rmse:0.09435\teval-r2:0.97802\n",
      "[2529]\ttrain-rmse:0.09223\ttrain-r2:0.97891\teval-rmse:0.09435\teval-r2:0.97802\n",
      "[2530]\ttrain-rmse:0.09223\ttrain-r2:0.97891\teval-rmse:0.09435\teval-r2:0.97802\n",
      "[2531]\ttrain-rmse:0.09222\ttrain-r2:0.97892\teval-rmse:0.09433\teval-r2:0.97803\n",
      "[2532]\ttrain-rmse:0.09222\ttrain-r2:0.97892\teval-rmse:0.09433\teval-r2:0.97803\n",
      "[2533]\ttrain-rmse:0.09222\ttrain-r2:0.97892\teval-rmse:0.09433\teval-r2:0.97803\n",
      "[2534]\ttrain-rmse:0.09222\ttrain-r2:0.97892\teval-rmse:0.09433\teval-r2:0.97803\n",
      "[2535]\ttrain-rmse:0.09222\ttrain-r2:0.97892\teval-rmse:0.09433\teval-r2:0.97803\n",
      "[2536]\ttrain-rmse:0.09222\ttrain-r2:0.97892\teval-rmse:0.09433\teval-r2:0.97803\n",
      "[2537]\ttrain-rmse:0.09222\ttrain-r2:0.97892\teval-rmse:0.09433\teval-r2:0.97803\n",
      "[2538]\ttrain-rmse:0.09222\ttrain-r2:0.97892\teval-rmse:0.09433\teval-r2:0.97803\n",
      "[2539]\ttrain-rmse:0.09222\ttrain-r2:0.97892\teval-rmse:0.09433\teval-r2:0.97803\n",
      "[2540]\ttrain-rmse:0.09222\ttrain-r2:0.97892\teval-rmse:0.09433\teval-r2:0.97803\n",
      "[2541]\ttrain-rmse:0.09222\ttrain-r2:0.97892\teval-rmse:0.09433\teval-r2:0.97803\n",
      "[2542]\ttrain-rmse:0.09222\ttrain-r2:0.97892\teval-rmse:0.09433\teval-r2:0.97803\n",
      "[2543]\ttrain-rmse:0.09222\ttrain-r2:0.97892\teval-rmse:0.09433\teval-r2:0.97803\n",
      "[2544]\ttrain-rmse:0.09222\ttrain-r2:0.97892\teval-rmse:0.09433\teval-r2:0.97803\n",
      "[2545]\ttrain-rmse:0.09222\ttrain-r2:0.97892\teval-rmse:0.09433\teval-r2:0.97803\n",
      "[2546]\ttrain-rmse:0.09222\ttrain-r2:0.97892\teval-rmse:0.09433\teval-r2:0.97803\n",
      "[2547]\ttrain-rmse:0.09222\ttrain-r2:0.97892\teval-rmse:0.09433\teval-r2:0.97803\n",
      "[2548]\ttrain-rmse:0.09222\ttrain-r2:0.97892\teval-rmse:0.09433\teval-r2:0.97803\n",
      "[2549]\ttrain-rmse:0.09222\ttrain-r2:0.97892\teval-rmse:0.09433\teval-r2:0.97803\n",
      "[2550]\ttrain-rmse:0.09222\ttrain-r2:0.97892\teval-rmse:0.09433\teval-r2:0.97803\n",
      "[2551]\ttrain-rmse:0.09222\ttrain-r2:0.97892\teval-rmse:0.09433\teval-r2:0.97803\n",
      "[2552]\ttrain-rmse:0.09222\ttrain-r2:0.97892\teval-rmse:0.09433\teval-r2:0.97803\n",
      "[2553]\ttrain-rmse:0.09222\ttrain-r2:0.97892\teval-rmse:0.09433\teval-r2:0.97803\n",
      "[2554]\ttrain-rmse:0.09222\ttrain-r2:0.97892\teval-rmse:0.09433\teval-r2:0.97803\n",
      "[2555]\ttrain-rmse:0.09222\ttrain-r2:0.97892\teval-rmse:0.09433\teval-r2:0.97803\n",
      "[2556]\ttrain-rmse:0.09222\ttrain-r2:0.97892\teval-rmse:0.09433\teval-r2:0.97803\n",
      "[2557]\ttrain-rmse:0.09222\ttrain-r2:0.97892\teval-rmse:0.09433\teval-r2:0.97803\n",
      "[2558]\ttrain-rmse:0.09222\ttrain-r2:0.97892\teval-rmse:0.09433\teval-r2:0.97803\n",
      "[2559]\ttrain-rmse:0.09222\ttrain-r2:0.97892\teval-rmse:0.09433\teval-r2:0.97803\n",
      "[2560]\ttrain-rmse:0.09222\ttrain-r2:0.97892\teval-rmse:0.09433\teval-r2:0.97803\n",
      "[2561]\ttrain-rmse:0.09220\ttrain-r2:0.97893\teval-rmse:0.09431\teval-r2:0.97804\n",
      "[2562]\ttrain-rmse:0.09220\ttrain-r2:0.97893\teval-rmse:0.09431\teval-r2:0.97804\n",
      "[2563]\ttrain-rmse:0.09220\ttrain-r2:0.97893\teval-rmse:0.09431\teval-r2:0.97804\n",
      "[2564]\ttrain-rmse:0.09220\ttrain-r2:0.97893\teval-rmse:0.09431\teval-r2:0.97804\n",
      "[2565]\ttrain-rmse:0.09220\ttrain-r2:0.97893\teval-rmse:0.09431\teval-r2:0.97804\n",
      "[2566]\ttrain-rmse:0.09220\ttrain-r2:0.97893\teval-rmse:0.09431\teval-r2:0.97804\n",
      "[2567]\ttrain-rmse:0.09220\ttrain-r2:0.97893\teval-rmse:0.09431\teval-r2:0.97804\n",
      "[2568]\ttrain-rmse:0.09220\ttrain-r2:0.97893\teval-rmse:0.09431\teval-r2:0.97804\n",
      "[2569]\ttrain-rmse:0.09220\ttrain-r2:0.97893\teval-rmse:0.09431\teval-r2:0.97804\n",
      "[2570]\ttrain-rmse:0.09220\ttrain-r2:0.97893\teval-rmse:0.09431\teval-r2:0.97804\n",
      "[2571]\ttrain-rmse:0.09220\ttrain-r2:0.97893\teval-rmse:0.09431\teval-r2:0.97804\n",
      "[2572]\ttrain-rmse:0.09220\ttrain-r2:0.97893\teval-rmse:0.09431\teval-r2:0.97804\n",
      "[2573]\ttrain-rmse:0.09220\ttrain-r2:0.97893\teval-rmse:0.09431\teval-r2:0.97804\n",
      "[2574]\ttrain-rmse:0.09220\ttrain-r2:0.97893\teval-rmse:0.09431\teval-r2:0.97804\n",
      "[2575]\ttrain-rmse:0.09220\ttrain-r2:0.97893\teval-rmse:0.09431\teval-r2:0.97804\n",
      "[2576]\ttrain-rmse:0.09220\ttrain-r2:0.97893\teval-rmse:0.09431\teval-r2:0.97804\n",
      "[2577]\ttrain-rmse:0.09220\ttrain-r2:0.97893\teval-rmse:0.09431\teval-r2:0.97804\n",
      "[2578]\ttrain-rmse:0.09220\ttrain-r2:0.97893\teval-rmse:0.09431\teval-r2:0.97804\n",
      "[2579]\ttrain-rmse:0.09220\ttrain-r2:0.97893\teval-rmse:0.09431\teval-r2:0.97804\n",
      "[2580]\ttrain-rmse:0.09219\ttrain-r2:0.97893\teval-rmse:0.09431\teval-r2:0.97804\n",
      "[2581]\ttrain-rmse:0.09219\ttrain-r2:0.97893\teval-rmse:0.09431\teval-r2:0.97804\n",
      "[2582]\ttrain-rmse:0.09219\ttrain-r2:0.97893\teval-rmse:0.09431\teval-r2:0.97804\n",
      "[2583]\ttrain-rmse:0.09219\ttrain-r2:0.97893\teval-rmse:0.09431\teval-r2:0.97804\n",
      "[2584]\ttrain-rmse:0.09219\ttrain-r2:0.97893\teval-rmse:0.09431\teval-r2:0.97804\n",
      "[2585]\ttrain-rmse:0.09219\ttrain-r2:0.97893\teval-rmse:0.09431\teval-r2:0.97804\n",
      "[2586]\ttrain-rmse:0.09219\ttrain-r2:0.97893\teval-rmse:0.09431\teval-r2:0.97804\n",
      "[2587]\ttrain-rmse:0.09219\ttrain-r2:0.97893\teval-rmse:0.09431\teval-r2:0.97804\n",
      "[2588]\ttrain-rmse:0.09219\ttrain-r2:0.97893\teval-rmse:0.09431\teval-r2:0.97804\n",
      "[2589]\ttrain-rmse:0.09219\ttrain-r2:0.97893\teval-rmse:0.09431\teval-r2:0.97804\n",
      "[2590]\ttrain-rmse:0.09219\ttrain-r2:0.97893\teval-rmse:0.09431\teval-r2:0.97804\n",
      "[2591]\ttrain-rmse:0.09219\ttrain-r2:0.97893\teval-rmse:0.09431\teval-r2:0.97804\n",
      "[2592]\ttrain-rmse:0.09219\ttrain-r2:0.97893\teval-rmse:0.09431\teval-r2:0.97804\n",
      "[2593]\ttrain-rmse:0.09219\ttrain-r2:0.97893\teval-rmse:0.09431\teval-r2:0.97804\n",
      "[2594]\ttrain-rmse:0.09219\ttrain-r2:0.97893\teval-rmse:0.09431\teval-r2:0.97804\n",
      "[2595]\ttrain-rmse:0.09219\ttrain-r2:0.97893\teval-rmse:0.09431\teval-r2:0.97804\n",
      "[2596]\ttrain-rmse:0.09219\ttrain-r2:0.97893\teval-rmse:0.09431\teval-r2:0.97804\n",
      "[2597]\ttrain-rmse:0.09219\ttrain-r2:0.97893\teval-rmse:0.09431\teval-r2:0.97804\n",
      "[2598]\ttrain-rmse:0.09219\ttrain-r2:0.97893\teval-rmse:0.09431\teval-r2:0.97804\n",
      "[2599]\ttrain-rmse:0.09219\ttrain-r2:0.97893\teval-rmse:0.09431\teval-r2:0.97804\n",
      "[2600]\ttrain-rmse:0.09219\ttrain-r2:0.97893\teval-rmse:0.09431\teval-r2:0.97804\n",
      "[2601]\ttrain-rmse:0.09219\ttrain-r2:0.97893\teval-rmse:0.09431\teval-r2:0.97804\n",
      "[2602]\ttrain-rmse:0.09219\ttrain-r2:0.97893\teval-rmse:0.09431\teval-r2:0.97804\n",
      "[2603]\ttrain-rmse:0.09219\ttrain-r2:0.97893\teval-rmse:0.09431\teval-r2:0.97804\n",
      "[2604]\ttrain-rmse:0.09219\ttrain-r2:0.97893\teval-rmse:0.09431\teval-r2:0.97804\n",
      "[2605]\ttrain-rmse:0.09219\ttrain-r2:0.97893\teval-rmse:0.09431\teval-r2:0.97804\n",
      "[2606]\ttrain-rmse:0.09219\ttrain-r2:0.97893\teval-rmse:0.09431\teval-r2:0.97804\n",
      "[2607]\ttrain-rmse:0.09219\ttrain-r2:0.97893\teval-rmse:0.09431\teval-r2:0.97804\n",
      "[2608]\ttrain-rmse:0.09219\ttrain-r2:0.97893\teval-rmse:0.09431\teval-r2:0.97804\n",
      "[2609]\ttrain-rmse:0.09219\ttrain-r2:0.97893\teval-rmse:0.09431\teval-r2:0.97804\n",
      "[2610]\ttrain-rmse:0.09219\ttrain-r2:0.97893\teval-rmse:0.09431\teval-r2:0.97804\n",
      "[2611]\ttrain-rmse:0.09219\ttrain-r2:0.97893\teval-rmse:0.09431\teval-r2:0.97804\n",
      "[2612]\ttrain-rmse:0.09219\ttrain-r2:0.97893\teval-rmse:0.09431\teval-r2:0.97804\n",
      "[2613]\ttrain-rmse:0.09219\ttrain-r2:0.97893\teval-rmse:0.09431\teval-r2:0.97804\n",
      "[2614]\ttrain-rmse:0.09219\ttrain-r2:0.97893\teval-rmse:0.09431\teval-r2:0.97804\n",
      "[2615]\ttrain-rmse:0.09219\ttrain-r2:0.97893\teval-rmse:0.09431\teval-r2:0.97804\n",
      "[2616]\ttrain-rmse:0.09219\ttrain-r2:0.97893\teval-rmse:0.09431\teval-r2:0.97804\n",
      "[2617]\ttrain-rmse:0.09219\ttrain-r2:0.97893\teval-rmse:0.09431\teval-r2:0.97804\n",
      "[2618]\ttrain-rmse:0.09219\ttrain-r2:0.97893\teval-rmse:0.09431\teval-r2:0.97804\n",
      "[2619]\ttrain-rmse:0.09219\ttrain-r2:0.97893\teval-rmse:0.09431\teval-r2:0.97804\n",
      "[2620]\ttrain-rmse:0.09219\ttrain-r2:0.97893\teval-rmse:0.09431\teval-r2:0.97804\n",
      "[2621]\ttrain-rmse:0.09219\ttrain-r2:0.97893\teval-rmse:0.09431\teval-r2:0.97804\n",
      "[2622]\ttrain-rmse:0.09219\ttrain-r2:0.97893\teval-rmse:0.09431\teval-r2:0.97804\n",
      "[2623]\ttrain-rmse:0.09219\ttrain-r2:0.97893\teval-rmse:0.09431\teval-r2:0.97804\n",
      "[2624]\ttrain-rmse:0.09219\ttrain-r2:0.97893\teval-rmse:0.09431\teval-r2:0.97804\n",
      "[2625]\ttrain-rmse:0.09219\ttrain-r2:0.97893\teval-rmse:0.09431\teval-r2:0.97804\n",
      "[2626]\ttrain-rmse:0.09219\ttrain-r2:0.97893\teval-rmse:0.09431\teval-r2:0.97804\n",
      "[2627]\ttrain-rmse:0.09219\ttrain-r2:0.97893\teval-rmse:0.09431\teval-r2:0.97804\n",
      "[2628]\ttrain-rmse:0.09219\ttrain-r2:0.97893\teval-rmse:0.09431\teval-r2:0.97804\n",
      "[2629]\ttrain-rmse:0.09219\ttrain-r2:0.97893\teval-rmse:0.09431\teval-r2:0.97804\n",
      "[2630]\ttrain-rmse:0.09219\ttrain-r2:0.97893\teval-rmse:0.09431\teval-r2:0.97804\n",
      "[2631]\ttrain-rmse:0.09219\ttrain-r2:0.97893\teval-rmse:0.09431\teval-r2:0.97804\n",
      "[2632]\ttrain-rmse:0.09219\ttrain-r2:0.97893\teval-rmse:0.09431\teval-r2:0.97804\n",
      "[2633]\ttrain-rmse:0.09219\ttrain-r2:0.97893\teval-rmse:0.09431\teval-r2:0.97804\n",
      "[2634]\ttrain-rmse:0.09219\ttrain-r2:0.97893\teval-rmse:0.09431\teval-r2:0.97804\n",
      "[2635]\ttrain-rmse:0.09218\ttrain-r2:0.97894\teval-rmse:0.09430\teval-r2:0.97804\n",
      "[2636]\ttrain-rmse:0.09218\ttrain-r2:0.97894\teval-rmse:0.09430\teval-r2:0.97804\n",
      "[2637]\ttrain-rmse:0.09218\ttrain-r2:0.97894\teval-rmse:0.09430\teval-r2:0.97804\n",
      "[2638]\ttrain-rmse:0.09218\ttrain-r2:0.97894\teval-rmse:0.09430\teval-r2:0.97804\n",
      "[2639]\ttrain-rmse:0.09218\ttrain-r2:0.97894\teval-rmse:0.09430\teval-r2:0.97804\n",
      "[2640]\ttrain-rmse:0.09218\ttrain-r2:0.97894\teval-rmse:0.09430\teval-r2:0.97804\n",
      "[2641]\ttrain-rmse:0.09218\ttrain-r2:0.97894\teval-rmse:0.09430\teval-r2:0.97804\n",
      "[2642]\ttrain-rmse:0.09218\ttrain-r2:0.97894\teval-rmse:0.09430\teval-r2:0.97804\n",
      "[2643]\ttrain-rmse:0.09218\ttrain-r2:0.97894\teval-rmse:0.09430\teval-r2:0.97804\n",
      "[2644]\ttrain-rmse:0.09218\ttrain-r2:0.97894\teval-rmse:0.09430\teval-r2:0.97804\n",
      "[2645]\ttrain-rmse:0.09218\ttrain-r2:0.97894\teval-rmse:0.09430\teval-r2:0.97804\n",
      "[2646]\ttrain-rmse:0.09218\ttrain-r2:0.97894\teval-rmse:0.09430\teval-r2:0.97804\n",
      "[2647]\ttrain-rmse:0.09217\ttrain-r2:0.97894\teval-rmse:0.09430\teval-r2:0.97805\n",
      "[2648]\ttrain-rmse:0.09217\ttrain-r2:0.97894\teval-rmse:0.09430\teval-r2:0.97805\n",
      "[2649]\ttrain-rmse:0.09217\ttrain-r2:0.97894\teval-rmse:0.09430\teval-r2:0.97805\n",
      "[2650]\ttrain-rmse:0.09217\ttrain-r2:0.97894\teval-rmse:0.09430\teval-r2:0.97805\n",
      "[2651]\ttrain-rmse:0.09217\ttrain-r2:0.97894\teval-rmse:0.09430\teval-r2:0.97805\n",
      "[2652]\ttrain-rmse:0.09217\ttrain-r2:0.97894\teval-rmse:0.09430\teval-r2:0.97805\n",
      "[2653]\ttrain-rmse:0.09217\ttrain-r2:0.97894\teval-rmse:0.09430\teval-r2:0.97805\n",
      "[2654]\ttrain-rmse:0.09217\ttrain-r2:0.97894\teval-rmse:0.09430\teval-r2:0.97805\n",
      "[2655]\ttrain-rmse:0.09217\ttrain-r2:0.97894\teval-rmse:0.09430\teval-r2:0.97805\n",
      "[2656]\ttrain-rmse:0.09217\ttrain-r2:0.97894\teval-rmse:0.09430\teval-r2:0.97805\n",
      "[2657]\ttrain-rmse:0.09217\ttrain-r2:0.97894\teval-rmse:0.09430\teval-r2:0.97805\n",
      "[2658]\ttrain-rmse:0.09217\ttrain-r2:0.97894\teval-rmse:0.09430\teval-r2:0.97805\n",
      "[2659]\ttrain-rmse:0.09217\ttrain-r2:0.97894\teval-rmse:0.09430\teval-r2:0.97805\n",
      "[2660]\ttrain-rmse:0.09217\ttrain-r2:0.97894\teval-rmse:0.09430\teval-r2:0.97805\n",
      "[2661]\ttrain-rmse:0.09217\ttrain-r2:0.97894\teval-rmse:0.09430\teval-r2:0.97805\n",
      "[2662]\ttrain-rmse:0.09217\ttrain-r2:0.97894\teval-rmse:0.09430\teval-r2:0.97805\n",
      "[2663]\ttrain-rmse:0.09217\ttrain-r2:0.97894\teval-rmse:0.09430\teval-r2:0.97805\n",
      "[2664]\ttrain-rmse:0.09217\ttrain-r2:0.97894\teval-rmse:0.09430\teval-r2:0.97805\n",
      "[2665]\ttrain-rmse:0.09217\ttrain-r2:0.97894\teval-rmse:0.09430\teval-r2:0.97805\n",
      "[2666]\ttrain-rmse:0.09217\ttrain-r2:0.97894\teval-rmse:0.09430\teval-r2:0.97805\n",
      "[2667]\ttrain-rmse:0.09217\ttrain-r2:0.97894\teval-rmse:0.09430\teval-r2:0.97805\n",
      "[2668]\ttrain-rmse:0.09217\ttrain-r2:0.97894\teval-rmse:0.09430\teval-r2:0.97805\n",
      "[2669]\ttrain-rmse:0.09217\ttrain-r2:0.97894\teval-rmse:0.09430\teval-r2:0.97805\n",
      "[2670]\ttrain-rmse:0.09217\ttrain-r2:0.97894\teval-rmse:0.09430\teval-r2:0.97805\n",
      "[2671]\ttrain-rmse:0.09217\ttrain-r2:0.97894\teval-rmse:0.09430\teval-r2:0.97805\n",
      "[2672]\ttrain-rmse:0.09217\ttrain-r2:0.97894\teval-rmse:0.09430\teval-r2:0.97805\n",
      "[2673]\ttrain-rmse:0.09217\ttrain-r2:0.97894\teval-rmse:0.09430\teval-r2:0.97805\n",
      "[2674]\ttrain-rmse:0.09217\ttrain-r2:0.97894\teval-rmse:0.09430\teval-r2:0.97805\n",
      "[2675]\ttrain-rmse:0.09217\ttrain-r2:0.97894\teval-rmse:0.09430\teval-r2:0.97805\n",
      "[2676]\ttrain-rmse:0.09217\ttrain-r2:0.97894\teval-rmse:0.09430\teval-r2:0.97805\n",
      "[2677]\ttrain-rmse:0.09217\ttrain-r2:0.97894\teval-rmse:0.09430\teval-r2:0.97805\n",
      "[2678]\ttrain-rmse:0.09217\ttrain-r2:0.97894\teval-rmse:0.09430\teval-r2:0.97805\n",
      "[2679]\ttrain-rmse:0.09217\ttrain-r2:0.97894\teval-rmse:0.09430\teval-r2:0.97805\n",
      "[2680]\ttrain-rmse:0.09217\ttrain-r2:0.97894\teval-rmse:0.09430\teval-r2:0.97805\n",
      "[2681]\ttrain-rmse:0.09217\ttrain-r2:0.97894\teval-rmse:0.09430\teval-r2:0.97805\n",
      "[2682]\ttrain-rmse:0.09217\ttrain-r2:0.97894\teval-rmse:0.09430\teval-r2:0.97805\n",
      "[2683]\ttrain-rmse:0.09217\ttrain-r2:0.97894\teval-rmse:0.09430\teval-r2:0.97805\n",
      "[2684]\ttrain-rmse:0.09217\ttrain-r2:0.97894\teval-rmse:0.09430\teval-r2:0.97805\n",
      "[2685]\ttrain-rmse:0.09217\ttrain-r2:0.97894\teval-rmse:0.09430\teval-r2:0.97805\n",
      "[2686]\ttrain-rmse:0.09217\ttrain-r2:0.97894\teval-rmse:0.09430\teval-r2:0.97805\n",
      "[2687]\ttrain-rmse:0.09217\ttrain-r2:0.97894\teval-rmse:0.09430\teval-r2:0.97805\n",
      "[2688]\ttrain-rmse:0.09217\ttrain-r2:0.97894\teval-rmse:0.09430\teval-r2:0.97805\n",
      "[2689]\ttrain-rmse:0.09217\ttrain-r2:0.97894\teval-rmse:0.09430\teval-r2:0.97805\n",
      "[2690]\ttrain-rmse:0.09217\ttrain-r2:0.97894\teval-rmse:0.09430\teval-r2:0.97805\n",
      "[2691]\ttrain-rmse:0.09217\ttrain-r2:0.97894\teval-rmse:0.09430\teval-r2:0.97805\n",
      "[2692]\ttrain-rmse:0.09217\ttrain-r2:0.97894\teval-rmse:0.09430\teval-r2:0.97805\n",
      "[2693]\ttrain-rmse:0.09217\ttrain-r2:0.97894\teval-rmse:0.09430\teval-r2:0.97805\n",
      "[2694]\ttrain-rmse:0.09217\ttrain-r2:0.97894\teval-rmse:0.09430\teval-r2:0.97805\n",
      "[2695]\ttrain-rmse:0.09217\ttrain-r2:0.97894\teval-rmse:0.09430\teval-r2:0.97805\n",
      "[2696]\ttrain-rmse:0.09217\ttrain-r2:0.97894\teval-rmse:0.09430\teval-r2:0.97805\n",
      "[2697]\ttrain-rmse:0.09217\ttrain-r2:0.97894\teval-rmse:0.09430\teval-r2:0.97805\n",
      "[2698]\ttrain-rmse:0.09217\ttrain-r2:0.97894\teval-rmse:0.09430\teval-r2:0.97805\n",
      "[2699]\ttrain-rmse:0.09217\ttrain-r2:0.97894\teval-rmse:0.09430\teval-r2:0.97805\n",
      "[2700]\ttrain-rmse:0.09217\ttrain-r2:0.97894\teval-rmse:0.09430\teval-r2:0.97805\n",
      "[2701]\ttrain-rmse:0.09217\ttrain-r2:0.97894\teval-rmse:0.09430\teval-r2:0.97805\n",
      "[2702]\ttrain-rmse:0.09217\ttrain-r2:0.97894\teval-rmse:0.09430\teval-r2:0.97805\n",
      "[2703]\ttrain-rmse:0.09217\ttrain-r2:0.97894\teval-rmse:0.09430\teval-r2:0.97805\n",
      "[2704]\ttrain-rmse:0.09217\ttrain-r2:0.97894\teval-rmse:0.09430\teval-r2:0.97805\n",
      "[2705]\ttrain-rmse:0.09217\ttrain-r2:0.97894\teval-rmse:0.09430\teval-r2:0.97805\n",
      "[2706]\ttrain-rmse:0.09217\ttrain-r2:0.97894\teval-rmse:0.09430\teval-r2:0.97805\n",
      "[2707]\ttrain-rmse:0.09217\ttrain-r2:0.97894\teval-rmse:0.09430\teval-r2:0.97805\n",
      "[2708]\ttrain-rmse:0.09217\ttrain-r2:0.97894\teval-rmse:0.09430\teval-r2:0.97805\n",
      "[2709]\ttrain-rmse:0.09217\ttrain-r2:0.97894\teval-rmse:0.09430\teval-r2:0.97805\n",
      "[2710]\ttrain-rmse:0.09217\ttrain-r2:0.97894\teval-rmse:0.09430\teval-r2:0.97805\n",
      "[2711]\ttrain-rmse:0.09217\ttrain-r2:0.97894\teval-rmse:0.09430\teval-r2:0.97805\n",
      "[2712]\ttrain-rmse:0.09217\ttrain-r2:0.97894\teval-rmse:0.09430\teval-r2:0.97805\n",
      "[2713]\ttrain-rmse:0.09217\ttrain-r2:0.97894\teval-rmse:0.09430\teval-r2:0.97805\n",
      "[2714]\ttrain-rmse:0.09217\ttrain-r2:0.97894\teval-rmse:0.09430\teval-r2:0.97805\n",
      "[2715]\ttrain-rmse:0.09217\ttrain-r2:0.97894\teval-rmse:0.09430\teval-r2:0.97805\n",
      "[2716]\ttrain-rmse:0.09217\ttrain-r2:0.97894\teval-rmse:0.09430\teval-r2:0.97805\n",
      "[2717]\ttrain-rmse:0.09217\ttrain-r2:0.97894\teval-rmse:0.09430\teval-r2:0.97805\n",
      "[2718]\ttrain-rmse:0.09217\ttrain-r2:0.97894\teval-rmse:0.09430\teval-r2:0.97805\n",
      "[2719]\ttrain-rmse:0.09217\ttrain-r2:0.97894\teval-rmse:0.09430\teval-r2:0.97805\n",
      "[2720]\ttrain-rmse:0.09217\ttrain-r2:0.97894\teval-rmse:0.09430\teval-r2:0.97805\n",
      "[2721]\ttrain-rmse:0.09217\ttrain-r2:0.97894\teval-rmse:0.09430\teval-r2:0.97805\n",
      "[2722]\ttrain-rmse:0.09217\ttrain-r2:0.97894\teval-rmse:0.09430\teval-r2:0.97805\n",
      "[2723]\ttrain-rmse:0.09217\ttrain-r2:0.97894\teval-rmse:0.09430\teval-r2:0.97805\n",
      "[2724]\ttrain-rmse:0.09217\ttrain-r2:0.97894\teval-rmse:0.09430\teval-r2:0.97805\n",
      "[2725]\ttrain-rmse:0.09217\ttrain-r2:0.97894\teval-rmse:0.09430\teval-r2:0.97805\n",
      "[2726]\ttrain-rmse:0.09217\ttrain-r2:0.97894\teval-rmse:0.09430\teval-r2:0.97805\n",
      "[2727]\ttrain-rmse:0.09217\ttrain-r2:0.97894\teval-rmse:0.09430\teval-r2:0.97805\n",
      "[2728]\ttrain-rmse:0.09217\ttrain-r2:0.97894\teval-rmse:0.09430\teval-r2:0.97805\n",
      "[2729]\ttrain-rmse:0.09217\ttrain-r2:0.97894\teval-rmse:0.09430\teval-r2:0.97805\n",
      "[2730]\ttrain-rmse:0.09217\ttrain-r2:0.97894\teval-rmse:0.09430\teval-r2:0.97805\n",
      "[2731]\ttrain-rmse:0.09217\ttrain-r2:0.97894\teval-rmse:0.09430\teval-r2:0.97805\n",
      "[2732]\ttrain-rmse:0.09217\ttrain-r2:0.97894\teval-rmse:0.09430\teval-r2:0.97805\n",
      "[2733]\ttrain-rmse:0.09217\ttrain-r2:0.97894\teval-rmse:0.09430\teval-r2:0.97805\n",
      "[2734]\ttrain-rmse:0.09217\ttrain-r2:0.97894\teval-rmse:0.09430\teval-r2:0.97805\n",
      "[2735]\ttrain-rmse:0.09217\ttrain-r2:0.97894\teval-rmse:0.09430\teval-r2:0.97805\n",
      "[2736]\ttrain-rmse:0.09217\ttrain-r2:0.97894\teval-rmse:0.09430\teval-r2:0.97805\n",
      "[2737]\ttrain-rmse:0.09217\ttrain-r2:0.97894\teval-rmse:0.09430\teval-r2:0.97805\n",
      "[2738]\ttrain-rmse:0.09217\ttrain-r2:0.97894\teval-rmse:0.09430\teval-r2:0.97805\n",
      "[2739]\ttrain-rmse:0.09217\ttrain-r2:0.97894\teval-rmse:0.09430\teval-r2:0.97805\n",
      "[2740]\ttrain-rmse:0.09217\ttrain-r2:0.97894\teval-rmse:0.09430\teval-r2:0.97805\n",
      "[2741]\ttrain-rmse:0.09217\ttrain-r2:0.97894\teval-rmse:0.09430\teval-r2:0.97805\n",
      "[2742]\ttrain-rmse:0.09217\ttrain-r2:0.97894\teval-rmse:0.09430\teval-r2:0.97805\n",
      "[2743]\ttrain-rmse:0.09217\ttrain-r2:0.97894\teval-rmse:0.09430\teval-r2:0.97805\n",
      "[2744]\ttrain-rmse:0.09217\ttrain-r2:0.97894\teval-rmse:0.09430\teval-r2:0.97805\n",
      "[2745]\ttrain-rmse:0.09215\ttrain-r2:0.97895\teval-rmse:0.09428\teval-r2:0.97806\n",
      "[2746]\ttrain-rmse:0.09215\ttrain-r2:0.97895\teval-rmse:0.09428\teval-r2:0.97806\n",
      "[2747]\ttrain-rmse:0.09215\ttrain-r2:0.97895\teval-rmse:0.09428\teval-r2:0.97806\n",
      "[2748]\ttrain-rmse:0.09215\ttrain-r2:0.97895\teval-rmse:0.09427\teval-r2:0.97806\n",
      "[2749]\ttrain-rmse:0.09214\ttrain-r2:0.97896\teval-rmse:0.09427\teval-r2:0.97806\n",
      "[2750]\ttrain-rmse:0.09214\ttrain-r2:0.97896\teval-rmse:0.09427\teval-r2:0.97806\n",
      "[2751]\ttrain-rmse:0.09214\ttrain-r2:0.97896\teval-rmse:0.09427\teval-r2:0.97806\n",
      "[2752]\ttrain-rmse:0.09214\ttrain-r2:0.97896\teval-rmse:0.09427\teval-r2:0.97806\n",
      "[2753]\ttrain-rmse:0.09214\ttrain-r2:0.97896\teval-rmse:0.09427\teval-r2:0.97806\n",
      "[2754]\ttrain-rmse:0.09214\ttrain-r2:0.97896\teval-rmse:0.09427\teval-r2:0.97806\n",
      "[2755]\ttrain-rmse:0.09214\ttrain-r2:0.97896\teval-rmse:0.09427\teval-r2:0.97806\n",
      "[2756]\ttrain-rmse:0.09214\ttrain-r2:0.97896\teval-rmse:0.09427\teval-r2:0.97806\n",
      "[2757]\ttrain-rmse:0.09214\ttrain-r2:0.97896\teval-rmse:0.09427\teval-r2:0.97806\n",
      "[2758]\ttrain-rmse:0.09214\ttrain-r2:0.97896\teval-rmse:0.09427\teval-r2:0.97806\n",
      "[2759]\ttrain-rmse:0.09214\ttrain-r2:0.97896\teval-rmse:0.09427\teval-r2:0.97806\n",
      "[2760]\ttrain-rmse:0.09214\ttrain-r2:0.97896\teval-rmse:0.09427\teval-r2:0.97806\n",
      "[2761]\ttrain-rmse:0.09214\ttrain-r2:0.97896\teval-rmse:0.09427\teval-r2:0.97806\n",
      "[2762]\ttrain-rmse:0.09214\ttrain-r2:0.97896\teval-rmse:0.09427\teval-r2:0.97806\n",
      "[2763]\ttrain-rmse:0.09214\ttrain-r2:0.97896\teval-rmse:0.09427\teval-r2:0.97806\n",
      "[2764]\ttrain-rmse:0.09214\ttrain-r2:0.97896\teval-rmse:0.09427\teval-r2:0.97806\n",
      "[2765]\ttrain-rmse:0.09214\ttrain-r2:0.97896\teval-rmse:0.09427\teval-r2:0.97806\n",
      "[2766]\ttrain-rmse:0.09214\ttrain-r2:0.97896\teval-rmse:0.09427\teval-r2:0.97806\n",
      "[2767]\ttrain-rmse:0.09214\ttrain-r2:0.97896\teval-rmse:0.09427\teval-r2:0.97806\n",
      "[2768]\ttrain-rmse:0.09214\ttrain-r2:0.97896\teval-rmse:0.09427\teval-r2:0.97806\n",
      "[2769]\ttrain-rmse:0.09214\ttrain-r2:0.97896\teval-rmse:0.09427\teval-r2:0.97806\n",
      "[2770]\ttrain-rmse:0.09214\ttrain-r2:0.97896\teval-rmse:0.09427\teval-r2:0.97806\n",
      "[2771]\ttrain-rmse:0.09214\ttrain-r2:0.97896\teval-rmse:0.09427\teval-r2:0.97806\n",
      "[2772]\ttrain-rmse:0.09214\ttrain-r2:0.97896\teval-rmse:0.09427\teval-r2:0.97806\n",
      "[2773]\ttrain-rmse:0.09214\ttrain-r2:0.97896\teval-rmse:0.09427\teval-r2:0.97806\n",
      "[2774]\ttrain-rmse:0.09214\ttrain-r2:0.97896\teval-rmse:0.09427\teval-r2:0.97806\n",
      "[2775]\ttrain-rmse:0.09214\ttrain-r2:0.97896\teval-rmse:0.09427\teval-r2:0.97806\n",
      "[2776]\ttrain-rmse:0.09214\ttrain-r2:0.97896\teval-rmse:0.09427\teval-r2:0.97806\n",
      "[2777]\ttrain-rmse:0.09212\ttrain-r2:0.97896\teval-rmse:0.09425\teval-r2:0.97807\n",
      "[2778]\ttrain-rmse:0.09212\ttrain-r2:0.97896\teval-rmse:0.09425\teval-r2:0.97807\n",
      "[2779]\ttrain-rmse:0.09212\ttrain-r2:0.97896\teval-rmse:0.09425\teval-r2:0.97807\n",
      "[2780]\ttrain-rmse:0.09212\ttrain-r2:0.97896\teval-rmse:0.09425\teval-r2:0.97807\n",
      "[2781]\ttrain-rmse:0.09212\ttrain-r2:0.97896\teval-rmse:0.09425\teval-r2:0.97807\n",
      "[2782]\ttrain-rmse:0.09212\ttrain-r2:0.97896\teval-rmse:0.09425\teval-r2:0.97807\n",
      "[2783]\ttrain-rmse:0.09212\ttrain-r2:0.97896\teval-rmse:0.09425\teval-r2:0.97807\n",
      "[2784]\ttrain-rmse:0.09212\ttrain-r2:0.97896\teval-rmse:0.09425\teval-r2:0.97807\n",
      "[2785]\ttrain-rmse:0.09212\ttrain-r2:0.97896\teval-rmse:0.09425\teval-r2:0.97807\n",
      "[2786]\ttrain-rmse:0.09212\ttrain-r2:0.97896\teval-rmse:0.09425\teval-r2:0.97807\n",
      "[2787]\ttrain-rmse:0.09212\ttrain-r2:0.97896\teval-rmse:0.09425\teval-r2:0.97807\n",
      "[2788]\ttrain-rmse:0.09212\ttrain-r2:0.97896\teval-rmse:0.09425\teval-r2:0.97807\n",
      "[2789]\ttrain-rmse:0.09212\ttrain-r2:0.97896\teval-rmse:0.09425\teval-r2:0.97807\n",
      "[2790]\ttrain-rmse:0.09212\ttrain-r2:0.97896\teval-rmse:0.09425\teval-r2:0.97807\n",
      "[2791]\ttrain-rmse:0.09212\ttrain-r2:0.97896\teval-rmse:0.09425\teval-r2:0.97807\n",
      "[2792]\ttrain-rmse:0.09212\ttrain-r2:0.97896\teval-rmse:0.09425\teval-r2:0.97807\n",
      "[2793]\ttrain-rmse:0.09212\ttrain-r2:0.97896\teval-rmse:0.09425\teval-r2:0.97807\n",
      "[2794]\ttrain-rmse:0.09212\ttrain-r2:0.97896\teval-rmse:0.09425\teval-r2:0.97807\n",
      "[2795]\ttrain-rmse:0.09212\ttrain-r2:0.97896\teval-rmse:0.09425\teval-r2:0.97807\n",
      "[2796]\ttrain-rmse:0.09212\ttrain-r2:0.97896\teval-rmse:0.09425\teval-r2:0.97807\n",
      "[2797]\ttrain-rmse:0.09212\ttrain-r2:0.97896\teval-rmse:0.09425\teval-r2:0.97807\n",
      "[2798]\ttrain-rmse:0.09212\ttrain-r2:0.97896\teval-rmse:0.09425\teval-r2:0.97807\n",
      "[2799]\ttrain-rmse:0.09212\ttrain-r2:0.97896\teval-rmse:0.09425\teval-r2:0.97807\n",
      "[2800]\ttrain-rmse:0.09212\ttrain-r2:0.97896\teval-rmse:0.09425\teval-r2:0.97807\n",
      "[2801]\ttrain-rmse:0.09212\ttrain-r2:0.97896\teval-rmse:0.09425\teval-r2:0.97807\n",
      "[2802]\ttrain-rmse:0.09212\ttrain-r2:0.97896\teval-rmse:0.09425\teval-r2:0.97807\n",
      "[2803]\ttrain-rmse:0.09212\ttrain-r2:0.97896\teval-rmse:0.09425\teval-r2:0.97807\n",
      "[2804]\ttrain-rmse:0.09212\ttrain-r2:0.97896\teval-rmse:0.09425\teval-r2:0.97807\n",
      "[2805]\ttrain-rmse:0.09212\ttrain-r2:0.97896\teval-rmse:0.09425\teval-r2:0.97807\n",
      "[2806]\ttrain-rmse:0.09212\ttrain-r2:0.97896\teval-rmse:0.09425\teval-r2:0.97807\n",
      "[2807]\ttrain-rmse:0.09212\ttrain-r2:0.97896\teval-rmse:0.09425\teval-r2:0.97807\n",
      "[2808]\ttrain-rmse:0.09212\ttrain-r2:0.97896\teval-rmse:0.09425\teval-r2:0.97807\n",
      "[2809]\ttrain-rmse:0.09212\ttrain-r2:0.97896\teval-rmse:0.09425\teval-r2:0.97807\n",
      "[2810]\ttrain-rmse:0.09212\ttrain-r2:0.97896\teval-rmse:0.09425\teval-r2:0.97807\n",
      "[2811]\ttrain-rmse:0.09212\ttrain-r2:0.97896\teval-rmse:0.09425\teval-r2:0.97807\n",
      "[2812]\ttrain-rmse:0.09212\ttrain-r2:0.97896\teval-rmse:0.09425\teval-r2:0.97807\n",
      "[2813]\ttrain-rmse:0.09212\ttrain-r2:0.97896\teval-rmse:0.09425\teval-r2:0.97807\n",
      "[2814]\ttrain-rmse:0.09212\ttrain-r2:0.97896\teval-rmse:0.09425\teval-r2:0.97807\n",
      "[2815]\ttrain-rmse:0.09212\ttrain-r2:0.97896\teval-rmse:0.09425\teval-r2:0.97807\n",
      "[2816]\ttrain-rmse:0.09212\ttrain-r2:0.97896\teval-rmse:0.09425\teval-r2:0.97807\n",
      "[2817]\ttrain-rmse:0.09212\ttrain-r2:0.97896\teval-rmse:0.09425\teval-r2:0.97807\n",
      "[2818]\ttrain-rmse:0.09212\ttrain-r2:0.97896\teval-rmse:0.09425\teval-r2:0.97807\n",
      "[2819]\ttrain-rmse:0.09212\ttrain-r2:0.97896\teval-rmse:0.09425\teval-r2:0.97807\n",
      "[2820]\ttrain-rmse:0.09212\ttrain-r2:0.97896\teval-rmse:0.09425\teval-r2:0.97807\n",
      "[2821]\ttrain-rmse:0.09212\ttrain-r2:0.97896\teval-rmse:0.09425\teval-r2:0.97807\n",
      "[2822]\ttrain-rmse:0.09212\ttrain-r2:0.97896\teval-rmse:0.09425\teval-r2:0.97807\n",
      "[2823]\ttrain-rmse:0.09212\ttrain-r2:0.97896\teval-rmse:0.09425\teval-r2:0.97807\n",
      "[2824]\ttrain-rmse:0.09212\ttrain-r2:0.97896\teval-rmse:0.09425\teval-r2:0.97807\n",
      "[2825]\ttrain-rmse:0.09212\ttrain-r2:0.97896\teval-rmse:0.09425\teval-r2:0.97807\n",
      "[2826]\ttrain-rmse:0.09212\ttrain-r2:0.97896\teval-rmse:0.09425\teval-r2:0.97807\n",
      "[2827]\ttrain-rmse:0.09212\ttrain-r2:0.97896\teval-rmse:0.09425\teval-r2:0.97807\n",
      "[2828]\ttrain-rmse:0.09212\ttrain-r2:0.97896\teval-rmse:0.09425\teval-r2:0.97807\n",
      "[2829]\ttrain-rmse:0.09212\ttrain-r2:0.97896\teval-rmse:0.09425\teval-r2:0.97807\n",
      "[2830]\ttrain-rmse:0.09210\ttrain-r2:0.97898\teval-rmse:0.09423\teval-r2:0.97808\n",
      "[2831]\ttrain-rmse:0.09210\ttrain-r2:0.97898\teval-rmse:0.09423\teval-r2:0.97808\n",
      "[2832]\ttrain-rmse:0.09210\ttrain-r2:0.97898\teval-rmse:0.09423\teval-r2:0.97808\n",
      "[2833]\ttrain-rmse:0.09210\ttrain-r2:0.97898\teval-rmse:0.09423\teval-r2:0.97808\n",
      "[2834]\ttrain-rmse:0.09210\ttrain-r2:0.97898\teval-rmse:0.09423\teval-r2:0.97808\n",
      "[2835]\ttrain-rmse:0.09210\ttrain-r2:0.97898\teval-rmse:0.09423\teval-r2:0.97808\n",
      "[2836]\ttrain-rmse:0.09210\ttrain-r2:0.97898\teval-rmse:0.09423\teval-r2:0.97808\n",
      "[2837]\ttrain-rmse:0.09210\ttrain-r2:0.97898\teval-rmse:0.09423\teval-r2:0.97808\n",
      "[2838]\ttrain-rmse:0.09210\ttrain-r2:0.97898\teval-rmse:0.09423\teval-r2:0.97808\n",
      "[2839]\ttrain-rmse:0.09208\ttrain-r2:0.97899\teval-rmse:0.09421\teval-r2:0.97809\n",
      "[2840]\ttrain-rmse:0.09208\ttrain-r2:0.97899\teval-rmse:0.09421\teval-r2:0.97809\n",
      "[2841]\ttrain-rmse:0.09208\ttrain-r2:0.97899\teval-rmse:0.09421\teval-r2:0.97809\n",
      "[2842]\ttrain-rmse:0.09208\ttrain-r2:0.97899\teval-rmse:0.09421\teval-r2:0.97809\n",
      "[2843]\ttrain-rmse:0.09208\ttrain-r2:0.97899\teval-rmse:0.09421\teval-r2:0.97809\n",
      "[2844]\ttrain-rmse:0.09207\ttrain-r2:0.97899\teval-rmse:0.09420\teval-r2:0.97809\n",
      "[2845]\ttrain-rmse:0.09207\ttrain-r2:0.97899\teval-rmse:0.09420\teval-r2:0.97809\n",
      "[2846]\ttrain-rmse:0.09207\ttrain-r2:0.97899\teval-rmse:0.09420\teval-r2:0.97809\n",
      "[2847]\ttrain-rmse:0.09207\ttrain-r2:0.97899\teval-rmse:0.09420\teval-r2:0.97809\n",
      "[2848]\ttrain-rmse:0.09207\ttrain-r2:0.97899\teval-rmse:0.09420\teval-r2:0.97809\n",
      "[2849]\ttrain-rmse:0.09207\ttrain-r2:0.97899\teval-rmse:0.09420\teval-r2:0.97809\n",
      "[2850]\ttrain-rmse:0.09206\ttrain-r2:0.97899\teval-rmse:0.09420\teval-r2:0.97809\n",
      "[2851]\ttrain-rmse:0.09206\ttrain-r2:0.97899\teval-rmse:0.09420\teval-r2:0.97809\n",
      "[2852]\ttrain-rmse:0.09206\ttrain-r2:0.97899\teval-rmse:0.09420\teval-r2:0.97809\n",
      "[2853]\ttrain-rmse:0.09206\ttrain-r2:0.97899\teval-rmse:0.09420\teval-r2:0.97809\n",
      "[2854]\ttrain-rmse:0.09206\ttrain-r2:0.97899\teval-rmse:0.09420\teval-r2:0.97809\n",
      "[2855]\ttrain-rmse:0.09205\ttrain-r2:0.97900\teval-rmse:0.09419\teval-r2:0.97810\n",
      "[2856]\ttrain-rmse:0.09205\ttrain-r2:0.97900\teval-rmse:0.09419\teval-r2:0.97810\n",
      "[2857]\ttrain-rmse:0.09205\ttrain-r2:0.97900\teval-rmse:0.09419\teval-r2:0.97810\n",
      "[2858]\ttrain-rmse:0.09205\ttrain-r2:0.97900\teval-rmse:0.09419\teval-r2:0.97810\n",
      "[2859]\ttrain-rmse:0.09205\ttrain-r2:0.97900\teval-rmse:0.09419\teval-r2:0.97810\n",
      "[2860]\ttrain-rmse:0.09205\ttrain-r2:0.97900\teval-rmse:0.09419\teval-r2:0.97810\n",
      "[2861]\ttrain-rmse:0.09205\ttrain-r2:0.97900\teval-rmse:0.09419\teval-r2:0.97810\n",
      "[2862]\ttrain-rmse:0.09205\ttrain-r2:0.97900\teval-rmse:0.09419\teval-r2:0.97810\n",
      "[2863]\ttrain-rmse:0.09205\ttrain-r2:0.97900\teval-rmse:0.09419\teval-r2:0.97810\n",
      "[2864]\ttrain-rmse:0.09205\ttrain-r2:0.97900\teval-rmse:0.09419\teval-r2:0.97810\n",
      "[2865]\ttrain-rmse:0.09205\ttrain-r2:0.97900\teval-rmse:0.09419\teval-r2:0.97810\n",
      "[2866]\ttrain-rmse:0.09205\ttrain-r2:0.97900\teval-rmse:0.09419\teval-r2:0.97810\n",
      "[2867]\ttrain-rmse:0.09205\ttrain-r2:0.97900\teval-rmse:0.09419\teval-r2:0.97810\n",
      "[2868]\ttrain-rmse:0.09205\ttrain-r2:0.97900\teval-rmse:0.09419\teval-r2:0.97810\n",
      "[2869]\ttrain-rmse:0.09205\ttrain-r2:0.97900\teval-rmse:0.09419\teval-r2:0.97810\n",
      "[2870]\ttrain-rmse:0.09205\ttrain-r2:0.97900\teval-rmse:0.09419\teval-r2:0.97810\n",
      "[2871]\ttrain-rmse:0.09203\ttrain-r2:0.97901\teval-rmse:0.09417\teval-r2:0.97810\n",
      "[2872]\ttrain-rmse:0.09203\ttrain-r2:0.97901\teval-rmse:0.09417\teval-r2:0.97810\n",
      "[2873]\ttrain-rmse:0.09203\ttrain-r2:0.97901\teval-rmse:0.09417\teval-r2:0.97810\n",
      "[2874]\ttrain-rmse:0.09203\ttrain-r2:0.97901\teval-rmse:0.09417\teval-r2:0.97810\n",
      "[2875]\ttrain-rmse:0.09203\ttrain-r2:0.97901\teval-rmse:0.09417\teval-r2:0.97810\n",
      "[2876]\ttrain-rmse:0.09203\ttrain-r2:0.97901\teval-rmse:0.09417\teval-r2:0.97810\n",
      "[2877]\ttrain-rmse:0.09203\ttrain-r2:0.97901\teval-rmse:0.09417\teval-r2:0.97810\n",
      "[2878]\ttrain-rmse:0.09203\ttrain-r2:0.97901\teval-rmse:0.09417\teval-r2:0.97810\n",
      "[2879]\ttrain-rmse:0.09203\ttrain-r2:0.97901\teval-rmse:0.09417\teval-r2:0.97810\n",
      "[2880]\ttrain-rmse:0.09203\ttrain-r2:0.97901\teval-rmse:0.09417\teval-r2:0.97810\n",
      "[2881]\ttrain-rmse:0.09203\ttrain-r2:0.97901\teval-rmse:0.09417\teval-r2:0.97810\n",
      "[2882]\ttrain-rmse:0.09203\ttrain-r2:0.97901\teval-rmse:0.09417\teval-r2:0.97810\n",
      "[2883]\ttrain-rmse:0.09203\ttrain-r2:0.97901\teval-rmse:0.09417\teval-r2:0.97810\n",
      "[2884]\ttrain-rmse:0.09203\ttrain-r2:0.97901\teval-rmse:0.09417\teval-r2:0.97810\n",
      "[2885]\ttrain-rmse:0.09203\ttrain-r2:0.97901\teval-rmse:0.09417\teval-r2:0.97810\n",
      "[2886]\ttrain-rmse:0.09203\ttrain-r2:0.97901\teval-rmse:0.09417\teval-r2:0.97810\n",
      "[2887]\ttrain-rmse:0.09203\ttrain-r2:0.97901\teval-rmse:0.09417\teval-r2:0.97810\n",
      "[2888]\ttrain-rmse:0.09203\ttrain-r2:0.97901\teval-rmse:0.09417\teval-r2:0.97810\n",
      "[2889]\ttrain-rmse:0.09203\ttrain-r2:0.97901\teval-rmse:0.09417\teval-r2:0.97810\n",
      "[2890]\ttrain-rmse:0.09203\ttrain-r2:0.97901\teval-rmse:0.09417\teval-r2:0.97810\n",
      "[2891]\ttrain-rmse:0.09203\ttrain-r2:0.97901\teval-rmse:0.09417\teval-r2:0.97810\n",
      "[2892]\ttrain-rmse:0.09203\ttrain-r2:0.97901\teval-rmse:0.09417\teval-r2:0.97810\n",
      "[2893]\ttrain-rmse:0.09203\ttrain-r2:0.97901\teval-rmse:0.09417\teval-r2:0.97810\n",
      "[2894]\ttrain-rmse:0.09203\ttrain-r2:0.97901\teval-rmse:0.09417\teval-r2:0.97810\n",
      "[2895]\ttrain-rmse:0.09203\ttrain-r2:0.97901\teval-rmse:0.09417\teval-r2:0.97810\n",
      "[2896]\ttrain-rmse:0.09203\ttrain-r2:0.97901\teval-rmse:0.09417\teval-r2:0.97810\n",
      "[2897]\ttrain-rmse:0.09203\ttrain-r2:0.97901\teval-rmse:0.09417\teval-r2:0.97810\n",
      "[2898]\ttrain-rmse:0.09203\ttrain-r2:0.97901\teval-rmse:0.09417\teval-r2:0.97810\n",
      "[2899]\ttrain-rmse:0.09203\ttrain-r2:0.97901\teval-rmse:0.09417\teval-r2:0.97810\n",
      "[2900]\ttrain-rmse:0.09203\ttrain-r2:0.97901\teval-rmse:0.09417\teval-r2:0.97810\n",
      "[2901]\ttrain-rmse:0.09203\ttrain-r2:0.97901\teval-rmse:0.09417\teval-r2:0.97810\n",
      "[2902]\ttrain-rmse:0.09203\ttrain-r2:0.97901\teval-rmse:0.09417\teval-r2:0.97810\n",
      "[2903]\ttrain-rmse:0.09203\ttrain-r2:0.97901\teval-rmse:0.09417\teval-r2:0.97810\n",
      "[2904]\ttrain-rmse:0.09203\ttrain-r2:0.97901\teval-rmse:0.09417\teval-r2:0.97810\n",
      "[2905]\ttrain-rmse:0.09203\ttrain-r2:0.97901\teval-rmse:0.09417\teval-r2:0.97810\n",
      "[2906]\ttrain-rmse:0.09203\ttrain-r2:0.97901\teval-rmse:0.09417\teval-r2:0.97810\n",
      "[2907]\ttrain-rmse:0.09203\ttrain-r2:0.97901\teval-rmse:0.09417\teval-r2:0.97810\n",
      "[2908]\ttrain-rmse:0.09203\ttrain-r2:0.97901\teval-rmse:0.09417\teval-r2:0.97810\n",
      "[2909]\ttrain-rmse:0.09203\ttrain-r2:0.97901\teval-rmse:0.09417\teval-r2:0.97810\n",
      "[2910]\ttrain-rmse:0.09203\ttrain-r2:0.97901\teval-rmse:0.09417\teval-r2:0.97810\n",
      "[2911]\ttrain-rmse:0.09203\ttrain-r2:0.97901\teval-rmse:0.09417\teval-r2:0.97810\n",
      "[2912]\ttrain-rmse:0.09203\ttrain-r2:0.97901\teval-rmse:0.09417\teval-r2:0.97810\n",
      "[2913]\ttrain-rmse:0.09203\ttrain-r2:0.97901\teval-rmse:0.09417\teval-r2:0.97810\n",
      "[2914]\ttrain-rmse:0.09203\ttrain-r2:0.97901\teval-rmse:0.09417\teval-r2:0.97810\n",
      "[2915]\ttrain-rmse:0.09203\ttrain-r2:0.97901\teval-rmse:0.09417\teval-r2:0.97810\n",
      "[2916]\ttrain-rmse:0.09203\ttrain-r2:0.97901\teval-rmse:0.09417\teval-r2:0.97810\n",
      "[2917]\ttrain-rmse:0.09203\ttrain-r2:0.97901\teval-rmse:0.09417\teval-r2:0.97810\n",
      "[2918]\ttrain-rmse:0.09203\ttrain-r2:0.97901\teval-rmse:0.09417\teval-r2:0.97810\n",
      "[2919]\ttrain-rmse:0.09203\ttrain-r2:0.97901\teval-rmse:0.09417\teval-r2:0.97810\n",
      "[2920]\ttrain-rmse:0.09203\ttrain-r2:0.97901\teval-rmse:0.09417\teval-r2:0.97810\n",
      "[2921]\ttrain-rmse:0.09203\ttrain-r2:0.97901\teval-rmse:0.09417\teval-r2:0.97810\n",
      "[2922]\ttrain-rmse:0.09203\ttrain-r2:0.97901\teval-rmse:0.09417\teval-r2:0.97810\n",
      "[2923]\ttrain-rmse:0.09203\ttrain-r2:0.97901\teval-rmse:0.09417\teval-r2:0.97810\n",
      "[2924]\ttrain-rmse:0.09203\ttrain-r2:0.97901\teval-rmse:0.09417\teval-r2:0.97810\n",
      "[2925]\ttrain-rmse:0.09203\ttrain-r2:0.97901\teval-rmse:0.09417\teval-r2:0.97810\n",
      "[2926]\ttrain-rmse:0.09203\ttrain-r2:0.97901\teval-rmse:0.09417\teval-r2:0.97810\n",
      "[2927]\ttrain-rmse:0.09203\ttrain-r2:0.97901\teval-rmse:0.09417\teval-r2:0.97810\n",
      "[2928]\ttrain-rmse:0.09203\ttrain-r2:0.97901\teval-rmse:0.09417\teval-r2:0.97810\n",
      "[2929]\ttrain-rmse:0.09203\ttrain-r2:0.97901\teval-rmse:0.09417\teval-r2:0.97810\n",
      "[2930]\ttrain-rmse:0.09203\ttrain-r2:0.97901\teval-rmse:0.09417\teval-r2:0.97810\n",
      "[2931]\ttrain-rmse:0.09203\ttrain-r2:0.97901\teval-rmse:0.09417\teval-r2:0.97810\n",
      "[2932]\ttrain-rmse:0.09203\ttrain-r2:0.97901\teval-rmse:0.09417\teval-r2:0.97810\n",
      "[2933]\ttrain-rmse:0.09203\ttrain-r2:0.97901\teval-rmse:0.09417\teval-r2:0.97810\n",
      "[2934]\ttrain-rmse:0.09203\ttrain-r2:0.97901\teval-rmse:0.09417\teval-r2:0.97810\n",
      "[2935]\ttrain-rmse:0.09203\ttrain-r2:0.97901\teval-rmse:0.09417\teval-r2:0.97810\n",
      "[2936]\ttrain-rmse:0.09203\ttrain-r2:0.97901\teval-rmse:0.09417\teval-r2:0.97810\n",
      "[2937]\ttrain-rmse:0.09203\ttrain-r2:0.97901\teval-rmse:0.09417\teval-r2:0.97810\n",
      "[2938]\ttrain-rmse:0.09202\ttrain-r2:0.97901\teval-rmse:0.09416\teval-r2:0.97811\n",
      "[2939]\ttrain-rmse:0.09202\ttrain-r2:0.97901\teval-rmse:0.09416\teval-r2:0.97811\n",
      "[2940]\ttrain-rmse:0.09202\ttrain-r2:0.97901\teval-rmse:0.09416\teval-r2:0.97811\n",
      "[2941]\ttrain-rmse:0.09202\ttrain-r2:0.97901\teval-rmse:0.09416\teval-r2:0.97811\n",
      "[2942]\ttrain-rmse:0.09202\ttrain-r2:0.97901\teval-rmse:0.09416\teval-r2:0.97811\n",
      "[2943]\ttrain-rmse:0.09202\ttrain-r2:0.97901\teval-rmse:0.09416\teval-r2:0.97811\n",
      "[2944]\ttrain-rmse:0.09202\ttrain-r2:0.97901\teval-rmse:0.09416\teval-r2:0.97811\n",
      "[2945]\ttrain-rmse:0.09202\ttrain-r2:0.97901\teval-rmse:0.09416\teval-r2:0.97811\n",
      "[2946]\ttrain-rmse:0.09202\ttrain-r2:0.97901\teval-rmse:0.09416\teval-r2:0.97811\n",
      "[2947]\ttrain-rmse:0.09202\ttrain-r2:0.97901\teval-rmse:0.09416\teval-r2:0.97811\n",
      "[2948]\ttrain-rmse:0.09202\ttrain-r2:0.97901\teval-rmse:0.09416\teval-r2:0.97811\n",
      "[2949]\ttrain-rmse:0.09202\ttrain-r2:0.97901\teval-rmse:0.09416\teval-r2:0.97811\n",
      "[2950]\ttrain-rmse:0.09202\ttrain-r2:0.97901\teval-rmse:0.09416\teval-r2:0.97811\n",
      "[2951]\ttrain-rmse:0.09202\ttrain-r2:0.97901\teval-rmse:0.09416\teval-r2:0.97811\n",
      "[2952]\ttrain-rmse:0.09202\ttrain-r2:0.97901\teval-rmse:0.09416\teval-r2:0.97811\n",
      "[2953]\ttrain-rmse:0.09202\ttrain-r2:0.97901\teval-rmse:0.09416\teval-r2:0.97811\n",
      "[2954]\ttrain-rmse:0.09202\ttrain-r2:0.97901\teval-rmse:0.09416\teval-r2:0.97811\n",
      "[2955]\ttrain-rmse:0.09202\ttrain-r2:0.97901\teval-rmse:0.09416\teval-r2:0.97811\n",
      "[2956]\ttrain-rmse:0.09202\ttrain-r2:0.97901\teval-rmse:0.09416\teval-r2:0.97811\n",
      "[2957]\ttrain-rmse:0.09202\ttrain-r2:0.97901\teval-rmse:0.09416\teval-r2:0.97811\n",
      "[2958]\ttrain-rmse:0.09202\ttrain-r2:0.97901\teval-rmse:0.09416\teval-r2:0.97811\n",
      "[2959]\ttrain-rmse:0.09202\ttrain-r2:0.97901\teval-rmse:0.09416\teval-r2:0.97811\n",
      "[2960]\ttrain-rmse:0.09202\ttrain-r2:0.97901\teval-rmse:0.09416\teval-r2:0.97811\n",
      "[2961]\ttrain-rmse:0.09202\ttrain-r2:0.97901\teval-rmse:0.09416\teval-r2:0.97811\n",
      "[2962]\ttrain-rmse:0.09202\ttrain-r2:0.97901\teval-rmse:0.09416\teval-r2:0.97811\n",
      "[2963]\ttrain-rmse:0.09202\ttrain-r2:0.97901\teval-rmse:0.09416\teval-r2:0.97811\n",
      "[2964]\ttrain-rmse:0.09202\ttrain-r2:0.97901\teval-rmse:0.09416\teval-r2:0.97811\n",
      "[2965]\ttrain-rmse:0.09202\ttrain-r2:0.97901\teval-rmse:0.09416\teval-r2:0.97811\n",
      "[2966]\ttrain-rmse:0.09202\ttrain-r2:0.97901\teval-rmse:0.09416\teval-r2:0.97811\n",
      "[2967]\ttrain-rmse:0.09202\ttrain-r2:0.97901\teval-rmse:0.09416\teval-r2:0.97811\n",
      "[2968]\ttrain-rmse:0.09202\ttrain-r2:0.97901\teval-rmse:0.09416\teval-r2:0.97811\n",
      "[2969]\ttrain-rmse:0.09202\ttrain-r2:0.97901\teval-rmse:0.09416\teval-r2:0.97811\n",
      "[2970]\ttrain-rmse:0.09202\ttrain-r2:0.97901\teval-rmse:0.09416\teval-r2:0.97811\n",
      "[2971]\ttrain-rmse:0.09202\ttrain-r2:0.97901\teval-rmse:0.09416\teval-r2:0.97811\n",
      "[2972]\ttrain-rmse:0.09202\ttrain-r2:0.97901\teval-rmse:0.09416\teval-r2:0.97811\n",
      "[2973]\ttrain-rmse:0.09202\ttrain-r2:0.97901\teval-rmse:0.09416\teval-r2:0.97811\n",
      "[2974]\ttrain-rmse:0.09202\ttrain-r2:0.97901\teval-rmse:0.09416\teval-r2:0.97811\n",
      "[2975]\ttrain-rmse:0.09202\ttrain-r2:0.97901\teval-rmse:0.09416\teval-r2:0.97811\n",
      "[2976]\ttrain-rmse:0.09202\ttrain-r2:0.97901\teval-rmse:0.09416\teval-r2:0.97811\n",
      "[2977]\ttrain-rmse:0.09202\ttrain-r2:0.97901\teval-rmse:0.09416\teval-r2:0.97811\n",
      "[2978]\ttrain-rmse:0.09202\ttrain-r2:0.97901\teval-rmse:0.09416\teval-r2:0.97811\n",
      "[2979]\ttrain-rmse:0.09202\ttrain-r2:0.97901\teval-rmse:0.09416\teval-r2:0.97811\n",
      "[2980]\ttrain-rmse:0.09202\ttrain-r2:0.97901\teval-rmse:0.09416\teval-r2:0.97811\n",
      "[2981]\ttrain-rmse:0.09202\ttrain-r2:0.97901\teval-rmse:0.09416\teval-r2:0.97811\n",
      "[2982]\ttrain-rmse:0.09202\ttrain-r2:0.97901\teval-rmse:0.09416\teval-r2:0.97811\n",
      "[2983]\ttrain-rmse:0.09202\ttrain-r2:0.97901\teval-rmse:0.09416\teval-r2:0.97811\n",
      "[2984]\ttrain-rmse:0.09202\ttrain-r2:0.97901\teval-rmse:0.09416\teval-r2:0.97811\n",
      "[2985]\ttrain-rmse:0.09202\ttrain-r2:0.97901\teval-rmse:0.09416\teval-r2:0.97811\n",
      "[2986]\ttrain-rmse:0.09202\ttrain-r2:0.97901\teval-rmse:0.09416\teval-r2:0.97811\n",
      "[2987]\ttrain-rmse:0.09202\ttrain-r2:0.97901\teval-rmse:0.09416\teval-r2:0.97811\n",
      "[2988]\ttrain-rmse:0.09202\ttrain-r2:0.97901\teval-rmse:0.09416\teval-r2:0.97811\n",
      "[2989]\ttrain-rmse:0.09202\ttrain-r2:0.97901\teval-rmse:0.09416\teval-r2:0.97811\n",
      "[2990]\ttrain-rmse:0.09202\ttrain-r2:0.97901\teval-rmse:0.09416\teval-r2:0.97811\n",
      "[2991]\ttrain-rmse:0.09202\ttrain-r2:0.97901\teval-rmse:0.09416\teval-r2:0.97811\n",
      "[2992]\ttrain-rmse:0.09202\ttrain-r2:0.97901\teval-rmse:0.09416\teval-r2:0.97811\n",
      "[2993]\ttrain-rmse:0.09202\ttrain-r2:0.97901\teval-rmse:0.09416\teval-r2:0.97811\n",
      "[2994]\ttrain-rmse:0.09202\ttrain-r2:0.97901\teval-rmse:0.09416\teval-r2:0.97811\n",
      "[2995]\ttrain-rmse:0.09202\ttrain-r2:0.97901\teval-rmse:0.09416\teval-r2:0.97811\n",
      "[2996]\ttrain-rmse:0.09202\ttrain-r2:0.97901\teval-rmse:0.09416\teval-r2:0.97811\n",
      "[2997]\ttrain-rmse:0.09202\ttrain-r2:0.97901\teval-rmse:0.09416\teval-r2:0.97811\n",
      "[2998]\ttrain-rmse:0.09202\ttrain-r2:0.97901\teval-rmse:0.09416\teval-r2:0.97811\n",
      "[2999]\ttrain-rmse:0.09202\ttrain-r2:0.97901\teval-rmse:0.09416\teval-r2:0.97811\n",
      "[3000]\ttrain-rmse:0.09202\ttrain-r2:0.97901\teval-rmse:0.09416\teval-r2:0.97811\n",
      "[3001]\ttrain-rmse:0.09202\ttrain-r2:0.97901\teval-rmse:0.09416\teval-r2:0.97811\n",
      "[3002]\ttrain-rmse:0.09202\ttrain-r2:0.97901\teval-rmse:0.09416\teval-r2:0.97811\n",
      "[3003]\ttrain-rmse:0.09202\ttrain-r2:0.97901\teval-rmse:0.09416\teval-r2:0.97811\n",
      "[3004]\ttrain-rmse:0.09202\ttrain-r2:0.97901\teval-rmse:0.09416\teval-r2:0.97811\n",
      "[3005]\ttrain-rmse:0.09202\ttrain-r2:0.97901\teval-rmse:0.09416\teval-r2:0.97811\n",
      "[3006]\ttrain-rmse:0.09202\ttrain-r2:0.97901\teval-rmse:0.09416\teval-r2:0.97811\n",
      "[3007]\ttrain-rmse:0.09202\ttrain-r2:0.97901\teval-rmse:0.09416\teval-r2:0.97811\n",
      "[3008]\ttrain-rmse:0.09202\ttrain-r2:0.97901\teval-rmse:0.09416\teval-r2:0.97811\n",
      "[3009]\ttrain-rmse:0.09202\ttrain-r2:0.97901\teval-rmse:0.09416\teval-r2:0.97811\n",
      "[3010]\ttrain-rmse:0.09202\ttrain-r2:0.97901\teval-rmse:0.09416\teval-r2:0.97811\n",
      "[3011]\ttrain-rmse:0.09202\ttrain-r2:0.97901\teval-rmse:0.09416\teval-r2:0.97811\n",
      "[3012]\ttrain-rmse:0.09202\ttrain-r2:0.97901\teval-rmse:0.09416\teval-r2:0.97811\n",
      "[3013]\ttrain-rmse:0.09202\ttrain-r2:0.97901\teval-rmse:0.09416\teval-r2:0.97811\n",
      "[3014]\ttrain-rmse:0.09202\ttrain-r2:0.97901\teval-rmse:0.09416\teval-r2:0.97811\n",
      "[3015]\ttrain-rmse:0.09202\ttrain-r2:0.97901\teval-rmse:0.09416\teval-r2:0.97811\n",
      "[3016]\ttrain-rmse:0.09202\ttrain-r2:0.97901\teval-rmse:0.09416\teval-r2:0.97811\n",
      "[3017]\ttrain-rmse:0.09202\ttrain-r2:0.97901\teval-rmse:0.09416\teval-r2:0.97811\n",
      "[3018]\ttrain-rmse:0.09202\ttrain-r2:0.97901\teval-rmse:0.09416\teval-r2:0.97811\n",
      "[3019]\ttrain-rmse:0.09202\ttrain-r2:0.97901\teval-rmse:0.09416\teval-r2:0.97811\n",
      "[3020]\ttrain-rmse:0.09202\ttrain-r2:0.97901\teval-rmse:0.09416\teval-r2:0.97811\n",
      "[3021]\ttrain-rmse:0.09202\ttrain-r2:0.97901\teval-rmse:0.09416\teval-r2:0.97811\n",
      "[3022]\ttrain-rmse:0.09202\ttrain-r2:0.97901\teval-rmse:0.09416\teval-r2:0.97811\n",
      "[3023]\ttrain-rmse:0.09202\ttrain-r2:0.97901\teval-rmse:0.09416\teval-r2:0.97811\n",
      "[3024]\ttrain-rmse:0.09202\ttrain-r2:0.97901\teval-rmse:0.09416\teval-r2:0.97811\n",
      "[3025]\ttrain-rmse:0.09202\ttrain-r2:0.97901\teval-rmse:0.09416\teval-r2:0.97811\n",
      "[3026]\ttrain-rmse:0.09202\ttrain-r2:0.97901\teval-rmse:0.09416\teval-r2:0.97811\n",
      "[3027]\ttrain-rmse:0.09202\ttrain-r2:0.97901\teval-rmse:0.09416\teval-r2:0.97811\n",
      "[3028]\ttrain-rmse:0.09202\ttrain-r2:0.97901\teval-rmse:0.09416\teval-r2:0.97811\n",
      "[3029]\ttrain-rmse:0.09202\ttrain-r2:0.97901\teval-rmse:0.09416\teval-r2:0.97811\n",
      "[3030]\ttrain-rmse:0.09202\ttrain-r2:0.97901\teval-rmse:0.09416\teval-r2:0.97811\n",
      "[3031]\ttrain-rmse:0.09202\ttrain-r2:0.97901\teval-rmse:0.09416\teval-r2:0.97811\n",
      "[3032]\ttrain-rmse:0.09202\ttrain-r2:0.97901\teval-rmse:0.09416\teval-r2:0.97811\n",
      "[3033]\ttrain-rmse:0.09202\ttrain-r2:0.97901\teval-rmse:0.09416\teval-r2:0.97811\n",
      "[3034]\ttrain-rmse:0.09202\ttrain-r2:0.97901\teval-rmse:0.09416\teval-r2:0.97811\n",
      "[3035]\ttrain-rmse:0.09202\ttrain-r2:0.97901\teval-rmse:0.09416\teval-r2:0.97811\n",
      "[3036]\ttrain-rmse:0.09202\ttrain-r2:0.97901\teval-rmse:0.09416\teval-r2:0.97811\n",
      "[3037]\ttrain-rmse:0.09202\ttrain-r2:0.97901\teval-rmse:0.09416\teval-r2:0.97811\n",
      "[3038]\ttrain-rmse:0.09202\ttrain-r2:0.97901\teval-rmse:0.09416\teval-r2:0.97811\n",
      "[3039]\ttrain-rmse:0.09202\ttrain-r2:0.97901\teval-rmse:0.09416\teval-r2:0.97811\n",
      "[3040]\ttrain-rmse:0.09202\ttrain-r2:0.97901\teval-rmse:0.09416\teval-r2:0.97811\n",
      "[3041]\ttrain-rmse:0.09202\ttrain-r2:0.97901\teval-rmse:0.09416\teval-r2:0.97811\n",
      "[3042]\ttrain-rmse:0.09202\ttrain-r2:0.97901\teval-rmse:0.09416\teval-r2:0.97811\n",
      "[3043]\ttrain-rmse:0.09202\ttrain-r2:0.97901\teval-rmse:0.09416\teval-r2:0.97811\n",
      "[3044]\ttrain-rmse:0.09202\ttrain-r2:0.97901\teval-rmse:0.09416\teval-r2:0.97811\n",
      "[3045]\ttrain-rmse:0.09202\ttrain-r2:0.97901\teval-rmse:0.09416\teval-r2:0.97811\n",
      "[3046]\ttrain-rmse:0.09202\ttrain-r2:0.97901\teval-rmse:0.09416\teval-r2:0.97811\n",
      "[3047]\ttrain-rmse:0.09202\ttrain-r2:0.97901\teval-rmse:0.09416\teval-r2:0.97811\n",
      "[3048]\ttrain-rmse:0.09202\ttrain-r2:0.97901\teval-rmse:0.09416\teval-r2:0.97811\n",
      "[3049]\ttrain-rmse:0.09202\ttrain-r2:0.97901\teval-rmse:0.09416\teval-r2:0.97811\n",
      "[3050]\ttrain-rmse:0.09202\ttrain-r2:0.97901\teval-rmse:0.09416\teval-r2:0.97811\n",
      "[3051]\ttrain-rmse:0.09202\ttrain-r2:0.97901\teval-rmse:0.09416\teval-r2:0.97811\n",
      "[3052]\ttrain-rmse:0.09202\ttrain-r2:0.97901\teval-rmse:0.09416\teval-r2:0.97811\n",
      "[3053]\ttrain-rmse:0.09202\ttrain-r2:0.97901\teval-rmse:0.09416\teval-r2:0.97811\n",
      "[3054]\ttrain-rmse:0.09202\ttrain-r2:0.97901\teval-rmse:0.09416\teval-r2:0.97811\n",
      "[3055]\ttrain-rmse:0.09202\ttrain-r2:0.97901\teval-rmse:0.09416\teval-r2:0.97811\n",
      "[3056]\ttrain-rmse:0.09202\ttrain-r2:0.97901\teval-rmse:0.09416\teval-r2:0.97811\n",
      "[3057]\ttrain-rmse:0.09202\ttrain-r2:0.97901\teval-rmse:0.09416\teval-r2:0.97811\n",
      "[3058]\ttrain-rmse:0.09202\ttrain-r2:0.97901\teval-rmse:0.09416\teval-r2:0.97811\n",
      "[3059]\ttrain-rmse:0.09202\ttrain-r2:0.97901\teval-rmse:0.09416\teval-r2:0.97811\n",
      "[3060]\ttrain-rmse:0.09202\ttrain-r2:0.97901\teval-rmse:0.09416\teval-r2:0.97811\n",
      "[3061]\ttrain-rmse:0.09202\ttrain-r2:0.97901\teval-rmse:0.09416\teval-r2:0.97811\n",
      "[3062]\ttrain-rmse:0.09202\ttrain-r2:0.97901\teval-rmse:0.09416\teval-r2:0.97811\n",
      "[3063]\ttrain-rmse:0.09202\ttrain-r2:0.97901\teval-rmse:0.09416\teval-r2:0.97811\n",
      "[3064]\ttrain-rmse:0.09200\ttrain-r2:0.97902\teval-rmse:0.09414\teval-r2:0.97812\n",
      "[3065]\ttrain-rmse:0.09200\ttrain-r2:0.97902\teval-rmse:0.09414\teval-r2:0.97812\n",
      "[3066]\ttrain-rmse:0.09200\ttrain-r2:0.97902\teval-rmse:0.09414\teval-r2:0.97812\n",
      "[3067]\ttrain-rmse:0.09200\ttrain-r2:0.97902\teval-rmse:0.09414\teval-r2:0.97812\n",
      "[3068]\ttrain-rmse:0.09200\ttrain-r2:0.97902\teval-rmse:0.09414\teval-r2:0.97812\n",
      "[3069]\ttrain-rmse:0.09200\ttrain-r2:0.97902\teval-rmse:0.09414\teval-r2:0.97812\n",
      "[3070]\ttrain-rmse:0.09200\ttrain-r2:0.97902\teval-rmse:0.09414\teval-r2:0.97812\n",
      "[3071]\ttrain-rmse:0.09200\ttrain-r2:0.97902\teval-rmse:0.09414\teval-r2:0.97812\n",
      "[3072]\ttrain-rmse:0.09200\ttrain-r2:0.97902\teval-rmse:0.09414\teval-r2:0.97812\n",
      "[3073]\ttrain-rmse:0.09200\ttrain-r2:0.97902\teval-rmse:0.09414\teval-r2:0.97812\n",
      "[3074]\ttrain-rmse:0.09200\ttrain-r2:0.97902\teval-rmse:0.09414\teval-r2:0.97812\n",
      "[3075]\ttrain-rmse:0.09200\ttrain-r2:0.97902\teval-rmse:0.09414\teval-r2:0.97812\n",
      "[3076]\ttrain-rmse:0.09200\ttrain-r2:0.97902\teval-rmse:0.09414\teval-r2:0.97812\n",
      "[3077]\ttrain-rmse:0.09200\ttrain-r2:0.97902\teval-rmse:0.09414\teval-r2:0.97812\n",
      "[3078]\ttrain-rmse:0.09200\ttrain-r2:0.97902\teval-rmse:0.09414\teval-r2:0.97812\n",
      "[3079]\ttrain-rmse:0.09200\ttrain-r2:0.97902\teval-rmse:0.09414\teval-r2:0.97812\n",
      "[3080]\ttrain-rmse:0.09200\ttrain-r2:0.97902\teval-rmse:0.09414\teval-r2:0.97812\n",
      "[3081]\ttrain-rmse:0.09200\ttrain-r2:0.97902\teval-rmse:0.09414\teval-r2:0.97812\n",
      "[3082]\ttrain-rmse:0.09200\ttrain-r2:0.97902\teval-rmse:0.09414\teval-r2:0.97812\n",
      "[3083]\ttrain-rmse:0.09200\ttrain-r2:0.97902\teval-rmse:0.09414\teval-r2:0.97812\n",
      "[3084]\ttrain-rmse:0.09200\ttrain-r2:0.97902\teval-rmse:0.09414\teval-r2:0.97812\n",
      "[3085]\ttrain-rmse:0.09200\ttrain-r2:0.97902\teval-rmse:0.09414\teval-r2:0.97812\n",
      "[3086]\ttrain-rmse:0.09200\ttrain-r2:0.97902\teval-rmse:0.09414\teval-r2:0.97812\n",
      "[3087]\ttrain-rmse:0.09200\ttrain-r2:0.97902\teval-rmse:0.09414\teval-r2:0.97812\n",
      "[3088]\ttrain-rmse:0.09200\ttrain-r2:0.97902\teval-rmse:0.09414\teval-r2:0.97812\n",
      "[3089]\ttrain-rmse:0.09200\ttrain-r2:0.97902\teval-rmse:0.09414\teval-r2:0.97812\n",
      "[3090]\ttrain-rmse:0.09200\ttrain-r2:0.97902\teval-rmse:0.09414\teval-r2:0.97812\n",
      "[3091]\ttrain-rmse:0.09200\ttrain-r2:0.97902\teval-rmse:0.09414\teval-r2:0.97812\n",
      "[3092]\ttrain-rmse:0.09200\ttrain-r2:0.97902\teval-rmse:0.09414\teval-r2:0.97812\n",
      "[3093]\ttrain-rmse:0.09200\ttrain-r2:0.97902\teval-rmse:0.09414\teval-r2:0.97812\n",
      "[3094]\ttrain-rmse:0.09200\ttrain-r2:0.97902\teval-rmse:0.09414\teval-r2:0.97812\n",
      "[3095]\ttrain-rmse:0.09200\ttrain-r2:0.97902\teval-rmse:0.09414\teval-r2:0.97812\n",
      "[3096]\ttrain-rmse:0.09200\ttrain-r2:0.97902\teval-rmse:0.09414\teval-r2:0.97812\n",
      "[3097]\ttrain-rmse:0.09200\ttrain-r2:0.97902\teval-rmse:0.09414\teval-r2:0.97812\n",
      "[3098]\ttrain-rmse:0.09200\ttrain-r2:0.97902\teval-rmse:0.09414\teval-r2:0.97812\n",
      "[3099]\ttrain-rmse:0.09200\ttrain-r2:0.97902\teval-rmse:0.09414\teval-r2:0.97812\n",
      "[3100]\ttrain-rmse:0.09200\ttrain-r2:0.97902\teval-rmse:0.09414\teval-r2:0.97812\n",
      "[3101]\ttrain-rmse:0.09200\ttrain-r2:0.97902\teval-rmse:0.09414\teval-r2:0.97812\n",
      "[3102]\ttrain-rmse:0.09200\ttrain-r2:0.97902\teval-rmse:0.09414\teval-r2:0.97812\n",
      "[3103]\ttrain-rmse:0.09200\ttrain-r2:0.97902\teval-rmse:0.09414\teval-r2:0.97812\n",
      "[3104]\ttrain-rmse:0.09200\ttrain-r2:0.97902\teval-rmse:0.09414\teval-r2:0.97812\n",
      "[3105]\ttrain-rmse:0.09200\ttrain-r2:0.97902\teval-rmse:0.09414\teval-r2:0.97812\n",
      "[3106]\ttrain-rmse:0.09200\ttrain-r2:0.97902\teval-rmse:0.09414\teval-r2:0.97812\n",
      "[3107]\ttrain-rmse:0.09200\ttrain-r2:0.97902\teval-rmse:0.09414\teval-r2:0.97812\n",
      "[3108]\ttrain-rmse:0.09200\ttrain-r2:0.97902\teval-rmse:0.09414\teval-r2:0.97812\n",
      "[3109]\ttrain-rmse:0.09200\ttrain-r2:0.97902\teval-rmse:0.09414\teval-r2:0.97812\n",
      "[3110]\ttrain-rmse:0.09200\ttrain-r2:0.97902\teval-rmse:0.09414\teval-r2:0.97812\n",
      "[3111]\ttrain-rmse:0.09200\ttrain-r2:0.97902\teval-rmse:0.09414\teval-r2:0.97812\n",
      "[3112]\ttrain-rmse:0.09200\ttrain-r2:0.97902\teval-rmse:0.09414\teval-r2:0.97812\n",
      "[3113]\ttrain-rmse:0.09200\ttrain-r2:0.97902\teval-rmse:0.09414\teval-r2:0.97812\n",
      "[3114]\ttrain-rmse:0.09200\ttrain-r2:0.97902\teval-rmse:0.09414\teval-r2:0.97812\n",
      "[3115]\ttrain-rmse:0.09200\ttrain-r2:0.97902\teval-rmse:0.09414\teval-r2:0.97812\n",
      "[3116]\ttrain-rmse:0.09200\ttrain-r2:0.97902\teval-rmse:0.09414\teval-r2:0.97812\n",
      "[3117]\ttrain-rmse:0.09197\ttrain-r2:0.97903\teval-rmse:0.09412\teval-r2:0.97813\n",
      "[3118]\ttrain-rmse:0.09197\ttrain-r2:0.97903\teval-rmse:0.09412\teval-r2:0.97813\n",
      "[3119]\ttrain-rmse:0.09197\ttrain-r2:0.97903\teval-rmse:0.09412\teval-r2:0.97813\n",
      "[3120]\ttrain-rmse:0.09197\ttrain-r2:0.97903\teval-rmse:0.09412\teval-r2:0.97813\n",
      "[3121]\ttrain-rmse:0.09197\ttrain-r2:0.97903\teval-rmse:0.09412\teval-r2:0.97813\n",
      "[3122]\ttrain-rmse:0.09197\ttrain-r2:0.97903\teval-rmse:0.09412\teval-r2:0.97813\n",
      "[3123]\ttrain-rmse:0.09197\ttrain-r2:0.97903\teval-rmse:0.09412\teval-r2:0.97813\n",
      "[3124]\ttrain-rmse:0.09197\ttrain-r2:0.97903\teval-rmse:0.09412\teval-r2:0.97813\n",
      "[3125]\ttrain-rmse:0.09197\ttrain-r2:0.97903\teval-rmse:0.09412\teval-r2:0.97813\n",
      "[3126]\ttrain-rmse:0.09197\ttrain-r2:0.97903\teval-rmse:0.09412\teval-r2:0.97813\n",
      "[3127]\ttrain-rmse:0.09197\ttrain-r2:0.97903\teval-rmse:0.09412\teval-r2:0.97813\n",
      "[3128]\ttrain-rmse:0.09197\ttrain-r2:0.97903\teval-rmse:0.09412\teval-r2:0.97813\n",
      "[3129]\ttrain-rmse:0.09197\ttrain-r2:0.97903\teval-rmse:0.09412\teval-r2:0.97813\n",
      "[3130]\ttrain-rmse:0.09197\ttrain-r2:0.97903\teval-rmse:0.09412\teval-r2:0.97813\n",
      "[3131]\ttrain-rmse:0.09197\ttrain-r2:0.97903\teval-rmse:0.09412\teval-r2:0.97813\n",
      "[3132]\ttrain-rmse:0.09197\ttrain-r2:0.97903\teval-rmse:0.09412\teval-r2:0.97813\n",
      "[3133]\ttrain-rmse:0.09197\ttrain-r2:0.97903\teval-rmse:0.09412\teval-r2:0.97813\n",
      "[3134]\ttrain-rmse:0.09197\ttrain-r2:0.97904\teval-rmse:0.09412\teval-r2:0.97813\n",
      "[3135]\ttrain-rmse:0.09197\ttrain-r2:0.97904\teval-rmse:0.09412\teval-r2:0.97813\n",
      "[3136]\ttrain-rmse:0.09197\ttrain-r2:0.97904\teval-rmse:0.09412\teval-r2:0.97813\n",
      "[3137]\ttrain-rmse:0.09197\ttrain-r2:0.97904\teval-rmse:0.09412\teval-r2:0.97813\n",
      "[3138]\ttrain-rmse:0.09197\ttrain-r2:0.97904\teval-rmse:0.09412\teval-r2:0.97813\n",
      "[3139]\ttrain-rmse:0.09197\ttrain-r2:0.97904\teval-rmse:0.09412\teval-r2:0.97813\n",
      "[3140]\ttrain-rmse:0.09197\ttrain-r2:0.97904\teval-rmse:0.09412\teval-r2:0.97813\n",
      "[3141]\ttrain-rmse:0.09197\ttrain-r2:0.97904\teval-rmse:0.09412\teval-r2:0.97813\n",
      "[3142]\ttrain-rmse:0.09197\ttrain-r2:0.97904\teval-rmse:0.09412\teval-r2:0.97813\n",
      "[3143]\ttrain-rmse:0.09197\ttrain-r2:0.97904\teval-rmse:0.09412\teval-r2:0.97813\n",
      "[3144]\ttrain-rmse:0.09197\ttrain-r2:0.97904\teval-rmse:0.09412\teval-r2:0.97813\n",
      "[3145]\ttrain-rmse:0.09197\ttrain-r2:0.97904\teval-rmse:0.09412\teval-r2:0.97813\n",
      "[3146]\ttrain-rmse:0.09197\ttrain-r2:0.97904\teval-rmse:0.09412\teval-r2:0.97813\n",
      "[3147]\ttrain-rmse:0.09197\ttrain-r2:0.97904\teval-rmse:0.09412\teval-r2:0.97813\n",
      "[3148]\ttrain-rmse:0.09197\ttrain-r2:0.97904\teval-rmse:0.09412\teval-r2:0.97813\n",
      "[3149]\ttrain-rmse:0.09197\ttrain-r2:0.97904\teval-rmse:0.09412\teval-r2:0.97813\n",
      "[3150]\ttrain-rmse:0.09195\ttrain-r2:0.97905\teval-rmse:0.09410\teval-r2:0.97814\n",
      "[3151]\ttrain-rmse:0.09195\ttrain-r2:0.97905\teval-rmse:0.09410\teval-r2:0.97814\n",
      "[3152]\ttrain-rmse:0.09195\ttrain-r2:0.97905\teval-rmse:0.09410\teval-r2:0.97814\n",
      "[3153]\ttrain-rmse:0.09195\ttrain-r2:0.97905\teval-rmse:0.09410\teval-r2:0.97814\n",
      "[3154]\ttrain-rmse:0.09195\ttrain-r2:0.97905\teval-rmse:0.09410\teval-r2:0.97814\n",
      "[3155]\ttrain-rmse:0.09195\ttrain-r2:0.97905\teval-rmse:0.09410\teval-r2:0.97814\n",
      "[3156]\ttrain-rmse:0.09195\ttrain-r2:0.97905\teval-rmse:0.09410\teval-r2:0.97814\n",
      "[3157]\ttrain-rmse:0.09195\ttrain-r2:0.97905\teval-rmse:0.09410\teval-r2:0.97814\n",
      "[3158]\ttrain-rmse:0.09195\ttrain-r2:0.97905\teval-rmse:0.09410\teval-r2:0.97814\n",
      "[3159]\ttrain-rmse:0.09195\ttrain-r2:0.97905\teval-rmse:0.09410\teval-r2:0.97814\n",
      "[3160]\ttrain-rmse:0.09195\ttrain-r2:0.97905\teval-rmse:0.09410\teval-r2:0.97814\n",
      "[3161]\ttrain-rmse:0.09195\ttrain-r2:0.97905\teval-rmse:0.09410\teval-r2:0.97814\n",
      "[3162]\ttrain-rmse:0.09195\ttrain-r2:0.97905\teval-rmse:0.09410\teval-r2:0.97814\n",
      "[3163]\ttrain-rmse:0.09195\ttrain-r2:0.97905\teval-rmse:0.09410\teval-r2:0.97814\n",
      "[3164]\ttrain-rmse:0.09195\ttrain-r2:0.97905\teval-rmse:0.09410\teval-r2:0.97814\n",
      "[3165]\ttrain-rmse:0.09195\ttrain-r2:0.97905\teval-rmse:0.09410\teval-r2:0.97814\n",
      "[3166]\ttrain-rmse:0.09195\ttrain-r2:0.97905\teval-rmse:0.09410\teval-r2:0.97814\n",
      "[3167]\ttrain-rmse:0.09195\ttrain-r2:0.97905\teval-rmse:0.09410\teval-r2:0.97814\n",
      "[3168]\ttrain-rmse:0.09195\ttrain-r2:0.97905\teval-rmse:0.09410\teval-r2:0.97814\n",
      "[3169]\ttrain-rmse:0.09195\ttrain-r2:0.97905\teval-rmse:0.09410\teval-r2:0.97814\n",
      "[3170]\ttrain-rmse:0.09195\ttrain-r2:0.97905\teval-rmse:0.09410\teval-r2:0.97814\n",
      "[3171]\ttrain-rmse:0.09195\ttrain-r2:0.97905\teval-rmse:0.09410\teval-r2:0.97814\n",
      "[3172]\ttrain-rmse:0.09195\ttrain-r2:0.97905\teval-rmse:0.09410\teval-r2:0.97814\n",
      "[3173]\ttrain-rmse:0.09195\ttrain-r2:0.97905\teval-rmse:0.09410\teval-r2:0.97814\n",
      "[3174]\ttrain-rmse:0.09195\ttrain-r2:0.97905\teval-rmse:0.09410\teval-r2:0.97814\n",
      "[3175]\ttrain-rmse:0.09195\ttrain-r2:0.97905\teval-rmse:0.09410\teval-r2:0.97814\n",
      "[3176]\ttrain-rmse:0.09195\ttrain-r2:0.97905\teval-rmse:0.09410\teval-r2:0.97814\n",
      "[3177]\ttrain-rmse:0.09195\ttrain-r2:0.97905\teval-rmse:0.09410\teval-r2:0.97814\n",
      "[3178]\ttrain-rmse:0.09195\ttrain-r2:0.97905\teval-rmse:0.09410\teval-r2:0.97814\n",
      "[3179]\ttrain-rmse:0.09195\ttrain-r2:0.97905\teval-rmse:0.09410\teval-r2:0.97814\n",
      "[3180]\ttrain-rmse:0.09195\ttrain-r2:0.97905\teval-rmse:0.09410\teval-r2:0.97814\n",
      "[3181]\ttrain-rmse:0.09195\ttrain-r2:0.97905\teval-rmse:0.09410\teval-r2:0.97814\n",
      "[3182]\ttrain-rmse:0.09195\ttrain-r2:0.97905\teval-rmse:0.09410\teval-r2:0.97814\n",
      "[3183]\ttrain-rmse:0.09195\ttrain-r2:0.97905\teval-rmse:0.09410\teval-r2:0.97814\n",
      "[3184]\ttrain-rmse:0.09195\ttrain-r2:0.97905\teval-rmse:0.09410\teval-r2:0.97814\n",
      "[3185]\ttrain-rmse:0.09195\ttrain-r2:0.97905\teval-rmse:0.09410\teval-r2:0.97814\n",
      "[3186]\ttrain-rmse:0.09195\ttrain-r2:0.97905\teval-rmse:0.09410\teval-r2:0.97814\n",
      "[3187]\ttrain-rmse:0.09195\ttrain-r2:0.97905\teval-rmse:0.09410\teval-r2:0.97814\n",
      "[3188]\ttrain-rmse:0.09195\ttrain-r2:0.97905\teval-rmse:0.09410\teval-r2:0.97814\n",
      "[3189]\ttrain-rmse:0.09195\ttrain-r2:0.97905\teval-rmse:0.09410\teval-r2:0.97814\n",
      "[3190]\ttrain-rmse:0.09195\ttrain-r2:0.97905\teval-rmse:0.09410\teval-r2:0.97814\n",
      "[3191]\ttrain-rmse:0.09195\ttrain-r2:0.97905\teval-rmse:0.09410\teval-r2:0.97814\n",
      "[3192]\ttrain-rmse:0.09195\ttrain-r2:0.97905\teval-rmse:0.09410\teval-r2:0.97814\n",
      "[3193]\ttrain-rmse:0.09195\ttrain-r2:0.97905\teval-rmse:0.09410\teval-r2:0.97814\n",
      "[3194]\ttrain-rmse:0.09195\ttrain-r2:0.97905\teval-rmse:0.09410\teval-r2:0.97814\n",
      "[3195]\ttrain-rmse:0.09195\ttrain-r2:0.97905\teval-rmse:0.09410\teval-r2:0.97814\n",
      "[3196]\ttrain-rmse:0.09195\ttrain-r2:0.97905\teval-rmse:0.09410\teval-r2:0.97814\n",
      "[3197]\ttrain-rmse:0.09195\ttrain-r2:0.97905\teval-rmse:0.09410\teval-r2:0.97814\n",
      "[3198]\ttrain-rmse:0.09195\ttrain-r2:0.97905\teval-rmse:0.09410\teval-r2:0.97814\n",
      "[3199]\ttrain-rmse:0.09195\ttrain-r2:0.97905\teval-rmse:0.09410\teval-r2:0.97814\n",
      "[3200]\ttrain-rmse:0.09195\ttrain-r2:0.97905\teval-rmse:0.09410\teval-r2:0.97814\n",
      "[3201]\ttrain-rmse:0.09195\ttrain-r2:0.97905\teval-rmse:0.09410\teval-r2:0.97814\n",
      "[3202]\ttrain-rmse:0.09195\ttrain-r2:0.97905\teval-rmse:0.09410\teval-r2:0.97814\n",
      "[3203]\ttrain-rmse:0.09195\ttrain-r2:0.97905\teval-rmse:0.09410\teval-r2:0.97814\n",
      "[3204]\ttrain-rmse:0.09195\ttrain-r2:0.97905\teval-rmse:0.09410\teval-r2:0.97814\n",
      "[3205]\ttrain-rmse:0.09195\ttrain-r2:0.97905\teval-rmse:0.09410\teval-r2:0.97814\n",
      "[3206]\ttrain-rmse:0.09195\ttrain-r2:0.97905\teval-rmse:0.09410\teval-r2:0.97814\n",
      "[3207]\ttrain-rmse:0.09195\ttrain-r2:0.97905\teval-rmse:0.09410\teval-r2:0.97814\n",
      "[3208]\ttrain-rmse:0.09195\ttrain-r2:0.97905\teval-rmse:0.09410\teval-r2:0.97814\n",
      "[3209]\ttrain-rmse:0.09195\ttrain-r2:0.97905\teval-rmse:0.09410\teval-r2:0.97814\n",
      "[3210]\ttrain-rmse:0.09195\ttrain-r2:0.97905\teval-rmse:0.09410\teval-r2:0.97814\n",
      "[3211]\ttrain-rmse:0.09195\ttrain-r2:0.97905\teval-rmse:0.09410\teval-r2:0.97814\n",
      "[3212]\ttrain-rmse:0.09195\ttrain-r2:0.97905\teval-rmse:0.09410\teval-r2:0.97814\n",
      "[3213]\ttrain-rmse:0.09195\ttrain-r2:0.97905\teval-rmse:0.09410\teval-r2:0.97814\n",
      "[3214]\ttrain-rmse:0.09195\ttrain-r2:0.97905\teval-rmse:0.09410\teval-r2:0.97814\n",
      "[3215]\ttrain-rmse:0.09195\ttrain-r2:0.97905\teval-rmse:0.09410\teval-r2:0.97814\n",
      "[3216]\ttrain-rmse:0.09193\ttrain-r2:0.97905\teval-rmse:0.09409\teval-r2:0.97814\n",
      "[3217]\ttrain-rmse:0.09193\ttrain-r2:0.97905\teval-rmse:0.09409\teval-r2:0.97814\n",
      "[3218]\ttrain-rmse:0.09193\ttrain-r2:0.97905\teval-rmse:0.09409\teval-r2:0.97814\n",
      "[3219]\ttrain-rmse:0.09193\ttrain-r2:0.97905\teval-rmse:0.09409\teval-r2:0.97814\n",
      "[3220]\ttrain-rmse:0.09193\ttrain-r2:0.97905\teval-rmse:0.09409\teval-r2:0.97814\n",
      "[3221]\ttrain-rmse:0.09193\ttrain-r2:0.97905\teval-rmse:0.09409\teval-r2:0.97814\n",
      "[3222]\ttrain-rmse:0.09193\ttrain-r2:0.97905\teval-rmse:0.09409\teval-r2:0.97814\n",
      "[3223]\ttrain-rmse:0.09193\ttrain-r2:0.97905\teval-rmse:0.09409\teval-r2:0.97814\n",
      "[3224]\ttrain-rmse:0.09193\ttrain-r2:0.97905\teval-rmse:0.09409\teval-r2:0.97814\n",
      "[3225]\ttrain-rmse:0.09193\ttrain-r2:0.97905\teval-rmse:0.09409\teval-r2:0.97814\n",
      "[3226]\ttrain-rmse:0.09193\ttrain-r2:0.97905\teval-rmse:0.09409\teval-r2:0.97814\n",
      "[3227]\ttrain-rmse:0.09193\ttrain-r2:0.97905\teval-rmse:0.09409\teval-r2:0.97814\n",
      "[3228]\ttrain-rmse:0.09193\ttrain-r2:0.97905\teval-rmse:0.09409\teval-r2:0.97814\n",
      "[3229]\ttrain-rmse:0.09193\ttrain-r2:0.97905\teval-rmse:0.09409\teval-r2:0.97814\n",
      "[3230]\ttrain-rmse:0.09193\ttrain-r2:0.97905\teval-rmse:0.09409\teval-r2:0.97814\n",
      "[3231]\ttrain-rmse:0.09193\ttrain-r2:0.97905\teval-rmse:0.09409\teval-r2:0.97814\n",
      "[3232]\ttrain-rmse:0.09193\ttrain-r2:0.97905\teval-rmse:0.09409\teval-r2:0.97814\n",
      "[3233]\ttrain-rmse:0.09193\ttrain-r2:0.97905\teval-rmse:0.09409\teval-r2:0.97814\n",
      "[3234]\ttrain-rmse:0.09193\ttrain-r2:0.97905\teval-rmse:0.09409\teval-r2:0.97814\n",
      "[3235]\ttrain-rmse:0.09193\ttrain-r2:0.97905\teval-rmse:0.09409\teval-r2:0.97814\n",
      "[3236]\ttrain-rmse:0.09193\ttrain-r2:0.97905\teval-rmse:0.09409\teval-r2:0.97814\n",
      "[3237]\ttrain-rmse:0.09193\ttrain-r2:0.97905\teval-rmse:0.09409\teval-r2:0.97814\n",
      "[3238]\ttrain-rmse:0.09193\ttrain-r2:0.97905\teval-rmse:0.09409\teval-r2:0.97814\n",
      "[3239]\ttrain-rmse:0.09193\ttrain-r2:0.97905\teval-rmse:0.09409\teval-r2:0.97814\n",
      "[3240]\ttrain-rmse:0.09193\ttrain-r2:0.97905\teval-rmse:0.09409\teval-r2:0.97814\n",
      "[3241]\ttrain-rmse:0.09193\ttrain-r2:0.97905\teval-rmse:0.09409\teval-r2:0.97814\n",
      "[3242]\ttrain-rmse:0.09193\ttrain-r2:0.97905\teval-rmse:0.09409\teval-r2:0.97814\n",
      "[3243]\ttrain-rmse:0.09193\ttrain-r2:0.97905\teval-rmse:0.09409\teval-r2:0.97815\n",
      "[3244]\ttrain-rmse:0.09193\ttrain-r2:0.97905\teval-rmse:0.09409\teval-r2:0.97815\n",
      "[3245]\ttrain-rmse:0.09193\ttrain-r2:0.97905\teval-rmse:0.09409\teval-r2:0.97815\n",
      "[3246]\ttrain-rmse:0.09193\ttrain-r2:0.97905\teval-rmse:0.09409\teval-r2:0.97815\n",
      "[3247]\ttrain-rmse:0.09193\ttrain-r2:0.97905\teval-rmse:0.09409\teval-r2:0.97815\n",
      "[3248]\ttrain-rmse:0.09193\ttrain-r2:0.97905\teval-rmse:0.09409\teval-r2:0.97815\n",
      "[3249]\ttrain-rmse:0.09193\ttrain-r2:0.97905\teval-rmse:0.09409\teval-r2:0.97815\n",
      "[3250]\ttrain-rmse:0.09190\ttrain-r2:0.97906\teval-rmse:0.09406\teval-r2:0.97816\n",
      "[3251]\ttrain-rmse:0.09190\ttrain-r2:0.97906\teval-rmse:0.09406\teval-r2:0.97816\n",
      "[3252]\ttrain-rmse:0.09190\ttrain-r2:0.97906\teval-rmse:0.09406\teval-r2:0.97816\n",
      "[3253]\ttrain-rmse:0.09190\ttrain-r2:0.97907\teval-rmse:0.09406\teval-r2:0.97816\n",
      "[3254]\ttrain-rmse:0.09190\ttrain-r2:0.97907\teval-rmse:0.09406\teval-r2:0.97816\n",
      "[3255]\ttrain-rmse:0.09190\ttrain-r2:0.97907\teval-rmse:0.09406\teval-r2:0.97816\n",
      "[3256]\ttrain-rmse:0.09190\ttrain-r2:0.97907\teval-rmse:0.09406\teval-r2:0.97816\n",
      "[3257]\ttrain-rmse:0.09190\ttrain-r2:0.97907\teval-rmse:0.09406\teval-r2:0.97816\n",
      "[3258]\ttrain-rmse:0.09190\ttrain-r2:0.97907\teval-rmse:0.09406\teval-r2:0.97816\n",
      "[3259]\ttrain-rmse:0.09190\ttrain-r2:0.97907\teval-rmse:0.09406\teval-r2:0.97816\n",
      "[3260]\ttrain-rmse:0.09190\ttrain-r2:0.97907\teval-rmse:0.09406\teval-r2:0.97816\n",
      "[3261]\ttrain-rmse:0.09190\ttrain-r2:0.97907\teval-rmse:0.09406\teval-r2:0.97816\n",
      "[3262]\ttrain-rmse:0.09190\ttrain-r2:0.97907\teval-rmse:0.09406\teval-r2:0.97816\n",
      "[3263]\ttrain-rmse:0.09190\ttrain-r2:0.97907\teval-rmse:0.09406\teval-r2:0.97816\n",
      "[3264]\ttrain-rmse:0.09190\ttrain-r2:0.97907\teval-rmse:0.09406\teval-r2:0.97816\n",
      "[3265]\ttrain-rmse:0.09190\ttrain-r2:0.97907\teval-rmse:0.09406\teval-r2:0.97816\n",
      "[3266]\ttrain-rmse:0.09190\ttrain-r2:0.97907\teval-rmse:0.09406\teval-r2:0.97816\n",
      "[3267]\ttrain-rmse:0.09190\ttrain-r2:0.97907\teval-rmse:0.09406\teval-r2:0.97816\n",
      "[3268]\ttrain-rmse:0.09187\ttrain-r2:0.97908\teval-rmse:0.09403\teval-r2:0.97817\n",
      "[3269]\ttrain-rmse:0.09187\ttrain-r2:0.97908\teval-rmse:0.09403\teval-r2:0.97817\n",
      "[3270]\ttrain-rmse:0.09187\ttrain-r2:0.97908\teval-rmse:0.09403\teval-r2:0.97817\n",
      "[3271]\ttrain-rmse:0.09187\ttrain-r2:0.97908\teval-rmse:0.09403\teval-r2:0.97817\n",
      "[3272]\ttrain-rmse:0.09187\ttrain-r2:0.97908\teval-rmse:0.09403\teval-r2:0.97817\n",
      "[3273]\ttrain-rmse:0.09187\ttrain-r2:0.97908\teval-rmse:0.09403\teval-r2:0.97817\n",
      "[3274]\ttrain-rmse:0.09187\ttrain-r2:0.97908\teval-rmse:0.09403\teval-r2:0.97817\n",
      "[3275]\ttrain-rmse:0.09187\ttrain-r2:0.97908\teval-rmse:0.09403\teval-r2:0.97817\n",
      "[3276]\ttrain-rmse:0.09187\ttrain-r2:0.97908\teval-rmse:0.09403\teval-r2:0.97817\n",
      "[3277]\ttrain-rmse:0.09187\ttrain-r2:0.97908\teval-rmse:0.09403\teval-r2:0.97817\n",
      "[3278]\ttrain-rmse:0.09187\ttrain-r2:0.97908\teval-rmse:0.09403\teval-r2:0.97817\n",
      "[3279]\ttrain-rmse:0.09187\ttrain-r2:0.97908\teval-rmse:0.09403\teval-r2:0.97817\n",
      "[3280]\ttrain-rmse:0.09187\ttrain-r2:0.97908\teval-rmse:0.09403\teval-r2:0.97817\n",
      "[3281]\ttrain-rmse:0.09187\ttrain-r2:0.97908\teval-rmse:0.09403\teval-r2:0.97817\n",
      "[3282]\ttrain-rmse:0.09187\ttrain-r2:0.97908\teval-rmse:0.09403\teval-r2:0.97817\n",
      "[3283]\ttrain-rmse:0.09187\ttrain-r2:0.97908\teval-rmse:0.09403\teval-r2:0.97817\n",
      "[3284]\ttrain-rmse:0.09187\ttrain-r2:0.97908\teval-rmse:0.09403\teval-r2:0.97817\n",
      "[3285]\ttrain-rmse:0.09187\ttrain-r2:0.97908\teval-rmse:0.09403\teval-r2:0.97817\n",
      "[3286]\ttrain-rmse:0.09187\ttrain-r2:0.97908\teval-rmse:0.09403\teval-r2:0.97817\n",
      "[3287]\ttrain-rmse:0.09187\ttrain-r2:0.97908\teval-rmse:0.09403\teval-r2:0.97817\n",
      "[3288]\ttrain-rmse:0.09187\ttrain-r2:0.97908\teval-rmse:0.09403\teval-r2:0.97817\n",
      "[3289]\ttrain-rmse:0.09187\ttrain-r2:0.97908\teval-rmse:0.09403\teval-r2:0.97817\n",
      "[3290]\ttrain-rmse:0.09187\ttrain-r2:0.97908\teval-rmse:0.09403\teval-r2:0.97817\n",
      "[3291]\ttrain-rmse:0.09187\ttrain-r2:0.97908\teval-rmse:0.09403\teval-r2:0.97817\n",
      "[3292]\ttrain-rmse:0.09187\ttrain-r2:0.97908\teval-rmse:0.09403\teval-r2:0.97817\n",
      "[3293]\ttrain-rmse:0.09187\ttrain-r2:0.97908\teval-rmse:0.09403\teval-r2:0.97817\n",
      "[3294]\ttrain-rmse:0.09187\ttrain-r2:0.97908\teval-rmse:0.09403\teval-r2:0.97817\n",
      "[3295]\ttrain-rmse:0.09187\ttrain-r2:0.97908\teval-rmse:0.09403\teval-r2:0.97817\n",
      "[3296]\ttrain-rmse:0.09187\ttrain-r2:0.97908\teval-rmse:0.09403\teval-r2:0.97817\n",
      "[3297]\ttrain-rmse:0.09187\ttrain-r2:0.97908\teval-rmse:0.09403\teval-r2:0.97817\n",
      "[3298]\ttrain-rmse:0.09187\ttrain-r2:0.97908\teval-rmse:0.09403\teval-r2:0.97817\n",
      "[3299]\ttrain-rmse:0.09187\ttrain-r2:0.97908\teval-rmse:0.09403\teval-r2:0.97817\n",
      "[3300]\ttrain-rmse:0.09187\ttrain-r2:0.97908\teval-rmse:0.09403\teval-r2:0.97817\n",
      "[3301]\ttrain-rmse:0.09187\ttrain-r2:0.97908\teval-rmse:0.09403\teval-r2:0.97817\n",
      "[3302]\ttrain-rmse:0.09187\ttrain-r2:0.97908\teval-rmse:0.09403\teval-r2:0.97817\n",
      "[3303]\ttrain-rmse:0.09187\ttrain-r2:0.97908\teval-rmse:0.09403\teval-r2:0.97817\n",
      "[3304]\ttrain-rmse:0.09187\ttrain-r2:0.97908\teval-rmse:0.09403\teval-r2:0.97817\n",
      "[3305]\ttrain-rmse:0.09187\ttrain-r2:0.97908\teval-rmse:0.09403\teval-r2:0.97817\n",
      "[3306]\ttrain-rmse:0.09187\ttrain-r2:0.97908\teval-rmse:0.09403\teval-r2:0.97817\n",
      "[3307]\ttrain-rmse:0.09187\ttrain-r2:0.97908\teval-rmse:0.09403\teval-r2:0.97817\n",
      "[3308]\ttrain-rmse:0.09187\ttrain-r2:0.97908\teval-rmse:0.09403\teval-r2:0.97817\n",
      "[3309]\ttrain-rmse:0.09187\ttrain-r2:0.97908\teval-rmse:0.09403\teval-r2:0.97817\n",
      "[3310]\ttrain-rmse:0.09187\ttrain-r2:0.97908\teval-rmse:0.09403\teval-r2:0.97817\n",
      "[3311]\ttrain-rmse:0.09187\ttrain-r2:0.97908\teval-rmse:0.09403\teval-r2:0.97817\n",
      "[3312]\ttrain-rmse:0.09187\ttrain-r2:0.97908\teval-rmse:0.09403\teval-r2:0.97817\n",
      "[3313]\ttrain-rmse:0.09187\ttrain-r2:0.97908\teval-rmse:0.09403\teval-r2:0.97817\n",
      "[3314]\ttrain-rmse:0.09187\ttrain-r2:0.97908\teval-rmse:0.09403\teval-r2:0.97817\n",
      "[3315]\ttrain-rmse:0.09187\ttrain-r2:0.97908\teval-rmse:0.09403\teval-r2:0.97817\n",
      "[3316]\ttrain-rmse:0.09187\ttrain-r2:0.97908\teval-rmse:0.09403\teval-r2:0.97817\n",
      "[3317]\ttrain-rmse:0.09187\ttrain-r2:0.97908\teval-rmse:0.09403\teval-r2:0.97817\n",
      "[3318]\ttrain-rmse:0.09187\ttrain-r2:0.97908\teval-rmse:0.09403\teval-r2:0.97817\n",
      "[3319]\ttrain-rmse:0.09187\ttrain-r2:0.97908\teval-rmse:0.09403\teval-r2:0.97817\n",
      "[3320]\ttrain-rmse:0.09187\ttrain-r2:0.97908\teval-rmse:0.09403\teval-r2:0.97817\n",
      "[3321]\ttrain-rmse:0.09187\ttrain-r2:0.97908\teval-rmse:0.09403\teval-r2:0.97817\n",
      "[3322]\ttrain-rmse:0.09187\ttrain-r2:0.97908\teval-rmse:0.09403\teval-r2:0.97817\n",
      "[3323]\ttrain-rmse:0.09187\ttrain-r2:0.97908\teval-rmse:0.09403\teval-r2:0.97817\n",
      "[3324]\ttrain-rmse:0.09187\ttrain-r2:0.97908\teval-rmse:0.09403\teval-r2:0.97817\n",
      "[3325]\ttrain-rmse:0.09187\ttrain-r2:0.97908\teval-rmse:0.09403\teval-r2:0.97817\n",
      "[3326]\ttrain-rmse:0.09183\ttrain-r2:0.97910\teval-rmse:0.09399\teval-r2:0.97819\n",
      "[3327]\ttrain-rmse:0.09183\ttrain-r2:0.97910\teval-rmse:0.09399\teval-r2:0.97819\n",
      "[3328]\ttrain-rmse:0.09183\ttrain-r2:0.97910\teval-rmse:0.09399\teval-r2:0.97819\n",
      "[3329]\ttrain-rmse:0.09183\ttrain-r2:0.97910\teval-rmse:0.09399\teval-r2:0.97819\n",
      "[3330]\ttrain-rmse:0.09183\ttrain-r2:0.97910\teval-rmse:0.09399\teval-r2:0.97819\n",
      "[3331]\ttrain-rmse:0.09183\ttrain-r2:0.97910\teval-rmse:0.09399\teval-r2:0.97819\n",
      "[3332]\ttrain-rmse:0.09183\ttrain-r2:0.97910\teval-rmse:0.09399\teval-r2:0.97819\n",
      "[3333]\ttrain-rmse:0.09183\ttrain-r2:0.97910\teval-rmse:0.09399\teval-r2:0.97819\n",
      "[3334]\ttrain-rmse:0.09183\ttrain-r2:0.97910\teval-rmse:0.09399\teval-r2:0.97819\n",
      "[3335]\ttrain-rmse:0.09183\ttrain-r2:0.97910\teval-rmse:0.09399\teval-r2:0.97819\n",
      "[3336]\ttrain-rmse:0.09183\ttrain-r2:0.97910\teval-rmse:0.09399\teval-r2:0.97819\n",
      "[3337]\ttrain-rmse:0.09183\ttrain-r2:0.97910\teval-rmse:0.09399\teval-r2:0.97819\n",
      "[3338]\ttrain-rmse:0.09183\ttrain-r2:0.97910\teval-rmse:0.09399\teval-r2:0.97819\n",
      "[3339]\ttrain-rmse:0.09183\ttrain-r2:0.97910\teval-rmse:0.09399\teval-r2:0.97819\n",
      "[3340]\ttrain-rmse:0.09183\ttrain-r2:0.97910\teval-rmse:0.09399\teval-r2:0.97819\n",
      "[3341]\ttrain-rmse:0.09183\ttrain-r2:0.97910\teval-rmse:0.09399\teval-r2:0.97819\n",
      "[3342]\ttrain-rmse:0.09183\ttrain-r2:0.97910\teval-rmse:0.09399\teval-r2:0.97819\n",
      "[3343]\ttrain-rmse:0.09183\ttrain-r2:0.97910\teval-rmse:0.09399\teval-r2:0.97819\n",
      "[3344]\ttrain-rmse:0.09183\ttrain-r2:0.97910\teval-rmse:0.09399\teval-r2:0.97819\n",
      "[3345]\ttrain-rmse:0.09183\ttrain-r2:0.97910\teval-rmse:0.09399\teval-r2:0.97819\n",
      "[3346]\ttrain-rmse:0.09183\ttrain-r2:0.97910\teval-rmse:0.09399\teval-r2:0.97819\n",
      "[3347]\ttrain-rmse:0.09183\ttrain-r2:0.97910\teval-rmse:0.09399\teval-r2:0.97819\n",
      "[3348]\ttrain-rmse:0.09183\ttrain-r2:0.97910\teval-rmse:0.09399\teval-r2:0.97819\n",
      "[3349]\ttrain-rmse:0.09183\ttrain-r2:0.97910\teval-rmse:0.09399\teval-r2:0.97819\n",
      "[3350]\ttrain-rmse:0.09183\ttrain-r2:0.97910\teval-rmse:0.09399\teval-r2:0.97819\n",
      "[3351]\ttrain-rmse:0.09183\ttrain-r2:0.97910\teval-rmse:0.09399\teval-r2:0.97819\n",
      "[3352]\ttrain-rmse:0.09183\ttrain-r2:0.97910\teval-rmse:0.09399\teval-r2:0.97819\n",
      "[3353]\ttrain-rmse:0.09183\ttrain-r2:0.97910\teval-rmse:0.09399\teval-r2:0.97819\n",
      "[3354]\ttrain-rmse:0.09182\ttrain-r2:0.97910\teval-rmse:0.09398\teval-r2:0.97820\n",
      "[3355]\ttrain-rmse:0.09182\ttrain-r2:0.97910\teval-rmse:0.09398\teval-r2:0.97820\n",
      "[3356]\ttrain-rmse:0.09182\ttrain-r2:0.97910\teval-rmse:0.09398\teval-r2:0.97820\n",
      "[3357]\ttrain-rmse:0.09182\ttrain-r2:0.97910\teval-rmse:0.09398\teval-r2:0.97820\n",
      "[3358]\ttrain-rmse:0.09182\ttrain-r2:0.97910\teval-rmse:0.09398\teval-r2:0.97820\n",
      "[3359]\ttrain-rmse:0.09182\ttrain-r2:0.97910\teval-rmse:0.09398\teval-r2:0.97820\n",
      "[3360]\ttrain-rmse:0.09182\ttrain-r2:0.97910\teval-rmse:0.09398\teval-r2:0.97820\n",
      "[3361]\ttrain-rmse:0.09182\ttrain-r2:0.97910\teval-rmse:0.09398\teval-r2:0.97820\n",
      "[3362]\ttrain-rmse:0.09182\ttrain-r2:0.97910\teval-rmse:0.09398\teval-r2:0.97820\n",
      "[3363]\ttrain-rmse:0.09182\ttrain-r2:0.97910\teval-rmse:0.09398\teval-r2:0.97820\n",
      "[3364]\ttrain-rmse:0.09182\ttrain-r2:0.97910\teval-rmse:0.09398\teval-r2:0.97820\n",
      "[3365]\ttrain-rmse:0.09182\ttrain-r2:0.97910\teval-rmse:0.09398\teval-r2:0.97820\n",
      "[3366]\ttrain-rmse:0.09182\ttrain-r2:0.97910\teval-rmse:0.09398\teval-r2:0.97820\n",
      "[3367]\ttrain-rmse:0.09182\ttrain-r2:0.97910\teval-rmse:0.09398\teval-r2:0.97820\n",
      "[3368]\ttrain-rmse:0.09182\ttrain-r2:0.97910\teval-rmse:0.09398\teval-r2:0.97820\n",
      "[3369]\ttrain-rmse:0.09182\ttrain-r2:0.97910\teval-rmse:0.09398\teval-r2:0.97820\n",
      "[3370]\ttrain-rmse:0.09182\ttrain-r2:0.97910\teval-rmse:0.09398\teval-r2:0.97820\n",
      "[3371]\ttrain-rmse:0.09182\ttrain-r2:0.97910\teval-rmse:0.09398\teval-r2:0.97820\n",
      "[3372]\ttrain-rmse:0.09182\ttrain-r2:0.97910\teval-rmse:0.09398\teval-r2:0.97820\n",
      "[3373]\ttrain-rmse:0.09182\ttrain-r2:0.97910\teval-rmse:0.09398\teval-r2:0.97820\n",
      "[3374]\ttrain-rmse:0.09182\ttrain-r2:0.97910\teval-rmse:0.09398\teval-r2:0.97820\n",
      "[3375]\ttrain-rmse:0.09182\ttrain-r2:0.97910\teval-rmse:0.09398\teval-r2:0.97820\n",
      "[3376]\ttrain-rmse:0.09182\ttrain-r2:0.97910\teval-rmse:0.09398\teval-r2:0.97820\n",
      "[3377]\ttrain-rmse:0.09182\ttrain-r2:0.97910\teval-rmse:0.09398\teval-r2:0.97820\n",
      "[3378]\ttrain-rmse:0.09182\ttrain-r2:0.97910\teval-rmse:0.09398\teval-r2:0.97820\n",
      "[3379]\ttrain-rmse:0.09182\ttrain-r2:0.97910\teval-rmse:0.09398\teval-r2:0.97820\n",
      "[3380]\ttrain-rmse:0.09182\ttrain-r2:0.97910\teval-rmse:0.09398\teval-r2:0.97820\n",
      "[3381]\ttrain-rmse:0.09182\ttrain-r2:0.97910\teval-rmse:0.09398\teval-r2:0.97820\n",
      "[3382]\ttrain-rmse:0.09182\ttrain-r2:0.97910\teval-rmse:0.09398\teval-r2:0.97820\n",
      "[3383]\ttrain-rmse:0.09182\ttrain-r2:0.97910\teval-rmse:0.09398\teval-r2:0.97820\n",
      "[3384]\ttrain-rmse:0.09182\ttrain-r2:0.97910\teval-rmse:0.09398\teval-r2:0.97820\n",
      "[3385]\ttrain-rmse:0.09182\ttrain-r2:0.97910\teval-rmse:0.09398\teval-r2:0.97820\n",
      "[3386]\ttrain-rmse:0.09182\ttrain-r2:0.97910\teval-rmse:0.09398\teval-r2:0.97820\n",
      "[3387]\ttrain-rmse:0.09182\ttrain-r2:0.97910\teval-rmse:0.09398\teval-r2:0.97820\n",
      "[3388]\ttrain-rmse:0.09182\ttrain-r2:0.97910\teval-rmse:0.09398\teval-r2:0.97820\n",
      "[3389]\ttrain-rmse:0.09182\ttrain-r2:0.97910\teval-rmse:0.09398\teval-r2:0.97820\n",
      "[3390]\ttrain-rmse:0.09182\ttrain-r2:0.97910\teval-rmse:0.09398\teval-r2:0.97820\n",
      "[3391]\ttrain-rmse:0.09182\ttrain-r2:0.97910\teval-rmse:0.09398\teval-r2:0.97820\n",
      "[3392]\ttrain-rmse:0.09182\ttrain-r2:0.97910\teval-rmse:0.09398\teval-r2:0.97820\n",
      "[3393]\ttrain-rmse:0.09182\ttrain-r2:0.97910\teval-rmse:0.09398\teval-r2:0.97820\n",
      "[3394]\ttrain-rmse:0.09182\ttrain-r2:0.97910\teval-rmse:0.09398\teval-r2:0.97820\n",
      "[3395]\ttrain-rmse:0.09182\ttrain-r2:0.97910\teval-rmse:0.09398\teval-r2:0.97820\n",
      "[3396]\ttrain-rmse:0.09182\ttrain-r2:0.97910\teval-rmse:0.09398\teval-r2:0.97820\n",
      "[3397]\ttrain-rmse:0.09182\ttrain-r2:0.97910\teval-rmse:0.09398\teval-r2:0.97820\n",
      "[3398]\ttrain-rmse:0.09182\ttrain-r2:0.97910\teval-rmse:0.09398\teval-r2:0.97820\n",
      "[3399]\ttrain-rmse:0.09182\ttrain-r2:0.97910\teval-rmse:0.09398\teval-r2:0.97820\n",
      "[3400]\ttrain-rmse:0.09182\ttrain-r2:0.97910\teval-rmse:0.09398\teval-r2:0.97820\n",
      "[3401]\ttrain-rmse:0.09182\ttrain-r2:0.97910\teval-rmse:0.09398\teval-r2:0.97820\n",
      "[3402]\ttrain-rmse:0.09182\ttrain-r2:0.97910\teval-rmse:0.09398\teval-r2:0.97820\n",
      "[3403]\ttrain-rmse:0.09182\ttrain-r2:0.97910\teval-rmse:0.09398\teval-r2:0.97820\n",
      "[3404]\ttrain-rmse:0.09182\ttrain-r2:0.97910\teval-rmse:0.09398\teval-r2:0.97820\n",
      "[3405]\ttrain-rmse:0.09182\ttrain-r2:0.97910\teval-rmse:0.09398\teval-r2:0.97820\n",
      "[3406]\ttrain-rmse:0.09182\ttrain-r2:0.97910\teval-rmse:0.09398\teval-r2:0.97820\n",
      "[3407]\ttrain-rmse:0.09182\ttrain-r2:0.97910\teval-rmse:0.09398\teval-r2:0.97820\n",
      "[3408]\ttrain-rmse:0.09182\ttrain-r2:0.97910\teval-rmse:0.09398\teval-r2:0.97820\n",
      "[3409]\ttrain-rmse:0.09182\ttrain-r2:0.97910\teval-rmse:0.09398\teval-r2:0.97820\n",
      "[3410]\ttrain-rmse:0.09181\ttrain-r2:0.97911\teval-rmse:0.09397\teval-r2:0.97820\n",
      "[3411]\ttrain-rmse:0.09181\ttrain-r2:0.97911\teval-rmse:0.09397\teval-r2:0.97820\n",
      "[3412]\ttrain-rmse:0.09181\ttrain-r2:0.97911\teval-rmse:0.09397\teval-r2:0.97820\n",
      "[3413]\ttrain-rmse:0.09181\ttrain-r2:0.97911\teval-rmse:0.09397\teval-r2:0.97820\n",
      "[3414]\ttrain-rmse:0.09181\ttrain-r2:0.97911\teval-rmse:0.09397\teval-r2:0.97820\n",
      "[3415]\ttrain-rmse:0.09181\ttrain-r2:0.97911\teval-rmse:0.09397\teval-r2:0.97820\n",
      "[3416]\ttrain-rmse:0.09181\ttrain-r2:0.97911\teval-rmse:0.09397\teval-r2:0.97820\n",
      "[3417]\ttrain-rmse:0.09179\ttrain-r2:0.97912\teval-rmse:0.09396\teval-r2:0.97820\n",
      "[3418]\ttrain-rmse:0.09179\ttrain-r2:0.97912\teval-rmse:0.09396\teval-r2:0.97820\n",
      "[3419]\ttrain-rmse:0.09179\ttrain-r2:0.97912\teval-rmse:0.09396\teval-r2:0.97820\n",
      "[3420]\ttrain-rmse:0.09179\ttrain-r2:0.97912\teval-rmse:0.09396\teval-r2:0.97820\n",
      "[3421]\ttrain-rmse:0.09179\ttrain-r2:0.97912\teval-rmse:0.09396\teval-r2:0.97820\n",
      "[3422]\ttrain-rmse:0.09179\ttrain-r2:0.97912\teval-rmse:0.09396\teval-r2:0.97820\n",
      "[3423]\ttrain-rmse:0.09179\ttrain-r2:0.97912\teval-rmse:0.09396\teval-r2:0.97820\n",
      "[3424]\ttrain-rmse:0.09179\ttrain-r2:0.97912\teval-rmse:0.09396\teval-r2:0.97820\n",
      "[3425]\ttrain-rmse:0.09179\ttrain-r2:0.97912\teval-rmse:0.09396\teval-r2:0.97820\n",
      "[3426]\ttrain-rmse:0.09179\ttrain-r2:0.97912\teval-rmse:0.09396\teval-r2:0.97820\n",
      "[3427]\ttrain-rmse:0.09179\ttrain-r2:0.97912\teval-rmse:0.09396\teval-r2:0.97820\n",
      "[3428]\ttrain-rmse:0.09179\ttrain-r2:0.97912\teval-rmse:0.09396\teval-r2:0.97820\n",
      "[3429]\ttrain-rmse:0.09179\ttrain-r2:0.97912\teval-rmse:0.09396\teval-r2:0.97820\n",
      "[3430]\ttrain-rmse:0.09179\ttrain-r2:0.97912\teval-rmse:0.09396\teval-r2:0.97820\n",
      "[3431]\ttrain-rmse:0.09179\ttrain-r2:0.97912\teval-rmse:0.09396\teval-r2:0.97820\n",
      "[3432]\ttrain-rmse:0.09179\ttrain-r2:0.97912\teval-rmse:0.09396\teval-r2:0.97820\n",
      "[3433]\ttrain-rmse:0.09179\ttrain-r2:0.97912\teval-rmse:0.09396\teval-r2:0.97820\n",
      "[3434]\ttrain-rmse:0.09179\ttrain-r2:0.97912\teval-rmse:0.09396\teval-r2:0.97820\n",
      "[3435]\ttrain-rmse:0.09179\ttrain-r2:0.97912\teval-rmse:0.09396\teval-r2:0.97820\n",
      "[3436]\ttrain-rmse:0.09179\ttrain-r2:0.97912\teval-rmse:0.09396\teval-r2:0.97820\n",
      "[3437]\ttrain-rmse:0.09179\ttrain-r2:0.97912\teval-rmse:0.09396\teval-r2:0.97820\n",
      "[3438]\ttrain-rmse:0.09179\ttrain-r2:0.97912\teval-rmse:0.09396\teval-r2:0.97820\n",
      "[3439]\ttrain-rmse:0.09179\ttrain-r2:0.97912\teval-rmse:0.09396\teval-r2:0.97820\n",
      "[3440]\ttrain-rmse:0.09179\ttrain-r2:0.97912\teval-rmse:0.09396\teval-r2:0.97820\n",
      "[3441]\ttrain-rmse:0.09179\ttrain-r2:0.97912\teval-rmse:0.09396\teval-r2:0.97820\n",
      "[3442]\ttrain-rmse:0.09179\ttrain-r2:0.97912\teval-rmse:0.09396\teval-r2:0.97820\n",
      "[3443]\ttrain-rmse:0.09179\ttrain-r2:0.97912\teval-rmse:0.09396\teval-r2:0.97820\n",
      "[3444]\ttrain-rmse:0.09179\ttrain-r2:0.97912\teval-rmse:0.09396\teval-r2:0.97820\n",
      "[3445]\ttrain-rmse:0.09179\ttrain-r2:0.97912\teval-rmse:0.09396\teval-r2:0.97820\n",
      "[3446]\ttrain-rmse:0.09179\ttrain-r2:0.97912\teval-rmse:0.09396\teval-r2:0.97820\n",
      "[3447]\ttrain-rmse:0.09179\ttrain-r2:0.97912\teval-rmse:0.09396\teval-r2:0.97820\n",
      "[3448]\ttrain-rmse:0.09179\ttrain-r2:0.97912\teval-rmse:0.09396\teval-r2:0.97820\n",
      "[3449]\ttrain-rmse:0.09179\ttrain-r2:0.97912\teval-rmse:0.09396\teval-r2:0.97820\n",
      "[3450]\ttrain-rmse:0.09179\ttrain-r2:0.97912\teval-rmse:0.09396\teval-r2:0.97820\n",
      "[3451]\ttrain-rmse:0.09179\ttrain-r2:0.97912\teval-rmse:0.09396\teval-r2:0.97820\n",
      "[3452]\ttrain-rmse:0.09179\ttrain-r2:0.97912\teval-rmse:0.09396\teval-r2:0.97820\n",
      "[3453]\ttrain-rmse:0.09179\ttrain-r2:0.97912\teval-rmse:0.09396\teval-r2:0.97820\n",
      "[3454]\ttrain-rmse:0.09179\ttrain-r2:0.97912\teval-rmse:0.09396\teval-r2:0.97820\n",
      "[3455]\ttrain-rmse:0.09179\ttrain-r2:0.97912\teval-rmse:0.09396\teval-r2:0.97820\n",
      "[3456]\ttrain-rmse:0.09179\ttrain-r2:0.97912\teval-rmse:0.09396\teval-r2:0.97820\n",
      "[3457]\ttrain-rmse:0.09179\ttrain-r2:0.97912\teval-rmse:0.09396\teval-r2:0.97820\n",
      "[3458]\ttrain-rmse:0.09178\ttrain-r2:0.97912\teval-rmse:0.09395\teval-r2:0.97821\n",
      "[3459]\ttrain-rmse:0.09178\ttrain-r2:0.97912\teval-rmse:0.09395\teval-r2:0.97821\n",
      "[3460]\ttrain-rmse:0.09178\ttrain-r2:0.97912\teval-rmse:0.09395\teval-r2:0.97821\n",
      "[3461]\ttrain-rmse:0.09178\ttrain-r2:0.97912\teval-rmse:0.09395\teval-r2:0.97821\n",
      "[3462]\ttrain-rmse:0.09178\ttrain-r2:0.97912\teval-rmse:0.09395\teval-r2:0.97821\n",
      "[3463]\ttrain-rmse:0.09178\ttrain-r2:0.97912\teval-rmse:0.09395\teval-r2:0.97821\n",
      "[3464]\ttrain-rmse:0.09178\ttrain-r2:0.97912\teval-rmse:0.09395\teval-r2:0.97821\n",
      "[3465]\ttrain-rmse:0.09178\ttrain-r2:0.97912\teval-rmse:0.09395\teval-r2:0.97821\n",
      "[3466]\ttrain-rmse:0.09178\ttrain-r2:0.97912\teval-rmse:0.09395\teval-r2:0.97821\n",
      "[3467]\ttrain-rmse:0.09178\ttrain-r2:0.97912\teval-rmse:0.09395\teval-r2:0.97821\n",
      "[3468]\ttrain-rmse:0.09178\ttrain-r2:0.97912\teval-rmse:0.09395\teval-r2:0.97821\n",
      "[3469]\ttrain-rmse:0.09178\ttrain-r2:0.97912\teval-rmse:0.09395\teval-r2:0.97821\n",
      "[3470]\ttrain-rmse:0.09178\ttrain-r2:0.97912\teval-rmse:0.09395\teval-r2:0.97821\n",
      "[3471]\ttrain-rmse:0.09178\ttrain-r2:0.97912\teval-rmse:0.09395\teval-r2:0.97821\n",
      "[3472]\ttrain-rmse:0.09178\ttrain-r2:0.97912\teval-rmse:0.09395\teval-r2:0.97821\n",
      "[3473]\ttrain-rmse:0.09178\ttrain-r2:0.97912\teval-rmse:0.09395\teval-r2:0.97821\n",
      "[3474]\ttrain-rmse:0.09178\ttrain-r2:0.97912\teval-rmse:0.09395\teval-r2:0.97821\n",
      "[3475]\ttrain-rmse:0.09178\ttrain-r2:0.97912\teval-rmse:0.09395\teval-r2:0.97821\n",
      "[3476]\ttrain-rmse:0.09178\ttrain-r2:0.97912\teval-rmse:0.09395\teval-r2:0.97821\n",
      "[3477]\ttrain-rmse:0.09178\ttrain-r2:0.97912\teval-rmse:0.09395\teval-r2:0.97821\n",
      "[3478]\ttrain-rmse:0.09178\ttrain-r2:0.97912\teval-rmse:0.09395\teval-r2:0.97821\n",
      "[3479]\ttrain-rmse:0.09178\ttrain-r2:0.97912\teval-rmse:0.09395\teval-r2:0.97821\n",
      "[3480]\ttrain-rmse:0.09178\ttrain-r2:0.97912\teval-rmse:0.09395\teval-r2:0.97821\n",
      "[3481]\ttrain-rmse:0.09178\ttrain-r2:0.97912\teval-rmse:0.09395\teval-r2:0.97821\n",
      "[3482]\ttrain-rmse:0.09178\ttrain-r2:0.97912\teval-rmse:0.09395\teval-r2:0.97821\n",
      "[3483]\ttrain-rmse:0.09178\ttrain-r2:0.97912\teval-rmse:0.09395\teval-r2:0.97821\n",
      "[3484]\ttrain-rmse:0.09178\ttrain-r2:0.97912\teval-rmse:0.09395\teval-r2:0.97821\n",
      "[3485]\ttrain-rmse:0.09178\ttrain-r2:0.97912\teval-rmse:0.09395\teval-r2:0.97821\n",
      "[3486]\ttrain-rmse:0.09178\ttrain-r2:0.97912\teval-rmse:0.09395\teval-r2:0.97821\n",
      "[3487]\ttrain-rmse:0.09178\ttrain-r2:0.97912\teval-rmse:0.09395\teval-r2:0.97821\n",
      "[3488]\ttrain-rmse:0.09178\ttrain-r2:0.97912\teval-rmse:0.09395\teval-r2:0.97821\n",
      "[3489]\ttrain-rmse:0.09177\ttrain-r2:0.97912\teval-rmse:0.09394\teval-r2:0.97821\n",
      "[3490]\ttrain-rmse:0.09177\ttrain-r2:0.97912\teval-rmse:0.09394\teval-r2:0.97821\n",
      "[3491]\ttrain-rmse:0.09177\ttrain-r2:0.97912\teval-rmse:0.09394\teval-r2:0.97821\n",
      "[3492]\ttrain-rmse:0.09177\ttrain-r2:0.97912\teval-rmse:0.09394\teval-r2:0.97821\n",
      "[3493]\ttrain-rmse:0.09177\ttrain-r2:0.97912\teval-rmse:0.09394\teval-r2:0.97821\n",
      "[3494]\ttrain-rmse:0.09177\ttrain-r2:0.97912\teval-rmse:0.09394\teval-r2:0.97821\n",
      "[3495]\ttrain-rmse:0.09177\ttrain-r2:0.97912\teval-rmse:0.09394\teval-r2:0.97821\n",
      "[3496]\ttrain-rmse:0.09177\ttrain-r2:0.97912\teval-rmse:0.09394\teval-r2:0.97821\n",
      "[3497]\ttrain-rmse:0.09177\ttrain-r2:0.97912\teval-rmse:0.09394\teval-r2:0.97821\n",
      "[3498]\ttrain-rmse:0.09177\ttrain-r2:0.97912\teval-rmse:0.09394\teval-r2:0.97821\n",
      "[3499]\ttrain-rmse:0.09177\ttrain-r2:0.97912\teval-rmse:0.09394\teval-r2:0.97821\n",
      "[3500]\ttrain-rmse:0.09177\ttrain-r2:0.97912\teval-rmse:0.09394\teval-r2:0.97821\n",
      "[3501]\ttrain-rmse:0.09177\ttrain-r2:0.97912\teval-rmse:0.09394\teval-r2:0.97821\n",
      "[3502]\ttrain-rmse:0.09177\ttrain-r2:0.97912\teval-rmse:0.09394\teval-r2:0.97821\n",
      "[3503]\ttrain-rmse:0.09177\ttrain-r2:0.97912\teval-rmse:0.09394\teval-r2:0.97821\n",
      "[3504]\ttrain-rmse:0.09177\ttrain-r2:0.97912\teval-rmse:0.09394\teval-r2:0.97821\n",
      "[3505]\ttrain-rmse:0.09177\ttrain-r2:0.97912\teval-rmse:0.09394\teval-r2:0.97821\n",
      "[3506]\ttrain-rmse:0.09177\ttrain-r2:0.97912\teval-rmse:0.09394\teval-r2:0.97821\n",
      "[3507]\ttrain-rmse:0.09176\ttrain-r2:0.97913\teval-rmse:0.09393\teval-r2:0.97822\n",
      "[3508]\ttrain-rmse:0.09176\ttrain-r2:0.97913\teval-rmse:0.09393\teval-r2:0.97822\n",
      "[3509]\ttrain-rmse:0.09176\ttrain-r2:0.97913\teval-rmse:0.09393\teval-r2:0.97822\n",
      "[3510]\ttrain-rmse:0.09176\ttrain-r2:0.97913\teval-rmse:0.09393\teval-r2:0.97822\n",
      "[3511]\ttrain-rmse:0.09176\ttrain-r2:0.97913\teval-rmse:0.09393\teval-r2:0.97822\n",
      "[3512]\ttrain-rmse:0.09176\ttrain-r2:0.97913\teval-rmse:0.09393\teval-r2:0.97822\n",
      "[3513]\ttrain-rmse:0.09176\ttrain-r2:0.97913\teval-rmse:0.09393\teval-r2:0.97822\n",
      "[3514]\ttrain-rmse:0.09176\ttrain-r2:0.97913\teval-rmse:0.09393\teval-r2:0.97822\n",
      "[3515]\ttrain-rmse:0.09176\ttrain-r2:0.97913\teval-rmse:0.09393\teval-r2:0.97822\n",
      "[3516]\ttrain-rmse:0.09176\ttrain-r2:0.97913\teval-rmse:0.09393\teval-r2:0.97822\n",
      "[3517]\ttrain-rmse:0.09176\ttrain-r2:0.97913\teval-rmse:0.09393\teval-r2:0.97822\n",
      "[3518]\ttrain-rmse:0.09176\ttrain-r2:0.97913\teval-rmse:0.09393\teval-r2:0.97822\n",
      "[3519]\ttrain-rmse:0.09176\ttrain-r2:0.97913\teval-rmse:0.09393\teval-r2:0.97822\n",
      "[3520]\ttrain-rmse:0.09176\ttrain-r2:0.97913\teval-rmse:0.09393\teval-r2:0.97822\n",
      "[3521]\ttrain-rmse:0.09176\ttrain-r2:0.97913\teval-rmse:0.09393\teval-r2:0.97822\n",
      "[3522]\ttrain-rmse:0.09176\ttrain-r2:0.97913\teval-rmse:0.09393\teval-r2:0.97822\n",
      "[3523]\ttrain-rmse:0.09176\ttrain-r2:0.97913\teval-rmse:0.09393\teval-r2:0.97822\n",
      "[3524]\ttrain-rmse:0.09176\ttrain-r2:0.97913\teval-rmse:0.09393\teval-r2:0.97822\n",
      "[3525]\ttrain-rmse:0.09176\ttrain-r2:0.97913\teval-rmse:0.09393\teval-r2:0.97822\n",
      "[3526]\ttrain-rmse:0.09176\ttrain-r2:0.97913\teval-rmse:0.09393\teval-r2:0.97822\n",
      "[3527]\ttrain-rmse:0.09176\ttrain-r2:0.97913\teval-rmse:0.09393\teval-r2:0.97822\n",
      "[3528]\ttrain-rmse:0.09176\ttrain-r2:0.97913\teval-rmse:0.09393\teval-r2:0.97822\n",
      "[3529]\ttrain-rmse:0.09176\ttrain-r2:0.97913\teval-rmse:0.09393\teval-r2:0.97822\n",
      "[3530]\ttrain-rmse:0.09176\ttrain-r2:0.97913\teval-rmse:0.09393\teval-r2:0.97822\n",
      "[3531]\ttrain-rmse:0.09176\ttrain-r2:0.97913\teval-rmse:0.09392\teval-r2:0.97822\n",
      "[3532]\ttrain-rmse:0.09176\ttrain-r2:0.97913\teval-rmse:0.09392\teval-r2:0.97822\n",
      "[3533]\ttrain-rmse:0.09176\ttrain-r2:0.97913\teval-rmse:0.09392\teval-r2:0.97822\n",
      "[3534]\ttrain-rmse:0.09176\ttrain-r2:0.97913\teval-rmse:0.09392\teval-r2:0.97822\n",
      "[3535]\ttrain-rmse:0.09176\ttrain-r2:0.97913\teval-rmse:0.09392\teval-r2:0.97822\n",
      "[3536]\ttrain-rmse:0.09176\ttrain-r2:0.97913\teval-rmse:0.09392\teval-r2:0.97822\n",
      "[3537]\ttrain-rmse:0.09176\ttrain-r2:0.97913\teval-rmse:0.09392\teval-r2:0.97822\n",
      "[3538]\ttrain-rmse:0.09176\ttrain-r2:0.97913\teval-rmse:0.09392\teval-r2:0.97822\n",
      "[3539]\ttrain-rmse:0.09176\ttrain-r2:0.97913\teval-rmse:0.09392\teval-r2:0.97822\n",
      "[3540]\ttrain-rmse:0.09176\ttrain-r2:0.97913\teval-rmse:0.09392\teval-r2:0.97822\n",
      "[3541]\ttrain-rmse:0.09176\ttrain-r2:0.97913\teval-rmse:0.09392\teval-r2:0.97822\n",
      "[3542]\ttrain-rmse:0.09176\ttrain-r2:0.97913\teval-rmse:0.09392\teval-r2:0.97822\n",
      "[3543]\ttrain-rmse:0.09176\ttrain-r2:0.97913\teval-rmse:0.09392\teval-r2:0.97822\n",
      "[3544]\ttrain-rmse:0.09176\ttrain-r2:0.97913\teval-rmse:0.09392\teval-r2:0.97822\n",
      "[3545]\ttrain-rmse:0.09176\ttrain-r2:0.97913\teval-rmse:0.09392\teval-r2:0.97822\n",
      "[3546]\ttrain-rmse:0.09176\ttrain-r2:0.97913\teval-rmse:0.09392\teval-r2:0.97822\n",
      "[3547]\ttrain-rmse:0.09176\ttrain-r2:0.97913\teval-rmse:0.09392\teval-r2:0.97822\n",
      "[3548]\ttrain-rmse:0.09176\ttrain-r2:0.97913\teval-rmse:0.09392\teval-r2:0.97822\n",
      "[3549]\ttrain-rmse:0.09176\ttrain-r2:0.97913\teval-rmse:0.09392\teval-r2:0.97822\n",
      "[3550]\ttrain-rmse:0.09176\ttrain-r2:0.97913\teval-rmse:0.09392\teval-r2:0.97822\n",
      "[3551]\ttrain-rmse:0.09176\ttrain-r2:0.97913\teval-rmse:0.09392\teval-r2:0.97822\n",
      "[3552]\ttrain-rmse:0.09176\ttrain-r2:0.97913\teval-rmse:0.09392\teval-r2:0.97822\n",
      "[3553]\ttrain-rmse:0.09176\ttrain-r2:0.97913\teval-rmse:0.09392\teval-r2:0.97822\n",
      "[3554]\ttrain-rmse:0.09176\ttrain-r2:0.97913\teval-rmse:0.09392\teval-r2:0.97822\n",
      "[3555]\ttrain-rmse:0.09176\ttrain-r2:0.97913\teval-rmse:0.09392\teval-r2:0.97822\n",
      "[3556]\ttrain-rmse:0.09176\ttrain-r2:0.97913\teval-rmse:0.09392\teval-r2:0.97822\n",
      "[3557]\ttrain-rmse:0.09176\ttrain-r2:0.97913\teval-rmse:0.09392\teval-r2:0.97822\n",
      "[3558]\ttrain-rmse:0.09176\ttrain-r2:0.97913\teval-rmse:0.09392\teval-r2:0.97822\n",
      "[3559]\ttrain-rmse:0.09176\ttrain-r2:0.97913\teval-rmse:0.09392\teval-r2:0.97822\n",
      "[3560]\ttrain-rmse:0.09176\ttrain-r2:0.97913\teval-rmse:0.09392\teval-r2:0.97822\n",
      "[3561]\ttrain-rmse:0.09176\ttrain-r2:0.97913\teval-rmse:0.09392\teval-r2:0.97822\n",
      "[3562]\ttrain-rmse:0.09176\ttrain-r2:0.97913\teval-rmse:0.09392\teval-r2:0.97822\n",
      "[3563]\ttrain-rmse:0.09176\ttrain-r2:0.97913\teval-rmse:0.09392\teval-r2:0.97822\n",
      "[3564]\ttrain-rmse:0.09176\ttrain-r2:0.97913\teval-rmse:0.09392\teval-r2:0.97822\n",
      "[3565]\ttrain-rmse:0.09176\ttrain-r2:0.97913\teval-rmse:0.09392\teval-r2:0.97822\n",
      "[3566]\ttrain-rmse:0.09176\ttrain-r2:0.97913\teval-rmse:0.09392\teval-r2:0.97822\n",
      "[3567]\ttrain-rmse:0.09176\ttrain-r2:0.97913\teval-rmse:0.09392\teval-r2:0.97822\n",
      "[3568]\ttrain-rmse:0.09176\ttrain-r2:0.97913\teval-rmse:0.09392\teval-r2:0.97822\n",
      "[3569]\ttrain-rmse:0.09176\ttrain-r2:0.97913\teval-rmse:0.09392\teval-r2:0.97822\n",
      "[3570]\ttrain-rmse:0.09176\ttrain-r2:0.97913\teval-rmse:0.09392\teval-r2:0.97822\n",
      "[3571]\ttrain-rmse:0.09176\ttrain-r2:0.97913\teval-rmse:0.09392\teval-r2:0.97822\n",
      "[3572]\ttrain-rmse:0.09176\ttrain-r2:0.97913\teval-rmse:0.09392\teval-r2:0.97822\n",
      "[3573]\ttrain-rmse:0.09176\ttrain-r2:0.97913\teval-rmse:0.09392\teval-r2:0.97822\n",
      "[3574]\ttrain-rmse:0.09176\ttrain-r2:0.97913\teval-rmse:0.09392\teval-r2:0.97822\n",
      "[3575]\ttrain-rmse:0.09176\ttrain-r2:0.97913\teval-rmse:0.09392\teval-r2:0.97822\n",
      "[3576]\ttrain-rmse:0.09176\ttrain-r2:0.97913\teval-rmse:0.09392\teval-r2:0.97822\n",
      "[3577]\ttrain-rmse:0.09176\ttrain-r2:0.97913\teval-rmse:0.09392\teval-r2:0.97822\n",
      "[3578]\ttrain-rmse:0.09175\ttrain-r2:0.97913\teval-rmse:0.09392\teval-r2:0.97822\n",
      "[3579]\ttrain-rmse:0.09175\ttrain-r2:0.97913\teval-rmse:0.09392\teval-r2:0.97822\n",
      "[3580]\ttrain-rmse:0.09175\ttrain-r2:0.97913\teval-rmse:0.09392\teval-r2:0.97822\n",
      "[3581]\ttrain-rmse:0.09175\ttrain-r2:0.97913\teval-rmse:0.09392\teval-r2:0.97822\n",
      "[3582]\ttrain-rmse:0.09175\ttrain-r2:0.97913\teval-rmse:0.09392\teval-r2:0.97822\n",
      "[3583]\ttrain-rmse:0.09175\ttrain-r2:0.97913\teval-rmse:0.09392\teval-r2:0.97822\n",
      "[3584]\ttrain-rmse:0.09175\ttrain-r2:0.97913\teval-rmse:0.09392\teval-r2:0.97822\n",
      "[3585]\ttrain-rmse:0.09175\ttrain-r2:0.97913\teval-rmse:0.09392\teval-r2:0.97822\n",
      "[3586]\ttrain-rmse:0.09175\ttrain-r2:0.97913\teval-rmse:0.09392\teval-r2:0.97822\n",
      "[3587]\ttrain-rmse:0.09175\ttrain-r2:0.97913\teval-rmse:0.09392\teval-r2:0.97822\n",
      "[3588]\ttrain-rmse:0.09175\ttrain-r2:0.97913\teval-rmse:0.09392\teval-r2:0.97822\n",
      "[3589]\ttrain-rmse:0.09175\ttrain-r2:0.97913\teval-rmse:0.09392\teval-r2:0.97822\n",
      "[3590]\ttrain-rmse:0.09175\ttrain-r2:0.97913\teval-rmse:0.09392\teval-r2:0.97822\n",
      "[3591]\ttrain-rmse:0.09175\ttrain-r2:0.97913\teval-rmse:0.09392\teval-r2:0.97822\n",
      "[3592]\ttrain-rmse:0.09175\ttrain-r2:0.97913\teval-rmse:0.09392\teval-r2:0.97822\n",
      "[3593]\ttrain-rmse:0.09175\ttrain-r2:0.97913\teval-rmse:0.09392\teval-r2:0.97822\n",
      "[3594]\ttrain-rmse:0.09175\ttrain-r2:0.97913\teval-rmse:0.09392\teval-r2:0.97822\n",
      "[3595]\ttrain-rmse:0.09175\ttrain-r2:0.97913\teval-rmse:0.09392\teval-r2:0.97822\n",
      "[3596]\ttrain-rmse:0.09175\ttrain-r2:0.97913\teval-rmse:0.09392\teval-r2:0.97822\n",
      "[3597]\ttrain-rmse:0.09175\ttrain-r2:0.97913\teval-rmse:0.09392\teval-r2:0.97822\n",
      "[3598]\ttrain-rmse:0.09175\ttrain-r2:0.97913\teval-rmse:0.09392\teval-r2:0.97822\n",
      "[3599]\ttrain-rmse:0.09175\ttrain-r2:0.97913\teval-rmse:0.09392\teval-r2:0.97822\n",
      "[3600]\ttrain-rmse:0.09175\ttrain-r2:0.97913\teval-rmse:0.09392\teval-r2:0.97822\n",
      "[3601]\ttrain-rmse:0.09175\ttrain-r2:0.97913\teval-rmse:0.09392\teval-r2:0.97822\n",
      "[3602]\ttrain-rmse:0.09175\ttrain-r2:0.97913\teval-rmse:0.09392\teval-r2:0.97822\n",
      "[3603]\ttrain-rmse:0.09175\ttrain-r2:0.97913\teval-rmse:0.09392\teval-r2:0.97822\n",
      "[3604]\ttrain-rmse:0.09175\ttrain-r2:0.97913\teval-rmse:0.09392\teval-r2:0.97822\n",
      "[3605]\ttrain-rmse:0.09175\ttrain-r2:0.97913\teval-rmse:0.09392\teval-r2:0.97822\n",
      "[3606]\ttrain-rmse:0.09175\ttrain-r2:0.97913\teval-rmse:0.09392\teval-r2:0.97822\n",
      "[3607]\ttrain-rmse:0.09175\ttrain-r2:0.97913\teval-rmse:0.09392\teval-r2:0.97822\n",
      "[3608]\ttrain-rmse:0.09175\ttrain-r2:0.97913\teval-rmse:0.09392\teval-r2:0.97822\n",
      "[3609]\ttrain-rmse:0.09175\ttrain-r2:0.97913\teval-rmse:0.09392\teval-r2:0.97822\n",
      "[3610]\ttrain-rmse:0.09175\ttrain-r2:0.97913\teval-rmse:0.09392\teval-r2:0.97822\n",
      "[3611]\ttrain-rmse:0.09175\ttrain-r2:0.97913\teval-rmse:0.09392\teval-r2:0.97822\n",
      "[3612]\ttrain-rmse:0.09175\ttrain-r2:0.97913\teval-rmse:0.09392\teval-r2:0.97822\n",
      "[3613]\ttrain-rmse:0.09175\ttrain-r2:0.97913\teval-rmse:0.09392\teval-r2:0.97822\n",
      "[3614]\ttrain-rmse:0.09175\ttrain-r2:0.97913\teval-rmse:0.09392\teval-r2:0.97822\n",
      "[3615]\ttrain-rmse:0.09175\ttrain-r2:0.97913\teval-rmse:0.09392\teval-r2:0.97822\n",
      "[3616]\ttrain-rmse:0.09175\ttrain-r2:0.97913\teval-rmse:0.09392\teval-r2:0.97822\n",
      "[3617]\ttrain-rmse:0.09175\ttrain-r2:0.97913\teval-rmse:0.09392\teval-r2:0.97822\n",
      "[3618]\ttrain-rmse:0.09175\ttrain-r2:0.97913\teval-rmse:0.09392\teval-r2:0.97822\n",
      "[3619]\ttrain-rmse:0.09175\ttrain-r2:0.97913\teval-rmse:0.09392\teval-r2:0.97822\n",
      "[3620]\ttrain-rmse:0.09175\ttrain-r2:0.97913\teval-rmse:0.09392\teval-r2:0.97822\n",
      "[3621]\ttrain-rmse:0.09175\ttrain-r2:0.97913\teval-rmse:0.09392\teval-r2:0.97822\n",
      "[3622]\ttrain-rmse:0.09175\ttrain-r2:0.97913\teval-rmse:0.09392\teval-r2:0.97822\n",
      "[3623]\ttrain-rmse:0.09175\ttrain-r2:0.97913\teval-rmse:0.09392\teval-r2:0.97822\n",
      "[3624]\ttrain-rmse:0.09175\ttrain-r2:0.97913\teval-rmse:0.09392\teval-r2:0.97822\n",
      "[3625]\ttrain-rmse:0.09175\ttrain-r2:0.97913\teval-rmse:0.09392\teval-r2:0.97822\n",
      "[3626]\ttrain-rmse:0.09175\ttrain-r2:0.97913\teval-rmse:0.09392\teval-r2:0.97822\n",
      "[3627]\ttrain-rmse:0.09175\ttrain-r2:0.97913\teval-rmse:0.09392\teval-r2:0.97822\n",
      "[3628]\ttrain-rmse:0.09175\ttrain-r2:0.97913\teval-rmse:0.09392\teval-r2:0.97822\n",
      "[3629]\ttrain-rmse:0.09175\ttrain-r2:0.97913\teval-rmse:0.09392\teval-r2:0.97822\n",
      "[3630]\ttrain-rmse:0.09175\ttrain-r2:0.97913\teval-rmse:0.09392\teval-r2:0.97822\n",
      "[3631]\ttrain-rmse:0.09175\ttrain-r2:0.97913\teval-rmse:0.09392\teval-r2:0.97822\n",
      "[3632]\ttrain-rmse:0.09175\ttrain-r2:0.97913\teval-rmse:0.09392\teval-r2:0.97822\n",
      "[3633]\ttrain-rmse:0.09175\ttrain-r2:0.97913\teval-rmse:0.09392\teval-r2:0.97822\n",
      "[3634]\ttrain-rmse:0.09175\ttrain-r2:0.97913\teval-rmse:0.09392\teval-r2:0.97822\n",
      "[3635]\ttrain-rmse:0.09175\ttrain-r2:0.97913\teval-rmse:0.09392\teval-r2:0.97822\n",
      "[3636]\ttrain-rmse:0.09175\ttrain-r2:0.97913\teval-rmse:0.09392\teval-r2:0.97822\n",
      "[3637]\ttrain-rmse:0.09175\ttrain-r2:0.97913\teval-rmse:0.09392\teval-r2:0.97822\n",
      "[3638]\ttrain-rmse:0.09175\ttrain-r2:0.97913\teval-rmse:0.09392\teval-r2:0.97822\n",
      "[3639]\ttrain-rmse:0.09175\ttrain-r2:0.97913\teval-rmse:0.09392\teval-r2:0.97822\n",
      "[3640]\ttrain-rmse:0.09175\ttrain-r2:0.97913\teval-rmse:0.09392\teval-r2:0.97822\n",
      "[3641]\ttrain-rmse:0.09175\ttrain-r2:0.97913\teval-rmse:0.09392\teval-r2:0.97822\n",
      "[3642]\ttrain-rmse:0.09175\ttrain-r2:0.97913\teval-rmse:0.09392\teval-r2:0.97822\n",
      "[3643]\ttrain-rmse:0.09175\ttrain-r2:0.97914\teval-rmse:0.09392\teval-r2:0.97822\n",
      "[3644]\ttrain-rmse:0.09175\ttrain-r2:0.97914\teval-rmse:0.09392\teval-r2:0.97822\n",
      "[3645]\ttrain-rmse:0.09175\ttrain-r2:0.97914\teval-rmse:0.09392\teval-r2:0.97822\n",
      "[3646]\ttrain-rmse:0.09175\ttrain-r2:0.97914\teval-rmse:0.09392\teval-r2:0.97822\n",
      "[3647]\ttrain-rmse:0.09175\ttrain-r2:0.97914\teval-rmse:0.09392\teval-r2:0.97822\n",
      "[3648]\ttrain-rmse:0.09175\ttrain-r2:0.97914\teval-rmse:0.09392\teval-r2:0.97822\n",
      "[3649]\ttrain-rmse:0.09175\ttrain-r2:0.97914\teval-rmse:0.09392\teval-r2:0.97822\n",
      "[3650]\ttrain-rmse:0.09175\ttrain-r2:0.97914\teval-rmse:0.09392\teval-r2:0.97822\n",
      "[3651]\ttrain-rmse:0.09175\ttrain-r2:0.97914\teval-rmse:0.09392\teval-r2:0.97822\n",
      "[3652]\ttrain-rmse:0.09175\ttrain-r2:0.97914\teval-rmse:0.09392\teval-r2:0.97822\n",
      "[3653]\ttrain-rmse:0.09175\ttrain-r2:0.97914\teval-rmse:0.09392\teval-r2:0.97822\n",
      "[3654]\ttrain-rmse:0.09175\ttrain-r2:0.97914\teval-rmse:0.09392\teval-r2:0.97822\n",
      "[3655]\ttrain-rmse:0.09175\ttrain-r2:0.97914\teval-rmse:0.09392\teval-r2:0.97822\n",
      "[3656]\ttrain-rmse:0.09175\ttrain-r2:0.97914\teval-rmse:0.09392\teval-r2:0.97822\n",
      "[3657]\ttrain-rmse:0.09175\ttrain-r2:0.97914\teval-rmse:0.09392\teval-r2:0.97822\n",
      "[3658]\ttrain-rmse:0.09175\ttrain-r2:0.97914\teval-rmse:0.09392\teval-r2:0.97822\n",
      "[3659]\ttrain-rmse:0.09175\ttrain-r2:0.97914\teval-rmse:0.09392\teval-r2:0.97822\n",
      "[3660]\ttrain-rmse:0.09175\ttrain-r2:0.97914\teval-rmse:0.09392\teval-r2:0.97822\n",
      "[3661]\ttrain-rmse:0.09175\ttrain-r2:0.97914\teval-rmse:0.09392\teval-r2:0.97822\n",
      "[3662]\ttrain-rmse:0.09175\ttrain-r2:0.97914\teval-rmse:0.09392\teval-r2:0.97822\n",
      "[3663]\ttrain-rmse:0.09175\ttrain-r2:0.97914\teval-rmse:0.09392\teval-r2:0.97822\n",
      "[3664]\ttrain-rmse:0.09175\ttrain-r2:0.97914\teval-rmse:0.09392\teval-r2:0.97822\n",
      "[3665]\ttrain-rmse:0.09175\ttrain-r2:0.97914\teval-rmse:0.09392\teval-r2:0.97822\n",
      "[3666]\ttrain-rmse:0.09175\ttrain-r2:0.97914\teval-rmse:0.09392\teval-r2:0.97822\n",
      "[3667]\ttrain-rmse:0.09175\ttrain-r2:0.97914\teval-rmse:0.09392\teval-r2:0.97822\n",
      "[3668]\ttrain-rmse:0.09175\ttrain-r2:0.97914\teval-rmse:0.09392\teval-r2:0.97822\n",
      "[3669]\ttrain-rmse:0.09175\ttrain-r2:0.97914\teval-rmse:0.09392\teval-r2:0.97822\n",
      "[3670]\ttrain-rmse:0.09175\ttrain-r2:0.97914\teval-rmse:0.09392\teval-r2:0.97822\n",
      "[3671]\ttrain-rmse:0.09175\ttrain-r2:0.97914\teval-rmse:0.09392\teval-r2:0.97822\n",
      "[3672]\ttrain-rmse:0.09175\ttrain-r2:0.97914\teval-rmse:0.09392\teval-r2:0.97822\n",
      "[3673]\ttrain-rmse:0.09174\ttrain-r2:0.97914\teval-rmse:0.09391\teval-r2:0.97823\n",
      "[3674]\ttrain-rmse:0.09174\ttrain-r2:0.97914\teval-rmse:0.09391\teval-r2:0.97823\n",
      "[3675]\ttrain-rmse:0.09174\ttrain-r2:0.97914\teval-rmse:0.09391\teval-r2:0.97823\n",
      "[3676]\ttrain-rmse:0.09174\ttrain-r2:0.97914\teval-rmse:0.09391\teval-r2:0.97823\n",
      "[3677]\ttrain-rmse:0.09174\ttrain-r2:0.97914\teval-rmse:0.09391\teval-r2:0.97823\n",
      "[3678]\ttrain-rmse:0.09174\ttrain-r2:0.97914\teval-rmse:0.09391\teval-r2:0.97823\n",
      "[3679]\ttrain-rmse:0.09174\ttrain-r2:0.97914\teval-rmse:0.09391\teval-r2:0.97823\n",
      "[3680]\ttrain-rmse:0.09174\ttrain-r2:0.97914\teval-rmse:0.09391\teval-r2:0.97823\n",
      "[3681]\ttrain-rmse:0.09174\ttrain-r2:0.97914\teval-rmse:0.09391\teval-r2:0.97823\n",
      "[3682]\ttrain-rmse:0.09174\ttrain-r2:0.97914\teval-rmse:0.09391\teval-r2:0.97823\n",
      "[3683]\ttrain-rmse:0.09174\ttrain-r2:0.97914\teval-rmse:0.09391\teval-r2:0.97823\n",
      "[3684]\ttrain-rmse:0.09174\ttrain-r2:0.97914\teval-rmse:0.09391\teval-r2:0.97823\n",
      "[3685]\ttrain-rmse:0.09174\ttrain-r2:0.97914\teval-rmse:0.09391\teval-r2:0.97823\n",
      "[3686]\ttrain-rmse:0.09174\ttrain-r2:0.97914\teval-rmse:0.09391\teval-r2:0.97823\n",
      "[3687]\ttrain-rmse:0.09174\ttrain-r2:0.97914\teval-rmse:0.09391\teval-r2:0.97823\n",
      "[3688]\ttrain-rmse:0.09174\ttrain-r2:0.97914\teval-rmse:0.09391\teval-r2:0.97823\n",
      "[3689]\ttrain-rmse:0.09174\ttrain-r2:0.97914\teval-rmse:0.09391\teval-r2:0.97823\n",
      "[3690]\ttrain-rmse:0.09174\ttrain-r2:0.97914\teval-rmse:0.09391\teval-r2:0.97823\n",
      "[3691]\ttrain-rmse:0.09174\ttrain-r2:0.97914\teval-rmse:0.09391\teval-r2:0.97823\n",
      "[3692]\ttrain-rmse:0.09174\ttrain-r2:0.97914\teval-rmse:0.09391\teval-r2:0.97823\n",
      "[3693]\ttrain-rmse:0.09174\ttrain-r2:0.97914\teval-rmse:0.09391\teval-r2:0.97823\n",
      "[3694]\ttrain-rmse:0.09174\ttrain-r2:0.97914\teval-rmse:0.09391\teval-r2:0.97823\n",
      "[3695]\ttrain-rmse:0.09174\ttrain-r2:0.97914\teval-rmse:0.09391\teval-r2:0.97823\n",
      "[3696]\ttrain-rmse:0.09174\ttrain-r2:0.97914\teval-rmse:0.09391\teval-r2:0.97823\n",
      "[3697]\ttrain-rmse:0.09174\ttrain-r2:0.97914\teval-rmse:0.09391\teval-r2:0.97823\n",
      "[3698]\ttrain-rmse:0.09174\ttrain-r2:0.97914\teval-rmse:0.09391\teval-r2:0.97823\n",
      "[3699]\ttrain-rmse:0.09174\ttrain-r2:0.97914\teval-rmse:0.09391\teval-r2:0.97823\n",
      "[3700]\ttrain-rmse:0.09174\ttrain-r2:0.97914\teval-rmse:0.09391\teval-r2:0.97823\n",
      "[3701]\ttrain-rmse:0.09174\ttrain-r2:0.97914\teval-rmse:0.09391\teval-r2:0.97823\n",
      "[3702]\ttrain-rmse:0.09174\ttrain-r2:0.97914\teval-rmse:0.09391\teval-r2:0.97823\n",
      "[3703]\ttrain-rmse:0.09174\ttrain-r2:0.97914\teval-rmse:0.09391\teval-r2:0.97823\n",
      "[3704]\ttrain-rmse:0.09174\ttrain-r2:0.97914\teval-rmse:0.09391\teval-r2:0.97823\n",
      "[3705]\ttrain-rmse:0.09174\ttrain-r2:0.97914\teval-rmse:0.09391\teval-r2:0.97823\n",
      "[3706]\ttrain-rmse:0.09174\ttrain-r2:0.97914\teval-rmse:0.09391\teval-r2:0.97823\n",
      "[3707]\ttrain-rmse:0.09174\ttrain-r2:0.97914\teval-rmse:0.09391\teval-r2:0.97823\n",
      "[3708]\ttrain-rmse:0.09174\ttrain-r2:0.97914\teval-rmse:0.09391\teval-r2:0.97823\n",
      "[3709]\ttrain-rmse:0.09174\ttrain-r2:0.97914\teval-rmse:0.09391\teval-r2:0.97823\n",
      "[3710]\ttrain-rmse:0.09174\ttrain-r2:0.97914\teval-rmse:0.09391\teval-r2:0.97823\n",
      "[3711]\ttrain-rmse:0.09174\ttrain-r2:0.97914\teval-rmse:0.09391\teval-r2:0.97823\n",
      "[3712]\ttrain-rmse:0.09174\ttrain-r2:0.97914\teval-rmse:0.09391\teval-r2:0.97823\n",
      "[3713]\ttrain-rmse:0.09174\ttrain-r2:0.97914\teval-rmse:0.09391\teval-r2:0.97823\n",
      "[3714]\ttrain-rmse:0.09174\ttrain-r2:0.97914\teval-rmse:0.09391\teval-r2:0.97823\n",
      "[3715]\ttrain-rmse:0.09174\ttrain-r2:0.97914\teval-rmse:0.09391\teval-r2:0.97823\n",
      "[3716]\ttrain-rmse:0.09174\ttrain-r2:0.97914\teval-rmse:0.09391\teval-r2:0.97823\n",
      "[3717]\ttrain-rmse:0.09174\ttrain-r2:0.97914\teval-rmse:0.09391\teval-r2:0.97823\n",
      "[3718]\ttrain-rmse:0.09174\ttrain-r2:0.97914\teval-rmse:0.09391\teval-r2:0.97823\n",
      "[3719]\ttrain-rmse:0.09174\ttrain-r2:0.97914\teval-rmse:0.09391\teval-r2:0.97823\n",
      "[3720]\ttrain-rmse:0.09174\ttrain-r2:0.97914\teval-rmse:0.09391\teval-r2:0.97823\n",
      "[3721]\ttrain-rmse:0.09174\ttrain-r2:0.97914\teval-rmse:0.09391\teval-r2:0.97823\n",
      "[3722]\ttrain-rmse:0.09174\ttrain-r2:0.97914\teval-rmse:0.09391\teval-r2:0.97823\n",
      "[3723]\ttrain-rmse:0.09174\ttrain-r2:0.97914\teval-rmse:0.09391\teval-r2:0.97823\n",
      "[3724]\ttrain-rmse:0.09174\ttrain-r2:0.97914\teval-rmse:0.09391\teval-r2:0.97823\n",
      "[3725]\ttrain-rmse:0.09174\ttrain-r2:0.97914\teval-rmse:0.09391\teval-r2:0.97823\n",
      "[3726]\ttrain-rmse:0.09174\ttrain-r2:0.97914\teval-rmse:0.09391\teval-r2:0.97823\n",
      "[3727]\ttrain-rmse:0.09174\ttrain-r2:0.97914\teval-rmse:0.09391\teval-r2:0.97823\n",
      "[3728]\ttrain-rmse:0.09174\ttrain-r2:0.97914\teval-rmse:0.09391\teval-r2:0.97823\n",
      "[3729]\ttrain-rmse:0.09174\ttrain-r2:0.97914\teval-rmse:0.09391\teval-r2:0.97823\n",
      "[3730]\ttrain-rmse:0.09174\ttrain-r2:0.97914\teval-rmse:0.09391\teval-r2:0.97823\n",
      "[3731]\ttrain-rmse:0.09174\ttrain-r2:0.97914\teval-rmse:0.09391\teval-r2:0.97823\n",
      "[3732]\ttrain-rmse:0.09174\ttrain-r2:0.97914\teval-rmse:0.09391\teval-r2:0.97823\n",
      "[3733]\ttrain-rmse:0.09174\ttrain-r2:0.97914\teval-rmse:0.09391\teval-r2:0.97823\n",
      "[3734]\ttrain-rmse:0.09174\ttrain-r2:0.97914\teval-rmse:0.09391\teval-r2:0.97823\n",
      "[3735]\ttrain-rmse:0.09174\ttrain-r2:0.97914\teval-rmse:0.09391\teval-r2:0.97823\n",
      "[3736]\ttrain-rmse:0.09174\ttrain-r2:0.97914\teval-rmse:0.09391\teval-r2:0.97823\n",
      "[3737]\ttrain-rmse:0.09174\ttrain-r2:0.97914\teval-rmse:0.09391\teval-r2:0.97823\n",
      "[3738]\ttrain-rmse:0.09174\ttrain-r2:0.97914\teval-rmse:0.09391\teval-r2:0.97823\n",
      "[3739]\ttrain-rmse:0.09174\ttrain-r2:0.97914\teval-rmse:0.09391\teval-r2:0.97823\n",
      "[3740]\ttrain-rmse:0.09174\ttrain-r2:0.97914\teval-rmse:0.09391\teval-r2:0.97823\n",
      "[3741]\ttrain-rmse:0.09174\ttrain-r2:0.97914\teval-rmse:0.09391\teval-r2:0.97823\n",
      "[3742]\ttrain-rmse:0.09174\ttrain-r2:0.97914\teval-rmse:0.09391\teval-r2:0.97823\n",
      "[3743]\ttrain-rmse:0.09174\ttrain-r2:0.97914\teval-rmse:0.09391\teval-r2:0.97823\n",
      "[3744]\ttrain-rmse:0.09174\ttrain-r2:0.97914\teval-rmse:0.09391\teval-r2:0.97823\n",
      "[3745]\ttrain-rmse:0.09174\ttrain-r2:0.97914\teval-rmse:0.09391\teval-r2:0.97823\n",
      "[3746]\ttrain-rmse:0.09171\ttrain-r2:0.97915\teval-rmse:0.09389\teval-r2:0.97824\n",
      "[3747]\ttrain-rmse:0.09171\ttrain-r2:0.97915\teval-rmse:0.09389\teval-r2:0.97824\n",
      "[3748]\ttrain-rmse:0.09171\ttrain-r2:0.97915\teval-rmse:0.09389\teval-r2:0.97824\n",
      "[3749]\ttrain-rmse:0.09171\ttrain-r2:0.97915\teval-rmse:0.09389\teval-r2:0.97824\n",
      "[3750]\ttrain-rmse:0.09171\ttrain-r2:0.97915\teval-rmse:0.09389\teval-r2:0.97824\n",
      "[3751]\ttrain-rmse:0.09171\ttrain-r2:0.97915\teval-rmse:0.09389\teval-r2:0.97824\n",
      "[3752]\ttrain-rmse:0.09171\ttrain-r2:0.97915\teval-rmse:0.09389\teval-r2:0.97824\n",
      "[3753]\ttrain-rmse:0.09171\ttrain-r2:0.97915\teval-rmse:0.09389\teval-r2:0.97824\n",
      "[3754]\ttrain-rmse:0.09171\ttrain-r2:0.97915\teval-rmse:0.09389\teval-r2:0.97824\n",
      "[3755]\ttrain-rmse:0.09171\ttrain-r2:0.97915\teval-rmse:0.09389\teval-r2:0.97824\n",
      "[3756]\ttrain-rmse:0.09171\ttrain-r2:0.97915\teval-rmse:0.09389\teval-r2:0.97824\n",
      "[3757]\ttrain-rmse:0.09171\ttrain-r2:0.97915\teval-rmse:0.09389\teval-r2:0.97824\n",
      "[3758]\ttrain-rmse:0.09171\ttrain-r2:0.97915\teval-rmse:0.09389\teval-r2:0.97824\n",
      "[3759]\ttrain-rmse:0.09171\ttrain-r2:0.97915\teval-rmse:0.09389\teval-r2:0.97824\n",
      "[3760]\ttrain-rmse:0.09171\ttrain-r2:0.97915\teval-rmse:0.09389\teval-r2:0.97824\n",
      "[3761]\ttrain-rmse:0.09171\ttrain-r2:0.97915\teval-rmse:0.09389\teval-r2:0.97824\n",
      "[3762]\ttrain-rmse:0.09171\ttrain-r2:0.97915\teval-rmse:0.09389\teval-r2:0.97824\n",
      "[3763]\ttrain-rmse:0.09171\ttrain-r2:0.97915\teval-rmse:0.09389\teval-r2:0.97824\n",
      "[3764]\ttrain-rmse:0.09171\ttrain-r2:0.97915\teval-rmse:0.09389\teval-r2:0.97824\n",
      "[3765]\ttrain-rmse:0.09171\ttrain-r2:0.97915\teval-rmse:0.09389\teval-r2:0.97824\n",
      "[3766]\ttrain-rmse:0.09171\ttrain-r2:0.97915\teval-rmse:0.09389\teval-r2:0.97824\n",
      "[3767]\ttrain-rmse:0.09171\ttrain-r2:0.97915\teval-rmse:0.09389\teval-r2:0.97824\n",
      "[3768]\ttrain-rmse:0.09171\ttrain-r2:0.97915\teval-rmse:0.09389\teval-r2:0.97824\n",
      "[3769]\ttrain-rmse:0.09171\ttrain-r2:0.97915\teval-rmse:0.09389\teval-r2:0.97824\n",
      "[3770]\ttrain-rmse:0.09171\ttrain-r2:0.97915\teval-rmse:0.09389\teval-r2:0.97824\n",
      "[3771]\ttrain-rmse:0.09171\ttrain-r2:0.97915\teval-rmse:0.09389\teval-r2:0.97824\n",
      "[3772]\ttrain-rmse:0.09171\ttrain-r2:0.97915\teval-rmse:0.09389\teval-r2:0.97824\n",
      "[3773]\ttrain-rmse:0.09171\ttrain-r2:0.97915\teval-rmse:0.09389\teval-r2:0.97824\n",
      "[3774]\ttrain-rmse:0.09171\ttrain-r2:0.97915\teval-rmse:0.09389\teval-r2:0.97824\n",
      "[3775]\ttrain-rmse:0.09171\ttrain-r2:0.97915\teval-rmse:0.09389\teval-r2:0.97824\n",
      "[3776]\ttrain-rmse:0.09171\ttrain-r2:0.97915\teval-rmse:0.09389\teval-r2:0.97824\n",
      "[3777]\ttrain-rmse:0.09171\ttrain-r2:0.97915\teval-rmse:0.09389\teval-r2:0.97824\n",
      "[3778]\ttrain-rmse:0.09171\ttrain-r2:0.97915\teval-rmse:0.09389\teval-r2:0.97824\n",
      "[3779]\ttrain-rmse:0.09171\ttrain-r2:0.97915\teval-rmse:0.09389\teval-r2:0.97824\n",
      "[3780]\ttrain-rmse:0.09171\ttrain-r2:0.97915\teval-rmse:0.09389\teval-r2:0.97824\n",
      "[3781]\ttrain-rmse:0.09171\ttrain-r2:0.97915\teval-rmse:0.09389\teval-r2:0.97824\n",
      "[3782]\ttrain-rmse:0.09171\ttrain-r2:0.97915\teval-rmse:0.09389\teval-r2:0.97824\n",
      "[3783]\ttrain-rmse:0.09171\ttrain-r2:0.97915\teval-rmse:0.09389\teval-r2:0.97824\n",
      "[3784]\ttrain-rmse:0.09171\ttrain-r2:0.97915\teval-rmse:0.09389\teval-r2:0.97824\n",
      "[3785]\ttrain-rmse:0.09171\ttrain-r2:0.97915\teval-rmse:0.09389\teval-r2:0.97824\n",
      "[3786]\ttrain-rmse:0.09171\ttrain-r2:0.97915\teval-rmse:0.09389\teval-r2:0.97824\n",
      "[3787]\ttrain-rmse:0.09171\ttrain-r2:0.97915\teval-rmse:0.09389\teval-r2:0.97824\n",
      "[3788]\ttrain-rmse:0.09171\ttrain-r2:0.97915\teval-rmse:0.09389\teval-r2:0.97824\n",
      "[3789]\ttrain-rmse:0.09171\ttrain-r2:0.97915\teval-rmse:0.09389\teval-r2:0.97824\n",
      "[3790]\ttrain-rmse:0.09171\ttrain-r2:0.97915\teval-rmse:0.09389\teval-r2:0.97824\n",
      "[3791]\ttrain-rmse:0.09171\ttrain-r2:0.97915\teval-rmse:0.09389\teval-r2:0.97824\n",
      "[3792]\ttrain-rmse:0.09171\ttrain-r2:0.97915\teval-rmse:0.09389\teval-r2:0.97824\n",
      "[3793]\ttrain-rmse:0.09171\ttrain-r2:0.97915\teval-rmse:0.09389\teval-r2:0.97824\n",
      "[3794]\ttrain-rmse:0.09171\ttrain-r2:0.97915\teval-rmse:0.09389\teval-r2:0.97824\n",
      "[3795]\ttrain-rmse:0.09171\ttrain-r2:0.97915\teval-rmse:0.09389\teval-r2:0.97824\n",
      "[3796]\ttrain-rmse:0.09171\ttrain-r2:0.97915\teval-rmse:0.09389\teval-r2:0.97824\n",
      "[3797]\ttrain-rmse:0.09171\ttrain-r2:0.97915\teval-rmse:0.09389\teval-r2:0.97824\n",
      "[3798]\ttrain-rmse:0.09171\ttrain-r2:0.97915\teval-rmse:0.09389\teval-r2:0.97824\n",
      "[3799]\ttrain-rmse:0.09171\ttrain-r2:0.97915\teval-rmse:0.09388\teval-r2:0.97824\n",
      "[3800]\ttrain-rmse:0.09171\ttrain-r2:0.97915\teval-rmse:0.09388\teval-r2:0.97824\n",
      "[3801]\ttrain-rmse:0.09171\ttrain-r2:0.97915\teval-rmse:0.09388\teval-r2:0.97824\n",
      "[3802]\ttrain-rmse:0.09171\ttrain-r2:0.97915\teval-rmse:0.09388\teval-r2:0.97824\n",
      "[3803]\ttrain-rmse:0.09171\ttrain-r2:0.97915\teval-rmse:0.09388\teval-r2:0.97824\n",
      "[3804]\ttrain-rmse:0.09171\ttrain-r2:0.97915\teval-rmse:0.09388\teval-r2:0.97824\n",
      "[3805]\ttrain-rmse:0.09171\ttrain-r2:0.97915\teval-rmse:0.09388\teval-r2:0.97824\n",
      "[3806]\ttrain-rmse:0.09171\ttrain-r2:0.97915\teval-rmse:0.09388\teval-r2:0.97824\n",
      "[3807]\ttrain-rmse:0.09171\ttrain-r2:0.97915\teval-rmse:0.09388\teval-r2:0.97824\n",
      "[3808]\ttrain-rmse:0.09171\ttrain-r2:0.97915\teval-rmse:0.09388\teval-r2:0.97824\n",
      "[3809]\ttrain-rmse:0.09171\ttrain-r2:0.97915\teval-rmse:0.09388\teval-r2:0.97824\n",
      "[3810]\ttrain-rmse:0.09171\ttrain-r2:0.97915\teval-rmse:0.09388\teval-r2:0.97824\n",
      "[3811]\ttrain-rmse:0.09171\ttrain-r2:0.97915\teval-rmse:0.09388\teval-r2:0.97824\n",
      "[3812]\ttrain-rmse:0.09171\ttrain-r2:0.97915\teval-rmse:0.09388\teval-r2:0.97824\n",
      "[3813]\ttrain-rmse:0.09171\ttrain-r2:0.97915\teval-rmse:0.09388\teval-r2:0.97824\n",
      "[3814]\ttrain-rmse:0.09171\ttrain-r2:0.97915\teval-rmse:0.09388\teval-r2:0.97824\n",
      "[3815]\ttrain-rmse:0.09171\ttrain-r2:0.97915\teval-rmse:0.09388\teval-r2:0.97824\n",
      "[3816]\ttrain-rmse:0.09171\ttrain-r2:0.97915\teval-rmse:0.09388\teval-r2:0.97824\n",
      "[3817]\ttrain-rmse:0.09171\ttrain-r2:0.97915\teval-rmse:0.09388\teval-r2:0.97824\n",
      "[3818]\ttrain-rmse:0.09171\ttrain-r2:0.97915\teval-rmse:0.09388\teval-r2:0.97824\n",
      "[3819]\ttrain-rmse:0.09171\ttrain-r2:0.97915\teval-rmse:0.09388\teval-r2:0.97824\n",
      "[3820]\ttrain-rmse:0.09171\ttrain-r2:0.97915\teval-rmse:0.09388\teval-r2:0.97824\n",
      "[3821]\ttrain-rmse:0.09171\ttrain-r2:0.97915\teval-rmse:0.09388\teval-r2:0.97824\n",
      "[3822]\ttrain-rmse:0.09171\ttrain-r2:0.97915\teval-rmse:0.09388\teval-r2:0.97824\n",
      "[3823]\ttrain-rmse:0.09171\ttrain-r2:0.97915\teval-rmse:0.09388\teval-r2:0.97824\n",
      "[3824]\ttrain-rmse:0.09171\ttrain-r2:0.97915\teval-rmse:0.09388\teval-r2:0.97824\n",
      "[3825]\ttrain-rmse:0.09171\ttrain-r2:0.97915\teval-rmse:0.09388\teval-r2:0.97824\n",
      "[3826]\ttrain-rmse:0.09171\ttrain-r2:0.97915\teval-rmse:0.09388\teval-r2:0.97824\n",
      "[3827]\ttrain-rmse:0.09171\ttrain-r2:0.97915\teval-rmse:0.09388\teval-r2:0.97824\n",
      "[3828]\ttrain-rmse:0.09171\ttrain-r2:0.97915\teval-rmse:0.09388\teval-r2:0.97824\n",
      "[3829]\ttrain-rmse:0.09171\ttrain-r2:0.97915\teval-rmse:0.09388\teval-r2:0.97824\n",
      "[3830]\ttrain-rmse:0.09171\ttrain-r2:0.97915\teval-rmse:0.09388\teval-r2:0.97824\n",
      "[3831]\ttrain-rmse:0.09171\ttrain-r2:0.97915\teval-rmse:0.09388\teval-r2:0.97824\n",
      "[3832]\ttrain-rmse:0.09171\ttrain-r2:0.97915\teval-rmse:0.09388\teval-r2:0.97824\n",
      "[3833]\ttrain-rmse:0.09171\ttrain-r2:0.97915\teval-rmse:0.09388\teval-r2:0.97824\n",
      "[3834]\ttrain-rmse:0.09171\ttrain-r2:0.97915\teval-rmse:0.09388\teval-r2:0.97824\n",
      "[3835]\ttrain-rmse:0.09171\ttrain-r2:0.97915\teval-rmse:0.09388\teval-r2:0.97824\n",
      "[3836]\ttrain-rmse:0.09171\ttrain-r2:0.97915\teval-rmse:0.09388\teval-r2:0.97824\n",
      "[3837]\ttrain-rmse:0.09171\ttrain-r2:0.97915\teval-rmse:0.09388\teval-r2:0.97824\n",
      "[3838]\ttrain-rmse:0.09171\ttrain-r2:0.97915\teval-rmse:0.09388\teval-r2:0.97824\n",
      "[3839]\ttrain-rmse:0.09171\ttrain-r2:0.97915\teval-rmse:0.09388\teval-r2:0.97824\n",
      "[3840]\ttrain-rmse:0.09171\ttrain-r2:0.97915\teval-rmse:0.09388\teval-r2:0.97824\n",
      "[3841]\ttrain-rmse:0.09171\ttrain-r2:0.97915\teval-rmse:0.09388\teval-r2:0.97824\n",
      "[3842]\ttrain-rmse:0.09171\ttrain-r2:0.97915\teval-rmse:0.09388\teval-r2:0.97824\n",
      "[3843]\ttrain-rmse:0.09171\ttrain-r2:0.97915\teval-rmse:0.09388\teval-r2:0.97824\n",
      "[3844]\ttrain-rmse:0.09171\ttrain-r2:0.97915\teval-rmse:0.09388\teval-r2:0.97824\n",
      "[3845]\ttrain-rmse:0.09170\ttrain-r2:0.97916\teval-rmse:0.09387\teval-r2:0.97825\n",
      "[3846]\ttrain-rmse:0.09170\ttrain-r2:0.97916\teval-rmse:0.09387\teval-r2:0.97825\n",
      "[3847]\ttrain-rmse:0.09167\ttrain-r2:0.97917\teval-rmse:0.09384\teval-r2:0.97826\n",
      "[3848]\ttrain-rmse:0.09167\ttrain-r2:0.97917\teval-rmse:0.09384\teval-r2:0.97826\n",
      "[3849]\ttrain-rmse:0.09167\ttrain-r2:0.97917\teval-rmse:0.09384\teval-r2:0.97826\n",
      "[3850]\ttrain-rmse:0.09167\ttrain-r2:0.97917\teval-rmse:0.09384\teval-r2:0.97826\n",
      "[3851]\ttrain-rmse:0.09167\ttrain-r2:0.97917\teval-rmse:0.09384\teval-r2:0.97826\n",
      "[3852]\ttrain-rmse:0.09167\ttrain-r2:0.97917\teval-rmse:0.09384\teval-r2:0.97826\n",
      "[3853]\ttrain-rmse:0.09167\ttrain-r2:0.97917\teval-rmse:0.09384\teval-r2:0.97826\n",
      "[3854]\ttrain-rmse:0.09167\ttrain-r2:0.97917\teval-rmse:0.09384\teval-r2:0.97826\n",
      "[3855]\ttrain-rmse:0.09167\ttrain-r2:0.97917\teval-rmse:0.09384\teval-r2:0.97826\n",
      "[3856]\ttrain-rmse:0.09167\ttrain-r2:0.97917\teval-rmse:0.09384\teval-r2:0.97826\n",
      "[3857]\ttrain-rmse:0.09167\ttrain-r2:0.97917\teval-rmse:0.09384\teval-r2:0.97826\n",
      "[3858]\ttrain-rmse:0.09167\ttrain-r2:0.97917\teval-rmse:0.09384\teval-r2:0.97826\n",
      "[3859]\ttrain-rmse:0.09167\ttrain-r2:0.97917\teval-rmse:0.09384\teval-r2:0.97826\n",
      "[3860]\ttrain-rmse:0.09167\ttrain-r2:0.97917\teval-rmse:0.09384\teval-r2:0.97826\n",
      "[3861]\ttrain-rmse:0.09167\ttrain-r2:0.97917\teval-rmse:0.09384\teval-r2:0.97826\n",
      "[3862]\ttrain-rmse:0.09167\ttrain-r2:0.97917\teval-rmse:0.09384\teval-r2:0.97826\n",
      "[3863]\ttrain-rmse:0.09167\ttrain-r2:0.97917\teval-rmse:0.09384\teval-r2:0.97826\n",
      "[3864]\ttrain-rmse:0.09167\ttrain-r2:0.97917\teval-rmse:0.09384\teval-r2:0.97826\n",
      "[3865]\ttrain-rmse:0.09167\ttrain-r2:0.97917\teval-rmse:0.09384\teval-r2:0.97826\n",
      "[3866]\ttrain-rmse:0.09167\ttrain-r2:0.97917\teval-rmse:0.09384\teval-r2:0.97826\n",
      "[3867]\ttrain-rmse:0.09167\ttrain-r2:0.97917\teval-rmse:0.09384\teval-r2:0.97826\n",
      "[3868]\ttrain-rmse:0.09167\ttrain-r2:0.97917\teval-rmse:0.09384\teval-r2:0.97826\n",
      "[3869]\ttrain-rmse:0.09167\ttrain-r2:0.97917\teval-rmse:0.09384\teval-r2:0.97826\n",
      "[3870]\ttrain-rmse:0.09167\ttrain-r2:0.97917\teval-rmse:0.09384\teval-r2:0.97826\n",
      "[3871]\ttrain-rmse:0.09167\ttrain-r2:0.97917\teval-rmse:0.09384\teval-r2:0.97826\n",
      "[3872]\ttrain-rmse:0.09167\ttrain-r2:0.97917\teval-rmse:0.09384\teval-r2:0.97826\n",
      "[3873]\ttrain-rmse:0.09167\ttrain-r2:0.97917\teval-rmse:0.09384\teval-r2:0.97826\n",
      "[3874]\ttrain-rmse:0.09167\ttrain-r2:0.97917\teval-rmse:0.09384\teval-r2:0.97826\n",
      "[3875]\ttrain-rmse:0.09167\ttrain-r2:0.97917\teval-rmse:0.09384\teval-r2:0.97826\n",
      "[3876]\ttrain-rmse:0.09167\ttrain-r2:0.97917\teval-rmse:0.09384\teval-r2:0.97826\n",
      "[3877]\ttrain-rmse:0.09167\ttrain-r2:0.97917\teval-rmse:0.09384\teval-r2:0.97826\n",
      "[3878]\ttrain-rmse:0.09167\ttrain-r2:0.97917\teval-rmse:0.09384\teval-r2:0.97826\n",
      "[3879]\ttrain-rmse:0.09167\ttrain-r2:0.97917\teval-rmse:0.09384\teval-r2:0.97826\n",
      "[3880]\ttrain-rmse:0.09167\ttrain-r2:0.97917\teval-rmse:0.09384\teval-r2:0.97826\n",
      "[3881]\ttrain-rmse:0.09167\ttrain-r2:0.97917\teval-rmse:0.09384\teval-r2:0.97826\n",
      "[3882]\ttrain-rmse:0.09167\ttrain-r2:0.97917\teval-rmse:0.09384\teval-r2:0.97826\n",
      "[3883]\ttrain-rmse:0.09167\ttrain-r2:0.97917\teval-rmse:0.09384\teval-r2:0.97826\n",
      "[3884]\ttrain-rmse:0.09167\ttrain-r2:0.97917\teval-rmse:0.09384\teval-r2:0.97826\n",
      "[3885]\ttrain-rmse:0.09167\ttrain-r2:0.97917\teval-rmse:0.09384\teval-r2:0.97826\n",
      "[3886]\ttrain-rmse:0.09167\ttrain-r2:0.97917\teval-rmse:0.09384\teval-r2:0.97826\n",
      "[3887]\ttrain-rmse:0.09167\ttrain-r2:0.97917\teval-rmse:0.09384\teval-r2:0.97826\n",
      "[3888]\ttrain-rmse:0.09167\ttrain-r2:0.97917\teval-rmse:0.09384\teval-r2:0.97826\n",
      "[3889]\ttrain-rmse:0.09167\ttrain-r2:0.97917\teval-rmse:0.09384\teval-r2:0.97826\n",
      "[3890]\ttrain-rmse:0.09167\ttrain-r2:0.97917\teval-rmse:0.09384\teval-r2:0.97826\n",
      "[3891]\ttrain-rmse:0.09167\ttrain-r2:0.97917\teval-rmse:0.09384\teval-r2:0.97826\n",
      "[3892]\ttrain-rmse:0.09167\ttrain-r2:0.97917\teval-rmse:0.09384\teval-r2:0.97826\n",
      "[3893]\ttrain-rmse:0.09167\ttrain-r2:0.97917\teval-rmse:0.09384\teval-r2:0.97826\n",
      "[3894]\ttrain-rmse:0.09167\ttrain-r2:0.97917\teval-rmse:0.09384\teval-r2:0.97826\n",
      "[3895]\ttrain-rmse:0.09167\ttrain-r2:0.97917\teval-rmse:0.09384\teval-r2:0.97826\n",
      "[3896]\ttrain-rmse:0.09167\ttrain-r2:0.97917\teval-rmse:0.09384\teval-r2:0.97826\n",
      "[3897]\ttrain-rmse:0.09167\ttrain-r2:0.97917\teval-rmse:0.09384\teval-r2:0.97826\n",
      "[3898]\ttrain-rmse:0.09167\ttrain-r2:0.97917\teval-rmse:0.09384\teval-r2:0.97826\n",
      "[3899]\ttrain-rmse:0.09167\ttrain-r2:0.97917\teval-rmse:0.09384\teval-r2:0.97826\n",
      "[3900]\ttrain-rmse:0.09167\ttrain-r2:0.97917\teval-rmse:0.09384\teval-r2:0.97826\n",
      "[3901]\ttrain-rmse:0.09167\ttrain-r2:0.97917\teval-rmse:0.09384\teval-r2:0.97826\n",
      "[3902]\ttrain-rmse:0.09167\ttrain-r2:0.97917\teval-rmse:0.09384\teval-r2:0.97826\n",
      "[3903]\ttrain-rmse:0.09167\ttrain-r2:0.97917\teval-rmse:0.09384\teval-r2:0.97826\n",
      "[3904]\ttrain-rmse:0.09167\ttrain-r2:0.97917\teval-rmse:0.09384\teval-r2:0.97826\n",
      "[3905]\ttrain-rmse:0.09167\ttrain-r2:0.97917\teval-rmse:0.09384\teval-r2:0.97826\n",
      "[3906]\ttrain-rmse:0.09167\ttrain-r2:0.97917\teval-rmse:0.09384\teval-r2:0.97826\n",
      "[3907]\ttrain-rmse:0.09167\ttrain-r2:0.97917\teval-rmse:0.09384\teval-r2:0.97826\n",
      "[3908]\ttrain-rmse:0.09167\ttrain-r2:0.97917\teval-rmse:0.09384\teval-r2:0.97826\n",
      "[3909]\ttrain-rmse:0.09167\ttrain-r2:0.97917\teval-rmse:0.09384\teval-r2:0.97826\n",
      "[3910]\ttrain-rmse:0.09167\ttrain-r2:0.97917\teval-rmse:0.09384\teval-r2:0.97826\n",
      "[3911]\ttrain-rmse:0.09167\ttrain-r2:0.97917\teval-rmse:0.09384\teval-r2:0.97826\n",
      "[3912]\ttrain-rmse:0.09167\ttrain-r2:0.97917\teval-rmse:0.09384\teval-r2:0.97826\n",
      "[3913]\ttrain-rmse:0.09167\ttrain-r2:0.97917\teval-rmse:0.09384\teval-r2:0.97826\n",
      "[3914]\ttrain-rmse:0.09167\ttrain-r2:0.97917\teval-rmse:0.09384\teval-r2:0.97826\n",
      "[3915]\ttrain-rmse:0.09167\ttrain-r2:0.97917\teval-rmse:0.09384\teval-r2:0.97826\n",
      "[3916]\ttrain-rmse:0.09167\ttrain-r2:0.97917\teval-rmse:0.09384\teval-r2:0.97826\n",
      "[3917]\ttrain-rmse:0.09167\ttrain-r2:0.97917\teval-rmse:0.09384\teval-r2:0.97826\n",
      "[3918]\ttrain-rmse:0.09167\ttrain-r2:0.97917\teval-rmse:0.09384\teval-r2:0.97826\n",
      "[3919]\ttrain-rmse:0.09167\ttrain-r2:0.97917\teval-rmse:0.09384\teval-r2:0.97826\n",
      "[3920]\ttrain-rmse:0.09167\ttrain-r2:0.97917\teval-rmse:0.09384\teval-r2:0.97826\n",
      "[3921]\ttrain-rmse:0.09167\ttrain-r2:0.97917\teval-rmse:0.09384\teval-r2:0.97826\n",
      "[3922]\ttrain-rmse:0.09167\ttrain-r2:0.97917\teval-rmse:0.09384\teval-r2:0.97826\n",
      "[3923]\ttrain-rmse:0.09167\ttrain-r2:0.97917\teval-rmse:0.09384\teval-r2:0.97826\n",
      "[3924]\ttrain-rmse:0.09167\ttrain-r2:0.97917\teval-rmse:0.09384\teval-r2:0.97826\n",
      "[3925]\ttrain-rmse:0.09167\ttrain-r2:0.97917\teval-rmse:0.09384\teval-r2:0.97826\n",
      "[3926]\ttrain-rmse:0.09167\ttrain-r2:0.97917\teval-rmse:0.09384\teval-r2:0.97826\n",
      "[3927]\ttrain-rmse:0.09167\ttrain-r2:0.97917\teval-rmse:0.09384\teval-r2:0.97826\n",
      "[3928]\ttrain-rmse:0.09167\ttrain-r2:0.97917\teval-rmse:0.09384\teval-r2:0.97826\n",
      "[3929]\ttrain-rmse:0.09167\ttrain-r2:0.97917\teval-rmse:0.09384\teval-r2:0.97826\n",
      "[3930]\ttrain-rmse:0.09167\ttrain-r2:0.97917\teval-rmse:0.09384\teval-r2:0.97826\n",
      "[3931]\ttrain-rmse:0.09167\ttrain-r2:0.97917\teval-rmse:0.09384\teval-r2:0.97826\n",
      "[3932]\ttrain-rmse:0.09167\ttrain-r2:0.97917\teval-rmse:0.09384\teval-r2:0.97826\n",
      "[3933]\ttrain-rmse:0.09167\ttrain-r2:0.97917\teval-rmse:0.09384\teval-r2:0.97826\n",
      "[3934]\ttrain-rmse:0.09167\ttrain-r2:0.97917\teval-rmse:0.09384\teval-r2:0.97826\n",
      "[3935]\ttrain-rmse:0.09167\ttrain-r2:0.97917\teval-rmse:0.09384\teval-r2:0.97826\n",
      "[3936]\ttrain-rmse:0.09167\ttrain-r2:0.97917\teval-rmse:0.09384\teval-r2:0.97826\n",
      "[3937]\ttrain-rmse:0.09167\ttrain-r2:0.97917\teval-rmse:0.09384\teval-r2:0.97826\n",
      "[3938]\ttrain-rmse:0.09167\ttrain-r2:0.97917\teval-rmse:0.09384\teval-r2:0.97826\n",
      "[3939]\ttrain-rmse:0.09167\ttrain-r2:0.97917\teval-rmse:0.09384\teval-r2:0.97826\n",
      "[3940]\ttrain-rmse:0.09167\ttrain-r2:0.97917\teval-rmse:0.09384\teval-r2:0.97826\n",
      "[3941]\ttrain-rmse:0.09167\ttrain-r2:0.97917\teval-rmse:0.09384\teval-r2:0.97826\n",
      "[3942]\ttrain-rmse:0.09167\ttrain-r2:0.97917\teval-rmse:0.09384\teval-r2:0.97826\n",
      "[3943]\ttrain-rmse:0.09167\ttrain-r2:0.97917\teval-rmse:0.09384\teval-r2:0.97826\n",
      "[3944]\ttrain-rmse:0.09167\ttrain-r2:0.97917\teval-rmse:0.09384\teval-r2:0.97826\n",
      "[3945]\ttrain-rmse:0.09167\ttrain-r2:0.97917\teval-rmse:0.09384\teval-r2:0.97826\n",
      "[3946]\ttrain-rmse:0.09167\ttrain-r2:0.97917\teval-rmse:0.09384\teval-r2:0.97826\n",
      "[3947]\ttrain-rmse:0.09167\ttrain-r2:0.97917\teval-rmse:0.09384\teval-r2:0.97826\n"
     ]
    }
   ],
   "source": [
    "# DMatrix 생성\n",
    "dtrain = xgb.DMatrix(x_train, label=y_train)\n",
    "dtest = xgb.DMatrix(x_test, label=y_test)\n",
    "\n",
    "# 파라미터 설정 (기본값 유지)\n",
    "params = {\n",
    "    'objective': 'reg:squarederror',  # 회귀 문제\n",
    "    'eval_metric': 'rmse',            # 기본 RMSE\n",
    "    'max_depth': 6,\n",
    "    'learning_rate': 0.05,\n",
    "    'subsample': 0.8,\n",
    "    'colsample_bytree': 0.8,\n",
    "    'reg_alpha': 0.1,\n",
    "    'reg_lambda': 1.0,\n",
    "    'min_child_weight': 3,\n",
    "    'gamma': 0.1,\n",
    "    'random_state': random_state\n",
    "}\n",
    "\n",
    "# 평가 데이터셋 설정\n",
    "evals = [(dtrain, 'train'), (dtest, 'eval')]\n",
    "\n",
    "# 모델 학습\n",
    "model = xgb.train(\n",
    "    params=params,\n",
    "    dtrain=dtrain,\n",
    "    num_boost_round=10000,\n",
    "    evals=evals,\n",
    "    early_stopping_rounds=100,\n",
    "    verbose_eval=True,\n",
    "    feval=r2_eval,  # 사용자 정의 평가 함수만 사용\n",
    "    maximize=True   # R²는 높은 값이 더 좋은 성능\n",
    ")"
   ]
  },
  {
   "cell_type": "code",
   "execution_count": 51,
   "metadata": {},
   "outputs": [
    {
     "name": "stdout",
     "output_type": "stream",
     "text": [
      "Feature Importance:\n",
      "         Feature  Importance\n",
      "31         전용면적      7954.0\n",
      "32         계약_년      7209.0\n",
      "2           좌표Y      6944.0\n",
      "3           좌표X      6756.0\n",
      "30         아파트명      6385.0\n",
      "..          ...         ...\n",
      "65      단지신청일_일        37.0\n",
      "64      단지신청일_월        28.0\n",
      "59  기타/의무/임대/임의        20.0\n",
      "54       수정일자_년         4.0\n",
      "55       수정일자_월         3.0\n",
      "\n",
      "[66 rows x 2 columns]\n",
      "Final RMSE on Test Set: 0.09383690212758423\n"
     ]
    }
   ],
   "source": [
    "# 최종 특성 중요도 확인\n",
    "importance = model.get_score(importance_type='weight')\n",
    "importance_df = pd.DataFrame({\n",
    "    'Feature': list(importance.keys()),\n",
    "    'Importance': list(importance.values())\n",
    "}).sort_values(by='Importance', ascending=False)\n",
    "\n",
    "# 결과 출력\n",
    "print(\"Feature Importance:\\n\", importance_df)\n",
    "\n",
    "# 과적합 방지: 성능 확인\n",
    "y_pred = model.predict(dtest)\n",
    "rmse = np.sqrt(((y_pred - y_test) ** 2).mean())\n",
    "print(f\"Final RMSE on Test Set: {rmse}\")"
   ]
  },
  {
   "cell_type": "code",
   "execution_count": 52,
   "metadata": {},
   "outputs": [],
   "source": [
    "import pickle\n",
    "\n",
    "# 학습된 모델을 저장합니다. Pickle 라이브러리를 이용하겠습니다.\n",
    "with open('model/saved_model_09.pkl', 'wb') as f:\n",
    "    pickle.dump(model, f)"
   ]
  },
  {
   "cell_type": "code",
   "execution_count": 53,
   "metadata": {},
   "outputs": [],
   "source": [
    "real_test = xgb.DMatrix(test)\n",
    "real_test_pred = model.predict(real_test)\n",
    "real_test_pred = np.expm1(real_test_pred)\n",
    "preds_df = pd.DataFrame(real_test_pred.astype(int), columns=[\"target\"])"
   ]
  },
  {
   "cell_type": "code",
   "execution_count": 54,
   "metadata": {},
   "outputs": [
    {
     "name": "stdout",
     "output_type": "stream",
     "text": [
      "<class 'pandas.core.frame.DataFrame'>\n",
      "RangeIndex: 9272 entries, 0 to 9271\n",
      "Data columns (total 1 columns):\n",
      " #   Column  Non-Null Count  Dtype\n",
      "---  ------  --------------  -----\n",
      " 0   target  9272 non-null   int64\n",
      "dtypes: int64(1)\n",
      "memory usage: 72.6 KB\n"
     ]
    }
   ],
   "source": [
    "preds_df.info()"
   ]
  },
  {
   "cell_type": "code",
   "execution_count": 55,
   "metadata": {},
   "outputs": [
    {
     "data": {
      "text/html": [
       "<div>\n",
       "<style scoped>\n",
       "    .dataframe tbody tr th:only-of-type {\n",
       "        vertical-align: middle;\n",
       "    }\n",
       "\n",
       "    .dataframe tbody tr th {\n",
       "        vertical-align: top;\n",
       "    }\n",
       "\n",
       "    .dataframe thead th {\n",
       "        text-align: right;\n",
       "    }\n",
       "</style>\n",
       "<table border=\"1\" class=\"dataframe\">\n",
       "  <thead>\n",
       "    <tr style=\"text-align: right;\">\n",
       "      <th></th>\n",
       "      <th>target</th>\n",
       "    </tr>\n",
       "  </thead>\n",
       "  <tbody>\n",
       "    <tr>\n",
       "      <th>0</th>\n",
       "      <td>191015</td>\n",
       "    </tr>\n",
       "    <tr>\n",
       "      <th>1</th>\n",
       "      <td>289844</td>\n",
       "    </tr>\n",
       "    <tr>\n",
       "      <th>2</th>\n",
       "      <td>318178</td>\n",
       "    </tr>\n",
       "    <tr>\n",
       "      <th>3</th>\n",
       "      <td>254980</td>\n",
       "    </tr>\n",
       "    <tr>\n",
       "      <th>4</th>\n",
       "      <td>220768</td>\n",
       "    </tr>\n",
       "    <tr>\n",
       "      <th>...</th>\n",
       "      <td>...</td>\n",
       "    </tr>\n",
       "    <tr>\n",
       "      <th>9267</th>\n",
       "      <td>73397</td>\n",
       "    </tr>\n",
       "    <tr>\n",
       "      <th>9268</th>\n",
       "      <td>73032</td>\n",
       "    </tr>\n",
       "    <tr>\n",
       "      <th>9269</th>\n",
       "      <td>83162</td>\n",
       "    </tr>\n",
       "    <tr>\n",
       "      <th>9270</th>\n",
       "      <td>70442</td>\n",
       "    </tr>\n",
       "    <tr>\n",
       "      <th>9271</th>\n",
       "      <td>70534</td>\n",
       "    </tr>\n",
       "  </tbody>\n",
       "</table>\n",
       "<p>9272 rows × 1 columns</p>\n",
       "</div>"
      ],
      "text/plain": [
       "      target\n",
       "0     191015\n",
       "1     289844\n",
       "2     318178\n",
       "3     254980\n",
       "4     220768\n",
       "...      ...\n",
       "9267   73397\n",
       "9268   73032\n",
       "9269   83162\n",
       "9270   70442\n",
       "9271   70534\n",
       "\n",
       "[9272 rows x 1 columns]"
      ]
     },
     "execution_count": 55,
     "metadata": {},
     "output_type": "execute_result"
    }
   ],
   "source": [
    "preds_df"
   ]
  },
  {
   "cell_type": "code",
   "execution_count": 56,
   "metadata": {},
   "outputs": [],
   "source": [
    "preds_df.to_csv('../data/sub/output_xgboost_009.csv', index=False)"
   ]
  }
 ],
 "metadata": {
  "kernelspec": {
   "display_name": "base",
   "language": "python",
   "name": "python3"
  },
  "language_info": {
   "codemirror_mode": {
    "name": "ipython",
    "version": 3
   },
   "file_extension": ".py",
   "mimetype": "text/x-python",
   "name": "python",
   "nbconvert_exporter": "python",
   "pygments_lexer": "ipython3",
   "version": "3.10.13"
  }
 },
 "nbformat": 4,
 "nbformat_minor": 2
}
