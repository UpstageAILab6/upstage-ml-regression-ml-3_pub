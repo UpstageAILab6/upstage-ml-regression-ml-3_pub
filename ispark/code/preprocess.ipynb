{
 "cells": [
  {
   "cell_type": "code",
   "execution_count": 2443,
   "metadata": {},
   "outputs": [],
   "source": [
    "import numpy as np\n",
    "import pandas as pd\n",
    "\n",
    "import warnings\n",
    "warnings.filterwarnings('ignore')\n",
    "\n",
    "from sklearn.ensemble import RandomForestRegressor\n",
    "from sklearn.model_selection import train_test_split"
   ]
  },
  {
   "cell_type": "markdown",
   "metadata": {},
   "source": [
    "# 데이터 불러오기"
   ]
  },
  {
   "cell_type": "code",
   "execution_count": 2444,
   "metadata": {},
   "outputs": [],
   "source": [
    "df_train = pd.read_csv(\"../data/train.csv\")\n",
    "df_test = pd.read_csv(\"../data/test.csv\")"
   ]
  },
  {
   "cell_type": "code",
   "execution_count": 2445,
   "metadata": {},
   "outputs": [],
   "source": [
    "y = df_train['target']\n",
    "df_train = df_train.drop(columns='target', axis=1)"
   ]
  },
  {
   "cell_type": "code",
   "execution_count": 2446,
   "metadata": {},
   "outputs": [],
   "source": [
    "pre_df = pd.DataFrame()\n",
    "pre_train = pd.DataFrame()\n",
    "pre_test = pd.DataFrame()"
   ]
  },
  {
   "cell_type": "code",
   "execution_count": 2447,
   "metadata": {},
   "outputs": [],
   "source": [
    "# train/test 구분을 위한 칼럼을 하나 만들어 줍니다.\n",
    "df_train['is_test'] = 0\n",
    "df_test['is_test'] = 1\n",
    "concat = pd.concat([df_train, df_test])     # 하나의 데이터로 만들어줍니다."
   ]
  },
  {
   "cell_type": "markdown",
   "metadata": {},
   "source": [
    "## 데이터 명목형, 수치형 분류"
   ]
  },
  {
   "cell_type": "code",
   "execution_count": 2448,
   "metadata": {},
   "outputs": [],
   "source": [
    "num_cols = concat.select_dtypes(include=['int','float']).columns\n",
    "obj_cols = concat.select_dtypes(include=['object']).columns"
   ]
  },
  {
   "cell_type": "code",
   "execution_count": 2449,
   "metadata": {},
   "outputs": [
    {
     "data": {
      "text/plain": [
       "Index(['본번', '부번', '전용면적(㎡)', '계약년월', '계약일', '층', '건축년도', '해제사유발생일',\n",
       "       '단지소개기존clob', 'k-전체동수', 'k-전체세대수', 'k-연면적', 'k-주거전용면적', 'k-관리비부과면적',\n",
       "       'k-전용면적별세대현황(60㎡이하)', 'k-전용면적별세대현황(60㎡~85㎡이하)', 'k-85㎡~135㎡이하',\n",
       "       'k-135㎡초과', '건축면적', '주차대수', '좌표X', '좌표Y', 'is_test'],\n",
       "      dtype='object')"
      ]
     },
     "execution_count": 2449,
     "metadata": {},
     "output_type": "execute_result"
    }
   ],
   "source": [
    "num_cols"
   ]
  },
  {
   "cell_type": "code",
   "execution_count": 2450,
   "metadata": {},
   "outputs": [
    {
     "data": {
      "text/plain": [
       "Index(['시군구', '번지', '아파트명', '도로명', '등기신청일자', '거래유형', '중개사소재지',\n",
       "       'k-단지분류(아파트,주상복합등등)', 'k-전화번호', 'k-팩스번호', 'k-세대타입(분양형태)', 'k-관리방식',\n",
       "       'k-복도유형', 'k-난방방식', 'k-건설사(시공사)', 'k-시행사', 'k-사용검사일-사용승인일', 'k-홈페이지',\n",
       "       'k-등록일자', 'k-수정일자', '고용보험관리번호', '경비비관리형태', '세대전기계약방법', '청소비관리형태',\n",
       "       '기타/의무/임대/임의=1/2/3/4', '단지승인일', '사용허가여부', '관리비 업로드', '단지신청일'],\n",
       "      dtype='object')"
      ]
     },
     "execution_count": 2450,
     "metadata": {},
     "output_type": "execute_result"
    }
   ],
   "source": [
    "obj_cols"
   ]
  },
  {
   "cell_type": "code",
   "execution_count": 2451,
   "metadata": {},
   "outputs": [
    {
     "name": "stdout",
     "output_type": "stream",
     "text": [
      "전체 col 수 : 52\n",
      "------------------\n",
      "수치형 col 수 : 23\n",
      "명목형 col 수 : 29\n"
     ]
    }
   ],
   "source": [
    "print(f'전체 col 수 : {len(concat.columns)}')\n",
    "print('------------------')\n",
    "print(f'수치형 col 수 : {len(num_cols)}')\n",
    "print(f'명목형 col 수 : {len(obj_cols)}')"
   ]
  },
  {
   "cell_type": "code",
   "execution_count": 2452,
   "metadata": {},
   "outputs": [
    {
     "data": {
      "text/html": [
       "<div>\n",
       "<style scoped>\n",
       "    .dataframe tbody tr th:only-of-type {\n",
       "        vertical-align: middle;\n",
       "    }\n",
       "\n",
       "    .dataframe tbody tr th {\n",
       "        vertical-align: top;\n",
       "    }\n",
       "\n",
       "    .dataframe thead th {\n",
       "        text-align: right;\n",
       "    }\n",
       "</style>\n",
       "<table border=\"1\" class=\"dataframe\">\n",
       "  <thead>\n",
       "    <tr style=\"text-align: right;\">\n",
       "      <th></th>\n",
       "      <th>시군구</th>\n",
       "      <th>번지</th>\n",
       "      <th>본번</th>\n",
       "      <th>부번</th>\n",
       "      <th>아파트명</th>\n",
       "      <th>전용면적(㎡)</th>\n",
       "      <th>계약년월</th>\n",
       "      <th>계약일</th>\n",
       "      <th>층</th>\n",
       "      <th>건축년도</th>\n",
       "      <th>...</th>\n",
       "      <th>건축면적</th>\n",
       "      <th>주차대수</th>\n",
       "      <th>기타/의무/임대/임의=1/2/3/4</th>\n",
       "      <th>단지승인일</th>\n",
       "      <th>사용허가여부</th>\n",
       "      <th>관리비 업로드</th>\n",
       "      <th>좌표X</th>\n",
       "      <th>좌표Y</th>\n",
       "      <th>단지신청일</th>\n",
       "      <th>is_test</th>\n",
       "    </tr>\n",
       "  </thead>\n",
       "  <tbody>\n",
       "    <tr>\n",
       "      <th>0</th>\n",
       "      <td>서울특별시 강남구 개포동</td>\n",
       "      <td>658-1</td>\n",
       "      <td>658.0</td>\n",
       "      <td>1.0</td>\n",
       "      <td>개포6차우성</td>\n",
       "      <td>79.97</td>\n",
       "      <td>201712</td>\n",
       "      <td>8</td>\n",
       "      <td>3</td>\n",
       "      <td>1987</td>\n",
       "      <td>...</td>\n",
       "      <td>4858.0</td>\n",
       "      <td>262.0</td>\n",
       "      <td>임의</td>\n",
       "      <td>2022-11-17 13:00:29.0</td>\n",
       "      <td>Y</td>\n",
       "      <td>N</td>\n",
       "      <td>127.05721</td>\n",
       "      <td>37.476763</td>\n",
       "      <td>2022-11-17 10:19:06.0</td>\n",
       "      <td>0</td>\n",
       "    </tr>\n",
       "    <tr>\n",
       "      <th>1</th>\n",
       "      <td>서울특별시 강남구 개포동</td>\n",
       "      <td>658-1</td>\n",
       "      <td>658.0</td>\n",
       "      <td>1.0</td>\n",
       "      <td>개포6차우성</td>\n",
       "      <td>79.97</td>\n",
       "      <td>201712</td>\n",
       "      <td>22</td>\n",
       "      <td>4</td>\n",
       "      <td>1987</td>\n",
       "      <td>...</td>\n",
       "      <td>4858.0</td>\n",
       "      <td>262.0</td>\n",
       "      <td>임의</td>\n",
       "      <td>2022-11-17 13:00:29.0</td>\n",
       "      <td>Y</td>\n",
       "      <td>N</td>\n",
       "      <td>127.05721</td>\n",
       "      <td>37.476763</td>\n",
       "      <td>2022-11-17 10:19:06.0</td>\n",
       "      <td>0</td>\n",
       "    </tr>\n",
       "  </tbody>\n",
       "</table>\n",
       "<p>2 rows × 52 columns</p>\n",
       "</div>"
      ],
      "text/plain": [
       "             시군구     번지     본번   부번    아파트명  전용면적(㎡)    계약년월  계약일  층  건축년도  \\\n",
       "0  서울특별시 강남구 개포동  658-1  658.0  1.0  개포6차우성    79.97  201712    8  3  1987   \n",
       "1  서울특별시 강남구 개포동  658-1  658.0  1.0  개포6차우성    79.97  201712   22  4  1987   \n",
       "\n",
       "   ...    건축면적   주차대수 기타/의무/임대/임의=1/2/3/4                  단지승인일 사용허가여부  \\\n",
       "0  ...  4858.0  262.0                  임의  2022-11-17 13:00:29.0      Y   \n",
       "1  ...  4858.0  262.0                  임의  2022-11-17 13:00:29.0      Y   \n",
       "\n",
       "  관리비 업로드        좌표X        좌표Y                  단지신청일 is_test  \n",
       "0       N  127.05721  37.476763  2022-11-17 10:19:06.0       0  \n",
       "1       N  127.05721  37.476763  2022-11-17 10:19:06.0       0  \n",
       "\n",
       "[2 rows x 52 columns]"
      ]
     },
     "execution_count": 2452,
     "metadata": {},
     "output_type": "execute_result"
    }
   ],
   "source": [
    "concat.head(2)"
   ]
  },
  {
   "cell_type": "markdown",
   "metadata": {},
   "source": [
    "### 명목형 변수"
   ]
  },
  {
   "cell_type": "markdown",
   "metadata": {},
   "source": [
    "#### 시군구"
   ]
  },
  {
   "cell_type": "code",
   "execution_count": 2453,
   "metadata": {},
   "outputs": [
    {
     "data": {
      "text/plain": [
       "0"
      ]
     },
     "execution_count": 2453,
     "metadata": {},
     "output_type": "execute_result"
    }
   ],
   "source": [
    "concat['시군구'].isnull().sum()"
   ]
  },
  {
   "cell_type": "code",
   "execution_count": 2454,
   "metadata": {},
   "outputs": [],
   "source": [
    "pre_df['is_test'] = concat['is_test']"
   ]
  },
  {
   "cell_type": "code",
   "execution_count": 2455,
   "metadata": {},
   "outputs": [
    {
     "data": {
      "text/plain": [
       "0    1118822\n",
       "1       9272\n",
       "Name: is_test, dtype: int64"
      ]
     },
     "execution_count": 2455,
     "metadata": {},
     "output_type": "execute_result"
    }
   ],
   "source": [
    "pre_df['is_test'].value_counts()"
   ]
  },
  {
   "cell_type": "code",
   "execution_count": 2456,
   "metadata": {},
   "outputs": [
    {
     "data": {
      "text/plain": [
       "9272"
      ]
     },
     "execution_count": 2456,
     "metadata": {},
     "output_type": "execute_result"
    }
   ],
   "source": [
    "len(pre_df.query('is_test==1'))"
   ]
  },
  {
   "cell_type": "code",
   "execution_count": 2457,
   "metadata": {},
   "outputs": [],
   "source": [
    "pre_df['시'] = concat['시군구'].str.split(expand=True)[0]\n",
    "pre_df['구'] = concat['시군구'].str.split(expand=True)[1]\n",
    "pre_df['동'] = concat['시군구'].str.split(expand=True)[2]\n",
    "\n",
    "concat.drop(columns=['시군구'], axis=1, inplace=True)"
   ]
  },
  {
   "cell_type": "code",
   "execution_count": 2458,
   "metadata": {},
   "outputs": [
    {
     "data": {
      "text/html": [
       "<div>\n",
       "<style scoped>\n",
       "    .dataframe tbody tr th:only-of-type {\n",
       "        vertical-align: middle;\n",
       "    }\n",
       "\n",
       "    .dataframe tbody tr th {\n",
       "        vertical-align: top;\n",
       "    }\n",
       "\n",
       "    .dataframe thead th {\n",
       "        text-align: right;\n",
       "    }\n",
       "</style>\n",
       "<table border=\"1\" class=\"dataframe\">\n",
       "  <thead>\n",
       "    <tr style=\"text-align: right;\">\n",
       "      <th></th>\n",
       "      <th>is_test</th>\n",
       "      <th>시</th>\n",
       "      <th>구</th>\n",
       "      <th>동</th>\n",
       "    </tr>\n",
       "  </thead>\n",
       "  <tbody>\n",
       "    <tr>\n",
       "      <th>0</th>\n",
       "      <td>0</td>\n",
       "      <td>서울특별시</td>\n",
       "      <td>강남구</td>\n",
       "      <td>개포동</td>\n",
       "    </tr>\n",
       "    <tr>\n",
       "      <th>1</th>\n",
       "      <td>0</td>\n",
       "      <td>서울특별시</td>\n",
       "      <td>강남구</td>\n",
       "      <td>개포동</td>\n",
       "    </tr>\n",
       "  </tbody>\n",
       "</table>\n",
       "</div>"
      ],
      "text/plain": [
       "   is_test      시    구    동\n",
       "0        0  서울특별시  강남구  개포동\n",
       "1        0  서울특별시  강남구  개포동"
      ]
     },
     "execution_count": 2458,
     "metadata": {},
     "output_type": "execute_result"
    }
   ],
   "source": [
    "pre_df.head(2)"
   ]
  },
  {
   "cell_type": "code",
   "execution_count": 2459,
   "metadata": {},
   "outputs": [
    {
     "data": {
      "text/plain": [
       "서울특별시    1128094\n",
       "Name: 시, dtype: int64"
      ]
     },
     "execution_count": 2459,
     "metadata": {},
     "output_type": "execute_result"
    }
   ],
   "source": [
    "pre_df['시'].value_counts()"
   ]
  },
  {
   "cell_type": "code",
   "execution_count": 2460,
   "metadata": {},
   "outputs": [],
   "source": [
    "pre_df.drop(columns=['시'], axis=1, inplace=True)"
   ]
  },
  {
   "cell_type": "code",
   "execution_count": 2461,
   "metadata": {},
   "outputs": [
    {
     "data": {
      "text/plain": [
       "노원구     115837\n",
       "송파구      74444\n",
       "강남구      69656\n",
       "강서구      67041\n",
       "강동구      62425\n",
       "구로구      57983\n",
       "성북구      57160\n",
       "양천구      54441\n",
       "서초구      53553\n",
       "도봉구      52872\n",
       "영등포구     48097\n",
       "동작구      40867\n",
       "마포구      40810\n",
       "동대문구     40068\n",
       "성동구      39831\n",
       "은평구      38664\n",
       "중랑구      37303\n",
       "관악구      36243\n",
       "서대문구     33272\n",
       "광진구      22252\n",
       "강북구      22137\n",
       "용산구      20682\n",
       "금천구      19738\n",
       "중구       13534\n",
       "종로구       9184\n",
       "Name: 구, dtype: int64"
      ]
     },
     "execution_count": 2461,
     "metadata": {},
     "output_type": "execute_result"
    }
   ],
   "source": [
    "pre_df['구'].value_counts()"
   ]
  },
  {
   "cell_type": "code",
   "execution_count": 2462,
   "metadata": {},
   "outputs": [],
   "source": [
    "pre_df = pd.concat([pre_df, pd.get_dummies(pre_df['구'])], axis=1)"
   ]
  },
  {
   "cell_type": "code",
   "execution_count": 2463,
   "metadata": {},
   "outputs": [],
   "source": [
    "pre_df.drop(columns=['구'], axis=1, inplace=True)"
   ]
  },
  {
   "cell_type": "code",
   "execution_count": 2464,
   "metadata": {},
   "outputs": [],
   "source": [
    "result = pre_df['동'].value_counts().sort_values()"
   ]
  },
  {
   "cell_type": "code",
   "execution_count": 2465,
   "metadata": {},
   "outputs": [],
   "source": [
    "value_to_label = {value: i for i, value in enumerate(result.index, start=1)}"
   ]
  },
  {
   "cell_type": "code",
   "execution_count": 2466,
   "metadata": {},
   "outputs": [],
   "source": [
    "pre_df['동'] = pre_df['동'].map(value_to_label)"
   ]
  },
  {
   "cell_type": "code",
   "execution_count": 2467,
   "metadata": {},
   "outputs": [
    {
     "data": {
      "text/plain": [
       "0    1118822\n",
       "1       9272\n",
       "Name: is_test, dtype: int64"
      ]
     },
     "execution_count": 2467,
     "metadata": {},
     "output_type": "execute_result"
    }
   ],
   "source": [
    "pre_df['is_test'].value_counts()"
   ]
  },
  {
   "cell_type": "code",
   "execution_count": 2468,
   "metadata": {},
   "outputs": [
    {
     "data": {
      "text/plain": [
       "9272"
      ]
     },
     "execution_count": 2468,
     "metadata": {},
     "output_type": "execute_result"
    }
   ],
   "source": [
    "len(pre_df.query('is_test==1'))"
   ]
  },
  {
   "cell_type": "markdown",
   "metadata": {
    "notebookRunGroups": {
     "groupValue": "1"
    }
   },
   "source": [
    "#### 아파트명"
   ]
  },
  {
   "cell_type": "code",
   "execution_count": 2469,
   "metadata": {},
   "outputs": [],
   "source": [
    "pre_df.reset_index(drop=True, inplace=True)"
   ]
  },
  {
   "cell_type": "code",
   "execution_count": 2470,
   "metadata": {},
   "outputs": [
    {
     "data": {
      "text/plain": [
       "2136"
      ]
     },
     "execution_count": 2470,
     "metadata": {},
     "output_type": "execute_result"
    }
   ],
   "source": [
    "concat['아파트명'].isnull().sum()"
   ]
  },
  {
   "cell_type": "code",
   "execution_count": 2471,
   "metadata": {},
   "outputs": [
    {
     "data": {
      "text/plain": [
       "9272"
      ]
     },
     "execution_count": 2471,
     "metadata": {},
     "output_type": "execute_result"
    }
   ],
   "source": [
    "len(pre_df.query('is_test==1'))"
   ]
  },
  {
   "cell_type": "code",
   "execution_count": 2472,
   "metadata": {},
   "outputs": [],
   "source": [
    "tmp_0 = concat.query('is_test==0')\n",
    "tmp_1 = concat.query('is_test==1')"
   ]
  },
  {
   "cell_type": "code",
   "execution_count": 2473,
   "metadata": {},
   "outputs": [
    {
     "data": {
      "text/plain": [
       "(1128094, 1128094)"
      ]
     },
     "execution_count": 2473,
     "metadata": {},
     "output_type": "execute_result"
    }
   ],
   "source": [
    "len(concat), len(pre_df)"
   ]
  },
  {
   "cell_type": "code",
   "execution_count": 2474,
   "metadata": {},
   "outputs": [
    {
     "data": {
      "text/plain": [
       "2126"
      ]
     },
     "execution_count": 2474,
     "metadata": {},
     "output_type": "execute_result"
    }
   ],
   "source": [
    "tmp_0['아파트명'].isnull().sum()"
   ]
  },
  {
   "cell_type": "code",
   "execution_count": 2475,
   "metadata": {},
   "outputs": [
    {
     "data": {
      "text/plain": [
       "2126"
      ]
     },
     "execution_count": 2475,
     "metadata": {},
     "output_type": "execute_result"
    }
   ],
   "source": [
    "len(nan_index)"
   ]
  },
  {
   "cell_type": "code",
   "execution_count": 2476,
   "metadata": {},
   "outputs": [],
   "source": [
    "nan_index = tmp_0[tmp_0['아파트명'].isnull()].index"
   ]
  },
  {
   "cell_type": "code",
   "execution_count": 2477,
   "metadata": {},
   "outputs": [
    {
     "data": {
      "text/plain": [
       "0    2126\n",
       "Name: is_test, dtype: int64"
      ]
     },
     "execution_count": 2477,
     "metadata": {},
     "output_type": "execute_result"
    }
   ],
   "source": [
    "pre_df.loc[nan_index]['is_test'].value_counts() # ?"
   ]
  },
  {
   "cell_type": "code",
   "execution_count": 2478,
   "metadata": {},
   "outputs": [],
   "source": [
    "tmp_0.drop(nan_index, inplace=True)\n",
    "tmp_0.reset_index(inplace=True, drop=True)"
   ]
  },
  {
   "cell_type": "code",
   "execution_count": 2479,
   "metadata": {},
   "outputs": [],
   "source": [
    "concat = pd.concat([tmp_0, tmp_1]) \n",
    "concat.reset_index(inplace=True, drop=True)"
   ]
  },
  {
   "cell_type": "code",
   "execution_count": 2480,
   "metadata": {},
   "outputs": [],
   "source": [
    "y.drop(nan_index, inplace=True)\n",
    "y.reset_index(inplace=True, drop=True)\n",
    "\n",
    "pre_df.drop(nan_index, inplace=True)\n",
    "pre_df.reset_index(inplace=True, drop=True)"
   ]
  },
  {
   "cell_type": "code",
   "execution_count": 2481,
   "metadata": {},
   "outputs": [
    {
     "data": {
      "text/plain": [
       "9272"
      ]
     },
     "execution_count": 2481,
     "metadata": {},
     "output_type": "execute_result"
    }
   ],
   "source": [
    "len(concat[concat['is_test'] == 1])"
   ]
  },
  {
   "cell_type": "code",
   "execution_count": 2482,
   "metadata": {},
   "outputs": [
    {
     "data": {
      "text/plain": [
       "9272"
      ]
     },
     "execution_count": 2482,
     "metadata": {},
     "output_type": "execute_result"
    }
   ],
   "source": [
    "len(pre_df.query('is_test==1'))"
   ]
  },
  {
   "cell_type": "code",
   "execution_count": 2483,
   "metadata": {},
   "outputs": [
    {
     "data": {
      "text/plain": [
       "10"
      ]
     },
     "execution_count": 2483,
     "metadata": {},
     "output_type": "execute_result"
    }
   ],
   "source": [
    "concat['아파트명'].isnull().sum()"
   ]
  },
  {
   "cell_type": "code",
   "execution_count": 2484,
   "metadata": {},
   "outputs": [],
   "source": [
    "concat['아파트명'] = concat['아파트명'].fillna('기타')"
   ]
  },
  {
   "cell_type": "code",
   "execution_count": 2485,
   "metadata": {},
   "outputs": [
    {
     "data": {
      "text/plain": [
       "6550"
      ]
     },
     "execution_count": 2485,
     "metadata": {},
     "output_type": "execute_result"
    }
   ],
   "source": [
    "len(concat['아파트명'].value_counts())"
   ]
  },
  {
   "cell_type": "code",
   "execution_count": 2486,
   "metadata": {},
   "outputs": [],
   "source": [
    "concat['아파트명'] = concat['아파트명'].str.split('', expand=True)[1] + concat['아파트명'].str.split('', expand=True)[2]"
   ]
  },
  {
   "cell_type": "code",
   "execution_count": 2487,
   "metadata": {},
   "outputs": [
    {
     "data": {
      "text/plain": [
       "1926"
      ]
     },
     "execution_count": 2487,
     "metadata": {},
     "output_type": "execute_result"
    }
   ],
   "source": [
    "len(concat['아파트명'].value_counts())"
   ]
  },
  {
   "cell_type": "code",
   "execution_count": 2488,
   "metadata": {},
   "outputs": [],
   "source": [
    "result = concat['아파트명'].value_counts().sort_values()\n",
    "value_to_label = {value: i for i, value in enumerate(result.index, start=1)}\n",
    "pre_df['아파트명'] = concat['아파트명'].map(value_to_label)"
   ]
  },
  {
   "cell_type": "code",
   "execution_count": 2489,
   "metadata": {},
   "outputs": [
    {
     "data": {
      "text/plain": [
       "Index(['뉴목', '은석', '마인', '실버', '임선', '방산', '천수', '국도', '주승', '혜승', '미광', '도영',\n",
       "       '자산', '아펠', '성용', '두온', '두암', '금상', '에쉐', '기타', '동승', '대암', '태림', '태상',\n",
       "       '장방', '토토', '동관', '천보', '주얼', '미양', '상왕', '풍진', '예당', '밀란', '명가', '서로',\n",
       "       'AP', '갑지', '유풍', '띠에', '오장'],\n",
       "      dtype='object')"
      ]
     },
     "execution_count": 2489,
     "metadata": {},
     "output_type": "execute_result"
    }
   ],
   "source": [
    "result[result == 10].index"
   ]
  },
  {
   "cell_type": "code",
   "execution_count": 2490,
   "metadata": {},
   "outputs": [],
   "source": [
    "concat.drop(columns=['아파트명'], axis=1, inplace=True)"
   ]
  },
  {
   "cell_type": "code",
   "execution_count": 2491,
   "metadata": {},
   "outputs": [
    {
     "data": {
      "text/plain": [
       "9272"
      ]
     },
     "execution_count": 2491,
     "metadata": {},
     "output_type": "execute_result"
    }
   ],
   "source": [
    "len(pre_df.query('is_test==1'))"
   ]
  },
  {
   "cell_type": "markdown",
   "metadata": {},
   "source": [
    "#### 도로명"
   ]
  },
  {
   "cell_type": "code",
   "execution_count": 2492,
   "metadata": {},
   "outputs": [
    {
     "data": {
      "text/plain": [
       "0"
      ]
     },
     "execution_count": 2492,
     "metadata": {},
     "output_type": "execute_result"
    }
   ],
   "source": [
    "concat['도로명'].isnull().sum()"
   ]
  },
  {
   "cell_type": "code",
   "execution_count": 2493,
   "metadata": {},
   "outputs": [],
   "source": [
    "concat['도로명'] = concat['도로명'].str.split(' ', expand=True)[0]"
   ]
  },
  {
   "cell_type": "code",
   "execution_count": 2494,
   "metadata": {},
   "outputs": [
    {
     "data": {
      "text/plain": [
       "마들로        13255\n",
       "올림픽로       12790\n",
       "섬밭로        10442\n",
       "해등로        10307\n",
       "목동동로        9810\n",
       "           ...  \n",
       "반포대로9길         1\n",
       "동일로101길        1\n",
       "국사봉6길          1\n",
       "동산로10길         1\n",
       "송정길            1\n",
       "Name: 도로명, Length: 3601, dtype: int64"
      ]
     },
     "execution_count": 2494,
     "metadata": {},
     "output_type": "execute_result"
    }
   ],
   "source": [
    "concat['도로명'].value_counts()"
   ]
  },
  {
   "cell_type": "code",
   "execution_count": 2495,
   "metadata": {},
   "outputs": [
    {
     "data": {
      "text/plain": [
       "동일로      35115\n",
       "올림픽로     19757\n",
       "덕릉로      17242\n",
       "양천로      15821\n",
       "한글비석로    15416\n",
       "         ...  \n",
       "비봉길          4\n",
       "위례송파로        3\n",
       "숭문           3\n",
       "과천대로         2\n",
       "송정길          1\n",
       "Name: 도로명, Length: 578, dtype: int64"
      ]
     },
     "execution_count": 2495,
     "metadata": {},
     "output_type": "execute_result"
    }
   ],
   "source": [
    "concat['도로명'] = concat['도로명'].str.replace(r'\\d+(가|나|다|라|마|바|사|아|자|차|카|타|파|하)?길', '', regex=True)\n",
    "concat['도로명'].value_counts()"
   ]
  },
  {
   "cell_type": "code",
   "execution_count": 2496,
   "metadata": {},
   "outputs": [],
   "source": [
    "result = concat['도로명'].value_counts().sort_values()\n",
    "value_to_label = {value: i for i, value in enumerate(result.index, start=1)}\n",
    "pre_df['도로명'] = concat['도로명'].map(value_to_label)\n",
    "concat.drop(columns=['도로명'], axis=1, inplace=True)"
   ]
  },
  {
   "cell_type": "markdown",
   "metadata": {},
   "source": [
    "#### 거래유형"
   ]
  },
  {
   "cell_type": "code",
   "execution_count": 2497,
   "metadata": {},
   "outputs": [
    {
     "data": {
      "text/plain": [
       "0"
      ]
     },
     "execution_count": 2497,
     "metadata": {},
     "output_type": "execute_result"
    }
   ],
   "source": [
    "concat['거래유형'].isnull().sum()"
   ]
  },
  {
   "cell_type": "code",
   "execution_count": 2498,
   "metadata": {},
   "outputs": [
    {
     "data": {
      "text/plain": [
       "-       1084480\n",
       "중개거래      38010\n",
       "직거래        3478\n",
       "Name: 거래유형, dtype: int64"
      ]
     },
     "execution_count": 2498,
     "metadata": {},
     "output_type": "execute_result"
    }
   ],
   "source": [
    "concat['거래유형'].value_counts()"
   ]
  },
  {
   "cell_type": "code",
   "execution_count": 2499,
   "metadata": {},
   "outputs": [],
   "source": [
    "pre_df[['거래유형_-', '거래유형_중개거래','거래유형_직거래']] = pd.get_dummies(concat, columns=['거래유형'], prefix=\"거래유형\")[['거래유형_-', '거래유형_중개거래','거래유형_직거래']]"
   ]
  },
  {
   "cell_type": "code",
   "execution_count": 2500,
   "metadata": {},
   "outputs": [
    {
     "name": "stdout",
     "output_type": "stream",
     "text": [
      "(1116696, 31) (9272, 31) (1116696,)\n"
     ]
    }
   ],
   "source": [
    "# 이제 다시 train과 test dataset을 분할해줍니다. 위에서 제작해 놓았던 is_test 칼럼을 이용합니다.\n",
    "pre_train = pre_df.query('is_test==0')\n",
    "pre_test = pre_df.query('is_test==1')\n",
    "\n",
    "# 이제 is_test 칼럼은 drop해줍니다.\n",
    "pre_train.drop(['is_test'], axis = 1, inplace=True)\n",
    "pre_test.drop(['is_test'], axis = 1, inplace=True)\n",
    "print(pre_train.shape, pre_test.shape, y.shape)\n",
    "\n",
    "pre_train.to_csv(\"../data/pre_train.csv\", index=False)\n",
    "pre_test.to_csv(\"../data/pre_test.csv\", index=False)\n",
    "y.to_csv(\"../data/target.csv\", index=False)"
   ]
  },
  {
   "cell_type": "code",
   "execution_count": 2501,
   "metadata": {},
   "outputs": [],
   "source": [
    "concat.drop(columns=['거래유형'], axis=1, inplace=True)"
   ]
  },
  {
   "cell_type": "markdown",
   "metadata": {},
   "source": [
    "#### 중개사소재지"
   ]
  },
  {
   "cell_type": "code",
   "execution_count": 2502,
   "metadata": {},
   "outputs": [
    {
     "data": {
      "text/plain": [
       "0"
      ]
     },
     "execution_count": 2502,
     "metadata": {},
     "output_type": "execute_result"
    }
   ],
   "source": [
    "concat['중개사소재지'].isnull().sum()"
   ]
  },
  {
   "cell_type": "code",
   "execution_count": 2503,
   "metadata": {},
   "outputs": [
    {
     "data": {
      "text/plain": [
       "-                  1088000\n",
       "서울 노원구                2627\n",
       "서울 송파구                2538\n",
       "서울 강남구                2506\n",
       "서울 강동구                2038\n",
       "                    ...   \n",
       "서울 송파구, 인천 계양구           1\n",
       "경기 연천군, 서울 송파구           1\n",
       "부산 해운대구, 서울 송파구          1\n",
       "경기 김포시, 서울 송파구           1\n",
       "서울 중랑구, 인천 부평구           1\n",
       "Name: 중개사소재지, Length: 737, dtype: int64"
      ]
     },
     "execution_count": 2503,
     "metadata": {},
     "output_type": "execute_result"
    }
   ],
   "source": [
    "concat['중개사소재지'].value_counts()"
   ]
  },
  {
   "cell_type": "code",
   "execution_count": 2504,
   "metadata": {},
   "outputs": [],
   "source": [
    "pre_df['중개사소재지_개수합'] = concat['중개사소재지'].str.split(',', expand=True).applymap(lambda x: 0 if x in ['-', None] else 1).sum(axis=1)"
   ]
  },
  {
   "cell_type": "code",
   "execution_count": 2505,
   "metadata": {},
   "outputs": [
    {
     "data": {
      "text/plain": [
       "0    1088000\n",
       "1      34606\n",
       "2       3345\n",
       "3         17\n",
       "Name: 중개사소재지_개수합, dtype: int64"
      ]
     },
     "execution_count": 2505,
     "metadata": {},
     "output_type": "execute_result"
    }
   ],
   "source": [
    "pre_df['중개사소재지_개수합'].value_counts()"
   ]
  },
  {
   "cell_type": "code",
   "execution_count": 2506,
   "metadata": {},
   "outputs": [],
   "source": [
    "pre_df['중개사소재지'] = concat['중개사소재지'].str.split(expand=True)[0]\n",
    "pre_df['중개사소재지'] = pre_df['중개사소재지'].map(lambda x : 1 if x == '서울' else -1 if  x == '-' else 0)"
   ]
  },
  {
   "cell_type": "code",
   "execution_count": 2507,
   "metadata": {},
   "outputs": [
    {
     "name": "stdout",
     "output_type": "stream",
     "text": [
      "(1116696, 33) (9272, 33) (1116696,)\n"
     ]
    }
   ],
   "source": [
    "# 이제 다시 train과 test dataset을 분할해줍니다. 위에서 제작해 놓았던 is_test 칼럼을 이용합니다.\n",
    "pre_train = pre_df.query('is_test==0')\n",
    "pre_test = pre_df.query('is_test==1')\n",
    "\n",
    "# 이제 is_test 칼럼은 drop해줍니다.\n",
    "pre_train.drop(['is_test'], axis = 1, inplace=True)\n",
    "pre_test.drop(['is_test'], axis = 1, inplace=True)\n",
    "print(pre_train.shape, pre_test.shape, y.shape)\n",
    "\n",
    "pre_train.to_csv(\"../data/pre_train.csv\", index=False)\n",
    "pre_test.to_csv(\"../data/pre_test.csv\", index=False)\n",
    "y.to_csv(\"../data/target.csv\", index=False)"
   ]
  },
  {
   "cell_type": "code",
   "execution_count": 2508,
   "metadata": {},
   "outputs": [],
   "source": [
    "concat.drop(columns=['중개사소재지'], axis=1, inplace=True)"
   ]
  },
  {
   "cell_type": "markdown",
   "metadata": {},
   "source": [
    "#### 단지분류"
   ]
  },
  {
   "cell_type": "code",
   "execution_count": 2509,
   "metadata": {},
   "outputs": [
    {
     "data": {
      "text/plain": [
       "0.7772396728859079"
      ]
     },
     "execution_count": 2509,
     "metadata": {},
     "output_type": "execute_result"
    }
   ],
   "source": [
    "concat['k-단지분류(아파트,주상복합등등)'].isnull().sum() / len(concat)"
   ]
  },
  {
   "cell_type": "code",
   "execution_count": 2510,
   "metadata": {},
   "outputs": [
    {
     "data": {
      "text/plain": [
       "아파트               238586\n",
       "주상복합               11450\n",
       "도시형 생활주택(주상복합)       505\n",
       "도시형 생활주택(아파트)        155\n",
       "연립주택                 125\n",
       "Name: k-단지분류(아파트,주상복합등등), dtype: int64"
      ]
     },
     "execution_count": 2510,
     "metadata": {},
     "output_type": "execute_result"
    }
   ],
   "source": [
    "concat['k-단지분류(아파트,주상복합등등)'].value_counts()"
   ]
  },
  {
   "cell_type": "code",
   "execution_count": 2511,
   "metadata": {},
   "outputs": [
    {
     "data": {
      "text/plain": [
       "아파트     238586\n",
       "주상복합     11450\n",
       "도시형        660\n",
       "연립주택       125\n",
       "Name: 0, dtype: int64"
      ]
     },
     "execution_count": 2511,
     "metadata": {},
     "output_type": "execute_result"
    }
   ],
   "source": [
    "concat['k-단지분류(아파트,주상복합등등)'].str.split(expand=True)[0].value_counts()"
   ]
  },
  {
   "cell_type": "code",
   "execution_count": 2512,
   "metadata": {},
   "outputs": [],
   "source": [
    "pre_df['단지분류'] = concat['k-단지분류(아파트,주상복합등등)'].str.split(expand=True)[0]"
   ]
  },
  {
   "cell_type": "code",
   "execution_count": 2513,
   "metadata": {},
   "outputs": [],
   "source": [
    "pre_df['단지분류'] = pre_df['단지분류'].fillna('기타')"
   ]
  },
  {
   "cell_type": "code",
   "execution_count": 2514,
   "metadata": {},
   "outputs": [
    {
     "data": {
      "text/plain": [
       "기타      875147\n",
       "아파트     238586\n",
       "주상복합     11450\n",
       "도시형        660\n",
       "연립주택       125\n",
       "Name: 단지분류, dtype: int64"
      ]
     },
     "execution_count": 2514,
     "metadata": {},
     "output_type": "execute_result"
    }
   ],
   "source": [
    "pre_df['단지분류'].value_counts()"
   ]
  },
  {
   "cell_type": "code",
   "execution_count": 2515,
   "metadata": {},
   "outputs": [],
   "source": [
    "result = pre_df['단지분류'].value_counts().sort_values()\n",
    "value_to_label = {value: i for i, value in enumerate(result.index, start=1)}\n",
    "pre_df['단지분류'] = pre_df['단지분류'].map(value_to_label)\n",
    "concat.drop(columns=['k-단지분류(아파트,주상복합등등)'], axis=1, inplace=True)"
   ]
  },
  {
   "cell_type": "code",
   "execution_count": 2516,
   "metadata": {},
   "outputs": [
    {
     "data": {
      "text/plain": [
       "5    875147\n",
       "4    238586\n",
       "3     11450\n",
       "2       660\n",
       "1       125\n",
       "Name: 단지분류, dtype: int64"
      ]
     },
     "execution_count": 2516,
     "metadata": {},
     "output_type": "execute_result"
    }
   ],
   "source": [
    "pre_df['단지분류'].value_counts()"
   ]
  },
  {
   "cell_type": "markdown",
   "metadata": {},
   "source": [
    "#### 전화번호"
   ]
  },
  {
   "cell_type": "code",
   "execution_count": 2517,
   "metadata": {},
   "outputs": [
    {
     "data": {
      "text/plain": [
       "874724"
      ]
     },
     "execution_count": 2517,
     "metadata": {},
     "output_type": "execute_result"
    }
   ],
   "source": [
    "concat['k-전화번호'].isnull().sum()"
   ]
  },
  {
   "cell_type": "code",
   "execution_count": 2518,
   "metadata": {},
   "outputs": [],
   "source": [
    "pre_df[['전화번호_0', '전화번호_1', '전화번호_2']] = concat['k-전화번호'].str.extract(r\"(\\d{2})(\\d{3})(\\d{4})\")"
   ]
  },
  {
   "cell_type": "code",
   "execution_count": 2519,
   "metadata": {},
   "outputs": [
    {
     "data": {
      "text/plain": [
       "02    185183\n",
       "07        58\n",
       "Name: 전화번호_0, dtype: int64"
      ]
     },
     "execution_count": 2519,
     "metadata": {},
     "output_type": "execute_result"
    }
   ],
   "source": [
    "pre_df['전화번호_0'].value_counts()"
   ]
  },
  {
   "cell_type": "code",
   "execution_count": 2520,
   "metadata": {},
   "outputs": [
    {
     "data": {
      "text/plain": [
       "0    940785\n",
       "1    185183\n",
       "Name: 전화번호_0, dtype: int64"
      ]
     },
     "execution_count": 2520,
     "metadata": {},
     "output_type": "execute_result"
    }
   ],
   "source": [
    "pre_df['전화번호_0'] = pre_df['전화번호_0'].apply(lambda x : 1 if x == '02' else 0)\n",
    "pre_df['전화번호_0'].value_counts()"
   ]
  },
  {
   "cell_type": "code",
   "execution_count": 2521,
   "metadata": {},
   "outputs": [
    {
     "data": {
      "text/plain": [
       "-1      940727\n",
       " 302      5215\n",
       " 221      5055\n",
       " 267      4652\n",
       " 229      4639\n",
       "         ...  \n",
       " 461         4\n",
       " 896         3\n",
       " 456         3\n",
       " 452         1\n",
       " 220         1\n",
       "Name: 전화번호_1, Length: 331, dtype: int64"
      ]
     },
     "execution_count": 2521,
     "metadata": {},
     "output_type": "execute_result"
    }
   ],
   "source": [
    "pre_df['전화번호_1'] = pre_df['전화번호_1'].fillna(-1).astype('int')\n",
    "pre_df['전화번호_1'].value_counts()"
   ]
  },
  {
   "cell_type": "code",
   "execution_count": 2522,
   "metadata": {},
   "outputs": [
    {
     "data": {
      "text/plain": [
       "-1       940727\n",
       " 2883      3068\n",
       " 6006      2605\n",
       " 7608      2515\n",
       " 3863      2385\n",
       "          ...  \n",
       " 2930         2\n",
       " 381          2\n",
       " 9150         2\n",
       " 4500         1\n",
       " 9904         1\n",
       "Name: 전화번호_2, Length: 703, dtype: int64"
      ]
     },
     "execution_count": 2522,
     "metadata": {},
     "output_type": "execute_result"
    }
   ],
   "source": [
    "pre_df['전화번호_2'] = pre_df['전화번호_2'].fillna(-1).astype('int')\n",
    "pre_df['전화번호_2'].value_counts()"
   ]
  },
  {
   "cell_type": "code",
   "execution_count": 2523,
   "metadata": {},
   "outputs": [],
   "source": [
    "concat.drop(columns=['k-전화번호'], axis=1, inplace=True)"
   ]
  },
  {
   "cell_type": "markdown",
   "metadata": {},
   "source": [
    "#### 팩스번호"
   ]
  },
  {
   "cell_type": "code",
   "execution_count": 2524,
   "metadata": {},
   "outputs": [
    {
     "data": {
      "text/plain": [
       "877222"
      ]
     },
     "execution_count": 2524,
     "metadata": {},
     "output_type": "execute_result"
    }
   ],
   "source": [
    "concat['k-팩스번호'].isnull().sum()"
   ]
  },
  {
   "cell_type": "code",
   "execution_count": 2525,
   "metadata": {},
   "outputs": [],
   "source": [
    "pre_df[['팩스번호_0', '팩스번호_1', '팩스번호_2']] = concat['k-팩스번호'].str.extract(r\"(\\d{2})(\\d{3})(\\d{4})\")"
   ]
  },
  {
   "cell_type": "code",
   "execution_count": 2526,
   "metadata": {},
   "outputs": [
    {
     "data": {
      "text/plain": [
       "02    68689\n",
       "07       14\n",
       "Name: 팩스번호_0, dtype: int64"
      ]
     },
     "execution_count": 2526,
     "metadata": {},
     "output_type": "execute_result"
    }
   ],
   "source": [
    "pre_df['팩스번호_0'].value_counts()"
   ]
  },
  {
   "cell_type": "code",
   "execution_count": 2527,
   "metadata": {},
   "outputs": [
    {
     "data": {
      "text/plain": [
       "0    1057279\n",
       "1      68689\n",
       "Name: 팩스번호_0, dtype: int64"
      ]
     },
     "execution_count": 2527,
     "metadata": {},
     "output_type": "execute_result"
    }
   ],
   "source": [
    "pre_df['팩스번호_0'] = pre_df['팩스번호_0'].apply(lambda x : 1 if x == '02' else 0)\n",
    "pre_df['팩스번호_0'].value_counts()"
   ]
  },
  {
   "cell_type": "code",
   "execution_count": 2528,
   "metadata": {},
   "outputs": [
    {
     "data": {
      "text/plain": [
       "-1      1057265\n",
       " 266       4995\n",
       " 561       2425\n",
       " 577       2254\n",
       " 341       2000\n",
       "         ...   \n",
       " 908          2\n",
       " 813          2\n",
       " 452          1\n",
       " 593          1\n",
       " 587          1\n",
       "Name: 팩스번호_1, Length: 320, dtype: int64"
      ]
     },
     "execution_count": 2528,
     "metadata": {},
     "output_type": "execute_result"
    }
   ],
   "source": [
    "pre_df['팩스번호_1'] = pre_df['팩스번호_1'].fillna(-1).astype('int')\n",
    "pre_df['팩스번호_1'].value_counts()"
   ]
  },
  {
   "cell_type": "code",
   "execution_count": 2529,
   "metadata": {},
   "outputs": [
    {
     "data": {
      "text/plain": [
       "-1       1057265\n",
       " 3140       2425\n",
       " 4559       2144\n",
       " 6767       1421\n",
       " 8647       1200\n",
       "          ...   \n",
       " 8062          1\n",
       " 4533          1\n",
       " 391           1\n",
       " 5419          1\n",
       " 8156          1\n",
       "Name: 팩스번호_2, Length: 686, dtype: int64"
      ]
     },
     "execution_count": 2529,
     "metadata": {},
     "output_type": "execute_result"
    }
   ],
   "source": [
    "pre_df['팩스번호_2'] = pre_df['팩스번호_2'].fillna(-1).astype('int')\n",
    "pre_df['팩스번호_2'].value_counts()"
   ]
  },
  {
   "cell_type": "code",
   "execution_count": 2530,
   "metadata": {},
   "outputs": [],
   "source": [
    "concat.drop(columns=['k-팩스번호'], axis=1, inplace=True)"
   ]
  },
  {
   "cell_type": "markdown",
   "metadata": {},
   "source": [
    "#### 세대타입"
   ]
  },
  {
   "cell_type": "code",
   "execution_count": 2531,
   "metadata": {},
   "outputs": [
    {
     "data": {
      "text/plain": [
       "873999"
      ]
     },
     "execution_count": 2531,
     "metadata": {},
     "output_type": "execute_result"
    }
   ],
   "source": [
    "concat['k-세대타입(분양형태)'].isnull().sum()"
   ]
  },
  {
   "cell_type": "code",
   "execution_count": 2532,
   "metadata": {},
   "outputs": [
    {
     "data": {
      "text/plain": [
       "분양    208098\n",
       "기타     41638\n",
       "임대      2233\n",
       "Name: k-세대타입(분양형태), dtype: int64"
      ]
     },
     "execution_count": 2532,
     "metadata": {},
     "output_type": "execute_result"
    }
   ],
   "source": [
    "concat['k-세대타입(분양형태)'].value_counts()"
   ]
  },
  {
   "cell_type": "code",
   "execution_count": 2533,
   "metadata": {},
   "outputs": [],
   "source": [
    "pre_df['세대타입'] = concat['k-세대타입(분양형태)'].fillna('미정')"
   ]
  },
  {
   "cell_type": "code",
   "execution_count": 2534,
   "metadata": {},
   "outputs": [],
   "source": [
    "result = pre_df['세대타입'].value_counts().sort_values()\n",
    "value_to_label = {value: i for i, value in enumerate(result.index, start=1)}\n",
    "pre_df['세대타입'] = pre_df['세대타입'].map(value_to_label)\n",
    "concat.drop(columns=['k-세대타입(분양형태)'], axis=1, inplace=True)"
   ]
  },
  {
   "cell_type": "markdown",
   "metadata": {},
   "source": [
    "#### 관리방식"
   ]
  },
  {
   "cell_type": "code",
   "execution_count": 2535,
   "metadata": {},
   "outputs": [
    {
     "data": {
      "text/plain": [
       "873999"
      ]
     },
     "execution_count": 2535,
     "metadata": {},
     "output_type": "execute_result"
    }
   ],
   "source": [
    "concat['k-관리방식'].isnull().sum()"
   ]
  },
  {
   "cell_type": "code",
   "execution_count": 2536,
   "metadata": {},
   "outputs": [
    {
     "data": {
      "text/plain": [
       "위탁관리    230361\n",
       "자치관리     18144\n",
       "직영        3464\n",
       "Name: k-관리방식, dtype: int64"
      ]
     },
     "execution_count": 2536,
     "metadata": {},
     "output_type": "execute_result"
    }
   ],
   "source": [
    "concat['k-관리방식'].value_counts()"
   ]
  },
  {
   "cell_type": "code",
   "execution_count": 2537,
   "metadata": {},
   "outputs": [],
   "source": [
    "pre_df['관리방식'] = concat['k-관리방식'].fillna('미정')"
   ]
  },
  {
   "cell_type": "code",
   "execution_count": 2538,
   "metadata": {},
   "outputs": [],
   "source": [
    "result = pre_df['관리방식'].value_counts().sort_values()\n",
    "value_to_label = {value: i for i, value in enumerate(result.index, start=1)}\n",
    "pre_df['관리방식'] = pre_df['관리방식'].map(value_to_label)\n",
    "concat.drop(columns=['k-관리방식'], axis=1, inplace=True)"
   ]
  },
  {
   "cell_type": "markdown",
   "metadata": {},
   "source": [
    "#### 복도유형"
   ]
  },
  {
   "cell_type": "code",
   "execution_count": 2539,
   "metadata": {},
   "outputs": [
    {
     "data": {
      "text/plain": [
       "874328"
      ]
     },
     "execution_count": 2539,
     "metadata": {},
     "output_type": "execute_result"
    }
   ],
   "source": [
    "concat['k-복도유형'].isnull().sum()"
   ]
  },
  {
   "cell_type": "code",
   "execution_count": 2540,
   "metadata": {},
   "outputs": [
    {
     "data": {
      "text/plain": [
       "계단식    124964\n",
       "혼합식     85513\n",
       "복도식     38710\n",
       "타워형      1371\n",
       "기타       1082\n",
       "Name: k-복도유형, dtype: int64"
      ]
     },
     "execution_count": 2540,
     "metadata": {},
     "output_type": "execute_result"
    }
   ],
   "source": [
    "concat['k-복도유형'].value_counts()"
   ]
  },
  {
   "cell_type": "code",
   "execution_count": 2541,
   "metadata": {},
   "outputs": [],
   "source": [
    "pre_df['복도유형'] = concat['k-복도유형'].fillna('미정')"
   ]
  },
  {
   "cell_type": "code",
   "execution_count": 2542,
   "metadata": {},
   "outputs": [],
   "source": [
    "result = pre_df['복도유형'].value_counts().sort_values()\n",
    "value_to_label = {value: i for i, value in enumerate(result.index, start=1)}\n",
    "pre_df['복도유형'] = pre_df['복도유형'].map(value_to_label)\n",
    "concat.drop(columns=['k-복도유형'], axis=1, inplace=True)"
   ]
  },
  {
   "cell_type": "markdown",
   "metadata": {},
   "source": [
    "#### 난방방식"
   ]
  },
  {
   "cell_type": "code",
   "execution_count": 2543,
   "metadata": {},
   "outputs": [
    {
     "data": {
      "text/plain": [
       "873999"
      ]
     },
     "execution_count": 2543,
     "metadata": {},
     "output_type": "execute_result"
    }
   ],
   "source": [
    "concat['k-난방방식'].isnull().sum()"
   ]
  },
  {
   "cell_type": "code",
   "execution_count": 2544,
   "metadata": {},
   "outputs": [
    {
     "data": {
      "text/plain": [
       "개별난방    152365\n",
       "지역난방     84826\n",
       "중앙난방     12687\n",
       "기타        2091\n",
       "Name: k-난방방식, dtype: int64"
      ]
     },
     "execution_count": 2544,
     "metadata": {},
     "output_type": "execute_result"
    }
   ],
   "source": [
    "concat['k-난방방식'].value_counts()"
   ]
  },
  {
   "cell_type": "code",
   "execution_count": 2545,
   "metadata": {},
   "outputs": [],
   "source": [
    "pre_df['난방방식'] = concat['k-난방방식'].fillna('미정')"
   ]
  },
  {
   "cell_type": "code",
   "execution_count": 2546,
   "metadata": {},
   "outputs": [],
   "source": [
    "result = pre_df['난방방식'].value_counts().sort_values()\n",
    "value_to_label = {value: i for i, value in enumerate(result.index, start=1)}\n",
    "pre_df['난방방식'] = pre_df['난방방식'].map(value_to_label)\n",
    "concat.drop(columns=['k-난방방식'], axis=1, inplace=True)"
   ]
  },
  {
   "cell_type": "markdown",
   "metadata": {},
   "source": [
    "#### 건설사"
   ]
  },
  {
   "cell_type": "code",
   "execution_count": 2547,
   "metadata": {},
   "outputs": [
    {
     "data": {
      "text/plain": [
       "875511"
      ]
     },
     "execution_count": 2547,
     "metadata": {},
     "output_type": "execute_result"
    }
   ],
   "source": [
    "concat['k-건설사(시공사)'].isnull().sum()"
   ]
  },
  {
   "cell_type": "code",
   "execution_count": 2548,
   "metadata": {},
   "outputs": [
    {
     "data": {
      "text/plain": [
       "삼성물산         14259\n",
       "대우건설         11549\n",
       "현대건설         10575\n",
       "대한주택공사        7665\n",
       "GS건설          7015\n",
       "             ...  \n",
       "두산               5\n",
       "신영건설             3\n",
       "자이에스앤디(주)        2\n",
       "혜림건설             1\n",
       "삼익건설(주)          1\n",
       "Name: k-건설사(시공사), Length: 344, dtype: int64"
      ]
     },
     "execution_count": 2548,
     "metadata": {},
     "output_type": "execute_result"
    }
   ],
   "source": [
    "concat['k-건설사(시공사)'].value_counts()"
   ]
  },
  {
   "cell_type": "code",
   "execution_count": 2549,
   "metadata": {},
   "outputs": [],
   "source": [
    "pre_df['건설사'] = concat['k-건설사(시공사)'].str.split(' ', expand=True)[0]"
   ]
  },
  {
   "cell_type": "code",
   "execution_count": 2550,
   "metadata": {},
   "outputs": [
    {
     "data": {
      "text/plain": [
       "삼성물산         14505\n",
       "대우건설         11549\n",
       "현대건설         10575\n",
       "대한주택공사        7665\n",
       "GS건설          7015\n",
       "             ...  \n",
       "두산               5\n",
       "신영건설             3\n",
       "자이에스앤디(주)        2\n",
       "혜림건설             1\n",
       "삼익건설(주)          1\n",
       "Name: 건설사, Length: 332, dtype: int64"
      ]
     },
     "execution_count": 2550,
     "metadata": {},
     "output_type": "execute_result"
    }
   ],
   "source": [
    "pre_df['건설사'].value_counts()"
   ]
  },
  {
   "cell_type": "code",
   "execution_count": 2551,
   "metadata": {},
   "outputs": [],
   "source": [
    "pre_df['건설사'] = pre_df['건설사'].str.replace(r\"\\(.*?\\)\", \"\", regex=True).str.strip()"
   ]
  },
  {
   "cell_type": "code",
   "execution_count": 2552,
   "metadata": {},
   "outputs": [],
   "source": [
    "pre_df['건설사'] = pre_df['건설사'].str.split('', expand=True)[1] + pre_df['건설사'].str.split('', expand=True)[2]"
   ]
  },
  {
   "cell_type": "code",
   "execution_count": 2553,
   "metadata": {},
   "outputs": [
    {
     "data": {
      "text/plain": [
       "현대    32807\n",
       "삼성    27433\n",
       "대우    19651\n",
       "대림     9248\n",
       "GS     8622\n",
       "      ...  \n",
       "호반       22\n",
       "kc       20\n",
       "신영        3\n",
       "자이        2\n",
       "혜림        1\n",
       "Name: 건설사, Length: 148, dtype: int64"
      ]
     },
     "execution_count": 2553,
     "metadata": {},
     "output_type": "execute_result"
    }
   ],
   "source": [
    "pre_df['건설사'].value_counts()"
   ]
  },
  {
   "cell_type": "code",
   "execution_count": 2554,
   "metadata": {},
   "outputs": [],
   "source": [
    "pre_df['건설사'] = pre_df['건설사'].fillna('미정')"
   ]
  },
  {
   "cell_type": "code",
   "execution_count": 2555,
   "metadata": {},
   "outputs": [],
   "source": [
    "result = pre_df['건설사'].value_counts().sort_values()\n",
    "value_to_label = {value: i for i, value in enumerate(result.index, start=1)}\n",
    "pre_df['건설사'] = pre_df['건설사'].map(value_to_label)\n",
    "concat.drop(columns=['k-건설사(시공사)'], axis=1, inplace=True)"
   ]
  },
  {
   "cell_type": "markdown",
   "metadata": {},
   "source": [
    "#### 시행사"
   ]
  },
  {
   "cell_type": "code",
   "execution_count": 2556,
   "metadata": {},
   "outputs": [
    {
     "data": {
      "text/plain": [
       "875708"
      ]
     },
     "execution_count": 2556,
     "metadata": {},
     "output_type": "execute_result"
    }
   ],
   "source": [
    "concat['k-시행사'].isnull().sum()"
   ]
  },
  {
   "cell_type": "code",
   "execution_count": 2557,
   "metadata": {},
   "outputs": [
    {
     "data": {
      "text/plain": [
       "SH공사              12604\n",
       "대한주택공사             7784\n",
       "도시개발공사             4284\n",
       "sh공사               4194\n",
       "재건축조합              4065\n",
       "                  ...  \n",
       "(주)에스떠블유산업개발          2\n",
       "청명종합건설(주)             2\n",
       "사당3주택재건축정비사업조합        2\n",
       "개포우성9차모델링조합           2\n",
       "한호건설(주)               2\n",
       "Name: k-시행사, Length: 556, dtype: int64"
      ]
     },
     "execution_count": 2557,
     "metadata": {},
     "output_type": "execute_result"
    }
   ],
   "source": [
    "concat['k-시행사'].value_counts()"
   ]
  },
  {
   "cell_type": "code",
   "execution_count": 2558,
   "metadata": {},
   "outputs": [],
   "source": [
    "pre_df['시행사'] = concat['k-시행사'].str.split(' ', expand=True)[0]"
   ]
  },
  {
   "cell_type": "code",
   "execution_count": 2559,
   "metadata": {},
   "outputs": [
    {
     "data": {
      "text/plain": [
       "SH공사              12604\n",
       "대한주택공사             7784\n",
       "서울시                5687\n",
       "도시개발공사             4284\n",
       "sh공사               4194\n",
       "                  ...  \n",
       "(주)에스떠블유산업개발          2\n",
       "청명종합건설(주)             2\n",
       "사당3주택재건축정비사업조합        2\n",
       "개포우성9차모델링조합           2\n",
       "한호건설(주)               2\n",
       "Name: 시행사, Length: 548, dtype: int64"
      ]
     },
     "execution_count": 2559,
     "metadata": {},
     "output_type": "execute_result"
    }
   ],
   "source": [
    "pre_df['시행사'].value_counts()"
   ]
  },
  {
   "cell_type": "code",
   "execution_count": 2560,
   "metadata": {},
   "outputs": [],
   "source": [
    "pre_df['시행사'] = pre_df['시행사'].str.replace(r\"\\(.*?\\)\", \"\", regex=True).str.strip()"
   ]
  },
  {
   "cell_type": "code",
   "execution_count": 2561,
   "metadata": {},
   "outputs": [],
   "source": [
    "pre_df['시행사'] = pre_df['시행사'].str.split('', expand=True)[1] + pre_df['시행사'].str.split('', expand=True)[2]"
   ]
  },
  {
   "cell_type": "code",
   "execution_count": 2562,
   "metadata": {},
   "outputs": [
    {
     "data": {
      "text/plain": [
       "SH    16952\n",
       "서울    11183\n",
       "현대    10835\n",
       "대한     9017\n",
       "삼성     7145\n",
       "      ...  \n",
       "증산        6\n",
       "홍은        6\n",
       "한강        5\n",
       "청명        2\n",
       "한호        2\n",
       "Name: 시행사, Length: 335, dtype: int64"
      ]
     },
     "execution_count": 2562,
     "metadata": {},
     "output_type": "execute_result"
    }
   ],
   "source": [
    "pre_df['시행사'].value_counts()"
   ]
  },
  {
   "cell_type": "code",
   "execution_count": 2563,
   "metadata": {},
   "outputs": [],
   "source": [
    "pre_df['시행사'] = pre_df['시행사'].fillna('미정')"
   ]
  },
  {
   "cell_type": "code",
   "execution_count": 2564,
   "metadata": {},
   "outputs": [],
   "source": [
    "result = pre_df['시행사'].value_counts().sort_values()\n",
    "value_to_label = {value: i for i, value in enumerate(result.index, start=1)}\n",
    "pre_df['시행사'] = pre_df['시행사'].map(value_to_label)\n",
    "concat.drop(columns=['k-시행사'], axis=1, inplace=True)"
   ]
  },
  {
   "cell_type": "markdown",
   "metadata": {},
   "source": [
    "#### 사용검사일-사용승인일"
   ]
  },
  {
   "cell_type": "code",
   "execution_count": 2565,
   "metadata": {},
   "outputs": [
    {
     "data": {
      "text/plain": [
       "874133"
      ]
     },
     "execution_count": 2565,
     "metadata": {},
     "output_type": "execute_result"
    }
   ],
   "source": [
    "concat['k-사용검사일-사용승인일'].isnull().sum()"
   ]
  },
  {
   "cell_type": "code",
   "execution_count": 2566,
   "metadata": {},
   "outputs": [],
   "source": [
    "concat['k-사용검사일-사용승인일'] = pd.to_datetime(concat['k-사용검사일-사용승인일'])"
   ]
  },
  {
   "cell_type": "code",
   "execution_count": 2567,
   "metadata": {},
   "outputs": [],
   "source": [
    "pre_df['사용검사일_년'] = concat['k-사용검사일-사용승인일'].dt.year\n",
    "pre_df['사용검사일_월'] = concat['k-사용검사일-사용승인일'].dt.month\n",
    "pre_df['사용검사일_일'] = concat['k-사용검사일-사용승인일'].dt.day"
   ]
  },
  {
   "cell_type": "code",
   "execution_count": 2568,
   "metadata": {},
   "outputs": [
    {
     "data": {
      "text/plain": [
       "20.0"
      ]
     },
     "execution_count": 2568,
     "metadata": {},
     "output_type": "execute_result"
    }
   ],
   "source": [
    "pre_df['사용검사일_일'].median()"
   ]
  },
  {
   "cell_type": "code",
   "execution_count": 2569,
   "metadata": {},
   "outputs": [],
   "source": [
    "pre_df['사용검사일_년'] = pre_df['사용검사일_년'].fillna(0)\n",
    "pre_df['사용검사일_월'] = pre_df['사용검사일_월'].fillna(0)\n",
    "pre_df['사용검사일_일'] = pre_df['사용검사일_일'].fillna(0)"
   ]
  },
  {
   "cell_type": "code",
   "execution_count": 2570,
   "metadata": {},
   "outputs": [],
   "source": [
    "concat.drop(columns=['k-사용검사일-사용승인일'], axis=1, inplace=True)"
   ]
  },
  {
   "cell_type": "markdown",
   "metadata": {},
   "source": [
    "#### 홈페이지"
   ]
  },
  {
   "cell_type": "code",
   "execution_count": 2571,
   "metadata": {},
   "outputs": [
    {
     "data": {
      "text/plain": [
       "1011397"
      ]
     },
     "execution_count": 2571,
     "metadata": {},
     "output_type": "execute_result"
    }
   ],
   "source": [
    "concat['k-홈페이지'].isnull().sum()"
   ]
  },
  {
   "cell_type": "code",
   "execution_count": 2572,
   "metadata": {},
   "outputs": [
    {
     "data": {
      "text/plain": [
       "없음                                                        3628\n",
       "www.jsls.co.kr                                            3068\n",
       "gaepo001@naver.com                                        2816\n",
       "www.oftapt.com                                            2605\n",
       "성산시영.apt.co.kr                                            2385\n",
       "                                                          ... \n",
       "bbgran.xisad.co.kr                                           7\n",
       "www. 자양12구역지역재개발조합                                           7\n",
       "cafe.naver.com                                               6\n",
       "thesharp-trieh.hthomeservice.com/#/feeManage?_k=vm58ep       2\n",
       "http://www.i-sh.co.kr/happy/intro.do                         1\n",
       "Name: k-홈페이지, Length: 221, dtype: int64"
      ]
     },
     "execution_count": 2572,
     "metadata": {},
     "output_type": "execute_result"
    }
   ],
   "source": [
    "concat['k-홈페이지'].value_counts()"
   ]
  },
  {
   "cell_type": "code",
   "execution_count": 2573,
   "metadata": {},
   "outputs": [],
   "source": [
    "concat['k-홈페이지'] = concat['k-홈페이지'].fillna('없음')"
   ]
  },
  {
   "cell_type": "code",
   "execution_count": 2574,
   "metadata": {},
   "outputs": [],
   "source": [
    "pre_df['홈페이지'] = concat['k-홈페이지'].map(lambda x : 0 if x == '없음' else 1)"
   ]
  },
  {
   "cell_type": "code",
   "execution_count": 2575,
   "metadata": {},
   "outputs": [],
   "source": [
    "concat.drop(columns=['k-홈페이지'], axis=1, inplace=True)"
   ]
  },
  {
   "cell_type": "markdown",
   "metadata": {},
   "source": [
    "#### 등록일자, 수정일자"
   ]
  },
  {
   "cell_type": "code",
   "execution_count": 2576,
   "metadata": {},
   "outputs": [
    {
     "name": "stdout",
     "output_type": "stream",
     "text": [
      "1114260 874044\n"
     ]
    }
   ],
   "source": [
    "print(concat['k-등록일자'].isnull().sum(), concat['k-수정일자'].isnull().sum())"
   ]
  },
  {
   "cell_type": "code",
   "execution_count": 2577,
   "metadata": {},
   "outputs": [],
   "source": [
    "concat['k-등록일자'] = pd.to_datetime(concat['k-등록일자'])\n",
    "concat['k-수정일자'] = pd.to_datetime(concat['k-수정일자'])"
   ]
  },
  {
   "cell_type": "code",
   "execution_count": 2578,
   "metadata": {},
   "outputs": [],
   "source": [
    "pre_df['등록일자_년'] = concat['k-등록일자'].dt.year\n",
    "pre_df['등록일자_월'] = concat['k-등록일자'].dt.month\n",
    "pre_df['등록일자_일'] = concat['k-등록일자'].dt.day\n",
    "\n",
    "pre_df['수정일자_년'] = concat['k-수정일자'].dt.year\n",
    "pre_df['수정일자_월'] = concat['k-수정일자'].dt.month\n",
    "pre_df['수정일자_일'] = concat['k-수정일자'].dt.day"
   ]
  },
  {
   "cell_type": "code",
   "execution_count": 2579,
   "metadata": {},
   "outputs": [],
   "source": [
    "pre_df = pre_df.fillna(0)"
   ]
  },
  {
   "cell_type": "code",
   "execution_count": 2580,
   "metadata": {},
   "outputs": [],
   "source": [
    "concat.drop(columns=['k-등록일자', 'k-수정일자'], axis=1, inplace=True)"
   ]
  },
  {
   "cell_type": "markdown",
   "metadata": {},
   "source": [
    "#### 고용관리번호"
   ]
  },
  {
   "cell_type": "code",
   "execution_count": 2581,
   "metadata": {},
   "outputs": [
    {
     "data": {
      "text/plain": [
       "918631"
      ]
     },
     "execution_count": 2581,
     "metadata": {},
     "output_type": "execute_result"
    }
   ],
   "source": [
    "concat['고용보험관리번호'].isnull().sum()"
   ]
  },
  {
   "cell_type": "code",
   "execution_count": 2582,
   "metadata": {},
   "outputs": [
    {
     "data": {
      "text/plain": [
       "909-01-23103-1    3068\n",
       "21380014370       2816\n",
       "908-00-99517-1    2592\n",
       "907-009-67911     2480\n",
       "907-00-16928-1    2385\n",
       "                  ... \n",
       "92023031541         28\n",
       "91919837281         20\n",
       "918-15-59912-1      15\n",
       "206-82-61203-0       3\n",
       "21780016330          1\n",
       "Name: 고용보험관리번호, Length: 526, dtype: int64"
      ]
     },
     "execution_count": 2582,
     "metadata": {},
     "output_type": "execute_result"
    }
   ],
   "source": [
    "concat['고용보험관리번호'].value_counts()"
   ]
  },
  {
   "cell_type": "code",
   "execution_count": 2583,
   "metadata": {},
   "outputs": [
    {
     "data": {
      "text/plain": [
       "90901231031    3068\n",
       "21380014370    2816\n",
       "90800995171    2592\n",
       "90700967911    2480\n",
       "90700169281    2385\n",
       "               ... \n",
       "92023031541      28\n",
       "91919837281      20\n",
       "91815599121      15\n",
       "20682612030       3\n",
       "21780016330       1\n",
       "Name: 고용보험관리번호, Length: 525, dtype: int64"
      ]
     },
     "execution_count": 2583,
     "metadata": {},
     "output_type": "execute_result"
    }
   ],
   "source": [
    "concat['고용보험관리번호'] = concat['고용보험관리번호'].str.replace('-', '')\n",
    "concat['고용보험관리번호'].value_counts()"
   ]
  },
  {
   "cell_type": "code",
   "execution_count": 2584,
   "metadata": {},
   "outputs": [
    {
     "data": {
      "text/plain": [
       "907    71316\n",
       "909    12181\n",
       "908    11971\n",
       "910     8432\n",
       "209     7653\n",
       "       ...  \n",
       "301       73\n",
       "141       70\n",
       "921       52\n",
       "558       46\n",
       "104       33\n",
       "Name: 고용보험관리번호, Length: 73, dtype: int64"
      ]
     },
     "execution_count": 2584,
     "metadata": {},
     "output_type": "execute_result"
    }
   ],
   "source": [
    "concat['고용보험관리번호'] = concat['고용보험관리번호'].str.slice(0,3)\n",
    "concat['고용보험관리번호'].value_counts()"
   ]
  },
  {
   "cell_type": "code",
   "execution_count": 2585,
   "metadata": {},
   "outputs": [],
   "source": [
    "pre_df['고용보험관리번호'] = concat['고용보험관리번호']\n",
    "pre_df['고용보험관리번호'] = pre_df['고용보험관리번호'].fillna(000)"
   ]
  },
  {
   "cell_type": "code",
   "execution_count": 2586,
   "metadata": {},
   "outputs": [],
   "source": [
    "pre_df['고용보험관리번호'] = pre_df['고용보험관리번호'].astype('int')"
   ]
  },
  {
   "cell_type": "code",
   "execution_count": 2587,
   "metadata": {},
   "outputs": [],
   "source": [
    "concat.drop(columns = ['고용보험관리번호'], axis=1, inplace=True)"
   ]
  },
  {
   "cell_type": "markdown",
   "metadata": {},
   "source": [
    "#### 경비비관리형태"
   ]
  },
  {
   "cell_type": "code",
   "execution_count": 2588,
   "metadata": {},
   "outputs": [
    {
     "data": {
      "text/plain": [
       "875435"
      ]
     },
     "execution_count": 2588,
     "metadata": {},
     "output_type": "execute_result"
    }
   ],
   "source": [
    "concat['경비비관리형태'].isnull().sum()"
   ]
  },
  {
   "cell_type": "code",
   "execution_count": 2589,
   "metadata": {},
   "outputs": [
    {
     "data": {
      "text/plain": [
       "위탁       208757\n",
       "직영        33791\n",
       "위탁+직영      6168\n",
       "기타         1817\n",
       "Name: 경비비관리형태, dtype: int64"
      ]
     },
     "execution_count": 2589,
     "metadata": {},
     "output_type": "execute_result"
    }
   ],
   "source": [
    "concat['경비비관리형태'].value_counts()"
   ]
  },
  {
   "cell_type": "code",
   "execution_count": 2590,
   "metadata": {},
   "outputs": [],
   "source": [
    "pre_df['경비비관리형태'] = concat['경비비관리형태'].fillna('미정')"
   ]
  },
  {
   "cell_type": "code",
   "execution_count": 2591,
   "metadata": {},
   "outputs": [],
   "source": [
    "result = pre_df['경비비관리형태'].value_counts().sort_values()\n",
    "value_to_label = {value: i for i, value in enumerate(result.index, start=1)}\n",
    "pre_df['경비비관리형태'] = pre_df['경비비관리형태'].map(value_to_label)\n",
    "concat.drop(columns=['경비비관리형태'], axis=1, inplace=True)"
   ]
  },
  {
   "cell_type": "markdown",
   "metadata": {},
   "source": [
    "#### 세대전기계약방법"
   ]
  },
  {
   "cell_type": "code",
   "execution_count": 2592,
   "metadata": {},
   "outputs": [
    {
     "data": {
      "text/plain": [
       "883263"
      ]
     },
     "execution_count": 2592,
     "metadata": {},
     "output_type": "execute_result"
    }
   ],
   "source": [
    "concat['세대전기계약방법'].isnull().sum()"
   ]
  },
  {
   "cell_type": "code",
   "execution_count": 2593,
   "metadata": {},
   "outputs": [
    {
     "data": {
      "text/plain": [
       "종합계약    124610\n",
       "단일계약    118095\n",
       "Name: 세대전기계약방법, dtype: int64"
      ]
     },
     "execution_count": 2593,
     "metadata": {},
     "output_type": "execute_result"
    }
   ],
   "source": [
    "concat['세대전기계약방법'].value_counts()"
   ]
  },
  {
   "cell_type": "code",
   "execution_count": 2594,
   "metadata": {},
   "outputs": [],
   "source": [
    "pre_df['세대전기계약방법'] = concat['세대전기계약방법'].fillna('모름')"
   ]
  },
  {
   "cell_type": "code",
   "execution_count": 2595,
   "metadata": {},
   "outputs": [
    {
     "data": {
      "text/plain": [
       "모름      883263\n",
       "종합계약    124610\n",
       "단일계약    118095\n",
       "Name: 세대전기계약방법, dtype: int64"
      ]
     },
     "execution_count": 2595,
     "metadata": {},
     "output_type": "execute_result"
    }
   ],
   "source": [
    "pre_df['세대전기계약방법'].value_counts()"
   ]
  },
  {
   "cell_type": "code",
   "execution_count": 2596,
   "metadata": {},
   "outputs": [],
   "source": [
    "result = pre_df['세대전기계약방법'].value_counts().sort_values()\n",
    "value_to_label = {value: i for i, value in enumerate(result.index, start=1)}\n",
    "pre_df['세대전기계약방법'] = pre_df['세대전기계약방법'].map(value_to_label)\n",
    "concat.drop(columns=['세대전기계약방법'], axis=1, inplace=True)"
   ]
  },
  {
   "cell_type": "markdown",
   "metadata": {},
   "source": [
    "#### 청소비관리형태"
   ]
  },
  {
   "cell_type": "code",
   "execution_count": 2597,
   "metadata": {},
   "outputs": [
    {
     "data": {
      "text/plain": [
       "875625"
      ]
     },
     "execution_count": 2597,
     "metadata": {},
     "output_type": "execute_result"
    }
   ],
   "source": [
    "concat['청소비관리형태'].isnull().sum()"
   ]
  },
  {
   "cell_type": "code",
   "execution_count": 2598,
   "metadata": {},
   "outputs": [
    {
     "data": {
      "text/plain": [
       "위탁       227511\n",
       "직영        15174\n",
       "위탁+직영      4179\n",
       "기타         3479\n",
       "Name: 청소비관리형태, dtype: int64"
      ]
     },
     "execution_count": 2598,
     "metadata": {},
     "output_type": "execute_result"
    }
   ],
   "source": [
    "concat['청소비관리형태'].value_counts()"
   ]
  },
  {
   "cell_type": "code",
   "execution_count": 2599,
   "metadata": {},
   "outputs": [],
   "source": [
    "pre_df['청소비관리형태'] = concat['청소비관리형태'].fillna('모름')"
   ]
  },
  {
   "cell_type": "code",
   "execution_count": 2600,
   "metadata": {},
   "outputs": [
    {
     "data": {
      "text/plain": [
       "모름       875625\n",
       "위탁       227511\n",
       "직영        15174\n",
       "위탁+직영      4179\n",
       "기타         3479\n",
       "Name: 청소비관리형태, dtype: int64"
      ]
     },
     "execution_count": 2600,
     "metadata": {},
     "output_type": "execute_result"
    }
   ],
   "source": [
    "pre_df['청소비관리형태'].value_counts()"
   ]
  },
  {
   "cell_type": "code",
   "execution_count": 2601,
   "metadata": {},
   "outputs": [],
   "source": [
    "result = pre_df['청소비관리형태'].value_counts().sort_values()\n",
    "value_to_label = {value: i for i, value in enumerate(result.index, start=1)}\n",
    "pre_df['청소비관리형태'] = pre_df['청소비관리형태'].map(value_to_label)\n",
    "concat.drop(columns=['청소비관리형태'], axis=1, inplace=True)"
   ]
  },
  {
   "cell_type": "markdown",
   "metadata": {},
   "source": [
    "#### 기타/의무/임대/임의"
   ]
  },
  {
   "cell_type": "code",
   "execution_count": 2602,
   "metadata": {},
   "outputs": [
    {
     "data": {
      "text/plain": [
       "873999"
      ]
     },
     "execution_count": 2602,
     "metadata": {},
     "output_type": "execute_result"
    }
   ],
   "source": [
    "concat['기타/의무/임대/임의=1/2/3/4'].isnull().sum()"
   ]
  },
  {
   "cell_type": "code",
   "execution_count": 2603,
   "metadata": {},
   "outputs": [
    {
     "data": {
      "text/plain": [
       "의무    241849\n",
       "기타      4186\n",
       "임의      3701\n",
       "임대      2233\n",
       "Name: 기타/의무/임대/임의=1/2/3/4, dtype: int64"
      ]
     },
     "execution_count": 2603,
     "metadata": {},
     "output_type": "execute_result"
    }
   ],
   "source": [
    "concat['기타/의무/임대/임의=1/2/3/4'].value_counts()"
   ]
  },
  {
   "cell_type": "code",
   "execution_count": 2604,
   "metadata": {},
   "outputs": [],
   "source": [
    "pre_df['기타/의무/임대/임의'] = concat['기타/의무/임대/임의=1/2/3/4'].fillna('모름')"
   ]
  },
  {
   "cell_type": "code",
   "execution_count": 2605,
   "metadata": {},
   "outputs": [],
   "source": [
    "result = pre_df['기타/의무/임대/임의'].value_counts().sort_values()\n",
    "value_to_label = {value: i for i, value in enumerate(result.index, start=1)}\n",
    "pre_df['기타/의무/임대/임의'] = pre_df['기타/의무/임대/임의'].map(value_to_label)\n",
    "concat.drop(columns=['기타/의무/임대/임의=1/2/3/4'], axis=1, inplace=True)"
   ]
  },
  {
   "cell_type": "markdown",
   "metadata": {},
   "source": [
    "#### 단지승인일"
   ]
  },
  {
   "cell_type": "code",
   "execution_count": 2606,
   "metadata": {},
   "outputs": [
    {
     "data": {
      "text/plain": [
       "874728"
      ]
     },
     "execution_count": 2606,
     "metadata": {},
     "output_type": "execute_result"
    }
   ],
   "source": [
    "concat['단지승인일'].isnull().sum()"
   ]
  },
  {
   "cell_type": "code",
   "execution_count": 2607,
   "metadata": {},
   "outputs": [],
   "source": [
    "concat['단지승인일'] = pd.to_datetime(concat['단지승인일'])"
   ]
  },
  {
   "cell_type": "code",
   "execution_count": 2608,
   "metadata": {},
   "outputs": [],
   "source": [
    "pre_df['단지승인일_년'] = concat['단지승인일'].dt.year\n",
    "pre_df['단지승인일_월'] = concat['단지승인일'].dt.month\n",
    "pre_df['단지승인일_일'] = concat['단지승인일'].dt.day"
   ]
  },
  {
   "cell_type": "code",
   "execution_count": 2609,
   "metadata": {},
   "outputs": [],
   "source": [
    "pre_df = pre_df.fillna(0)"
   ]
  },
  {
   "cell_type": "code",
   "execution_count": 2610,
   "metadata": {},
   "outputs": [],
   "source": [
    "concat.drop(columns=['단지승인일'], axis=1, inplace=True)"
   ]
  },
  {
   "cell_type": "markdown",
   "metadata": {},
   "source": [
    "#### 사용허가여부"
   ]
  },
  {
   "cell_type": "code",
   "execution_count": 2611,
   "metadata": {},
   "outputs": [
    {
     "data": {
      "text/plain": [
       "873999"
      ]
     },
     "execution_count": 2611,
     "metadata": {},
     "output_type": "execute_result"
    }
   ],
   "source": [
    "concat['사용허가여부'].isnull().sum()"
   ]
  },
  {
   "cell_type": "code",
   "execution_count": 2612,
   "metadata": {},
   "outputs": [
    {
     "data": {
      "text/plain": [
       "Y    251969\n",
       "Name: 사용허가여부, dtype: int64"
      ]
     },
     "execution_count": 2612,
     "metadata": {},
     "output_type": "execute_result"
    }
   ],
   "source": [
    "concat['사용허가여부'].value_counts()"
   ]
  },
  {
   "cell_type": "code",
   "execution_count": 2613,
   "metadata": {},
   "outputs": [],
   "source": [
    "pre_df['사용허가여부'] = concat['사용허가여부'].fillna('N')"
   ]
  },
  {
   "cell_type": "code",
   "execution_count": 2614,
   "metadata": {},
   "outputs": [],
   "source": [
    "pre_df['사용허가여부'] = pre_df['사용허가여부'].map(lambda x : 1 if x == 'Y' else 0)"
   ]
  },
  {
   "cell_type": "code",
   "execution_count": 2615,
   "metadata": {},
   "outputs": [
    {
     "data": {
      "text/plain": [
       "0    873999\n",
       "1    251969\n",
       "Name: 사용허가여부, dtype: int64"
      ]
     },
     "execution_count": 2615,
     "metadata": {},
     "output_type": "execute_result"
    }
   ],
   "source": [
    "pre_df['사용허가여부'].value_counts()"
   ]
  },
  {
   "cell_type": "code",
   "execution_count": 2616,
   "metadata": {},
   "outputs": [],
   "source": [
    "concat.drop(columns=['사용허가여부'], axis=1, inplace=True)"
   ]
  },
  {
   "cell_type": "markdown",
   "metadata": {},
   "source": [
    "#### 관리비 업로드"
   ]
  },
  {
   "cell_type": "code",
   "execution_count": 2617,
   "metadata": {},
   "outputs": [
    {
     "data": {
      "text/plain": [
       "873999"
      ]
     },
     "execution_count": 2617,
     "metadata": {},
     "output_type": "execute_result"
    }
   ],
   "source": [
    "concat['관리비 업로드'].isnull().sum()"
   ]
  },
  {
   "cell_type": "code",
   "execution_count": 2618,
   "metadata": {},
   "outputs": [
    {
     "data": {
      "text/plain": [
       "N    247788\n",
       "Y      4181\n",
       "Name: 관리비 업로드, dtype: int64"
      ]
     },
     "execution_count": 2618,
     "metadata": {},
     "output_type": "execute_result"
    }
   ],
   "source": [
    "concat['관리비 업로드'].value_counts()"
   ]
  },
  {
   "cell_type": "code",
   "execution_count": 2619,
   "metadata": {},
   "outputs": [
    {
     "data": {
      "text/plain": [
       "-1    873999\n",
       " 0    247788\n",
       " 1      4181\n",
       "Name: 관리비 업로드, dtype: int64"
      ]
     },
     "execution_count": 2619,
     "metadata": {},
     "output_type": "execute_result"
    }
   ],
   "source": [
    "concat['관리비 업로드'] = concat['관리비 업로드'].map(lambda x : 1 if x == 'Y' else 0 if x == 'N' else -1)\n",
    "concat['관리비 업로드'].value_counts()"
   ]
  },
  {
   "cell_type": "code",
   "execution_count": 2620,
   "metadata": {},
   "outputs": [],
   "source": [
    "pre_df['관리비업로드'] = concat['관리비 업로드']"
   ]
  },
  {
   "cell_type": "code",
   "execution_count": 2621,
   "metadata": {},
   "outputs": [],
   "source": [
    "concat.drop(columns=['관리비 업로드'] , axis = 1, inplace=True)"
   ]
  },
  {
   "cell_type": "markdown",
   "metadata": {},
   "source": [
    "#### 단지신청일"
   ]
  },
  {
   "cell_type": "code",
   "execution_count": 2622,
   "metadata": {},
   "outputs": [
    {
     "data": {
      "text/plain": [
       "874061"
      ]
     },
     "execution_count": 2622,
     "metadata": {},
     "output_type": "execute_result"
    }
   ],
   "source": [
    "concat['단지신청일'].isnull().sum()"
   ]
  },
  {
   "cell_type": "code",
   "execution_count": 2623,
   "metadata": {},
   "outputs": [],
   "source": [
    "concat['단지신청일'] = pd.to_datetime(concat['단지신청일'])"
   ]
  },
  {
   "cell_type": "code",
   "execution_count": 2624,
   "metadata": {},
   "outputs": [],
   "source": [
    "pre_df['단지신청일_년'] = concat['단지신청일'].dt.year\n",
    "pre_df['단지신청일_월'] = concat['단지신청일'].dt.month\n",
    "pre_df['단지신청일_일'] = concat['단지신청일'].dt.day"
   ]
  },
  {
   "cell_type": "code",
   "execution_count": 2625,
   "metadata": {},
   "outputs": [],
   "source": [
    "pre_df = pre_df.fillna(0)"
   ]
  },
  {
   "cell_type": "code",
   "execution_count": 2626,
   "metadata": {},
   "outputs": [],
   "source": [
    "concat.drop(columns=['단지신청일'], axis=1, inplace=True)"
   ]
  },
  {
   "cell_type": "markdown",
   "metadata": {},
   "source": [
    "### 복합 변수"
   ]
  },
  {
   "cell_type": "markdown",
   "metadata": {},
   "source": [
    "#### 번지 = 본번 + 부번"
   ]
  },
  {
   "cell_type": "code",
   "execution_count": 2627,
   "metadata": {},
   "outputs": [
    {
     "data": {
      "text/plain": [
       "번지    227\n",
       "본번     75\n",
       "부번     75\n",
       "dtype: int64"
      ]
     },
     "execution_count": 2627,
     "metadata": {},
     "output_type": "execute_result"
    }
   ],
   "source": [
    "concat[['번지', '본번','부번']].isnull().sum()"
   ]
  },
  {
   "cell_type": "code",
   "execution_count": 2628,
   "metadata": {},
   "outputs": [
    {
     "data": {
      "text/plain": [
       "75"
      ]
     },
     "execution_count": 2628,
     "metadata": {},
     "output_type": "execute_result"
    }
   ],
   "source": [
    "len(concat[concat[['번지', '본번','부번']].isna().all(axis=1)].index)"
   ]
  },
  {
   "cell_type": "code",
   "execution_count": 2629,
   "metadata": {},
   "outputs": [],
   "source": [
    "all_nan = concat[concat[['번지', '본번','부번']].isna().all(axis=1)].index"
   ]
  },
  {
   "cell_type": "code",
   "execution_count": 2630,
   "metadata": {},
   "outputs": [
    {
     "data": {
      "text/plain": [
       "0    75\n",
       "Name: is_test, dtype: int64"
      ]
     },
     "execution_count": 2630,
     "metadata": {},
     "output_type": "execute_result"
    }
   ],
   "source": [
    "concat.iloc[all_nan]['is_test'].value_counts()"
   ]
  },
  {
   "cell_type": "code",
   "execution_count": 2631,
   "metadata": {},
   "outputs": [],
   "source": [
    "concat.drop(all_nan, inplace=True)\n",
    "concat = concat.reset_index(drop=True)\n",
    "\n",
    "pre_df.drop(all_nan, inplace=True)\n",
    "pre_df = pre_df.reset_index(drop=True)\n",
    "\n",
    "y.drop(all_nan, inplace=True)\n",
    "y = y.reset_index(drop=True)"
   ]
  },
  {
   "cell_type": "code",
   "execution_count": 2632,
   "metadata": {},
   "outputs": [
    {
     "data": {
      "text/plain": [
       "번지    152\n",
       "본번      0\n",
       "부번      0\n",
       "dtype: int64"
      ]
     },
     "execution_count": 2632,
     "metadata": {},
     "output_type": "execute_result"
    }
   ],
   "source": [
    "concat[['번지', '본번','부번']].isnull().sum()"
   ]
  },
  {
   "cell_type": "code",
   "execution_count": 2633,
   "metadata": {},
   "outputs": [],
   "source": [
    "pre_df['본번'] = concat['본번']\n",
    "pre_df['부번'] = concat['부번']"
   ]
  },
  {
   "cell_type": "code",
   "execution_count": 2634,
   "metadata": {},
   "outputs": [],
   "source": [
    "concat.drop(columns = ['본번', '부번', '번지'], axis=1, inplace=True)"
   ]
  },
  {
   "cell_type": "markdown",
   "metadata": {},
   "source": [
    "### 수치형 변수"
   ]
  },
  {
   "cell_type": "markdown",
   "metadata": {},
   "source": [
    "#### 전용면적"
   ]
  },
  {
   "cell_type": "code",
   "execution_count": 2635,
   "metadata": {},
   "outputs": [
    {
     "data": {
      "text/plain": [
       "0"
      ]
     },
     "execution_count": 2635,
     "metadata": {},
     "output_type": "execute_result"
    }
   ],
   "source": [
    "concat['전용면적(㎡)'].isnull().sum()"
   ]
  },
  {
   "cell_type": "code",
   "execution_count": 2636,
   "metadata": {},
   "outputs": [],
   "source": [
    "pre_df['전용면적'] = concat['전용면적(㎡)']"
   ]
  },
  {
   "cell_type": "code",
   "execution_count": 2637,
   "metadata": {},
   "outputs": [],
   "source": [
    "concat.drop(columns = ['전용면적(㎡)'], axis=1, inplace=True)"
   ]
  },
  {
   "cell_type": "markdown",
   "metadata": {},
   "source": [
    "#### 계약년월 + 계약일"
   ]
  },
  {
   "cell_type": "code",
   "execution_count": 2638,
   "metadata": {},
   "outputs": [
    {
     "data": {
      "text/plain": [
       "계약년월    0\n",
       "계약일     0\n",
       "dtype: int64"
      ]
     },
     "execution_count": 2638,
     "metadata": {},
     "output_type": "execute_result"
    }
   ],
   "source": [
    "concat[['계약년월', '계약일']].isnull().sum()"
   ]
  },
  {
   "cell_type": "code",
   "execution_count": 2639,
   "metadata": {},
   "outputs": [],
   "source": [
    "pre_df['계약_년'] = concat['계약년월'].astype('str').str.slice(0,4).astype('int')\n",
    "pre_df['계약_월'] = concat['계약년월'].astype('str').str.slice(4,7).astype('int')\n",
    "pre_df['계약_일'] = concat['계약일']"
   ]
  },
  {
   "cell_type": "code",
   "execution_count": 2640,
   "metadata": {},
   "outputs": [
    {
     "name": "stdout",
     "output_type": "stream",
     "text": [
      "(1116621, 75) (9272, 75) (1116621,)\n"
     ]
    }
   ],
   "source": [
    "# 이제 다시 train과 test dataset을 분할해줍니다. 위에서 제작해 놓았던 is_test 칼럼을 이용합니다.\n",
    "pre_train = pre_df.query('is_test==0')\n",
    "pre_test = pre_df.query('is_test==1')\n",
    "\n",
    "# 이제 is_test 칼럼은 drop해줍니다.\n",
    "pre_train.drop(['is_test'], axis = 1, inplace=True)\n",
    "pre_test.drop(['is_test'], axis = 1, inplace=True)\n",
    "print(pre_train.shape, pre_test.shape, y.shape)\n",
    "\n",
    "pre_train.to_csv(\"../data/pre_train.csv\", index=False)\n",
    "pre_test.to_csv(\"../data/pre_test.csv\", index=False)\n",
    "y.to_csv(\"../data/target.csv\", index=False)"
   ]
  },
  {
   "cell_type": "code",
   "execution_count": 2641,
   "metadata": {},
   "outputs": [],
   "source": [
    "concat.drop(columns=['계약년월', '계약일'], axis=1, inplace=True)"
   ]
  },
  {
   "cell_type": "markdown",
   "metadata": {},
   "source": [
    "#### 층"
   ]
  },
  {
   "cell_type": "code",
   "execution_count": 2642,
   "metadata": {},
   "outputs": [
    {
     "data": {
      "text/plain": [
       "0"
      ]
     },
     "execution_count": 2642,
     "metadata": {},
     "output_type": "execute_result"
    }
   ],
   "source": [
    "concat['층'].isnull().sum()"
   ]
  },
  {
   "cell_type": "code",
   "execution_count": 2643,
   "metadata": {},
   "outputs": [],
   "source": [
    "pre_df['층'] = concat['층']"
   ]
  },
  {
   "cell_type": "code",
   "execution_count": 2644,
   "metadata": {},
   "outputs": [],
   "source": [
    "concat.drop(columns=['층'], axis=1, inplace=True)"
   ]
  },
  {
   "cell_type": "markdown",
   "metadata": {},
   "source": [
    "#### 건축년도"
   ]
  },
  {
   "cell_type": "code",
   "execution_count": 2645,
   "metadata": {},
   "outputs": [
    {
     "data": {
      "text/plain": [
       "0"
      ]
     },
     "execution_count": 2645,
     "metadata": {},
     "output_type": "execute_result"
    }
   ],
   "source": [
    "concat['건축년도'].isnull().sum()"
   ]
  },
  {
   "cell_type": "code",
   "execution_count": 2646,
   "metadata": {},
   "outputs": [],
   "source": [
    "pre_df['건축년도'] = concat['건축년도']"
   ]
  },
  {
   "cell_type": "code",
   "execution_count": 2647,
   "metadata": {},
   "outputs": [],
   "source": [
    "concat.drop(columns=['건축년도'], axis=1, inplace=True)"
   ]
  },
  {
   "cell_type": "markdown",
   "metadata": {},
   "source": [
    "#### 등기신청일자"
   ]
  },
  {
   "cell_type": "code",
   "execution_count": 2648,
   "metadata": {},
   "outputs": [
    {
     "data": {
      "text/plain": [
       "0"
      ]
     },
     "execution_count": 2648,
     "metadata": {},
     "output_type": "execute_result"
    }
   ],
   "source": [
    "concat['등기신청일자'].isnull().sum()"
   ]
  },
  {
   "cell_type": "code",
   "execution_count": 2649,
   "metadata": {},
   "outputs": [
    {
     "data": {
      "text/plain": [
       "            1109109\n",
       "20230630        584\n",
       "20230831        496\n",
       "20230428        393\n",
       "20230731        374\n",
       "             ...   \n",
       "20230125          3\n",
       "20230105          3\n",
       "20230110          3\n",
       "20230109          1\n",
       "20230104          1\n",
       "Name: 등기신청일자, Length: 181, dtype: int64"
      ]
     },
     "execution_count": 2649,
     "metadata": {},
     "output_type": "execute_result"
    }
   ],
   "source": [
    "concat['등기신청일자'].value_counts()"
   ]
  },
  {
   "cell_type": "code",
   "execution_count": 2650,
   "metadata": {},
   "outputs": [],
   "source": [
    "concat.drop(columns=['등기신청일자'], axis=1, inplace=True)"
   ]
  },
  {
   "cell_type": "markdown",
   "metadata": {},
   "source": [
    "#### 해제사유발생일"
   ]
  },
  {
   "cell_type": "code",
   "execution_count": 2651,
   "metadata": {},
   "outputs": [
    {
     "data": {
      "text/plain": [
       "1119724"
      ]
     },
     "execution_count": 2651,
     "metadata": {},
     "output_type": "execute_result"
    }
   ],
   "source": [
    "concat['해제사유발생일'].isnull().sum()"
   ]
  },
  {
   "cell_type": "code",
   "execution_count": 2652,
   "metadata": {},
   "outputs": [
    {
     "data": {
      "text/plain": [
       "20220211.0    151\n",
       "20200727.0     43\n",
       "20200714.0     40\n",
       "20200720.0     37\n",
       "20200715.0     32\n",
       "             ... \n",
       "20210821.0      1\n",
       "20210530.0      1\n",
       "20201119.0      1\n",
       "20210801.0      1\n",
       "20230909.0      1\n",
       "Name: 해제사유발생일, Length: 1033, dtype: int64"
      ]
     },
     "execution_count": 2652,
     "metadata": {},
     "output_type": "execute_result"
    }
   ],
   "source": [
    "concat['해제사유발생일'].value_counts()"
   ]
  },
  {
   "cell_type": "code",
   "execution_count": 2653,
   "metadata": {},
   "outputs": [],
   "source": [
    "concat.drop(columns=['해제사유발생일'], axis=1, inplace=True)"
   ]
  },
  {
   "cell_type": "markdown",
   "metadata": {},
   "source": [
    "#### 단지소개기존"
   ]
  },
  {
   "cell_type": "code",
   "execution_count": 2654,
   "metadata": {},
   "outputs": [
    {
     "data": {
      "text/plain": [
       "0.9385945200831696"
      ]
     },
     "execution_count": 2654,
     "metadata": {},
     "output_type": "execute_result"
    }
   ],
   "source": [
    "concat['단지소개기존clob'].isnull().sum() / len(concat)"
   ]
  },
  {
   "cell_type": "code",
   "execution_count": 2655,
   "metadata": {},
   "outputs": [],
   "source": [
    "pre_df['단지소개기존'] = concat['단지소개기존clob'].fillna(-1)"
   ]
  },
  {
   "cell_type": "code",
   "execution_count": 2656,
   "metadata": {},
   "outputs": [],
   "source": [
    "concat.drop(columns=['단지소개기존clob'], axis=1, inplace=True)"
   ]
  },
  {
   "cell_type": "markdown",
   "metadata": {},
   "source": [
    "#### 전체동수"
   ]
  },
  {
   "cell_type": "code",
   "execution_count": 2657,
   "metadata": {},
   "outputs": [
    {
     "data": {
      "text/plain": [
       "0.7771662138409245"
      ]
     },
     "execution_count": 2657,
     "metadata": {},
     "output_type": "execute_result"
    }
   ],
   "source": [
    "concat['k-전체동수'].isnull().sum() / len(concat)"
   ]
  },
  {
   "cell_type": "code",
   "execution_count": 2658,
   "metadata": {},
   "outputs": [
    {
     "data": {
      "text/plain": [
       "<Axes: >"
      ]
     },
     "execution_count": 2658,
     "metadata": {},
     "output_type": "execute_result"
    },
    {
     "data": {
      "image/png": "[encoded data removed]",
      "text/plain": [
       "<Figure size 640x480 with 1 Axes>"
      ]
     },
     "metadata": {},
     "output_type": "display_data"
    }
   ],
   "source": [
    "pre_df['전체동수'] = concat['k-전체동수']\n",
    "pre_df['전체동수'].hist()"
   ]
  },
  {
   "cell_type": "code",
   "execution_count": 2659,
   "metadata": {},
   "outputs": [],
   "source": [
    "pre_df['전체동수'] = pre_df['전체동수'].interpolate(method='linear')"
   ]
  },
  {
   "cell_type": "code",
   "execution_count": 2660,
   "metadata": {},
   "outputs": [
    {
     "data": {
      "text/plain": [
       "<Axes: >"
      ]
     },
     "execution_count": 2660,
     "metadata": {},
     "output_type": "execute_result"
    },
    {
     "data": {
      "image/png": "[encoded data removed]",
      "text/plain": [
       "<Figure size 640x480 with 1 Axes>"
      ]
     },
     "metadata": {},
     "output_type": "display_data"
    }
   ],
   "source": [
    "pre_df['전체동수'].hist()"
   ]
  },
  {
   "cell_type": "code",
   "execution_count": 2661,
   "metadata": {},
   "outputs": [],
   "source": [
    "concat.drop(columns=['k-전체동수'], axis=1, inplace=True)"
   ]
  },
  {
   "cell_type": "markdown",
   "metadata": {},
   "source": [
    "#### 전체세대수"
   ]
  },
  {
   "cell_type": "code",
   "execution_count": 2662,
   "metadata": {},
   "outputs": [
    {
     "data": {
      "text/plain": [
       "0.7762051988954546"
      ]
     },
     "execution_count": 2662,
     "metadata": {},
     "output_type": "execute_result"
    }
   ],
   "source": [
    "concat['k-전체세대수'].isnull().sum() / len(concat)"
   ]
  },
  {
   "cell_type": "code",
   "execution_count": 2663,
   "metadata": {},
   "outputs": [],
   "source": [
    "pre_df['전체세대수'] = concat['k-전체세대수']\n",
    "pre_df['전체세대수'] = pre_df['전체세대수'].interpolate(method='linear')"
   ]
  },
  {
   "cell_type": "code",
   "execution_count": 2664,
   "metadata": {},
   "outputs": [],
   "source": [
    "concat.drop(columns=['k-전체세대수'], axis=1, inplace=True)"
   ]
  },
  {
   "cell_type": "markdown",
   "metadata": {},
   "source": [
    "#### 연면적"
   ]
  },
  {
   "cell_type": "code",
   "execution_count": 2665,
   "metadata": {},
   "outputs": [
    {
     "data": {
      "text/plain": [
       "0.7762051988954546"
      ]
     },
     "execution_count": 2665,
     "metadata": {},
     "output_type": "execute_result"
    }
   ],
   "source": [
    "concat['k-연면적'].isnull().sum() / len(concat)"
   ]
  },
  {
   "cell_type": "code",
   "execution_count": 2666,
   "metadata": {},
   "outputs": [],
   "source": [
    "pre_df['연면적'] = concat['k-연면적']\n",
    "pre_df['연면적'] = pre_df['연면적'].interpolate(method='linear')"
   ]
  },
  {
   "cell_type": "code",
   "execution_count": 2667,
   "metadata": {},
   "outputs": [],
   "source": [
    "concat.drop(columns=['k-연면적'], axis=1, inplace=True)"
   ]
  },
  {
   "cell_type": "markdown",
   "metadata": {},
   "source": [
    "#### 주거전용면적"
   ]
  },
  {
   "cell_type": "code",
   "execution_count": 2668,
   "metadata": {},
   "outputs": [
    {
     "data": {
      "text/plain": [
       "0.7762451671695267"
      ]
     },
     "execution_count": 2668,
     "metadata": {},
     "output_type": "execute_result"
    }
   ],
   "source": [
    "concat['k-주거전용면적'].isnull().sum() / len(concat)"
   ]
  },
  {
   "cell_type": "code",
   "execution_count": 2669,
   "metadata": {},
   "outputs": [],
   "source": [
    "pre_df['주거전용면적'] = concat['k-주거전용면적']\n",
    "pre_df['주거전용면적'] = pre_df['주거전용면적'].interpolate(method='linear')"
   ]
  },
  {
   "cell_type": "code",
   "execution_count": 2670,
   "metadata": {},
   "outputs": [],
   "source": [
    "concat.drop(columns=['k-주거전용면적'], axis=1, inplace=True)"
   ]
  },
  {
   "cell_type": "markdown",
   "metadata": {},
   "source": [
    "#### 관리비부과면적"
   ]
  },
  {
   "cell_type": "code",
   "execution_count": 2671,
   "metadata": {},
   "outputs": [
    {
     "data": {
      "text/plain": [
       "0.7762051988954546"
      ]
     },
     "execution_count": 2671,
     "metadata": {},
     "output_type": "execute_result"
    }
   ],
   "source": [
    "concat['k-관리비부과면적'].isnull().sum() / len(concat)"
   ]
  },
  {
   "cell_type": "code",
   "execution_count": 2672,
   "metadata": {},
   "outputs": [],
   "source": [
    "pre_df['관리비부과면적'] = concat['k-관리비부과면적']\n",
    "pre_df['관리비부과면적'] = pre_df['관리비부과면적'].interpolate(method='linear')"
   ]
  },
  {
   "cell_type": "code",
   "execution_count": 2673,
   "metadata": {},
   "outputs": [],
   "source": [
    "concat.drop(columns=['k-관리비부과면적'], axis=1, inplace=True)"
   ]
  },
  {
   "cell_type": "markdown",
   "metadata": {},
   "source": [
    "#### 전용면적별세대현황"
   ]
  },
  {
   "cell_type": "code",
   "execution_count": 2674,
   "metadata": {},
   "outputs": [],
   "source": [
    "concat.rename(\n",
    "    columns={\n",
    "        'k-전용면적별세대현황(60㎡이하)' : '60이하',\n",
    "        'k-전용면적별세대현황(60㎡~85㎡이하)' : '85이하',\n",
    "        'k-85㎡~135㎡이하' : '135이하',\n",
    "        'k-135㎡초과' : '135초과'\n",
    "    }, inplace=True\n",
    ")"
   ]
  },
  {
   "cell_type": "code",
   "execution_count": 2675,
   "metadata": {},
   "outputs": [],
   "source": [
    "tmp_cols = ['60이하', '85이하','135이하', '135초과']"
   ]
  },
  {
   "cell_type": "code",
   "execution_count": 2676,
   "metadata": {},
   "outputs": [
    {
     "data": {
      "text/plain": [
       "60이하      873969\n",
       "85이하      873969\n",
       "135이하     873969\n",
       "135초과    1125564\n",
       "dtype: int64"
      ]
     },
     "execution_count": 2676,
     "metadata": {},
     "output_type": "execute_result"
    }
   ],
   "source": [
    "concat[tmp_cols].isnull().sum()"
   ]
  },
  {
   "cell_type": "code",
   "execution_count": 2677,
   "metadata": {},
   "outputs": [],
   "source": [
    "pre_df['전용면적별세대현황합'] = (concat[tmp_cols] * [1,2,3,4]).sum(axis=1)"
   ]
  },
  {
   "cell_type": "code",
   "execution_count": 2678,
   "metadata": {},
   "outputs": [],
   "source": [
    "pre_df['전용면적별세대현황합'] = pre_df['전용면적별세대현황합'].interpolate(method='linear')"
   ]
  },
  {
   "cell_type": "code",
   "execution_count": 2679,
   "metadata": {},
   "outputs": [],
   "source": [
    "concat.drop(columns=tmp_cols, axis=1, inplace=True)"
   ]
  },
  {
   "cell_type": "markdown",
   "metadata": {},
   "source": [
    "#### 건축면적"
   ]
  },
  {
   "cell_type": "code",
   "execution_count": 2680,
   "metadata": {},
   "outputs": [
    {
     "data": {
      "text/plain": [
       "874078"
      ]
     },
     "execution_count": 2680,
     "metadata": {},
     "output_type": "execute_result"
    }
   ],
   "source": [
    "concat['건축면적'].isnull().sum()"
   ]
  },
  {
   "cell_type": "code",
   "execution_count": 2681,
   "metadata": {},
   "outputs": [],
   "source": [
    "pre_df['건축면적'] = concat['건축면적']\n",
    "pre_df['건축면적'] = pre_df['건축면적'].interpolate(method='linear')"
   ]
  },
  {
   "cell_type": "code",
   "execution_count": 2682,
   "metadata": {},
   "outputs": [],
   "source": [
    "concat.drop(columns=['건축면적'], axis=1, inplace=True)"
   ]
  },
  {
   "cell_type": "markdown",
   "metadata": {},
   "source": [
    "#### 주차대수"
   ]
  },
  {
   "cell_type": "code",
   "execution_count": 2683,
   "metadata": {},
   "outputs": [
    {
     "data": {
      "text/plain": [
       "874076"
      ]
     },
     "execution_count": 2683,
     "metadata": {},
     "output_type": "execute_result"
    }
   ],
   "source": [
    "concat['주차대수'].isnull().sum()"
   ]
  },
  {
   "cell_type": "code",
   "execution_count": 2684,
   "metadata": {},
   "outputs": [],
   "source": [
    "pre_df['주차대수'] = concat['주차대수']\n",
    "pre_df['주차대수'] = pre_df['주차대수'].interpolate(method='linear')"
   ]
  },
  {
   "cell_type": "code",
   "execution_count": 2685,
   "metadata": {},
   "outputs": [],
   "source": [
    "concat.drop(columns=['주차대수'], axis=1, inplace=True)"
   ]
  },
  {
   "cell_type": "markdown",
   "metadata": {},
   "source": [
    "#### 좌표X, 좌표Y"
   ]
  },
  {
   "cell_type": "code",
   "execution_count": 2686,
   "metadata": {},
   "outputs": [
    {
     "data": {
      "text/plain": [
       "좌표X        874031\n",
       "좌표Y        874031\n",
       "is_test         0\n",
       "dtype: int64"
      ]
     },
     "execution_count": 2686,
     "metadata": {},
     "output_type": "execute_result"
    }
   ],
   "source": [
    "concat.isnull().sum()"
   ]
  },
  {
   "cell_type": "code",
   "execution_count": 2687,
   "metadata": {},
   "outputs": [],
   "source": [
    "pre_df[['좌표X', '좌표Y']] = concat[['좌표X', '좌표Y']]\n",
    "pre_df[['좌표X', '좌표Y']] = pre_df[['좌표X', '좌표Y']].interpolate(method='linear')"
   ]
  },
  {
   "cell_type": "code",
   "execution_count": 2688,
   "metadata": {},
   "outputs": [
    {
     "name": "stdout",
     "output_type": "stream",
     "text": [
      "(1116621, 88) (9272, 88) (1116621,)\n"
     ]
    }
   ],
   "source": [
    "# 이제 다시 train과 test dataset을 분할해줍니다. 위에서 제작해 놓았던 is_test 칼럼을 이용합니다.\n",
    "pre_train = pre_df.query('is_test==0')\n",
    "pre_test = pre_df.query('is_test==1')\n",
    "\n",
    "# 이제 is_test 칼럼은 drop해줍니다.\n",
    "pre_train.drop(['is_test'], axis = 1, inplace=True)\n",
    "pre_test.drop(['is_test'], axis = 1, inplace=True)\n",
    "print(pre_train.shape, pre_test.shape, y.shape)\n",
    "\n",
    "pre_train.to_csv(\"../data/pre_train.csv\", index=False)\n",
    "pre_test.to_csv(\"../data/pre_test.csv\", index=False)\n",
    "y.to_csv(\"../data/target.csv\", index=False)"
   ]
  }
 ],
 "metadata": {
  "kernelspec": {
   "display_name": "base",
   "language": "python",
   "name": "python3"
  },
  "language_info": {
   "codemirror_mode": {
    "name": "ipython",
    "version": 3
   },
   "file_extension": ".py",
   "mimetype": "text/x-python",
   "name": "python",
   "nbconvert_exporter": "python",
   "pygments_lexer": "ipython3",
   "version": "3.10.13"
  }
 },
 "nbformat": 4,
 "nbformat_minor": 2
}
