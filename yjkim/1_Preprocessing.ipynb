{
 "cells": [
  {
   "cell_type": "markdown",
   "metadata": {},
   "source": [
    "## Import"
   ]
  },
  {
   "cell_type": "code",
   "execution_count": 768,
   "metadata": {},
   "outputs": [],
   "source": [
    "# visualization\n",
    "import matplotlib.pyplot as plt\n",
    "import matplotlib.font_manager as fm\n",
    "fe = fm.FontEntry(\n",
    "    fname=r'/usr/share/fonts/truetype/nanum/NanumGothic.ttf', # ttf 파일이 저장되어 있는 경로\n",
    "    name='NanumBarunGothic')                        # 이 폰트의 원하는 이름 설정\n",
    "fm.fontManager.ttflist.insert(0, fe)              # Matplotlib에 폰트 추가\n",
    "plt.rcParams.update({'font.size': 10, 'font.family': 'NanumBarunGothic'}) # 폰트 설정\n",
    "plt.rc('font', family='NanumBarunGothic')\n",
    "import seaborn as sns\n",
    "\n",
    "# utils\n",
    "import pandas as pd\n",
    "import numpy as np\n",
    "from tqdm import tqdm\n",
    "import pickle\n",
    "import warnings;warnings.filterwarnings('ignore')\n",
    "\n",
    "# Model\n",
    "from sklearn.preprocessing import LabelEncoder\n",
    "from sklearn.model_selection import train_test_split\n",
    "from sklearn.metrics import mean_squared_error\n",
    "from sklearn.ensemble import RandomForestRegressor\n",
    "from sklearn import metrics\n",
    "\n",
    "import eli5\n",
    "from eli5.sklearn import PermutationImportance\n",
    "from sklearn.preprocessing import MinMaxScaler"
   ]
  },
  {
   "cell_type": "markdown",
   "metadata": {},
   "source": [
    "## Data Load"
   ]
  },
  {
   "cell_type": "code",
   "execution_count": 769,
   "metadata": {},
   "outputs": [],
   "source": [
    "# 필요한 데이터를 load 하겠습니다. 경로는 환경에 맞게 지정해주면 됩니다.\n",
    "train_path = '/data/ephemeral/home/data/train.csv'\n",
    "test_path  = '/data/ephemeral/home/data/test.csv'\n",
    "dt = pd.read_csv(train_path)\n",
    "dt_test = pd.read_csv(test_path)"
   ]
  },
  {
   "cell_type": "code",
   "execution_count": 770,
   "metadata": {},
   "outputs": [
    {
     "data": {
      "text/plain": [
       "Index(['시군구', '번지', '본번', '부번', '아파트명', '전용면적(㎡)', '계약년월', '계약일', '층', '건축년도',\n",
       "       '도로명', '해제사유발생일', '등기신청일자', '거래유형', '중개사소재지', 'k-단지분류(아파트,주상복합등등)',\n",
       "       'k-전화번호', 'k-팩스번호', '단지소개기존clob', 'k-세대타입(분양형태)', 'k-관리방식', 'k-복도유형',\n",
       "       'k-난방방식', 'k-전체동수', 'k-전체세대수', 'k-건설사(시공사)', 'k-시행사', 'k-사용검사일-사용승인일',\n",
       "       'k-연면적', 'k-주거전용면적', 'k-관리비부과면적', 'k-전용면적별세대현황(60㎡이하)',\n",
       "       'k-전용면적별세대현황(60㎡~85㎡이하)', 'k-85㎡~135㎡이하', 'k-135㎡초과', 'k-홈페이지',\n",
       "       'k-등록일자', 'k-수정일자', '고용보험관리번호', '경비비관리형태', '세대전기계약방법', '청소비관리형태',\n",
       "       '건축면적', '주차대수', '기타/의무/임대/임의=1/2/3/4', '단지승인일', '사용허가여부', '관리비 업로드',\n",
       "       '좌표X', '좌표Y', '단지신청일', 'target'],\n",
       "      dtype='object')"
      ]
     },
     "execution_count": 770,
     "metadata": {},
     "output_type": "execute_result"
    }
   ],
   "source": [
    "dt.columns"
   ]
  },
  {
   "cell_type": "code",
   "execution_count": 771,
   "metadata": {},
   "outputs": [
    {
     "data": {
      "text/plain": [
       "Index(['시군구', '번지', '본번', '부번', '아파트명', '전용면적(㎡)', '계약년월', '계약일', '층', '건축년도',\n",
       "       '도로명', '해제사유발생일', '등기신청일자', '거래유형', '중개사소재지', 'k-단지분류(아파트,주상복합등등)',\n",
       "       'k-전화번호', 'k-팩스번호', '단지소개기존clob', 'k-세대타입(분양형태)', 'k-관리방식', 'k-복도유형',\n",
       "       'k-난방방식', 'k-전체동수', 'k-전체세대수', 'k-건설사(시공사)', 'k-시행사', 'k-사용검사일-사용승인일',\n",
       "       'k-연면적', 'k-주거전용면적', 'k-관리비부과면적', 'k-전용면적별세대현황(60㎡이하)',\n",
       "       'k-전용면적별세대현황(60㎡~85㎡이하)', 'k-85㎡~135㎡이하', 'k-135㎡초과', 'k-홈페이지',\n",
       "       'k-등록일자', 'k-수정일자', '고용보험관리번호', '경비비관리형태', '세대전기계약방법', '청소비관리형태',\n",
       "       '건축면적', '주차대수', '기타/의무/임대/임의=1/2/3/4', '단지승인일', '사용허가여부', '관리비 업로드',\n",
       "       '좌표X', '좌표Y', '단지신청일'],\n",
       "      dtype='object')"
      ]
     },
     "execution_count": 771,
     "metadata": {},
     "output_type": "execute_result"
    }
   ],
   "source": [
    "dt_test.columns"
   ]
  },
  {
   "cell_type": "code",
   "execution_count": 772,
   "metadata": {},
   "outputs": [],
   "source": [
    "# dt.iloc[1118821,:]\n",
    "# dt_test.iloc[0,:]\n",
    "# dt = pd.concat([dt,dt_test], axis = 0)\n",
    "# dt.iloc[1118821,:]\n",
    "# dt.iloc[1118822,:]"
   ]
  },
  {
   "cell_type": "code",
   "execution_count": 773,
   "metadata": {},
   "outputs": [
    {
     "data": {
      "text/plain": [
       "object     29\n",
       "float64    18\n",
       "int64       5\n",
       "dtype: int64"
      ]
     },
     "execution_count": 773,
     "metadata": {},
     "output_type": "execute_result"
    }
   ],
   "source": [
    "dt.dtypes.value_counts()"
   ]
  },
  {
   "cell_type": "code",
   "execution_count": 774,
   "metadata": {},
   "outputs": [
    {
     "data": {
      "text/plain": [
       "Index(['시군구', '번지', '본번', '부번', '아파트명', '전용면적(㎡)', '계약년월', '계약일', '층', '건축년도',\n",
       "       '도로명', '해제사유발생일', '등기신청일자', '거래유형', '중개사소재지', 'k-단지분류(아파트,주상복합등등)',\n",
       "       'k-전화번호', 'k-팩스번호', '단지소개기존clob', 'k-세대타입(분양형태)', 'k-관리방식', 'k-복도유형',\n",
       "       'k-난방방식', 'k-전체동수', 'k-전체세대수', 'k-건설사(시공사)', 'k-시행사', 'k-사용검사일-사용승인일',\n",
       "       'k-연면적', 'k-주거전용면적', 'k-관리비부과면적', 'k-전용면적별세대현황(60㎡이하)',\n",
       "       'k-전용면적별세대현황(60㎡~85㎡이하)', 'k-85㎡~135㎡이하', 'k-135㎡초과', 'k-홈페이지',\n",
       "       'k-등록일자', 'k-수정일자', '고용보험관리번호', '경비비관리형태', '세대전기계약방법', '청소비관리형태',\n",
       "       '건축면적', '주차대수', '기타/의무/임대/임의=1/2/3/4', '단지승인일', '사용허가여부', '관리비 업로드',\n",
       "       '좌표X', '좌표Y', '단지신청일', 'target'],\n",
       "      dtype='object')"
      ]
     },
     "execution_count": 774,
     "metadata": {},
     "output_type": "execute_result"
    }
   ],
   "source": [
    "dt.columns"
   ]
  },
  {
   "cell_type": "markdown",
   "metadata": {},
   "source": [
    "## Drop columns"
   ]
  },
  {
   "cell_type": "code",
   "execution_count": 775,
   "metadata": {},
   "outputs": [],
   "source": [
    "dt.drop(columns=['아파트명', '번지', '본번', '부번', '계약일', '도로명', '중개사소재지', 'k-전화번호','k-팩스번호',\n",
    "                 '단지소개기존clob','k-전체동수','k-전체세대수','k-건설사(시공사)',\n",
    "                 'k-시행사','k-연면적','k-주거전용면적','k-관리비부과면적','k-홈페이지','k-등록일자','k-수정일자','해제사유발생일','k-사용검사일-사용승인일',\n",
    "                 '고용보험관리번호','건축면적','주차대수','단지승인일','사용허가여부','관리비 업로드','단지신청일','좌표X', '좌표Y'], inplace=True)\n",
    "dt_test.drop(columns=['아파트명', '번지', '본번', '부번', '계약일', '도로명', '중개사소재지', 'k-전화번호','k-팩스번호',\n",
    "                 '단지소개기존clob','k-전체동수','k-전체세대수','k-건설사(시공사)',\n",
    "                 'k-시행사','k-연면적','k-주거전용면적','k-관리비부과면적','k-홈페이지','k-등록일자','k-수정일자','해제사유발생일','k-사용검사일-사용승인일',\n",
    "                 '고용보험관리번호','건축면적','주차대수','단지승인일','사용허가여부','관리비 업로드','단지신청일','좌표X', '좌표Y'], inplace=True)"
   ]
  },
  {
   "cell_type": "code",
   "execution_count": 776,
   "metadata": {},
   "outputs": [
    {
     "data": {
      "text/plain": [
       "Index(['시군구', '전용면적(㎡)', '계약년월', '층', '건축년도', '등기신청일자', '거래유형',\n",
       "       'k-단지분류(아파트,주상복합등등)', 'k-세대타입(분양형태)', 'k-관리방식', 'k-복도유형', 'k-난방방식',\n",
       "       'k-전용면적별세대현황(60㎡이하)', 'k-전용면적별세대현황(60㎡~85㎡이하)', 'k-85㎡~135㎡이하',\n",
       "       'k-135㎡초과', '경비비관리형태', '세대전기계약방법', '청소비관리형태', '기타/의무/임대/임의=1/2/3/4',\n",
       "       'target'],\n",
       "      dtype='object')"
      ]
     },
     "execution_count": 776,
     "metadata": {},
     "output_type": "execute_result"
    }
   ],
   "source": [
    "dt.columns"
   ]
  },
  {
   "cell_type": "code",
   "execution_count": 777,
   "metadata": {},
   "outputs": [
    {
     "name": "stdout",
     "output_type": "stream",
     "text": [
      "연속형 변수: ['전용면적(㎡)', '계약년월', '층', '건축년도', 'k-전용면적별세대현황(60㎡이하)', 'k-전용면적별세대현황(60㎡~85㎡이하)', 'k-85㎡~135㎡이하', 'k-135㎡초과', 'target']\n",
      "범주형 변수: ['시군구', '등기신청일자', '거래유형', 'k-단지분류(아파트,주상복합등등)', 'k-세대타입(분양형태)', 'k-관리방식', 'k-복도유형', 'k-난방방식', '경비비관리형태', '세대전기계약방법', '청소비관리형태', '기타/의무/임대/임의=1/2/3/4']\n"
     ]
    }
   ],
   "source": [
    "# 파생변수 제작으로 추가된 변수들이 존재하기에, 다시한번 연속형과 범주형 칼럼을 분리해주겠습니다.\n",
    "continuous_columns = []\n",
    "categorical_columns = []\n",
    "\n",
    "for column in dt.columns:\n",
    "    if pd.api.types.is_numeric_dtype(dt[column]):\n",
    "        continuous_columns.append(column)\n",
    "    else:\n",
    "        categorical_columns.append(column)\n",
    "\n",
    "print(\"연속형 변수:\", continuous_columns)\n",
    "print(\"범주형 변수:\", categorical_columns)"
   ]
  },
  {
   "cell_type": "markdown",
   "metadata": {},
   "source": [
    "# 결측치 처리\n"
   ]
  },
  {
   "cell_type": "markdown",
   "metadata": {},
   "source": [
    "### 결측치가 있는 행 제거\n"
   ]
  },
  {
   "cell_type": "code",
   "execution_count": 778,
   "metadata": {},
   "outputs": [
    {
     "name": "stdout",
     "output_type": "stream",
     "text": [
      "13\n"
     ]
    }
   ],
   "source": [
    "missing_count = dt.isnull().sum(axis=1)\n",
    "print(max(missing_count))"
   ]
  },
  {
   "cell_type": "code",
   "execution_count": 779,
   "metadata": {},
   "outputs": [
    {
     "data": {
      "image/png": "[encoded data removed]",
      "text/plain": [
       "<Figure size 800x600 with 1 Axes>"
      ]
     },
     "metadata": {},
     "output_type": "display_data"
    }
   ],
   "source": [
    "plt.figure(figsize=(8, 6))\n",
    "plt.scatter(missing_count, range(len(missing_count)), color='blue', alpha=0.7)\n",
    "plt.title('Scatter Plot of Missing Value Counts by Row', fontsize=14)\n",
    "plt.xlabel('Row Index', fontsize=12)\n",
    "plt.ylabel('Missing Count', fontsize=12)\n",
    "plt.grid(alpha=0.5)\n",
    "plt.show()"
   ]
  },
  {
   "cell_type": "code",
   "execution_count": 780,
   "metadata": {},
   "outputs": [
    {
     "data": {
      "text/plain": [
       "(1118822, 21)"
      ]
     },
     "execution_count": 780,
     "metadata": {},
     "output_type": "execute_result"
    }
   ],
   "source": [
    "threshold = 15  # 결측치 개수\n",
    "\n",
    "# 각 행에 대해 결측치 개수를 계산하고, threshold 이상의 결측치를 가진 행을 삭제\n",
    "dt = dt[dt.isnull().sum(axis=1) < threshold]\n",
    "dt.shape"
   ]
  },
  {
   "cell_type": "code",
   "execution_count": 781,
   "metadata": {},
   "outputs": [
    {
     "data": {
      "text/plain": [
       "Index(['시군구', '전용면적(㎡)', '계약년월', '층', '건축년도', '등기신청일자', '거래유형',\n",
       "       'k-단지분류(아파트,주상복합등등)', 'k-세대타입(분양형태)', 'k-관리방식', 'k-복도유형', 'k-난방방식',\n",
       "       'k-전용면적별세대현황(60㎡이하)', 'k-전용면적별세대현황(60㎡~85㎡이하)', 'k-85㎡~135㎡이하',\n",
       "       'k-135㎡초과', '경비비관리형태', '세대전기계약방법', '청소비관리형태', '기타/의무/임대/임의=1/2/3/4',\n",
       "       'target'],\n",
       "      dtype='object')"
      ]
     },
     "execution_count": 781,
     "metadata": {},
     "output_type": "execute_result"
    }
   ],
   "source": [
    "dt.columns"
   ]
  },
  {
   "cell_type": "markdown",
   "metadata": {},
   "source": [
    "## Train + Test Concat"
   ]
  },
  {
   "cell_type": "code",
   "execution_count": 782,
   "metadata": {},
   "outputs": [],
   "source": [
    "dt = pd.concat([dt,dt_test], axis = 0).reset_index(drop=True) # test 데이터는 9272개 [-9272:]"
   ]
  },
  {
   "cell_type": "code",
   "execution_count": 783,
   "metadata": {},
   "outputs": [
    {
     "data": {
      "text/plain": [
       "(1128094, 21)"
      ]
     },
     "execution_count": 783,
     "metadata": {},
     "output_type": "execute_result"
    }
   ],
   "source": [
    "dt.shape"
   ]
  },
  {
   "cell_type": "markdown",
   "metadata": {},
   "source": [
    "# 데이터 변환"
   ]
  },
  {
   "cell_type": "markdown",
   "metadata": {},
   "source": [
    "### split 시군구\n"
   ]
  },
  {
   "cell_type": "code",
   "execution_count": 784,
   "metadata": {},
   "outputs": [
    {
     "data": {
      "text/html": [
       "<div>\n",
       "<style scoped>\n",
       "    .dataframe tbody tr th:only-of-type {\n",
       "        vertical-align: middle;\n",
       "    }\n",
       "\n",
       "    .dataframe tbody tr th {\n",
       "        vertical-align: top;\n",
       "    }\n",
       "\n",
       "    .dataframe thead th {\n",
       "        text-align: right;\n",
       "    }\n",
       "</style>\n",
       "<table border=\"1\" class=\"dataframe\">\n",
       "  <thead>\n",
       "    <tr style=\"text-align: right;\">\n",
       "      <th></th>\n",
       "      <th>구</th>\n",
       "      <th>동</th>\n",
       "    </tr>\n",
       "  </thead>\n",
       "  <tbody>\n",
       "    <tr>\n",
       "      <th>640043</th>\n",
       "      <td>은평구</td>\n",
       "      <td>진관동</td>\n",
       "    </tr>\n",
       "    <tr>\n",
       "      <th>1093630</th>\n",
       "      <td>노원구</td>\n",
       "      <td>월계동</td>\n",
       "    </tr>\n",
       "    <tr>\n",
       "      <th>77104</th>\n",
       "      <td>양천구</td>\n",
       "      <td>신월동</td>\n",
       "    </tr>\n",
       "    <tr>\n",
       "      <th>45233</th>\n",
       "      <td>동대문구</td>\n",
       "      <td>전농동</td>\n",
       "    </tr>\n",
       "    <tr>\n",
       "      <th>385301</th>\n",
       "      <td>은평구</td>\n",
       "      <td>진관동</td>\n",
       "    </tr>\n",
       "    <tr>\n",
       "      <th>934576</th>\n",
       "      <td>도봉구</td>\n",
       "      <td>방학동</td>\n",
       "    </tr>\n",
       "    <tr>\n",
       "      <th>965743</th>\n",
       "      <td>종로구</td>\n",
       "      <td>충신동</td>\n",
       "    </tr>\n",
       "    <tr>\n",
       "      <th>848485</th>\n",
       "      <td>강남구</td>\n",
       "      <td>대치동</td>\n",
       "    </tr>\n",
       "    <tr>\n",
       "      <th>1050604</th>\n",
       "      <td>마포구</td>\n",
       "      <td>염리동</td>\n",
       "    </tr>\n",
       "    <tr>\n",
       "      <th>989713</th>\n",
       "      <td>서대문구</td>\n",
       "      <td>연희동</td>\n",
       "    </tr>\n",
       "    <tr>\n",
       "      <th>934939</th>\n",
       "      <td>도봉구</td>\n",
       "      <td>쌍문동</td>\n",
       "    </tr>\n",
       "    <tr>\n",
       "      <th>529557</th>\n",
       "      <td>양천구</td>\n",
       "      <td>신정동</td>\n",
       "    </tr>\n",
       "    <tr>\n",
       "      <th>322551</th>\n",
       "      <td>구로구</td>\n",
       "      <td>오류동</td>\n",
       "    </tr>\n",
       "    <tr>\n",
       "      <th>1071996</th>\n",
       "      <td>종로구</td>\n",
       "      <td>내수동</td>\n",
       "    </tr>\n",
       "    <tr>\n",
       "      <th>859728</th>\n",
       "      <td>관악구</td>\n",
       "      <td>봉천동</td>\n",
       "    </tr>\n",
       "    <tr>\n",
       "      <th>578450</th>\n",
       "      <td>노원구</td>\n",
       "      <td>상계동</td>\n",
       "    </tr>\n",
       "    <tr>\n",
       "      <th>262030</th>\n",
       "      <td>도봉구</td>\n",
       "      <td>방학동</td>\n",
       "    </tr>\n",
       "    <tr>\n",
       "      <th>434712</th>\n",
       "      <td>영등포구</td>\n",
       "      <td>대림동</td>\n",
       "    </tr>\n",
       "    <tr>\n",
       "      <th>977475</th>\n",
       "      <td>광진구</td>\n",
       "      <td>광장동</td>\n",
       "    </tr>\n",
       "    <tr>\n",
       "      <th>1035242</th>\n",
       "      <td>노원구</td>\n",
       "      <td>중계동</td>\n",
       "    </tr>\n",
       "  </tbody>\n",
       "</table>\n",
       "</div>"
      ],
      "text/plain": [
       "            구    동\n",
       "640043    은평구  진관동\n",
       "1093630   노원구  월계동\n",
       "77104     양천구  신월동\n",
       "45233    동대문구  전농동\n",
       "385301    은평구  진관동\n",
       "934576    도봉구  방학동\n",
       "965743    종로구  충신동\n",
       "848485    강남구  대치동\n",
       "1050604   마포구  염리동\n",
       "989713   서대문구  연희동\n",
       "934939    도봉구  쌍문동\n",
       "529557    양천구  신정동\n",
       "322551    구로구  오류동\n",
       "1071996   종로구  내수동\n",
       "859728    관악구  봉천동\n",
       "578450    노원구  상계동\n",
       "262030    도봉구  방학동\n",
       "434712   영등포구  대림동\n",
       "977475    광진구  광장동\n",
       "1035242   노원구  중계동"
      ]
     },
     "execution_count": 784,
     "metadata": {},
     "output_type": "execute_result"
    }
   ],
   "source": [
    "split_df = dt['시군구'].str.split(' ', expand=True)\n",
    "split_df.columns = ['시', '구', '동'] \n",
    "split_df.drop(columns='시', inplace=True)\n",
    "split_df.sample(20)"
   ]
  },
  {
   "cell_type": "code",
   "execution_count": 785,
   "metadata": {},
   "outputs": [
    {
     "data": {
      "text/plain": [
       "Index(['전용면적(㎡)', '계약년월', '층', '건축년도', '등기신청일자', '거래유형', 'k-단지분류(아파트,주상복합등등)',\n",
       "       'k-세대타입(분양형태)', 'k-관리방식', 'k-복도유형', 'k-난방방식', 'k-전용면적별세대현황(60㎡이하)',\n",
       "       'k-전용면적별세대현황(60㎡~85㎡이하)', 'k-85㎡~135㎡이하', 'k-135㎡초과', '경비비관리형태',\n",
       "       '세대전기계약방법', '청소비관리형태', '기타/의무/임대/임의=1/2/3/4', 'target', '구', '동'],\n",
       "      dtype='object')"
      ]
     },
     "execution_count": 785,
     "metadata": {},
     "output_type": "execute_result"
    }
   ],
   "source": [
    "dt.drop(columns='시군구', inplace=True)\n",
    "dt = pd.concat([dt, split_df], axis=1)\n",
    "dt.columns"
   ]
  },
  {
   "cell_type": "markdown",
   "metadata": {},
   "source": [
    "전용면적(㎡) : MinMax Scaling\n",
    "\n",
    "계약년월 :연도, 월 분리 /  월 -> 성수기(6~8월 제외), 비수기(6~8월)로 구분\n",
    "\n",
    "층 : Min max scaling\n",
    "\n",
    "건축년도 : 2024년을 기준으로 차이값을 계산 후 이를 역수로 치환 (음수로 사용해볼수도 있음)\n",
    "\n",
    "등기신청일자 : 있으면 1 없으면 0\n",
    "\n",
    "거래유형 : (중개거래1, 직거래0)"
   ]
  },
  {
   "cell_type": "markdown",
   "metadata": {},
   "source": [
    "## 계약년월 -> 연, 월 분할 / 월 -> 성수기 여부로 변환"
   ]
  },
  {
   "cell_type": "code",
   "execution_count": 786,
   "metadata": {},
   "outputs": [
    {
     "data": {
      "text/plain": [
       "Index(['전용면적(㎡)', '층', '건축년도', '등기신청일자', '거래유형', 'k-단지분류(아파트,주상복합등등)',\n",
       "       'k-세대타입(분양형태)', 'k-관리방식', 'k-복도유형', 'k-난방방식', 'k-전용면적별세대현황(60㎡이하)',\n",
       "       'k-전용면적별세대현황(60㎡~85㎡이하)', 'k-85㎡~135㎡이하', 'k-135㎡초과', '경비비관리형태',\n",
       "       '세대전기계약방법', '청소비관리형태', '기타/의무/임대/임의=1/2/3/4', 'target', '구', '동',\n",
       "       '계약년도', '성수기여부'],\n",
       "      dtype='object')"
      ]
     },
     "execution_count": 786,
     "metadata": {},
     "output_type": "execute_result"
    }
   ],
   "source": [
    "dt['계약년도'] = dt['계약년월'].astype(str).str[:4].astype(int)\n",
    "dt['계약월'] = dt['계약년월'].astype(str).str[4:6].astype(int)\n",
    "dt.drop(columns=['계약년월'], inplace=True)\n",
    "dt['성수기여부'] = dt['계약월'].apply(lambda x: 1 if 6 <= x <= 8 else 0) # 성수기 = 1, 비성수기 = 0\n",
    "dt.drop(columns='계약월', inplace=True)\n",
    "dt.columns\n",
    "\n",
    "# maps = {'비성수기' : 0, '성수기' : 1}\n",
    "# dt['성수기여부'] = dt['성수기여부'].map(maps)"
   ]
  },
  {
   "cell_type": "markdown",
   "metadata": {},
   "source": [
    "## 전용면적, 층 MinMaxScaler()\n"
   ]
  },
  {
   "cell_type": "code",
   "execution_count": 787,
   "metadata": {},
   "outputs": [
    {
     "data": {
      "text/plain": [
       "Index(['층', '건축년도', '등기신청일자', '거래유형', 'k-단지분류(아파트,주상복합등등)', 'k-세대타입(분양형태)',\n",
       "       'k-관리방식', 'k-복도유형', 'k-난방방식', 'k-전용면적별세대현황(60㎡이하)',\n",
       "       'k-전용면적별세대현황(60㎡~85㎡이하)', 'k-85㎡~135㎡이하', 'k-135㎡초과', '경비비관리형태',\n",
       "       '세대전기계약방법', '청소비관리형태', '기타/의무/임대/임의=1/2/3/4', 'target', '구', '동',\n",
       "       '계약년도', '성수기여부', '전용면적'],\n",
       "      dtype='object')"
      ]
     },
     "execution_count": 787,
     "metadata": {},
     "output_type": "execute_result"
    }
   ],
   "source": [
    "scaler = MinMaxScaler()\n",
    "dt['전용면적'] = scaler.fit_transform(dt[['전용면적(㎡)']])\n",
    "scaler = MinMaxScaler()\n",
    "dt['층'] = scaler.fit_transform(dt[['층']])\n",
    "dt.drop(columns=['전용면적(㎡)'], inplace=True)\n",
    "dt.columns"
   ]
  },
  {
   "cell_type": "code",
   "execution_count": 788,
   "metadata": {},
   "outputs": [
    {
     "data": {
      "text/html": [
       "<div>\n",
       "<style scoped>\n",
       "    .dataframe tbody tr th:only-of-type {\n",
       "        vertical-align: middle;\n",
       "    }\n",
       "\n",
       "    .dataframe tbody tr th {\n",
       "        vertical-align: top;\n",
       "    }\n",
       "\n",
       "    .dataframe thead th {\n",
       "        text-align: right;\n",
       "    }\n",
       "</style>\n",
       "<table border=\"1\" class=\"dataframe\">\n",
       "  <thead>\n",
       "    <tr style=\"text-align: right;\">\n",
       "      <th></th>\n",
       "      <th>층</th>\n",
       "      <th>건축년도</th>\n",
       "      <th>등기신청일자</th>\n",
       "      <th>거래유형</th>\n",
       "      <th>k-단지분류(아파트,주상복합등등)</th>\n",
       "      <th>k-세대타입(분양형태)</th>\n",
       "      <th>k-관리방식</th>\n",
       "      <th>k-복도유형</th>\n",
       "      <th>k-난방방식</th>\n",
       "      <th>k-전용면적별세대현황(60㎡이하)</th>\n",
       "      <th>...</th>\n",
       "      <th>경비비관리형태</th>\n",
       "      <th>세대전기계약방법</th>\n",
       "      <th>청소비관리형태</th>\n",
       "      <th>기타/의무/임대/임의=1/2/3/4</th>\n",
       "      <th>target</th>\n",
       "      <th>구</th>\n",
       "      <th>동</th>\n",
       "      <th>계약년도</th>\n",
       "      <th>성수기여부</th>\n",
       "      <th>전용면적</th>\n",
       "    </tr>\n",
       "  </thead>\n",
       "  <tbody>\n",
       "    <tr>\n",
       "      <th>966823</th>\n",
       "      <td>0.178082</td>\n",
       "      <td>1987</td>\n",
       "      <td></td>\n",
       "      <td>-</td>\n",
       "      <td>NaN</td>\n",
       "      <td>NaN</td>\n",
       "      <td>NaN</td>\n",
       "      <td>NaN</td>\n",
       "      <td>NaN</td>\n",
       "      <td>NaN</td>\n",
       "      <td>...</td>\n",
       "      <td>NaN</td>\n",
       "      <td>NaN</td>\n",
       "      <td>NaN</td>\n",
       "      <td>NaN</td>\n",
       "      <td>33700.0</td>\n",
       "      <td>중랑구</td>\n",
       "      <td>면목동</td>\n",
       "      <td>2011</td>\n",
       "      <td>0</td>\n",
       "      <td>0.180787</td>\n",
       "    </tr>\n",
       "    <tr>\n",
       "      <th>771969</th>\n",
       "      <td>0.082192</td>\n",
       "      <td>1992</td>\n",
       "      <td></td>\n",
       "      <td>-</td>\n",
       "      <td>아파트</td>\n",
       "      <td>분양</td>\n",
       "      <td>위탁관리</td>\n",
       "      <td>복도식</td>\n",
       "      <td>지역난방</td>\n",
       "      <td>1476.0</td>\n",
       "      <td>...</td>\n",
       "      <td>위탁</td>\n",
       "      <td>단일계약</td>\n",
       "      <td>위탁</td>\n",
       "      <td>의무</td>\n",
       "      <td>18200.0</td>\n",
       "      <td>강서구</td>\n",
       "      <td>가양동</td>\n",
       "      <td>2014</td>\n",
       "      <td>0</td>\n",
       "      <td>0.071398</td>\n",
       "    </tr>\n",
       "    <tr>\n",
       "      <th>848294</th>\n",
       "      <td>0.123288</td>\n",
       "      <td>1997</td>\n",
       "      <td></td>\n",
       "      <td>-</td>\n",
       "      <td>NaN</td>\n",
       "      <td>NaN</td>\n",
       "      <td>NaN</td>\n",
       "      <td>NaN</td>\n",
       "      <td>NaN</td>\n",
       "      <td>NaN</td>\n",
       "      <td>...</td>\n",
       "      <td>NaN</td>\n",
       "      <td>NaN</td>\n",
       "      <td>NaN</td>\n",
       "      <td>NaN</td>\n",
       "      <td>34250.0</td>\n",
       "      <td>강남구</td>\n",
       "      <td>논현동</td>\n",
       "      <td>2013</td>\n",
       "      <td>0</td>\n",
       "      <td>0.062056</td>\n",
       "    </tr>\n",
       "    <tr>\n",
       "      <th>109689</th>\n",
       "      <td>0.315068</td>\n",
       "      <td>2002</td>\n",
       "      <td></td>\n",
       "      <td>-</td>\n",
       "      <td>NaN</td>\n",
       "      <td>NaN</td>\n",
       "      <td>NaN</td>\n",
       "      <td>NaN</td>\n",
       "      <td>NaN</td>\n",
       "      <td>NaN</td>\n",
       "      <td>...</td>\n",
       "      <td>NaN</td>\n",
       "      <td>NaN</td>\n",
       "      <td>NaN</td>\n",
       "      <td>NaN</td>\n",
       "      <td>44500.0</td>\n",
       "      <td>노원구</td>\n",
       "      <td>공릉동</td>\n",
       "      <td>2012</td>\n",
       "      <td>0</td>\n",
       "      <td>0.258624</td>\n",
       "    </tr>\n",
       "    <tr>\n",
       "      <th>1103079</th>\n",
       "      <td>0.123288</td>\n",
       "      <td>2005</td>\n",
       "      <td></td>\n",
       "      <td>-</td>\n",
       "      <td>NaN</td>\n",
       "      <td>NaN</td>\n",
       "      <td>NaN</td>\n",
       "      <td>NaN</td>\n",
       "      <td>NaN</td>\n",
       "      <td>NaN</td>\n",
       "      <td>...</td>\n",
       "      <td>NaN</td>\n",
       "      <td>NaN</td>\n",
       "      <td>NaN</td>\n",
       "      <td>NaN</td>\n",
       "      <td>12600.0</td>\n",
       "      <td>마포구</td>\n",
       "      <td>서교동</td>\n",
       "      <td>2007</td>\n",
       "      <td>1</td>\n",
       "      <td>0.058581</td>\n",
       "    </tr>\n",
       "  </tbody>\n",
       "</table>\n",
       "<p>5 rows × 23 columns</p>\n",
       "</div>"
      ],
      "text/plain": [
       "                층  건축년도 등기신청일자 거래유형 k-단지분류(아파트,주상복합등등) k-세대타입(분양형태) k-관리방식  \\\n",
       "966823   0.178082  1987           -                NaN          NaN    NaN   \n",
       "771969   0.082192  1992           -                아파트           분양   위탁관리   \n",
       "848294   0.123288  1997           -                NaN          NaN    NaN   \n",
       "109689   0.315068  2002           -                NaN          NaN    NaN   \n",
       "1103079  0.123288  2005           -                NaN          NaN    NaN   \n",
       "\n",
       "        k-복도유형 k-난방방식  k-전용면적별세대현황(60㎡이하)  ...  경비비관리형태  세대전기계약방법  청소비관리형태  \\\n",
       "966823     NaN    NaN                 NaN  ...      NaN       NaN      NaN   \n",
       "771969     복도식   지역난방              1476.0  ...       위탁      단일계약       위탁   \n",
       "848294     NaN    NaN                 NaN  ...      NaN       NaN      NaN   \n",
       "109689     NaN    NaN                 NaN  ...      NaN       NaN      NaN   \n",
       "1103079    NaN    NaN                 NaN  ...      NaN       NaN      NaN   \n",
       "\n",
       "        기타/의무/임대/임의=1/2/3/4   target    구    동  계약년도 성수기여부      전용면적  \n",
       "966823                  NaN  33700.0  중랑구  면목동  2011     0  0.180787  \n",
       "771969                   의무  18200.0  강서구  가양동  2014     0  0.071398  \n",
       "848294                  NaN  34250.0  강남구  논현동  2013     0  0.062056  \n",
       "109689                  NaN  44500.0  노원구  공릉동  2012     0  0.258624  \n",
       "1103079                 NaN  12600.0  마포구  서교동  2007     1  0.058581  \n",
       "\n",
       "[5 rows x 23 columns]"
      ]
     },
     "execution_count": 788,
     "metadata": {},
     "output_type": "execute_result"
    }
   ],
   "source": [
    "dt.sample(5)"
   ]
  },
  {
   "cell_type": "code",
   "execution_count": 789,
   "metadata": {},
   "outputs": [
    {
     "data": {
      "text/plain": [
       "층                               0\n",
       "건축년도                            0\n",
       "등기신청일자                          0\n",
       "거래유형                            0\n",
       "k-단지분류(아파트,주상복합등등)         877273\n",
       "k-세대타입(분양형태)               876125\n",
       "k-관리방식                     876125\n",
       "k-복도유형                     876454\n",
       "k-난방방식                     876125\n",
       "k-전용면적별세대현황(60㎡이하)         876170\n",
       "k-전용면적별세대현황(60㎡~85㎡이하)     876170\n",
       "k-85㎡~135㎡이하               876170\n",
       "k-135㎡초과                  1127765\n",
       "경비비관리형태                    877561\n",
       "세대전기계약방법                   885389\n",
       "청소비관리형태                    877751\n",
       "기타/의무/임대/임의=1/2/3/4        876125\n",
       "target                       9272\n",
       "구                               0\n",
       "동                               0\n",
       "계약년도                            0\n",
       "성수기여부                           0\n",
       "전용면적                            0\n",
       "dtype: int64"
      ]
     },
     "execution_count": 789,
     "metadata": {},
     "output_type": "execute_result"
    }
   ],
   "source": [
    "dt.isnull().sum()"
   ]
  },
  {
   "cell_type": "markdown",
   "metadata": {},
   "source": [
    "## 건축년도 : 1 / (2024 - 건축년도)\n"
   ]
  },
  {
   "cell_type": "code",
   "execution_count": 790,
   "metadata": {},
   "outputs": [
    {
     "data": {
      "image/png": "[encoded data removed]",
      "text/plain": [
       "<Figure size 640x480 with 1 Axes>"
      ]
     },
     "metadata": {},
     "output_type": "display_data"
    }
   ],
   "source": [
    "plt.title('Original Original Construct Year')\n",
    "plt.xticks(rotation=15)\n",
    "sns.histplot(dt['건축년도'], kde=True)\n",
    "# plt.ylim(0, 2200)  \n",
    "plt.show()"
   ]
  },
  {
   "cell_type": "code",
   "execution_count": 791,
   "metadata": {},
   "outputs": [
    {
     "data": {
      "text/plain": [
       "Index(['층', '건축년도', '등기신청일자', '거래유형', 'k-단지분류(아파트,주상복합등등)', 'k-세대타입(분양형태)',\n",
       "       'k-관리방식', 'k-복도유형', 'k-난방방식', 'k-전용면적별세대현황(60㎡이하)',\n",
       "       'k-전용면적별세대현황(60㎡~85㎡이하)', 'k-85㎡~135㎡이하', 'k-135㎡초과', '경비비관리형태',\n",
       "       '세대전기계약방법', '청소비관리형태', '기타/의무/임대/임의=1/2/3/4', 'target', '구', '동',\n",
       "       '계약년도', '성수기여부', '전용면적'],\n",
       "      dtype='object')"
      ]
     },
     "execution_count": 791,
     "metadata": {},
     "output_type": "execute_result"
    }
   ],
   "source": [
    "# 4. 건축년도 : 2024년 기준 차이값 계산 후 역수\n",
    "dt['건축년도'] = 2024 - dt['건축년도']\n",
    "# dt['건축년도'] = (1 / dt['건축년도']).round(2)\n",
    "dt.columns"
   ]
  },
  {
   "cell_type": "code",
   "execution_count": 792,
   "metadata": {},
   "outputs": [
    {
     "data": {
      "text/plain": [
       "0          0.580645\n",
       "1          0.580645\n",
       "2          0.580645\n",
       "3          0.580645\n",
       "4          0.580645\n",
       "             ...   \n",
       "1128089    0.145161\n",
       "1128090    0.145161\n",
       "1128091    0.145161\n",
       "1128092    0.145161\n",
       "1128093    0.145161\n",
       "Name: 건축년도, Length: 1128094, dtype: float64"
      ]
     },
     "execution_count": 792,
     "metadata": {},
     "output_type": "execute_result"
    }
   ],
   "source": [
    "# MinMaxScaler는 입력 데이터를 2D 형태([[value], ...] 또는 (n_samples, n_features))로 기대합니다.\n",
    "# Pandas Series는 1D 배열 형태이므로 .values.reshape(-1, 1)로 변환해야 합니다\n",
    "dt['건축년도'] = scaler.fit_transform(dt['건축년도'].values.reshape(-1, 1))\n",
    "dt['건축년도']"
   ]
  },
  {
   "cell_type": "code",
   "execution_count": 793,
   "metadata": {},
   "outputs": [
    {
     "data": {
      "image/png": "[encoded data removed]",
      "text/plain": [
       "<Figure size 640x480 with 1 Axes>"
      ]
     },
     "metadata": {},
     "output_type": "display_data"
    }
   ],
   "source": [
    "plt.title('Original Construct Year')\n",
    "plt.xticks(rotation=15)\n",
    "sns.histplot(dt['건축년도'], kde=True)\n",
    "plt.ylim(0, dt['건축년도'].value_counts().max())  \n",
    "plt.show()"
   ]
  },
  {
   "cell_type": "markdown",
   "metadata": {},
   "source": [
    "## 중간점검\n"
   ]
  },
  {
   "cell_type": "code",
   "execution_count": 794,
   "metadata": {},
   "outputs": [
    {
     "data": {
      "text/html": [
       "<div>\n",
       "<style scoped>\n",
       "    .dataframe tbody tr th:only-of-type {\n",
       "        vertical-align: middle;\n",
       "    }\n",
       "\n",
       "    .dataframe tbody tr th {\n",
       "        vertical-align: top;\n",
       "    }\n",
       "\n",
       "    .dataframe thead th {\n",
       "        text-align: right;\n",
       "    }\n",
       "</style>\n",
       "<table border=\"1\" class=\"dataframe\">\n",
       "  <thead>\n",
       "    <tr style=\"text-align: right;\">\n",
       "      <th></th>\n",
       "      <th>계약년도</th>\n",
       "      <th>성수기여부</th>\n",
       "      <th>전용면적</th>\n",
       "      <th>층</th>\n",
       "      <th>건축년도</th>\n",
       "    </tr>\n",
       "  </thead>\n",
       "  <tbody>\n",
       "    <tr>\n",
       "      <th>529841</th>\n",
       "      <td>2017</td>\n",
       "      <td>0</td>\n",
       "      <td>0.175597</td>\n",
       "      <td>0.232877</td>\n",
       "      <td>0.467742</td>\n",
       "    </tr>\n",
       "    <tr>\n",
       "      <th>1044863</th>\n",
       "      <td>2008</td>\n",
       "      <td>0</td>\n",
       "      <td>0.120444</td>\n",
       "      <td>0.150685</td>\n",
       "      <td>0.370968</td>\n",
       "    </tr>\n",
       "    <tr>\n",
       "      <th>147725</th>\n",
       "      <td>2009</td>\n",
       "      <td>1</td>\n",
       "      <td>0.180763</td>\n",
       "      <td>0.178082</td>\n",
       "      <td>0.500000</td>\n",
       "    </tr>\n",
       "    <tr>\n",
       "      <th>282716</th>\n",
       "      <td>2021</td>\n",
       "      <td>1</td>\n",
       "      <td>0.180087</td>\n",
       "      <td>0.136986</td>\n",
       "      <td>0.483871</td>\n",
       "    </tr>\n",
       "    <tr>\n",
       "      <th>617993</th>\n",
       "      <td>2016</td>\n",
       "      <td>0</td>\n",
       "      <td>0.180328</td>\n",
       "      <td>0.178082</td>\n",
       "      <td>0.290323</td>\n",
       "    </tr>\n",
       "  </tbody>\n",
       "</table>\n",
       "</div>"
      ],
      "text/plain": [
       "         계약년도  성수기여부      전용면적         층      건축년도\n",
       "529841   2017      0  0.175597  0.232877  0.467742\n",
       "1044863  2008      0  0.120444  0.150685  0.370968\n",
       "147725   2009      1  0.180763  0.178082  0.500000\n",
       "282716   2021      1  0.180087  0.136986  0.483871\n",
       "617993   2016      0  0.180328  0.178082  0.290323"
      ]
     },
     "execution_count": 794,
     "metadata": {},
     "output_type": "execute_result"
    }
   ],
   "source": [
    "dt[['계약년도', '성수기여부', '전용면적', '층','건축년도']].sample(5)"
   ]
  },
  {
   "cell_type": "code",
   "execution_count": 795,
   "metadata": {},
   "outputs": [
    {
     "data": {
      "text/plain": [
       "계약년도     0\n",
       "성수기여부    0\n",
       "전용면적     0\n",
       "층        0\n",
       "건축년도     0\n",
       "dtype: int64"
      ]
     },
     "execution_count": 795,
     "metadata": {},
     "output_type": "execute_result"
    }
   ],
   "source": [
    "dt[['계약년도', '성수기여부', '전용면적', '층','건축년도']].isnull().sum()"
   ]
  },
  {
   "cell_type": "markdown",
   "metadata": {},
   "source": [
    "## 등기신청일자\n",
    "\n",
    "등기신청일자 : 있으면 1 없으면 0"
   ]
  },
  {
   "cell_type": "code",
   "execution_count": 796,
   "metadata": {},
   "outputs": [
    {
     "data": {
      "text/html": [
       "<div>\n",
       "<style scoped>\n",
       "    .dataframe tbody tr th:only-of-type {\n",
       "        vertical-align: middle;\n",
       "    }\n",
       "\n",
       "    .dataframe tbody tr th {\n",
       "        vertical-align: top;\n",
       "    }\n",
       "\n",
       "    .dataframe thead th {\n",
       "        text-align: right;\n",
       "    }\n",
       "</style>\n",
       "<table border=\"1\" class=\"dataframe\">\n",
       "  <thead>\n",
       "    <tr style=\"text-align: right;\">\n",
       "      <th></th>\n",
       "      <th>층</th>\n",
       "      <th>건축년도</th>\n",
       "      <th>등기신청일자</th>\n",
       "      <th>거래유형</th>\n",
       "      <th>k-단지분류(아파트,주상복합등등)</th>\n",
       "      <th>k-세대타입(분양형태)</th>\n",
       "      <th>k-관리방식</th>\n",
       "      <th>k-복도유형</th>\n",
       "      <th>k-난방방식</th>\n",
       "      <th>k-전용면적별세대현황(60㎡이하)</th>\n",
       "      <th>...</th>\n",
       "      <th>경비비관리형태</th>\n",
       "      <th>세대전기계약방법</th>\n",
       "      <th>청소비관리형태</th>\n",
       "      <th>기타/의무/임대/임의=1/2/3/4</th>\n",
       "      <th>target</th>\n",
       "      <th>구</th>\n",
       "      <th>동</th>\n",
       "      <th>계약년도</th>\n",
       "      <th>성수기여부</th>\n",
       "      <th>전용면적</th>\n",
       "    </tr>\n",
       "  </thead>\n",
       "  <tbody>\n",
       "    <tr>\n",
       "      <th>0</th>\n",
       "      <td>0.095890</td>\n",
       "      <td>0.580645</td>\n",
       "      <td></td>\n",
       "      <td>-</td>\n",
       "      <td>아파트</td>\n",
       "      <td>분양</td>\n",
       "      <td>자치관리</td>\n",
       "      <td>계단식</td>\n",
       "      <td>개별난방</td>\n",
       "      <td>20.0</td>\n",
       "      <td>...</td>\n",
       "      <td>직영</td>\n",
       "      <td>단일계약</td>\n",
       "      <td>직영</td>\n",
       "      <td>임의</td>\n",
       "      <td>124000.0</td>\n",
       "      <td>강남구</td>\n",
       "      <td>개포동</td>\n",
       "      <td>2017</td>\n",
       "      <td>0</td>\n",
       "      <td>0.168839</td>\n",
       "    </tr>\n",
       "    <tr>\n",
       "      <th>1</th>\n",
       "      <td>0.109589</td>\n",
       "      <td>0.580645</td>\n",
       "      <td></td>\n",
       "      <td>-</td>\n",
       "      <td>아파트</td>\n",
       "      <td>분양</td>\n",
       "      <td>자치관리</td>\n",
       "      <td>계단식</td>\n",
       "      <td>개별난방</td>\n",
       "      <td>20.0</td>\n",
       "      <td>...</td>\n",
       "      <td>직영</td>\n",
       "      <td>단일계약</td>\n",
       "      <td>직영</td>\n",
       "      <td>임의</td>\n",
       "      <td>123500.0</td>\n",
       "      <td>강남구</td>\n",
       "      <td>개포동</td>\n",
       "      <td>2017</td>\n",
       "      <td>0</td>\n",
       "      <td>0.168839</td>\n",
       "    </tr>\n",
       "    <tr>\n",
       "      <th>2</th>\n",
       "      <td>0.123288</td>\n",
       "      <td>0.580645</td>\n",
       "      <td></td>\n",
       "      <td>-</td>\n",
       "      <td>아파트</td>\n",
       "      <td>분양</td>\n",
       "      <td>자치관리</td>\n",
       "      <td>계단식</td>\n",
       "      <td>개별난방</td>\n",
       "      <td>20.0</td>\n",
       "      <td>...</td>\n",
       "      <td>직영</td>\n",
       "      <td>단일계약</td>\n",
       "      <td>직영</td>\n",
       "      <td>임의</td>\n",
       "      <td>91500.0</td>\n",
       "      <td>강남구</td>\n",
       "      <td>개포동</td>\n",
       "      <td>2017</td>\n",
       "      <td>0</td>\n",
       "      <td>0.108520</td>\n",
       "    </tr>\n",
       "    <tr>\n",
       "      <th>3</th>\n",
       "      <td>0.109589</td>\n",
       "      <td>0.580645</td>\n",
       "      <td></td>\n",
       "      <td>-</td>\n",
       "      <td>아파트</td>\n",
       "      <td>분양</td>\n",
       "      <td>자치관리</td>\n",
       "      <td>계단식</td>\n",
       "      <td>개별난방</td>\n",
       "      <td>20.0</td>\n",
       "      <td>...</td>\n",
       "      <td>직영</td>\n",
       "      <td>단일계약</td>\n",
       "      <td>직영</td>\n",
       "      <td>임의</td>\n",
       "      <td>130000.0</td>\n",
       "      <td>강남구</td>\n",
       "      <td>개포동</td>\n",
       "      <td>2018</td>\n",
       "      <td>0</td>\n",
       "      <td>0.168839</td>\n",
       "    </tr>\n",
       "    <tr>\n",
       "      <th>4</th>\n",
       "      <td>0.082192</td>\n",
       "      <td>0.580645</td>\n",
       "      <td></td>\n",
       "      <td>-</td>\n",
       "      <td>아파트</td>\n",
       "      <td>분양</td>\n",
       "      <td>자치관리</td>\n",
       "      <td>계단식</td>\n",
       "      <td>개별난방</td>\n",
       "      <td>20.0</td>\n",
       "      <td>...</td>\n",
       "      <td>직영</td>\n",
       "      <td>단일계약</td>\n",
       "      <td>직영</td>\n",
       "      <td>임의</td>\n",
       "      <td>117000.0</td>\n",
       "      <td>강남구</td>\n",
       "      <td>개포동</td>\n",
       "      <td>2018</td>\n",
       "      <td>0</td>\n",
       "      <td>0.168839</td>\n",
       "    </tr>\n",
       "    <tr>\n",
       "      <th>...</th>\n",
       "      <td>...</td>\n",
       "      <td>...</td>\n",
       "      <td>...</td>\n",
       "      <td>...</td>\n",
       "      <td>...</td>\n",
       "      <td>...</td>\n",
       "      <td>...</td>\n",
       "      <td>...</td>\n",
       "      <td>...</td>\n",
       "      <td>...</td>\n",
       "      <td>...</td>\n",
       "      <td>...</td>\n",
       "      <td>...</td>\n",
       "      <td>...</td>\n",
       "      <td>...</td>\n",
       "      <td>...</td>\n",
       "      <td>...</td>\n",
       "      <td>...</td>\n",
       "      <td>...</td>\n",
       "      <td>...</td>\n",
       "      <td>...</td>\n",
       "    </tr>\n",
       "    <tr>\n",
       "      <th>1128088</th>\n",
       "      <td>0.178082</td>\n",
       "      <td>0.677419</td>\n",
       "      <td></td>\n",
       "      <td>중개거래</td>\n",
       "      <td>아파트</td>\n",
       "      <td>분양</td>\n",
       "      <td>자치관리</td>\n",
       "      <td>복도식</td>\n",
       "      <td>개별난방</td>\n",
       "      <td>121.0</td>\n",
       "      <td>...</td>\n",
       "      <td>직영</td>\n",
       "      <td>종합계약</td>\n",
       "      <td>직영</td>\n",
       "      <td>임의</td>\n",
       "      <td>NaN</td>\n",
       "      <td>중구</td>\n",
       "      <td>묵정동</td>\n",
       "      <td>2023</td>\n",
       "      <td>0</td>\n",
       "      <td>0.102438</td>\n",
       "    </tr>\n",
       "    <tr>\n",
       "      <th>1128089</th>\n",
       "      <td>0.232877</td>\n",
       "      <td>0.145161</td>\n",
       "      <td></td>\n",
       "      <td>직거래</td>\n",
       "      <td>아파트</td>\n",
       "      <td>기타</td>\n",
       "      <td>위탁관리</td>\n",
       "      <td>혼합식</td>\n",
       "      <td>개별난방</td>\n",
       "      <td>808.0</td>\n",
       "      <td>...</td>\n",
       "      <td>위탁</td>\n",
       "      <td>종합계약</td>\n",
       "      <td>위탁</td>\n",
       "      <td>의무</td>\n",
       "      <td>NaN</td>\n",
       "      <td>중랑구</td>\n",
       "      <td>신내동</td>\n",
       "      <td>2023</td>\n",
       "      <td>1</td>\n",
       "      <td>0.180135</td>\n",
       "    </tr>\n",
       "    <tr>\n",
       "      <th>1128090</th>\n",
       "      <td>0.219178</td>\n",
       "      <td>0.145161</td>\n",
       "      <td></td>\n",
       "      <td>중개거래</td>\n",
       "      <td>아파트</td>\n",
       "      <td>기타</td>\n",
       "      <td>위탁관리</td>\n",
       "      <td>혼합식</td>\n",
       "      <td>개별난방</td>\n",
       "      <td>808.0</td>\n",
       "      <td>...</td>\n",
       "      <td>위탁</td>\n",
       "      <td>종합계약</td>\n",
       "      <td>위탁</td>\n",
       "      <td>의무</td>\n",
       "      <td>NaN</td>\n",
       "      <td>중랑구</td>\n",
       "      <td>신내동</td>\n",
       "      <td>2023</td>\n",
       "      <td>1</td>\n",
       "      <td>0.180063</td>\n",
       "    </tr>\n",
       "    <tr>\n",
       "      <th>1128091</th>\n",
       "      <td>0.219178</td>\n",
       "      <td>0.145161</td>\n",
       "      <td></td>\n",
       "      <td>중개거래</td>\n",
       "      <td>아파트</td>\n",
       "      <td>기타</td>\n",
       "      <td>위탁관리</td>\n",
       "      <td>혼합식</td>\n",
       "      <td>개별난방</td>\n",
       "      <td>808.0</td>\n",
       "      <td>...</td>\n",
       "      <td>위탁</td>\n",
       "      <td>종합계약</td>\n",
       "      <td>위탁</td>\n",
       "      <td>의무</td>\n",
       "      <td>NaN</td>\n",
       "      <td>중랑구</td>\n",
       "      <td>신내동</td>\n",
       "      <td>2023</td>\n",
       "      <td>1</td>\n",
       "      <td>0.221168</td>\n",
       "    </tr>\n",
       "    <tr>\n",
       "      <th>1128092</th>\n",
       "      <td>0.301370</td>\n",
       "      <td>0.145161</td>\n",
       "      <td></td>\n",
       "      <td>중개거래</td>\n",
       "      <td>아파트</td>\n",
       "      <td>기타</td>\n",
       "      <td>위탁관리</td>\n",
       "      <td>혼합식</td>\n",
       "      <td>개별난방</td>\n",
       "      <td>808.0</td>\n",
       "      <td>...</td>\n",
       "      <td>위탁</td>\n",
       "      <td>종합계약</td>\n",
       "      <td>위탁</td>\n",
       "      <td>의무</td>\n",
       "      <td>NaN</td>\n",
       "      <td>중랑구</td>\n",
       "      <td>신내동</td>\n",
       "      <td>2023</td>\n",
       "      <td>0</td>\n",
       "      <td>0.180835</td>\n",
       "    </tr>\n",
       "  </tbody>\n",
       "</table>\n",
       "<p>1111271 rows × 23 columns</p>\n",
       "</div>"
      ],
      "text/plain": [
       "                층      건축년도 등기신청일자  거래유형 k-단지분류(아파트,주상복합등등) k-세대타입(분양형태)  \\\n",
       "0        0.095890  0.580645            -                아파트           분양   \n",
       "1        0.109589  0.580645            -                아파트           분양   \n",
       "2        0.123288  0.580645            -                아파트           분양   \n",
       "3        0.109589  0.580645            -                아파트           분양   \n",
       "4        0.082192  0.580645            -                아파트           분양   \n",
       "...           ...       ...    ...   ...                ...          ...   \n",
       "1128088  0.178082  0.677419         중개거래                아파트           분양   \n",
       "1128089  0.232877  0.145161          직거래                아파트           기타   \n",
       "1128090  0.219178  0.145161         중개거래                아파트           기타   \n",
       "1128091  0.219178  0.145161         중개거래                아파트           기타   \n",
       "1128092  0.301370  0.145161         중개거래                아파트           기타   \n",
       "\n",
       "        k-관리방식 k-복도유형 k-난방방식  k-전용면적별세대현황(60㎡이하)  ...  경비비관리형태  세대전기계약방법  \\\n",
       "0         자치관리    계단식   개별난방                20.0  ...       직영      단일계약   \n",
       "1         자치관리    계단식   개별난방                20.0  ...       직영      단일계약   \n",
       "2         자치관리    계단식   개별난방                20.0  ...       직영      단일계약   \n",
       "3         자치관리    계단식   개별난방                20.0  ...       직영      단일계약   \n",
       "4         자치관리    계단식   개별난방                20.0  ...       직영      단일계약   \n",
       "...        ...    ...    ...                 ...  ...      ...       ...   \n",
       "1128088   자치관리    복도식   개별난방               121.0  ...       직영      종합계약   \n",
       "1128089   위탁관리    혼합식   개별난방               808.0  ...       위탁      종합계약   \n",
       "1128090   위탁관리    혼합식   개별난방               808.0  ...       위탁      종합계약   \n",
       "1128091   위탁관리    혼합식   개별난방               808.0  ...       위탁      종합계약   \n",
       "1128092   위탁관리    혼합식   개별난방               808.0  ...       위탁      종합계약   \n",
       "\n",
       "         청소비관리형태 기타/의무/임대/임의=1/2/3/4    target    구    동  계약년도 성수기여부      전용면적  \n",
       "0             직영                  임의  124000.0  강남구  개포동  2017     0  0.168839  \n",
       "1             직영                  임의  123500.0  강남구  개포동  2017     0  0.168839  \n",
       "2             직영                  임의   91500.0  강남구  개포동  2017     0  0.108520  \n",
       "3             직영                  임의  130000.0  강남구  개포동  2018     0  0.168839  \n",
       "4             직영                  임의  117000.0  강남구  개포동  2018     0  0.168839  \n",
       "...          ...                 ...       ...  ...  ...   ...   ...       ...  \n",
       "1128088       직영                  임의       NaN   중구  묵정동  2023     0  0.102438  \n",
       "1128089       위탁                  의무       NaN  중랑구  신내동  2023     1  0.180135  \n",
       "1128090       위탁                  의무       NaN  중랑구  신내동  2023     1  0.180063  \n",
       "1128091       위탁                  의무       NaN  중랑구  신내동  2023     1  0.221168  \n",
       "1128092       위탁                  의무       NaN  중랑구  신내동  2023     0  0.180835  \n",
       "\n",
       "[1111271 rows x 23 columns]"
      ]
     },
     "execution_count": 796,
     "metadata": {},
     "output_type": "execute_result"
    }
   ],
   "source": [
    "dt[dt['등기신청일자'] == ' ' ]"
   ]
  },
  {
   "cell_type": "code",
   "execution_count": 797,
   "metadata": {},
   "outputs": [
    {
     "data": {
      "text/plain": [
       "array([0.1, 1. ])"
      ]
     },
     "execution_count": 797,
     "metadata": {},
     "output_type": "execute_result"
    }
   ],
   "source": [
    "dt['등기신청일자'] = dt['등기신청일자'].apply(lambda x:0.1 if x == ' ' else 1)\n",
    "dt['등기신청일자'].unique()"
   ]
  },
  {
   "cell_type": "markdown",
   "metadata": {},
   "source": [
    "## 거래유형 -> OHE"
   ]
  },
  {
   "cell_type": "code",
   "execution_count": 798,
   "metadata": {},
   "outputs": [
    {
     "data": {
      "text/plain": [
       "array(['-', '중개거래', '직거래'], dtype=object)"
      ]
     },
     "execution_count": 798,
     "metadata": {},
     "output_type": "execute_result"
    }
   ],
   "source": [
    "dt['거래유형'].unique()"
   ]
  },
  {
   "cell_type": "code",
   "execution_count": 799,
   "metadata": {},
   "outputs": [],
   "source": [
    "dt['거래유형'].replace('-', np.nan, inplace=True)"
   ]
  },
  {
   "cell_type": "code",
   "execution_count": 800,
   "metadata": {},
   "outputs": [
    {
     "data": {
      "text/html": [
       "<div>\n",
       "<style scoped>\n",
       "    .dataframe tbody tr th:only-of-type {\n",
       "        vertical-align: middle;\n",
       "    }\n",
       "\n",
       "    .dataframe tbody tr th {\n",
       "        vertical-align: top;\n",
       "    }\n",
       "\n",
       "    .dataframe thead th {\n",
       "        text-align: right;\n",
       "    }\n",
       "</style>\n",
       "<table border=\"1\" class=\"dataframe\">\n",
       "  <thead>\n",
       "    <tr style=\"text-align: right;\">\n",
       "      <th></th>\n",
       "      <th>중개거래</th>\n",
       "      <th>직거래</th>\n",
       "    </tr>\n",
       "  </thead>\n",
       "  <tbody>\n",
       "    <tr>\n",
       "      <th>0</th>\n",
       "      <td>0</td>\n",
       "      <td>0</td>\n",
       "    </tr>\n",
       "    <tr>\n",
       "      <th>1</th>\n",
       "      <td>0</td>\n",
       "      <td>0</td>\n",
       "    </tr>\n",
       "    <tr>\n",
       "      <th>2</th>\n",
       "      <td>0</td>\n",
       "      <td>0</td>\n",
       "    </tr>\n",
       "    <tr>\n",
       "      <th>3</th>\n",
       "      <td>0</td>\n",
       "      <td>0</td>\n",
       "    </tr>\n",
       "    <tr>\n",
       "      <th>4</th>\n",
       "      <td>0</td>\n",
       "      <td>0</td>\n",
       "    </tr>\n",
       "  </tbody>\n",
       "</table>\n",
       "</div>"
      ],
      "text/plain": [
       "   중개거래  직거래\n",
       "0     0    0\n",
       "1     0    0\n",
       "2     0    0\n",
       "3     0    0\n",
       "4     0    0"
      ]
     },
     "execution_count": 800,
     "metadata": {},
     "output_type": "execute_result"
    }
   ],
   "source": [
    "# dt['거래유형'] = dt['거래유형'].apply(lambda x : 0.1 if x == '직거래' else(1 if x == '중개거래' else 0.5))\n",
    "# OHE\n",
    "tmp = pd.get_dummies(dt['거래유형'])\n",
    "tmp.head(5)"
   ]
  },
  {
   "cell_type": "code",
   "execution_count": 801,
   "metadata": {},
   "outputs": [
    {
     "data": {
      "text/plain": [
       "Index(['층', '건축년도', '등기신청일자', 'k-단지분류(아파트,주상복합등등)', 'k-세대타입(분양형태)', 'k-관리방식',\n",
       "       'k-복도유형', 'k-난방방식', 'k-전용면적별세대현황(60㎡이하)', 'k-전용면적별세대현황(60㎡~85㎡이하)',\n",
       "       'k-85㎡~135㎡이하', 'k-135㎡초과', '경비비관리형태', '세대전기계약방법', '청소비관리형태',\n",
       "       '기타/의무/임대/임의=1/2/3/4', 'target', '구', '동', '계약년도', '성수기여부', '전용면적',\n",
       "       '중개거래', '직거래'],\n",
       "      dtype='object')"
      ]
     },
     "execution_count": 801,
     "metadata": {},
     "output_type": "execute_result"
    }
   ],
   "source": [
    "dt = pd.concat([dt, tmp], axis=1)\n",
    "dt.drop(columns='거래유형', inplace=True)\n",
    "dt.columns"
   ]
  },
  {
   "cell_type": "code",
   "execution_count": 802,
   "metadata": {},
   "outputs": [
    {
     "data": {
      "text/html": [
       "<div>\n",
       "<style scoped>\n",
       "    .dataframe tbody tr th:only-of-type {\n",
       "        vertical-align: middle;\n",
       "    }\n",
       "\n",
       "    .dataframe tbody tr th {\n",
       "        vertical-align: top;\n",
       "    }\n",
       "\n",
       "    .dataframe thead th {\n",
       "        text-align: right;\n",
       "    }\n",
       "</style>\n",
       "<table border=\"1\" class=\"dataframe\">\n",
       "  <thead>\n",
       "    <tr style=\"text-align: right;\">\n",
       "      <th></th>\n",
       "      <th>층</th>\n",
       "      <th>건축년도</th>\n",
       "      <th>등기신청일자</th>\n",
       "      <th>k-단지분류(아파트,주상복합등등)</th>\n",
       "      <th>k-세대타입(분양형태)</th>\n",
       "      <th>k-관리방식</th>\n",
       "      <th>k-복도유형</th>\n",
       "      <th>k-난방방식</th>\n",
       "      <th>k-전용면적별세대현황(60㎡이하)</th>\n",
       "      <th>k-전용면적별세대현황(60㎡~85㎡이하)</th>\n",
       "      <th>...</th>\n",
       "      <th>청소비관리형태</th>\n",
       "      <th>기타/의무/임대/임의=1/2/3/4</th>\n",
       "      <th>target</th>\n",
       "      <th>구</th>\n",
       "      <th>동</th>\n",
       "      <th>계약년도</th>\n",
       "      <th>성수기여부</th>\n",
       "      <th>전용면적</th>\n",
       "      <th>중개거래</th>\n",
       "      <th>직거래</th>\n",
       "    </tr>\n",
       "  </thead>\n",
       "  <tbody>\n",
       "    <tr>\n",
       "      <th>440639</th>\n",
       "      <td>0.479452</td>\n",
       "      <td>0.161290</td>\n",
       "      <td>0.1</td>\n",
       "      <td>NaN</td>\n",
       "      <td>NaN</td>\n",
       "      <td>NaN</td>\n",
       "      <td>NaN</td>\n",
       "      <td>NaN</td>\n",
       "      <td>NaN</td>\n",
       "      <td>NaN</td>\n",
       "      <td>...</td>\n",
       "      <td>NaN</td>\n",
       "      <td>NaN</td>\n",
       "      <td>82750.0</td>\n",
       "      <td>중랑구</td>\n",
       "      <td>상봉동</td>\n",
       "      <td>2019</td>\n",
       "      <td>1</td>\n",
       "      <td>0.234371</td>\n",
       "      <td>0</td>\n",
       "      <td>0</td>\n",
       "    </tr>\n",
       "    <tr>\n",
       "      <th>528177</th>\n",
       "      <td>0.123288</td>\n",
       "      <td>0.370968</td>\n",
       "      <td>0.1</td>\n",
       "      <td>아파트</td>\n",
       "      <td>분양</td>\n",
       "      <td>위탁관리</td>\n",
       "      <td>혼합식</td>\n",
       "      <td>개별난방</td>\n",
       "      <td>396.0</td>\n",
       "      <td>340.0</td>\n",
       "      <td>...</td>\n",
       "      <td>위탁</td>\n",
       "      <td>의무</td>\n",
       "      <td>54800.0</td>\n",
       "      <td>영등포구</td>\n",
       "      <td>당산동4가</td>\n",
       "      <td>2017</td>\n",
       "      <td>0</td>\n",
       "      <td>0.120034</td>\n",
       "      <td>0</td>\n",
       "      <td>0</td>\n",
       "    </tr>\n",
       "    <tr>\n",
       "      <th>457467</th>\n",
       "      <td>0.150685</td>\n",
       "      <td>0.467742</td>\n",
       "      <td>0.1</td>\n",
       "      <td>아파트</td>\n",
       "      <td>분양</td>\n",
       "      <td>자치관리</td>\n",
       "      <td>계단식</td>\n",
       "      <td>지역난방</td>\n",
       "      <td>0.0</td>\n",
       "      <td>0.0</td>\n",
       "      <td>...</td>\n",
       "      <td>직영</td>\n",
       "      <td>의무</td>\n",
       "      <td>55500.0</td>\n",
       "      <td>강서구</td>\n",
       "      <td>방화동</td>\n",
       "      <td>2017</td>\n",
       "      <td>0</td>\n",
       "      <td>0.218030</td>\n",
       "      <td>0</td>\n",
       "      <td>0</td>\n",
       "    </tr>\n",
       "    <tr>\n",
       "      <th>574501</th>\n",
       "      <td>0.095890</td>\n",
       "      <td>0.338710</td>\n",
       "      <td>0.1</td>\n",
       "      <td>NaN</td>\n",
       "      <td>NaN</td>\n",
       "      <td>NaN</td>\n",
       "      <td>NaN</td>\n",
       "      <td>NaN</td>\n",
       "      <td>NaN</td>\n",
       "      <td>NaN</td>\n",
       "      <td>...</td>\n",
       "      <td>NaN</td>\n",
       "      <td>NaN</td>\n",
       "      <td>28700.0</td>\n",
       "      <td>금천구</td>\n",
       "      <td>독산동</td>\n",
       "      <td>2015</td>\n",
       "      <td>0</td>\n",
       "      <td>0.109896</td>\n",
       "      <td>0</td>\n",
       "      <td>0</td>\n",
       "    </tr>\n",
       "    <tr>\n",
       "      <th>83998</th>\n",
       "      <td>0.136986</td>\n",
       "      <td>0.629032</td>\n",
       "      <td>0.1</td>\n",
       "      <td>NaN</td>\n",
       "      <td>NaN</td>\n",
       "      <td>NaN</td>\n",
       "      <td>NaN</td>\n",
       "      <td>NaN</td>\n",
       "      <td>NaN</td>\n",
       "      <td>NaN</td>\n",
       "      <td>...</td>\n",
       "      <td>NaN</td>\n",
       "      <td>NaN</td>\n",
       "      <td>41800.0</td>\n",
       "      <td>영등포구</td>\n",
       "      <td>신길동</td>\n",
       "      <td>2017</td>\n",
       "      <td>0</td>\n",
       "      <td>0.121796</td>\n",
       "      <td>0</td>\n",
       "      <td>0</td>\n",
       "    </tr>\n",
       "  </tbody>\n",
       "</table>\n",
       "<p>5 rows × 24 columns</p>\n",
       "</div>"
      ],
      "text/plain": [
       "               층      건축년도  등기신청일자 k-단지분류(아파트,주상복합등등) k-세대타입(분양형태) k-관리방식  \\\n",
       "440639  0.479452  0.161290     0.1                NaN          NaN    NaN   \n",
       "528177  0.123288  0.370968     0.1                아파트           분양   위탁관리   \n",
       "457467  0.150685  0.467742     0.1                아파트           분양   자치관리   \n",
       "574501  0.095890  0.338710     0.1                NaN          NaN    NaN   \n",
       "83998   0.136986  0.629032     0.1                NaN          NaN    NaN   \n",
       "\n",
       "       k-복도유형 k-난방방식  k-전용면적별세대현황(60㎡이하)  k-전용면적별세대현황(60㎡~85㎡이하)  ...  \\\n",
       "440639    NaN    NaN                 NaN                     NaN  ...   \n",
       "528177    혼합식   개별난방               396.0                   340.0  ...   \n",
       "457467    계단식   지역난방                 0.0                     0.0  ...   \n",
       "574501    NaN    NaN                 NaN                     NaN  ...   \n",
       "83998     NaN    NaN                 NaN                     NaN  ...   \n",
       "\n",
       "        청소비관리형태  기타/의무/임대/임의=1/2/3/4   target     구      동  계약년도  성수기여부  \\\n",
       "440639      NaN                  NaN  82750.0   중랑구    상봉동  2019      1   \n",
       "528177       위탁                   의무  54800.0  영등포구  당산동4가  2017      0   \n",
       "457467       직영                   의무  55500.0   강서구    방화동  2017      0   \n",
       "574501      NaN                  NaN  28700.0   금천구    독산동  2015      0   \n",
       "83998       NaN                  NaN  41800.0  영등포구    신길동  2017      0   \n",
       "\n",
       "            전용면적 중개거래  직거래  \n",
       "440639  0.234371    0    0  \n",
       "528177  0.120034    0    0  \n",
       "457467  0.218030    0    0  \n",
       "574501  0.109896    0    0  \n",
       "83998   0.121796    0    0  \n",
       "\n",
       "[5 rows x 24 columns]"
      ]
     },
     "execution_count": 802,
     "metadata": {},
     "output_type": "execute_result"
    }
   ],
   "source": [
    "dt.sample(5)"
   ]
  },
  {
   "cell_type": "markdown",
   "metadata": {},
   "source": [
    "##\n",
    "k-단지분류(아파트,주상복합등등) : 아파트 > 주상복합 ? 연립주택 > 도시형생활 주택(주상복합 > 아파트) 내림차순 번호 할당\n",
    "\n",
    "k-세대타입(분양형태) : O : 분양, (기타 )> 임대\n",
    "\n",
    "k-관리방식 : O : 위탁관리 > 자치관리 > 직영\n",
    "\n",
    "k-복도유형 : O : 계단식 > 혼합식 > 복도식 > 타워형 > 기타\n",
    "\n",
    "k-난방방식 : O :개별난방 > 지역난방 > 중앙난방 > 기타\n",
    "\n",
    "k-사용검사일-사용승인일 : - : 사용승인일 - 사용검사일 의 결과값에 대해서 Min Max Scale"
   ]
  },
  {
   "cell_type": "markdown",
   "metadata": {},
   "source": [
    "## 단지분류\n",
    "\n",
    "아파트 > 주상복합 ? 연립주택 > 도시형생활 주택(주상복합 > 아파트) 내림차순 번호 할당 -> OHE"
   ]
  },
  {
   "cell_type": "code",
   "execution_count": 803,
   "metadata": {},
   "outputs": [
    {
     "data": {
      "text/plain": [
       "array(['아파트', '주상복합', nan, '연립주택', '도시형 생활주택(아파트)', '도시형 생활주택(주상복합)'],\n",
       "      dtype=object)"
      ]
     },
     "execution_count": 803,
     "metadata": {},
     "output_type": "execute_result"
    }
   ],
   "source": [
    "dt['k-단지분류(아파트,주상복합등등)'].unique()"
   ]
  },
  {
   "cell_type": "code",
   "execution_count": 804,
   "metadata": {},
   "outputs": [
    {
     "data": {
      "text/plain": [
       "array(['아파트', '주상복합', nan, '연립주택', '도시형 생활주택(아파트)', '도시형 생활주택(주상복합)'],\n",
       "      dtype=object)"
      ]
     },
     "execution_count": 804,
     "metadata": {},
     "output_type": "execute_result"
    }
   ],
   "source": [
    "dt['k-단지분류(아파트,주상복합등등)'].replace('nan', np.nan, inplace=True)\n",
    "dt['k-단지분류(아파트,주상복합등등)'].unique()"
   ]
  },
  {
   "cell_type": "code",
   "execution_count": 805,
   "metadata": {},
   "outputs": [
    {
     "data": {
      "text/html": [
       "<div>\n",
       "<style scoped>\n",
       "    .dataframe tbody tr th:only-of-type {\n",
       "        vertical-align: middle;\n",
       "    }\n",
       "\n",
       "    .dataframe tbody tr th {\n",
       "        vertical-align: top;\n",
       "    }\n",
       "\n",
       "    .dataframe thead th {\n",
       "        text-align: right;\n",
       "    }\n",
       "</style>\n",
       "<table border=\"1\" class=\"dataframe\">\n",
       "  <thead>\n",
       "    <tr style=\"text-align: right;\">\n",
       "      <th></th>\n",
       "      <th>도시형 생활주택(아파트)</th>\n",
       "      <th>도시형 생활주택(주상복합)</th>\n",
       "      <th>아파트</th>\n",
       "      <th>연립주택</th>\n",
       "      <th>주상복합</th>\n",
       "    </tr>\n",
       "  </thead>\n",
       "  <tbody>\n",
       "    <tr>\n",
       "      <th>0</th>\n",
       "      <td>0</td>\n",
       "      <td>0</td>\n",
       "      <td>1</td>\n",
       "      <td>0</td>\n",
       "      <td>0</td>\n",
       "    </tr>\n",
       "    <tr>\n",
       "      <th>1</th>\n",
       "      <td>0</td>\n",
       "      <td>0</td>\n",
       "      <td>1</td>\n",
       "      <td>0</td>\n",
       "      <td>0</td>\n",
       "    </tr>\n",
       "    <tr>\n",
       "      <th>2</th>\n",
       "      <td>0</td>\n",
       "      <td>0</td>\n",
       "      <td>1</td>\n",
       "      <td>0</td>\n",
       "      <td>0</td>\n",
       "    </tr>\n",
       "    <tr>\n",
       "      <th>3</th>\n",
       "      <td>0</td>\n",
       "      <td>0</td>\n",
       "      <td>1</td>\n",
       "      <td>0</td>\n",
       "      <td>0</td>\n",
       "    </tr>\n",
       "    <tr>\n",
       "      <th>4</th>\n",
       "      <td>0</td>\n",
       "      <td>0</td>\n",
       "      <td>1</td>\n",
       "      <td>0</td>\n",
       "      <td>0</td>\n",
       "    </tr>\n",
       "  </tbody>\n",
       "</table>\n",
       "</div>"
      ],
      "text/plain": [
       "   도시형 생활주택(아파트)  도시형 생활주택(주상복합)  아파트  연립주택  주상복합\n",
       "0              0               0    1     0     0\n",
       "1              0               0    1     0     0\n",
       "2              0               0    1     0     0\n",
       "3              0               0    1     0     0\n",
       "4              0               0    1     0     0"
      ]
     },
     "execution_count": 805,
     "metadata": {},
     "output_type": "execute_result"
    }
   ],
   "source": [
    "tmp = pd.get_dummies(dt['k-단지분류(아파트,주상복합등등)'])\n",
    "tmp.head(5)"
   ]
  },
  {
   "cell_type": "code",
   "execution_count": 806,
   "metadata": {},
   "outputs": [
    {
     "data": {
      "text/plain": [
       "Index(['층', '건축년도', '등기신청일자', 'k-세대타입(분양형태)', 'k-관리방식', 'k-복도유형', 'k-난방방식',\n",
       "       'k-전용면적별세대현황(60㎡이하)', 'k-전용면적별세대현황(60㎡~85㎡이하)', 'k-85㎡~135㎡이하',\n",
       "       'k-135㎡초과', '경비비관리형태', '세대전기계약방법', '청소비관리형태', '기타/의무/임대/임의=1/2/3/4',\n",
       "       'target', '구', '동', '계약년도', '성수기여부', '전용면적', '중개거래', '직거래',\n",
       "       '도시형 생활주택(아파트)', '도시형 생활주택(주상복합)', '아파트', '연립주택', '주상복합'],\n",
       "      dtype='object')"
      ]
     },
     "execution_count": 806,
     "metadata": {},
     "output_type": "execute_result"
    }
   ],
   "source": [
    "dt = pd.concat([dt, tmp], axis=1)\n",
    "dt.drop(columns='k-단지분류(아파트,주상복합등등)', inplace=True)\n",
    "dt.columns"
   ]
  },
  {
   "cell_type": "code",
   "execution_count": 807,
   "metadata": {},
   "outputs": [
    {
     "data": {
      "text/html": [
       "<div>\n",
       "<style scoped>\n",
       "    .dataframe tbody tr th:only-of-type {\n",
       "        vertical-align: middle;\n",
       "    }\n",
       "\n",
       "    .dataframe tbody tr th {\n",
       "        vertical-align: top;\n",
       "    }\n",
       "\n",
       "    .dataframe thead th {\n",
       "        text-align: right;\n",
       "    }\n",
       "</style>\n",
       "<table border=\"1\" class=\"dataframe\">\n",
       "  <thead>\n",
       "    <tr style=\"text-align: right;\">\n",
       "      <th></th>\n",
       "      <th>층</th>\n",
       "      <th>건축년도</th>\n",
       "      <th>등기신청일자</th>\n",
       "      <th>k-세대타입(분양형태)</th>\n",
       "      <th>k-관리방식</th>\n",
       "      <th>k-복도유형</th>\n",
       "      <th>k-난방방식</th>\n",
       "      <th>k-전용면적별세대현황(60㎡이하)</th>\n",
       "      <th>k-전용면적별세대현황(60㎡~85㎡이하)</th>\n",
       "      <th>k-85㎡~135㎡이하</th>\n",
       "      <th>...</th>\n",
       "      <th>계약년도</th>\n",
       "      <th>성수기여부</th>\n",
       "      <th>전용면적</th>\n",
       "      <th>중개거래</th>\n",
       "      <th>직거래</th>\n",
       "      <th>도시형 생활주택(아파트)</th>\n",
       "      <th>도시형 생활주택(주상복합)</th>\n",
       "      <th>아파트</th>\n",
       "      <th>연립주택</th>\n",
       "      <th>주상복합</th>\n",
       "    </tr>\n",
       "  </thead>\n",
       "  <tbody>\n",
       "    <tr>\n",
       "      <th>213007</th>\n",
       "      <td>0.191781</td>\n",
       "      <td>0.145161</td>\n",
       "      <td>0.1</td>\n",
       "      <td>기타</td>\n",
       "      <td>위탁관리</td>\n",
       "      <td>혼합식</td>\n",
       "      <td>지역난방</td>\n",
       "      <td>675.0</td>\n",
       "      <td>588.0</td>\n",
       "      <td>203.0</td>\n",
       "      <td>...</td>\n",
       "      <td>2018</td>\n",
       "      <td>0</td>\n",
       "      <td>0.180594</td>\n",
       "      <td>0</td>\n",
       "      <td>0</td>\n",
       "      <td>0</td>\n",
       "      <td>0</td>\n",
       "      <td>1</td>\n",
       "      <td>0</td>\n",
       "      <td>0</td>\n",
       "    </tr>\n",
       "    <tr>\n",
       "      <th>444028</th>\n",
       "      <td>0.178082</td>\n",
       "      <td>0.274194</td>\n",
       "      <td>0.1</td>\n",
       "      <td>NaN</td>\n",
       "      <td>NaN</td>\n",
       "      <td>NaN</td>\n",
       "      <td>NaN</td>\n",
       "      <td>NaN</td>\n",
       "      <td>NaN</td>\n",
       "      <td>NaN</td>\n",
       "      <td>...</td>\n",
       "      <td>2017</td>\n",
       "      <td>1</td>\n",
       "      <td>0.057398</td>\n",
       "      <td>0</td>\n",
       "      <td>0</td>\n",
       "      <td>0</td>\n",
       "      <td>0</td>\n",
       "      <td>0</td>\n",
       "      <td>0</td>\n",
       "      <td>0</td>\n",
       "    </tr>\n",
       "    <tr>\n",
       "      <th>174624</th>\n",
       "      <td>0.369863</td>\n",
       "      <td>0.306452</td>\n",
       "      <td>0.1</td>\n",
       "      <td>분양</td>\n",
       "      <td>위탁관리</td>\n",
       "      <td>계단식</td>\n",
       "      <td>개별난방</td>\n",
       "      <td>0.0</td>\n",
       "      <td>0.0</td>\n",
       "      <td>457.0</td>\n",
       "      <td>...</td>\n",
       "      <td>2009</td>\n",
       "      <td>0</td>\n",
       "      <td>0.283104</td>\n",
       "      <td>0</td>\n",
       "      <td>0</td>\n",
       "      <td>0</td>\n",
       "      <td>0</td>\n",
       "      <td>1</td>\n",
       "      <td>0</td>\n",
       "      <td>0</td>\n",
       "    </tr>\n",
       "    <tr>\n",
       "      <th>880348</th>\n",
       "      <td>0.232877</td>\n",
       "      <td>0.193548</td>\n",
       "      <td>0.1</td>\n",
       "      <td>NaN</td>\n",
       "      <td>NaN</td>\n",
       "      <td>NaN</td>\n",
       "      <td>NaN</td>\n",
       "      <td>NaN</td>\n",
       "      <td>NaN</td>\n",
       "      <td>NaN</td>\n",
       "      <td>...</td>\n",
       "      <td>2013</td>\n",
       "      <td>1</td>\n",
       "      <td>0.120538</td>\n",
       "      <td>0</td>\n",
       "      <td>0</td>\n",
       "      <td>0</td>\n",
       "      <td>0</td>\n",
       "      <td>0</td>\n",
       "      <td>0</td>\n",
       "      <td>0</td>\n",
       "    </tr>\n",
       "    <tr>\n",
       "      <th>757209</th>\n",
       "      <td>0.109589</td>\n",
       "      <td>0.387097</td>\n",
       "      <td>0.1</td>\n",
       "      <td>NaN</td>\n",
       "      <td>NaN</td>\n",
       "      <td>NaN</td>\n",
       "      <td>NaN</td>\n",
       "      <td>NaN</td>\n",
       "      <td>NaN</td>\n",
       "      <td>NaN</td>\n",
       "      <td>...</td>\n",
       "      <td>2015</td>\n",
       "      <td>1</td>\n",
       "      <td>0.114917</td>\n",
       "      <td>0</td>\n",
       "      <td>0</td>\n",
       "      <td>0</td>\n",
       "      <td>0</td>\n",
       "      <td>0</td>\n",
       "      <td>0</td>\n",
       "      <td>0</td>\n",
       "    </tr>\n",
       "  </tbody>\n",
       "</table>\n",
       "<p>5 rows × 28 columns</p>\n",
       "</div>"
      ],
      "text/plain": [
       "               층      건축년도  등기신청일자 k-세대타입(분양형태) k-관리방식 k-복도유형 k-난방방식  \\\n",
       "213007  0.191781  0.145161     0.1           기타   위탁관리    혼합식   지역난방   \n",
       "444028  0.178082  0.274194     0.1          NaN    NaN    NaN    NaN   \n",
       "174624  0.369863  0.306452     0.1           분양   위탁관리    계단식   개별난방   \n",
       "880348  0.232877  0.193548     0.1          NaN    NaN    NaN    NaN   \n",
       "757209  0.109589  0.387097     0.1          NaN    NaN    NaN    NaN   \n",
       "\n",
       "        k-전용면적별세대현황(60㎡이하)  k-전용면적별세대현황(60㎡~85㎡이하)  k-85㎡~135㎡이하  ...  계약년도  \\\n",
       "213007               675.0                   588.0         203.0  ...  2018   \n",
       "444028                 NaN                     NaN           NaN  ...  2017   \n",
       "174624                 0.0                     0.0         457.0  ...  2009   \n",
       "880348                 NaN                     NaN           NaN  ...  2013   \n",
       "757209                 NaN                     NaN           NaN  ...  2015   \n",
       "\n",
       "       성수기여부      전용면적 중개거래 직거래  도시형 생활주택(아파트) 도시형 생활주택(주상복합) 아파트  연립주택  주상복합  \n",
       "213007     0  0.180594    0   0              0              0   1     0     0  \n",
       "444028     1  0.057398    0   0              0              0   0     0     0  \n",
       "174624     0  0.283104    0   0              0              0   1     0     0  \n",
       "880348     1  0.120538    0   0              0              0   0     0     0  \n",
       "757209     1  0.114917    0   0              0              0   0     0     0  \n",
       "\n",
       "[5 rows x 28 columns]"
      ]
     },
     "execution_count": 807,
     "metadata": {},
     "output_type": "execute_result"
    }
   ],
   "source": [
    "dt.sample(5)"
   ]
  },
  {
   "cell_type": "code",
   "execution_count": 808,
   "metadata": {},
   "outputs": [],
   "source": [
    "# maps = {\n",
    "#     '아파트' : 5,\n",
    "#     '주상복합' : 4,\n",
    "#     '연립주택택' : 3,\n",
    "#     '도시형 생활주택(주상복합)' : 2,\n",
    "#     '도시형 생활주택(아파트)' : 1, \n",
    "# }\n",
    "# dt['단지분류'] = dt['k-단지분류(아파트,주상복합등등)'].map(maps)\n",
    "# # dt['단지분류'].apply(lambda x: 0 if x == pd.isna(x) else x)\n",
    "# dt['단지분류'].fillna(0, inplace = True)\n",
    "# dt.drop(columns='k-단지분류(아파트,주상복합등등)', inplace = True)\n",
    "# dt.columns"
   ]
  },
  {
   "cell_type": "markdown",
   "metadata": {},
   "source": [
    "## 세대타입(분양형태) : 분양, (기타 )> 임대 = 1, 0.5, 0.1 -> OHE\n"
   ]
  },
  {
   "cell_type": "code",
   "execution_count": 809,
   "metadata": {},
   "outputs": [
    {
     "data": {
      "text/plain": [
       "array(['분양', '기타', nan, '임대'], dtype=object)"
      ]
     },
     "execution_count": 809,
     "metadata": {},
     "output_type": "execute_result"
    }
   ],
   "source": [
    "dt['k-세대타입(분양형태)'].unique()"
   ]
  },
  {
   "cell_type": "code",
   "execution_count": 810,
   "metadata": {},
   "outputs": [
    {
     "data": {
      "text/plain": [
       "array(['분양', '분양형태_기타', nan, '임대'], dtype=object)"
      ]
     },
     "execution_count": 810,
     "metadata": {},
     "output_type": "execute_result"
    }
   ],
   "source": [
    "dt.loc[dt['k-세대타입(분양형태)'] == '기타', 'k-세대타입(분양형태)'] = '분양형태_기타'\n",
    "dt['k-세대타입(분양형태)'].unique()"
   ]
  },
  {
   "cell_type": "code",
   "execution_count": 811,
   "metadata": {},
   "outputs": [
    {
     "data": {
      "text/html": [
       "<div>\n",
       "<style scoped>\n",
       "    .dataframe tbody tr th:only-of-type {\n",
       "        vertical-align: middle;\n",
       "    }\n",
       "\n",
       "    .dataframe tbody tr th {\n",
       "        vertical-align: top;\n",
       "    }\n",
       "\n",
       "    .dataframe thead th {\n",
       "        text-align: right;\n",
       "    }\n",
       "</style>\n",
       "<table border=\"1\" class=\"dataframe\">\n",
       "  <thead>\n",
       "    <tr style=\"text-align: right;\">\n",
       "      <th></th>\n",
       "      <th>분양</th>\n",
       "      <th>분양형태_기타</th>\n",
       "      <th>임대</th>\n",
       "    </tr>\n",
       "  </thead>\n",
       "  <tbody>\n",
       "    <tr>\n",
       "      <th>0</th>\n",
       "      <td>1</td>\n",
       "      <td>0</td>\n",
       "      <td>0</td>\n",
       "    </tr>\n",
       "    <tr>\n",
       "      <th>1</th>\n",
       "      <td>1</td>\n",
       "      <td>0</td>\n",
       "      <td>0</td>\n",
       "    </tr>\n",
       "    <tr>\n",
       "      <th>2</th>\n",
       "      <td>1</td>\n",
       "      <td>0</td>\n",
       "      <td>0</td>\n",
       "    </tr>\n",
       "    <tr>\n",
       "      <th>3</th>\n",
       "      <td>1</td>\n",
       "      <td>0</td>\n",
       "      <td>0</td>\n",
       "    </tr>\n",
       "    <tr>\n",
       "      <th>4</th>\n",
       "      <td>1</td>\n",
       "      <td>0</td>\n",
       "      <td>0</td>\n",
       "    </tr>\n",
       "  </tbody>\n",
       "</table>\n",
       "</div>"
      ],
      "text/plain": [
       "   분양  분양형태_기타  임대\n",
       "0   1        0   0\n",
       "1   1        0   0\n",
       "2   1        0   0\n",
       "3   1        0   0\n",
       "4   1        0   0"
      ]
     },
     "execution_count": 811,
     "metadata": {},
     "output_type": "execute_result"
    }
   ],
   "source": [
    "dt['k-세대타입(분양형태)'].replace('nan', np.nan, inplace=True)\n",
    "tmp = pd.get_dummies(dt['k-세대타입(분양형태)'])\n",
    "tmp.head(5)"
   ]
  },
  {
   "cell_type": "code",
   "execution_count": 812,
   "metadata": {},
   "outputs": [
    {
     "data": {
      "text/plain": [
       "Index(['층', '건축년도', '등기신청일자', 'k-관리방식', 'k-복도유형', 'k-난방방식',\n",
       "       'k-전용면적별세대현황(60㎡이하)', 'k-전용면적별세대현황(60㎡~85㎡이하)', 'k-85㎡~135㎡이하',\n",
       "       'k-135㎡초과', '경비비관리형태', '세대전기계약방법', '청소비관리형태', '기타/의무/임대/임의=1/2/3/4',\n",
       "       'target', '구', '동', '계약년도', '성수기여부', '전용면적', '중개거래', '직거래',\n",
       "       '도시형 생활주택(아파트)', '도시형 생활주택(주상복합)', '아파트', '연립주택', '주상복합', '분양',\n",
       "       '분양형태_기타', '임대'],\n",
       "      dtype='object')"
      ]
     },
     "execution_count": 812,
     "metadata": {},
     "output_type": "execute_result"
    }
   ],
   "source": [
    "dt = pd.concat([dt, tmp], axis=1)\n",
    "dt.drop(columns='k-세대타입(분양형태)', inplace=True)\n",
    "dt.columns"
   ]
  },
  {
   "cell_type": "code",
   "execution_count": 813,
   "metadata": {},
   "outputs": [],
   "source": [
    "# maps = {\n",
    "#     '분양' : 1,\n",
    "#     '기타' : 0.5,\n",
    "#     '임대' : 0.1\n",
    "# }\n",
    "# dt['세대타입(분양형태)'] = dt['k-세대타입(분양형태)'].map(maps)\n",
    "# dt.drop(columns='k-세대타입(분양형태)' ,inplace=True)\n",
    "# dt['세대타입(분양형태)'].fillna(0.1, inplace=True)\n",
    "# dt['세대타입(분양형태)'].unique()"
   ]
  },
  {
   "cell_type": "markdown",
   "metadata": {},
   "source": [
    "## 관리방식 : 위탁관리 > 자치관리 > 직영 (1, 0.5, 0.1) -> OHE\n"
   ]
  },
  {
   "cell_type": "code",
   "execution_count": 814,
   "metadata": {},
   "outputs": [
    {
     "data": {
      "text/plain": [
       "array(['자치관리', '위탁관리', '직영', nan], dtype=object)"
      ]
     },
     "execution_count": 814,
     "metadata": {},
     "output_type": "execute_result"
    }
   ],
   "source": [
    "dt['k-관리방식'].unique()"
   ]
  },
  {
   "cell_type": "code",
   "execution_count": 815,
   "metadata": {},
   "outputs": [
    {
     "data": {
      "text/html": [
       "<div>\n",
       "<style scoped>\n",
       "    .dataframe tbody tr th:only-of-type {\n",
       "        vertical-align: middle;\n",
       "    }\n",
       "\n",
       "    .dataframe tbody tr th {\n",
       "        vertical-align: top;\n",
       "    }\n",
       "\n",
       "    .dataframe thead th {\n",
       "        text-align: right;\n",
       "    }\n",
       "</style>\n",
       "<table border=\"1\" class=\"dataframe\">\n",
       "  <thead>\n",
       "    <tr style=\"text-align: right;\">\n",
       "      <th></th>\n",
       "      <th>위탁관리</th>\n",
       "      <th>자치관리</th>\n",
       "      <th>직영</th>\n",
       "    </tr>\n",
       "  </thead>\n",
       "  <tbody>\n",
       "    <tr>\n",
       "      <th>0</th>\n",
       "      <td>0</td>\n",
       "      <td>1</td>\n",
       "      <td>0</td>\n",
       "    </tr>\n",
       "    <tr>\n",
       "      <th>1</th>\n",
       "      <td>0</td>\n",
       "      <td>1</td>\n",
       "      <td>0</td>\n",
       "    </tr>\n",
       "    <tr>\n",
       "      <th>2</th>\n",
       "      <td>0</td>\n",
       "      <td>1</td>\n",
       "      <td>0</td>\n",
       "    </tr>\n",
       "    <tr>\n",
       "      <th>3</th>\n",
       "      <td>0</td>\n",
       "      <td>1</td>\n",
       "      <td>0</td>\n",
       "    </tr>\n",
       "    <tr>\n",
       "      <th>4</th>\n",
       "      <td>0</td>\n",
       "      <td>1</td>\n",
       "      <td>0</td>\n",
       "    </tr>\n",
       "  </tbody>\n",
       "</table>\n",
       "</div>"
      ],
      "text/plain": [
       "   위탁관리  자치관리  직영\n",
       "0     0     1   0\n",
       "1     0     1   0\n",
       "2     0     1   0\n",
       "3     0     1   0\n",
       "4     0     1   0"
      ]
     },
     "execution_count": 815,
     "metadata": {},
     "output_type": "execute_result"
    }
   ],
   "source": [
    "dt['k-관리방식'].replace('nan', np.nan, inplace=True)\n",
    "tmp = pd.get_dummies(dt['k-관리방식'])\n",
    "tmp.head(5)"
   ]
  },
  {
   "cell_type": "code",
   "execution_count": 816,
   "metadata": {},
   "outputs": [
    {
     "data": {
      "text/plain": [
       "Index(['층', '건축년도', '등기신청일자', 'k-복도유형', 'k-난방방식', 'k-전용면적별세대현황(60㎡이하)',\n",
       "       'k-전용면적별세대현황(60㎡~85㎡이하)', 'k-85㎡~135㎡이하', 'k-135㎡초과', '경비비관리형태',\n",
       "       '세대전기계약방법', '청소비관리형태', '기타/의무/임대/임의=1/2/3/4', 'target', '구', '동',\n",
       "       '계약년도', '성수기여부', '전용면적', '중개거래', '직거래', '도시형 생활주택(아파트)',\n",
       "       '도시형 생활주택(주상복합)', '아파트', '연립주택', '주상복합', '분양', '분양형태_기타', '임대', '위탁관리',\n",
       "       '자치관리', '직영'],\n",
       "      dtype='object')"
      ]
     },
     "execution_count": 816,
     "metadata": {},
     "output_type": "execute_result"
    }
   ],
   "source": [
    "dt = pd.concat([dt, tmp], axis=1)\n",
    "dt.drop(columns='k-관리방식', inplace=True)\n",
    "dt.columns"
   ]
  },
  {
   "cell_type": "code",
   "execution_count": 817,
   "metadata": {},
   "outputs": [],
   "source": [
    "# maps = {\n",
    "#     '위탁관리' : 1,\n",
    "#     '자치관리' : 0.5,\n",
    "#     '직영' : 0.1\n",
    "# }\n",
    "# dt['관리방식'] = dt['k-관리방식'].map(maps)\n",
    "# dt.drop(columns='k-관리방식' ,inplace=True)\n",
    "# dt['관리방식'].fillna(0.1, inplace = True)\n",
    "# dt['관리방식'].unique()"
   ]
  },
  {
   "cell_type": "markdown",
   "metadata": {},
   "source": [
    "## 복도유형 : 계단식 > 혼합식 > 복도식 > 타워형 > 기타 (4, 3, 2, 1, 0.1) -> OHE\n"
   ]
  },
  {
   "cell_type": "code",
   "execution_count": 818,
   "metadata": {},
   "outputs": [
    {
     "data": {
      "text/plain": [
       "array(['계단식', '혼합식', '복도식', '타워형', '기타', nan], dtype=object)"
      ]
     },
     "execution_count": 818,
     "metadata": {},
     "output_type": "execute_result"
    }
   ],
   "source": [
    "dt['k-복도유형'].unique()"
   ]
  },
  {
   "cell_type": "code",
   "execution_count": 819,
   "metadata": {},
   "outputs": [
    {
     "data": {
      "text/plain": [
       "array(['계단식', '혼합식', '복도식', '타워형', '복도유형_기타', nan], dtype=object)"
      ]
     },
     "execution_count": 819,
     "metadata": {},
     "output_type": "execute_result"
    }
   ],
   "source": [
    "dt.loc[dt['k-복도유형'] == '기타', 'k-복도유형'] = '복도유형_기타'\n",
    "dt['k-복도유형'].unique()"
   ]
  },
  {
   "cell_type": "code",
   "execution_count": 820,
   "metadata": {},
   "outputs": [
    {
     "data": {
      "text/html": [
       "<div>\n",
       "<style scoped>\n",
       "    .dataframe tbody tr th:only-of-type {\n",
       "        vertical-align: middle;\n",
       "    }\n",
       "\n",
       "    .dataframe tbody tr th {\n",
       "        vertical-align: top;\n",
       "    }\n",
       "\n",
       "    .dataframe thead th {\n",
       "        text-align: right;\n",
       "    }\n",
       "</style>\n",
       "<table border=\"1\" class=\"dataframe\">\n",
       "  <thead>\n",
       "    <tr style=\"text-align: right;\">\n",
       "      <th></th>\n",
       "      <th>계단식</th>\n",
       "      <th>복도식</th>\n",
       "      <th>복도유형_기타</th>\n",
       "      <th>타워형</th>\n",
       "      <th>혼합식</th>\n",
       "    </tr>\n",
       "  </thead>\n",
       "  <tbody>\n",
       "    <tr>\n",
       "      <th>0</th>\n",
       "      <td>1</td>\n",
       "      <td>0</td>\n",
       "      <td>0</td>\n",
       "      <td>0</td>\n",
       "      <td>0</td>\n",
       "    </tr>\n",
       "    <tr>\n",
       "      <th>1</th>\n",
       "      <td>1</td>\n",
       "      <td>0</td>\n",
       "      <td>0</td>\n",
       "      <td>0</td>\n",
       "      <td>0</td>\n",
       "    </tr>\n",
       "    <tr>\n",
       "      <th>2</th>\n",
       "      <td>1</td>\n",
       "      <td>0</td>\n",
       "      <td>0</td>\n",
       "      <td>0</td>\n",
       "      <td>0</td>\n",
       "    </tr>\n",
       "    <tr>\n",
       "      <th>3</th>\n",
       "      <td>1</td>\n",
       "      <td>0</td>\n",
       "      <td>0</td>\n",
       "      <td>0</td>\n",
       "      <td>0</td>\n",
       "    </tr>\n",
       "    <tr>\n",
       "      <th>4</th>\n",
       "      <td>1</td>\n",
       "      <td>0</td>\n",
       "      <td>0</td>\n",
       "      <td>0</td>\n",
       "      <td>0</td>\n",
       "    </tr>\n",
       "  </tbody>\n",
       "</table>\n",
       "</div>"
      ],
      "text/plain": [
       "   계단식  복도식  복도유형_기타  타워형  혼합식\n",
       "0    1    0        0    0    0\n",
       "1    1    0        0    0    0\n",
       "2    1    0        0    0    0\n",
       "3    1    0        0    0    0\n",
       "4    1    0        0    0    0"
      ]
     },
     "execution_count": 820,
     "metadata": {},
     "output_type": "execute_result"
    }
   ],
   "source": [
    "dt['k-복도유형'].replace('nan', np.nan, inplace=True)\n",
    "tmp = pd.get_dummies(dt['k-복도유형'])\n",
    "tmp.head(5)"
   ]
  },
  {
   "cell_type": "code",
   "execution_count": 821,
   "metadata": {},
   "outputs": [
    {
     "data": {
      "text/plain": [
       "Index(['층', '건축년도', '등기신청일자', 'k-난방방식', 'k-전용면적별세대현황(60㎡이하)',\n",
       "       'k-전용면적별세대현황(60㎡~85㎡이하)', 'k-85㎡~135㎡이하', 'k-135㎡초과', '경비비관리형태',\n",
       "       '세대전기계약방법', '청소비관리형태', '기타/의무/임대/임의=1/2/3/4', 'target', '구', '동',\n",
       "       '계약년도', '성수기여부', '전용면적', '중개거래', '직거래', '도시형 생활주택(아파트)',\n",
       "       '도시형 생활주택(주상복합)', '아파트', '연립주택', '주상복합', '분양', '분양형태_기타', '임대', '위탁관리',\n",
       "       '자치관리', '직영', '계단식', '복도식', '복도유형_기타', '타워형', '혼합식'],\n",
       "      dtype='object')"
      ]
     },
     "execution_count": 821,
     "metadata": {},
     "output_type": "execute_result"
    }
   ],
   "source": [
    "dt = pd.concat([dt, tmp], axis=1)\n",
    "dt.drop(columns='k-복도유형', inplace=True)\n",
    "dt.columns"
   ]
  },
  {
   "cell_type": "code",
   "execution_count": 822,
   "metadata": {},
   "outputs": [],
   "source": [
    "# maps = {\n",
    "#     '계단식' : 4,\n",
    "#     '혼합식' : 3,\n",
    "#     '복도식' : 2,\n",
    "#     '타워형' : 1,\n",
    "#     '기타' : 0.1\n",
    "# }\n",
    "# dt['복도유형'] = dt['k-복도유형'].map(maps)\n",
    "# dt.drop(columns= 'k-복도유형',inplace=True)\n",
    "# dt['복도유형'].fillna(0.1, inplace=True)\n",
    "# dt['복도유형'].unique()"
   ]
  },
  {
   "cell_type": "code",
   "execution_count": 823,
   "metadata": {},
   "outputs": [
    {
     "data": {
      "text/plain": [
       "Index(['층', '건축년도', '등기신청일자', 'k-난방방식', 'k-전용면적별세대현황(60㎡이하)',\n",
       "       'k-전용면적별세대현황(60㎡~85㎡이하)', 'k-85㎡~135㎡이하', 'k-135㎡초과', '경비비관리형태',\n",
       "       '세대전기계약방법', '청소비관리형태', '기타/의무/임대/임의=1/2/3/4', 'target', '구', '동',\n",
       "       '계약년도', '성수기여부', '전용면적', '중개거래', '직거래', '도시형 생활주택(아파트)',\n",
       "       '도시형 생활주택(주상복합)', '아파트', '연립주택', '주상복합', '분양', '분양형태_기타', '임대', '위탁관리',\n",
       "       '자치관리', '직영', '계단식', '복도식', '복도유형_기타', '타워형', '혼합식'],\n",
       "      dtype='object')"
      ]
     },
     "execution_count": 823,
     "metadata": {},
     "output_type": "execute_result"
    }
   ],
   "source": [
    "dt.columns"
   ]
  },
  {
   "cell_type": "markdown",
   "metadata": {},
   "source": [
    "## 난방방식 : 개별난방 > 지역난방 > 중앙난방 > 기타 (3, 2, 1, 0.1) -> OHE\n"
   ]
  },
  {
   "cell_type": "code",
   "execution_count": 824,
   "metadata": {},
   "outputs": [
    {
     "data": {
      "text/plain": [
       "array(['개별난방', '지역난방', '기타', nan, '중앙난방'], dtype=object)"
      ]
     },
     "execution_count": 824,
     "metadata": {},
     "output_type": "execute_result"
    }
   ],
   "source": [
    "dt['k-난방방식'].unique()"
   ]
  },
  {
   "cell_type": "code",
   "execution_count": 825,
   "metadata": {},
   "outputs": [
    {
     "data": {
      "text/plain": [
       "array(['개별난방', '지역난방', '난방방식_기타', nan, '중앙난방'], dtype=object)"
      ]
     },
     "execution_count": 825,
     "metadata": {},
     "output_type": "execute_result"
    }
   ],
   "source": [
    "dt.loc[dt['k-난방방식'] == '기타', 'k-난방방식'] = '난방방식_기타'\n",
    "dt['k-난방방식'].unique()"
   ]
  },
  {
   "cell_type": "code",
   "execution_count": 826,
   "metadata": {},
   "outputs": [
    {
     "data": {
      "text/html": [
       "<div>\n",
       "<style scoped>\n",
       "    .dataframe tbody tr th:only-of-type {\n",
       "        vertical-align: middle;\n",
       "    }\n",
       "\n",
       "    .dataframe tbody tr th {\n",
       "        vertical-align: top;\n",
       "    }\n",
       "\n",
       "    .dataframe thead th {\n",
       "        text-align: right;\n",
       "    }\n",
       "</style>\n",
       "<table border=\"1\" class=\"dataframe\">\n",
       "  <thead>\n",
       "    <tr style=\"text-align: right;\">\n",
       "      <th></th>\n",
       "      <th>개별난방</th>\n",
       "      <th>난방방식_기타</th>\n",
       "      <th>중앙난방</th>\n",
       "      <th>지역난방</th>\n",
       "    </tr>\n",
       "  </thead>\n",
       "  <tbody>\n",
       "    <tr>\n",
       "      <th>0</th>\n",
       "      <td>1</td>\n",
       "      <td>0</td>\n",
       "      <td>0</td>\n",
       "      <td>0</td>\n",
       "    </tr>\n",
       "    <tr>\n",
       "      <th>1</th>\n",
       "      <td>1</td>\n",
       "      <td>0</td>\n",
       "      <td>0</td>\n",
       "      <td>0</td>\n",
       "    </tr>\n",
       "    <tr>\n",
       "      <th>2</th>\n",
       "      <td>1</td>\n",
       "      <td>0</td>\n",
       "      <td>0</td>\n",
       "      <td>0</td>\n",
       "    </tr>\n",
       "    <tr>\n",
       "      <th>3</th>\n",
       "      <td>1</td>\n",
       "      <td>0</td>\n",
       "      <td>0</td>\n",
       "      <td>0</td>\n",
       "    </tr>\n",
       "    <tr>\n",
       "      <th>4</th>\n",
       "      <td>1</td>\n",
       "      <td>0</td>\n",
       "      <td>0</td>\n",
       "      <td>0</td>\n",
       "    </tr>\n",
       "  </tbody>\n",
       "</table>\n",
       "</div>"
      ],
      "text/plain": [
       "   개별난방  난방방식_기타  중앙난방  지역난방\n",
       "0     1        0     0     0\n",
       "1     1        0     0     0\n",
       "2     1        0     0     0\n",
       "3     1        0     0     0\n",
       "4     1        0     0     0"
      ]
     },
     "execution_count": 826,
     "metadata": {},
     "output_type": "execute_result"
    }
   ],
   "source": [
    "dt['k-난방방식'].replace('nan', np.nan, inplace=True)\n",
    "tmp = pd.get_dummies(dt['k-난방방식'])\n",
    "tmp.head(5)"
   ]
  },
  {
   "cell_type": "code",
   "execution_count": 827,
   "metadata": {},
   "outputs": [
    {
     "data": {
      "text/plain": [
       "Index(['층', '건축년도', '등기신청일자', 'k-전용면적별세대현황(60㎡이하)', 'k-전용면적별세대현황(60㎡~85㎡이하)',\n",
       "       'k-85㎡~135㎡이하', 'k-135㎡초과', '경비비관리형태', '세대전기계약방법', '청소비관리형태',\n",
       "       '기타/의무/임대/임의=1/2/3/4', 'target', '구', '동', '계약년도', '성수기여부', '전용면적',\n",
       "       '중개거래', '직거래', '도시형 생활주택(아파트)', '도시형 생활주택(주상복합)', '아파트', '연립주택', '주상복합',\n",
       "       '분양', '분양형태_기타', '임대', '위탁관리', '자치관리', '직영', '계단식', '복도식', '복도유형_기타',\n",
       "       '타워형', '혼합식', '개별난방', '난방방식_기타', '중앙난방', '지역난방'],\n",
       "      dtype='object')"
      ]
     },
     "execution_count": 827,
     "metadata": {},
     "output_type": "execute_result"
    }
   ],
   "source": [
    "dt = pd.concat([dt, tmp], axis=1)\n",
    "dt.drop(columns='k-난방방식', inplace=True)\n",
    "dt.columns"
   ]
  },
  {
   "cell_type": "code",
   "execution_count": 828,
   "metadata": {},
   "outputs": [],
   "source": [
    "# maps = {\n",
    "#     '개별난방' : 3,\n",
    "#     '지역난방' : 2,\n",
    "#     '중앙난방' : 1,\n",
    "#     '기타' : 0.1\n",
    "# }\n",
    "# dt['난방방식'] = dt['k-난방방식'].map(maps)\n",
    "# dt.drop(columns= 'k-난방방식',inplace=True)\n",
    "# dt['난방방식'].fillna(0.1, inplace=True)\n",
    "# dt['난방방식'].unique()"
   ]
  },
  {
   "cell_type": "markdown",
   "metadata": {},
   "source": [
    "## 면적별~\n"
   ]
  },
  {
   "cell_type": "code",
   "execution_count": 829,
   "metadata": {},
   "outputs": [
    {
     "data": {
      "text/plain": [
       "k-전용면적별세대현황(60㎡이하)         876170\n",
       "k-전용면적별세대현황(60㎡~85㎡이하)     876170\n",
       "k-85㎡~135㎡이하               876170\n",
       "k-135㎡초과                  1127765\n",
       "dtype: int64"
      ]
     },
     "execution_count": 829,
     "metadata": {},
     "output_type": "execute_result"
    }
   ],
   "source": [
    "dt[['k-전용면적별세대현황(60㎡이하)','k-전용면적별세대현황(60㎡~85㎡이하)','k-85㎡~135㎡이하','k-135㎡초과']].isnull().sum()"
   ]
  },
  {
   "cell_type": "code",
   "execution_count": 830,
   "metadata": {},
   "outputs": [
    {
     "data": {
      "text/plain": [
       "전용면적별세대현황(60㎡이하)        0\n",
       "전용면적별세대현황(60㎡~85㎡이하)    0\n",
       "85㎡~135㎡이하              0\n",
       "135㎡초과                  0\n",
       "dtype: int64"
      ]
     },
     "execution_count": 830,
     "metadata": {},
     "output_type": "execute_result"
    }
   ],
   "source": [
    "dt['전용면적별세대현황(60㎡이하)'] = dt['k-전용면적별세대현황(60㎡이하)'].fillna(dt['k-전용면적별세대현황(60㎡이하)'].mean())\n",
    "dt['전용면적별세대현황(60㎡~85㎡이하)'] = dt['k-전용면적별세대현황(60㎡~85㎡이하)'].fillna(dt['k-전용면적별세대현황(60㎡~85㎡이하)'].mean())\n",
    "dt['85㎡~135㎡이하'] = dt['k-85㎡~135㎡이하'].fillna(dt['k-85㎡~135㎡이하'].mean())\n",
    "dt['135㎡초과'] = dt['k-135㎡초과'].fillna(dt['k-135㎡초과'].mean())\n",
    "dt.drop(columns=['k-전용면적별세대현황(60㎡이하)','k-전용면적별세대현황(60㎡~85㎡이하)','k-85㎡~135㎡이하','k-135㎡초과'], inplace = True)\n",
    "dt[['전용면적별세대현황(60㎡이하)', '전용면적별세대현황(60㎡~85㎡이하)', '85㎡~135㎡이하', '135㎡초과']].isnull().sum()"
   ]
  },
  {
   "cell_type": "code",
   "execution_count": 831,
   "metadata": {},
   "outputs": [],
   "source": [
    "categories = ['전용면적별세대현황(60㎡이하)', '전용면적별세대현황(60㎡~85㎡이하)', '85㎡~135㎡이하', '135㎡초과']\n",
    "for c in categories:\n",
    "    scaler = MinMaxScaler()\n",
    "    dt[c] = scaler.fit_transform(dt[[c]])"
   ]
  },
  {
   "cell_type": "code",
   "execution_count": 832,
   "metadata": {},
   "outputs": [
    {
     "data": {
      "text/html": [
       "<div>\n",
       "<style scoped>\n",
       "    .dataframe tbody tr th:only-of-type {\n",
       "        vertical-align: middle;\n",
       "    }\n",
       "\n",
       "    .dataframe tbody tr th {\n",
       "        vertical-align: top;\n",
       "    }\n",
       "\n",
       "    .dataframe thead th {\n",
       "        text-align: right;\n",
       "    }\n",
       "</style>\n",
       "<table border=\"1\" class=\"dataframe\">\n",
       "  <thead>\n",
       "    <tr style=\"text-align: right;\">\n",
       "      <th></th>\n",
       "      <th>전용면적별세대현황(60㎡이하)</th>\n",
       "      <th>전용면적별세대현황(60㎡~85㎡이하)</th>\n",
       "      <th>85㎡~135㎡이하</th>\n",
       "      <th>135㎡초과</th>\n",
       "    </tr>\n",
       "  </thead>\n",
       "  <tbody>\n",
       "    <tr>\n",
       "      <th>158565</th>\n",
       "      <td>0.096197</td>\n",
       "      <td>0.093255</td>\n",
       "      <td>0.111857</td>\n",
       "      <td>0.0</td>\n",
       "    </tr>\n",
       "    <tr>\n",
       "      <th>918411</th>\n",
       "      <td>0.096197</td>\n",
       "      <td>0.093255</td>\n",
       "      <td>0.111857</td>\n",
       "      <td>0.0</td>\n",
       "    </tr>\n",
       "    <tr>\n",
       "      <th>671686</th>\n",
       "      <td>0.096197</td>\n",
       "      <td>0.093255</td>\n",
       "      <td>0.111857</td>\n",
       "      <td>0.0</td>\n",
       "    </tr>\n",
       "    <tr>\n",
       "      <th>902786</th>\n",
       "      <td>0.096197</td>\n",
       "      <td>0.093255</td>\n",
       "      <td>0.111857</td>\n",
       "      <td>0.0</td>\n",
       "    </tr>\n",
       "    <tr>\n",
       "      <th>444050</th>\n",
       "      <td>0.096197</td>\n",
       "      <td>0.093255</td>\n",
       "      <td>0.111857</td>\n",
       "      <td>0.0</td>\n",
       "    </tr>\n",
       "    <tr>\n",
       "      <th>454721</th>\n",
       "      <td>0.096197</td>\n",
       "      <td>0.093255</td>\n",
       "      <td>0.111857</td>\n",
       "      <td>0.0</td>\n",
       "    </tr>\n",
       "    <tr>\n",
       "      <th>454482</th>\n",
       "      <td>0.096197</td>\n",
       "      <td>0.093255</td>\n",
       "      <td>0.111857</td>\n",
       "      <td>0.0</td>\n",
       "    </tr>\n",
       "    <tr>\n",
       "      <th>880479</th>\n",
       "      <td>0.096197</td>\n",
       "      <td>0.093255</td>\n",
       "      <td>0.111857</td>\n",
       "      <td>0.0</td>\n",
       "    </tr>\n",
       "    <tr>\n",
       "      <th>520878</th>\n",
       "      <td>0.096197</td>\n",
       "      <td>0.093255</td>\n",
       "      <td>0.111857</td>\n",
       "      <td>0.0</td>\n",
       "    </tr>\n",
       "    <tr>\n",
       "      <th>161783</th>\n",
       "      <td>0.096197</td>\n",
       "      <td>0.093255</td>\n",
       "      <td>0.111857</td>\n",
       "      <td>0.0</td>\n",
       "    </tr>\n",
       "  </tbody>\n",
       "</table>\n",
       "</div>"
      ],
      "text/plain": [
       "        전용면적별세대현황(60㎡이하)  전용면적별세대현황(60㎡~85㎡이하)  85㎡~135㎡이하  135㎡초과\n",
       "158565          0.096197              0.093255    0.111857     0.0\n",
       "918411          0.096197              0.093255    0.111857     0.0\n",
       "671686          0.096197              0.093255    0.111857     0.0\n",
       "902786          0.096197              0.093255    0.111857     0.0\n",
       "444050          0.096197              0.093255    0.111857     0.0\n",
       "454721          0.096197              0.093255    0.111857     0.0\n",
       "454482          0.096197              0.093255    0.111857     0.0\n",
       "880479          0.096197              0.093255    0.111857     0.0\n",
       "520878          0.096197              0.093255    0.111857     0.0\n",
       "161783          0.096197              0.093255    0.111857     0.0"
      ]
     },
     "execution_count": 832,
     "metadata": {},
     "output_type": "execute_result"
    }
   ],
   "source": [
    "dt[['전용면적별세대현황(60㎡이하)', '전용면적별세대현황(60㎡~85㎡이하)', '85㎡~135㎡이하', '135㎡초과']].sample(10)"
   ]
  },
  {
   "cell_type": "code",
   "execution_count": 833,
   "metadata": {},
   "outputs": [
    {
     "data": {
      "text/plain": [
       "Index(['층', '건축년도', '등기신청일자', '경비비관리형태', '세대전기계약방법', '청소비관리형태',\n",
       "       '기타/의무/임대/임의=1/2/3/4', 'target', '구', '동', '계약년도', '성수기여부', '전용면적',\n",
       "       '중개거래', '직거래', '도시형 생활주택(아파트)', '도시형 생활주택(주상복합)', '아파트', '연립주택', '주상복합',\n",
       "       '분양', '분양형태_기타', '임대', '위탁관리', '자치관리', '직영', '계단식', '복도식', '복도유형_기타',\n",
       "       '타워형', '혼합식', '개별난방', '난방방식_기타', '중앙난방', '지역난방', '전용면적별세대현황(60㎡이하)',\n",
       "       '전용면적별세대현황(60㎡~85㎡이하)', '85㎡~135㎡이하', '135㎡초과'],\n",
       "      dtype='object')"
      ]
     },
     "execution_count": 833,
     "metadata": {},
     "output_type": "execute_result"
    }
   ],
   "source": [
    "dt.columns"
   ]
  },
  {
   "cell_type": "markdown",
   "metadata": {},
   "source": [
    "## 중간점검\n",
    "\n",
    "경비비관리형태 : 위탁 > 직영 > 위탁+직영 > 기타 : 내림차순 ~ 0\n",
    "\n",
    "세대전기계약방법 : 종합계약 > 단일계약 : 1, 0\n",
    "\n",
    "청소비관리형태 : 위탁 > 직영 > 위탁+직영 : 2, 1, 0\n",
    "\n",
    "기타/의무/임대/임의=1/2/3/4 : 의무 > 기타 > 임의 > 임대\n"
   ]
  },
  {
   "cell_type": "markdown",
   "metadata": {},
   "source": [
    "## 경비비관리형태 : 위탁 > 직영 > 위탁+직영 > 기타 -> OHE\n"
   ]
  },
  {
   "cell_type": "code",
   "execution_count": 834,
   "metadata": {},
   "outputs": [
    {
     "data": {
      "text/plain": [
       "array(['직영', '위탁', '위탁+직영', nan, '기타'], dtype=object)"
      ]
     },
     "execution_count": 834,
     "metadata": {},
     "output_type": "execute_result"
    }
   ],
   "source": [
    "dt['경비비관리형태'].unique()"
   ]
  },
  {
   "cell_type": "code",
   "execution_count": 835,
   "metadata": {},
   "outputs": [
    {
     "data": {
      "text/plain": [
       "array(['직영', '위탁', '위탁+직영', nan, '경비비관리형태_기타'], dtype=object)"
      ]
     },
     "execution_count": 835,
     "metadata": {},
     "output_type": "execute_result"
    }
   ],
   "source": [
    "dt.loc[dt['경비비관리형태'] == '기타', '경비비관리형태'] = '경비비관리형태_기타'\n",
    "dt['경비비관리형태'].unique()"
   ]
  },
  {
   "cell_type": "code",
   "execution_count": 836,
   "metadata": {},
   "outputs": [
    {
     "data": {
      "text/html": [
       "<div>\n",
       "<style scoped>\n",
       "    .dataframe tbody tr th:only-of-type {\n",
       "        vertical-align: middle;\n",
       "    }\n",
       "\n",
       "    .dataframe tbody tr th {\n",
       "        vertical-align: top;\n",
       "    }\n",
       "\n",
       "    .dataframe thead th {\n",
       "        text-align: right;\n",
       "    }\n",
       "</style>\n",
       "<table border=\"1\" class=\"dataframe\">\n",
       "  <thead>\n",
       "    <tr style=\"text-align: right;\">\n",
       "      <th></th>\n",
       "      <th>경비비관리형태_기타</th>\n",
       "      <th>위탁</th>\n",
       "      <th>위탁+직영</th>\n",
       "      <th>직영</th>\n",
       "    </tr>\n",
       "  </thead>\n",
       "  <tbody>\n",
       "    <tr>\n",
       "      <th>0</th>\n",
       "      <td>0</td>\n",
       "      <td>0</td>\n",
       "      <td>0</td>\n",
       "      <td>1</td>\n",
       "    </tr>\n",
       "    <tr>\n",
       "      <th>1</th>\n",
       "      <td>0</td>\n",
       "      <td>0</td>\n",
       "      <td>0</td>\n",
       "      <td>1</td>\n",
       "    </tr>\n",
       "    <tr>\n",
       "      <th>2</th>\n",
       "      <td>0</td>\n",
       "      <td>0</td>\n",
       "      <td>0</td>\n",
       "      <td>1</td>\n",
       "    </tr>\n",
       "    <tr>\n",
       "      <th>3</th>\n",
       "      <td>0</td>\n",
       "      <td>0</td>\n",
       "      <td>0</td>\n",
       "      <td>1</td>\n",
       "    </tr>\n",
       "    <tr>\n",
       "      <th>4</th>\n",
       "      <td>0</td>\n",
       "      <td>0</td>\n",
       "      <td>0</td>\n",
       "      <td>1</td>\n",
       "    </tr>\n",
       "  </tbody>\n",
       "</table>\n",
       "</div>"
      ],
      "text/plain": [
       "   경비비관리형태_기타  위탁  위탁+직영  직영\n",
       "0           0   0      0   1\n",
       "1           0   0      0   1\n",
       "2           0   0      0   1\n",
       "3           0   0      0   1\n",
       "4           0   0      0   1"
      ]
     },
     "execution_count": 836,
     "metadata": {},
     "output_type": "execute_result"
    }
   ],
   "source": [
    "dt['경비비관리형태'].replace('nan', np.nan, inplace=True)\n",
    "tmp = pd.get_dummies(dt['경비비관리형태'])\n",
    "tmp.head(5)"
   ]
  },
  {
   "cell_type": "code",
   "execution_count": 837,
   "metadata": {},
   "outputs": [
    {
     "data": {
      "text/plain": [
       "Index(['층', '건축년도', '등기신청일자', '세대전기계약방법', '청소비관리형태', '기타/의무/임대/임의=1/2/3/4',\n",
       "       'target', '구', '동', '계약년도', '성수기여부', '전용면적', '중개거래', '직거래',\n",
       "       '도시형 생활주택(아파트)', '도시형 생활주택(주상복합)', '아파트', '연립주택', '주상복합', '분양',\n",
       "       '분양형태_기타', '임대', '위탁관리', '자치관리', '직영', '계단식', '복도식', '복도유형_기타', '타워형',\n",
       "       '혼합식', '개별난방', '난방방식_기타', '중앙난방', '지역난방', '전용면적별세대현황(60㎡이하)',\n",
       "       '전용면적별세대현황(60㎡~85㎡이하)', '85㎡~135㎡이하', '135㎡초과', '경비비관리형태_기타', '위탁',\n",
       "       '위탁+직영', '직영'],\n",
       "      dtype='object')"
      ]
     },
     "execution_count": 837,
     "metadata": {},
     "output_type": "execute_result"
    }
   ],
   "source": [
    "dt = pd.concat([dt, tmp], axis=1)\n",
    "dt.drop(columns='경비비관리형태', inplace=True)\n",
    "dt.columns"
   ]
  },
  {
   "cell_type": "code",
   "execution_count": 838,
   "metadata": {},
   "outputs": [],
   "source": [
    "# maps = {\n",
    "#     '위탁' : 3,\n",
    "#     '직영' : 2,\n",
    "#     '위탁+직영' : 1,\n",
    "#     '기타' : 0.1\n",
    "# }\n",
    "# dt['경비비관리형태'] = dt['경비비관리형태'].map(maps)\n",
    "# dt['경비비관리형태'].fillna(0.1, inplace=True)\n",
    "# dt['경비비관리형태'].unique()"
   ]
  },
  {
   "cell_type": "markdown",
   "metadata": {},
   "source": [
    "## 세대전기계약방법 : 종합계약 > 단일계약 : 2, 1"
   ]
  },
  {
   "cell_type": "code",
   "execution_count": 839,
   "metadata": {},
   "outputs": [
    {
     "data": {
      "text/plain": [
       "array(['단일계약', '종합계약', nan], dtype=object)"
      ]
     },
     "execution_count": 839,
     "metadata": {},
     "output_type": "execute_result"
    }
   ],
   "source": [
    "dt['세대전기계약방법'].unique()"
   ]
  },
  {
   "cell_type": "code",
   "execution_count": 840,
   "metadata": {},
   "outputs": [
    {
     "data": {
      "text/html": [
       "<div>\n",
       "<style scoped>\n",
       "    .dataframe tbody tr th:only-of-type {\n",
       "        vertical-align: middle;\n",
       "    }\n",
       "\n",
       "    .dataframe tbody tr th {\n",
       "        vertical-align: top;\n",
       "    }\n",
       "\n",
       "    .dataframe thead th {\n",
       "        text-align: right;\n",
       "    }\n",
       "</style>\n",
       "<table border=\"1\" class=\"dataframe\">\n",
       "  <thead>\n",
       "    <tr style=\"text-align: right;\">\n",
       "      <th></th>\n",
       "      <th>단일계약</th>\n",
       "      <th>종합계약</th>\n",
       "    </tr>\n",
       "  </thead>\n",
       "  <tbody>\n",
       "    <tr>\n",
       "      <th>0</th>\n",
       "      <td>1</td>\n",
       "      <td>0</td>\n",
       "    </tr>\n",
       "    <tr>\n",
       "      <th>1</th>\n",
       "      <td>1</td>\n",
       "      <td>0</td>\n",
       "    </tr>\n",
       "    <tr>\n",
       "      <th>2</th>\n",
       "      <td>1</td>\n",
       "      <td>0</td>\n",
       "    </tr>\n",
       "    <tr>\n",
       "      <th>3</th>\n",
       "      <td>1</td>\n",
       "      <td>0</td>\n",
       "    </tr>\n",
       "    <tr>\n",
       "      <th>4</th>\n",
       "      <td>1</td>\n",
       "      <td>0</td>\n",
       "    </tr>\n",
       "  </tbody>\n",
       "</table>\n",
       "</div>"
      ],
      "text/plain": [
       "   단일계약  종합계약\n",
       "0     1     0\n",
       "1     1     0\n",
       "2     1     0\n",
       "3     1     0\n",
       "4     1     0"
      ]
     },
     "execution_count": 840,
     "metadata": {},
     "output_type": "execute_result"
    }
   ],
   "source": [
    "dt['세대전기계약방법'].replace('nan', np.nan, inplace=True)\n",
    "tmp = pd.get_dummies(dt['세대전기계약방법'])\n",
    "tmp.head(5)"
   ]
  },
  {
   "cell_type": "code",
   "execution_count": 841,
   "metadata": {},
   "outputs": [
    {
     "data": {
      "text/plain": [
       "Index(['층', '건축년도', '등기신청일자', '청소비관리형태', '기타/의무/임대/임의=1/2/3/4', 'target', '구',\n",
       "       '동', '계약년도', '성수기여부', '전용면적', '중개거래', '직거래', '도시형 생활주택(아파트)',\n",
       "       '도시형 생활주택(주상복합)', '아파트', '연립주택', '주상복합', '분양', '분양형태_기타', '임대', '위탁관리',\n",
       "       '자치관리', '직영', '계단식', '복도식', '복도유형_기타', '타워형', '혼합식', '개별난방', '난방방식_기타',\n",
       "       '중앙난방', '지역난방', '전용면적별세대현황(60㎡이하)', '전용면적별세대현황(60㎡~85㎡이하)',\n",
       "       '85㎡~135㎡이하', '135㎡초과', '경비비관리형태_기타', '위탁', '위탁+직영', '직영', '단일계약',\n",
       "       '종합계약'],\n",
       "      dtype='object')"
      ]
     },
     "execution_count": 841,
     "metadata": {},
     "output_type": "execute_result"
    }
   ],
   "source": [
    "dt = pd.concat([dt, tmp], axis=1)\n",
    "dt.drop(columns='세대전기계약방법', inplace=True)\n",
    "dt.columns"
   ]
  },
  {
   "cell_type": "code",
   "execution_count": 842,
   "metadata": {},
   "outputs": [],
   "source": [
    "# maps = {\n",
    "#     '종합계약' : 2,\n",
    "#     '단일계약' : 1,\n",
    "# }\n",
    "# dt['세대전기계약방법'] = dt['세대전기계약방법'].map(maps)\n",
    "# dt['세대전기계약방법'].fillna(0.5, inplace=True)\n",
    "# dt['세대전기계약방법'].unique()"
   ]
  },
  {
   "cell_type": "markdown",
   "metadata": {},
   "source": [
    "## 청소비관리형태 : 위탁 > 직영 > 위탁+직영 : 2, 1, 0 -> OHE"
   ]
  },
  {
   "cell_type": "code",
   "execution_count": 843,
   "metadata": {},
   "outputs": [
    {
     "data": {
      "text/plain": [
       "array(['직영', '위탁', '위탁+직영', nan, '기타'], dtype=object)"
      ]
     },
     "execution_count": 843,
     "metadata": {},
     "output_type": "execute_result"
    }
   ],
   "source": [
    "dt['청소비관리형태'].unique()"
   ]
  },
  {
   "cell_type": "code",
   "execution_count": 844,
   "metadata": {},
   "outputs": [
    {
     "data": {
      "text/plain": [
       "array(['직영', '위탁', '위탁+직영', nan, '청소비관리형태_기타'], dtype=object)"
      ]
     },
     "execution_count": 844,
     "metadata": {},
     "output_type": "execute_result"
    }
   ],
   "source": [
    "dt.loc[dt['청소비관리형태'] == '기타', '청소비관리형태'] = '청소비관리형태_기타'\n",
    "dt['청소비관리형태'].unique()"
   ]
  },
  {
   "cell_type": "code",
   "execution_count": 845,
   "metadata": {},
   "outputs": [
    {
     "data": {
      "text/html": [
       "<div>\n",
       "<style scoped>\n",
       "    .dataframe tbody tr th:only-of-type {\n",
       "        vertical-align: middle;\n",
       "    }\n",
       "\n",
       "    .dataframe tbody tr th {\n",
       "        vertical-align: top;\n",
       "    }\n",
       "\n",
       "    .dataframe thead th {\n",
       "        text-align: right;\n",
       "    }\n",
       "</style>\n",
       "<table border=\"1\" class=\"dataframe\">\n",
       "  <thead>\n",
       "    <tr style=\"text-align: right;\">\n",
       "      <th></th>\n",
       "      <th>위탁</th>\n",
       "      <th>위탁+직영</th>\n",
       "      <th>직영</th>\n",
       "      <th>청소비관리형태_기타</th>\n",
       "    </tr>\n",
       "  </thead>\n",
       "  <tbody>\n",
       "    <tr>\n",
       "      <th>0</th>\n",
       "      <td>0</td>\n",
       "      <td>0</td>\n",
       "      <td>1</td>\n",
       "      <td>0</td>\n",
       "    </tr>\n",
       "    <tr>\n",
       "      <th>1</th>\n",
       "      <td>0</td>\n",
       "      <td>0</td>\n",
       "      <td>1</td>\n",
       "      <td>0</td>\n",
       "    </tr>\n",
       "    <tr>\n",
       "      <th>2</th>\n",
       "      <td>0</td>\n",
       "      <td>0</td>\n",
       "      <td>1</td>\n",
       "      <td>0</td>\n",
       "    </tr>\n",
       "    <tr>\n",
       "      <th>3</th>\n",
       "      <td>0</td>\n",
       "      <td>0</td>\n",
       "      <td>1</td>\n",
       "      <td>0</td>\n",
       "    </tr>\n",
       "    <tr>\n",
       "      <th>4</th>\n",
       "      <td>0</td>\n",
       "      <td>0</td>\n",
       "      <td>1</td>\n",
       "      <td>0</td>\n",
       "    </tr>\n",
       "  </tbody>\n",
       "</table>\n",
       "</div>"
      ],
      "text/plain": [
       "   위탁  위탁+직영  직영  청소비관리형태_기타\n",
       "0   0      0   1           0\n",
       "1   0      0   1           0\n",
       "2   0      0   1           0\n",
       "3   0      0   1           0\n",
       "4   0      0   1           0"
      ]
     },
     "execution_count": 845,
     "metadata": {},
     "output_type": "execute_result"
    }
   ],
   "source": [
    "dt['청소비관리형태'].replace('nan', np.nan, inplace=True)\n",
    "tmp = pd.get_dummies(dt['청소비관리형태'])\n",
    "tmp.head(5)"
   ]
  },
  {
   "cell_type": "code",
   "execution_count": 846,
   "metadata": {},
   "outputs": [
    {
     "data": {
      "text/plain": [
       "Index(['층', '건축년도', '등기신청일자', '기타/의무/임대/임의=1/2/3/4', 'target', '구', '동',\n",
       "       '계약년도', '성수기여부', '전용면적', '중개거래', '직거래', '도시형 생활주택(아파트)',\n",
       "       '도시형 생활주택(주상복합)', '아파트', '연립주택', '주상복합', '분양', '분양형태_기타', '임대', '위탁관리',\n",
       "       '자치관리', '직영', '계단식', '복도식', '복도유형_기타', '타워형', '혼합식', '개별난방', '난방방식_기타',\n",
       "       '중앙난방', '지역난방', '전용면적별세대현황(60㎡이하)', '전용면적별세대현황(60㎡~85㎡이하)',\n",
       "       '85㎡~135㎡이하', '135㎡초과', '경비비관리형태_기타', '위탁', '위탁+직영', '직영', '단일계약',\n",
       "       '종합계약', '위탁', '위탁+직영', '직영', '청소비관리형태_기타'],\n",
       "      dtype='object')"
      ]
     },
     "execution_count": 846,
     "metadata": {},
     "output_type": "execute_result"
    }
   ],
   "source": [
    "dt = pd.concat([dt, tmp], axis=1)\n",
    "dt.drop(columns='청소비관리형태', inplace=True)\n",
    "dt.columns"
   ]
  },
  {
   "cell_type": "code",
   "execution_count": 847,
   "metadata": {},
   "outputs": [],
   "source": [
    "# maps = {\n",
    "#     '위탁' : 3,\n",
    "#     '직영' : 2,\n",
    "#     '위탁+직영' : 1,\n",
    "#     '기타' : 0.1,\n",
    "# }\n",
    "# dt['청소비관리형태'] = dt['청소비관리형태'].map(maps)\n",
    "# dt['청소비관리형태'].fillna(0.1, inplace=True)\n",
    "# dt['청소비관리형태'].unique()"
   ]
  },
  {
   "cell_type": "markdown",
   "metadata": {},
   "source": [
    "## 기타/의무/임대/임의 -> OHE"
   ]
  },
  {
   "cell_type": "code",
   "execution_count": 848,
   "metadata": {},
   "outputs": [
    {
     "data": {
      "text/plain": [
       "의무    241849\n",
       "기타      4186\n",
       "임의      3701\n",
       "임대      2233\n",
       "Name: 기타/의무/임대/임의=1/2/3/4, dtype: int64"
      ]
     },
     "execution_count": 848,
     "metadata": {},
     "output_type": "execute_result"
    }
   ],
   "source": [
    "dt['기타/의무/임대/임의=1/2/3/4'].value_counts()"
   ]
  },
  {
   "cell_type": "code",
   "execution_count": 849,
   "metadata": {},
   "outputs": [],
   "source": [
    "def plot():\n",
    "    categories = dt['기타/의무/임대/임의=1/2/3/4'].unique()\n",
    "\n",
    "    plt.figure(figsize=(12, 8))\n",
    "    for category in categories:\n",
    "        subset = dt[dt['기타/의무/임대/임의=1/2/3/4'] == category]\n",
    "        plt.hist(subset['target'], bins=20, alpha=0.6, label=category)\n",
    "\n",
    "    plt.title('Histogram of Target by Category', fontsize=16)\n",
    "    plt.xlabel('Target', fontsize=12)\n",
    "    plt.ylabel('Frequency', fontsize=12)\n",
    "    plt.legend(title='Category')\n",
    "    plt.show()"
   ]
  },
  {
   "cell_type": "code",
   "execution_count": 850,
   "metadata": {},
   "outputs": [
    {
     "data": {
      "text/html": [
       "<div>\n",
       "<style scoped>\n",
       "    .dataframe tbody tr th:only-of-type {\n",
       "        vertical-align: middle;\n",
       "    }\n",
       "\n",
       "    .dataframe tbody tr th {\n",
       "        vertical-align: top;\n",
       "    }\n",
       "\n",
       "    .dataframe thead th {\n",
       "        text-align: right;\n",
       "    }\n",
       "</style>\n",
       "<table border=\"1\" class=\"dataframe\">\n",
       "  <thead>\n",
       "    <tr style=\"text-align: right;\">\n",
       "      <th></th>\n",
       "      <th>기타</th>\n",
       "      <th>의무</th>\n",
       "      <th>임대</th>\n",
       "      <th>임의</th>\n",
       "    </tr>\n",
       "  </thead>\n",
       "  <tbody>\n",
       "    <tr>\n",
       "      <th>0</th>\n",
       "      <td>0</td>\n",
       "      <td>0</td>\n",
       "      <td>0</td>\n",
       "      <td>1</td>\n",
       "    </tr>\n",
       "    <tr>\n",
       "      <th>1</th>\n",
       "      <td>0</td>\n",
       "      <td>0</td>\n",
       "      <td>0</td>\n",
       "      <td>1</td>\n",
       "    </tr>\n",
       "    <tr>\n",
       "      <th>2</th>\n",
       "      <td>0</td>\n",
       "      <td>0</td>\n",
       "      <td>0</td>\n",
       "      <td>1</td>\n",
       "    </tr>\n",
       "    <tr>\n",
       "      <th>3</th>\n",
       "      <td>0</td>\n",
       "      <td>0</td>\n",
       "      <td>0</td>\n",
       "      <td>1</td>\n",
       "    </tr>\n",
       "    <tr>\n",
       "      <th>4</th>\n",
       "      <td>0</td>\n",
       "      <td>0</td>\n",
       "      <td>0</td>\n",
       "      <td>1</td>\n",
       "    </tr>\n",
       "  </tbody>\n",
       "</table>\n",
       "</div>"
      ],
      "text/plain": [
       "   기타  의무  임대  임의\n",
       "0   0   0   0   1\n",
       "1   0   0   0   1\n",
       "2   0   0   0   1\n",
       "3   0   0   0   1\n",
       "4   0   0   0   1"
      ]
     },
     "execution_count": 850,
     "metadata": {},
     "output_type": "execute_result"
    }
   ],
   "source": [
    "dt['기타/의무/임대/임의=1/2/3/4'].replace('nan', np.nan, inplace=True)\n",
    "tmp = pd.get_dummies(dt['기타/의무/임대/임의=1/2/3/4'])\n",
    "tmp.head(5)"
   ]
  },
  {
   "cell_type": "code",
   "execution_count": 851,
   "metadata": {},
   "outputs": [
    {
     "data": {
      "text/plain": [
       "Index(['층', '건축년도', '등기신청일자', 'target', '구', '동', '계약년도', '성수기여부', '전용면적',\n",
       "       '중개거래', '직거래', '도시형 생활주택(아파트)', '도시형 생활주택(주상복합)', '아파트', '연립주택', '주상복합',\n",
       "       '분양', '분양형태_기타', '임대', '위탁관리', '자치관리', '직영', '계단식', '복도식', '복도유형_기타',\n",
       "       '타워형', '혼합식', '개별난방', '난방방식_기타', '중앙난방', '지역난방', '전용면적별세대현황(60㎡이하)',\n",
       "       '전용면적별세대현황(60㎡~85㎡이하)', '85㎡~135㎡이하', '135㎡초과', '경비비관리형태_기타', '위탁',\n",
       "       '위탁+직영', '직영', '단일계약', '종합계약', '위탁', '위탁+직영', '직영', '청소비관리형태_기타', '기타',\n",
       "       '의무', '임대', '임의'],\n",
       "      dtype='object')"
      ]
     },
     "execution_count": 851,
     "metadata": {},
     "output_type": "execute_result"
    }
   ],
   "source": [
    "dt = pd.concat([dt, tmp], axis=1)\n",
    "dt.drop(columns='기타/의무/임대/임의=1/2/3/4', inplace=True)\n",
    "dt.columns"
   ]
  },
  {
   "cell_type": "code",
   "execution_count": 852,
   "metadata": {},
   "outputs": [],
   "source": [
    "# maps = {\n",
    "#     '의무' : 3,\n",
    "#     '임의' : 1,\n",
    "#     '임대대' : 0.5,\n",
    "#     '기타' : 0.1,\n",
    "# }\n",
    "# dt['기타/의무/임대/임의=1/2/3/4'] = dt['기타/의무/임대/임의=1/2/3/4'].map(maps)\n",
    "# dt['기타/의무/임대/임의=1/2/3/4'].fillna(0.1, inplace=True)\n",
    "# dt['기타/의무/임대/임의=1/2/3/4'].unique()"
   ]
  },
  {
   "cell_type": "code",
   "execution_count": 853,
   "metadata": {},
   "outputs": [
    {
     "data": {
      "text/plain": [
       "Index(['층', '건축년도', '등기신청일자', 'target', '구', '동', '계약년도', '성수기여부', '전용면적',\n",
       "       '중개거래', '직거래', '도시형 생활주택(아파트)', '도시형 생활주택(주상복합)', '아파트', '연립주택', '주상복합',\n",
       "       '분양', '분양형태_기타', '임대', '위탁관리', '자치관리', '직영', '계단식', '복도식', '복도유형_기타',\n",
       "       '타워형', '혼합식', '개별난방', '난방방식_기타', '중앙난방', '지역난방', '전용면적별세대현황(60㎡이하)',\n",
       "       '전용면적별세대현황(60㎡~85㎡이하)', '85㎡~135㎡이하', '135㎡초과', '경비비관리형태_기타', '위탁',\n",
       "       '위탁+직영', '직영', '단일계약', '종합계약', '위탁', '위탁+직영', '직영', '청소비관리형태_기타', '기타',\n",
       "       '의무', '임대', '임의'],\n",
       "      dtype='object')"
      ]
     },
     "execution_count": 853,
     "metadata": {},
     "output_type": "execute_result"
    }
   ],
   "source": [
    "dt.columns"
   ]
  },
  {
   "cell_type": "markdown",
   "metadata": {},
   "source": [
    "## 구 컬럼 처리 \n",
    "\n",
    "1. map 이용\n",
    "2. 원핫인코딩(보류)"
   ]
  },
  {
   "cell_type": "code",
   "execution_count": 854,
   "metadata": {},
   "outputs": [
    {
     "data": {
      "text/plain": [
       "25"
      ]
     },
     "execution_count": 854,
     "metadata": {},
     "output_type": "execute_result"
    }
   ],
   "source": [
    "len(dt['구'].unique())"
   ]
  },
  {
   "cell_type": "markdown",
   "metadata": {},
   "source": [
    "### '구' -> 학군 생성"
   ]
  },
  {
   "cell_type": "code",
   "execution_count": 855,
   "metadata": {},
   "outputs": [],
   "source": [
    "school_area = {\n",
    "    '동대문구' : '동부', '중랑구' : '동부',\n",
    "    '마포구' : '서부','서대문구' : '서부','은평구' : '서부',\n",
    "    '영등포구' : '남부', '구로구' : '남부', '금천구' : '남부',\n",
    "    '노원구' : '북부', '도봉구' : '북부',\n",
    "    '종로구' : '중부', '중구' : '중부', '용산구' : '중부', \n",
    "    '강동구' : '강동송파', '송파구' : '강동송파', \n",
    "    '강서구' : '강서양천', '양천구' : '강서양천', \n",
    "    '강남구' : '강남서초', '서초구' : '강남서초',\n",
    "    '동작구' : '동작관악', '관악구' : '동작관악',\n",
    "    '성동구' : '성동광진', '광진구' : '성동광진',\n",
    "    '강북구' : '성북강북', '성북구' : '성북광북'\n",
    "}"
   ]
  },
  {
   "cell_type": "code",
   "execution_count": 856,
   "metadata": {},
   "outputs": [
    {
     "data": {
      "text/html": [
       "<div>\n",
       "<style scoped>\n",
       "    .dataframe tbody tr th:only-of-type {\n",
       "        vertical-align: middle;\n",
       "    }\n",
       "\n",
       "    .dataframe tbody tr th {\n",
       "        vertical-align: top;\n",
       "    }\n",
       "\n",
       "    .dataframe thead th {\n",
       "        text-align: right;\n",
       "    }\n",
       "</style>\n",
       "<table border=\"1\" class=\"dataframe\">\n",
       "  <thead>\n",
       "    <tr style=\"text-align: right;\">\n",
       "      <th></th>\n",
       "      <th>층</th>\n",
       "      <th>건축년도</th>\n",
       "      <th>등기신청일자</th>\n",
       "      <th>target</th>\n",
       "      <th>구</th>\n",
       "      <th>동</th>\n",
       "      <th>계약년도</th>\n",
       "      <th>성수기여부</th>\n",
       "      <th>전용면적</th>\n",
       "      <th>중개거래</th>\n",
       "      <th>...</th>\n",
       "      <th>학군_강서양천</th>\n",
       "      <th>학군_남부</th>\n",
       "      <th>학군_동부</th>\n",
       "      <th>학군_동작관악</th>\n",
       "      <th>학군_북부</th>\n",
       "      <th>학군_서부</th>\n",
       "      <th>학군_성동광진</th>\n",
       "      <th>학군_성북강북</th>\n",
       "      <th>학군_성북광북</th>\n",
       "      <th>학군_중부</th>\n",
       "    </tr>\n",
       "  </thead>\n",
       "  <tbody>\n",
       "    <tr>\n",
       "      <th>449797</th>\n",
       "      <td>0.109589</td>\n",
       "      <td>0.693548</td>\n",
       "      <td>0.1</td>\n",
       "      <td>90000.0</td>\n",
       "      <td>강동구</td>\n",
       "      <td>둔촌동</td>\n",
       "      <td>2017</td>\n",
       "      <td>0</td>\n",
       "      <td>0.168984</td>\n",
       "      <td>0</td>\n",
       "      <td>...</td>\n",
       "      <td>0</td>\n",
       "      <td>0</td>\n",
       "      <td>0</td>\n",
       "      <td>0</td>\n",
       "      <td>0</td>\n",
       "      <td>0</td>\n",
       "      <td>0</td>\n",
       "      <td>0</td>\n",
       "      <td>0</td>\n",
       "      <td>0</td>\n",
       "    </tr>\n",
       "    <tr>\n",
       "      <th>890088</th>\n",
       "      <td>0.164384</td>\n",
       "      <td>0.403226</td>\n",
       "      <td>0.1</td>\n",
       "      <td>23000.0</td>\n",
       "      <td>성북구</td>\n",
       "      <td>돈암동</td>\n",
       "      <td>2013</td>\n",
       "      <td>1</td>\n",
       "      <td>0.119623</td>\n",
       "      <td>0</td>\n",
       "      <td>...</td>\n",
       "      <td>0</td>\n",
       "      <td>0</td>\n",
       "      <td>0</td>\n",
       "      <td>0</td>\n",
       "      <td>0</td>\n",
       "      <td>0</td>\n",
       "      <td>0</td>\n",
       "      <td>0</td>\n",
       "      <td>1</td>\n",
       "      <td>0</td>\n",
       "    </tr>\n",
       "    <tr>\n",
       "      <th>237002</th>\n",
       "      <td>0.095890</td>\n",
       "      <td>0.322581</td>\n",
       "      <td>0.1</td>\n",
       "      <td>37000.0</td>\n",
       "      <td>은평구</td>\n",
       "      <td>신사동</td>\n",
       "      <td>2021</td>\n",
       "      <td>0</td>\n",
       "      <td>0.154936</td>\n",
       "      <td>1</td>\n",
       "      <td>...</td>\n",
       "      <td>0</td>\n",
       "      <td>0</td>\n",
       "      <td>0</td>\n",
       "      <td>0</td>\n",
       "      <td>0</td>\n",
       "      <td>1</td>\n",
       "      <td>0</td>\n",
       "      <td>0</td>\n",
       "      <td>0</td>\n",
       "      <td>0</td>\n",
       "    </tr>\n",
       "    <tr>\n",
       "      <th>883912</th>\n",
       "      <td>0.246575</td>\n",
       "      <td>0.370968</td>\n",
       "      <td>0.1</td>\n",
       "      <td>51500.0</td>\n",
       "      <td>서대문구</td>\n",
       "      <td>홍제동</td>\n",
       "      <td>2013</td>\n",
       "      <td>0</td>\n",
       "      <td>0.252715</td>\n",
       "      <td>0</td>\n",
       "      <td>...</td>\n",
       "      <td>0</td>\n",
       "      <td>0</td>\n",
       "      <td>0</td>\n",
       "      <td>0</td>\n",
       "      <td>0</td>\n",
       "      <td>1</td>\n",
       "      <td>0</td>\n",
       "      <td>0</td>\n",
       "      <td>0</td>\n",
       "      <td>0</td>\n",
       "    </tr>\n",
       "    <tr>\n",
       "      <th>642817</th>\n",
       "      <td>0.095890</td>\n",
       "      <td>0.322581</td>\n",
       "      <td>0.1</td>\n",
       "      <td>46000.0</td>\n",
       "      <td>중랑구</td>\n",
       "      <td>면목동</td>\n",
       "      <td>2016</td>\n",
       "      <td>1</td>\n",
       "      <td>0.223543</td>\n",
       "      <td>0</td>\n",
       "      <td>...</td>\n",
       "      <td>0</td>\n",
       "      <td>0</td>\n",
       "      <td>1</td>\n",
       "      <td>0</td>\n",
       "      <td>0</td>\n",
       "      <td>0</td>\n",
       "      <td>0</td>\n",
       "      <td>0</td>\n",
       "      <td>0</td>\n",
       "      <td>0</td>\n",
       "    </tr>\n",
       "  </tbody>\n",
       "</table>\n",
       "<p>5 rows × 61 columns</p>\n",
       "</div>"
      ],
      "text/plain": [
       "               층      건축년도  등기신청일자   target     구    동  계약년도  성수기여부      전용면적  \\\n",
       "449797  0.109589  0.693548     0.1  90000.0   강동구  둔촌동  2017      0  0.168984   \n",
       "890088  0.164384  0.403226     0.1  23000.0   성북구  돈암동  2013      1  0.119623   \n",
       "237002  0.095890  0.322581     0.1  37000.0   은평구  신사동  2021      0  0.154936   \n",
       "883912  0.246575  0.370968     0.1  51500.0  서대문구  홍제동  2013      0  0.252715   \n",
       "642817  0.095890  0.322581     0.1  46000.0   중랑구  면목동  2016      1  0.223543   \n",
       "\n",
       "        중개거래  ...  학군_강서양천  학군_남부  학군_동부  학군_동작관악  학군_북부  학군_서부  학군_성동광진  \\\n",
       "449797     0  ...        0      0      0        0      0      0        0   \n",
       "890088     0  ...        0      0      0        0      0      0        0   \n",
       "237002     1  ...        0      0      0        0      0      1        0   \n",
       "883912     0  ...        0      0      0        0      0      1        0   \n",
       "642817     0  ...        0      0      1        0      0      0        0   \n",
       "\n",
       "        학군_성북강북  학군_성북광북  학군_중부  \n",
       "449797        0        0      0  \n",
       "890088        0        1      0  \n",
       "237002        0        0      0  \n",
       "883912        0        0      0  \n",
       "642817        0        0      0  \n",
       "\n",
       "[5 rows x 61 columns]"
      ]
     },
     "execution_count": 856,
     "metadata": {},
     "output_type": "execute_result"
    }
   ],
   "source": [
    "dt['학군'] = dt['구'].map(school_area).copy()\n",
    "#split_dt[split_dt['학군'].isnull() == True]\n",
    "dum = pd.get_dummies(dt['학군'],prefix='학군')\n",
    "dt = pd.concat([dt, dum], axis=1)\n",
    "dt.drop(columns='학군', inplace=True)\n",
    "dt.sample(5)"
   ]
  },
  {
   "cell_type": "markdown",
   "metadata": {},
   "source": [
    "### '구' 원핫 인코딩"
   ]
  },
  {
   "cell_type": "code",
   "execution_count": 857,
   "metadata": {},
   "outputs": [
    {
     "data": {
      "text/plain": [
       "Index(['층', '건축년도', '등기신청일자', 'target', '동', '계약년도', '성수기여부', '전용면적', '중개거래',\n",
       "       '직거래', '도시형 생활주택(아파트)', '도시형 생활주택(주상복합)', '아파트', '연립주택', '주상복합', '분양',\n",
       "       '분양형태_기타', '임대', '위탁관리', '자치관리', '직영', '계단식', '복도식', '복도유형_기타', '타워형',\n",
       "       '혼합식', '개별난방', '난방방식_기타', '중앙난방', '지역난방', '전용면적별세대현황(60㎡이하)',\n",
       "       '전용면적별세대현황(60㎡~85㎡이하)', '85㎡~135㎡이하', '135㎡초과', '경비비관리형태_기타', '위탁',\n",
       "       '위탁+직영', '직영', '단일계약', '종합계약', '위탁', '위탁+직영', '직영', '청소비관리형태_기타', '기타',\n",
       "       '의무', '임대', '임의', '학군_강남서초', '학군_강동송파', '학군_강서양천', '학군_남부', '학군_동부',\n",
       "       '학군_동작관악', '학군_북부', '학군_서부', '학군_성동광진', '학군_성북강북', '학군_성북광북', '학군_중부',\n",
       "       '구_강남구', '구_강동구', '구_강북구', '구_강서구', '구_관악구', '구_광진구', '구_구로구', '구_금천구',\n",
       "       '구_노원구', '구_도봉구', '구_동대문구', '구_동작구', '구_마포구', '구_서대문구', '구_서초구',\n",
       "       '구_성동구', '구_성북구', '구_송파구', '구_양천구', '구_영등포구', '구_용산구', '구_은평구', '구_종로구',\n",
       "       '구_중구', '구_중랑구'],\n",
       "      dtype='object')"
      ]
     },
     "execution_count": 857,
     "metadata": {},
     "output_type": "execute_result"
    }
   ],
   "source": [
    "# 원핫인코딩\n",
    "dt = pd.get_dummies(dt, columns=['구'])\n",
    "dt.columns"
   ]
  },
  {
   "cell_type": "code",
   "execution_count": 858,
   "metadata": {},
   "outputs": [],
   "source": [
    "# # mapping\n",
    "# idx = dt.groupby('구')['target'].mean().sort_values(ascending=True).index\n",
    "# maps = { idx[i-1] : i for i in range(1, len(idx) + 1) }\n",
    "# dt['구'] = dt['구'].map(maps)"
   ]
  },
  {
   "cell_type": "code",
   "execution_count": 859,
   "metadata": {},
   "outputs": [
    {
     "data": {
      "text/html": [
       "<div>\n",
       "<style scoped>\n",
       "    .dataframe tbody tr th:only-of-type {\n",
       "        vertical-align: middle;\n",
       "    }\n",
       "\n",
       "    .dataframe tbody tr th {\n",
       "        vertical-align: top;\n",
       "    }\n",
       "\n",
       "    .dataframe thead th {\n",
       "        text-align: right;\n",
       "    }\n",
       "</style>\n",
       "<table border=\"1\" class=\"dataframe\">\n",
       "  <thead>\n",
       "    <tr style=\"text-align: right;\">\n",
       "      <th></th>\n",
       "      <th>층</th>\n",
       "      <th>건축년도</th>\n",
       "      <th>등기신청일자</th>\n",
       "      <th>target</th>\n",
       "      <th>동</th>\n",
       "      <th>계약년도</th>\n",
       "      <th>성수기여부</th>\n",
       "      <th>전용면적</th>\n",
       "      <th>중개거래</th>\n",
       "      <th>직거래</th>\n",
       "      <th>...</th>\n",
       "      <th>구_성동구</th>\n",
       "      <th>구_성북구</th>\n",
       "      <th>구_송파구</th>\n",
       "      <th>구_양천구</th>\n",
       "      <th>구_영등포구</th>\n",
       "      <th>구_용산구</th>\n",
       "      <th>구_은평구</th>\n",
       "      <th>구_종로구</th>\n",
       "      <th>구_중구</th>\n",
       "      <th>구_중랑구</th>\n",
       "    </tr>\n",
       "  </thead>\n",
       "  <tbody>\n",
       "    <tr>\n",
       "      <th>0</th>\n",
       "      <td>0.095890</td>\n",
       "      <td>0.580645</td>\n",
       "      <td>0.1</td>\n",
       "      <td>124000.0</td>\n",
       "      <td>개포동</td>\n",
       "      <td>2017</td>\n",
       "      <td>0</td>\n",
       "      <td>0.168839</td>\n",
       "      <td>0</td>\n",
       "      <td>0</td>\n",
       "      <td>...</td>\n",
       "      <td>0</td>\n",
       "      <td>0</td>\n",
       "      <td>0</td>\n",
       "      <td>0</td>\n",
       "      <td>0</td>\n",
       "      <td>0</td>\n",
       "      <td>0</td>\n",
       "      <td>0</td>\n",
       "      <td>0</td>\n",
       "      <td>0</td>\n",
       "    </tr>\n",
       "    <tr>\n",
       "      <th>1</th>\n",
       "      <td>0.109589</td>\n",
       "      <td>0.580645</td>\n",
       "      <td>0.1</td>\n",
       "      <td>123500.0</td>\n",
       "      <td>개포동</td>\n",
       "      <td>2017</td>\n",
       "      <td>0</td>\n",
       "      <td>0.168839</td>\n",
       "      <td>0</td>\n",
       "      <td>0</td>\n",
       "      <td>...</td>\n",
       "      <td>0</td>\n",
       "      <td>0</td>\n",
       "      <td>0</td>\n",
       "      <td>0</td>\n",
       "      <td>0</td>\n",
       "      <td>0</td>\n",
       "      <td>0</td>\n",
       "      <td>0</td>\n",
       "      <td>0</td>\n",
       "      <td>0</td>\n",
       "    </tr>\n",
       "    <tr>\n",
       "      <th>2</th>\n",
       "      <td>0.123288</td>\n",
       "      <td>0.580645</td>\n",
       "      <td>0.1</td>\n",
       "      <td>91500.0</td>\n",
       "      <td>개포동</td>\n",
       "      <td>2017</td>\n",
       "      <td>0</td>\n",
       "      <td>0.108520</td>\n",
       "      <td>0</td>\n",
       "      <td>0</td>\n",
       "      <td>...</td>\n",
       "      <td>0</td>\n",
       "      <td>0</td>\n",
       "      <td>0</td>\n",
       "      <td>0</td>\n",
       "      <td>0</td>\n",
       "      <td>0</td>\n",
       "      <td>0</td>\n",
       "      <td>0</td>\n",
       "      <td>0</td>\n",
       "      <td>0</td>\n",
       "    </tr>\n",
       "    <tr>\n",
       "      <th>3</th>\n",
       "      <td>0.109589</td>\n",
       "      <td>0.580645</td>\n",
       "      <td>0.1</td>\n",
       "      <td>130000.0</td>\n",
       "      <td>개포동</td>\n",
       "      <td>2018</td>\n",
       "      <td>0</td>\n",
       "      <td>0.168839</td>\n",
       "      <td>0</td>\n",
       "      <td>0</td>\n",
       "      <td>...</td>\n",
       "      <td>0</td>\n",
       "      <td>0</td>\n",
       "      <td>0</td>\n",
       "      <td>0</td>\n",
       "      <td>0</td>\n",
       "      <td>0</td>\n",
       "      <td>0</td>\n",
       "      <td>0</td>\n",
       "      <td>0</td>\n",
       "      <td>0</td>\n",
       "    </tr>\n",
       "    <tr>\n",
       "      <th>4</th>\n",
       "      <td>0.082192</td>\n",
       "      <td>0.580645</td>\n",
       "      <td>0.1</td>\n",
       "      <td>117000.0</td>\n",
       "      <td>개포동</td>\n",
       "      <td>2018</td>\n",
       "      <td>0</td>\n",
       "      <td>0.168839</td>\n",
       "      <td>0</td>\n",
       "      <td>0</td>\n",
       "      <td>...</td>\n",
       "      <td>0</td>\n",
       "      <td>0</td>\n",
       "      <td>0</td>\n",
       "      <td>0</td>\n",
       "      <td>0</td>\n",
       "      <td>0</td>\n",
       "      <td>0</td>\n",
       "      <td>0</td>\n",
       "      <td>0</td>\n",
       "      <td>0</td>\n",
       "    </tr>\n",
       "  </tbody>\n",
       "</table>\n",
       "<p>5 rows × 85 columns</p>\n",
       "</div>"
      ],
      "text/plain": [
       "          층      건축년도  등기신청일자    target    동  계약년도  성수기여부      전용면적  중개거래  \\\n",
       "0  0.095890  0.580645     0.1  124000.0  개포동  2017      0  0.168839     0   \n",
       "1  0.109589  0.580645     0.1  123500.0  개포동  2017      0  0.168839     0   \n",
       "2  0.123288  0.580645     0.1   91500.0  개포동  2017      0  0.108520     0   \n",
       "3  0.109589  0.580645     0.1  130000.0  개포동  2018      0  0.168839     0   \n",
       "4  0.082192  0.580645     0.1  117000.0  개포동  2018      0  0.168839     0   \n",
       "\n",
       "   직거래  ...  구_성동구  구_성북구  구_송파구  구_양천구  구_영등포구  구_용산구  구_은평구  구_종로구  구_중구  \\\n",
       "0    0  ...      0      0      0      0       0      0      0      0     0   \n",
       "1    0  ...      0      0      0      0       0      0      0      0     0   \n",
       "2    0  ...      0      0      0      0       0      0      0      0     0   \n",
       "3    0  ...      0      0      0      0       0      0      0      0     0   \n",
       "4    0  ...      0      0      0      0       0      0      0      0     0   \n",
       "\n",
       "   구_중랑구  \n",
       "0      0  \n",
       "1      0  \n",
       "2      0  \n",
       "3      0  \n",
       "4      0  \n",
       "\n",
       "[5 rows x 85 columns]"
      ]
     },
     "execution_count": 859,
     "metadata": {},
     "output_type": "execute_result"
    }
   ],
   "source": [
    "dt.head()"
   ]
  },
  {
   "cell_type": "code",
   "execution_count": 860,
   "metadata": {},
   "outputs": [
    {
     "name": "stdout",
     "output_type": "stream",
     "text": [
      "/data/ephemeral/home/code\n"
     ]
    }
   ],
   "source": [
    "!pwd"
   ]
  },
  {
   "cell_type": "markdown",
   "metadata": {},
   "source": [
    "## 동 컬럼 처리 (일단은 drop)"
   ]
  },
  {
   "cell_type": "code",
   "execution_count": 861,
   "metadata": {},
   "outputs": [
    {
     "data": {
      "text/plain": [
       "337"
      ]
     },
     "execution_count": 861,
     "metadata": {},
     "output_type": "execute_result"
    }
   ],
   "source": [
    "len(dt['동'].unique())"
   ]
  },
  {
   "cell_type": "code",
   "execution_count": 862,
   "metadata": {},
   "outputs": [
    {
     "data": {
      "text/plain": [
       "Index(['층', '건축년도', '등기신청일자', 'target', '계약년도', '성수기여부', '전용면적', '중개거래', '직거래',\n",
       "       '도시형 생활주택(아파트)', '도시형 생활주택(주상복합)', '아파트', '연립주택', '주상복합', '분양',\n",
       "       '분양형태_기타', '임대', '위탁관리', '자치관리', '직영', '계단식', '복도식', '복도유형_기타', '타워형',\n",
       "       '혼합식', '개별난방', '난방방식_기타', '중앙난방', '지역난방', '전용면적별세대현황(60㎡이하)',\n",
       "       '전용면적별세대현황(60㎡~85㎡이하)', '85㎡~135㎡이하', '135㎡초과', '경비비관리형태_기타', '위탁',\n",
       "       '위탁+직영', '직영', '단일계약', '종합계약', '위탁', '위탁+직영', '직영', '청소비관리형태_기타', '기타',\n",
       "       '의무', '임대', '임의', '학군_강남서초', '학군_강동송파', '학군_강서양천', '학군_남부', '학군_동부',\n",
       "       '학군_동작관악', '학군_북부', '학군_서부', '학군_성동광진', '학군_성북강북', '학군_성북광북', '학군_중부',\n",
       "       '구_강남구', '구_강동구', '구_강북구', '구_강서구', '구_관악구', '구_광진구', '구_구로구', '구_금천구',\n",
       "       '구_노원구', '구_도봉구', '구_동대문구', '구_동작구', '구_마포구', '구_서대문구', '구_서초구',\n",
       "       '구_성동구', '구_성북구', '구_송파구', '구_양천구', '구_영등포구', '구_용산구', '구_은평구', '구_종로구',\n",
       "       '구_중구', '구_중랑구'],\n",
       "      dtype='object')"
      ]
     },
     "execution_count": 862,
     "metadata": {},
     "output_type": "execute_result"
    }
   ],
   "source": [
    "dt.drop(columns='동', inplace = True)\n",
    "dt.columns"
   ]
  },
  {
   "cell_type": "code",
   "execution_count": 863,
   "metadata": {},
   "outputs": [],
   "source": [
    "# idx = dt.groupby('동')['target'].mean().sort_values(ascending=True).index\n",
    "# print(idx)\n",
    "# maps = { idx[i-1] : i for i in range(1, len(idx) + 1) }\n",
    "# maps\n",
    "# dt['동'] = dt['동'].map(maps)\n",
    "# dt['동'].unique()"
   ]
  },
  {
   "cell_type": "markdown",
   "metadata": {},
   "source": [
    "## Endpoint\n"
   ]
  },
  {
   "cell_type": "code",
   "execution_count": 864,
   "metadata": {},
   "outputs": [
    {
     "data": {
      "text/html": [
       "<div>\n",
       "<style scoped>\n",
       "    .dataframe tbody tr th:only-of-type {\n",
       "        vertical-align: middle;\n",
       "    }\n",
       "\n",
       "    .dataframe tbody tr th {\n",
       "        vertical-align: top;\n",
       "    }\n",
       "\n",
       "    .dataframe thead th {\n",
       "        text-align: right;\n",
       "    }\n",
       "</style>\n",
       "<table border=\"1\" class=\"dataframe\">\n",
       "  <thead>\n",
       "    <tr style=\"text-align: right;\">\n",
       "      <th></th>\n",
       "      <th>층</th>\n",
       "      <th>건축년도</th>\n",
       "      <th>등기신청일자</th>\n",
       "      <th>target</th>\n",
       "      <th>계약년도</th>\n",
       "      <th>성수기여부</th>\n",
       "      <th>전용면적</th>\n",
       "      <th>중개거래</th>\n",
       "      <th>직거래</th>\n",
       "      <th>도시형 생활주택(아파트)</th>\n",
       "      <th>...</th>\n",
       "      <th>구_성동구</th>\n",
       "      <th>구_성북구</th>\n",
       "      <th>구_송파구</th>\n",
       "      <th>구_양천구</th>\n",
       "      <th>구_영등포구</th>\n",
       "      <th>구_용산구</th>\n",
       "      <th>구_은평구</th>\n",
       "      <th>구_종로구</th>\n",
       "      <th>구_중구</th>\n",
       "      <th>구_중랑구</th>\n",
       "    </tr>\n",
       "  </thead>\n",
       "  <tbody>\n",
       "    <tr>\n",
       "      <th>520003</th>\n",
       "      <td>0.068493</td>\n",
       "      <td>0.629032</td>\n",
       "      <td>0.1</td>\n",
       "      <td>81000.0</td>\n",
       "      <td>2017</td>\n",
       "      <td>1</td>\n",
       "      <td>0.180565</td>\n",
       "      <td>0</td>\n",
       "      <td>0</td>\n",
       "      <td>0</td>\n",
       "      <td>...</td>\n",
       "      <td>0</td>\n",
       "      <td>0</td>\n",
       "      <td>1</td>\n",
       "      <td>0</td>\n",
       "      <td>0</td>\n",
       "      <td>0</td>\n",
       "      <td>0</td>\n",
       "      <td>0</td>\n",
       "      <td>0</td>\n",
       "      <td>0</td>\n",
       "    </tr>\n",
       "    <tr>\n",
       "      <th>597831</th>\n",
       "      <td>0.273973</td>\n",
       "      <td>0.225806</td>\n",
       "      <td>0.1</td>\n",
       "      <td>85000.0</td>\n",
       "      <td>2015</td>\n",
       "      <td>0</td>\n",
       "      <td>0.252764</td>\n",
       "      <td>0</td>\n",
       "      <td>0</td>\n",
       "      <td>0</td>\n",
       "      <td>...</td>\n",
       "      <td>0</td>\n",
       "      <td>0</td>\n",
       "      <td>0</td>\n",
       "      <td>0</td>\n",
       "      <td>0</td>\n",
       "      <td>0</td>\n",
       "      <td>0</td>\n",
       "      <td>0</td>\n",
       "      <td>0</td>\n",
       "      <td>0</td>\n",
       "    </tr>\n",
       "    <tr>\n",
       "      <th>539642</th>\n",
       "      <td>0.109589</td>\n",
       "      <td>0.919355</td>\n",
       "      <td>0.1</td>\n",
       "      <td>28800.0</td>\n",
       "      <td>2017</td>\n",
       "      <td>1</td>\n",
       "      <td>0.045329</td>\n",
       "      <td>0</td>\n",
       "      <td>0</td>\n",
       "      <td>0</td>\n",
       "      <td>...</td>\n",
       "      <td>0</td>\n",
       "      <td>0</td>\n",
       "      <td>0</td>\n",
       "      <td>0</td>\n",
       "      <td>0</td>\n",
       "      <td>0</td>\n",
       "      <td>0</td>\n",
       "      <td>1</td>\n",
       "      <td>0</td>\n",
       "      <td>0</td>\n",
       "    </tr>\n",
       "    <tr>\n",
       "      <th>662532</th>\n",
       "      <td>0.232877</td>\n",
       "      <td>0.241935</td>\n",
       "      <td>0.1</td>\n",
       "      <td>36500.0</td>\n",
       "      <td>2014</td>\n",
       "      <td>0</td>\n",
       "      <td>0.180208</td>\n",
       "      <td>0</td>\n",
       "      <td>0</td>\n",
       "      <td>0</td>\n",
       "      <td>...</td>\n",
       "      <td>0</td>\n",
       "      <td>0</td>\n",
       "      <td>0</td>\n",
       "      <td>0</td>\n",
       "      <td>0</td>\n",
       "      <td>0</td>\n",
       "      <td>0</td>\n",
       "      <td>0</td>\n",
       "      <td>0</td>\n",
       "      <td>0</td>\n",
       "    </tr>\n",
       "    <tr>\n",
       "      <th>548746</th>\n",
       "      <td>0.109589</td>\n",
       "      <td>0.483871</td>\n",
       "      <td>0.1</td>\n",
       "      <td>35800.0</td>\n",
       "      <td>2015</td>\n",
       "      <td>0</td>\n",
       "      <td>0.058943</td>\n",
       "      <td>0</td>\n",
       "      <td>0</td>\n",
       "      <td>0</td>\n",
       "      <td>...</td>\n",
       "      <td>0</td>\n",
       "      <td>0</td>\n",
       "      <td>0</td>\n",
       "      <td>0</td>\n",
       "      <td>0</td>\n",
       "      <td>0</td>\n",
       "      <td>0</td>\n",
       "      <td>0</td>\n",
       "      <td>0</td>\n",
       "      <td>0</td>\n",
       "    </tr>\n",
       "  </tbody>\n",
       "</table>\n",
       "<p>5 rows × 84 columns</p>\n",
       "</div>"
      ],
      "text/plain": [
       "               층      건축년도  등기신청일자   target  계약년도  성수기여부      전용면적  중개거래  직거래  \\\n",
       "520003  0.068493  0.629032     0.1  81000.0  2017      1  0.180565     0    0   \n",
       "597831  0.273973  0.225806     0.1  85000.0  2015      0  0.252764     0    0   \n",
       "539642  0.109589  0.919355     0.1  28800.0  2017      1  0.045329     0    0   \n",
       "662532  0.232877  0.241935     0.1  36500.0  2014      0  0.180208     0    0   \n",
       "548746  0.109589  0.483871     0.1  35800.0  2015      0  0.058943     0    0   \n",
       "\n",
       "        도시형 생활주택(아파트)  ...  구_성동구  구_성북구  구_송파구  구_양천구  구_영등포구  구_용산구  구_은평구  \\\n",
       "520003              0  ...      0      0      1      0       0      0      0   \n",
       "597831              0  ...      0      0      0      0       0      0      0   \n",
       "539642              0  ...      0      0      0      0       0      0      0   \n",
       "662532              0  ...      0      0      0      0       0      0      0   \n",
       "548746              0  ...      0      0      0      0       0      0      0   \n",
       "\n",
       "        구_종로구  구_중구  구_중랑구  \n",
       "520003      0     0      0  \n",
       "597831      0     0      0  \n",
       "539642      1     0      0  \n",
       "662532      0     0      0  \n",
       "548746      0     0      0  \n",
       "\n",
       "[5 rows x 84 columns]"
      ]
     },
     "execution_count": 864,
     "metadata": {},
     "output_type": "execute_result"
    }
   ],
   "source": [
    "dt.sample(5)"
   ]
  },
  {
   "cell_type": "code",
   "execution_count": 869,
   "metadata": {},
   "outputs": [
    {
     "data": {
      "text/plain": [
       "층            0\n",
       "건축년도         0\n",
       "등기신청일자       0\n",
       "target    9272\n",
       "계약년도         0\n",
       "          ... \n",
       "구_용산구        0\n",
       "구_은평구        0\n",
       "구_종로구        0\n",
       "구_중구         0\n",
       "구_중랑구        0\n",
       "Length: 84, dtype: int64"
      ]
     },
     "execution_count": 869,
     "metadata": {},
     "output_type": "execute_result"
    }
   ],
   "source": [
    "dt.isnull().sum()"
   ]
  },
  {
   "cell_type": "markdown",
   "metadata": {},
   "source": [
    "## Train Test split"
   ]
  },
  {
   "cell_type": "code",
   "execution_count": 866,
   "metadata": {},
   "outputs": [
    {
     "name": "stdout",
     "output_type": "stream",
     "text": [
      "1118822 84 9272 83\n"
     ]
    }
   ],
   "source": [
    "dt_train = dt[:-dt_test.shape[0]]  # test 행 개수 이전까지는 train\n",
    "dt_test = dt[-dt_test.shape[0]:]  # 마지막 test 행 개수만큼은 test\n",
    "dt_test.drop(columns='target', inplace=True)\n",
    "print(dt_train.shape[0],dt_train.shape[1],dt_test.shape[0],dt_test.shape[1])"
   ]
  },
  {
   "cell_type": "code",
   "execution_count": 870,
   "metadata": {},
   "outputs": [
    {
     "data": {
      "text/html": [
       "<div>\n",
       "<style scoped>\n",
       "    .dataframe tbody tr th:only-of-type {\n",
       "        vertical-align: middle;\n",
       "    }\n",
       "\n",
       "    .dataframe tbody tr th {\n",
       "        vertical-align: top;\n",
       "    }\n",
       "\n",
       "    .dataframe thead th {\n",
       "        text-align: right;\n",
       "    }\n",
       "</style>\n",
       "<table border=\"1\" class=\"dataframe\">\n",
       "  <thead>\n",
       "    <tr style=\"text-align: right;\">\n",
       "      <th></th>\n",
       "      <th>층</th>\n",
       "      <th>건축년도</th>\n",
       "      <th>등기신청일자</th>\n",
       "      <th>target</th>\n",
       "      <th>계약년도</th>\n",
       "      <th>성수기여부</th>\n",
       "      <th>전용면적</th>\n",
       "      <th>중개거래</th>\n",
       "      <th>직거래</th>\n",
       "      <th>도시형 생활주택(아파트)</th>\n",
       "      <th>...</th>\n",
       "      <th>구_성동구</th>\n",
       "      <th>구_성북구</th>\n",
       "      <th>구_송파구</th>\n",
       "      <th>구_양천구</th>\n",
       "      <th>구_영등포구</th>\n",
       "      <th>구_용산구</th>\n",
       "      <th>구_은평구</th>\n",
       "      <th>구_종로구</th>\n",
       "      <th>구_중구</th>\n",
       "      <th>구_중랑구</th>\n",
       "    </tr>\n",
       "  </thead>\n",
       "  <tbody>\n",
       "    <tr>\n",
       "      <th>0</th>\n",
       "      <td>0.095890</td>\n",
       "      <td>0.580645</td>\n",
       "      <td>0.1</td>\n",
       "      <td>124000.0</td>\n",
       "      <td>2017</td>\n",
       "      <td>0</td>\n",
       "      <td>0.168839</td>\n",
       "      <td>0</td>\n",
       "      <td>0</td>\n",
       "      <td>0</td>\n",
       "      <td>...</td>\n",
       "      <td>0</td>\n",
       "      <td>0</td>\n",
       "      <td>0</td>\n",
       "      <td>0</td>\n",
       "      <td>0</td>\n",
       "      <td>0</td>\n",
       "      <td>0</td>\n",
       "      <td>0</td>\n",
       "      <td>0</td>\n",
       "      <td>0</td>\n",
       "    </tr>\n",
       "    <tr>\n",
       "      <th>1</th>\n",
       "      <td>0.109589</td>\n",
       "      <td>0.580645</td>\n",
       "      <td>0.1</td>\n",
       "      <td>123500.0</td>\n",
       "      <td>2017</td>\n",
       "      <td>0</td>\n",
       "      <td>0.168839</td>\n",
       "      <td>0</td>\n",
       "      <td>0</td>\n",
       "      <td>0</td>\n",
       "      <td>...</td>\n",
       "      <td>0</td>\n",
       "      <td>0</td>\n",
       "      <td>0</td>\n",
       "      <td>0</td>\n",
       "      <td>0</td>\n",
       "      <td>0</td>\n",
       "      <td>0</td>\n",
       "      <td>0</td>\n",
       "      <td>0</td>\n",
       "      <td>0</td>\n",
       "    </tr>\n",
       "    <tr>\n",
       "      <th>2</th>\n",
       "      <td>0.123288</td>\n",
       "      <td>0.580645</td>\n",
       "      <td>0.1</td>\n",
       "      <td>91500.0</td>\n",
       "      <td>2017</td>\n",
       "      <td>0</td>\n",
       "      <td>0.108520</td>\n",
       "      <td>0</td>\n",
       "      <td>0</td>\n",
       "      <td>0</td>\n",
       "      <td>...</td>\n",
       "      <td>0</td>\n",
       "      <td>0</td>\n",
       "      <td>0</td>\n",
       "      <td>0</td>\n",
       "      <td>0</td>\n",
       "      <td>0</td>\n",
       "      <td>0</td>\n",
       "      <td>0</td>\n",
       "      <td>0</td>\n",
       "      <td>0</td>\n",
       "    </tr>\n",
       "    <tr>\n",
       "      <th>3</th>\n",
       "      <td>0.109589</td>\n",
       "      <td>0.580645</td>\n",
       "      <td>0.1</td>\n",
       "      <td>130000.0</td>\n",
       "      <td>2018</td>\n",
       "      <td>0</td>\n",
       "      <td>0.168839</td>\n",
       "      <td>0</td>\n",
       "      <td>0</td>\n",
       "      <td>0</td>\n",
       "      <td>...</td>\n",
       "      <td>0</td>\n",
       "      <td>0</td>\n",
       "      <td>0</td>\n",
       "      <td>0</td>\n",
       "      <td>0</td>\n",
       "      <td>0</td>\n",
       "      <td>0</td>\n",
       "      <td>0</td>\n",
       "      <td>0</td>\n",
       "      <td>0</td>\n",
       "    </tr>\n",
       "    <tr>\n",
       "      <th>4</th>\n",
       "      <td>0.082192</td>\n",
       "      <td>0.580645</td>\n",
       "      <td>0.1</td>\n",
       "      <td>117000.0</td>\n",
       "      <td>2018</td>\n",
       "      <td>0</td>\n",
       "      <td>0.168839</td>\n",
       "      <td>0</td>\n",
       "      <td>0</td>\n",
       "      <td>0</td>\n",
       "      <td>...</td>\n",
       "      <td>0</td>\n",
       "      <td>0</td>\n",
       "      <td>0</td>\n",
       "      <td>0</td>\n",
       "      <td>0</td>\n",
       "      <td>0</td>\n",
       "      <td>0</td>\n",
       "      <td>0</td>\n",
       "      <td>0</td>\n",
       "      <td>0</td>\n",
       "    </tr>\n",
       "  </tbody>\n",
       "</table>\n",
       "<p>5 rows × 84 columns</p>\n",
       "</div>"
      ],
      "text/plain": [
       "          층      건축년도  등기신청일자    target  계약년도  성수기여부      전용면적  중개거래  직거래  \\\n",
       "0  0.095890  0.580645     0.1  124000.0  2017      0  0.168839     0    0   \n",
       "1  0.109589  0.580645     0.1  123500.0  2017      0  0.168839     0    0   \n",
       "2  0.123288  0.580645     0.1   91500.0  2017      0  0.108520     0    0   \n",
       "3  0.109589  0.580645     0.1  130000.0  2018      0  0.168839     0    0   \n",
       "4  0.082192  0.580645     0.1  117000.0  2018      0  0.168839     0    0   \n",
       "\n",
       "   도시형 생활주택(아파트)  ...  구_성동구  구_성북구  구_송파구  구_양천구  구_영등포구  구_용산구  구_은평구  \\\n",
       "0              0  ...      0      0      0      0       0      0      0   \n",
       "1              0  ...      0      0      0      0       0      0      0   \n",
       "2              0  ...      0      0      0      0       0      0      0   \n",
       "3              0  ...      0      0      0      0       0      0      0   \n",
       "4              0  ...      0      0      0      0       0      0      0   \n",
       "\n",
       "   구_종로구  구_중구  구_중랑구  \n",
       "0      0     0      0  \n",
       "1      0     0      0  \n",
       "2      0     0      0  \n",
       "3      0     0      0  \n",
       "4      0     0      0  \n",
       "\n",
       "[5 rows x 84 columns]"
      ]
     },
     "execution_count": 870,
     "metadata": {},
     "output_type": "execute_result"
    }
   ],
   "source": [
    "dt_train.head(5)"
   ]
  },
  {
   "cell_type": "code",
   "execution_count": 871,
   "metadata": {},
   "outputs": [
    {
     "data": {
      "text/html": [
       "<div>\n",
       "<style scoped>\n",
       "    .dataframe tbody tr th:only-of-type {\n",
       "        vertical-align: middle;\n",
       "    }\n",
       "\n",
       "    .dataframe tbody tr th {\n",
       "        vertical-align: top;\n",
       "    }\n",
       "\n",
       "    .dataframe thead th {\n",
       "        text-align: right;\n",
       "    }\n",
       "</style>\n",
       "<table border=\"1\" class=\"dataframe\">\n",
       "  <thead>\n",
       "    <tr style=\"text-align: right;\">\n",
       "      <th></th>\n",
       "      <th>층</th>\n",
       "      <th>건축년도</th>\n",
       "      <th>등기신청일자</th>\n",
       "      <th>계약년도</th>\n",
       "      <th>성수기여부</th>\n",
       "      <th>전용면적</th>\n",
       "      <th>중개거래</th>\n",
       "      <th>직거래</th>\n",
       "      <th>도시형 생활주택(아파트)</th>\n",
       "      <th>도시형 생활주택(주상복합)</th>\n",
       "      <th>...</th>\n",
       "      <th>구_성동구</th>\n",
       "      <th>구_성북구</th>\n",
       "      <th>구_송파구</th>\n",
       "      <th>구_양천구</th>\n",
       "      <th>구_영등포구</th>\n",
       "      <th>구_용산구</th>\n",
       "      <th>구_은평구</th>\n",
       "      <th>구_종로구</th>\n",
       "      <th>구_중구</th>\n",
       "      <th>구_중랑구</th>\n",
       "    </tr>\n",
       "  </thead>\n",
       "  <tbody>\n",
       "    <tr>\n",
       "      <th>1118822</th>\n",
       "      <td>0.123288</td>\n",
       "      <td>0.580645</td>\n",
       "      <td>0.1</td>\n",
       "      <td>2023</td>\n",
       "      <td>1</td>\n",
       "      <td>0.168839</td>\n",
       "      <td>0</td>\n",
       "      <td>1</td>\n",
       "      <td>0</td>\n",
       "      <td>0</td>\n",
       "      <td>...</td>\n",
       "      <td>0</td>\n",
       "      <td>0</td>\n",
       "      <td>0</td>\n",
       "      <td>0</td>\n",
       "      <td>0</td>\n",
       "      <td>0</td>\n",
       "      <td>0</td>\n",
       "      <td>0</td>\n",
       "      <td>0</td>\n",
       "      <td>0</td>\n",
       "    </tr>\n",
       "    <tr>\n",
       "      <th>1118823</th>\n",
       "      <td>0.191781</td>\n",
       "      <td>0.032258</td>\n",
       "      <td>0.1</td>\n",
       "      <td>2023</td>\n",
       "      <td>1</td>\n",
       "      <td>0.236982</td>\n",
       "      <td>1</td>\n",
       "      <td>0</td>\n",
       "      <td>0</td>\n",
       "      <td>0</td>\n",
       "      <td>...</td>\n",
       "      <td>0</td>\n",
       "      <td>0</td>\n",
       "      <td>0</td>\n",
       "      <td>0</td>\n",
       "      <td>0</td>\n",
       "      <td>0</td>\n",
       "      <td>0</td>\n",
       "      <td>0</td>\n",
       "      <td>0</td>\n",
       "      <td>0</td>\n",
       "    </tr>\n",
       "    <tr>\n",
       "      <th>1118824</th>\n",
       "      <td>0.260274</td>\n",
       "      <td>0.629032</td>\n",
       "      <td>0.1</td>\n",
       "      <td>2023</td>\n",
       "      <td>1</td>\n",
       "      <td>0.364422</td>\n",
       "      <td>1</td>\n",
       "      <td>0</td>\n",
       "      <td>0</td>\n",
       "      <td>0</td>\n",
       "      <td>...</td>\n",
       "      <td>0</td>\n",
       "      <td>0</td>\n",
       "      <td>0</td>\n",
       "      <td>0</td>\n",
       "      <td>0</td>\n",
       "      <td>0</td>\n",
       "      <td>0</td>\n",
       "      <td>0</td>\n",
       "      <td>0</td>\n",
       "      <td>0</td>\n",
       "    </tr>\n",
       "    <tr>\n",
       "      <th>1118825</th>\n",
       "      <td>0.246575</td>\n",
       "      <td>0.629032</td>\n",
       "      <td>0.1</td>\n",
       "      <td>2023</td>\n",
       "      <td>1</td>\n",
       "      <td>0.297948</td>\n",
       "      <td>1</td>\n",
       "      <td>0</td>\n",
       "      <td>0</td>\n",
       "      <td>0</td>\n",
       "      <td>...</td>\n",
       "      <td>0</td>\n",
       "      <td>0</td>\n",
       "      <td>0</td>\n",
       "      <td>0</td>\n",
       "      <td>0</td>\n",
       "      <td>0</td>\n",
       "      <td>0</td>\n",
       "      <td>0</td>\n",
       "      <td>0</td>\n",
       "      <td>0</td>\n",
       "    </tr>\n",
       "    <tr>\n",
       "      <th>1118826</th>\n",
       "      <td>0.136986</td>\n",
       "      <td>0.629032</td>\n",
       "      <td>0.1</td>\n",
       "      <td>2023</td>\n",
       "      <td>1</td>\n",
       "      <td>0.227878</td>\n",
       "      <td>1</td>\n",
       "      <td>0</td>\n",
       "      <td>0</td>\n",
       "      <td>0</td>\n",
       "      <td>...</td>\n",
       "      <td>0</td>\n",
       "      <td>0</td>\n",
       "      <td>0</td>\n",
       "      <td>0</td>\n",
       "      <td>0</td>\n",
       "      <td>0</td>\n",
       "      <td>0</td>\n",
       "      <td>0</td>\n",
       "      <td>0</td>\n",
       "      <td>0</td>\n",
       "    </tr>\n",
       "  </tbody>\n",
       "</table>\n",
       "<p>5 rows × 83 columns</p>\n",
       "</div>"
      ],
      "text/plain": [
       "                층      건축년도  등기신청일자  계약년도  성수기여부      전용면적  중개거래  직거래  \\\n",
       "1118822  0.123288  0.580645     0.1  2023      1  0.168839     0    1   \n",
       "1118823  0.191781  0.032258     0.1  2023      1  0.236982     1    0   \n",
       "1118824  0.260274  0.629032     0.1  2023      1  0.364422     1    0   \n",
       "1118825  0.246575  0.629032     0.1  2023      1  0.297948     1    0   \n",
       "1118826  0.136986  0.629032     0.1  2023      1  0.227878     1    0   \n",
       "\n",
       "         도시형 생활주택(아파트)  도시형 생활주택(주상복합)  ...  구_성동구  구_성북구  구_송파구  구_양천구  \\\n",
       "1118822              0               0  ...      0      0      0      0   \n",
       "1118823              0               0  ...      0      0      0      0   \n",
       "1118824              0               0  ...      0      0      0      0   \n",
       "1118825              0               0  ...      0      0      0      0   \n",
       "1118826              0               0  ...      0      0      0      0   \n",
       "\n",
       "         구_영등포구  구_용산구  구_은평구  구_종로구  구_중구  구_중랑구  \n",
       "1118822       0      0      0      0     0      0  \n",
       "1118823       0      0      0      0     0      0  \n",
       "1118824       0      0      0      0     0      0  \n",
       "1118825       0      0      0      0     0      0  \n",
       "1118826       0      0      0      0     0      0  \n",
       "\n",
       "[5 rows x 83 columns]"
      ]
     },
     "execution_count": 871,
     "metadata": {},
     "output_type": "execute_result"
    }
   ],
   "source": [
    "dt_test.head(5)"
   ]
  },
  {
   "cell_type": "markdown",
   "metadata": {},
   "source": [
    "# 파일저장"
   ]
  },
  {
   "cell_type": "code",
   "execution_count": 872,
   "metadata": {},
   "outputs": [],
   "source": [
    "dt_train.to_csv('./train_ohe.csv', index=False)\n",
    "dt_test.to_csv('./test_ohe.csv', index=False)"
   ]
  },
  {
   "cell_type": "markdown",
   "metadata": {},
   "source": [
    "# EDA"
   ]
  },
  {
   "cell_type": "code",
   "execution_count": null,
   "metadata": {},
   "outputs": [
    {
     "name": "stdout",
     "output_type": "stream",
     "text": [
      "해제사유발생일의 결측치 비율 99.46524111967766%\n",
      "k-단지분류(아파트,주상복합등등)의 결측치 비율 77.8221200512682%\n",
      "k-전화번호의 결측치 비율 77.78484870694355%\n",
      "k-팩스번호의 결측치 비율 78.00543786232305%\n",
      "단지소개기존clob의 결측치 비율 93.87015986457185%\n",
      "k-세대타입(분양형태)의 결측치 비율 77.72129972417417%\n",
      "k-관리방식의 결측치 비율 77.72129972417417%\n",
      "k-복도유형의 결측치 비율 77.75052689346474%\n",
      "k-난방방식의 결측치 비율 77.72129972417417%\n",
      "k-전체동수의 결측치 비율 77.81666788818954%\n",
      "k-전체세대수의 결측치 비율 77.72129972417417%\n",
      "k-건설사(시공사)의 결측치 비율 77.85492240946282%\n",
      "k-시행사의 결측치 비율 77.87244083509263%\n",
      "k-사용검사일-사용승인일의 결측치 비율 77.73318722728013%\n",
      "k-연면적의 결측치 비율 77.72129972417417%\n",
      "k-주거전용면적의 결측치 비율 77.72532181169123%\n",
      "k-관리비부과면적의 결측치 비율 77.72129972417417%\n",
      "k-전용면적별세대현황(60㎡이하)의 결측치 비율 77.72532181169123%\n",
      "k-전용면적별세대현황(60㎡~85㎡이하)의 결측치 비율 77.72532181169123%\n",
      "k-85㎡~135㎡이하의 결측치 비율 77.72532181169123%\n",
      "k-135㎡초과의 결측치 비율 99.97077283070944%\n",
      "k-홈페이지의 결측치 비율 89.88444989462131%\n",
      "k-등록일자의 결측치 비율 99.01771684861399%\n",
      "k-수정일자의 결측치 비율 77.72532181169123%\n",
      "고용보험관리번호의 결측치 비율 81.63085817046858%\n",
      "경비비관리형태의 결측치 비율 77.84866582888074%\n",
      "세대전기계약방법의 결측치 비율 78.54216309654262%\n",
      "청소비관리형태의 결측치 비율 77.86564797617494%\n",
      "건축면적의 결측치 비율 77.73479606228693%\n",
      "주차대수의 결측치 비율 77.73479606228693%\n",
      "기타/의무/임대/임의=1/2/3/4의 결측치 비율 77.72129972417417%\n",
      "단지승인일의 결측치 비율 77.78592126361477%\n",
      "사용허가여부의 결측치 비율 77.72129972417417%\n",
      "관리비 업로드의 결측치 비율 77.72129972417417%\n",
      "좌표X의 결측치 비율 77.7308633544925%\n",
      "좌표Y의 결측치 비율 77.7308633544925%\n",
      "단지신청일의 결측치 비율 77.72684126697544%\n"
     ]
    }
   ],
   "source": [
    "rows = dt.shape[0]\n",
    "over70 = []\n",
    "over80 = []\n",
    "for col in dt.columns:\n",
    "    nand = (dt[col].isnull().sum() / rows) * 100\n",
    "    if nand >= 70:\n",
    "        over70.append(col)\n",
    "        print(f'{col}의 결측치 비율 {nand}%')\n",
    "    if nand >= 80:\n",
    "        over80.append(col)"
   ]
  },
  {
   "cell_type": "code",
   "execution_count": 10,
   "metadata": {},
   "outputs": [
    {
     "name": "stdout",
     "output_type": "stream",
     "text": [
      "37 6\n"
     ]
    }
   ],
   "source": [
    "print(len(over70), len(over80))"
   ]
  },
  {
   "cell_type": "code",
   "execution_count": 14,
   "metadata": {},
   "outputs": [
    {
     "data": {
      "text/plain": [
       "시군구                               서울특별시 강남구 개포동\n",
       "번지                                        658-1\n",
       "본번                                        658.0\n",
       "부번                                          1.0\n",
       "아파트명                                     개포6차우성\n",
       "전용면적(㎡)                                   79.97\n",
       "계약년월                                     201712\n",
       "계약일                                          22\n",
       "층                                             4\n",
       "건축년도                                       1987\n",
       "도로명                                       언주로 3\n",
       "해제사유발생일                                     NaN\n",
       "등기신청일자                                         \n",
       "거래유형                                          -\n",
       "중개사소재지                                        -\n",
       "k-단지분류(아파트,주상복합등등)                          아파트\n",
       "k-전화번호                                025776611\n",
       "k-팩스번호                                025776673\n",
       "단지소개기존clob                                  NaN\n",
       "k-세대타입(분양형태)                                 분양\n",
       "k-관리방식                                     자치관리\n",
       "k-복도유형                                      계단식\n",
       "k-난방방식                                     개별난방\n",
       "k-전체동수                                      8.0\n",
       "k-전체세대수                                   270.0\n",
       "k-건설사(시공사)                                 우성건설\n",
       "k-시행사                                        모름\n",
       "k-사용검사일-사용승인일             1987-11-21 00:00:00.0\n",
       "k-연면적                                   22637.0\n",
       "k-주거전용면적                                20204.0\n",
       "k-관리비부과면적                               22637.0\n",
       "k-전용면적별세대현황(60㎡이하)                         20.0\n",
       "k-전용면적별세대현황(60㎡~85㎡이하)                    250.0\n",
       "k-85㎡~135㎡이하                                0.0\n",
       "k-135㎡초과                                    NaN\n",
       "k-홈페이지                                      NaN\n",
       "k-등록일자                    2022-11-09 20:10:43.0\n",
       "k-수정일자                    2023-09-23 17:21:41.0\n",
       "고용보험관리번호                                    NaN\n",
       "경비비관리형태                                      직영\n",
       "세대전기계약방법                                   단일계약\n",
       "청소비관리형태                                      직영\n",
       "건축면적                                     4858.0\n",
       "주차대수                                      262.0\n",
       "기타/의무/임대/임의=1/2/3/4                          임의\n",
       "단지승인일                     2022-11-17 13:00:29.0\n",
       "사용허가여부                                        Y\n",
       "관리비 업로드                                       N\n",
       "좌표X                                   127.05721\n",
       "좌표Y                                   37.476763\n",
       "단지신청일                     2022-11-17 10:19:06.0\n",
       "target                                   123500\n",
       "Name: 1, dtype: object"
      ]
     },
     "execution_count": 14,
     "metadata": {},
     "output_type": "execute_result"
    }
   ],
   "source": [
    "dt.iloc[1]"
   ]
  },
  {
   "cell_type": "code",
   "execution_count": 24,
   "metadata": {},
   "outputs": [
    {
     "name": "stdout",
     "output_type": "stream",
     "text": [
      "40 60194\n"
     ]
    }
   ],
   "source": [
    "missing_values = dt.isnull().sum(axis=1)\n",
    "max_missing_row_index = missing_values.idxmax()\n",
    "print(missing_values.max(), max_missing_row_index)"
   ]
  },
  {
   "cell_type": "code",
   "execution_count": 19,
   "metadata": {},
   "outputs": [
    {
     "data": {
      "text/plain": [
       "40"
      ]
     },
     "execution_count": 19,
     "metadata": {},
     "output_type": "execute_result"
    }
   ],
   "source": [
    "dt.iloc[60194,].isnull().sum()"
   ]
  },
  {
   "cell_type": "code",
   "execution_count": 26,
   "metadata": {},
   "outputs": [
    {
     "data": {
      "text/plain": [
       "37    862769\n",
       "4     108088\n",
       "5      99730\n",
       "3      23652\n",
       "6      13478\n",
       "36      4619\n",
       "38      2100\n",
       "7       1796\n",
       "9       1083\n",
       "12       650\n",
       "8        478\n",
       "2        136\n",
       "40        75\n",
       "14        62\n",
       "11        61\n",
       "15        45\n",
       "dtype: int64"
      ]
     },
     "execution_count": 26,
     "metadata": {},
     "output_type": "execute_result"
    }
   ],
   "source": [
    "missing_values.value_counts()"
   ]
  },
  {
   "cell_type": "markdown",
   "metadata": {},
   "source": [
    "## 컬럼 제거\n"
   ]
  },
  {
   "cell_type": "code",
   "execution_count": 54,
   "metadata": {},
   "outputs": [
    {
     "data": {
      "text/plain": [
       "Index(['시군구', '전용면적(㎡)', '계약년월', '계약일', '층', '건축년도', '해제사유발생일', '등기신청일자',\n",
       "       '거래유형', 'k-단지분류(아파트,주상복합등등)', 'k-세대타입(분양형태)', 'k-관리방식', 'k-복도유형',\n",
       "       'k-난방방식', 'k-전체세대수', 'k-건설사(시공사)', 'k-시행사', 'k-사용검사일-사용승인일', 'k-주거전용면적',\n",
       "       'k-관리비부과면적', 'k-전용면적별세대현황(60㎡이하)', 'k-전용면적별세대현황(60㎡~85㎡이하)',\n",
       "       'k-85㎡~135㎡이하', 'k-135㎡초과', '경비비관리형태', '세대전기계약방법', '청소비관리형태', '건축면적',\n",
       "       '주차대수', '기타/의무/임대/임의=1/2/3/4', '단지승인일', '관리비 업로드', '좌표X', '좌표Y',\n",
       "       '단지신청일', 'target'],\n",
       "      dtype='object')"
      ]
     },
     "execution_count": 54,
     "metadata": {},
     "output_type": "execute_result"
    }
   ],
   "source": [
    "# 제거할 열 리스트\n",
    "columns_to_remove = ['아파트명', '도로명', '중개사소재지', '번지', '본번', '부번',\n",
    "                     'k-전화번호', 'k-팩스번호', '단지소개기존clob', 'k-전체동수',\n",
    "                     'k-연면적', 'k-홈페이지', 'k-등록일자', 'k-수정일자', '고용보험관리번호', \n",
    "                     '사용허가여부']\n",
    "\n",
    "# 특정 열들을 한번에 제거*\n",
    "dt_droped = dt.drop(columns=columns_to_remove)\n",
    "dt_droped.columns"
   ]
  },
  {
   "cell_type": "code",
   "execution_count": 55,
   "metadata": {},
   "outputs": [
    {
     "data": {
      "text/plain": [
       "(1118822, 36)"
      ]
     },
     "execution_count": 55,
     "metadata": {},
     "output_type": "execute_result"
    }
   ],
   "source": [
    "dt_droped.shape"
   ]
  },
  {
   "cell_type": "code",
   "execution_count": 56,
   "metadata": {},
   "outputs": [
    {
     "name": "stdout",
     "output_type": "stream",
     "text": [
      "27 975\n"
     ]
    }
   ],
   "source": [
    "missing_values = dt_droped.isnull().sum(axis=1)\n",
    "max_missing_row_index = missing_values.idxmax()\n",
    "print(missing_values.max(), max_missing_row_index)"
   ]
  },
  {
   "cell_type": "code",
   "execution_count": 57,
   "metadata": {},
   "outputs": [
    {
     "data": {
      "text/plain": [
       "27    864918\n",
       "26      4645\n",
       "11        62\n",
       "10        45\n",
       "6        787\n",
       "5        799\n",
       "4       1350\n",
       "3       8916\n",
       "2     236035\n",
       "1       1265\n",
       "dtype: int64"
      ]
     },
     "execution_count": 57,
     "metadata": {},
     "output_type": "execute_result"
    }
   ],
   "source": [
    "missing_values.value_counts().sort_index(ascending=False)"
   ]
  },
  {
   "cell_type": "markdown",
   "metadata": {},
   "source": [
    "## 결측치 비율에 따른 행 제거\n"
   ]
  },
  {
   "cell_type": "code",
   "execution_count": 58,
   "metadata": {},
   "outputs": [],
   "source": [
    "threshold = 27  # 결측치 개수\n",
    "\n",
    "# 각 행에 대해 결측치 개수를 계산하고, threshold 이상의 결측치를 가진 행을 삭제\n",
    "dt_cleaned = dt_droped[dt_droped.isnull().sum(axis=1) < threshold]"
   ]
  },
  {
   "cell_type": "code",
   "execution_count": 59,
   "metadata": {},
   "outputs": [
    {
     "data": {
      "text/plain": [
       "(253904, 36)"
      ]
     },
     "execution_count": 59,
     "metadata": {},
     "output_type": "execute_result"
    }
   ],
   "source": [
    "dt_cleaned.shape"
   ]
  },
  {
   "cell_type": "code",
   "execution_count": 60,
   "metadata": {},
   "outputs": [
    {
     "data": {
      "text/plain": [
       "시군구                            0\n",
       "전용면적(㎡)                        0\n",
       "계약년월                           0\n",
       "계약일                            0\n",
       "층                              0\n",
       "건축년도                           0\n",
       "해제사유발생일                   247921\n",
       "등기신청일자                         0\n",
       "거래유형                           0\n",
       "k-단지분류(아파트,주상복합등등)          5773\n",
       "k-세대타입(분양형태)                4645\n",
       "k-관리방식                      4645\n",
       "k-복도유형                      4972\n",
       "k-난방방식                      4645\n",
       "k-전체세대수                     4645\n",
       "k-건설사(시공사)                  6140\n",
       "k-시행사                       6336\n",
       "k-사용검사일-사용승인일               4778\n",
       "k-주거전용면적                    4690\n",
       "k-관리비부과면적                   4645\n",
       "k-전용면적별세대현황(60㎡이하)          4690\n",
       "k-전용면적별세대현황(60㎡~85㎡이하)      4690\n",
       "k-85㎡~135㎡이하                4690\n",
       "k-135㎡초과                  253577\n",
       "경비비관리형태                     6070\n",
       "세대전기계약방법                   13829\n",
       "청소비관리형태                     6260\n",
       "건축면적                        4796\n",
       "주차대수                        4796\n",
       "기타/의무/임대/임의=1/2/3/4         4645\n",
       "단지승인일                       5368\n",
       "관리비 업로드                     4645\n",
       "좌표X                         4752\n",
       "좌표Y                         4752\n",
       "단지신청일                       4707\n",
       "target                         0\n",
       "dtype: int64"
      ]
     },
     "execution_count": 60,
     "metadata": {},
     "output_type": "execute_result"
    }
   ],
   "source": [
    "dt_cleaned.isnull().sum()"
   ]
  },
  {
   "cell_type": "code",
   "execution_count": 61,
   "metadata": {},
   "outputs": [
    {
     "name": "stdout",
     "output_type": "stream",
     "text": [
      "연속형 변수: ['전용면적(㎡)', '계약년월', '계약일', '층', '건축년도', '해제사유발생일', 'k-전체세대수', 'k-주거전용면적', 'k-관리비부과면적', 'k-전용면적별세대현황(60㎡이하)', 'k-전용면적별세대현황(60㎡~85㎡이하)', 'k-85㎡~135㎡이하', 'k-135㎡초과', '건축면적', '주차대수', '좌표X', '좌표Y', 'target']\n",
      "범주형 변수: ['시군구', '등기신청일자', '거래유형', 'k-단지분류(아파트,주상복합등등)', 'k-세대타입(분양형태)', 'k-관리방식', 'k-복도유형', 'k-난방방식', 'k-건설사(시공사)', 'k-시행사', 'k-사용검사일-사용승인일', '경비비관리형태', '세대전기계약방법', '청소비관리형태', '기타/의무/임대/임의=1/2/3/4', '단지승인일', '관리비 업로드', '단지신청일']\n"
     ]
    }
   ],
   "source": [
    "# 파생변수 제작으로 추가된 변수들이 존재하기에, 다시한번 연속형과 범주형 칼럼을 분리해주겠습니다.\n",
    "continuous_columns_v2 = []\n",
    "categorical_columns_v2 = []\n",
    "\n",
    "for column in dt_cleaned.columns:\n",
    "    if pd.api.types.is_numeric_dtype(dt_cleaned[column]):\n",
    "        continuous_columns_v2.append(column)\n",
    "    else:\n",
    "        categorical_columns_v2.append(column)\n",
    "\n",
    "print(\"연속형 변수:\", continuous_columns_v2)\n",
    "print(\"범주형 변수:\", categorical_columns_v2)"
   ]
  },
  {
   "cell_type": "markdown",
   "metadata": {},
   "source": [
    "---\n",
    "\n",
    "구분선\n",
    "\n",
    "---\n"
   ]
  },
  {
   "cell_type": "code",
   "execution_count": 37,
   "metadata": {},
   "outputs": [
    {
     "data": {
      "text/html": [
       "<div>\n",
       "<style scoped>\n",
       "    .dataframe tbody tr th:only-of-type {\n",
       "        vertical-align: middle;\n",
       "    }\n",
       "\n",
       "    .dataframe tbody tr th {\n",
       "        vertical-align: top;\n",
       "    }\n",
       "\n",
       "    .dataframe thead th {\n",
       "        text-align: right;\n",
       "    }\n",
       "</style>\n",
       "<table border=\"1\" class=\"dataframe\">\n",
       "  <thead>\n",
       "    <tr style=\"text-align: right;\">\n",
       "      <th></th>\n",
       "      <th>k-전용면적별세대현황(60㎡이하)</th>\n",
       "      <th>k-전용면적별세대현황(60㎡~85㎡이하)</th>\n",
       "      <th>k-85㎡~135㎡이하</th>\n",
       "      <th>k-135㎡초과</th>\n",
       "    </tr>\n",
       "  </thead>\n",
       "  <tbody>\n",
       "    <tr>\n",
       "      <th>571126</th>\n",
       "      <td>264.0</td>\n",
       "      <td>327.0</td>\n",
       "      <td>0.0</td>\n",
       "      <td>NaN</td>\n",
       "    </tr>\n",
       "    <tr>\n",
       "      <th>93311</th>\n",
       "      <td>0.0</td>\n",
       "      <td>106.0</td>\n",
       "      <td>142.0</td>\n",
       "      <td>NaN</td>\n",
       "    </tr>\n",
       "    <tr>\n",
       "      <th>1102543</th>\n",
       "      <td>206.0</td>\n",
       "      <td>152.0</td>\n",
       "      <td>119.0</td>\n",
       "      <td>NaN</td>\n",
       "    </tr>\n",
       "    <tr>\n",
       "      <th>954333</th>\n",
       "      <td>0.0</td>\n",
       "      <td>327.0</td>\n",
       "      <td>476.0</td>\n",
       "      <td>NaN</td>\n",
       "    </tr>\n",
       "    <tr>\n",
       "      <th>1008928</th>\n",
       "      <td>118.0</td>\n",
       "      <td>104.0</td>\n",
       "      <td>0.0</td>\n",
       "      <td>NaN</td>\n",
       "    </tr>\n",
       "    <tr>\n",
       "      <th>854897</th>\n",
       "      <td>184.0</td>\n",
       "      <td>282.0</td>\n",
       "      <td>304.0</td>\n",
       "      <td>NaN</td>\n",
       "    </tr>\n",
       "    <tr>\n",
       "      <th>406641</th>\n",
       "      <td>0.0</td>\n",
       "      <td>0.0</td>\n",
       "      <td>564.0</td>\n",
       "      <td>NaN</td>\n",
       "    </tr>\n",
       "    <tr>\n",
       "      <th>530206</th>\n",
       "      <td>225.0</td>\n",
       "      <td>142.0</td>\n",
       "      <td>0.0</td>\n",
       "      <td>NaN</td>\n",
       "    </tr>\n",
       "    <tr>\n",
       "      <th>623860</th>\n",
       "      <td>0.0</td>\n",
       "      <td>197.0</td>\n",
       "      <td>0.0</td>\n",
       "      <td>NaN</td>\n",
       "    </tr>\n",
       "    <tr>\n",
       "      <th>532539</th>\n",
       "      <td>44.0</td>\n",
       "      <td>202.0</td>\n",
       "      <td>246.0</td>\n",
       "      <td>NaN</td>\n",
       "    </tr>\n",
       "  </tbody>\n",
       "</table>\n",
       "</div>"
      ],
      "text/plain": [
       "         k-전용면적별세대현황(60㎡이하)  k-전용면적별세대현황(60㎡~85㎡이하)  k-85㎡~135㎡이하  k-135㎡초과\n",
       "571126                264.0                   327.0           0.0       NaN\n",
       "93311                   0.0                   106.0         142.0       NaN\n",
       "1102543               206.0                   152.0         119.0       NaN\n",
       "954333                  0.0                   327.0         476.0       NaN\n",
       "1008928               118.0                   104.0           0.0       NaN\n",
       "854897                184.0                   282.0         304.0       NaN\n",
       "406641                  0.0                     0.0         564.0       NaN\n",
       "530206                225.0                   142.0           0.0       NaN\n",
       "623860                  0.0                   197.0           0.0       NaN\n",
       "532539                 44.0                   202.0         246.0       NaN"
      ]
     },
     "execution_count": 37,
     "metadata": {},
     "output_type": "execute_result"
    }
   ],
   "source": [
    "dt_cleaned[['k-전용면적별세대현황(60㎡이하)', 'k-전용면적별세대현황(60㎡~85㎡이하)', 'k-85㎡~135㎡이하','k-135㎡초과' ]].sample(10)"
   ]
  },
  {
   "cell_type": "code",
   "execution_count": 41,
   "metadata": {},
   "outputs": [
    {
     "data": {
      "text/plain": [
       "93602    70.0\n",
       "93603    70.0\n",
       "93604    70.0\n",
       "93605    70.0\n",
       "93606    70.0\n",
       "Name: k-135㎡초과, dtype: float64"
      ]
     },
     "execution_count": 41,
     "metadata": {},
     "output_type": "execute_result"
    }
   ],
   "source": [
    "dt_cleaned.loc[dt_cleaned['k-135㎡초과'].notna() == True]['k-135㎡초과'].head(5)"
   ]
  }
 ],
 "metadata": {
  "kernelspec": {
   "display_name": "gogetter",
   "language": "python",
   "name": "python3"
  },
  "language_info": {
   "codemirror_mode": {
    "name": "ipython",
    "version": 3
   },
   "file_extension": ".py",
   "mimetype": "text/x-python",
   "name": "python",
   "nbconvert_exporter": "python",
   "pygments_lexer": "ipython3",
   "version": "3.10.13"
  }
 },
 "nbformat": 4,
 "nbformat_minor": 2
}
