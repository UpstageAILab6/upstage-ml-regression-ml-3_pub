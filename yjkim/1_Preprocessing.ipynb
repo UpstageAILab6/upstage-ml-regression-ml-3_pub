{
 "cells": [
  {
   "cell_type": "markdown",
   "metadata": {},
   "source": [
    "## Import"
   ]
  },
  {
   "cell_type": "code",
   "execution_count": 138,
   "metadata": {},
   "outputs": [],
   "source": [
    "# visualization\n",
    "import matplotlib.pyplot as plt\n",
    "import matplotlib.font_manager as fm\n",
    "fe = fm.FontEntry(\n",
    "    fname=r'/usr/share/fonts/truetype/nanum/NanumGothic.ttf', # ttf 파일이 저장되어 있는 경로\n",
    "    name='NanumBarunGothic')                        # 이 폰트의 원하는 이름 설정\n",
    "fm.fontManager.ttflist.insert(0, fe)              # Matplotlib에 폰트 추가\n",
    "plt.rcParams.update({'font.size': 10, 'font.family': 'NanumBarunGothic'}) # 폰트 설정\n",
    "plt.rc('font', family='NanumBarunGothic')\n",
    "import seaborn as sns\n",
    "\n",
    "# utils\n",
    "import pandas as pd\n",
    "import numpy as np\n",
    "from tqdm import tqdm\n",
    "import pickle\n",
    "import warnings;warnings.filterwarnings('ignore')\n",
    "\n",
    "# Model\n",
    "from sklearn.preprocessing import LabelEncoder\n",
    "from sklearn.model_selection import train_test_split\n",
    "from sklearn.metrics import mean_squared_error\n",
    "from sklearn.ensemble import RandomForestRegressor\n",
    "from sklearn import metrics\n",
    "\n",
    "import eli5\n",
    "from eli5.sklearn import PermutationImportance\n",
    "from sklearn.preprocessing import MinMaxScaler"
   ]
  },
  {
   "cell_type": "markdown",
   "metadata": {},
   "source": [
    "## Data Load"
   ]
  },
  {
   "cell_type": "code",
   "execution_count": 139,
   "metadata": {},
   "outputs": [],
   "source": [
    "# 필요한 데이터를 load 하겠습니다. 경로는 환경에 맞게 지정해주면 됩니다.\n",
    "train_path = '/data/ephemeral/home/data/train.csv'\n",
    "test_path  = '/data/ephemeral/home/data/test.csv'\n",
    "dt = pd.read_csv(train_path)\n",
    "dt_test = pd.read_csv(test_path)"
   ]
  },
  {
   "cell_type": "code",
   "execution_count": 140,
   "metadata": {},
   "outputs": [
    {
     "data": {
      "text/plain": [
       "array([202307, 202308, 202309])"
      ]
     },
     "execution_count": 140,
     "metadata": {},
     "output_type": "execute_result"
    }
   ],
   "source": [
    "dt_test['계약년월'].unique()"
   ]
  },
  {
   "cell_type": "code",
   "execution_count": 141,
   "metadata": {},
   "outputs": [
    {
     "data": {
      "text/plain": [
       "Index(['시군구', '번지', '본번', '부번', '아파트명', '전용면적(㎡)', '계약년월', '계약일', '층', '건축년도',\n",
       "       '도로명', '해제사유발생일', '등기신청일자', '거래유형', '중개사소재지', 'k-단지분류(아파트,주상복합등등)',\n",
       "       'k-전화번호', 'k-팩스번호', '단지소개기존clob', 'k-세대타입(분양형태)', 'k-관리방식', 'k-복도유형',\n",
       "       'k-난방방식', 'k-전체동수', 'k-전체세대수', 'k-건설사(시공사)', 'k-시행사', 'k-사용검사일-사용승인일',\n",
       "       'k-연면적', 'k-주거전용면적', 'k-관리비부과면적', 'k-전용면적별세대현황(60㎡이하)',\n",
       "       'k-전용면적별세대현황(60㎡~85㎡이하)', 'k-85㎡~135㎡이하', 'k-135㎡초과', 'k-홈페이지',\n",
       "       'k-등록일자', 'k-수정일자', '고용보험관리번호', '경비비관리형태', '세대전기계약방법', '청소비관리형태',\n",
       "       '건축면적', '주차대수', '기타/의무/임대/임의=1/2/3/4', '단지승인일', '사용허가여부', '관리비 업로드',\n",
       "       '좌표X', '좌표Y', '단지신청일', 'target'],\n",
       "      dtype='object')"
      ]
     },
     "execution_count": 141,
     "metadata": {},
     "output_type": "execute_result"
    }
   ],
   "source": [
    "dt.columns"
   ]
  },
  {
   "cell_type": "code",
   "execution_count": 142,
   "metadata": {},
   "outputs": [
    {
     "data": {
      "text/plain": [
       "Index(['시군구', '번지', '본번', '부번', '아파트명', '전용면적(㎡)', '계약년월', '계약일', '층', '건축년도',\n",
       "       '도로명', '해제사유발생일', '등기신청일자', '거래유형', '중개사소재지', 'k-단지분류(아파트,주상복합등등)',\n",
       "       'k-전화번호', 'k-팩스번호', '단지소개기존clob', 'k-세대타입(분양형태)', 'k-관리방식', 'k-복도유형',\n",
       "       'k-난방방식', 'k-전체동수', 'k-전체세대수', 'k-건설사(시공사)', 'k-시행사', 'k-사용검사일-사용승인일',\n",
       "       'k-연면적', 'k-주거전용면적', 'k-관리비부과면적', 'k-전용면적별세대현황(60㎡이하)',\n",
       "       'k-전용면적별세대현황(60㎡~85㎡이하)', 'k-85㎡~135㎡이하', 'k-135㎡초과', 'k-홈페이지',\n",
       "       'k-등록일자', 'k-수정일자', '고용보험관리번호', '경비비관리형태', '세대전기계약방법', '청소비관리형태',\n",
       "       '건축면적', '주차대수', '기타/의무/임대/임의=1/2/3/4', '단지승인일', '사용허가여부', '관리비 업로드',\n",
       "       '좌표X', '좌표Y', '단지신청일'],\n",
       "      dtype='object')"
      ]
     },
     "execution_count": 142,
     "metadata": {},
     "output_type": "execute_result"
    }
   ],
   "source": [
    "dt_test.columns"
   ]
  },
  {
   "cell_type": "code",
   "execution_count": 143,
   "metadata": {},
   "outputs": [],
   "source": [
    "# dt.iloc[1118821,:]\n",
    "# dt_test.iloc[0,:]\n",
    "# dt = pd.concat([dt,dt_test], axis = 0)\n",
    "# dt.iloc[1118821,:]\n",
    "# dt.iloc[1118822,:]"
   ]
  },
  {
   "cell_type": "code",
   "execution_count": 144,
   "metadata": {},
   "outputs": [
    {
     "data": {
      "text/plain": [
       "object     29\n",
       "float64    18\n",
       "int64       5\n",
       "dtype: int64"
      ]
     },
     "execution_count": 144,
     "metadata": {},
     "output_type": "execute_result"
    }
   ],
   "source": [
    "dt.dtypes.value_counts()"
   ]
  },
  {
   "cell_type": "code",
   "execution_count": 145,
   "metadata": {},
   "outputs": [
    {
     "data": {
      "text/plain": [
       "Index(['시군구', '번지', '본번', '부번', '아파트명', '전용면적(㎡)', '계약년월', '계약일', '층', '건축년도',\n",
       "       '도로명', '해제사유발생일', '등기신청일자', '거래유형', '중개사소재지', 'k-단지분류(아파트,주상복합등등)',\n",
       "       'k-전화번호', 'k-팩스번호', '단지소개기존clob', 'k-세대타입(분양형태)', 'k-관리방식', 'k-복도유형',\n",
       "       'k-난방방식', 'k-전체동수', 'k-전체세대수', 'k-건설사(시공사)', 'k-시행사', 'k-사용검사일-사용승인일',\n",
       "       'k-연면적', 'k-주거전용면적', 'k-관리비부과면적', 'k-전용면적별세대현황(60㎡이하)',\n",
       "       'k-전용면적별세대현황(60㎡~85㎡이하)', 'k-85㎡~135㎡이하', 'k-135㎡초과', 'k-홈페이지',\n",
       "       'k-등록일자', 'k-수정일자', '고용보험관리번호', '경비비관리형태', '세대전기계약방법', '청소비관리형태',\n",
       "       '건축면적', '주차대수', '기타/의무/임대/임의=1/2/3/4', '단지승인일', '사용허가여부', '관리비 업로드',\n",
       "       '좌표X', '좌표Y', '단지신청일', 'target'],\n",
       "      dtype='object')"
      ]
     },
     "execution_count": 145,
     "metadata": {},
     "output_type": "execute_result"
    }
   ],
   "source": [
    "dt.columns"
   ]
  },
  {
   "cell_type": "markdown",
   "metadata": {},
   "source": [
    "## Drop columns"
   ]
  },
  {
   "cell_type": "code",
   "execution_count": 146,
   "metadata": {},
   "outputs": [],
   "source": [
    "dt.drop(columns=['아파트명', '번지', '본번', '부번', '계약일', '도로명', '중개사소재지', 'k-전화번호','k-팩스번호',\n",
    "                 '단지소개기존clob','k-전체동수','k-전체세대수','k-건설사(시공사)',\n",
    "                 'k-시행사','k-연면적','k-주거전용면적','k-관리비부과면적','k-홈페이지','k-등록일자','k-수정일자','해제사유발생일','k-사용검사일-사용승인일',\n",
    "                 '고용보험관리번호','건축면적','주차대수','단지승인일','사용허가여부','관리비 업로드','단지신청일','좌표X', '좌표Y'], inplace=True)\n",
    "dt_test.drop(columns=['아파트명', '번지', '본번', '부번', '계약일', '도로명', '중개사소재지', 'k-전화번호','k-팩스번호',\n",
    "                 '단지소개기존clob','k-전체동수','k-전체세대수','k-건설사(시공사)',\n",
    "                 'k-시행사','k-연면적','k-주거전용면적','k-관리비부과면적','k-홈페이지','k-등록일자','k-수정일자','해제사유발생일','k-사용검사일-사용승인일',\n",
    "                 '고용보험관리번호','건축면적','주차대수','단지승인일','사용허가여부','관리비 업로드','단지신청일','좌표X', '좌표Y'], inplace=True)"
   ]
  },
  {
   "cell_type": "code",
   "execution_count": 147,
   "metadata": {},
   "outputs": [
    {
     "data": {
      "text/plain": [
       "Index(['시군구', '전용면적(㎡)', '계약년월', '층', '건축년도', '등기신청일자', '거래유형',\n",
       "       'k-단지분류(아파트,주상복합등등)', 'k-세대타입(분양형태)', 'k-관리방식', 'k-복도유형', 'k-난방방식',\n",
       "       'k-전용면적별세대현황(60㎡이하)', 'k-전용면적별세대현황(60㎡~85㎡이하)', 'k-85㎡~135㎡이하',\n",
       "       'k-135㎡초과', '경비비관리형태', '세대전기계약방법', '청소비관리형태', '기타/의무/임대/임의=1/2/3/4',\n",
       "       'target'],\n",
       "      dtype='object')"
      ]
     },
     "execution_count": 147,
     "metadata": {},
     "output_type": "execute_result"
    }
   ],
   "source": [
    "dt.columns"
   ]
  },
  {
   "cell_type": "code",
   "execution_count": 148,
   "metadata": {},
   "outputs": [
    {
     "name": "stdout",
     "output_type": "stream",
     "text": [
      "연속형 변수: ['전용면적(㎡)', '계약년월', '층', '건축년도', 'k-전용면적별세대현황(60㎡이하)', 'k-전용면적별세대현황(60㎡~85㎡이하)', 'k-85㎡~135㎡이하', 'k-135㎡초과', 'target']\n",
      "범주형 변수: ['시군구', '등기신청일자', '거래유형', 'k-단지분류(아파트,주상복합등등)', 'k-세대타입(분양형태)', 'k-관리방식', 'k-복도유형', 'k-난방방식', '경비비관리형태', '세대전기계약방법', '청소비관리형태', '기타/의무/임대/임의=1/2/3/4']\n"
     ]
    }
   ],
   "source": [
    "# 파생변수 제작으로 추가된 변수들이 존재하기에, 다시한번 연속형과 범주형 칼럼을 분리해주겠습니다.\n",
    "continuous_columns = []\n",
    "categorical_columns = []\n",
    "\n",
    "for column in dt.columns:\n",
    "    if pd.api.types.is_numeric_dtype(dt[column]):\n",
    "        continuous_columns.append(column)\n",
    "    else:\n",
    "        categorical_columns.append(column)\n",
    "\n",
    "print(\"연속형 변수:\", continuous_columns)\n",
    "print(\"범주형 변수:\", categorical_columns)"
   ]
  },
  {
   "cell_type": "markdown",
   "metadata": {},
   "source": [
    "# 결측치 처리\n"
   ]
  },
  {
   "cell_type": "markdown",
   "metadata": {},
   "source": [
    "### 결측치가 있는 행 제거\n"
   ]
  },
  {
   "cell_type": "code",
   "execution_count": 149,
   "metadata": {},
   "outputs": [
    {
     "name": "stdout",
     "output_type": "stream",
     "text": [
      "13\n"
     ]
    }
   ],
   "source": [
    "missing_count = dt.isnull().sum(axis=1)\n",
    "print(max(missing_count))"
   ]
  },
  {
   "cell_type": "code",
   "execution_count": 150,
   "metadata": {},
   "outputs": [
    {
     "data": {
      "image/png": "[encoded data removed]",
      "text/plain": [
       "<Figure size 800x600 with 1 Axes>"
      ]
     },
     "metadata": {},
     "output_type": "display_data"
    }
   ],
   "source": [
    "plt.figure(figsize=(8, 6))\n",
    "plt.scatter(missing_count, range(len(missing_count)), color='blue', alpha=0.7)\n",
    "plt.title('Scatter Plot of Missing Value Counts by Row', fontsize=14)\n",
    "plt.xlabel('Row Index', fontsize=12)\n",
    "plt.ylabel('Missing Count', fontsize=12)\n",
    "plt.grid(alpha=0.5)\n",
    "plt.show()"
   ]
  },
  {
   "cell_type": "code",
   "execution_count": 151,
   "metadata": {},
   "outputs": [
    {
     "data": {
      "text/plain": [
       "(1118822, 21)"
      ]
     },
     "execution_count": 151,
     "metadata": {},
     "output_type": "execute_result"
    }
   ],
   "source": [
    "threshold = 15  # 결측치 개수\n",
    "\n",
    "# 각 행에 대해 결측치 개수를 계산하고, threshold 이상의 결측치를 가진 행을 삭제\n",
    "dt = dt[dt.isnull().sum(axis=1) < threshold]\n",
    "dt.shape"
   ]
  },
  {
   "cell_type": "code",
   "execution_count": 152,
   "metadata": {},
   "outputs": [
    {
     "data": {
      "text/plain": [
       "Index(['시군구', '전용면적(㎡)', '계약년월', '층', '건축년도', '등기신청일자', '거래유형',\n",
       "       'k-단지분류(아파트,주상복합등등)', 'k-세대타입(분양형태)', 'k-관리방식', 'k-복도유형', 'k-난방방식',\n",
       "       'k-전용면적별세대현황(60㎡이하)', 'k-전용면적별세대현황(60㎡~85㎡이하)', 'k-85㎡~135㎡이하',\n",
       "       'k-135㎡초과', '경비비관리형태', '세대전기계약방법', '청소비관리형태', '기타/의무/임대/임의=1/2/3/4',\n",
       "       'target'],\n",
       "      dtype='object')"
      ]
     },
     "execution_count": 152,
     "metadata": {},
     "output_type": "execute_result"
    }
   ],
   "source": [
    "dt.columns"
   ]
  },
  {
   "cell_type": "markdown",
   "metadata": {},
   "source": [
    "## Train + Test Concat"
   ]
  },
  {
   "cell_type": "code",
   "execution_count": 153,
   "metadata": {},
   "outputs": [],
   "source": [
    "dt = pd.concat([dt,dt_test], axis = 0).reset_index(drop=True) # test 데이터는 9272개 [-9272:]"
   ]
  },
  {
   "cell_type": "code",
   "execution_count": 154,
   "metadata": {},
   "outputs": [
    {
     "data": {
      "text/plain": [
       "(1128094, 21)"
      ]
     },
     "execution_count": 154,
     "metadata": {},
     "output_type": "execute_result"
    }
   ],
   "source": [
    "dt.shape"
   ]
  },
  {
   "cell_type": "markdown",
   "metadata": {},
   "source": [
    "# 데이터 변환"
   ]
  },
  {
   "cell_type": "markdown",
   "metadata": {},
   "source": [
    "### split 시군구\n"
   ]
  },
  {
   "cell_type": "code",
   "execution_count": 155,
   "metadata": {},
   "outputs": [
    {
     "data": {
      "text/html": [
       "<div>\n",
       "<style scoped>\n",
       "    .dataframe tbody tr th:only-of-type {\n",
       "        vertical-align: middle;\n",
       "    }\n",
       "\n",
       "    .dataframe tbody tr th {\n",
       "        vertical-align: top;\n",
       "    }\n",
       "\n",
       "    .dataframe thead th {\n",
       "        text-align: right;\n",
       "    }\n",
       "</style>\n",
       "<table border=\"1\" class=\"dataframe\">\n",
       "  <thead>\n",
       "    <tr style=\"text-align: right;\">\n",
       "      <th></th>\n",
       "      <th>구</th>\n",
       "      <th>동</th>\n",
       "    </tr>\n",
       "  </thead>\n",
       "  <tbody>\n",
       "    <tr>\n",
       "      <th>1108302</th>\n",
       "      <td>성북구</td>\n",
       "      <td>정릉동</td>\n",
       "    </tr>\n",
       "    <tr>\n",
       "      <th>150059</th>\n",
       "      <td>강서구</td>\n",
       "      <td>염창동</td>\n",
       "    </tr>\n",
       "    <tr>\n",
       "      <th>84670</th>\n",
       "      <td>영등포구</td>\n",
       "      <td>양평동3가</td>\n",
       "    </tr>\n",
       "    <tr>\n",
       "      <th>350478</th>\n",
       "      <td>마포구</td>\n",
       "      <td>창전동</td>\n",
       "    </tr>\n",
       "    <tr>\n",
       "      <th>60285</th>\n",
       "      <td>서초구</td>\n",
       "      <td>양재동</td>\n",
       "    </tr>\n",
       "    <tr>\n",
       "      <th>870095</th>\n",
       "      <td>노원구</td>\n",
       "      <td>월계동</td>\n",
       "    </tr>\n",
       "    <tr>\n",
       "      <th>621134</th>\n",
       "      <td>송파구</td>\n",
       "      <td>방이동</td>\n",
       "    </tr>\n",
       "    <tr>\n",
       "      <th>584132</th>\n",
       "      <td>노원구</td>\n",
       "      <td>중계동</td>\n",
       "    </tr>\n",
       "    <tr>\n",
       "      <th>291093</th>\n",
       "      <td>중구</td>\n",
       "      <td>회현동2가</td>\n",
       "    </tr>\n",
       "    <tr>\n",
       "      <th>279622</th>\n",
       "      <td>성북구</td>\n",
       "      <td>정릉동</td>\n",
       "    </tr>\n",
       "    <tr>\n",
       "      <th>644323</th>\n",
       "      <td>중랑구</td>\n",
       "      <td>상봉동</td>\n",
       "    </tr>\n",
       "    <tr>\n",
       "      <th>88510</th>\n",
       "      <td>은평구</td>\n",
       "      <td>녹번동</td>\n",
       "    </tr>\n",
       "    <tr>\n",
       "      <th>406796</th>\n",
       "      <td>구로구</td>\n",
       "      <td>신도림동</td>\n",
       "    </tr>\n",
       "    <tr>\n",
       "      <th>280129</th>\n",
       "      <td>성북구</td>\n",
       "      <td>하월곡동</td>\n",
       "    </tr>\n",
       "    <tr>\n",
       "      <th>450756</th>\n",
       "      <td>강동구</td>\n",
       "      <td>명일동</td>\n",
       "    </tr>\n",
       "    <tr>\n",
       "      <th>694654</th>\n",
       "      <td>도봉구</td>\n",
       "      <td>도봉동</td>\n",
       "    </tr>\n",
       "    <tr>\n",
       "      <th>775386</th>\n",
       "      <td>강서구</td>\n",
       "      <td>등촌동</td>\n",
       "    </tr>\n",
       "    <tr>\n",
       "      <th>1113551</th>\n",
       "      <td>영등포구</td>\n",
       "      <td>영등포동7가</td>\n",
       "    </tr>\n",
       "    <tr>\n",
       "      <th>628811</th>\n",
       "      <td>양천구</td>\n",
       "      <td>신정동</td>\n",
       "    </tr>\n",
       "    <tr>\n",
       "      <th>371470</th>\n",
       "      <td>송파구</td>\n",
       "      <td>장지동</td>\n",
       "    </tr>\n",
       "  </tbody>\n",
       "</table>\n",
       "</div>"
      ],
      "text/plain": [
       "            구       동\n",
       "1108302   성북구     정릉동\n",
       "150059    강서구     염창동\n",
       "84670    영등포구   양평동3가\n",
       "350478    마포구     창전동\n",
       "60285     서초구     양재동\n",
       "870095    노원구     월계동\n",
       "621134    송파구     방이동\n",
       "584132    노원구     중계동\n",
       "291093     중구   회현동2가\n",
       "279622    성북구     정릉동\n",
       "644323    중랑구     상봉동\n",
       "88510     은평구     녹번동\n",
       "406796    구로구    신도림동\n",
       "280129    성북구    하월곡동\n",
       "450756    강동구     명일동\n",
       "694654    도봉구     도봉동\n",
       "775386    강서구     등촌동\n",
       "1113551  영등포구  영등포동7가\n",
       "628811    양천구     신정동\n",
       "371470    송파구     장지동"
      ]
     },
     "execution_count": 155,
     "metadata": {},
     "output_type": "execute_result"
    }
   ],
   "source": [
    "split_df = dt['시군구'].str.split(' ', expand=True)\n",
    "split_df.columns = ['시', '구', '동'] \n",
    "split_df.drop(columns='시', inplace=True)\n",
    "split_df.sample(20)"
   ]
  },
  {
   "cell_type": "code",
   "execution_count": 156,
   "metadata": {},
   "outputs": [
    {
     "data": {
      "text/plain": [
       "Index(['전용면적(㎡)', '계약년월', '층', '건축년도', '등기신청일자', '거래유형', 'k-단지분류(아파트,주상복합등등)',\n",
       "       'k-세대타입(분양형태)', 'k-관리방식', 'k-복도유형', 'k-난방방식', 'k-전용면적별세대현황(60㎡이하)',\n",
       "       'k-전용면적별세대현황(60㎡~85㎡이하)', 'k-85㎡~135㎡이하', 'k-135㎡초과', '경비비관리형태',\n",
       "       '세대전기계약방법', '청소비관리형태', '기타/의무/임대/임의=1/2/3/4', 'target', '구', '동'],\n",
       "      dtype='object')"
      ]
     },
     "execution_count": 156,
     "metadata": {},
     "output_type": "execute_result"
    }
   ],
   "source": [
    "dt.drop(columns='시군구', inplace=True)\n",
    "dt = pd.concat([dt, split_df], axis=1)\n",
    "dt.columns"
   ]
  },
  {
   "cell_type": "markdown",
   "metadata": {},
   "source": [
    "전용면적(㎡) : MinMax Scaling\n",
    "\n",
    "계약년월 :연도, 월 분리 /  월 -> 성수기(6~8월 제외), 비수기(6~8월)로 구분\n",
    "\n",
    "층 : Min max scaling\n",
    "\n",
    "건축년도 : 2024년을 기준으로 차이값을 계산 후 이를 역수로 치환 (음수로 사용해볼수도 있음)\n",
    "\n",
    "등기신청일자 : 있으면 1 없으면 0\n",
    "\n",
    "거래유형 : (중개거래1, 직거래0)"
   ]
  },
  {
   "cell_type": "markdown",
   "metadata": {},
   "source": [
    "## 계약년월 -> 연, 월 분할 / 월 -> 성수기 여부로 변환"
   ]
  },
  {
   "cell_type": "code",
   "execution_count": 157,
   "metadata": {},
   "outputs": [
    {
     "data": {
      "text/plain": [
       "Index(['전용면적(㎡)', '층', '건축년도', '등기신청일자', '거래유형', 'k-단지분류(아파트,주상복합등등)',\n",
       "       'k-세대타입(분양형태)', 'k-관리방식', 'k-복도유형', 'k-난방방식', 'k-전용면적별세대현황(60㎡이하)',\n",
       "       'k-전용면적별세대현황(60㎡~85㎡이하)', 'k-85㎡~135㎡이하', 'k-135㎡초과', '경비비관리형태',\n",
       "       '세대전기계약방법', '청소비관리형태', '기타/의무/임대/임의=1/2/3/4', 'target', '구', '동',\n",
       "       '계약년도', '성수기여부'],\n",
       "      dtype='object')"
      ]
     },
     "execution_count": 157,
     "metadata": {},
     "output_type": "execute_result"
    }
   ],
   "source": [
    "dt['계약년도'] = dt['계약년월'].astype(str).str[:4].astype(int)\n",
    "dt['계약월'] = dt['계약년월'].astype(str).str[4:6].astype(int)\n",
    "dt.drop(columns=['계약년월'], inplace=True)\n",
    "dt['성수기여부'] = dt['계약월'].apply(lambda x: 1 if 7 <= x <= 9 else 0) # 성수기 = 1, 비성수기 = 0\n",
    "dt.drop(columns='계약월', inplace=True)\n",
    "dt.columns\n",
    "\n",
    "# maps = {'비성수기' : 0, '성수기' : 1}\n",
    "# dt['성수기여부'] = dt['성수기여부'].map(maps)"
   ]
  },
  {
   "cell_type": "markdown",
   "metadata": {},
   "source": [
    "## 전용면적, 층 MinMaxScaler()\n"
   ]
  },
  {
   "cell_type": "code",
   "execution_count": 158,
   "metadata": {},
   "outputs": [
    {
     "data": {
      "text/plain": [
       "Index(['층', '건축년도', '등기신청일자', '거래유형', 'k-단지분류(아파트,주상복합등등)', 'k-세대타입(분양형태)',\n",
       "       'k-관리방식', 'k-복도유형', 'k-난방방식', 'k-전용면적별세대현황(60㎡이하)',\n",
       "       'k-전용면적별세대현황(60㎡~85㎡이하)', 'k-85㎡~135㎡이하', 'k-135㎡초과', '경비비관리형태',\n",
       "       '세대전기계약방법', '청소비관리형태', '기타/의무/임대/임의=1/2/3/4', 'target', '구', '동',\n",
       "       '계약년도', '성수기여부', '전용면적'],\n",
       "      dtype='object')"
      ]
     },
     "execution_count": 158,
     "metadata": {},
     "output_type": "execute_result"
    }
   ],
   "source": [
    "scaler = MinMaxScaler()\n",
    "dt['전용면적'] = scaler.fit_transform(dt[['전용면적(㎡)']])\n",
    "scaler = MinMaxScaler()\n",
    "dt['층'] = scaler.fit_transform(dt[['층']])\n",
    "dt.drop(columns=['전용면적(㎡)'], inplace=True)\n",
    "dt.columns"
   ]
  },
  {
   "cell_type": "code",
   "execution_count": 159,
   "metadata": {},
   "outputs": [
    {
     "data": {
      "text/html": [
       "<div>\n",
       "<style scoped>\n",
       "    .dataframe tbody tr th:only-of-type {\n",
       "        vertical-align: middle;\n",
       "    }\n",
       "\n",
       "    .dataframe tbody tr th {\n",
       "        vertical-align: top;\n",
       "    }\n",
       "\n",
       "    .dataframe thead th {\n",
       "        text-align: right;\n",
       "    }\n",
       "</style>\n",
       "<table border=\"1\" class=\"dataframe\">\n",
       "  <thead>\n",
       "    <tr style=\"text-align: right;\">\n",
       "      <th></th>\n",
       "      <th>층</th>\n",
       "      <th>건축년도</th>\n",
       "      <th>등기신청일자</th>\n",
       "      <th>거래유형</th>\n",
       "      <th>k-단지분류(아파트,주상복합등등)</th>\n",
       "      <th>k-세대타입(분양형태)</th>\n",
       "      <th>k-관리방식</th>\n",
       "      <th>k-복도유형</th>\n",
       "      <th>k-난방방식</th>\n",
       "      <th>k-전용면적별세대현황(60㎡이하)</th>\n",
       "      <th>...</th>\n",
       "      <th>경비비관리형태</th>\n",
       "      <th>세대전기계약방법</th>\n",
       "      <th>청소비관리형태</th>\n",
       "      <th>기타/의무/임대/임의=1/2/3/4</th>\n",
       "      <th>target</th>\n",
       "      <th>구</th>\n",
       "      <th>동</th>\n",
       "      <th>계약년도</th>\n",
       "      <th>성수기여부</th>\n",
       "      <th>전용면적</th>\n",
       "    </tr>\n",
       "  </thead>\n",
       "  <tbody>\n",
       "    <tr>\n",
       "      <th>622837</th>\n",
       "      <td>0.082192</td>\n",
       "      <td>1992</td>\n",
       "      <td></td>\n",
       "      <td>-</td>\n",
       "      <td>NaN</td>\n",
       "      <td>NaN</td>\n",
       "      <td>NaN</td>\n",
       "      <td>NaN</td>\n",
       "      <td>NaN</td>\n",
       "      <td>NaN</td>\n",
       "      <td>...</td>\n",
       "      <td>NaN</td>\n",
       "      <td>NaN</td>\n",
       "      <td>NaN</td>\n",
       "      <td>NaN</td>\n",
       "      <td>26500.0</td>\n",
       "      <td>송파구</td>\n",
       "      <td>오금동</td>\n",
       "      <td>2015</td>\n",
       "      <td>0</td>\n",
       "      <td>0.091383</td>\n",
       "    </tr>\n",
       "    <tr>\n",
       "      <th>1067078</th>\n",
       "      <td>0.273973</td>\n",
       "      <td>1994</td>\n",
       "      <td></td>\n",
       "      <td>-</td>\n",
       "      <td>NaN</td>\n",
       "      <td>NaN</td>\n",
       "      <td>NaN</td>\n",
       "      <td>NaN</td>\n",
       "      <td>NaN</td>\n",
       "      <td>NaN</td>\n",
       "      <td>...</td>\n",
       "      <td>NaN</td>\n",
       "      <td>NaN</td>\n",
       "      <td>NaN</td>\n",
       "      <td>NaN</td>\n",
       "      <td>46800.0</td>\n",
       "      <td>영등포구</td>\n",
       "      <td>당산동2가</td>\n",
       "      <td>2008</td>\n",
       "      <td>0</td>\n",
       "      <td>0.175597</td>\n",
       "    </tr>\n",
       "    <tr>\n",
       "      <th>404060</th>\n",
       "      <td>0.095890</td>\n",
       "      <td>1996</td>\n",
       "      <td></td>\n",
       "      <td>-</td>\n",
       "      <td>NaN</td>\n",
       "      <td>NaN</td>\n",
       "      <td>NaN</td>\n",
       "      <td>NaN</td>\n",
       "      <td>NaN</td>\n",
       "      <td>NaN</td>\n",
       "      <td>...</td>\n",
       "      <td>NaN</td>\n",
       "      <td>NaN</td>\n",
       "      <td>NaN</td>\n",
       "      <td>NaN</td>\n",
       "      <td>56200.0</td>\n",
       "      <td>광진구</td>\n",
       "      <td>군자동</td>\n",
       "      <td>2018</td>\n",
       "      <td>0</td>\n",
       "      <td>0.180883</td>\n",
       "    </tr>\n",
       "    <tr>\n",
       "      <th>67970</th>\n",
       "      <td>0.246575</td>\n",
       "      <td>1999</td>\n",
       "      <td></td>\n",
       "      <td>-</td>\n",
       "      <td>NaN</td>\n",
       "      <td>NaN</td>\n",
       "      <td>NaN</td>\n",
       "      <td>NaN</td>\n",
       "      <td>NaN</td>\n",
       "      <td>NaN</td>\n",
       "      <td>...</td>\n",
       "      <td>NaN</td>\n",
       "      <td>NaN</td>\n",
       "      <td>NaN</td>\n",
       "      <td>NaN</td>\n",
       "      <td>65000.0</td>\n",
       "      <td>성북구</td>\n",
       "      <td>삼선동4가</td>\n",
       "      <td>2018</td>\n",
       "      <td>1</td>\n",
       "      <td>0.253005</td>\n",
       "    </tr>\n",
       "    <tr>\n",
       "      <th>379293</th>\n",
       "      <td>0.191781</td>\n",
       "      <td>1998</td>\n",
       "      <td></td>\n",
       "      <td>-</td>\n",
       "      <td>NaN</td>\n",
       "      <td>NaN</td>\n",
       "      <td>NaN</td>\n",
       "      <td>NaN</td>\n",
       "      <td>NaN</td>\n",
       "      <td>NaN</td>\n",
       "      <td>...</td>\n",
       "      <td>NaN</td>\n",
       "      <td>NaN</td>\n",
       "      <td>NaN</td>\n",
       "      <td>NaN</td>\n",
       "      <td>59800.0</td>\n",
       "      <td>영등포구</td>\n",
       "      <td>양평동2가</td>\n",
       "      <td>2019</td>\n",
       "      <td>0</td>\n",
       "      <td>0.119189</td>\n",
       "    </tr>\n",
       "  </tbody>\n",
       "</table>\n",
       "<p>5 rows × 23 columns</p>\n",
       "</div>"
      ],
      "text/plain": [
       "                층  건축년도 등기신청일자 거래유형 k-단지분류(아파트,주상복합등등) k-세대타입(분양형태) k-관리방식  \\\n",
       "622837   0.082192  1992           -                NaN          NaN    NaN   \n",
       "1067078  0.273973  1994           -                NaN          NaN    NaN   \n",
       "404060   0.095890  1996           -                NaN          NaN    NaN   \n",
       "67970    0.246575  1999           -                NaN          NaN    NaN   \n",
       "379293   0.191781  1998           -                NaN          NaN    NaN   \n",
       "\n",
       "        k-복도유형 k-난방방식  k-전용면적별세대현황(60㎡이하)  ...  경비비관리형태  세대전기계약방법  청소비관리형태  \\\n",
       "622837     NaN    NaN                 NaN  ...      NaN       NaN      NaN   \n",
       "1067078    NaN    NaN                 NaN  ...      NaN       NaN      NaN   \n",
       "404060     NaN    NaN                 NaN  ...      NaN       NaN      NaN   \n",
       "67970      NaN    NaN                 NaN  ...      NaN       NaN      NaN   \n",
       "379293     NaN    NaN                 NaN  ...      NaN       NaN      NaN   \n",
       "\n",
       "        기타/의무/임대/임의=1/2/3/4   target     구      동  계약년도 성수기여부      전용면적  \n",
       "622837                  NaN  26500.0   송파구    오금동  2015     0  0.091383  \n",
       "1067078                 NaN  46800.0  영등포구  당산동2가  2008     0  0.175597  \n",
       "404060                  NaN  56200.0   광진구    군자동  2018     0  0.180883  \n",
       "67970                   NaN  65000.0   성북구  삼선동4가  2018     1  0.253005  \n",
       "379293                  NaN  59800.0  영등포구  양평동2가  2019     0  0.119189  \n",
       "\n",
       "[5 rows x 23 columns]"
      ]
     },
     "execution_count": 159,
     "metadata": {},
     "output_type": "execute_result"
    }
   ],
   "source": [
    "dt.sample(5)"
   ]
  },
  {
   "cell_type": "code",
   "execution_count": 160,
   "metadata": {},
   "outputs": [
    {
     "data": {
      "text/plain": [
       "층                               0\n",
       "건축년도                            0\n",
       "등기신청일자                          0\n",
       "거래유형                            0\n",
       "k-단지분류(아파트,주상복합등등)         877273\n",
       "k-세대타입(분양형태)               876125\n",
       "k-관리방식                     876125\n",
       "k-복도유형                     876454\n",
       "k-난방방식                     876125\n",
       "k-전용면적별세대현황(60㎡이하)         876170\n",
       "k-전용면적별세대현황(60㎡~85㎡이하)     876170\n",
       "k-85㎡~135㎡이하               876170\n",
       "k-135㎡초과                  1127765\n",
       "경비비관리형태                    877561\n",
       "세대전기계약방법                   885389\n",
       "청소비관리형태                    877751\n",
       "기타/의무/임대/임의=1/2/3/4        876125\n",
       "target                       9272\n",
       "구                               0\n",
       "동                               0\n",
       "계약년도                            0\n",
       "성수기여부                           0\n",
       "전용면적                            0\n",
       "dtype: int64"
      ]
     },
     "execution_count": 160,
     "metadata": {},
     "output_type": "execute_result"
    }
   ],
   "source": [
    "dt.isnull().sum()"
   ]
  },
  {
   "cell_type": "markdown",
   "metadata": {},
   "source": [
    "## 건축년도 : 1 / (2024 - 건축년도)\n"
   ]
  },
  {
   "cell_type": "code",
   "execution_count": 161,
   "metadata": {},
   "outputs": [
    {
     "data": {
      "image/png": "[encoded data removed]",
      "text/plain": [
       "<Figure size 640x480 with 1 Axes>"
      ]
     },
     "metadata": {},
     "output_type": "display_data"
    }
   ],
   "source": [
    "plt.title('Original Original Construct Year')\n",
    "plt.xticks(rotation=15)\n",
    "sns.histplot(dt['건축년도'], kde=True)\n",
    "# plt.ylim(0, 2200)  \n",
    "plt.show()"
   ]
  },
  {
   "cell_type": "code",
   "execution_count": 162,
   "metadata": {},
   "outputs": [
    {
     "data": {
      "text/plain": [
       "Index(['층', '건축년도', '등기신청일자', '거래유형', 'k-단지분류(아파트,주상복합등등)', 'k-세대타입(분양형태)',\n",
       "       'k-관리방식', 'k-복도유형', 'k-난방방식', 'k-전용면적별세대현황(60㎡이하)',\n",
       "       'k-전용면적별세대현황(60㎡~85㎡이하)', 'k-85㎡~135㎡이하', 'k-135㎡초과', '경비비관리형태',\n",
       "       '세대전기계약방법', '청소비관리형태', '기타/의무/임대/임의=1/2/3/4', 'target', '구', '동',\n",
       "       '계약년도', '성수기여부', '전용면적'],\n",
       "      dtype='object')"
      ]
     },
     "execution_count": 162,
     "metadata": {},
     "output_type": "execute_result"
    }
   ],
   "source": [
    "# 4. 건축년도 : 2024년 기준 차이값 계산 후 역수\n",
    "dt['건축년도'] = 2024 - dt['건축년도']\n",
    "# dt['건축년도'] = (1 / dt['건축년도']).round(2)\n",
    "dt.columns"
   ]
  },
  {
   "cell_type": "code",
   "execution_count": 163,
   "metadata": {},
   "outputs": [
    {
     "data": {
      "text/plain": [
       "0          0.580645\n",
       "1          0.580645\n",
       "2          0.580645\n",
       "3          0.580645\n",
       "4          0.580645\n",
       "             ...   \n",
       "1128089    0.145161\n",
       "1128090    0.145161\n",
       "1128091    0.145161\n",
       "1128092    0.145161\n",
       "1128093    0.145161\n",
       "Name: 건축년도, Length: 1128094, dtype: float64"
      ]
     },
     "execution_count": 163,
     "metadata": {},
     "output_type": "execute_result"
    }
   ],
   "source": [
    "# MinMaxScaler는 입력 데이터를 2D 형태([[value], ...] 또는 (n_samples, n_features))로 기대합니다.\n",
    "# Pandas Series는 1D 배열 형태이므로 .values.reshape(-1, 1)로 변환해야 합니다\n",
    "dt['건축년도'] = scaler.fit_transform(dt['건축년도'].values.reshape(-1, 1))\n",
    "dt['건축년도']"
   ]
  },
  {
   "cell_type": "code",
   "execution_count": 164,
   "metadata": {},
   "outputs": [
    {
     "data": {
      "image/png": "[encoded data removed]",
      "text/plain": [
       "<Figure size 640x480 with 1 Axes>"
      ]
     },
     "metadata": {},
     "output_type": "display_data"
    }
   ],
   "source": [
    "plt.title('Original Construct Year')\n",
    "plt.xticks(rotation=15)\n",
    "sns.histplot(dt['건축년도'], kde=True)\n",
    "plt.ylim(0, dt['건축년도'].value_counts().max())  \n",
    "plt.show()"
   ]
  },
  {
   "cell_type": "markdown",
   "metadata": {},
   "source": [
    "## 중간점검\n"
   ]
  },
  {
   "cell_type": "code",
   "execution_count": 165,
   "metadata": {},
   "outputs": [
    {
     "data": {
      "text/html": [
       "<div>\n",
       "<style scoped>\n",
       "    .dataframe tbody tr th:only-of-type {\n",
       "        vertical-align: middle;\n",
       "    }\n",
       "\n",
       "    .dataframe tbody tr th {\n",
       "        vertical-align: top;\n",
       "    }\n",
       "\n",
       "    .dataframe thead th {\n",
       "        text-align: right;\n",
       "    }\n",
       "</style>\n",
       "<table border=\"1\" class=\"dataframe\">\n",
       "  <thead>\n",
       "    <tr style=\"text-align: right;\">\n",
       "      <th></th>\n",
       "      <th>계약년도</th>\n",
       "      <th>성수기여부</th>\n",
       "      <th>전용면적</th>\n",
       "      <th>층</th>\n",
       "      <th>건축년도</th>\n",
       "    </tr>\n",
       "  </thead>\n",
       "  <tbody>\n",
       "    <tr>\n",
       "      <th>386082</th>\n",
       "      <td>2020</td>\n",
       "      <td>1</td>\n",
       "      <td>0.144629</td>\n",
       "      <td>0.150685</td>\n",
       "      <td>0.145161</td>\n",
       "    </tr>\n",
       "    <tr>\n",
       "      <th>790184</th>\n",
       "      <td>2014</td>\n",
       "      <td>0</td>\n",
       "      <td>0.107458</td>\n",
       "      <td>0.123288</td>\n",
       "      <td>0.564516</td>\n",
       "    </tr>\n",
       "    <tr>\n",
       "      <th>340278</th>\n",
       "      <td>2020</td>\n",
       "      <td>1</td>\n",
       "      <td>0.171446</td>\n",
       "      <td>0.260274</td>\n",
       "      <td>0.258065</td>\n",
       "    </tr>\n",
       "    <tr>\n",
       "      <th>45507</th>\n",
       "      <td>2017</td>\n",
       "      <td>0</td>\n",
       "      <td>0.089935</td>\n",
       "      <td>0.150685</td>\n",
       "      <td>0.161290</td>\n",
       "    </tr>\n",
       "    <tr>\n",
       "      <th>1005161</th>\n",
       "      <td>2008</td>\n",
       "      <td>0</td>\n",
       "      <td>0.179604</td>\n",
       "      <td>0.150685</td>\n",
       "      <td>0.709677</td>\n",
       "    </tr>\n",
       "  </tbody>\n",
       "</table>\n",
       "</div>"
      ],
      "text/plain": [
       "         계약년도  성수기여부      전용면적         층      건축년도\n",
       "386082   2020      1  0.144629  0.150685  0.145161\n",
       "790184   2014      0  0.107458  0.123288  0.564516\n",
       "340278   2020      1  0.171446  0.260274  0.258065\n",
       "45507    2017      0  0.089935  0.150685  0.161290\n",
       "1005161  2008      0  0.179604  0.150685  0.709677"
      ]
     },
     "execution_count": 165,
     "metadata": {},
     "output_type": "execute_result"
    }
   ],
   "source": [
    "dt[['계약년도', '성수기여부', '전용면적', '층','건축년도']].sample(5)"
   ]
  },
  {
   "cell_type": "code",
   "execution_count": 166,
   "metadata": {},
   "outputs": [
    {
     "data": {
      "text/plain": [
       "계약년도     0\n",
       "성수기여부    0\n",
       "전용면적     0\n",
       "층        0\n",
       "건축년도     0\n",
       "dtype: int64"
      ]
     },
     "execution_count": 166,
     "metadata": {},
     "output_type": "execute_result"
    }
   ],
   "source": [
    "dt[['계약년도', '성수기여부', '전용면적', '층','건축년도']].isnull().sum()"
   ]
  },
  {
   "cell_type": "markdown",
   "metadata": {},
   "source": [
    "## 등기신청일자\n",
    "\n",
    "등기신청일자 : 있으면 1 없으면 0"
   ]
  },
  {
   "cell_type": "code",
   "execution_count": 167,
   "metadata": {},
   "outputs": [
    {
     "data": {
      "text/html": [
       "<div>\n",
       "<style scoped>\n",
       "    .dataframe tbody tr th:only-of-type {\n",
       "        vertical-align: middle;\n",
       "    }\n",
       "\n",
       "    .dataframe tbody tr th {\n",
       "        vertical-align: top;\n",
       "    }\n",
       "\n",
       "    .dataframe thead th {\n",
       "        text-align: right;\n",
       "    }\n",
       "</style>\n",
       "<table border=\"1\" class=\"dataframe\">\n",
       "  <thead>\n",
       "    <tr style=\"text-align: right;\">\n",
       "      <th></th>\n",
       "      <th>층</th>\n",
       "      <th>건축년도</th>\n",
       "      <th>등기신청일자</th>\n",
       "      <th>거래유형</th>\n",
       "      <th>k-단지분류(아파트,주상복합등등)</th>\n",
       "      <th>k-세대타입(분양형태)</th>\n",
       "      <th>k-관리방식</th>\n",
       "      <th>k-복도유형</th>\n",
       "      <th>k-난방방식</th>\n",
       "      <th>k-전용면적별세대현황(60㎡이하)</th>\n",
       "      <th>...</th>\n",
       "      <th>경비비관리형태</th>\n",
       "      <th>세대전기계약방법</th>\n",
       "      <th>청소비관리형태</th>\n",
       "      <th>기타/의무/임대/임의=1/2/3/4</th>\n",
       "      <th>target</th>\n",
       "      <th>구</th>\n",
       "      <th>동</th>\n",
       "      <th>계약년도</th>\n",
       "      <th>성수기여부</th>\n",
       "      <th>전용면적</th>\n",
       "    </tr>\n",
       "  </thead>\n",
       "  <tbody>\n",
       "    <tr>\n",
       "      <th>0</th>\n",
       "      <td>0.095890</td>\n",
       "      <td>0.580645</td>\n",
       "      <td></td>\n",
       "      <td>-</td>\n",
       "      <td>아파트</td>\n",
       "      <td>분양</td>\n",
       "      <td>자치관리</td>\n",
       "      <td>계단식</td>\n",
       "      <td>개별난방</td>\n",
       "      <td>20.0</td>\n",
       "      <td>...</td>\n",
       "      <td>직영</td>\n",
       "      <td>단일계약</td>\n",
       "      <td>직영</td>\n",
       "      <td>임의</td>\n",
       "      <td>124000.0</td>\n",
       "      <td>강남구</td>\n",
       "      <td>개포동</td>\n",
       "      <td>2017</td>\n",
       "      <td>0</td>\n",
       "      <td>0.168839</td>\n",
       "    </tr>\n",
       "    <tr>\n",
       "      <th>1</th>\n",
       "      <td>0.109589</td>\n",
       "      <td>0.580645</td>\n",
       "      <td></td>\n",
       "      <td>-</td>\n",
       "      <td>아파트</td>\n",
       "      <td>분양</td>\n",
       "      <td>자치관리</td>\n",
       "      <td>계단식</td>\n",
       "      <td>개별난방</td>\n",
       "      <td>20.0</td>\n",
       "      <td>...</td>\n",
       "      <td>직영</td>\n",
       "      <td>단일계약</td>\n",
       "      <td>직영</td>\n",
       "      <td>임의</td>\n",
       "      <td>123500.0</td>\n",
       "      <td>강남구</td>\n",
       "      <td>개포동</td>\n",
       "      <td>2017</td>\n",
       "      <td>0</td>\n",
       "      <td>0.168839</td>\n",
       "    </tr>\n",
       "    <tr>\n",
       "      <th>2</th>\n",
       "      <td>0.123288</td>\n",
       "      <td>0.580645</td>\n",
       "      <td></td>\n",
       "      <td>-</td>\n",
       "      <td>아파트</td>\n",
       "      <td>분양</td>\n",
       "      <td>자치관리</td>\n",
       "      <td>계단식</td>\n",
       "      <td>개별난방</td>\n",
       "      <td>20.0</td>\n",
       "      <td>...</td>\n",
       "      <td>직영</td>\n",
       "      <td>단일계약</td>\n",
       "      <td>직영</td>\n",
       "      <td>임의</td>\n",
       "      <td>91500.0</td>\n",
       "      <td>강남구</td>\n",
       "      <td>개포동</td>\n",
       "      <td>2017</td>\n",
       "      <td>0</td>\n",
       "      <td>0.108520</td>\n",
       "    </tr>\n",
       "    <tr>\n",
       "      <th>3</th>\n",
       "      <td>0.109589</td>\n",
       "      <td>0.580645</td>\n",
       "      <td></td>\n",
       "      <td>-</td>\n",
       "      <td>아파트</td>\n",
       "      <td>분양</td>\n",
       "      <td>자치관리</td>\n",
       "      <td>계단식</td>\n",
       "      <td>개별난방</td>\n",
       "      <td>20.0</td>\n",
       "      <td>...</td>\n",
       "      <td>직영</td>\n",
       "      <td>단일계약</td>\n",
       "      <td>직영</td>\n",
       "      <td>임의</td>\n",
       "      <td>130000.0</td>\n",
       "      <td>강남구</td>\n",
       "      <td>개포동</td>\n",
       "      <td>2018</td>\n",
       "      <td>0</td>\n",
       "      <td>0.168839</td>\n",
       "    </tr>\n",
       "    <tr>\n",
       "      <th>4</th>\n",
       "      <td>0.082192</td>\n",
       "      <td>0.580645</td>\n",
       "      <td></td>\n",
       "      <td>-</td>\n",
       "      <td>아파트</td>\n",
       "      <td>분양</td>\n",
       "      <td>자치관리</td>\n",
       "      <td>계단식</td>\n",
       "      <td>개별난방</td>\n",
       "      <td>20.0</td>\n",
       "      <td>...</td>\n",
       "      <td>직영</td>\n",
       "      <td>단일계약</td>\n",
       "      <td>직영</td>\n",
       "      <td>임의</td>\n",
       "      <td>117000.0</td>\n",
       "      <td>강남구</td>\n",
       "      <td>개포동</td>\n",
       "      <td>2018</td>\n",
       "      <td>0</td>\n",
       "      <td>0.168839</td>\n",
       "    </tr>\n",
       "    <tr>\n",
       "      <th>...</th>\n",
       "      <td>...</td>\n",
       "      <td>...</td>\n",
       "      <td>...</td>\n",
       "      <td>...</td>\n",
       "      <td>...</td>\n",
       "      <td>...</td>\n",
       "      <td>...</td>\n",
       "      <td>...</td>\n",
       "      <td>...</td>\n",
       "      <td>...</td>\n",
       "      <td>...</td>\n",
       "      <td>...</td>\n",
       "      <td>...</td>\n",
       "      <td>...</td>\n",
       "      <td>...</td>\n",
       "      <td>...</td>\n",
       "      <td>...</td>\n",
       "      <td>...</td>\n",
       "      <td>...</td>\n",
       "      <td>...</td>\n",
       "      <td>...</td>\n",
       "    </tr>\n",
       "    <tr>\n",
       "      <th>1128088</th>\n",
       "      <td>0.178082</td>\n",
       "      <td>0.677419</td>\n",
       "      <td></td>\n",
       "      <td>중개거래</td>\n",
       "      <td>아파트</td>\n",
       "      <td>분양</td>\n",
       "      <td>자치관리</td>\n",
       "      <td>복도식</td>\n",
       "      <td>개별난방</td>\n",
       "      <td>121.0</td>\n",
       "      <td>...</td>\n",
       "      <td>직영</td>\n",
       "      <td>종합계약</td>\n",
       "      <td>직영</td>\n",
       "      <td>임의</td>\n",
       "      <td>NaN</td>\n",
       "      <td>중구</td>\n",
       "      <td>묵정동</td>\n",
       "      <td>2023</td>\n",
       "      <td>1</td>\n",
       "      <td>0.102438</td>\n",
       "    </tr>\n",
       "    <tr>\n",
       "      <th>1128089</th>\n",
       "      <td>0.232877</td>\n",
       "      <td>0.145161</td>\n",
       "      <td></td>\n",
       "      <td>직거래</td>\n",
       "      <td>아파트</td>\n",
       "      <td>기타</td>\n",
       "      <td>위탁관리</td>\n",
       "      <td>혼합식</td>\n",
       "      <td>개별난방</td>\n",
       "      <td>808.0</td>\n",
       "      <td>...</td>\n",
       "      <td>위탁</td>\n",
       "      <td>종합계약</td>\n",
       "      <td>위탁</td>\n",
       "      <td>의무</td>\n",
       "      <td>NaN</td>\n",
       "      <td>중랑구</td>\n",
       "      <td>신내동</td>\n",
       "      <td>2023</td>\n",
       "      <td>1</td>\n",
       "      <td>0.180135</td>\n",
       "    </tr>\n",
       "    <tr>\n",
       "      <th>1128090</th>\n",
       "      <td>0.219178</td>\n",
       "      <td>0.145161</td>\n",
       "      <td></td>\n",
       "      <td>중개거래</td>\n",
       "      <td>아파트</td>\n",
       "      <td>기타</td>\n",
       "      <td>위탁관리</td>\n",
       "      <td>혼합식</td>\n",
       "      <td>개별난방</td>\n",
       "      <td>808.0</td>\n",
       "      <td>...</td>\n",
       "      <td>위탁</td>\n",
       "      <td>종합계약</td>\n",
       "      <td>위탁</td>\n",
       "      <td>의무</td>\n",
       "      <td>NaN</td>\n",
       "      <td>중랑구</td>\n",
       "      <td>신내동</td>\n",
       "      <td>2023</td>\n",
       "      <td>1</td>\n",
       "      <td>0.180063</td>\n",
       "    </tr>\n",
       "    <tr>\n",
       "      <th>1128091</th>\n",
       "      <td>0.219178</td>\n",
       "      <td>0.145161</td>\n",
       "      <td></td>\n",
       "      <td>중개거래</td>\n",
       "      <td>아파트</td>\n",
       "      <td>기타</td>\n",
       "      <td>위탁관리</td>\n",
       "      <td>혼합식</td>\n",
       "      <td>개별난방</td>\n",
       "      <td>808.0</td>\n",
       "      <td>...</td>\n",
       "      <td>위탁</td>\n",
       "      <td>종합계약</td>\n",
       "      <td>위탁</td>\n",
       "      <td>의무</td>\n",
       "      <td>NaN</td>\n",
       "      <td>중랑구</td>\n",
       "      <td>신내동</td>\n",
       "      <td>2023</td>\n",
       "      <td>1</td>\n",
       "      <td>0.221168</td>\n",
       "    </tr>\n",
       "    <tr>\n",
       "      <th>1128092</th>\n",
       "      <td>0.301370</td>\n",
       "      <td>0.145161</td>\n",
       "      <td></td>\n",
       "      <td>중개거래</td>\n",
       "      <td>아파트</td>\n",
       "      <td>기타</td>\n",
       "      <td>위탁관리</td>\n",
       "      <td>혼합식</td>\n",
       "      <td>개별난방</td>\n",
       "      <td>808.0</td>\n",
       "      <td>...</td>\n",
       "      <td>위탁</td>\n",
       "      <td>종합계약</td>\n",
       "      <td>위탁</td>\n",
       "      <td>의무</td>\n",
       "      <td>NaN</td>\n",
       "      <td>중랑구</td>\n",
       "      <td>신내동</td>\n",
       "      <td>2023</td>\n",
       "      <td>1</td>\n",
       "      <td>0.180835</td>\n",
       "    </tr>\n",
       "  </tbody>\n",
       "</table>\n",
       "<p>1111271 rows × 23 columns</p>\n",
       "</div>"
      ],
      "text/plain": [
       "                층      건축년도 등기신청일자  거래유형 k-단지분류(아파트,주상복합등등) k-세대타입(분양형태)  \\\n",
       "0        0.095890  0.580645            -                아파트           분양   \n",
       "1        0.109589  0.580645            -                아파트           분양   \n",
       "2        0.123288  0.580645            -                아파트           분양   \n",
       "3        0.109589  0.580645            -                아파트           분양   \n",
       "4        0.082192  0.580645            -                아파트           분양   \n",
       "...           ...       ...    ...   ...                ...          ...   \n",
       "1128088  0.178082  0.677419         중개거래                아파트           분양   \n",
       "1128089  0.232877  0.145161          직거래                아파트           기타   \n",
       "1128090  0.219178  0.145161         중개거래                아파트           기타   \n",
       "1128091  0.219178  0.145161         중개거래                아파트           기타   \n",
       "1128092  0.301370  0.145161         중개거래                아파트           기타   \n",
       "\n",
       "        k-관리방식 k-복도유형 k-난방방식  k-전용면적별세대현황(60㎡이하)  ...  경비비관리형태  세대전기계약방법  \\\n",
       "0         자치관리    계단식   개별난방                20.0  ...       직영      단일계약   \n",
       "1         자치관리    계단식   개별난방                20.0  ...       직영      단일계약   \n",
       "2         자치관리    계단식   개별난방                20.0  ...       직영      단일계약   \n",
       "3         자치관리    계단식   개별난방                20.0  ...       직영      단일계약   \n",
       "4         자치관리    계단식   개별난방                20.0  ...       직영      단일계약   \n",
       "...        ...    ...    ...                 ...  ...      ...       ...   \n",
       "1128088   자치관리    복도식   개별난방               121.0  ...       직영      종합계약   \n",
       "1128089   위탁관리    혼합식   개별난방               808.0  ...       위탁      종합계약   \n",
       "1128090   위탁관리    혼합식   개별난방               808.0  ...       위탁      종합계약   \n",
       "1128091   위탁관리    혼합식   개별난방               808.0  ...       위탁      종합계약   \n",
       "1128092   위탁관리    혼합식   개별난방               808.0  ...       위탁      종합계약   \n",
       "\n",
       "         청소비관리형태 기타/의무/임대/임의=1/2/3/4    target    구    동  계약년도 성수기여부      전용면적  \n",
       "0             직영                  임의  124000.0  강남구  개포동  2017     0  0.168839  \n",
       "1             직영                  임의  123500.0  강남구  개포동  2017     0  0.168839  \n",
       "2             직영                  임의   91500.0  강남구  개포동  2017     0  0.108520  \n",
       "3             직영                  임의  130000.0  강남구  개포동  2018     0  0.168839  \n",
       "4             직영                  임의  117000.0  강남구  개포동  2018     0  0.168839  \n",
       "...          ...                 ...       ...  ...  ...   ...   ...       ...  \n",
       "1128088       직영                  임의       NaN   중구  묵정동  2023     1  0.102438  \n",
       "1128089       위탁                  의무       NaN  중랑구  신내동  2023     1  0.180135  \n",
       "1128090       위탁                  의무       NaN  중랑구  신내동  2023     1  0.180063  \n",
       "1128091       위탁                  의무       NaN  중랑구  신내동  2023     1  0.221168  \n",
       "1128092       위탁                  의무       NaN  중랑구  신내동  2023     1  0.180835  \n",
       "\n",
       "[1111271 rows x 23 columns]"
      ]
     },
     "execution_count": 167,
     "metadata": {},
     "output_type": "execute_result"
    }
   ],
   "source": [
    "dt[dt['등기신청일자'] == ' ' ]"
   ]
  },
  {
   "cell_type": "code",
   "execution_count": 168,
   "metadata": {},
   "outputs": [
    {
     "data": {
      "text/plain": [
       "array([0.1, 1. ])"
      ]
     },
     "execution_count": 168,
     "metadata": {},
     "output_type": "execute_result"
    }
   ],
   "source": [
    "dt['등기신청일자'] = dt['등기신청일자'].apply(lambda x:0.1 if x == ' ' else 1)\n",
    "dt['등기신청일자'].unique()"
   ]
  },
  {
   "cell_type": "markdown",
   "metadata": {},
   "source": [
    "## 거래유형 -> OHE"
   ]
  },
  {
   "cell_type": "code",
   "execution_count": 169,
   "metadata": {},
   "outputs": [
    {
     "data": {
      "text/plain": [
       "array(['-', '중개거래', '직거래'], dtype=object)"
      ]
     },
     "execution_count": 169,
     "metadata": {},
     "output_type": "execute_result"
    }
   ],
   "source": [
    "dt['거래유형'].unique()"
   ]
  },
  {
   "cell_type": "code",
   "execution_count": 170,
   "metadata": {},
   "outputs": [],
   "source": [
    "dt['거래유형'].replace('-', np.nan, inplace=True)"
   ]
  },
  {
   "cell_type": "code",
   "execution_count": 171,
   "metadata": {},
   "outputs": [
    {
     "data": {
      "text/html": [
       "<div>\n",
       "<style scoped>\n",
       "    .dataframe tbody tr th:only-of-type {\n",
       "        vertical-align: middle;\n",
       "    }\n",
       "\n",
       "    .dataframe tbody tr th {\n",
       "        vertical-align: top;\n",
       "    }\n",
       "\n",
       "    .dataframe thead th {\n",
       "        text-align: right;\n",
       "    }\n",
       "</style>\n",
       "<table border=\"1\" class=\"dataframe\">\n",
       "  <thead>\n",
       "    <tr style=\"text-align: right;\">\n",
       "      <th></th>\n",
       "      <th>중개거래</th>\n",
       "      <th>직거래</th>\n",
       "    </tr>\n",
       "  </thead>\n",
       "  <tbody>\n",
       "    <tr>\n",
       "      <th>0</th>\n",
       "      <td>0</td>\n",
       "      <td>0</td>\n",
       "    </tr>\n",
       "    <tr>\n",
       "      <th>1</th>\n",
       "      <td>0</td>\n",
       "      <td>0</td>\n",
       "    </tr>\n",
       "    <tr>\n",
       "      <th>2</th>\n",
       "      <td>0</td>\n",
       "      <td>0</td>\n",
       "    </tr>\n",
       "    <tr>\n",
       "      <th>3</th>\n",
       "      <td>0</td>\n",
       "      <td>0</td>\n",
       "    </tr>\n",
       "    <tr>\n",
       "      <th>4</th>\n",
       "      <td>0</td>\n",
       "      <td>0</td>\n",
       "    </tr>\n",
       "  </tbody>\n",
       "</table>\n",
       "</div>"
      ],
      "text/plain": [
       "   중개거래  직거래\n",
       "0     0    0\n",
       "1     0    0\n",
       "2     0    0\n",
       "3     0    0\n",
       "4     0    0"
      ]
     },
     "execution_count": 171,
     "metadata": {},
     "output_type": "execute_result"
    }
   ],
   "source": [
    "# dt['거래유형'] = dt['거래유형'].apply(lambda x : 0.1 if x == '직거래' else(1 if x == '중개거래' else 0.5))\n",
    "# OHE\n",
    "tmp = pd.get_dummies(dt['거래유형'])\n",
    "tmp.head(5)"
   ]
  },
  {
   "cell_type": "code",
   "execution_count": 172,
   "metadata": {},
   "outputs": [
    {
     "data": {
      "text/plain": [
       "Index(['층', '건축년도', '등기신청일자', 'k-단지분류(아파트,주상복합등등)', 'k-세대타입(분양형태)', 'k-관리방식',\n",
       "       'k-복도유형', 'k-난방방식', 'k-전용면적별세대현황(60㎡이하)', 'k-전용면적별세대현황(60㎡~85㎡이하)',\n",
       "       'k-85㎡~135㎡이하', 'k-135㎡초과', '경비비관리형태', '세대전기계약방법', '청소비관리형태',\n",
       "       '기타/의무/임대/임의=1/2/3/4', 'target', '구', '동', '계약년도', '성수기여부', '전용면적',\n",
       "       '중개거래', '직거래'],\n",
       "      dtype='object')"
      ]
     },
     "execution_count": 172,
     "metadata": {},
     "output_type": "execute_result"
    }
   ],
   "source": [
    "dt = pd.concat([dt, tmp], axis=1)\n",
    "dt.drop(columns='거래유형', inplace=True)\n",
    "dt.columns"
   ]
  },
  {
   "cell_type": "code",
   "execution_count": 173,
   "metadata": {},
   "outputs": [
    {
     "data": {
      "text/html": [
       "<div>\n",
       "<style scoped>\n",
       "    .dataframe tbody tr th:only-of-type {\n",
       "        vertical-align: middle;\n",
       "    }\n",
       "\n",
       "    .dataframe tbody tr th {\n",
       "        vertical-align: top;\n",
       "    }\n",
       "\n",
       "    .dataframe thead th {\n",
       "        text-align: right;\n",
       "    }\n",
       "</style>\n",
       "<table border=\"1\" class=\"dataframe\">\n",
       "  <thead>\n",
       "    <tr style=\"text-align: right;\">\n",
       "      <th></th>\n",
       "      <th>층</th>\n",
       "      <th>건축년도</th>\n",
       "      <th>등기신청일자</th>\n",
       "      <th>k-단지분류(아파트,주상복합등등)</th>\n",
       "      <th>k-세대타입(분양형태)</th>\n",
       "      <th>k-관리방식</th>\n",
       "      <th>k-복도유형</th>\n",
       "      <th>k-난방방식</th>\n",
       "      <th>k-전용면적별세대현황(60㎡이하)</th>\n",
       "      <th>k-전용면적별세대현황(60㎡~85㎡이하)</th>\n",
       "      <th>...</th>\n",
       "      <th>청소비관리형태</th>\n",
       "      <th>기타/의무/임대/임의=1/2/3/4</th>\n",
       "      <th>target</th>\n",
       "      <th>구</th>\n",
       "      <th>동</th>\n",
       "      <th>계약년도</th>\n",
       "      <th>성수기여부</th>\n",
       "      <th>전용면적</th>\n",
       "      <th>중개거래</th>\n",
       "      <th>직거래</th>\n",
       "    </tr>\n",
       "  </thead>\n",
       "  <tbody>\n",
       "    <tr>\n",
       "      <th>1038473</th>\n",
       "      <td>0.123288</td>\n",
       "      <td>0.548387</td>\n",
       "      <td>0.1</td>\n",
       "      <td>NaN</td>\n",
       "      <td>NaN</td>\n",
       "      <td>NaN</td>\n",
       "      <td>NaN</td>\n",
       "      <td>NaN</td>\n",
       "      <td>NaN</td>\n",
       "      <td>NaN</td>\n",
       "      <td>...</td>\n",
       "      <td>NaN</td>\n",
       "      <td>NaN</td>\n",
       "      <td>23000.0</td>\n",
       "      <td>노원구</td>\n",
       "      <td>하계동</td>\n",
       "      <td>2008</td>\n",
       "      <td>1</td>\n",
       "      <td>0.095293</td>\n",
       "      <td>0</td>\n",
       "      <td>0</td>\n",
       "    </tr>\n",
       "    <tr>\n",
       "      <th>164647</th>\n",
       "      <td>0.136986</td>\n",
       "      <td>0.596774</td>\n",
       "      <td>0.1</td>\n",
       "      <td>NaN</td>\n",
       "      <td>NaN</td>\n",
       "      <td>NaN</td>\n",
       "      <td>NaN</td>\n",
       "      <td>NaN</td>\n",
       "      <td>NaN</td>\n",
       "      <td>NaN</td>\n",
       "      <td>...</td>\n",
       "      <td>NaN</td>\n",
       "      <td>NaN</td>\n",
       "      <td>25800.0</td>\n",
       "      <td>도봉구</td>\n",
       "      <td>방학동</td>\n",
       "      <td>2009</td>\n",
       "      <td>1</td>\n",
       "      <td>0.146271</td>\n",
       "      <td>0</td>\n",
       "      <td>0</td>\n",
       "    </tr>\n",
       "    <tr>\n",
       "      <th>822748</th>\n",
       "      <td>0.273973</td>\n",
       "      <td>0.403226</td>\n",
       "      <td>0.1</td>\n",
       "      <td>NaN</td>\n",
       "      <td>NaN</td>\n",
       "      <td>NaN</td>\n",
       "      <td>NaN</td>\n",
       "      <td>NaN</td>\n",
       "      <td>NaN</td>\n",
       "      <td>NaN</td>\n",
       "      <td>...</td>\n",
       "      <td>NaN</td>\n",
       "      <td>NaN</td>\n",
       "      <td>33800.0</td>\n",
       "      <td>성북구</td>\n",
       "      <td>돈암동</td>\n",
       "      <td>2014</td>\n",
       "      <td>0</td>\n",
       "      <td>0.180787</td>\n",
       "      <td>0</td>\n",
       "      <td>0</td>\n",
       "    </tr>\n",
       "    <tr>\n",
       "      <th>372633</th>\n",
       "      <td>0.082192</td>\n",
       "      <td>0.596774</td>\n",
       "      <td>0.1</td>\n",
       "      <td>NaN</td>\n",
       "      <td>NaN</td>\n",
       "      <td>NaN</td>\n",
       "      <td>NaN</td>\n",
       "      <td>NaN</td>\n",
       "      <td>NaN</td>\n",
       "      <td>NaN</td>\n",
       "      <td>...</td>\n",
       "      <td>NaN</td>\n",
       "      <td>NaN</td>\n",
       "      <td>170000.0</td>\n",
       "      <td>양천구</td>\n",
       "      <td>목동</td>\n",
       "      <td>2020</td>\n",
       "      <td>0</td>\n",
       "      <td>0.205769</td>\n",
       "      <td>0</td>\n",
       "      <td>0</td>\n",
       "    </tr>\n",
       "    <tr>\n",
       "      <th>300225</th>\n",
       "      <td>0.150685</td>\n",
       "      <td>0.435484</td>\n",
       "      <td>0.1</td>\n",
       "      <td>NaN</td>\n",
       "      <td>NaN</td>\n",
       "      <td>NaN</td>\n",
       "      <td>NaN</td>\n",
       "      <td>NaN</td>\n",
       "      <td>NaN</td>\n",
       "      <td>NaN</td>\n",
       "      <td>...</td>\n",
       "      <td>NaN</td>\n",
       "      <td>NaN</td>\n",
       "      <td>58500.0</td>\n",
       "      <td>강동구</td>\n",
       "      <td>길동</td>\n",
       "      <td>2020</td>\n",
       "      <td>0</td>\n",
       "      <td>0.120275</td>\n",
       "      <td>0</td>\n",
       "      <td>0</td>\n",
       "    </tr>\n",
       "  </tbody>\n",
       "</table>\n",
       "<p>5 rows × 24 columns</p>\n",
       "</div>"
      ],
      "text/plain": [
       "                층      건축년도  등기신청일자 k-단지분류(아파트,주상복합등등) k-세대타입(분양형태) k-관리방식  \\\n",
       "1038473  0.123288  0.548387     0.1                NaN          NaN    NaN   \n",
       "164647   0.136986  0.596774     0.1                NaN          NaN    NaN   \n",
       "822748   0.273973  0.403226     0.1                NaN          NaN    NaN   \n",
       "372633   0.082192  0.596774     0.1                NaN          NaN    NaN   \n",
       "300225   0.150685  0.435484     0.1                NaN          NaN    NaN   \n",
       "\n",
       "        k-복도유형 k-난방방식  k-전용면적별세대현황(60㎡이하)  k-전용면적별세대현황(60㎡~85㎡이하)  ...  \\\n",
       "1038473    NaN    NaN                 NaN                     NaN  ...   \n",
       "164647     NaN    NaN                 NaN                     NaN  ...   \n",
       "822748     NaN    NaN                 NaN                     NaN  ...   \n",
       "372633     NaN    NaN                 NaN                     NaN  ...   \n",
       "300225     NaN    NaN                 NaN                     NaN  ...   \n",
       "\n",
       "         청소비관리형태  기타/의무/임대/임의=1/2/3/4    target    구    동  계약년도  성수기여부  \\\n",
       "1038473      NaN                  NaN   23000.0  노원구  하계동  2008      1   \n",
       "164647       NaN                  NaN   25800.0  도봉구  방학동  2009      1   \n",
       "822748       NaN                  NaN   33800.0  성북구  돈암동  2014      0   \n",
       "372633       NaN                  NaN  170000.0  양천구   목동  2020      0   \n",
       "300225       NaN                  NaN   58500.0  강동구   길동  2020      0   \n",
       "\n",
       "             전용면적 중개거래  직거래  \n",
       "1038473  0.095293    0    0  \n",
       "164647   0.146271    0    0  \n",
       "822748   0.180787    0    0  \n",
       "372633   0.205769    0    0  \n",
       "300225   0.120275    0    0  \n",
       "\n",
       "[5 rows x 24 columns]"
      ]
     },
     "execution_count": 173,
     "metadata": {},
     "output_type": "execute_result"
    }
   ],
   "source": [
    "dt.sample(5)"
   ]
  },
  {
   "cell_type": "markdown",
   "metadata": {},
   "source": [
    "##\n",
    "k-단지분류(아파트,주상복합등등) : 아파트 > 주상복합 ? 연립주택 > 도시형생활 주택(주상복합 > 아파트) 내림차순 번호 할당\n",
    "\n",
    "k-세대타입(분양형태) : O : 분양, (기타 )> 임대\n",
    "\n",
    "k-관리방식 : O : 위탁관리 > 자치관리 > 직영\n",
    "\n",
    "k-복도유형 : O : 계단식 > 혼합식 > 복도식 > 타워형 > 기타\n",
    "\n",
    "k-난방방식 : O :개별난방 > 지역난방 > 중앙난방 > 기타\n",
    "\n",
    "k-사용검사일-사용승인일 : - : 사용승인일 - 사용검사일 의 결과값에 대해서 Min Max Scale"
   ]
  },
  {
   "cell_type": "markdown",
   "metadata": {},
   "source": [
    "## 단지분류\n",
    "\n",
    "아파트 > 주상복합 ? 연립주택 > 도시형생활 주택(주상복합 > 아파트) 내림차순 번호 할당 -> OHE"
   ]
  },
  {
   "cell_type": "code",
   "execution_count": 174,
   "metadata": {},
   "outputs": [
    {
     "data": {
      "text/plain": [
       "array(['아파트', '주상복합', nan, '연립주택', '도시형 생활주택(아파트)', '도시형 생활주택(주상복합)'],\n",
       "      dtype=object)"
      ]
     },
     "execution_count": 174,
     "metadata": {},
     "output_type": "execute_result"
    }
   ],
   "source": [
    "dt['k-단지분류(아파트,주상복합등등)'].unique()"
   ]
  },
  {
   "cell_type": "code",
   "execution_count": 175,
   "metadata": {},
   "outputs": [
    {
     "data": {
      "text/plain": [
       "array(['아파트', '주상복합', nan, '연립주택', '도시형 생활주택(아파트)', '도시형 생활주택(주상복합)'],\n",
       "      dtype=object)"
      ]
     },
     "execution_count": 175,
     "metadata": {},
     "output_type": "execute_result"
    }
   ],
   "source": [
    "dt['k-단지분류(아파트,주상복합등등)'].replace('nan', np.nan, inplace=True)\n",
    "dt['k-단지분류(아파트,주상복합등등)'].unique()"
   ]
  },
  {
   "cell_type": "code",
   "execution_count": 176,
   "metadata": {},
   "outputs": [
    {
     "data": {
      "text/html": [
       "<div>\n",
       "<style scoped>\n",
       "    .dataframe tbody tr th:only-of-type {\n",
       "        vertical-align: middle;\n",
       "    }\n",
       "\n",
       "    .dataframe tbody tr th {\n",
       "        vertical-align: top;\n",
       "    }\n",
       "\n",
       "    .dataframe thead th {\n",
       "        text-align: right;\n",
       "    }\n",
       "</style>\n",
       "<table border=\"1\" class=\"dataframe\">\n",
       "  <thead>\n",
       "    <tr style=\"text-align: right;\">\n",
       "      <th></th>\n",
       "      <th>도시형 생활주택(아파트)</th>\n",
       "      <th>도시형 생활주택(주상복합)</th>\n",
       "      <th>아파트</th>\n",
       "      <th>연립주택</th>\n",
       "      <th>주상복합</th>\n",
       "    </tr>\n",
       "  </thead>\n",
       "  <tbody>\n",
       "    <tr>\n",
       "      <th>0</th>\n",
       "      <td>0</td>\n",
       "      <td>0</td>\n",
       "      <td>1</td>\n",
       "      <td>0</td>\n",
       "      <td>0</td>\n",
       "    </tr>\n",
       "    <tr>\n",
       "      <th>1</th>\n",
       "      <td>0</td>\n",
       "      <td>0</td>\n",
       "      <td>1</td>\n",
       "      <td>0</td>\n",
       "      <td>0</td>\n",
       "    </tr>\n",
       "    <tr>\n",
       "      <th>2</th>\n",
       "      <td>0</td>\n",
       "      <td>0</td>\n",
       "      <td>1</td>\n",
       "      <td>0</td>\n",
       "      <td>0</td>\n",
       "    </tr>\n",
       "    <tr>\n",
       "      <th>3</th>\n",
       "      <td>0</td>\n",
       "      <td>0</td>\n",
       "      <td>1</td>\n",
       "      <td>0</td>\n",
       "      <td>0</td>\n",
       "    </tr>\n",
       "    <tr>\n",
       "      <th>4</th>\n",
       "      <td>0</td>\n",
       "      <td>0</td>\n",
       "      <td>1</td>\n",
       "      <td>0</td>\n",
       "      <td>0</td>\n",
       "    </tr>\n",
       "  </tbody>\n",
       "</table>\n",
       "</div>"
      ],
      "text/plain": [
       "   도시형 생활주택(아파트)  도시형 생활주택(주상복합)  아파트  연립주택  주상복합\n",
       "0              0               0    1     0     0\n",
       "1              0               0    1     0     0\n",
       "2              0               0    1     0     0\n",
       "3              0               0    1     0     0\n",
       "4              0               0    1     0     0"
      ]
     },
     "execution_count": 176,
     "metadata": {},
     "output_type": "execute_result"
    }
   ],
   "source": [
    "tmp = pd.get_dummies(dt['k-단지분류(아파트,주상복합등등)'])\n",
    "tmp.head(5)"
   ]
  },
  {
   "cell_type": "code",
   "execution_count": 177,
   "metadata": {},
   "outputs": [
    {
     "data": {
      "text/plain": [
       "Index(['층', '건축년도', '등기신청일자', 'k-세대타입(분양형태)', 'k-관리방식', 'k-복도유형', 'k-난방방식',\n",
       "       'k-전용면적별세대현황(60㎡이하)', 'k-전용면적별세대현황(60㎡~85㎡이하)', 'k-85㎡~135㎡이하',\n",
       "       'k-135㎡초과', '경비비관리형태', '세대전기계약방법', '청소비관리형태', '기타/의무/임대/임의=1/2/3/4',\n",
       "       'target', '구', '동', '계약년도', '성수기여부', '전용면적', '중개거래', '직거래',\n",
       "       '도시형 생활주택(아파트)', '도시형 생활주택(주상복합)', '아파트', '연립주택', '주상복합'],\n",
       "      dtype='object')"
      ]
     },
     "execution_count": 177,
     "metadata": {},
     "output_type": "execute_result"
    }
   ],
   "source": [
    "dt = pd.concat([dt, tmp], axis=1)\n",
    "dt.drop(columns='k-단지분류(아파트,주상복합등등)', inplace=True)\n",
    "dt.columns"
   ]
  },
  {
   "cell_type": "code",
   "execution_count": 178,
   "metadata": {},
   "outputs": [
    {
     "data": {
      "text/html": [
       "<div>\n",
       "<style scoped>\n",
       "    .dataframe tbody tr th:only-of-type {\n",
       "        vertical-align: middle;\n",
       "    }\n",
       "\n",
       "    .dataframe tbody tr th {\n",
       "        vertical-align: top;\n",
       "    }\n",
       "\n",
       "    .dataframe thead th {\n",
       "        text-align: right;\n",
       "    }\n",
       "</style>\n",
       "<table border=\"1\" class=\"dataframe\">\n",
       "  <thead>\n",
       "    <tr style=\"text-align: right;\">\n",
       "      <th></th>\n",
       "      <th>층</th>\n",
       "      <th>건축년도</th>\n",
       "      <th>등기신청일자</th>\n",
       "      <th>k-세대타입(분양형태)</th>\n",
       "      <th>k-관리방식</th>\n",
       "      <th>k-복도유형</th>\n",
       "      <th>k-난방방식</th>\n",
       "      <th>k-전용면적별세대현황(60㎡이하)</th>\n",
       "      <th>k-전용면적별세대현황(60㎡~85㎡이하)</th>\n",
       "      <th>k-85㎡~135㎡이하</th>\n",
       "      <th>...</th>\n",
       "      <th>계약년도</th>\n",
       "      <th>성수기여부</th>\n",
       "      <th>전용면적</th>\n",
       "      <th>중개거래</th>\n",
       "      <th>직거래</th>\n",
       "      <th>도시형 생활주택(아파트)</th>\n",
       "      <th>도시형 생활주택(주상복합)</th>\n",
       "      <th>아파트</th>\n",
       "      <th>연립주택</th>\n",
       "      <th>주상복합</th>\n",
       "    </tr>\n",
       "  </thead>\n",
       "  <tbody>\n",
       "    <tr>\n",
       "      <th>828867</th>\n",
       "      <td>0.232877</td>\n",
       "      <td>0.709677</td>\n",
       "      <td>0.1</td>\n",
       "      <td>NaN</td>\n",
       "      <td>NaN</td>\n",
       "      <td>NaN</td>\n",
       "      <td>NaN</td>\n",
       "      <td>NaN</td>\n",
       "      <td>NaN</td>\n",
       "      <td>NaN</td>\n",
       "      <td>...</td>\n",
       "      <td>2014</td>\n",
       "      <td>0</td>\n",
       "      <td>0.147671</td>\n",
       "      <td>0</td>\n",
       "      <td>0</td>\n",
       "      <td>0</td>\n",
       "      <td>0</td>\n",
       "      <td>0</td>\n",
       "      <td>0</td>\n",
       "      <td>0</td>\n",
       "    </tr>\n",
       "    <tr>\n",
       "      <th>922246</th>\n",
       "      <td>0.191781</td>\n",
       "      <td>0.241935</td>\n",
       "      <td>0.1</td>\n",
       "      <td>NaN</td>\n",
       "      <td>NaN</td>\n",
       "      <td>NaN</td>\n",
       "      <td>NaN</td>\n",
       "      <td>NaN</td>\n",
       "      <td>NaN</td>\n",
       "      <td>NaN</td>\n",
       "      <td>...</td>\n",
       "      <td>2011</td>\n",
       "      <td>0</td>\n",
       "      <td>0.252667</td>\n",
       "      <td>0</td>\n",
       "      <td>0</td>\n",
       "      <td>0</td>\n",
       "      <td>0</td>\n",
       "      <td>0</td>\n",
       "      <td>0</td>\n",
       "      <td>0</td>\n",
       "    </tr>\n",
       "    <tr>\n",
       "      <th>41818</th>\n",
       "      <td>0.356164</td>\n",
       "      <td>0.419355</td>\n",
       "      <td>0.1</td>\n",
       "      <td>NaN</td>\n",
       "      <td>NaN</td>\n",
       "      <td>NaN</td>\n",
       "      <td>NaN</td>\n",
       "      <td>NaN</td>\n",
       "      <td>NaN</td>\n",
       "      <td>NaN</td>\n",
       "      <td>...</td>\n",
       "      <td>2018</td>\n",
       "      <td>1</td>\n",
       "      <td>0.180908</td>\n",
       "      <td>0</td>\n",
       "      <td>0</td>\n",
       "      <td>0</td>\n",
       "      <td>0</td>\n",
       "      <td>0</td>\n",
       "      <td>0</td>\n",
       "      <td>0</td>\n",
       "    </tr>\n",
       "    <tr>\n",
       "      <th>309843</th>\n",
       "      <td>0.205479</td>\n",
       "      <td>0.483871</td>\n",
       "      <td>0.1</td>\n",
       "      <td>NaN</td>\n",
       "      <td>NaN</td>\n",
       "      <td>NaN</td>\n",
       "      <td>NaN</td>\n",
       "      <td>NaN</td>\n",
       "      <td>NaN</td>\n",
       "      <td>NaN</td>\n",
       "      <td>...</td>\n",
       "      <td>2020</td>\n",
       "      <td>0</td>\n",
       "      <td>0.056915</td>\n",
       "      <td>0</td>\n",
       "      <td>0</td>\n",
       "      <td>0</td>\n",
       "      <td>0</td>\n",
       "      <td>0</td>\n",
       "      <td>0</td>\n",
       "      <td>0</td>\n",
       "    </tr>\n",
       "    <tr>\n",
       "      <th>303223</th>\n",
       "      <td>0.232877</td>\n",
       "      <td>0.306452</td>\n",
       "      <td>0.1</td>\n",
       "      <td>분양</td>\n",
       "      <td>위탁관리</td>\n",
       "      <td>혼합식</td>\n",
       "      <td>개별난방</td>\n",
       "      <td>576.0</td>\n",
       "      <td>648.0</td>\n",
       "      <td>361.0</td>\n",
       "      <td>...</td>\n",
       "      <td>2019</td>\n",
       "      <td>0</td>\n",
       "      <td>0.119841</td>\n",
       "      <td>0</td>\n",
       "      <td>0</td>\n",
       "      <td>0</td>\n",
       "      <td>0</td>\n",
       "      <td>1</td>\n",
       "      <td>0</td>\n",
       "      <td>0</td>\n",
       "    </tr>\n",
       "  </tbody>\n",
       "</table>\n",
       "<p>5 rows × 28 columns</p>\n",
       "</div>"
      ],
      "text/plain": [
       "               층      건축년도  등기신청일자 k-세대타입(분양형태) k-관리방식 k-복도유형 k-난방방식  \\\n",
       "828867  0.232877  0.709677     0.1          NaN    NaN    NaN    NaN   \n",
       "922246  0.191781  0.241935     0.1          NaN    NaN    NaN    NaN   \n",
       "41818   0.356164  0.419355     0.1          NaN    NaN    NaN    NaN   \n",
       "309843  0.205479  0.483871     0.1          NaN    NaN    NaN    NaN   \n",
       "303223  0.232877  0.306452     0.1           분양   위탁관리    혼합식   개별난방   \n",
       "\n",
       "        k-전용면적별세대현황(60㎡이하)  k-전용면적별세대현황(60㎡~85㎡이하)  k-85㎡~135㎡이하  ...  계약년도  \\\n",
       "828867                 NaN                     NaN           NaN  ...  2014   \n",
       "922246                 NaN                     NaN           NaN  ...  2011   \n",
       "41818                  NaN                     NaN           NaN  ...  2018   \n",
       "309843                 NaN                     NaN           NaN  ...  2020   \n",
       "303223               576.0                   648.0         361.0  ...  2019   \n",
       "\n",
       "       성수기여부      전용면적 중개거래 직거래  도시형 생활주택(아파트) 도시형 생활주택(주상복합) 아파트  연립주택  주상복합  \n",
       "828867     0  0.147671    0   0              0              0   0     0     0  \n",
       "922246     0  0.252667    0   0              0              0   0     0     0  \n",
       "41818      1  0.180908    0   0              0              0   0     0     0  \n",
       "309843     0  0.056915    0   0              0              0   0     0     0  \n",
       "303223     0  0.119841    0   0              0              0   1     0     0  \n",
       "\n",
       "[5 rows x 28 columns]"
      ]
     },
     "execution_count": 178,
     "metadata": {},
     "output_type": "execute_result"
    }
   ],
   "source": [
    "dt.sample(5)"
   ]
  },
  {
   "cell_type": "code",
   "execution_count": 179,
   "metadata": {},
   "outputs": [],
   "source": [
    "# maps = {\n",
    "#     '아파트' : 5,\n",
    "#     '주상복합' : 4,\n",
    "#     '연립주택택' : 3,\n",
    "#     '도시형 생활주택(주상복합)' : 2,\n",
    "#     '도시형 생활주택(아파트)' : 1, \n",
    "# }\n",
    "# dt['단지분류'] = dt['k-단지분류(아파트,주상복합등등)'].map(maps)\n",
    "# # dt['단지분류'].apply(lambda x: 0 if x == pd.isna(x) else x)\n",
    "# dt['단지분류'].fillna(0, inplace = True)\n",
    "# dt.drop(columns='k-단지분류(아파트,주상복합등등)', inplace = True)\n",
    "# dt.columns"
   ]
  },
  {
   "cell_type": "markdown",
   "metadata": {},
   "source": [
    "## 세대타입(분양형태) : 분양, (기타 )> 임대 = 1, 0.5, 0.1 -> OHE\n"
   ]
  },
  {
   "cell_type": "code",
   "execution_count": 180,
   "metadata": {},
   "outputs": [
    {
     "data": {
      "text/plain": [
       "array(['분양', '기타', nan, '임대'], dtype=object)"
      ]
     },
     "execution_count": 180,
     "metadata": {},
     "output_type": "execute_result"
    }
   ],
   "source": [
    "dt['k-세대타입(분양형태)'].unique()"
   ]
  },
  {
   "cell_type": "code",
   "execution_count": 181,
   "metadata": {},
   "outputs": [
    {
     "data": {
      "text/plain": [
       "array(['분양', '분양형태_기타', nan, '임대'], dtype=object)"
      ]
     },
     "execution_count": 181,
     "metadata": {},
     "output_type": "execute_result"
    }
   ],
   "source": [
    "dt.loc[dt['k-세대타입(분양형태)'] == '기타', 'k-세대타입(분양형태)'] = '분양형태_기타'\n",
    "dt['k-세대타입(분양형태)'].unique()"
   ]
  },
  {
   "cell_type": "code",
   "execution_count": 182,
   "metadata": {},
   "outputs": [
    {
     "data": {
      "text/html": [
       "<div>\n",
       "<style scoped>\n",
       "    .dataframe tbody tr th:only-of-type {\n",
       "        vertical-align: middle;\n",
       "    }\n",
       "\n",
       "    .dataframe tbody tr th {\n",
       "        vertical-align: top;\n",
       "    }\n",
       "\n",
       "    .dataframe thead th {\n",
       "        text-align: right;\n",
       "    }\n",
       "</style>\n",
       "<table border=\"1\" class=\"dataframe\">\n",
       "  <thead>\n",
       "    <tr style=\"text-align: right;\">\n",
       "      <th></th>\n",
       "      <th>분양</th>\n",
       "      <th>분양형태_기타</th>\n",
       "      <th>임대</th>\n",
       "    </tr>\n",
       "  </thead>\n",
       "  <tbody>\n",
       "    <tr>\n",
       "      <th>0</th>\n",
       "      <td>1</td>\n",
       "      <td>0</td>\n",
       "      <td>0</td>\n",
       "    </tr>\n",
       "    <tr>\n",
       "      <th>1</th>\n",
       "      <td>1</td>\n",
       "      <td>0</td>\n",
       "      <td>0</td>\n",
       "    </tr>\n",
       "    <tr>\n",
       "      <th>2</th>\n",
       "      <td>1</td>\n",
       "      <td>0</td>\n",
       "      <td>0</td>\n",
       "    </tr>\n",
       "    <tr>\n",
       "      <th>3</th>\n",
       "      <td>1</td>\n",
       "      <td>0</td>\n",
       "      <td>0</td>\n",
       "    </tr>\n",
       "    <tr>\n",
       "      <th>4</th>\n",
       "      <td>1</td>\n",
       "      <td>0</td>\n",
       "      <td>0</td>\n",
       "    </tr>\n",
       "  </tbody>\n",
       "</table>\n",
       "</div>"
      ],
      "text/plain": [
       "   분양  분양형태_기타  임대\n",
       "0   1        0   0\n",
       "1   1        0   0\n",
       "2   1        0   0\n",
       "3   1        0   0\n",
       "4   1        0   0"
      ]
     },
     "execution_count": 182,
     "metadata": {},
     "output_type": "execute_result"
    }
   ],
   "source": [
    "dt['k-세대타입(분양형태)'].replace('nan', np.nan, inplace=True)\n",
    "tmp = pd.get_dummies(dt['k-세대타입(분양형태)'])\n",
    "tmp.head(5)"
   ]
  },
  {
   "cell_type": "code",
   "execution_count": 183,
   "metadata": {},
   "outputs": [
    {
     "data": {
      "text/plain": [
       "Index(['층', '건축년도', '등기신청일자', 'k-관리방식', 'k-복도유형', 'k-난방방식',\n",
       "       'k-전용면적별세대현황(60㎡이하)', 'k-전용면적별세대현황(60㎡~85㎡이하)', 'k-85㎡~135㎡이하',\n",
       "       'k-135㎡초과', '경비비관리형태', '세대전기계약방법', '청소비관리형태', '기타/의무/임대/임의=1/2/3/4',\n",
       "       'target', '구', '동', '계약년도', '성수기여부', '전용면적', '중개거래', '직거래',\n",
       "       '도시형 생활주택(아파트)', '도시형 생활주택(주상복합)', '아파트', '연립주택', '주상복합', '분양',\n",
       "       '분양형태_기타', '임대'],\n",
       "      dtype='object')"
      ]
     },
     "execution_count": 183,
     "metadata": {},
     "output_type": "execute_result"
    }
   ],
   "source": [
    "dt = pd.concat([dt, tmp], axis=1)\n",
    "dt.drop(columns='k-세대타입(분양형태)', inplace=True)\n",
    "dt.columns"
   ]
  },
  {
   "cell_type": "code",
   "execution_count": 184,
   "metadata": {},
   "outputs": [],
   "source": [
    "# maps = {\n",
    "#     '분양' : 1,\n",
    "#     '기타' : 0.5,\n",
    "#     '임대' : 0.1\n",
    "# }\n",
    "# dt['세대타입(분양형태)'] = dt['k-세대타입(분양형태)'].map(maps)\n",
    "# dt.drop(columns='k-세대타입(분양형태)' ,inplace=True)\n",
    "# dt['세대타입(분양형태)'].fillna(0.1, inplace=True)\n",
    "# dt['세대타입(분양형태)'].unique()"
   ]
  },
  {
   "cell_type": "markdown",
   "metadata": {},
   "source": [
    "## 관리방식 : 위탁관리 > 자치관리 > 직영 (1, 0.5, 0.1) -> OHE\n"
   ]
  },
  {
   "cell_type": "code",
   "execution_count": 185,
   "metadata": {},
   "outputs": [
    {
     "data": {
      "text/plain": [
       "array(['자치관리', '위탁관리', '직영', nan], dtype=object)"
      ]
     },
     "execution_count": 185,
     "metadata": {},
     "output_type": "execute_result"
    }
   ],
   "source": [
    "dt['k-관리방식'].unique()"
   ]
  },
  {
   "cell_type": "code",
   "execution_count": 186,
   "metadata": {},
   "outputs": [
    {
     "data": {
      "text/html": [
       "<div>\n",
       "<style scoped>\n",
       "    .dataframe tbody tr th:only-of-type {\n",
       "        vertical-align: middle;\n",
       "    }\n",
       "\n",
       "    .dataframe tbody tr th {\n",
       "        vertical-align: top;\n",
       "    }\n",
       "\n",
       "    .dataframe thead th {\n",
       "        text-align: right;\n",
       "    }\n",
       "</style>\n",
       "<table border=\"1\" class=\"dataframe\">\n",
       "  <thead>\n",
       "    <tr style=\"text-align: right;\">\n",
       "      <th></th>\n",
       "      <th>위탁관리</th>\n",
       "      <th>자치관리</th>\n",
       "      <th>직영</th>\n",
       "    </tr>\n",
       "  </thead>\n",
       "  <tbody>\n",
       "    <tr>\n",
       "      <th>0</th>\n",
       "      <td>0</td>\n",
       "      <td>1</td>\n",
       "      <td>0</td>\n",
       "    </tr>\n",
       "    <tr>\n",
       "      <th>1</th>\n",
       "      <td>0</td>\n",
       "      <td>1</td>\n",
       "      <td>0</td>\n",
       "    </tr>\n",
       "    <tr>\n",
       "      <th>2</th>\n",
       "      <td>0</td>\n",
       "      <td>1</td>\n",
       "      <td>0</td>\n",
       "    </tr>\n",
       "    <tr>\n",
       "      <th>3</th>\n",
       "      <td>0</td>\n",
       "      <td>1</td>\n",
       "      <td>0</td>\n",
       "    </tr>\n",
       "    <tr>\n",
       "      <th>4</th>\n",
       "      <td>0</td>\n",
       "      <td>1</td>\n",
       "      <td>0</td>\n",
       "    </tr>\n",
       "  </tbody>\n",
       "</table>\n",
       "</div>"
      ],
      "text/plain": [
       "   위탁관리  자치관리  직영\n",
       "0     0     1   0\n",
       "1     0     1   0\n",
       "2     0     1   0\n",
       "3     0     1   0\n",
       "4     0     1   0"
      ]
     },
     "execution_count": 186,
     "metadata": {},
     "output_type": "execute_result"
    }
   ],
   "source": [
    "dt['k-관리방식'].replace('nan', np.nan, inplace=True)\n",
    "tmp = pd.get_dummies(dt['k-관리방식'])\n",
    "tmp.head(5)"
   ]
  },
  {
   "cell_type": "code",
   "execution_count": 187,
   "metadata": {},
   "outputs": [
    {
     "data": {
      "text/plain": [
       "Index(['층', '건축년도', '등기신청일자', 'k-복도유형', 'k-난방방식', 'k-전용면적별세대현황(60㎡이하)',\n",
       "       'k-전용면적별세대현황(60㎡~85㎡이하)', 'k-85㎡~135㎡이하', 'k-135㎡초과', '경비비관리형태',\n",
       "       '세대전기계약방법', '청소비관리형태', '기타/의무/임대/임의=1/2/3/4', 'target', '구', '동',\n",
       "       '계약년도', '성수기여부', '전용면적', '중개거래', '직거래', '도시형 생활주택(아파트)',\n",
       "       '도시형 생활주택(주상복합)', '아파트', '연립주택', '주상복합', '분양', '분양형태_기타', '임대', '위탁관리',\n",
       "       '자치관리', '직영'],\n",
       "      dtype='object')"
      ]
     },
     "execution_count": 187,
     "metadata": {},
     "output_type": "execute_result"
    }
   ],
   "source": [
    "dt = pd.concat([dt, tmp], axis=1)\n",
    "dt.drop(columns='k-관리방식', inplace=True)\n",
    "dt.columns"
   ]
  },
  {
   "cell_type": "code",
   "execution_count": 188,
   "metadata": {},
   "outputs": [],
   "source": [
    "# maps = {\n",
    "#     '위탁관리' : 1,\n",
    "#     '자치관리' : 0.5,\n",
    "#     '직영' : 0.1\n",
    "# }\n",
    "# dt['관리방식'] = dt['k-관리방식'].map(maps)\n",
    "# dt.drop(columns='k-관리방식' ,inplace=True)\n",
    "# dt['관리방식'].fillna(0.1, inplace = True)\n",
    "# dt['관리방식'].unique()"
   ]
  },
  {
   "cell_type": "markdown",
   "metadata": {},
   "source": [
    "## 복도유형 : 계단식 > 혼합식 > 복도식 > 타워형 > 기타 (4, 3, 2, 1, 0.1) -> OHE\n"
   ]
  },
  {
   "cell_type": "code",
   "execution_count": 189,
   "metadata": {},
   "outputs": [
    {
     "data": {
      "text/plain": [
       "array(['계단식', '혼합식', '복도식', '타워형', '기타', nan], dtype=object)"
      ]
     },
     "execution_count": 189,
     "metadata": {},
     "output_type": "execute_result"
    }
   ],
   "source": [
    "dt['k-복도유형'].unique()"
   ]
  },
  {
   "cell_type": "code",
   "execution_count": 190,
   "metadata": {},
   "outputs": [
    {
     "data": {
      "text/plain": [
       "array(['계단식', '혼합식', '복도식', '타워형', '복도유형_기타', nan], dtype=object)"
      ]
     },
     "execution_count": 190,
     "metadata": {},
     "output_type": "execute_result"
    }
   ],
   "source": [
    "dt.loc[dt['k-복도유형'] == '기타', 'k-복도유형'] = '복도유형_기타'\n",
    "dt['k-복도유형'].unique()"
   ]
  },
  {
   "cell_type": "code",
   "execution_count": 191,
   "metadata": {},
   "outputs": [
    {
     "data": {
      "text/html": [
       "<div>\n",
       "<style scoped>\n",
       "    .dataframe tbody tr th:only-of-type {\n",
       "        vertical-align: middle;\n",
       "    }\n",
       "\n",
       "    .dataframe tbody tr th {\n",
       "        vertical-align: top;\n",
       "    }\n",
       "\n",
       "    .dataframe thead th {\n",
       "        text-align: right;\n",
       "    }\n",
       "</style>\n",
       "<table border=\"1\" class=\"dataframe\">\n",
       "  <thead>\n",
       "    <tr style=\"text-align: right;\">\n",
       "      <th></th>\n",
       "      <th>계단식</th>\n",
       "      <th>복도식</th>\n",
       "      <th>복도유형_기타</th>\n",
       "      <th>타워형</th>\n",
       "      <th>혼합식</th>\n",
       "    </tr>\n",
       "  </thead>\n",
       "  <tbody>\n",
       "    <tr>\n",
       "      <th>0</th>\n",
       "      <td>1</td>\n",
       "      <td>0</td>\n",
       "      <td>0</td>\n",
       "      <td>0</td>\n",
       "      <td>0</td>\n",
       "    </tr>\n",
       "    <tr>\n",
       "      <th>1</th>\n",
       "      <td>1</td>\n",
       "      <td>0</td>\n",
       "      <td>0</td>\n",
       "      <td>0</td>\n",
       "      <td>0</td>\n",
       "    </tr>\n",
       "    <tr>\n",
       "      <th>2</th>\n",
       "      <td>1</td>\n",
       "      <td>0</td>\n",
       "      <td>0</td>\n",
       "      <td>0</td>\n",
       "      <td>0</td>\n",
       "    </tr>\n",
       "    <tr>\n",
       "      <th>3</th>\n",
       "      <td>1</td>\n",
       "      <td>0</td>\n",
       "      <td>0</td>\n",
       "      <td>0</td>\n",
       "      <td>0</td>\n",
       "    </tr>\n",
       "    <tr>\n",
       "      <th>4</th>\n",
       "      <td>1</td>\n",
       "      <td>0</td>\n",
       "      <td>0</td>\n",
       "      <td>0</td>\n",
       "      <td>0</td>\n",
       "    </tr>\n",
       "  </tbody>\n",
       "</table>\n",
       "</div>"
      ],
      "text/plain": [
       "   계단식  복도식  복도유형_기타  타워형  혼합식\n",
       "0    1    0        0    0    0\n",
       "1    1    0        0    0    0\n",
       "2    1    0        0    0    0\n",
       "3    1    0        0    0    0\n",
       "4    1    0        0    0    0"
      ]
     },
     "execution_count": 191,
     "metadata": {},
     "output_type": "execute_result"
    }
   ],
   "source": [
    "dt['k-복도유형'].replace('nan', np.nan, inplace=True)\n",
    "tmp = pd.get_dummies(dt['k-복도유형'])\n",
    "tmp.head(5)"
   ]
  },
  {
   "cell_type": "code",
   "execution_count": 192,
   "metadata": {},
   "outputs": [
    {
     "data": {
      "text/plain": [
       "Index(['층', '건축년도', '등기신청일자', 'k-난방방식', 'k-전용면적별세대현황(60㎡이하)',\n",
       "       'k-전용면적별세대현황(60㎡~85㎡이하)', 'k-85㎡~135㎡이하', 'k-135㎡초과', '경비비관리형태',\n",
       "       '세대전기계약방법', '청소비관리형태', '기타/의무/임대/임의=1/2/3/4', 'target', '구', '동',\n",
       "       '계약년도', '성수기여부', '전용면적', '중개거래', '직거래', '도시형 생활주택(아파트)',\n",
       "       '도시형 생활주택(주상복합)', '아파트', '연립주택', '주상복합', '분양', '분양형태_기타', '임대', '위탁관리',\n",
       "       '자치관리', '직영', '계단식', '복도식', '복도유형_기타', '타워형', '혼합식'],\n",
       "      dtype='object')"
      ]
     },
     "execution_count": 192,
     "metadata": {},
     "output_type": "execute_result"
    }
   ],
   "source": [
    "dt = pd.concat([dt, tmp], axis=1)\n",
    "dt.drop(columns='k-복도유형', inplace=True)\n",
    "dt.columns"
   ]
  },
  {
   "cell_type": "code",
   "execution_count": 193,
   "metadata": {},
   "outputs": [],
   "source": [
    "# maps = {\n",
    "#     '계단식' : 4,\n",
    "#     '혼합식' : 3,\n",
    "#     '복도식' : 2,\n",
    "#     '타워형' : 1,\n",
    "#     '기타' : 0.1\n",
    "# }\n",
    "# dt['복도유형'] = dt['k-복도유형'].map(maps)\n",
    "# dt.drop(columns= 'k-복도유형',inplace=True)\n",
    "# dt['복도유형'].fillna(0.1, inplace=True)\n",
    "# dt['복도유형'].unique()"
   ]
  },
  {
   "cell_type": "code",
   "execution_count": 194,
   "metadata": {},
   "outputs": [
    {
     "data": {
      "text/plain": [
       "Index(['층', '건축년도', '등기신청일자', 'k-난방방식', 'k-전용면적별세대현황(60㎡이하)',\n",
       "       'k-전용면적별세대현황(60㎡~85㎡이하)', 'k-85㎡~135㎡이하', 'k-135㎡초과', '경비비관리형태',\n",
       "       '세대전기계약방법', '청소비관리형태', '기타/의무/임대/임의=1/2/3/4', 'target', '구', '동',\n",
       "       '계약년도', '성수기여부', '전용면적', '중개거래', '직거래', '도시형 생활주택(아파트)',\n",
       "       '도시형 생활주택(주상복합)', '아파트', '연립주택', '주상복합', '분양', '분양형태_기타', '임대', '위탁관리',\n",
       "       '자치관리', '직영', '계단식', '복도식', '복도유형_기타', '타워형', '혼합식'],\n",
       "      dtype='object')"
      ]
     },
     "execution_count": 194,
     "metadata": {},
     "output_type": "execute_result"
    }
   ],
   "source": [
    "dt.columns"
   ]
  },
  {
   "cell_type": "markdown",
   "metadata": {},
   "source": [
    "## 난방방식 : 개별난방 > 지역난방 > 중앙난방 > 기타 (3, 2, 1, 0.1) -> OHE\n"
   ]
  },
  {
   "cell_type": "code",
   "execution_count": 195,
   "metadata": {},
   "outputs": [
    {
     "data": {
      "text/plain": [
       "array(['개별난방', '지역난방', '기타', nan, '중앙난방'], dtype=object)"
      ]
     },
     "execution_count": 195,
     "metadata": {},
     "output_type": "execute_result"
    }
   ],
   "source": [
    "dt['k-난방방식'].unique()"
   ]
  },
  {
   "cell_type": "code",
   "execution_count": 196,
   "metadata": {},
   "outputs": [
    {
     "data": {
      "text/plain": [
       "array(['개별난방', '지역난방', '난방방식_기타', nan, '중앙난방'], dtype=object)"
      ]
     },
     "execution_count": 196,
     "metadata": {},
     "output_type": "execute_result"
    }
   ],
   "source": [
    "dt.loc[dt['k-난방방식'] == '기타', 'k-난방방식'] = '난방방식_기타'\n",
    "dt['k-난방방식'].unique()"
   ]
  },
  {
   "cell_type": "code",
   "execution_count": 197,
   "metadata": {},
   "outputs": [
    {
     "data": {
      "text/html": [
       "<div>\n",
       "<style scoped>\n",
       "    .dataframe tbody tr th:only-of-type {\n",
       "        vertical-align: middle;\n",
       "    }\n",
       "\n",
       "    .dataframe tbody tr th {\n",
       "        vertical-align: top;\n",
       "    }\n",
       "\n",
       "    .dataframe thead th {\n",
       "        text-align: right;\n",
       "    }\n",
       "</style>\n",
       "<table border=\"1\" class=\"dataframe\">\n",
       "  <thead>\n",
       "    <tr style=\"text-align: right;\">\n",
       "      <th></th>\n",
       "      <th>개별난방</th>\n",
       "      <th>난방방식_기타</th>\n",
       "      <th>중앙난방</th>\n",
       "      <th>지역난방</th>\n",
       "    </tr>\n",
       "  </thead>\n",
       "  <tbody>\n",
       "    <tr>\n",
       "      <th>0</th>\n",
       "      <td>1</td>\n",
       "      <td>0</td>\n",
       "      <td>0</td>\n",
       "      <td>0</td>\n",
       "    </tr>\n",
       "    <tr>\n",
       "      <th>1</th>\n",
       "      <td>1</td>\n",
       "      <td>0</td>\n",
       "      <td>0</td>\n",
       "      <td>0</td>\n",
       "    </tr>\n",
       "    <tr>\n",
       "      <th>2</th>\n",
       "      <td>1</td>\n",
       "      <td>0</td>\n",
       "      <td>0</td>\n",
       "      <td>0</td>\n",
       "    </tr>\n",
       "    <tr>\n",
       "      <th>3</th>\n",
       "      <td>1</td>\n",
       "      <td>0</td>\n",
       "      <td>0</td>\n",
       "      <td>0</td>\n",
       "    </tr>\n",
       "    <tr>\n",
       "      <th>4</th>\n",
       "      <td>1</td>\n",
       "      <td>0</td>\n",
       "      <td>0</td>\n",
       "      <td>0</td>\n",
       "    </tr>\n",
       "  </tbody>\n",
       "</table>\n",
       "</div>"
      ],
      "text/plain": [
       "   개별난방  난방방식_기타  중앙난방  지역난방\n",
       "0     1        0     0     0\n",
       "1     1        0     0     0\n",
       "2     1        0     0     0\n",
       "3     1        0     0     0\n",
       "4     1        0     0     0"
      ]
     },
     "execution_count": 197,
     "metadata": {},
     "output_type": "execute_result"
    }
   ],
   "source": [
    "dt['k-난방방식'].replace('nan', np.nan, inplace=True)\n",
    "tmp = pd.get_dummies(dt['k-난방방식'])\n",
    "tmp.head(5)"
   ]
  },
  {
   "cell_type": "code",
   "execution_count": 198,
   "metadata": {},
   "outputs": [
    {
     "data": {
      "text/plain": [
       "Index(['층', '건축년도', '등기신청일자', 'k-전용면적별세대현황(60㎡이하)', 'k-전용면적별세대현황(60㎡~85㎡이하)',\n",
       "       'k-85㎡~135㎡이하', 'k-135㎡초과', '경비비관리형태', '세대전기계약방법', '청소비관리형태',\n",
       "       '기타/의무/임대/임의=1/2/3/4', 'target', '구', '동', '계약년도', '성수기여부', '전용면적',\n",
       "       '중개거래', '직거래', '도시형 생활주택(아파트)', '도시형 생활주택(주상복합)', '아파트', '연립주택', '주상복합',\n",
       "       '분양', '분양형태_기타', '임대', '위탁관리', '자치관리', '직영', '계단식', '복도식', '복도유형_기타',\n",
       "       '타워형', '혼합식', '개별난방', '난방방식_기타', '중앙난방', '지역난방'],\n",
       "      dtype='object')"
      ]
     },
     "execution_count": 198,
     "metadata": {},
     "output_type": "execute_result"
    }
   ],
   "source": [
    "dt = pd.concat([dt, tmp], axis=1)\n",
    "dt.drop(columns='k-난방방식', inplace=True)\n",
    "dt.columns"
   ]
  },
  {
   "cell_type": "code",
   "execution_count": 199,
   "metadata": {},
   "outputs": [],
   "source": [
    "# maps = {\n",
    "#     '개별난방' : 3,\n",
    "#     '지역난방' : 2,\n",
    "#     '중앙난방' : 1,\n",
    "#     '기타' : 0.1\n",
    "# }\n",
    "# dt['난방방식'] = dt['k-난방방식'].map(maps)\n",
    "# dt.drop(columns= 'k-난방방식',inplace=True)\n",
    "# dt['난방방식'].fillna(0.1, inplace=True)\n",
    "# dt['난방방식'].unique()"
   ]
  },
  {
   "cell_type": "markdown",
   "metadata": {},
   "source": [
    "## 면적별~\n"
   ]
  },
  {
   "cell_type": "code",
   "execution_count": 200,
   "metadata": {},
   "outputs": [
    {
     "data": {
      "text/plain": [
       "k-전용면적별세대현황(60㎡이하)         876170\n",
       "k-전용면적별세대현황(60㎡~85㎡이하)     876170\n",
       "k-85㎡~135㎡이하               876170\n",
       "k-135㎡초과                  1127765\n",
       "dtype: int64"
      ]
     },
     "execution_count": 200,
     "metadata": {},
     "output_type": "execute_result"
    }
   ],
   "source": [
    "dt[['k-전용면적별세대현황(60㎡이하)','k-전용면적별세대현황(60㎡~85㎡이하)','k-85㎡~135㎡이하','k-135㎡초과']].isnull().sum()"
   ]
  },
  {
   "cell_type": "code",
   "execution_count": 201,
   "metadata": {},
   "outputs": [
    {
     "data": {
      "text/plain": [
       "전용면적별세대현황(60㎡이하)        0\n",
       "전용면적별세대현황(60㎡~85㎡이하)    0\n",
       "85㎡~135㎡이하              0\n",
       "135㎡초과                  0\n",
       "dtype: int64"
      ]
     },
     "execution_count": 201,
     "metadata": {},
     "output_type": "execute_result"
    }
   ],
   "source": [
    "dt['전용면적별세대현황(60㎡이하)'] = dt['k-전용면적별세대현황(60㎡이하)'].fillna(dt['k-전용면적별세대현황(60㎡이하)'].mean())\n",
    "dt['전용면적별세대현황(60㎡~85㎡이하)'] = dt['k-전용면적별세대현황(60㎡~85㎡이하)'].fillna(dt['k-전용면적별세대현황(60㎡~85㎡이하)'].mean())\n",
    "dt['85㎡~135㎡이하'] = dt['k-85㎡~135㎡이하'].fillna(dt['k-85㎡~135㎡이하'].mean())\n",
    "dt['135㎡초과'] = dt['k-135㎡초과'].fillna(dt['k-135㎡초과'].mean())\n",
    "dt.drop(columns=['k-전용면적별세대현황(60㎡이하)','k-전용면적별세대현황(60㎡~85㎡이하)','k-85㎡~135㎡이하','k-135㎡초과'], inplace = True)\n",
    "dt[['전용면적별세대현황(60㎡이하)', '전용면적별세대현황(60㎡~85㎡이하)', '85㎡~135㎡이하', '135㎡초과']].isnull().sum()"
   ]
  },
  {
   "cell_type": "code",
   "execution_count": 202,
   "metadata": {},
   "outputs": [],
   "source": [
    "categories = ['전용면적별세대현황(60㎡이하)', '전용면적별세대현황(60㎡~85㎡이하)', '85㎡~135㎡이하', '135㎡초과']\n",
    "for c in categories:\n",
    "    scaler = MinMaxScaler()\n",
    "    dt[c] = scaler.fit_transform(dt[[c]])"
   ]
  },
  {
   "cell_type": "code",
   "execution_count": 203,
   "metadata": {},
   "outputs": [
    {
     "data": {
      "text/html": [
       "<div>\n",
       "<style scoped>\n",
       "    .dataframe tbody tr th:only-of-type {\n",
       "        vertical-align: middle;\n",
       "    }\n",
       "\n",
       "    .dataframe tbody tr th {\n",
       "        vertical-align: top;\n",
       "    }\n",
       "\n",
       "    .dataframe thead th {\n",
       "        text-align: right;\n",
       "    }\n",
       "</style>\n",
       "<table border=\"1\" class=\"dataframe\">\n",
       "  <thead>\n",
       "    <tr style=\"text-align: right;\">\n",
       "      <th></th>\n",
       "      <th>전용면적별세대현황(60㎡이하)</th>\n",
       "      <th>전용면적별세대현황(60㎡~85㎡이하)</th>\n",
       "      <th>85㎡~135㎡이하</th>\n",
       "      <th>135㎡초과</th>\n",
       "    </tr>\n",
       "  </thead>\n",
       "  <tbody>\n",
       "    <tr>\n",
       "      <th>47417</th>\n",
       "      <td>0.096197</td>\n",
       "      <td>0.093255</td>\n",
       "      <td>0.111857</td>\n",
       "      <td>0.0</td>\n",
       "    </tr>\n",
       "    <tr>\n",
       "      <th>89823</th>\n",
       "      <td>0.096197</td>\n",
       "      <td>0.093255</td>\n",
       "      <td>0.111857</td>\n",
       "      <td>0.0</td>\n",
       "    </tr>\n",
       "    <tr>\n",
       "      <th>207210</th>\n",
       "      <td>0.096197</td>\n",
       "      <td>0.093255</td>\n",
       "      <td>0.111857</td>\n",
       "      <td>0.0</td>\n",
       "    </tr>\n",
       "    <tr>\n",
       "      <th>673346</th>\n",
       "      <td>0.096197</td>\n",
       "      <td>0.093255</td>\n",
       "      <td>0.111857</td>\n",
       "      <td>0.0</td>\n",
       "    </tr>\n",
       "    <tr>\n",
       "      <th>505304</th>\n",
       "      <td>0.096197</td>\n",
       "      <td>0.093255</td>\n",
       "      <td>0.111857</td>\n",
       "      <td>0.0</td>\n",
       "    </tr>\n",
       "    <tr>\n",
       "      <th>807820</th>\n",
       "      <td>0.060302</td>\n",
       "      <td>0.046181</td>\n",
       "      <td>0.000000</td>\n",
       "      <td>0.0</td>\n",
       "    </tr>\n",
       "    <tr>\n",
       "      <th>920861</th>\n",
       "      <td>0.096197</td>\n",
       "      <td>0.093255</td>\n",
       "      <td>0.111857</td>\n",
       "      <td>0.0</td>\n",
       "    </tr>\n",
       "    <tr>\n",
       "      <th>187106</th>\n",
       "      <td>0.045226</td>\n",
       "      <td>0.044817</td>\n",
       "      <td>0.000000</td>\n",
       "      <td>0.0</td>\n",
       "    </tr>\n",
       "    <tr>\n",
       "      <th>673545</th>\n",
       "      <td>0.096197</td>\n",
       "      <td>0.093255</td>\n",
       "      <td>0.111857</td>\n",
       "      <td>0.0</td>\n",
       "    </tr>\n",
       "    <tr>\n",
       "      <th>1022211</th>\n",
       "      <td>0.096197</td>\n",
       "      <td>0.093255</td>\n",
       "      <td>0.111857</td>\n",
       "      <td>0.0</td>\n",
       "    </tr>\n",
       "  </tbody>\n",
       "</table>\n",
       "</div>"
      ],
      "text/plain": [
       "         전용면적별세대현황(60㎡이하)  전용면적별세대현황(60㎡~85㎡이하)  85㎡~135㎡이하  135㎡초과\n",
       "47417            0.096197              0.093255    0.111857     0.0\n",
       "89823            0.096197              0.093255    0.111857     0.0\n",
       "207210           0.096197              0.093255    0.111857     0.0\n",
       "673346           0.096197              0.093255    0.111857     0.0\n",
       "505304           0.096197              0.093255    0.111857     0.0\n",
       "807820           0.060302              0.046181    0.000000     0.0\n",
       "920861           0.096197              0.093255    0.111857     0.0\n",
       "187106           0.045226              0.044817    0.000000     0.0\n",
       "673545           0.096197              0.093255    0.111857     0.0\n",
       "1022211          0.096197              0.093255    0.111857     0.0"
      ]
     },
     "execution_count": 203,
     "metadata": {},
     "output_type": "execute_result"
    }
   ],
   "source": [
    "dt[['전용면적별세대현황(60㎡이하)', '전용면적별세대현황(60㎡~85㎡이하)', '85㎡~135㎡이하', '135㎡초과']].sample(10)"
   ]
  },
  {
   "cell_type": "code",
   "execution_count": 204,
   "metadata": {},
   "outputs": [
    {
     "data": {
      "text/plain": [
       "Index(['층', '건축년도', '등기신청일자', '경비비관리형태', '세대전기계약방법', '청소비관리형태',\n",
       "       '기타/의무/임대/임의=1/2/3/4', 'target', '구', '동', '계약년도', '성수기여부', '전용면적',\n",
       "       '중개거래', '직거래', '도시형 생활주택(아파트)', '도시형 생활주택(주상복합)', '아파트', '연립주택', '주상복합',\n",
       "       '분양', '분양형태_기타', '임대', '위탁관리', '자치관리', '직영', '계단식', '복도식', '복도유형_기타',\n",
       "       '타워형', '혼합식', '개별난방', '난방방식_기타', '중앙난방', '지역난방', '전용면적별세대현황(60㎡이하)',\n",
       "       '전용면적별세대현황(60㎡~85㎡이하)', '85㎡~135㎡이하', '135㎡초과'],\n",
       "      dtype='object')"
      ]
     },
     "execution_count": 204,
     "metadata": {},
     "output_type": "execute_result"
    }
   ],
   "source": [
    "dt.columns"
   ]
  },
  {
   "cell_type": "markdown",
   "metadata": {},
   "source": [
    "## 중간점검\n",
    "\n",
    "경비비관리형태 : 위탁 > 직영 > 위탁+직영 > 기타 : 내림차순 ~ 0\n",
    "\n",
    "세대전기계약방법 : 종합계약 > 단일계약 : 1, 0\n",
    "\n",
    "청소비관리형태 : 위탁 > 직영 > 위탁+직영 : 2, 1, 0\n",
    "\n",
    "기타/의무/임대/임의=1/2/3/4 : 의무 > 기타 > 임의 > 임대\n"
   ]
  },
  {
   "cell_type": "markdown",
   "metadata": {},
   "source": [
    "## 경비비관리형태 : 위탁 > 직영 > 위탁+직영 > 기타 -> OHE\n"
   ]
  },
  {
   "cell_type": "code",
   "execution_count": 205,
   "metadata": {},
   "outputs": [
    {
     "data": {
      "text/plain": [
       "array(['직영', '위탁', '위탁+직영', nan, '기타'], dtype=object)"
      ]
     },
     "execution_count": 205,
     "metadata": {},
     "output_type": "execute_result"
    }
   ],
   "source": [
    "dt['경비비관리형태'].unique()"
   ]
  },
  {
   "cell_type": "code",
   "execution_count": 206,
   "metadata": {},
   "outputs": [
    {
     "data": {
      "text/plain": [
       "array(['직영', '위탁', '위탁+직영', nan, '경비비관리형태_기타'], dtype=object)"
      ]
     },
     "execution_count": 206,
     "metadata": {},
     "output_type": "execute_result"
    }
   ],
   "source": [
    "dt.loc[dt['경비비관리형태'] == '기타', '경비비관리형태'] = '경비비관리형태_기타'\n",
    "dt['경비비관리형태'].unique()"
   ]
  },
  {
   "cell_type": "code",
   "execution_count": 207,
   "metadata": {},
   "outputs": [
    {
     "data": {
      "text/html": [
       "<div>\n",
       "<style scoped>\n",
       "    .dataframe tbody tr th:only-of-type {\n",
       "        vertical-align: middle;\n",
       "    }\n",
       "\n",
       "    .dataframe tbody tr th {\n",
       "        vertical-align: top;\n",
       "    }\n",
       "\n",
       "    .dataframe thead th {\n",
       "        text-align: right;\n",
       "    }\n",
       "</style>\n",
       "<table border=\"1\" class=\"dataframe\">\n",
       "  <thead>\n",
       "    <tr style=\"text-align: right;\">\n",
       "      <th></th>\n",
       "      <th>경비비관리형태_기타</th>\n",
       "      <th>위탁</th>\n",
       "      <th>위탁+직영</th>\n",
       "      <th>직영</th>\n",
       "    </tr>\n",
       "  </thead>\n",
       "  <tbody>\n",
       "    <tr>\n",
       "      <th>0</th>\n",
       "      <td>0</td>\n",
       "      <td>0</td>\n",
       "      <td>0</td>\n",
       "      <td>1</td>\n",
       "    </tr>\n",
       "    <tr>\n",
       "      <th>1</th>\n",
       "      <td>0</td>\n",
       "      <td>0</td>\n",
       "      <td>0</td>\n",
       "      <td>1</td>\n",
       "    </tr>\n",
       "    <tr>\n",
       "      <th>2</th>\n",
       "      <td>0</td>\n",
       "      <td>0</td>\n",
       "      <td>0</td>\n",
       "      <td>1</td>\n",
       "    </tr>\n",
       "    <tr>\n",
       "      <th>3</th>\n",
       "      <td>0</td>\n",
       "      <td>0</td>\n",
       "      <td>0</td>\n",
       "      <td>1</td>\n",
       "    </tr>\n",
       "    <tr>\n",
       "      <th>4</th>\n",
       "      <td>0</td>\n",
       "      <td>0</td>\n",
       "      <td>0</td>\n",
       "      <td>1</td>\n",
       "    </tr>\n",
       "  </tbody>\n",
       "</table>\n",
       "</div>"
      ],
      "text/plain": [
       "   경비비관리형태_기타  위탁  위탁+직영  직영\n",
       "0           0   0      0   1\n",
       "1           0   0      0   1\n",
       "2           0   0      0   1\n",
       "3           0   0      0   1\n",
       "4           0   0      0   1"
      ]
     },
     "execution_count": 207,
     "metadata": {},
     "output_type": "execute_result"
    }
   ],
   "source": [
    "dt['경비비관리형태'].replace('nan', np.nan, inplace=True)\n",
    "tmp = pd.get_dummies(dt['경비비관리형태'])\n",
    "tmp.head(5)"
   ]
  },
  {
   "cell_type": "code",
   "execution_count": 208,
   "metadata": {},
   "outputs": [
    {
     "data": {
      "text/plain": [
       "Index(['층', '건축년도', '등기신청일자', '세대전기계약방법', '청소비관리형태', '기타/의무/임대/임의=1/2/3/4',\n",
       "       'target', '구', '동', '계약년도', '성수기여부', '전용면적', '중개거래', '직거래',\n",
       "       '도시형 생활주택(아파트)', '도시형 생활주택(주상복합)', '아파트', '연립주택', '주상복합', '분양',\n",
       "       '분양형태_기타', '임대', '위탁관리', '자치관리', '직영', '계단식', '복도식', '복도유형_기타', '타워형',\n",
       "       '혼합식', '개별난방', '난방방식_기타', '중앙난방', '지역난방', '전용면적별세대현황(60㎡이하)',\n",
       "       '전용면적별세대현황(60㎡~85㎡이하)', '85㎡~135㎡이하', '135㎡초과', '경비비관리형태_기타', '위탁',\n",
       "       '위탁+직영', '직영'],\n",
       "      dtype='object')"
      ]
     },
     "execution_count": 208,
     "metadata": {},
     "output_type": "execute_result"
    }
   ],
   "source": [
    "dt = pd.concat([dt, tmp], axis=1)\n",
    "dt.drop(columns='경비비관리형태', inplace=True)\n",
    "dt.columns"
   ]
  },
  {
   "cell_type": "code",
   "execution_count": 209,
   "metadata": {},
   "outputs": [],
   "source": [
    "# maps = {\n",
    "#     '위탁' : 3,\n",
    "#     '직영' : 2,\n",
    "#     '위탁+직영' : 1,\n",
    "#     '기타' : 0.1\n",
    "# }\n",
    "# dt['경비비관리형태'] = dt['경비비관리형태'].map(maps)\n",
    "# dt['경비비관리형태'].fillna(0.1, inplace=True)\n",
    "# dt['경비비관리형태'].unique()"
   ]
  },
  {
   "cell_type": "markdown",
   "metadata": {},
   "source": [
    "## 세대전기계약방법 : 종합계약 > 단일계약 : 2, 1 -> OHE"
   ]
  },
  {
   "cell_type": "code",
   "execution_count": 210,
   "metadata": {},
   "outputs": [
    {
     "data": {
      "text/plain": [
       "array(['단일계약', '종합계약', nan], dtype=object)"
      ]
     },
     "execution_count": 210,
     "metadata": {},
     "output_type": "execute_result"
    }
   ],
   "source": [
    "dt['세대전기계약방법'].unique()"
   ]
  },
  {
   "cell_type": "code",
   "execution_count": 211,
   "metadata": {},
   "outputs": [
    {
     "data": {
      "text/html": [
       "<div>\n",
       "<style scoped>\n",
       "    .dataframe tbody tr th:only-of-type {\n",
       "        vertical-align: middle;\n",
       "    }\n",
       "\n",
       "    .dataframe tbody tr th {\n",
       "        vertical-align: top;\n",
       "    }\n",
       "\n",
       "    .dataframe thead th {\n",
       "        text-align: right;\n",
       "    }\n",
       "</style>\n",
       "<table border=\"1\" class=\"dataframe\">\n",
       "  <thead>\n",
       "    <tr style=\"text-align: right;\">\n",
       "      <th></th>\n",
       "      <th>단일계약</th>\n",
       "      <th>종합계약</th>\n",
       "    </tr>\n",
       "  </thead>\n",
       "  <tbody>\n",
       "    <tr>\n",
       "      <th>0</th>\n",
       "      <td>1</td>\n",
       "      <td>0</td>\n",
       "    </tr>\n",
       "    <tr>\n",
       "      <th>1</th>\n",
       "      <td>1</td>\n",
       "      <td>0</td>\n",
       "    </tr>\n",
       "    <tr>\n",
       "      <th>2</th>\n",
       "      <td>1</td>\n",
       "      <td>0</td>\n",
       "    </tr>\n",
       "    <tr>\n",
       "      <th>3</th>\n",
       "      <td>1</td>\n",
       "      <td>0</td>\n",
       "    </tr>\n",
       "    <tr>\n",
       "      <th>4</th>\n",
       "      <td>1</td>\n",
       "      <td>0</td>\n",
       "    </tr>\n",
       "  </tbody>\n",
       "</table>\n",
       "</div>"
      ],
      "text/plain": [
       "   단일계약  종합계약\n",
       "0     1     0\n",
       "1     1     0\n",
       "2     1     0\n",
       "3     1     0\n",
       "4     1     0"
      ]
     },
     "execution_count": 211,
     "metadata": {},
     "output_type": "execute_result"
    }
   ],
   "source": [
    "dt['세대전기계약방법'].replace('nan', np.nan, inplace=True)\n",
    "tmp = pd.get_dummies(dt['세대전기계약방법'])\n",
    "tmp.head(5)"
   ]
  },
  {
   "cell_type": "code",
   "execution_count": 212,
   "metadata": {},
   "outputs": [
    {
     "data": {
      "text/plain": [
       "Index(['층', '건축년도', '등기신청일자', '청소비관리형태', '기타/의무/임대/임의=1/2/3/4', 'target', '구',\n",
       "       '동', '계약년도', '성수기여부', '전용면적', '중개거래', '직거래', '도시형 생활주택(아파트)',\n",
       "       '도시형 생활주택(주상복합)', '아파트', '연립주택', '주상복합', '분양', '분양형태_기타', '임대', '위탁관리',\n",
       "       '자치관리', '직영', '계단식', '복도식', '복도유형_기타', '타워형', '혼합식', '개별난방', '난방방식_기타',\n",
       "       '중앙난방', '지역난방', '전용면적별세대현황(60㎡이하)', '전용면적별세대현황(60㎡~85㎡이하)',\n",
       "       '85㎡~135㎡이하', '135㎡초과', '경비비관리형태_기타', '위탁', '위탁+직영', '직영', '단일계약',\n",
       "       '종합계약'],\n",
       "      dtype='object')"
      ]
     },
     "execution_count": 212,
     "metadata": {},
     "output_type": "execute_result"
    }
   ],
   "source": [
    "dt = pd.concat([dt, tmp], axis=1)\n",
    "dt.drop(columns='세대전기계약방법', inplace=True)\n",
    "dt.columns"
   ]
  },
  {
   "cell_type": "code",
   "execution_count": 213,
   "metadata": {},
   "outputs": [],
   "source": [
    "# maps = {\n",
    "#     '종합계약' : 2,\n",
    "#     '단일계약' : 1,\n",
    "# }\n",
    "# dt['세대전기계약방법'] = dt['세대전기계약방법'].map(maps)\n",
    "# dt['세대전기계약방법'].fillna(0.5, inplace=True)\n",
    "# dt['세대전기계약방법'].unique()"
   ]
  },
  {
   "cell_type": "markdown",
   "metadata": {},
   "source": [
    "## 청소비관리형태 : 위탁 > 직영 > 위탁+직영 : 2, 1, 0 -> OHE"
   ]
  },
  {
   "cell_type": "code",
   "execution_count": 214,
   "metadata": {},
   "outputs": [
    {
     "data": {
      "text/plain": [
       "array(['직영', '위탁', '위탁+직영', nan, '기타'], dtype=object)"
      ]
     },
     "execution_count": 214,
     "metadata": {},
     "output_type": "execute_result"
    }
   ],
   "source": [
    "dt['청소비관리형태'].unique()"
   ]
  },
  {
   "cell_type": "code",
   "execution_count": 215,
   "metadata": {},
   "outputs": [
    {
     "data": {
      "text/plain": [
       "array(['직영', '위탁', '위탁+직영', nan, '청소비관리형태_기타'], dtype=object)"
      ]
     },
     "execution_count": 215,
     "metadata": {},
     "output_type": "execute_result"
    }
   ],
   "source": [
    "dt.loc[dt['청소비관리형태'] == '기타', '청소비관리형태'] = '청소비관리형태_기타'\n",
    "dt['청소비관리형태'].unique()"
   ]
  },
  {
   "cell_type": "code",
   "execution_count": 216,
   "metadata": {},
   "outputs": [
    {
     "data": {
      "text/html": [
       "<div>\n",
       "<style scoped>\n",
       "    .dataframe tbody tr th:only-of-type {\n",
       "        vertical-align: middle;\n",
       "    }\n",
       "\n",
       "    .dataframe tbody tr th {\n",
       "        vertical-align: top;\n",
       "    }\n",
       "\n",
       "    .dataframe thead th {\n",
       "        text-align: right;\n",
       "    }\n",
       "</style>\n",
       "<table border=\"1\" class=\"dataframe\">\n",
       "  <thead>\n",
       "    <tr style=\"text-align: right;\">\n",
       "      <th></th>\n",
       "      <th>위탁</th>\n",
       "      <th>위탁+직영</th>\n",
       "      <th>직영</th>\n",
       "      <th>청소비관리형태_기타</th>\n",
       "    </tr>\n",
       "  </thead>\n",
       "  <tbody>\n",
       "    <tr>\n",
       "      <th>0</th>\n",
       "      <td>0</td>\n",
       "      <td>0</td>\n",
       "      <td>1</td>\n",
       "      <td>0</td>\n",
       "    </tr>\n",
       "    <tr>\n",
       "      <th>1</th>\n",
       "      <td>0</td>\n",
       "      <td>0</td>\n",
       "      <td>1</td>\n",
       "      <td>0</td>\n",
       "    </tr>\n",
       "    <tr>\n",
       "      <th>2</th>\n",
       "      <td>0</td>\n",
       "      <td>0</td>\n",
       "      <td>1</td>\n",
       "      <td>0</td>\n",
       "    </tr>\n",
       "    <tr>\n",
       "      <th>3</th>\n",
       "      <td>0</td>\n",
       "      <td>0</td>\n",
       "      <td>1</td>\n",
       "      <td>0</td>\n",
       "    </tr>\n",
       "    <tr>\n",
       "      <th>4</th>\n",
       "      <td>0</td>\n",
       "      <td>0</td>\n",
       "      <td>1</td>\n",
       "      <td>0</td>\n",
       "    </tr>\n",
       "  </tbody>\n",
       "</table>\n",
       "</div>"
      ],
      "text/plain": [
       "   위탁  위탁+직영  직영  청소비관리형태_기타\n",
       "0   0      0   1           0\n",
       "1   0      0   1           0\n",
       "2   0      0   1           0\n",
       "3   0      0   1           0\n",
       "4   0      0   1           0"
      ]
     },
     "execution_count": 216,
     "metadata": {},
     "output_type": "execute_result"
    }
   ],
   "source": [
    "dt['청소비관리형태'].replace('nan', np.nan, inplace=True)\n",
    "tmp = pd.get_dummies(dt['청소비관리형태'])\n",
    "tmp.head(5)"
   ]
  },
  {
   "cell_type": "code",
   "execution_count": 217,
   "metadata": {},
   "outputs": [
    {
     "data": {
      "text/plain": [
       "Index(['층', '건축년도', '등기신청일자', '기타/의무/임대/임의=1/2/3/4', 'target', '구', '동',\n",
       "       '계약년도', '성수기여부', '전용면적', '중개거래', '직거래', '도시형 생활주택(아파트)',\n",
       "       '도시형 생활주택(주상복합)', '아파트', '연립주택', '주상복합', '분양', '분양형태_기타', '임대', '위탁관리',\n",
       "       '자치관리', '직영', '계단식', '복도식', '복도유형_기타', '타워형', '혼합식', '개별난방', '난방방식_기타',\n",
       "       '중앙난방', '지역난방', '전용면적별세대현황(60㎡이하)', '전용면적별세대현황(60㎡~85㎡이하)',\n",
       "       '85㎡~135㎡이하', '135㎡초과', '경비비관리형태_기타', '위탁', '위탁+직영', '직영', '단일계약',\n",
       "       '종합계약', '위탁', '위탁+직영', '직영', '청소비관리형태_기타'],\n",
       "      dtype='object')"
      ]
     },
     "execution_count": 217,
     "metadata": {},
     "output_type": "execute_result"
    }
   ],
   "source": [
    "dt = pd.concat([dt, tmp], axis=1)\n",
    "dt.drop(columns='청소비관리형태', inplace=True)\n",
    "dt.columns"
   ]
  },
  {
   "cell_type": "code",
   "execution_count": 218,
   "metadata": {},
   "outputs": [],
   "source": [
    "# maps = {\n",
    "#     '위탁' : 3,\n",
    "#     '직영' : 2,\n",
    "#     '위탁+직영' : 1,\n",
    "#     '기타' : 0.1,\n",
    "# }\n",
    "# dt['청소비관리형태'] = dt['청소비관리형태'].map(maps)\n",
    "# dt['청소비관리형태'].fillna(0.1, inplace=True)\n",
    "# dt['청소비관리형태'].unique()"
   ]
  },
  {
   "cell_type": "markdown",
   "metadata": {},
   "source": [
    "## 기타/의무/임대/임의 -> OHE"
   ]
  },
  {
   "cell_type": "code",
   "execution_count": 219,
   "metadata": {},
   "outputs": [
    {
     "data": {
      "text/plain": [
       "의무    241849\n",
       "기타      4186\n",
       "임의      3701\n",
       "임대      2233\n",
       "Name: 기타/의무/임대/임의=1/2/3/4, dtype: int64"
      ]
     },
     "execution_count": 219,
     "metadata": {},
     "output_type": "execute_result"
    }
   ],
   "source": [
    "dt['기타/의무/임대/임의=1/2/3/4'].value_counts()"
   ]
  },
  {
   "cell_type": "code",
   "execution_count": 220,
   "metadata": {},
   "outputs": [],
   "source": [
    "def plot():\n",
    "    categories = dt['기타/의무/임대/임의=1/2/3/4'].unique()\n",
    "\n",
    "    plt.figure(figsize=(12, 8))\n",
    "    for category in categories:\n",
    "        subset = dt[dt['기타/의무/임대/임의=1/2/3/4'] == category]\n",
    "        plt.hist(subset['target'], bins=20, alpha=0.6, label=category)\n",
    "\n",
    "    plt.title('Histogram of Target by Category', fontsize=16)\n",
    "    plt.xlabel('Target', fontsize=12)\n",
    "    plt.ylabel('Frequency', fontsize=12)\n",
    "    plt.legend(title='Category')\n",
    "    plt.show()"
   ]
  },
  {
   "cell_type": "code",
   "execution_count": 221,
   "metadata": {},
   "outputs": [
    {
     "data": {
      "text/html": [
       "<div>\n",
       "<style scoped>\n",
       "    .dataframe tbody tr th:only-of-type {\n",
       "        vertical-align: middle;\n",
       "    }\n",
       "\n",
       "    .dataframe tbody tr th {\n",
       "        vertical-align: top;\n",
       "    }\n",
       "\n",
       "    .dataframe thead th {\n",
       "        text-align: right;\n",
       "    }\n",
       "</style>\n",
       "<table border=\"1\" class=\"dataframe\">\n",
       "  <thead>\n",
       "    <tr style=\"text-align: right;\">\n",
       "      <th></th>\n",
       "      <th>기타</th>\n",
       "      <th>의무</th>\n",
       "      <th>임대</th>\n",
       "      <th>임의</th>\n",
       "    </tr>\n",
       "  </thead>\n",
       "  <tbody>\n",
       "    <tr>\n",
       "      <th>0</th>\n",
       "      <td>0</td>\n",
       "      <td>0</td>\n",
       "      <td>0</td>\n",
       "      <td>1</td>\n",
       "    </tr>\n",
       "    <tr>\n",
       "      <th>1</th>\n",
       "      <td>0</td>\n",
       "      <td>0</td>\n",
       "      <td>0</td>\n",
       "      <td>1</td>\n",
       "    </tr>\n",
       "    <tr>\n",
       "      <th>2</th>\n",
       "      <td>0</td>\n",
       "      <td>0</td>\n",
       "      <td>0</td>\n",
       "      <td>1</td>\n",
       "    </tr>\n",
       "    <tr>\n",
       "      <th>3</th>\n",
       "      <td>0</td>\n",
       "      <td>0</td>\n",
       "      <td>0</td>\n",
       "      <td>1</td>\n",
       "    </tr>\n",
       "    <tr>\n",
       "      <th>4</th>\n",
       "      <td>0</td>\n",
       "      <td>0</td>\n",
       "      <td>0</td>\n",
       "      <td>1</td>\n",
       "    </tr>\n",
       "  </tbody>\n",
       "</table>\n",
       "</div>"
      ],
      "text/plain": [
       "   기타  의무  임대  임의\n",
       "0   0   0   0   1\n",
       "1   0   0   0   1\n",
       "2   0   0   0   1\n",
       "3   0   0   0   1\n",
       "4   0   0   0   1"
      ]
     },
     "execution_count": 221,
     "metadata": {},
     "output_type": "execute_result"
    }
   ],
   "source": [
    "dt['기타/의무/임대/임의=1/2/3/4'].replace('nan', np.nan, inplace=True)\n",
    "tmp = pd.get_dummies(dt['기타/의무/임대/임의=1/2/3/4'])\n",
    "tmp.head(5)"
   ]
  },
  {
   "cell_type": "code",
   "execution_count": 222,
   "metadata": {},
   "outputs": [
    {
     "data": {
      "text/plain": [
       "Index(['층', '건축년도', '등기신청일자', 'target', '구', '동', '계약년도', '성수기여부', '전용면적',\n",
       "       '중개거래', '직거래', '도시형 생활주택(아파트)', '도시형 생활주택(주상복합)', '아파트', '연립주택', '주상복합',\n",
       "       '분양', '분양형태_기타', '임대', '위탁관리', '자치관리', '직영', '계단식', '복도식', '복도유형_기타',\n",
       "       '타워형', '혼합식', '개별난방', '난방방식_기타', '중앙난방', '지역난방', '전용면적별세대현황(60㎡이하)',\n",
       "       '전용면적별세대현황(60㎡~85㎡이하)', '85㎡~135㎡이하', '135㎡초과', '경비비관리형태_기타', '위탁',\n",
       "       '위탁+직영', '직영', '단일계약', '종합계약', '위탁', '위탁+직영', '직영', '청소비관리형태_기타', '기타',\n",
       "       '의무', '임대', '임의'],\n",
       "      dtype='object')"
      ]
     },
     "execution_count": 222,
     "metadata": {},
     "output_type": "execute_result"
    }
   ],
   "source": [
    "dt = pd.concat([dt, tmp], axis=1)\n",
    "dt.drop(columns='기타/의무/임대/임의=1/2/3/4', inplace=True)\n",
    "dt.columns"
   ]
  },
  {
   "cell_type": "code",
   "execution_count": 223,
   "metadata": {},
   "outputs": [],
   "source": [
    "# maps = {\n",
    "#     '의무' : 3,\n",
    "#     '임의' : 1,\n",
    "#     '임대대' : 0.5,\n",
    "#     '기타' : 0.1,\n",
    "# }\n",
    "# dt['기타/의무/임대/임의=1/2/3/4'] = dt['기타/의무/임대/임의=1/2/3/4'].map(maps)\n",
    "# dt['기타/의무/임대/임의=1/2/3/4'].fillna(0.1, inplace=True)\n",
    "# dt['기타/의무/임대/임의=1/2/3/4'].unique()"
   ]
  },
  {
   "cell_type": "code",
   "execution_count": 224,
   "metadata": {},
   "outputs": [
    {
     "data": {
      "text/plain": [
       "Index(['층', '건축년도', '등기신청일자', 'target', '구', '동', '계약년도', '성수기여부', '전용면적',\n",
       "       '중개거래', '직거래', '도시형 생활주택(아파트)', '도시형 생활주택(주상복합)', '아파트', '연립주택', '주상복합',\n",
       "       '분양', '분양형태_기타', '임대', '위탁관리', '자치관리', '직영', '계단식', '복도식', '복도유형_기타',\n",
       "       '타워형', '혼합식', '개별난방', '난방방식_기타', '중앙난방', '지역난방', '전용면적별세대현황(60㎡이하)',\n",
       "       '전용면적별세대현황(60㎡~85㎡이하)', '85㎡~135㎡이하', '135㎡초과', '경비비관리형태_기타', '위탁',\n",
       "       '위탁+직영', '직영', '단일계약', '종합계약', '위탁', '위탁+직영', '직영', '청소비관리형태_기타', '기타',\n",
       "       '의무', '임대', '임의'],\n",
       "      dtype='object')"
      ]
     },
     "execution_count": 224,
     "metadata": {},
     "output_type": "execute_result"
    }
   ],
   "source": [
    "dt.columns"
   ]
  },
  {
   "cell_type": "markdown",
   "metadata": {},
   "source": [
    "## 구 컬럼 처리 \n",
    "\n",
    "1. map 이용\n",
    "2. 원핫인코딩(보류)"
   ]
  },
  {
   "cell_type": "code",
   "execution_count": 225,
   "metadata": {},
   "outputs": [
    {
     "data": {
      "text/plain": [
       "25"
      ]
     },
     "execution_count": 225,
     "metadata": {},
     "output_type": "execute_result"
    }
   ],
   "source": [
    "len(dt['구'].unique())"
   ]
  },
  {
   "cell_type": "markdown",
   "metadata": {},
   "source": [
    "### '구' -> 학군 생성"
   ]
  },
  {
   "cell_type": "code",
   "execution_count": 226,
   "metadata": {},
   "outputs": [],
   "source": [
    "school_area = {\n",
    "    '동대문구' : '동부', '중랑구' : '동부',\n",
    "    '마포구' : '서부','서대문구' : '서부','은평구' : '서부',\n",
    "    '영등포구' : '남부', '구로구' : '남부', '금천구' : '남부',\n",
    "    '노원구' : '북부', '도봉구' : '북부',\n",
    "    '종로구' : '중부', '중구' : '중부', '용산구' : '중부', \n",
    "    '강동구' : '강동송파', '송파구' : '강동송파', \n",
    "    '강서구' : '강서양천', '양천구' : '강서양천', \n",
    "    '강남구' : '강남서초', '서초구' : '강남서초',\n",
    "    '동작구' : '동작관악', '관악구' : '동작관악',\n",
    "    '성동구' : '성동광진', '광진구' : '성동광진',\n",
    "    '강북구' : '성북강북', '성북구' : '성북광북'\n",
    "}"
   ]
  },
  {
   "cell_type": "code",
   "execution_count": 227,
   "metadata": {},
   "outputs": [
    {
     "data": {
      "text/html": [
       "<div>\n",
       "<style scoped>\n",
       "    .dataframe tbody tr th:only-of-type {\n",
       "        vertical-align: middle;\n",
       "    }\n",
       "\n",
       "    .dataframe tbody tr th {\n",
       "        vertical-align: top;\n",
       "    }\n",
       "\n",
       "    .dataframe thead th {\n",
       "        text-align: right;\n",
       "    }\n",
       "</style>\n",
       "<table border=\"1\" class=\"dataframe\">\n",
       "  <thead>\n",
       "    <tr style=\"text-align: right;\">\n",
       "      <th></th>\n",
       "      <th>층</th>\n",
       "      <th>건축년도</th>\n",
       "      <th>등기신청일자</th>\n",
       "      <th>target</th>\n",
       "      <th>구</th>\n",
       "      <th>동</th>\n",
       "      <th>계약년도</th>\n",
       "      <th>성수기여부</th>\n",
       "      <th>전용면적</th>\n",
       "      <th>중개거래</th>\n",
       "      <th>...</th>\n",
       "      <th>학군_강서양천</th>\n",
       "      <th>학군_남부</th>\n",
       "      <th>학군_동부</th>\n",
       "      <th>학군_동작관악</th>\n",
       "      <th>학군_북부</th>\n",
       "      <th>학군_서부</th>\n",
       "      <th>학군_성동광진</th>\n",
       "      <th>학군_성북강북</th>\n",
       "      <th>학군_성북광북</th>\n",
       "      <th>학군_중부</th>\n",
       "    </tr>\n",
       "  </thead>\n",
       "  <tbody>\n",
       "    <tr>\n",
       "      <th>837728</th>\n",
       "      <td>0.191781</td>\n",
       "      <td>0.532258</td>\n",
       "      <td>0.1</td>\n",
       "      <td>35600.0</td>\n",
       "      <td>영등포구</td>\n",
       "      <td>양평동3가</td>\n",
       "      <td>2014</td>\n",
       "      <td>0</td>\n",
       "      <td>0.171132</td>\n",
       "      <td>0</td>\n",
       "      <td>...</td>\n",
       "      <td>0</td>\n",
       "      <td>1</td>\n",
       "      <td>0</td>\n",
       "      <td>0</td>\n",
       "      <td>0</td>\n",
       "      <td>0</td>\n",
       "      <td>0</td>\n",
       "      <td>0</td>\n",
       "      <td>0</td>\n",
       "      <td>0</td>\n",
       "    </tr>\n",
       "    <tr>\n",
       "      <th>828438</th>\n",
       "      <td>0.082192</td>\n",
       "      <td>0.241935</td>\n",
       "      <td>0.1</td>\n",
       "      <td>72500.0</td>\n",
       "      <td>송파구</td>\n",
       "      <td>잠실동</td>\n",
       "      <td>2014</td>\n",
       "      <td>0</td>\n",
       "      <td>0.120541</td>\n",
       "      <td>0</td>\n",
       "      <td>...</td>\n",
       "      <td>0</td>\n",
       "      <td>0</td>\n",
       "      <td>0</td>\n",
       "      <td>0</td>\n",
       "      <td>0</td>\n",
       "      <td>0</td>\n",
       "      <td>0</td>\n",
       "      <td>0</td>\n",
       "      <td>0</td>\n",
       "      <td>0</td>\n",
       "    </tr>\n",
       "    <tr>\n",
       "      <th>711160</th>\n",
       "      <td>0.191781</td>\n",
       "      <td>0.387097</td>\n",
       "      <td>0.1</td>\n",
       "      <td>69500.0</td>\n",
       "      <td>마포구</td>\n",
       "      <td>신정동</td>\n",
       "      <td>2015</td>\n",
       "      <td>0</td>\n",
       "      <td>0.253077</td>\n",
       "      <td>0</td>\n",
       "      <td>...</td>\n",
       "      <td>0</td>\n",
       "      <td>0</td>\n",
       "      <td>0</td>\n",
       "      <td>0</td>\n",
       "      <td>0</td>\n",
       "      <td>1</td>\n",
       "      <td>0</td>\n",
       "      <td>0</td>\n",
       "      <td>0</td>\n",
       "      <td>0</td>\n",
       "    </tr>\n",
       "    <tr>\n",
       "      <th>386031</th>\n",
       "      <td>0.178082</td>\n",
       "      <td>0.241935</td>\n",
       "      <td>0.1</td>\n",
       "      <td>142000.0</td>\n",
       "      <td>종로구</td>\n",
       "      <td>사직동</td>\n",
       "      <td>2019</td>\n",
       "      <td>0</td>\n",
       "      <td>0.346126</td>\n",
       "      <td>0</td>\n",
       "      <td>...</td>\n",
       "      <td>0</td>\n",
       "      <td>0</td>\n",
       "      <td>0</td>\n",
       "      <td>0</td>\n",
       "      <td>0</td>\n",
       "      <td>0</td>\n",
       "      <td>0</td>\n",
       "      <td>0</td>\n",
       "      <td>0</td>\n",
       "      <td>1</td>\n",
       "    </tr>\n",
       "    <tr>\n",
       "      <th>695609</th>\n",
       "      <td>0.219178</td>\n",
       "      <td>0.290323</td>\n",
       "      <td>0.1</td>\n",
       "      <td>29300.0</td>\n",
       "      <td>도봉구</td>\n",
       "      <td>방학동</td>\n",
       "      <td>2014</td>\n",
       "      <td>0</td>\n",
       "      <td>0.119698</td>\n",
       "      <td>0</td>\n",
       "      <td>...</td>\n",
       "      <td>0</td>\n",
       "      <td>0</td>\n",
       "      <td>0</td>\n",
       "      <td>0</td>\n",
       "      <td>1</td>\n",
       "      <td>0</td>\n",
       "      <td>0</td>\n",
       "      <td>0</td>\n",
       "      <td>0</td>\n",
       "      <td>0</td>\n",
       "    </tr>\n",
       "  </tbody>\n",
       "</table>\n",
       "<p>5 rows × 61 columns</p>\n",
       "</div>"
      ],
      "text/plain": [
       "               층      건축년도  등기신청일자    target     구      동  계약년도  성수기여부  \\\n",
       "837728  0.191781  0.532258     0.1   35600.0  영등포구  양평동3가  2014      0   \n",
       "828438  0.082192  0.241935     0.1   72500.0   송파구    잠실동  2014      0   \n",
       "711160  0.191781  0.387097     0.1   69500.0   마포구    신정동  2015      0   \n",
       "386031  0.178082  0.241935     0.1  142000.0   종로구    사직동  2019      0   \n",
       "695609  0.219178  0.290323     0.1   29300.0   도봉구    방학동  2014      0   \n",
       "\n",
       "            전용면적  중개거래  ...  학군_강서양천  학군_남부  학군_동부  학군_동작관악  학군_북부  학군_서부  \\\n",
       "837728  0.171132     0  ...        0      1      0        0      0      0   \n",
       "828438  0.120541     0  ...        0      0      0        0      0      0   \n",
       "711160  0.253077     0  ...        0      0      0        0      0      1   \n",
       "386031  0.346126     0  ...        0      0      0        0      0      0   \n",
       "695609  0.119698     0  ...        0      0      0        0      1      0   \n",
       "\n",
       "        학군_성동광진  학군_성북강북  학군_성북광북  학군_중부  \n",
       "837728        0        0        0      0  \n",
       "828438        0        0        0      0  \n",
       "711160        0        0        0      0  \n",
       "386031        0        0        0      1  \n",
       "695609        0        0        0      0  \n",
       "\n",
       "[5 rows x 61 columns]"
      ]
     },
     "execution_count": 227,
     "metadata": {},
     "output_type": "execute_result"
    }
   ],
   "source": [
    "dt['학군'] = dt['구'].map(school_area).copy()\n",
    "#split_dt[split_dt['학군'].isnull() == True]\n",
    "dum = pd.get_dummies(dt['학군'],prefix='학군')\n",
    "dt = pd.concat([dt, dum], axis=1)\n",
    "dt.drop(columns='학군', inplace=True)\n",
    "dt.sample(5)"
   ]
  },
  {
   "cell_type": "markdown",
   "metadata": {},
   "source": [
    "### 각 '구'별로 버스, 지하철 갯수 추가 후 MinMaxScaler"
   ]
  },
  {
   "cell_type": "code",
   "execution_count": 228,
   "metadata": {},
   "outputs": [],
   "source": [
    "bus_dict = {'강남구': 619, '강동구': 440, '강북구': 487, '강서구': 696, '관악구': 508, '광진구': 322, '구로구': 619, '금천구': 394, '노원구': 586, '도봉구': 429, '동대문구': 347, '동작구': 481, '마포구': 610, '서대문구': 527, '서초구': 726, '성동구': 514, '성북구': 655, '송파구': 519, '양천구': 407, '영등포구': 611, '용산구': 379, '은평구': 567, '종로구': 475, '중구': 247, '중랑구': 397}"
   ]
  },
  {
   "cell_type": "code",
   "execution_count": 229,
   "metadata": {},
   "outputs": [],
   "source": [
    "dt['구_정류장'] = dt['구'].map(lambda x: bus_dict.get(x, np.nan))"
   ]
  },
  {
   "cell_type": "code",
   "execution_count": 230,
   "metadata": {},
   "outputs": [],
   "source": [
    "subway_dict = {'강남구': 35, '강동구': 14, '강북구': 11, '강서구': 21, '관악구': 10, '광진구': 11, '구로구': 13, '금천구': 4, '노원구': 14, '도봉구': 8, '동대문구': 11, '동작구': 18, '마포구': 24, '서대문구': 9, '서초구': 20, '성동구': 19, '성북구': 14, '송파구': 30, '양천구': 8, '영등포구': 23, '용산구': 18, '은평구': 15, '종로구': 14, '중구': 25, '중랑구': 13}"
   ]
  },
  {
   "cell_type": "code",
   "execution_count": 231,
   "metadata": {},
   "outputs": [],
   "source": [
    "dt['구_지하철'] = dt['구'].map(lambda x: subway_dict.get(x, np.nan))"
   ]
  },
  {
   "cell_type": "code",
   "execution_count": 232,
   "metadata": {},
   "outputs": [
    {
     "data": {
      "text/html": [
       "<div>\n",
       "<style scoped>\n",
       "    .dataframe tbody tr th:only-of-type {\n",
       "        vertical-align: middle;\n",
       "    }\n",
       "\n",
       "    .dataframe tbody tr th {\n",
       "        vertical-align: top;\n",
       "    }\n",
       "\n",
       "    .dataframe thead th {\n",
       "        text-align: right;\n",
       "    }\n",
       "</style>\n",
       "<table border=\"1\" class=\"dataframe\">\n",
       "  <thead>\n",
       "    <tr style=\"text-align: right;\">\n",
       "      <th></th>\n",
       "      <th>구_지하철</th>\n",
       "      <th>구_정류장</th>\n",
       "    </tr>\n",
       "  </thead>\n",
       "  <tbody>\n",
       "    <tr>\n",
       "      <th>270648</th>\n",
       "      <td>9</td>\n",
       "      <td>527</td>\n",
       "    </tr>\n",
       "    <tr>\n",
       "      <th>807074</th>\n",
       "      <td>21</td>\n",
       "      <td>696</td>\n",
       "    </tr>\n",
       "    <tr>\n",
       "      <th>229947</th>\n",
       "      <td>11</td>\n",
       "      <td>347</td>\n",
       "    </tr>\n",
       "    <tr>\n",
       "      <th>150246</th>\n",
       "      <td>21</td>\n",
       "      <td>696</td>\n",
       "    </tr>\n",
       "    <tr>\n",
       "      <th>505986</th>\n",
       "      <td>20</td>\n",
       "      <td>726</td>\n",
       "    </tr>\n",
       "    <tr>\n",
       "      <th>529615</th>\n",
       "      <td>8</td>\n",
       "      <td>407</td>\n",
       "    </tr>\n",
       "    <tr>\n",
       "      <th>612800</th>\n",
       "      <td>19</td>\n",
       "      <td>514</td>\n",
       "    </tr>\n",
       "    <tr>\n",
       "      <th>79202</th>\n",
       "      <td>8</td>\n",
       "      <td>407</td>\n",
       "    </tr>\n",
       "    <tr>\n",
       "      <th>157096</th>\n",
       "      <td>13</td>\n",
       "      <td>619</td>\n",
       "    </tr>\n",
       "    <tr>\n",
       "      <th>684538</th>\n",
       "      <td>14</td>\n",
       "      <td>586</td>\n",
       "    </tr>\n",
       "  </tbody>\n",
       "</table>\n",
       "</div>"
      ],
      "text/plain": [
       "        구_지하철  구_정류장\n",
       "270648      9    527\n",
       "807074     21    696\n",
       "229947     11    347\n",
       "150246     21    696\n",
       "505986     20    726\n",
       "529615      8    407\n",
       "612800     19    514\n",
       "79202       8    407\n",
       "157096     13    619\n",
       "684538     14    586"
      ]
     },
     "execution_count": 232,
     "metadata": {},
     "output_type": "execute_result"
    }
   ],
   "source": [
    "dt[['구_지하철', '구_정류장']].sample(10)"
   ]
  },
  {
   "cell_type": "code",
   "execution_count": 233,
   "metadata": {},
   "outputs": [
    {
     "data": {
      "text/html": [
       "<div>\n",
       "<style scoped>\n",
       "    .dataframe tbody tr th:only-of-type {\n",
       "        vertical-align: middle;\n",
       "    }\n",
       "\n",
       "    .dataframe tbody tr th {\n",
       "        vertical-align: top;\n",
       "    }\n",
       "\n",
       "    .dataframe thead th {\n",
       "        text-align: right;\n",
       "    }\n",
       "</style>\n",
       "<table border=\"1\" class=\"dataframe\">\n",
       "  <thead>\n",
       "    <tr style=\"text-align: right;\">\n",
       "      <th></th>\n",
       "      <th>구_지하철</th>\n",
       "      <th>구_정류장</th>\n",
       "    </tr>\n",
       "  </thead>\n",
       "  <tbody>\n",
       "    <tr>\n",
       "      <th>1042060</th>\n",
       "      <td>0.129032</td>\n",
       "      <td>0.379958</td>\n",
       "    </tr>\n",
       "    <tr>\n",
       "      <th>921839</th>\n",
       "      <td>0.225806</td>\n",
       "      <td>0.156576</td>\n",
       "    </tr>\n",
       "    <tr>\n",
       "      <th>852191</th>\n",
       "      <td>0.322581</td>\n",
       "      <td>0.402923</td>\n",
       "    </tr>\n",
       "    <tr>\n",
       "      <th>298479</th>\n",
       "      <td>1.000000</td>\n",
       "      <td>0.776618</td>\n",
       "    </tr>\n",
       "    <tr>\n",
       "      <th>74489</th>\n",
       "      <td>0.838710</td>\n",
       "      <td>0.567850</td>\n",
       "    </tr>\n",
       "    <tr>\n",
       "      <th>1023593</th>\n",
       "      <td>0.290323</td>\n",
       "      <td>0.776618</td>\n",
       "    </tr>\n",
       "    <tr>\n",
       "      <th>527331</th>\n",
       "      <td>0.129032</td>\n",
       "      <td>0.334029</td>\n",
       "    </tr>\n",
       "    <tr>\n",
       "      <th>938833</th>\n",
       "      <td>0.451613</td>\n",
       "      <td>0.488518</td>\n",
       "    </tr>\n",
       "    <tr>\n",
       "      <th>193528</th>\n",
       "      <td>0.129032</td>\n",
       "      <td>0.334029</td>\n",
       "    </tr>\n",
       "    <tr>\n",
       "      <th>113637</th>\n",
       "      <td>0.129032</td>\n",
       "      <td>0.379958</td>\n",
       "    </tr>\n",
       "  </tbody>\n",
       "</table>\n",
       "</div>"
      ],
      "text/plain": [
       "            구_지하철     구_정류장\n",
       "1042060  0.129032  0.379958\n",
       "921839   0.225806  0.156576\n",
       "852191   0.322581  0.402923\n",
       "298479   1.000000  0.776618\n",
       "74489    0.838710  0.567850\n",
       "1023593  0.290323  0.776618\n",
       "527331   0.129032  0.334029\n",
       "938833   0.451613  0.488518\n",
       "193528   0.129032  0.334029\n",
       "113637   0.129032  0.379958"
      ]
     },
     "execution_count": 233,
     "metadata": {},
     "output_type": "execute_result"
    }
   ],
   "source": [
    "scaler = MinMaxScaler()\n",
    "dt['구_지하철'] = scaler.fit_transform(dt[['구_지하철']])\n",
    "scaler = MinMaxScaler()\n",
    "dt['구_정류장'] = scaler.fit_transform(dt[['구_정류장']])\n",
    "dt[['구_지하철', '구_정류장']].sample(10)"
   ]
  },
  {
   "cell_type": "markdown",
   "metadata": {},
   "source": [
    "### '구' 원핫 인코딩"
   ]
  },
  {
   "cell_type": "code",
   "execution_count": 234,
   "metadata": {},
   "outputs": [
    {
     "data": {
      "text/plain": [
       "Index(['층', '건축년도', '등기신청일자', 'target', '동', '계약년도', '성수기여부', '전용면적', '중개거래',\n",
       "       '직거래', '도시형 생활주택(아파트)', '도시형 생활주택(주상복합)', '아파트', '연립주택', '주상복합', '분양',\n",
       "       '분양형태_기타', '임대', '위탁관리', '자치관리', '직영', '계단식', '복도식', '복도유형_기타', '타워형',\n",
       "       '혼합식', '개별난방', '난방방식_기타', '중앙난방', '지역난방', '전용면적별세대현황(60㎡이하)',\n",
       "       '전용면적별세대현황(60㎡~85㎡이하)', '85㎡~135㎡이하', '135㎡초과', '경비비관리형태_기타', '위탁',\n",
       "       '위탁+직영', '직영', '단일계약', '종합계약', '위탁', '위탁+직영', '직영', '청소비관리형태_기타', '기타',\n",
       "       '의무', '임대', '임의', '학군_강남서초', '학군_강동송파', '학군_강서양천', '학군_남부', '학군_동부',\n",
       "       '학군_동작관악', '학군_북부', '학군_서부', '학군_성동광진', '학군_성북강북', '학군_성북광북', '학군_중부',\n",
       "       '구_정류장', '구_지하철', '구_강남구', '구_강동구', '구_강북구', '구_강서구', '구_관악구', '구_광진구',\n",
       "       '구_구로구', '구_금천구', '구_노원구', '구_도봉구', '구_동대문구', '구_동작구', '구_마포구',\n",
       "       '구_서대문구', '구_서초구', '구_성동구', '구_성북구', '구_송파구', '구_양천구', '구_영등포구',\n",
       "       '구_용산구', '구_은평구', '구_종로구', '구_중구', '구_중랑구'],\n",
       "      dtype='object')"
      ]
     },
     "execution_count": 234,
     "metadata": {},
     "output_type": "execute_result"
    }
   ],
   "source": [
    "# 원핫인코딩\n",
    "dt = pd.get_dummies(dt, columns=['구'])\n",
    "dt.columns"
   ]
  },
  {
   "cell_type": "code",
   "execution_count": 235,
   "metadata": {},
   "outputs": [],
   "source": [
    "# # mapping\n",
    "# idx = dt.groupby('구')['target'].mean().sort_values(ascending=True).index\n",
    "# maps = { idx[i-1] : i for i in range(1, len(idx) + 1) }\n",
    "# dt['구'] = dt['구'].map(maps)"
   ]
  },
  {
   "cell_type": "code",
   "execution_count": 236,
   "metadata": {},
   "outputs": [
    {
     "data": {
      "text/html": [
       "<div>\n",
       "<style scoped>\n",
       "    .dataframe tbody tr th:only-of-type {\n",
       "        vertical-align: middle;\n",
       "    }\n",
       "\n",
       "    .dataframe tbody tr th {\n",
       "        vertical-align: top;\n",
       "    }\n",
       "\n",
       "    .dataframe thead th {\n",
       "        text-align: right;\n",
       "    }\n",
       "</style>\n",
       "<table border=\"1\" class=\"dataframe\">\n",
       "  <thead>\n",
       "    <tr style=\"text-align: right;\">\n",
       "      <th></th>\n",
       "      <th>층</th>\n",
       "      <th>건축년도</th>\n",
       "      <th>등기신청일자</th>\n",
       "      <th>target</th>\n",
       "      <th>동</th>\n",
       "      <th>계약년도</th>\n",
       "      <th>성수기여부</th>\n",
       "      <th>전용면적</th>\n",
       "      <th>중개거래</th>\n",
       "      <th>직거래</th>\n",
       "      <th>...</th>\n",
       "      <th>구_성동구</th>\n",
       "      <th>구_성북구</th>\n",
       "      <th>구_송파구</th>\n",
       "      <th>구_양천구</th>\n",
       "      <th>구_영등포구</th>\n",
       "      <th>구_용산구</th>\n",
       "      <th>구_은평구</th>\n",
       "      <th>구_종로구</th>\n",
       "      <th>구_중구</th>\n",
       "      <th>구_중랑구</th>\n",
       "    </tr>\n",
       "  </thead>\n",
       "  <tbody>\n",
       "    <tr>\n",
       "      <th>0</th>\n",
       "      <td>0.095890</td>\n",
       "      <td>0.580645</td>\n",
       "      <td>0.1</td>\n",
       "      <td>124000.0</td>\n",
       "      <td>개포동</td>\n",
       "      <td>2017</td>\n",
       "      <td>0</td>\n",
       "      <td>0.168839</td>\n",
       "      <td>0</td>\n",
       "      <td>0</td>\n",
       "      <td>...</td>\n",
       "      <td>0</td>\n",
       "      <td>0</td>\n",
       "      <td>0</td>\n",
       "      <td>0</td>\n",
       "      <td>0</td>\n",
       "      <td>0</td>\n",
       "      <td>0</td>\n",
       "      <td>0</td>\n",
       "      <td>0</td>\n",
       "      <td>0</td>\n",
       "    </tr>\n",
       "    <tr>\n",
       "      <th>1</th>\n",
       "      <td>0.109589</td>\n",
       "      <td>0.580645</td>\n",
       "      <td>0.1</td>\n",
       "      <td>123500.0</td>\n",
       "      <td>개포동</td>\n",
       "      <td>2017</td>\n",
       "      <td>0</td>\n",
       "      <td>0.168839</td>\n",
       "      <td>0</td>\n",
       "      <td>0</td>\n",
       "      <td>...</td>\n",
       "      <td>0</td>\n",
       "      <td>0</td>\n",
       "      <td>0</td>\n",
       "      <td>0</td>\n",
       "      <td>0</td>\n",
       "      <td>0</td>\n",
       "      <td>0</td>\n",
       "      <td>0</td>\n",
       "      <td>0</td>\n",
       "      <td>0</td>\n",
       "    </tr>\n",
       "    <tr>\n",
       "      <th>2</th>\n",
       "      <td>0.123288</td>\n",
       "      <td>0.580645</td>\n",
       "      <td>0.1</td>\n",
       "      <td>91500.0</td>\n",
       "      <td>개포동</td>\n",
       "      <td>2017</td>\n",
       "      <td>0</td>\n",
       "      <td>0.108520</td>\n",
       "      <td>0</td>\n",
       "      <td>0</td>\n",
       "      <td>...</td>\n",
       "      <td>0</td>\n",
       "      <td>0</td>\n",
       "      <td>0</td>\n",
       "      <td>0</td>\n",
       "      <td>0</td>\n",
       "      <td>0</td>\n",
       "      <td>0</td>\n",
       "      <td>0</td>\n",
       "      <td>0</td>\n",
       "      <td>0</td>\n",
       "    </tr>\n",
       "    <tr>\n",
       "      <th>3</th>\n",
       "      <td>0.109589</td>\n",
       "      <td>0.580645</td>\n",
       "      <td>0.1</td>\n",
       "      <td>130000.0</td>\n",
       "      <td>개포동</td>\n",
       "      <td>2018</td>\n",
       "      <td>0</td>\n",
       "      <td>0.168839</td>\n",
       "      <td>0</td>\n",
       "      <td>0</td>\n",
       "      <td>...</td>\n",
       "      <td>0</td>\n",
       "      <td>0</td>\n",
       "      <td>0</td>\n",
       "      <td>0</td>\n",
       "      <td>0</td>\n",
       "      <td>0</td>\n",
       "      <td>0</td>\n",
       "      <td>0</td>\n",
       "      <td>0</td>\n",
       "      <td>0</td>\n",
       "    </tr>\n",
       "    <tr>\n",
       "      <th>4</th>\n",
       "      <td>0.082192</td>\n",
       "      <td>0.580645</td>\n",
       "      <td>0.1</td>\n",
       "      <td>117000.0</td>\n",
       "      <td>개포동</td>\n",
       "      <td>2018</td>\n",
       "      <td>0</td>\n",
       "      <td>0.168839</td>\n",
       "      <td>0</td>\n",
       "      <td>0</td>\n",
       "      <td>...</td>\n",
       "      <td>0</td>\n",
       "      <td>0</td>\n",
       "      <td>0</td>\n",
       "      <td>0</td>\n",
       "      <td>0</td>\n",
       "      <td>0</td>\n",
       "      <td>0</td>\n",
       "      <td>0</td>\n",
       "      <td>0</td>\n",
       "      <td>0</td>\n",
       "    </tr>\n",
       "  </tbody>\n",
       "</table>\n",
       "<p>5 rows × 87 columns</p>\n",
       "</div>"
      ],
      "text/plain": [
       "          층      건축년도  등기신청일자    target    동  계약년도  성수기여부      전용면적  중개거래  \\\n",
       "0  0.095890  0.580645     0.1  124000.0  개포동  2017      0  0.168839     0   \n",
       "1  0.109589  0.580645     0.1  123500.0  개포동  2017      0  0.168839     0   \n",
       "2  0.123288  0.580645     0.1   91500.0  개포동  2017      0  0.108520     0   \n",
       "3  0.109589  0.580645     0.1  130000.0  개포동  2018      0  0.168839     0   \n",
       "4  0.082192  0.580645     0.1  117000.0  개포동  2018      0  0.168839     0   \n",
       "\n",
       "   직거래  ...  구_성동구  구_성북구  구_송파구  구_양천구  구_영등포구  구_용산구  구_은평구  구_종로구  구_중구  \\\n",
       "0    0  ...      0      0      0      0       0      0      0      0     0   \n",
       "1    0  ...      0      0      0      0       0      0      0      0     0   \n",
       "2    0  ...      0      0      0      0       0      0      0      0     0   \n",
       "3    0  ...      0      0      0      0       0      0      0      0     0   \n",
       "4    0  ...      0      0      0      0       0      0      0      0     0   \n",
       "\n",
       "   구_중랑구  \n",
       "0      0  \n",
       "1      0  \n",
       "2      0  \n",
       "3      0  \n",
       "4      0  \n",
       "\n",
       "[5 rows x 87 columns]"
      ]
     },
     "execution_count": 236,
     "metadata": {},
     "output_type": "execute_result"
    }
   ],
   "source": [
    "dt.head()"
   ]
  },
  {
   "cell_type": "code",
   "execution_count": 237,
   "metadata": {},
   "outputs": [
    {
     "name": "stdout",
     "output_type": "stream",
     "text": [
      "/data/ephemeral/home/code/code\n"
     ]
    }
   ],
   "source": [
    "!pwd"
   ]
  },
  {
   "cell_type": "markdown",
   "metadata": {},
   "source": [
    "## 동 컬럼 처리 (일단은 drop)"
   ]
  },
  {
   "cell_type": "code",
   "execution_count": 238,
   "metadata": {},
   "outputs": [
    {
     "data": {
      "text/plain": [
       "337"
      ]
     },
     "execution_count": 238,
     "metadata": {},
     "output_type": "execute_result"
    }
   ],
   "source": [
    "len(dt['동'].unique())"
   ]
  },
  {
   "cell_type": "code",
   "execution_count": 239,
   "metadata": {},
   "outputs": [
    {
     "data": {
      "text/plain": [
       "Index(['층', '건축년도', '등기신청일자', 'target', '계약년도', '성수기여부', '전용면적', '중개거래', '직거래',\n",
       "       '도시형 생활주택(아파트)', '도시형 생활주택(주상복합)', '아파트', '연립주택', '주상복합', '분양',\n",
       "       '분양형태_기타', '임대', '위탁관리', '자치관리', '직영', '계단식', '복도식', '복도유형_기타', '타워형',\n",
       "       '혼합식', '개별난방', '난방방식_기타', '중앙난방', '지역난방', '전용면적별세대현황(60㎡이하)',\n",
       "       '전용면적별세대현황(60㎡~85㎡이하)', '85㎡~135㎡이하', '135㎡초과', '경비비관리형태_기타', '위탁',\n",
       "       '위탁+직영', '직영', '단일계약', '종합계약', '위탁', '위탁+직영', '직영', '청소비관리형태_기타', '기타',\n",
       "       '의무', '임대', '임의', '학군_강남서초', '학군_강동송파', '학군_강서양천', '학군_남부', '학군_동부',\n",
       "       '학군_동작관악', '학군_북부', '학군_서부', '학군_성동광진', '학군_성북강북', '학군_성북광북', '학군_중부',\n",
       "       '구_정류장', '구_지하철', '구_강남구', '구_강동구', '구_강북구', '구_강서구', '구_관악구', '구_광진구',\n",
       "       '구_구로구', '구_금천구', '구_노원구', '구_도봉구', '구_동대문구', '구_동작구', '구_마포구',\n",
       "       '구_서대문구', '구_서초구', '구_성동구', '구_성북구', '구_송파구', '구_양천구', '구_영등포구',\n",
       "       '구_용산구', '구_은평구', '구_종로구', '구_중구', '구_중랑구'],\n",
       "      dtype='object')"
      ]
     },
     "execution_count": 239,
     "metadata": {},
     "output_type": "execute_result"
    }
   ],
   "source": [
    "dt.drop(columns='동', inplace = True)\n",
    "dt.columns"
   ]
  },
  {
   "cell_type": "code",
   "execution_count": 240,
   "metadata": {},
   "outputs": [],
   "source": [
    "# idx = dt.groupby('동')['target'].mean().sort_values(ascending=True).index\n",
    "# print(idx)\n",
    "# maps = { idx[i-1] : i for i in range(1, len(idx) + 1) }\n",
    "# maps\n",
    "# dt['동'] = dt['동'].map(maps)\n",
    "# dt['동'].unique()"
   ]
  },
  {
   "cell_type": "markdown",
   "metadata": {},
   "source": [
    "## Endpoint\n"
   ]
  },
  {
   "cell_type": "code",
   "execution_count": 242,
   "metadata": {},
   "outputs": [
    {
     "data": {
      "text/html": [
       "<div>\n",
       "<style scoped>\n",
       "    .dataframe tbody tr th:only-of-type {\n",
       "        vertical-align: middle;\n",
       "    }\n",
       "\n",
       "    .dataframe tbody tr th {\n",
       "        vertical-align: top;\n",
       "    }\n",
       "\n",
       "    .dataframe thead th {\n",
       "        text-align: right;\n",
       "    }\n",
       "</style>\n",
       "<table border=\"1\" class=\"dataframe\">\n",
       "  <thead>\n",
       "    <tr style=\"text-align: right;\">\n",
       "      <th></th>\n",
       "      <th>층</th>\n",
       "      <th>건축년도</th>\n",
       "      <th>등기신청일자</th>\n",
       "      <th>target</th>\n",
       "      <th>계약년도</th>\n",
       "      <th>성수기여부</th>\n",
       "      <th>전용면적</th>\n",
       "      <th>중개거래</th>\n",
       "      <th>직거래</th>\n",
       "      <th>도시형 생활주택(아파트)</th>\n",
       "      <th>...</th>\n",
       "      <th>구_성동구</th>\n",
       "      <th>구_성북구</th>\n",
       "      <th>구_송파구</th>\n",
       "      <th>구_양천구</th>\n",
       "      <th>구_영등포구</th>\n",
       "      <th>구_용산구</th>\n",
       "      <th>구_은평구</th>\n",
       "      <th>구_종로구</th>\n",
       "      <th>구_중구</th>\n",
       "      <th>구_중랑구</th>\n",
       "    </tr>\n",
       "  </thead>\n",
       "  <tbody>\n",
       "    <tr>\n",
       "      <th>77683</th>\n",
       "      <td>0.219178</td>\n",
       "      <td>0.596774</td>\n",
       "      <td>0.1</td>\n",
       "      <td>93500.0</td>\n",
       "      <td>2017</td>\n",
       "      <td>0</td>\n",
       "      <td>0.132899</td>\n",
       "      <td>0</td>\n",
       "      <td>0</td>\n",
       "      <td>0</td>\n",
       "      <td>...</td>\n",
       "      <td>0</td>\n",
       "      <td>0</td>\n",
       "      <td>0</td>\n",
       "      <td>1</td>\n",
       "      <td>0</td>\n",
       "      <td>0</td>\n",
       "      <td>0</td>\n",
       "      <td>0</td>\n",
       "      <td>0</td>\n",
       "      <td>0</td>\n",
       "    </tr>\n",
       "    <tr>\n",
       "      <th>397839</th>\n",
       "      <td>0.219178</td>\n",
       "      <td>0.387097</td>\n",
       "      <td>0.1</td>\n",
       "      <td>63000.0</td>\n",
       "      <td>2019</td>\n",
       "      <td>1</td>\n",
       "      <td>0.120348</td>\n",
       "      <td>0</td>\n",
       "      <td>0</td>\n",
       "      <td>0</td>\n",
       "      <td>...</td>\n",
       "      <td>0</td>\n",
       "      <td>0</td>\n",
       "      <td>0</td>\n",
       "      <td>0</td>\n",
       "      <td>0</td>\n",
       "      <td>0</td>\n",
       "      <td>0</td>\n",
       "      <td>0</td>\n",
       "      <td>0</td>\n",
       "      <td>0</td>\n",
       "    </tr>\n",
       "    <tr>\n",
       "      <th>829516</th>\n",
       "      <td>0.287671</td>\n",
       "      <td>0.274194</td>\n",
       "      <td>0.1</td>\n",
       "      <td>94000.0</td>\n",
       "      <td>2013</td>\n",
       "      <td>0</td>\n",
       "      <td>0.180545</td>\n",
       "      <td>0</td>\n",
       "      <td>0</td>\n",
       "      <td>0</td>\n",
       "      <td>...</td>\n",
       "      <td>0</td>\n",
       "      <td>0</td>\n",
       "      <td>1</td>\n",
       "      <td>0</td>\n",
       "      <td>0</td>\n",
       "      <td>0</td>\n",
       "      <td>0</td>\n",
       "      <td>0</td>\n",
       "      <td>0</td>\n",
       "      <td>0</td>\n",
       "    </tr>\n",
       "    <tr>\n",
       "      <th>967565</th>\n",
       "      <td>0.219178</td>\n",
       "      <td>0.419355</td>\n",
       "      <td>0.1</td>\n",
       "      <td>54000.0</td>\n",
       "      <td>2011</td>\n",
       "      <td>0</td>\n",
       "      <td>0.301376</td>\n",
       "      <td>0</td>\n",
       "      <td>0</td>\n",
       "      <td>0</td>\n",
       "      <td>...</td>\n",
       "      <td>0</td>\n",
       "      <td>0</td>\n",
       "      <td>0</td>\n",
       "      <td>0</td>\n",
       "      <td>0</td>\n",
       "      <td>0</td>\n",
       "      <td>0</td>\n",
       "      <td>0</td>\n",
       "      <td>0</td>\n",
       "      <td>1</td>\n",
       "    </tr>\n",
       "    <tr>\n",
       "      <th>573495</th>\n",
       "      <td>0.219178</td>\n",
       "      <td>0.370968</td>\n",
       "      <td>0.1</td>\n",
       "      <td>63800.0</td>\n",
       "      <td>2016</td>\n",
       "      <td>1</td>\n",
       "      <td>0.247005</td>\n",
       "      <td>0</td>\n",
       "      <td>0</td>\n",
       "      <td>0</td>\n",
       "      <td>...</td>\n",
       "      <td>0</td>\n",
       "      <td>0</td>\n",
       "      <td>0</td>\n",
       "      <td>0</td>\n",
       "      <td>0</td>\n",
       "      <td>0</td>\n",
       "      <td>0</td>\n",
       "      <td>0</td>\n",
       "      <td>0</td>\n",
       "      <td>0</td>\n",
       "    </tr>\n",
       "  </tbody>\n",
       "</table>\n",
       "<p>5 rows × 86 columns</p>\n",
       "</div>"
      ],
      "text/plain": [
       "               층      건축년도  등기신청일자   target  계약년도  성수기여부      전용면적  중개거래  직거래  \\\n",
       "77683   0.219178  0.596774     0.1  93500.0  2017      0  0.132899     0    0   \n",
       "397839  0.219178  0.387097     0.1  63000.0  2019      1  0.120348     0    0   \n",
       "829516  0.287671  0.274194     0.1  94000.0  2013      0  0.180545     0    0   \n",
       "967565  0.219178  0.419355     0.1  54000.0  2011      0  0.301376     0    0   \n",
       "573495  0.219178  0.370968     0.1  63800.0  2016      1  0.247005     0    0   \n",
       "\n",
       "        도시형 생활주택(아파트)  ...  구_성동구  구_성북구  구_송파구  구_양천구  구_영등포구  구_용산구  구_은평구  \\\n",
       "77683               0  ...      0      0      0      1       0      0      0   \n",
       "397839              0  ...      0      0      0      0       0      0      0   \n",
       "829516              0  ...      0      0      1      0       0      0      0   \n",
       "967565              0  ...      0      0      0      0       0      0      0   \n",
       "573495              0  ...      0      0      0      0       0      0      0   \n",
       "\n",
       "        구_종로구  구_중구  구_중랑구  \n",
       "77683       0     0      0  \n",
       "397839      0     0      0  \n",
       "829516      0     0      0  \n",
       "967565      0     0      1  \n",
       "573495      0     0      0  \n",
       "\n",
       "[5 rows x 86 columns]"
      ]
     },
     "execution_count": 242,
     "metadata": {},
     "output_type": "execute_result"
    }
   ],
   "source": [
    "dt.sample(5)"
   ]
  },
  {
   "cell_type": "code",
   "execution_count": 244,
   "metadata": {},
   "outputs": [
    {
     "data": {
      "text/plain": [
       "0       85\n",
       "9272     1\n",
       "dtype: int64"
      ]
     },
     "execution_count": 244,
     "metadata": {},
     "output_type": "execute_result"
    }
   ],
   "source": [
    "dt.isnull().sum().value_counts()"
   ]
  },
  {
   "cell_type": "markdown",
   "metadata": {},
   "source": [
    "## Train Test split"
   ]
  },
  {
   "cell_type": "code",
   "execution_count": 245,
   "metadata": {},
   "outputs": [
    {
     "name": "stdout",
     "output_type": "stream",
     "text": [
      "1118822 86 9272 85\n"
     ]
    }
   ],
   "source": [
    "dt_train = dt[:-dt_test.shape[0]]  # test 행 개수 이전까지는 train\n",
    "dt_test = dt[-dt_test.shape[0]:]  # 마지막 test 행 개수만큼은 test\n",
    "dt_test.drop(columns='target', inplace=True)\n",
    "print(dt_train.shape[0],dt_train.shape[1],dt_test.shape[0],dt_test.shape[1])"
   ]
  },
  {
   "cell_type": "code",
   "execution_count": 246,
   "metadata": {},
   "outputs": [
    {
     "data": {
      "text/html": [
       "<div>\n",
       "<style scoped>\n",
       "    .dataframe tbody tr th:only-of-type {\n",
       "        vertical-align: middle;\n",
       "    }\n",
       "\n",
       "    .dataframe tbody tr th {\n",
       "        vertical-align: top;\n",
       "    }\n",
       "\n",
       "    .dataframe thead th {\n",
       "        text-align: right;\n",
       "    }\n",
       "</style>\n",
       "<table border=\"1\" class=\"dataframe\">\n",
       "  <thead>\n",
       "    <tr style=\"text-align: right;\">\n",
       "      <th></th>\n",
       "      <th>층</th>\n",
       "      <th>건축년도</th>\n",
       "      <th>등기신청일자</th>\n",
       "      <th>target</th>\n",
       "      <th>계약년도</th>\n",
       "      <th>성수기여부</th>\n",
       "      <th>전용면적</th>\n",
       "      <th>중개거래</th>\n",
       "      <th>직거래</th>\n",
       "      <th>도시형 생활주택(아파트)</th>\n",
       "      <th>...</th>\n",
       "      <th>구_성동구</th>\n",
       "      <th>구_성북구</th>\n",
       "      <th>구_송파구</th>\n",
       "      <th>구_양천구</th>\n",
       "      <th>구_영등포구</th>\n",
       "      <th>구_용산구</th>\n",
       "      <th>구_은평구</th>\n",
       "      <th>구_종로구</th>\n",
       "      <th>구_중구</th>\n",
       "      <th>구_중랑구</th>\n",
       "    </tr>\n",
       "  </thead>\n",
       "  <tbody>\n",
       "    <tr>\n",
       "      <th>0</th>\n",
       "      <td>0.095890</td>\n",
       "      <td>0.580645</td>\n",
       "      <td>0.1</td>\n",
       "      <td>124000.0</td>\n",
       "      <td>2017</td>\n",
       "      <td>0</td>\n",
       "      <td>0.168839</td>\n",
       "      <td>0</td>\n",
       "      <td>0</td>\n",
       "      <td>0</td>\n",
       "      <td>...</td>\n",
       "      <td>0</td>\n",
       "      <td>0</td>\n",
       "      <td>0</td>\n",
       "      <td>0</td>\n",
       "      <td>0</td>\n",
       "      <td>0</td>\n",
       "      <td>0</td>\n",
       "      <td>0</td>\n",
       "      <td>0</td>\n",
       "      <td>0</td>\n",
       "    </tr>\n",
       "    <tr>\n",
       "      <th>1</th>\n",
       "      <td>0.109589</td>\n",
       "      <td>0.580645</td>\n",
       "      <td>0.1</td>\n",
       "      <td>123500.0</td>\n",
       "      <td>2017</td>\n",
       "      <td>0</td>\n",
       "      <td>0.168839</td>\n",
       "      <td>0</td>\n",
       "      <td>0</td>\n",
       "      <td>0</td>\n",
       "      <td>...</td>\n",
       "      <td>0</td>\n",
       "      <td>0</td>\n",
       "      <td>0</td>\n",
       "      <td>0</td>\n",
       "      <td>0</td>\n",
       "      <td>0</td>\n",
       "      <td>0</td>\n",
       "      <td>0</td>\n",
       "      <td>0</td>\n",
       "      <td>0</td>\n",
       "    </tr>\n",
       "    <tr>\n",
       "      <th>2</th>\n",
       "      <td>0.123288</td>\n",
       "      <td>0.580645</td>\n",
       "      <td>0.1</td>\n",
       "      <td>91500.0</td>\n",
       "      <td>2017</td>\n",
       "      <td>0</td>\n",
       "      <td>0.108520</td>\n",
       "      <td>0</td>\n",
       "      <td>0</td>\n",
       "      <td>0</td>\n",
       "      <td>...</td>\n",
       "      <td>0</td>\n",
       "      <td>0</td>\n",
       "      <td>0</td>\n",
       "      <td>0</td>\n",
       "      <td>0</td>\n",
       "      <td>0</td>\n",
       "      <td>0</td>\n",
       "      <td>0</td>\n",
       "      <td>0</td>\n",
       "      <td>0</td>\n",
       "    </tr>\n",
       "    <tr>\n",
       "      <th>3</th>\n",
       "      <td>0.109589</td>\n",
       "      <td>0.580645</td>\n",
       "      <td>0.1</td>\n",
       "      <td>130000.0</td>\n",
       "      <td>2018</td>\n",
       "      <td>0</td>\n",
       "      <td>0.168839</td>\n",
       "      <td>0</td>\n",
       "      <td>0</td>\n",
       "      <td>0</td>\n",
       "      <td>...</td>\n",
       "      <td>0</td>\n",
       "      <td>0</td>\n",
       "      <td>0</td>\n",
       "      <td>0</td>\n",
       "      <td>0</td>\n",
       "      <td>0</td>\n",
       "      <td>0</td>\n",
       "      <td>0</td>\n",
       "      <td>0</td>\n",
       "      <td>0</td>\n",
       "    </tr>\n",
       "    <tr>\n",
       "      <th>4</th>\n",
       "      <td>0.082192</td>\n",
       "      <td>0.580645</td>\n",
       "      <td>0.1</td>\n",
       "      <td>117000.0</td>\n",
       "      <td>2018</td>\n",
       "      <td>0</td>\n",
       "      <td>0.168839</td>\n",
       "      <td>0</td>\n",
       "      <td>0</td>\n",
       "      <td>0</td>\n",
       "      <td>...</td>\n",
       "      <td>0</td>\n",
       "      <td>0</td>\n",
       "      <td>0</td>\n",
       "      <td>0</td>\n",
       "      <td>0</td>\n",
       "      <td>0</td>\n",
       "      <td>0</td>\n",
       "      <td>0</td>\n",
       "      <td>0</td>\n",
       "      <td>0</td>\n",
       "    </tr>\n",
       "  </tbody>\n",
       "</table>\n",
       "<p>5 rows × 86 columns</p>\n",
       "</div>"
      ],
      "text/plain": [
       "          층      건축년도  등기신청일자    target  계약년도  성수기여부      전용면적  중개거래  직거래  \\\n",
       "0  0.095890  0.580645     0.1  124000.0  2017      0  0.168839     0    0   \n",
       "1  0.109589  0.580645     0.1  123500.0  2017      0  0.168839     0    0   \n",
       "2  0.123288  0.580645     0.1   91500.0  2017      0  0.108520     0    0   \n",
       "3  0.109589  0.580645     0.1  130000.0  2018      0  0.168839     0    0   \n",
       "4  0.082192  0.580645     0.1  117000.0  2018      0  0.168839     0    0   \n",
       "\n",
       "   도시형 생활주택(아파트)  ...  구_성동구  구_성북구  구_송파구  구_양천구  구_영등포구  구_용산구  구_은평구  \\\n",
       "0              0  ...      0      0      0      0       0      0      0   \n",
       "1              0  ...      0      0      0      0       0      0      0   \n",
       "2              0  ...      0      0      0      0       0      0      0   \n",
       "3              0  ...      0      0      0      0       0      0      0   \n",
       "4              0  ...      0      0      0      0       0      0      0   \n",
       "\n",
       "   구_종로구  구_중구  구_중랑구  \n",
       "0      0     0      0  \n",
       "1      0     0      0  \n",
       "2      0     0      0  \n",
       "3      0     0      0  \n",
       "4      0     0      0  \n",
       "\n",
       "[5 rows x 86 columns]"
      ]
     },
     "execution_count": 246,
     "metadata": {},
     "output_type": "execute_result"
    }
   ],
   "source": [
    "dt_train.head(5)"
   ]
  },
  {
   "cell_type": "code",
   "execution_count": 247,
   "metadata": {},
   "outputs": [
    {
     "data": {
      "text/html": [
       "<div>\n",
       "<style scoped>\n",
       "    .dataframe tbody tr th:only-of-type {\n",
       "        vertical-align: middle;\n",
       "    }\n",
       "\n",
       "    .dataframe tbody tr th {\n",
       "        vertical-align: top;\n",
       "    }\n",
       "\n",
       "    .dataframe thead th {\n",
       "        text-align: right;\n",
       "    }\n",
       "</style>\n",
       "<table border=\"1\" class=\"dataframe\">\n",
       "  <thead>\n",
       "    <tr style=\"text-align: right;\">\n",
       "      <th></th>\n",
       "      <th>층</th>\n",
       "      <th>건축년도</th>\n",
       "      <th>등기신청일자</th>\n",
       "      <th>계약년도</th>\n",
       "      <th>성수기여부</th>\n",
       "      <th>전용면적</th>\n",
       "      <th>중개거래</th>\n",
       "      <th>직거래</th>\n",
       "      <th>도시형 생활주택(아파트)</th>\n",
       "      <th>도시형 생활주택(주상복합)</th>\n",
       "      <th>...</th>\n",
       "      <th>구_성동구</th>\n",
       "      <th>구_성북구</th>\n",
       "      <th>구_송파구</th>\n",
       "      <th>구_양천구</th>\n",
       "      <th>구_영등포구</th>\n",
       "      <th>구_용산구</th>\n",
       "      <th>구_은평구</th>\n",
       "      <th>구_종로구</th>\n",
       "      <th>구_중구</th>\n",
       "      <th>구_중랑구</th>\n",
       "    </tr>\n",
       "  </thead>\n",
       "  <tbody>\n",
       "    <tr>\n",
       "      <th>1118822</th>\n",
       "      <td>0.123288</td>\n",
       "      <td>0.580645</td>\n",
       "      <td>0.1</td>\n",
       "      <td>2023</td>\n",
       "      <td>1</td>\n",
       "      <td>0.168839</td>\n",
       "      <td>0</td>\n",
       "      <td>1</td>\n",
       "      <td>0</td>\n",
       "      <td>0</td>\n",
       "      <td>...</td>\n",
       "      <td>0</td>\n",
       "      <td>0</td>\n",
       "      <td>0</td>\n",
       "      <td>0</td>\n",
       "      <td>0</td>\n",
       "      <td>0</td>\n",
       "      <td>0</td>\n",
       "      <td>0</td>\n",
       "      <td>0</td>\n",
       "      <td>0</td>\n",
       "    </tr>\n",
       "    <tr>\n",
       "      <th>1118823</th>\n",
       "      <td>0.191781</td>\n",
       "      <td>0.032258</td>\n",
       "      <td>0.1</td>\n",
       "      <td>2023</td>\n",
       "      <td>1</td>\n",
       "      <td>0.236982</td>\n",
       "      <td>1</td>\n",
       "      <td>0</td>\n",
       "      <td>0</td>\n",
       "      <td>0</td>\n",
       "      <td>...</td>\n",
       "      <td>0</td>\n",
       "      <td>0</td>\n",
       "      <td>0</td>\n",
       "      <td>0</td>\n",
       "      <td>0</td>\n",
       "      <td>0</td>\n",
       "      <td>0</td>\n",
       "      <td>0</td>\n",
       "      <td>0</td>\n",
       "      <td>0</td>\n",
       "    </tr>\n",
       "    <tr>\n",
       "      <th>1118824</th>\n",
       "      <td>0.260274</td>\n",
       "      <td>0.629032</td>\n",
       "      <td>0.1</td>\n",
       "      <td>2023</td>\n",
       "      <td>1</td>\n",
       "      <td>0.364422</td>\n",
       "      <td>1</td>\n",
       "      <td>0</td>\n",
       "      <td>0</td>\n",
       "      <td>0</td>\n",
       "      <td>...</td>\n",
       "      <td>0</td>\n",
       "      <td>0</td>\n",
       "      <td>0</td>\n",
       "      <td>0</td>\n",
       "      <td>0</td>\n",
       "      <td>0</td>\n",
       "      <td>0</td>\n",
       "      <td>0</td>\n",
       "      <td>0</td>\n",
       "      <td>0</td>\n",
       "    </tr>\n",
       "    <tr>\n",
       "      <th>1118825</th>\n",
       "      <td>0.246575</td>\n",
       "      <td>0.629032</td>\n",
       "      <td>0.1</td>\n",
       "      <td>2023</td>\n",
       "      <td>1</td>\n",
       "      <td>0.297948</td>\n",
       "      <td>1</td>\n",
       "      <td>0</td>\n",
       "      <td>0</td>\n",
       "      <td>0</td>\n",
       "      <td>...</td>\n",
       "      <td>0</td>\n",
       "      <td>0</td>\n",
       "      <td>0</td>\n",
       "      <td>0</td>\n",
       "      <td>0</td>\n",
       "      <td>0</td>\n",
       "      <td>0</td>\n",
       "      <td>0</td>\n",
       "      <td>0</td>\n",
       "      <td>0</td>\n",
       "    </tr>\n",
       "    <tr>\n",
       "      <th>1118826</th>\n",
       "      <td>0.136986</td>\n",
       "      <td>0.629032</td>\n",
       "      <td>0.1</td>\n",
       "      <td>2023</td>\n",
       "      <td>1</td>\n",
       "      <td>0.227878</td>\n",
       "      <td>1</td>\n",
       "      <td>0</td>\n",
       "      <td>0</td>\n",
       "      <td>0</td>\n",
       "      <td>...</td>\n",
       "      <td>0</td>\n",
       "      <td>0</td>\n",
       "      <td>0</td>\n",
       "      <td>0</td>\n",
       "      <td>0</td>\n",
       "      <td>0</td>\n",
       "      <td>0</td>\n",
       "      <td>0</td>\n",
       "      <td>0</td>\n",
       "      <td>0</td>\n",
       "    </tr>\n",
       "  </tbody>\n",
       "</table>\n",
       "<p>5 rows × 85 columns</p>\n",
       "</div>"
      ],
      "text/plain": [
       "                층      건축년도  등기신청일자  계약년도  성수기여부      전용면적  중개거래  직거래  \\\n",
       "1118822  0.123288  0.580645     0.1  2023      1  0.168839     0    1   \n",
       "1118823  0.191781  0.032258     0.1  2023      1  0.236982     1    0   \n",
       "1118824  0.260274  0.629032     0.1  2023      1  0.364422     1    0   \n",
       "1118825  0.246575  0.629032     0.1  2023      1  0.297948     1    0   \n",
       "1118826  0.136986  0.629032     0.1  2023      1  0.227878     1    0   \n",
       "\n",
       "         도시형 생활주택(아파트)  도시형 생활주택(주상복합)  ...  구_성동구  구_성북구  구_송파구  구_양천구  \\\n",
       "1118822              0               0  ...      0      0      0      0   \n",
       "1118823              0               0  ...      0      0      0      0   \n",
       "1118824              0               0  ...      0      0      0      0   \n",
       "1118825              0               0  ...      0      0      0      0   \n",
       "1118826              0               0  ...      0      0      0      0   \n",
       "\n",
       "         구_영등포구  구_용산구  구_은평구  구_종로구  구_중구  구_중랑구  \n",
       "1118822       0      0      0      0     0      0  \n",
       "1118823       0      0      0      0     0      0  \n",
       "1118824       0      0      0      0     0      0  \n",
       "1118825       0      0      0      0     0      0  \n",
       "1118826       0      0      0      0     0      0  \n",
       "\n",
       "[5 rows x 85 columns]"
      ]
     },
     "execution_count": 247,
     "metadata": {},
     "output_type": "execute_result"
    }
   ],
   "source": [
    "dt_test.head(5)"
   ]
  },
  {
   "cell_type": "markdown",
   "metadata": {},
   "source": [
    "# 파일저장"
   ]
  },
  {
   "cell_type": "code",
   "execution_count": 248,
   "metadata": {},
   "outputs": [],
   "source": [
    "dt_train.to_csv('./data/train_ohe_bussub.csv', index=False)\n",
    "dt_test.to_csv('./data/test_ohe_bussub.csv', index=False)"
   ]
  },
  {
   "cell_type": "markdown",
   "metadata": {},
   "source": [
    "# EDA"
   ]
  },
  {
   "cell_type": "code",
   "execution_count": 2,
   "metadata": {},
   "outputs": [],
   "source": [
    "# 필요한 데이터를 load 하겠습니다. 경로는 환경에 맞게 지정해주면 됩니다.\n",
    "train_path = '/data/ephemeral/home/code/code/data/train_ohe.csv'\n",
    "dt = pd.read_csv(train_path)"
   ]
  },
  {
   "cell_type": "code",
   "execution_count": 18,
   "metadata": {},
   "outputs": [
    {
     "data": {
      "text/plain": [
       "Index(['층', '건축년도', '등기신청일자', 'target', '계약년도', '성수기여부', '전용면적', '중개거래', '직거래',\n",
       "       '도시형 생활주택(아파트)', '도시형 생활주택(주상복합)', '아파트', '연립주택', '주상복합', '분양',\n",
       "       '분양형태_기타', '임대', '위탁관리', '자치관리', '직영', '계단식', '복도식', '복도유형_기타', '타워형',\n",
       "       '혼합식', '개별난방', '난방방식_기타', '중앙난방', '지역난방', '전용면적별세대현황(60㎡이하)',\n",
       "       '전용면적별세대현황(60㎡~85㎡이하)', '85㎡~135㎡이하', '135㎡초과', '경비비관리형태_기타', '위탁',\n",
       "       '위탁+직영', '직영.1', '단일계약', '종합계약', '위탁.1', '위탁+직영.1', '직영.2',\n",
       "       '청소비관리형태_기타', '기타', '의무', '임대.1', '임의', '학군_강남서초', '학군_강동송파', '학군_강서양천',\n",
       "       '학군_남부', '학군_동부', '학군_동작관악', '학군_북부', '학군_서부', '학군_성동광진', '학군_성북강북',\n",
       "       '학군_성북광북', '학군_중부', '구_강남구', '구_강동구', '구_강북구', '구_강서구', '구_관악구',\n",
       "       '구_광진구', '구_구로구', '구_금천구', '구_노원구', '구_도봉구', '구_동대문구', '구_동작구', '구_마포구',\n",
       "       '구_서대문구', '구_서초구', '구_성동구', '구_성북구', '구_송파구', '구_양천구', '구_영등포구',\n",
       "       '구_용산구', '구_은평구', '구_종로구', '구_중구', '구_중랑구'],\n",
       "      dtype='object')"
      ]
     },
     "execution_count": 18,
     "metadata": {},
     "output_type": "execute_result"
    }
   ],
   "source": [
    "dt.columns"
   ]
  },
  {
   "cell_type": "code",
   "execution_count": 24,
   "metadata": {},
   "outputs": [
    {
     "data": {
      "image/png": "[encoded data removed]",
      "text/plain": [
       "<Figure size 640x480 with 1 Axes>"
      ]
     },
     "metadata": {},
     "output_type": "display_data"
    }
   ],
   "source": [
    "# 값의 분포 계산\n",
    "value_counts = dt['건축년도'].value_counts()\n",
    "\n",
    "# 막대그래프 생성\n",
    "value_counts.plot(kind='bar', color='skyblue')\n",
    "\n",
    "# 그래프에 제목과 축 라벨 추가\n",
    "plt.title('Value Distribution')\n",
    "plt.xlabel('Values')\n",
    "plt.ylabel('Counts')\n",
    "\n",
    "# 그래프 출력\n",
    "plt.show()"
   ]
  },
  {
   "cell_type": "code",
   "execution_count": null,
   "metadata": {},
   "outputs": [],
   "source": []
  }
 ],
 "metadata": {
  "kernelspec": {
   "display_name": "gogetter",
   "language": "python",
   "name": "python3"
  },
  "language_info": {
   "codemirror_mode": {
    "name": "ipython",
    "version": 3
   },
   "file_extension": ".py",
   "mimetype": "text/x-python",
   "name": "python",
   "nbconvert_exporter": "python",
   "pygments_lexer": "ipython3",
   "version": "3.10.13"
  }
 },
 "nbformat": 4,
 "nbformat_minor": 2
}
