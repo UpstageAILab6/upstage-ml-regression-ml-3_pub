{
 "cells": [
  {
   "cell_type": "code",
   "execution_count": 1017,
   "metadata": {},
   "outputs": [],
   "source": [
    "# visualization\n",
    "import matplotlib.pyplot as plt\n",
    "import matplotlib.font_manager as fm\n",
    "fe = fm.FontEntry(\n",
    "    fname=r'/usr/share/fonts/truetype/nanum/NanumGothic.ttf', # ttf 파일이 저장되어 있는 경로\n",
    "    name='NanumBarunGothic')                        # 이 폰트의 원하는 이름 설정\n",
    "fm.fontManager.ttflist.insert(0, fe)              # Matplotlib에 폰트 추가\n",
    "plt.rcParams.update({'font.size': 10, 'font.family': 'NanumBarunGothic'}) # 폰트 설정\n",
    "plt.rc('font', family='NanumBarunGothic')\n",
    "import seaborn as sns\n",
    "\n",
    "# utils\n",
    "import pandas as pd\n",
    "import numpy as np\n",
    "from tqdm import tqdm\n",
    "import pickle\n",
    "import warnings;warnings.filterwarnings('ignore')\n",
    "\n",
    "# Model\n",
    "from sklearn.preprocessing import LabelEncoder\n",
    "from sklearn.model_selection import train_test_split\n",
    "from sklearn.metrics import mean_squared_error\n",
    "from sklearn.ensemble import RandomForestRegressor\n",
    "from sklearn import metrics\n",
    "\n",
    "import eli5\n",
    "from eli5.sklearn import PermutationImportance\n",
    "from sklearn.preprocessing import MinMaxScaler"
   ]
  },
  {
   "cell_type": "code",
   "execution_count": 1018,
   "metadata": {},
   "outputs": [],
   "source": [
    "# 필요한 데이터를 load 하겠습니다. 경로는 환경에 맞게 지정해주면 됩니다.\n",
    "train_path = '/data/ephemeral/home/data/train.csv'\n",
    "test_path  = '/data/ephemeral/home/data/test.csv'\n",
    "dt = pd.read_csv(train_path)\n",
    "dt_test = pd.read_csv(test_path)"
   ]
  },
  {
   "cell_type": "code",
   "execution_count": 1019,
   "metadata": {},
   "outputs": [
    {
     "data": {
      "text/html": [
       "<div>\n",
       "<style scoped>\n",
       "    .dataframe tbody tr th:only-of-type {\n",
       "        vertical-align: middle;\n",
       "    }\n",
       "\n",
       "    .dataframe tbody tr th {\n",
       "        vertical-align: top;\n",
       "    }\n",
       "\n",
       "    .dataframe thead th {\n",
       "        text-align: right;\n",
       "    }\n",
       "</style>\n",
       "<table border=\"1\" class=\"dataframe\">\n",
       "  <thead>\n",
       "    <tr style=\"text-align: right;\">\n",
       "      <th></th>\n",
       "      <th>시군구</th>\n",
       "      <th>번지</th>\n",
       "      <th>본번</th>\n",
       "      <th>부번</th>\n",
       "      <th>아파트명</th>\n",
       "      <th>전용면적(㎡)</th>\n",
       "      <th>계약년월</th>\n",
       "      <th>계약일</th>\n",
       "      <th>층</th>\n",
       "      <th>건축년도</th>\n",
       "      <th>...</th>\n",
       "      <th>청소비관리형태</th>\n",
       "      <th>건축면적</th>\n",
       "      <th>주차대수</th>\n",
       "      <th>기타/의무/임대/임의=1/2/3/4</th>\n",
       "      <th>단지승인일</th>\n",
       "      <th>사용허가여부</th>\n",
       "      <th>관리비 업로드</th>\n",
       "      <th>좌표X</th>\n",
       "      <th>좌표Y</th>\n",
       "      <th>단지신청일</th>\n",
       "    </tr>\n",
       "  </thead>\n",
       "  <tbody>\n",
       "    <tr>\n",
       "      <th>0</th>\n",
       "      <td>서울특별시 강남구 개포동</td>\n",
       "      <td>658-1</td>\n",
       "      <td>658.0</td>\n",
       "      <td>1.0</td>\n",
       "      <td>개포6차우성</td>\n",
       "      <td>79.9700</td>\n",
       "      <td>202307</td>\n",
       "      <td>26</td>\n",
       "      <td>5</td>\n",
       "      <td>1987</td>\n",
       "      <td>...</td>\n",
       "      <td>직영</td>\n",
       "      <td>4858.00</td>\n",
       "      <td>262.0</td>\n",
       "      <td>임의</td>\n",
       "      <td>2022-11-17 13:00:29.0</td>\n",
       "      <td>Y</td>\n",
       "      <td>N</td>\n",
       "      <td>127.057210</td>\n",
       "      <td>37.476763</td>\n",
       "      <td>2022-11-17 10:19:06.0</td>\n",
       "    </tr>\n",
       "    <tr>\n",
       "      <th>1</th>\n",
       "      <td>서울특별시 강남구 개포동</td>\n",
       "      <td>651-1</td>\n",
       "      <td>651.0</td>\n",
       "      <td>1.0</td>\n",
       "      <td>개포더샵트리에</td>\n",
       "      <td>108.2017</td>\n",
       "      <td>202308</td>\n",
       "      <td>15</td>\n",
       "      <td>10</td>\n",
       "      <td>2021</td>\n",
       "      <td>...</td>\n",
       "      <td>위탁</td>\n",
       "      <td>2724.46</td>\n",
       "      <td>305.0</td>\n",
       "      <td>의무</td>\n",
       "      <td>2022-02-23 13:01:10.0</td>\n",
       "      <td>Y</td>\n",
       "      <td>N</td>\n",
       "      <td>127.056394</td>\n",
       "      <td>37.484892</td>\n",
       "      <td>2022-02-23 11:05:05.0</td>\n",
       "    </tr>\n",
       "    <tr>\n",
       "      <th>2</th>\n",
       "      <td>서울특별시 강남구 개포동</td>\n",
       "      <td>652</td>\n",
       "      <td>652.0</td>\n",
       "      <td>0.0</td>\n",
       "      <td>개포우성3차</td>\n",
       "      <td>161.0000</td>\n",
       "      <td>202307</td>\n",
       "      <td>28</td>\n",
       "      <td>15</td>\n",
       "      <td>1984</td>\n",
       "      <td>...</td>\n",
       "      <td>위탁</td>\n",
       "      <td>61064.24</td>\n",
       "      <td>419.0</td>\n",
       "      <td>의무</td>\n",
       "      <td>1984-12-22 00:00:00.0</td>\n",
       "      <td>Y</td>\n",
       "      <td>N</td>\n",
       "      <td>127.055990</td>\n",
       "      <td>37.483894</td>\n",
       "      <td>2013-03-07 09:46:28.0</td>\n",
       "    </tr>\n",
       "    <tr>\n",
       "      <th>3</th>\n",
       "      <td>서울특별시 강남구 개포동</td>\n",
       "      <td>652</td>\n",
       "      <td>652.0</td>\n",
       "      <td>0.0</td>\n",
       "      <td>개포우성3차</td>\n",
       "      <td>133.4600</td>\n",
       "      <td>202308</td>\n",
       "      <td>10</td>\n",
       "      <td>14</td>\n",
       "      <td>1984</td>\n",
       "      <td>...</td>\n",
       "      <td>위탁</td>\n",
       "      <td>61064.24</td>\n",
       "      <td>419.0</td>\n",
       "      <td>의무</td>\n",
       "      <td>1984-12-22 00:00:00.0</td>\n",
       "      <td>Y</td>\n",
       "      <td>N</td>\n",
       "      <td>127.055990</td>\n",
       "      <td>37.483894</td>\n",
       "      <td>2013-03-07 09:46:28.0</td>\n",
       "    </tr>\n",
       "    <tr>\n",
       "      <th>4</th>\n",
       "      <td>서울특별시 강남구 개포동</td>\n",
       "      <td>652</td>\n",
       "      <td>652.0</td>\n",
       "      <td>0.0</td>\n",
       "      <td>개포우성3차</td>\n",
       "      <td>104.4300</td>\n",
       "      <td>202308</td>\n",
       "      <td>18</td>\n",
       "      <td>6</td>\n",
       "      <td>1984</td>\n",
       "      <td>...</td>\n",
       "      <td>위탁</td>\n",
       "      <td>61064.24</td>\n",
       "      <td>419.0</td>\n",
       "      <td>의무</td>\n",
       "      <td>1984-12-22 00:00:00.0</td>\n",
       "      <td>Y</td>\n",
       "      <td>N</td>\n",
       "      <td>127.055990</td>\n",
       "      <td>37.483894</td>\n",
       "      <td>2013-03-07 09:46:28.0</td>\n",
       "    </tr>\n",
       "  </tbody>\n",
       "</table>\n",
       "<p>5 rows × 51 columns</p>\n",
       "</div>"
      ],
      "text/plain": [
       "             시군구     번지     본번   부번     아파트명   전용면적(㎡)    계약년월  계약일   층  건축년도  \\\n",
       "0  서울특별시 강남구 개포동  658-1  658.0  1.0   개포6차우성   79.9700  202307   26   5  1987   \n",
       "1  서울특별시 강남구 개포동  651-1  651.0  1.0  개포더샵트리에  108.2017  202308   15  10  2021   \n",
       "2  서울특별시 강남구 개포동    652  652.0  0.0   개포우성3차  161.0000  202307   28  15  1984   \n",
       "3  서울특별시 강남구 개포동    652  652.0  0.0   개포우성3차  133.4600  202308   10  14  1984   \n",
       "4  서울특별시 강남구 개포동    652  652.0  0.0   개포우성3차  104.4300  202308   18   6  1984   \n",
       "\n",
       "   ... 청소비관리형태      건축면적   주차대수 기타/의무/임대/임의=1/2/3/4                  단지승인일  \\\n",
       "0  ...      직영   4858.00  262.0                  임의  2022-11-17 13:00:29.0   \n",
       "1  ...      위탁   2724.46  305.0                  의무  2022-02-23 13:01:10.0   \n",
       "2  ...      위탁  61064.24  419.0                  의무  1984-12-22 00:00:00.0   \n",
       "3  ...      위탁  61064.24  419.0                  의무  1984-12-22 00:00:00.0   \n",
       "4  ...      위탁  61064.24  419.0                  의무  1984-12-22 00:00:00.0   \n",
       "\n",
       "  사용허가여부 관리비 업로드         좌표X        좌표Y                  단지신청일  \n",
       "0      Y       N  127.057210  37.476763  2022-11-17 10:19:06.0  \n",
       "1      Y       N  127.056394  37.484892  2022-02-23 11:05:05.0  \n",
       "2      Y       N  127.055990  37.483894  2013-03-07 09:46:28.0  \n",
       "3      Y       N  127.055990  37.483894  2013-03-07 09:46:28.0  \n",
       "4      Y       N  127.055990  37.483894  2013-03-07 09:46:28.0  \n",
       "\n",
       "[5 rows x 51 columns]"
      ]
     },
     "execution_count": 1019,
     "metadata": {},
     "output_type": "execute_result"
    }
   ],
   "source": [
    "dt_test.head()"
   ]
  },
  {
   "cell_type": "code",
   "execution_count": 1020,
   "metadata": {},
   "outputs": [
    {
     "data": {
      "text/plain": [
       "Index(['시군구', '번지', '본번', '부번', '아파트명', '전용면적(㎡)', '계약년월', '계약일', '층', '건축년도',\n",
       "       '도로명', '해제사유발생일', '등기신청일자', '거래유형', '중개사소재지', 'k-단지분류(아파트,주상복합등등)',\n",
       "       'k-전화번호', 'k-팩스번호', '단지소개기존clob', 'k-세대타입(분양형태)', 'k-관리방식', 'k-복도유형',\n",
       "       'k-난방방식', 'k-전체동수', 'k-전체세대수', 'k-건설사(시공사)', 'k-시행사', 'k-사용검사일-사용승인일',\n",
       "       'k-연면적', 'k-주거전용면적', 'k-관리비부과면적', 'k-전용면적별세대현황(60㎡이하)',\n",
       "       'k-전용면적별세대현황(60㎡~85㎡이하)', 'k-85㎡~135㎡이하', 'k-135㎡초과', 'k-홈페이지',\n",
       "       'k-등록일자', 'k-수정일자', '고용보험관리번호', '경비비관리형태', '세대전기계약방법', '청소비관리형태',\n",
       "       '건축면적', '주차대수', '기타/의무/임대/임의=1/2/3/4', '단지승인일', '사용허가여부', '관리비 업로드',\n",
       "       '좌표X', '좌표Y', '단지신청일', 'target'],\n",
       "      dtype='object')"
      ]
     },
     "execution_count": 1020,
     "metadata": {},
     "output_type": "execute_result"
    }
   ],
   "source": [
    "dt.columns"
   ]
  },
  {
   "cell_type": "code",
   "execution_count": 1021,
   "metadata": {},
   "outputs": [],
   "source": [
    "dt.drop(columns=['아파트명', '번지', '본번', '부번', '계약일', '도로명', '중개사소재지', 'k-전화번호','k-팩스번호',\n",
    "                 '단지소개기존clob','k-전체동수','k-전체세대수','k-건설사(시공사)',\n",
    "                 'k-시행사','k-연면적','k-주거전용면적','k-관리비부과면적','k-홈페이지','k-등록일자','k-수정일자',\n",
    "                 '고용보험관리번호','건축면적','주차대수','단지승인일','사용허가여부','관리비 업로드','단지신청일'], inplace=True)"
   ]
  },
  {
   "cell_type": "code",
   "execution_count": 1022,
   "metadata": {},
   "outputs": [],
   "source": [
    "dt.drop(columns = ['좌표X', '좌표Y'], inplace=True)"
   ]
  },
  {
   "cell_type": "code",
   "execution_count": 1023,
   "metadata": {},
   "outputs": [
    {
     "data": {
      "text/plain": [
       "Index(['시군구', '전용면적(㎡)', '계약년월', '층', '건축년도', '해제사유발생일', '등기신청일자', '거래유형',\n",
       "       'k-단지분류(아파트,주상복합등등)', 'k-세대타입(분양형태)', 'k-관리방식', 'k-복도유형', 'k-난방방식',\n",
       "       'k-사용검사일-사용승인일', 'k-전용면적별세대현황(60㎡이하)', 'k-전용면적별세대현황(60㎡~85㎡이하)',\n",
       "       'k-85㎡~135㎡이하', 'k-135㎡초과', '경비비관리형태', '세대전기계약방법', '청소비관리형태',\n",
       "       '기타/의무/임대/임의=1/2/3/4', 'target'],\n",
       "      dtype='object')"
      ]
     },
     "execution_count": 1023,
     "metadata": {},
     "output_type": "execute_result"
    }
   ],
   "source": [
    "dt.columns"
   ]
  },
  {
   "cell_type": "code",
   "execution_count": 1024,
   "metadata": {},
   "outputs": [
    {
     "name": "stdout",
     "output_type": "stream",
     "text": [
      "연속형 변수: ['전용면적(㎡)', '계약년월', '층', '건축년도', '해제사유발생일', 'k-전용면적별세대현황(60㎡이하)', 'k-전용면적별세대현황(60㎡~85㎡이하)', 'k-85㎡~135㎡이하', 'k-135㎡초과', 'target']\n",
      "범주형 변수: ['시군구', '등기신청일자', '거래유형', 'k-단지분류(아파트,주상복합등등)', 'k-세대타입(분양형태)', 'k-관리방식', 'k-복도유형', 'k-난방방식', 'k-사용검사일-사용승인일', '경비비관리형태', '세대전기계약방법', '청소비관리형태', '기타/의무/임대/임의=1/2/3/4']\n"
     ]
    }
   ],
   "source": [
    "# 파생변수 제작으로 추가된 변수들이 존재하기에, 다시한번 연속형과 범주형 칼럼을 분리해주겠습니다.\n",
    "continuous_columns = []\n",
    "categorical_columns = []\n",
    "\n",
    "for column in dt.columns:\n",
    "    if pd.api.types.is_numeric_dtype(dt[column]):\n",
    "        continuous_columns.append(column)\n",
    "    else:\n",
    "        categorical_columns.append(column)\n",
    "\n",
    "print(\"연속형 변수:\", continuous_columns)\n",
    "print(\"범주형 변수:\", categorical_columns)"
   ]
  },
  {
   "cell_type": "markdown",
   "metadata": {},
   "source": [
    "# 결측치 처리\n"
   ]
  },
  {
   "cell_type": "markdown",
   "metadata": {},
   "source": [
    "### 결측치가 있는 열 중 일부 제거\n"
   ]
  },
  {
   "cell_type": "code",
   "execution_count": 1025,
   "metadata": {},
   "outputs": [
    {
     "data": {
      "text/plain": [
       "k-135㎡초과                  1118495\n",
       "해제사유발생일                   1112839\n",
       "세대전기계약방법                   878747\n",
       "청소비관리형태                    871178\n",
       "경비비관리형태                    870988\n",
       "k-단지분류(아파트,주상복합등등)         870691\n",
       "k-복도유형                     869890\n",
       "k-사용검사일-사용승인일              869696\n",
       "k-전용면적별세대현황(60㎡~85㎡이하)     869608\n",
       "k-85㎡~135㎡이하               869608\n",
       "k-전용면적별세대현황(60㎡이하)         869608\n",
       "기타/의무/임대/임의=1/2/3/4        869563\n",
       "k-세대타입(분양형태)               869563\n",
       "k-관리방식                     869563\n",
       "k-난방방식                     869563\n",
       "시군구                             0\n",
       "전용면적(㎡)                         0\n",
       "거래유형                            0\n",
       "등기신청일자                          0\n",
       "건축년도                            0\n",
       "층                               0\n",
       "계약년월                            0\n",
       "target                          0\n",
       "dtype: int64"
      ]
     },
     "execution_count": 1025,
     "metadata": {},
     "output_type": "execute_result"
    }
   ],
   "source": [
    "dt.isnull().sum().sort_values(ascending=False)"
   ]
  },
  {
   "cell_type": "code",
   "execution_count": 1026,
   "metadata": {},
   "outputs": [
    {
     "data": {
      "text/plain": [
       "Index(['시군구', '전용면적(㎡)', '계약년월', '층', '건축년도', '등기신청일자', '거래유형',\n",
       "       'k-단지분류(아파트,주상복합등등)', 'k-세대타입(분양형태)', 'k-관리방식', 'k-복도유형', 'k-난방방식',\n",
       "       'k-사용검사일-사용승인일', 'k-전용면적별세대현황(60㎡이하)', 'k-전용면적별세대현황(60㎡~85㎡이하)',\n",
       "       'k-85㎡~135㎡이하', 'k-135㎡초과', '경비비관리형태', '세대전기계약방법', '청소비관리형태',\n",
       "       '기타/의무/임대/임의=1/2/3/4', 'target'],\n",
       "      dtype='object')"
      ]
     },
     "execution_count": 1026,
     "metadata": {},
     "output_type": "execute_result"
    }
   ],
   "source": [
    "dt.drop(columns=['해제사유발생일'], inplace=True)\n",
    "dt.columns"
   ]
  },
  {
   "cell_type": "code",
   "execution_count": 1027,
   "metadata": {},
   "outputs": [
    {
     "data": {
      "text/plain": [
       "(1118822, 22)"
      ]
     },
     "execution_count": 1027,
     "metadata": {},
     "output_type": "execute_result"
    }
   ],
   "source": [
    "dt.shape"
   ]
  },
  {
   "cell_type": "markdown",
   "metadata": {},
   "source": [
    "### 결측치가 있는 행 제거\n"
   ]
  },
  {
   "cell_type": "code",
   "execution_count": 1028,
   "metadata": {},
   "outputs": [
    {
     "name": "stdout",
     "output_type": "stream",
     "text": [
      "14\n"
     ]
    }
   ],
   "source": [
    "missing_count = dt.isnull().sum(axis=1)\n",
    "print(max(missing_count))"
   ]
  },
  {
   "cell_type": "code",
   "execution_count": 1029,
   "metadata": {},
   "outputs": [
    {
     "data": {
      "image/png": "[encoded data removed]",
      "text/plain": [
       "<Figure size 800x600 with 1 Axes>"
      ]
     },
     "metadata": {},
     "output_type": "display_data"
    }
   ],
   "source": [
    "plt.figure(figsize=(8, 6))\n",
    "plt.scatter(missing_count, range(len(missing_count)), color='blue', alpha=0.7)\n",
    "plt.title('Scatter Plot of Missing Value Counts by Row', fontsize=14)\n",
    "plt.xlabel('Row Index', fontsize=12)\n",
    "plt.ylabel('Missing Count', fontsize=12)\n",
    "plt.grid(alpha=0.5)\n",
    "plt.show()"
   ]
  },
  {
   "cell_type": "code",
   "execution_count": 1030,
   "metadata": {},
   "outputs": [
    {
     "data": {
      "text/plain": [
       "(1118822, 22)"
      ]
     },
     "execution_count": 1030,
     "metadata": {},
     "output_type": "execute_result"
    }
   ],
   "source": [
    "threshold = 15  # 결측치 개수\n",
    "\n",
    "# 각 행에 대해 결측치 개수를 계산하고, threshold 이상의 결측치를 가진 행을 삭제\n",
    "dt = dt[dt.isnull().sum(axis=1) < threshold]\n",
    "dt.shape"
   ]
  },
  {
   "cell_type": "code",
   "execution_count": 1031,
   "metadata": {},
   "outputs": [
    {
     "data": {
      "text/plain": [
       "Index(['시군구', '전용면적(㎡)', '계약년월', '층', '건축년도', '등기신청일자', '거래유형',\n",
       "       'k-단지분류(아파트,주상복합등등)', 'k-세대타입(분양형태)', 'k-관리방식', 'k-복도유형', 'k-난방방식',\n",
       "       'k-사용검사일-사용승인일', 'k-전용면적별세대현황(60㎡이하)', 'k-전용면적별세대현황(60㎡~85㎡이하)',\n",
       "       'k-85㎡~135㎡이하', 'k-135㎡초과', '경비비관리형태', '세대전기계약방법', '청소비관리형태',\n",
       "       '기타/의무/임대/임의=1/2/3/4', 'target'],\n",
       "      dtype='object')"
      ]
     },
     "execution_count": 1031,
     "metadata": {},
     "output_type": "execute_result"
    }
   ],
   "source": [
    "dt.columns"
   ]
  },
  {
   "cell_type": "markdown",
   "metadata": {},
   "source": [
    "# 이상치 처리\n",
    "ㄴ 추후 예정"
   ]
  },
  {
   "cell_type": "markdown",
   "metadata": {},
   "source": [
    "# 데이터 변환"
   ]
  },
  {
   "cell_type": "code",
   "execution_count": 1032,
   "metadata": {},
   "outputs": [
    {
     "data": {
      "text/plain": [
       "Index(['시군구', '전용면적(㎡)', '계약년월', '층', '건축년도', '등기신청일자', '거래유형',\n",
       "       'k-단지분류(아파트,주상복합등등)', 'k-세대타입(분양형태)', 'k-관리방식', 'k-복도유형', 'k-난방방식',\n",
       "       'k-사용검사일-사용승인일', 'k-전용면적별세대현황(60㎡이하)', 'k-전용면적별세대현황(60㎡~85㎡이하)',\n",
       "       'k-85㎡~135㎡이하', 'k-135㎡초과', '경비비관리형태', '세대전기계약방법', '청소비관리형태',\n",
       "       '기타/의무/임대/임의=1/2/3/4', 'target'],\n",
       "      dtype='object')"
      ]
     },
     "execution_count": 1032,
     "metadata": {},
     "output_type": "execute_result"
    }
   ],
   "source": [
    "dt.columns"
   ]
  },
  {
   "cell_type": "markdown",
   "metadata": {},
   "source": [
    "### split 시군구\n"
   ]
  },
  {
   "cell_type": "code",
   "execution_count": 1033,
   "metadata": {},
   "outputs": [
    {
     "data": {
      "text/html": [
       "<div>\n",
       "<style scoped>\n",
       "    .dataframe tbody tr th:only-of-type {\n",
       "        vertical-align: middle;\n",
       "    }\n",
       "\n",
       "    .dataframe tbody tr th {\n",
       "        vertical-align: top;\n",
       "    }\n",
       "\n",
       "    .dataframe thead th {\n",
       "        text-align: right;\n",
       "    }\n",
       "</style>\n",
       "<table border=\"1\" class=\"dataframe\">\n",
       "  <thead>\n",
       "    <tr style=\"text-align: right;\">\n",
       "      <th></th>\n",
       "      <th>구</th>\n",
       "      <th>동</th>\n",
       "    </tr>\n",
       "  </thead>\n",
       "  <tbody>\n",
       "    <tr>\n",
       "      <th>564373</th>\n",
       "      <td>관악구</td>\n",
       "      <td>봉천동</td>\n",
       "    </tr>\n",
       "    <tr>\n",
       "      <th>345308</th>\n",
       "      <td>동작구</td>\n",
       "      <td>사당동</td>\n",
       "    </tr>\n",
       "    <tr>\n",
       "      <th>1045345</th>\n",
       "      <td>동대문구</td>\n",
       "      <td>장안동</td>\n",
       "    </tr>\n",
       "    <tr>\n",
       "      <th>993371</th>\n",
       "      <td>성동구</td>\n",
       "      <td>옥수동</td>\n",
       "    </tr>\n",
       "    <tr>\n",
       "      <th>783438</th>\n",
       "      <td>구로구</td>\n",
       "      <td>고척동</td>\n",
       "    </tr>\n",
       "    <tr>\n",
       "      <th>433133</th>\n",
       "      <td>양천구</td>\n",
       "      <td>신월동</td>\n",
       "    </tr>\n",
       "    <tr>\n",
       "      <th>1003650</th>\n",
       "      <td>은평구</td>\n",
       "      <td>진관동</td>\n",
       "    </tr>\n",
       "    <tr>\n",
       "      <th>245998</th>\n",
       "      <td>강서구</td>\n",
       "      <td>등촌동</td>\n",
       "    </tr>\n",
       "    <tr>\n",
       "      <th>681680</th>\n",
       "      <td>구로구</td>\n",
       "      <td>온수동</td>\n",
       "    </tr>\n",
       "    <tr>\n",
       "      <th>330096</th>\n",
       "      <td>노원구</td>\n",
       "      <td>월계동</td>\n",
       "    </tr>\n",
       "    <tr>\n",
       "      <th>70274</th>\n",
       "      <td>성북구</td>\n",
       "      <td>하월곡동</td>\n",
       "    </tr>\n",
       "    <tr>\n",
       "      <th>678760</th>\n",
       "      <td>구로구</td>\n",
       "      <td>구로동</td>\n",
       "    </tr>\n",
       "    <tr>\n",
       "      <th>213924</th>\n",
       "      <td>구로구</td>\n",
       "      <td>고척동</td>\n",
       "    </tr>\n",
       "    <tr>\n",
       "      <th>497147</th>\n",
       "      <td>마포구</td>\n",
       "      <td>공덕동</td>\n",
       "    </tr>\n",
       "    <tr>\n",
       "      <th>747942</th>\n",
       "      <td>영등포구</td>\n",
       "      <td>신길동</td>\n",
       "    </tr>\n",
       "    <tr>\n",
       "      <th>538182</th>\n",
       "      <td>은평구</td>\n",
       "      <td>응암동</td>\n",
       "    </tr>\n",
       "    <tr>\n",
       "      <th>201110</th>\n",
       "      <td>강남구</td>\n",
       "      <td>도곡동</td>\n",
       "    </tr>\n",
       "    <tr>\n",
       "      <th>228118</th>\n",
       "      <td>금천구</td>\n",
       "      <td>독산동</td>\n",
       "    </tr>\n",
       "    <tr>\n",
       "      <th>250846</th>\n",
       "      <td>관악구</td>\n",
       "      <td>신림동</td>\n",
       "    </tr>\n",
       "    <tr>\n",
       "      <th>213059</th>\n",
       "      <td>광진구</td>\n",
       "      <td>자양동</td>\n",
       "    </tr>\n",
       "  </tbody>\n",
       "</table>\n",
       "</div>"
      ],
      "text/plain": [
       "            구     동\n",
       "564373    관악구   봉천동\n",
       "345308    동작구   사당동\n",
       "1045345  동대문구   장안동\n",
       "993371    성동구   옥수동\n",
       "783438    구로구   고척동\n",
       "433133    양천구   신월동\n",
       "1003650   은평구   진관동\n",
       "245998    강서구   등촌동\n",
       "681680    구로구   온수동\n",
       "330096    노원구   월계동\n",
       "70274     성북구  하월곡동\n",
       "678760    구로구   구로동\n",
       "213924    구로구   고척동\n",
       "497147    마포구   공덕동\n",
       "747942   영등포구   신길동\n",
       "538182    은평구   응암동\n",
       "201110    강남구   도곡동\n",
       "228118    금천구   독산동\n",
       "250846    관악구   신림동\n",
       "213059    광진구   자양동"
      ]
     },
     "execution_count": 1033,
     "metadata": {},
     "output_type": "execute_result"
    }
   ],
   "source": [
    "split_df = dt['시군구'].str.split(' ', expand=True)\n",
    "split_df.columns = ['시', '구', '동'] \n",
    "split_df.drop(columns='시', inplace=True)\n",
    "split_df.sample(20)"
   ]
  },
  {
   "cell_type": "code",
   "execution_count": 1034,
   "metadata": {},
   "outputs": [
    {
     "data": {
      "text/plain": [
       "Index(['전용면적(㎡)', '계약년월', '층', '건축년도', '등기신청일자', '거래유형', 'k-단지분류(아파트,주상복합등등)',\n",
       "       'k-세대타입(분양형태)', 'k-관리방식', 'k-복도유형', 'k-난방방식', 'k-사용검사일-사용승인일',\n",
       "       'k-전용면적별세대현황(60㎡이하)', 'k-전용면적별세대현황(60㎡~85㎡이하)', 'k-85㎡~135㎡이하',\n",
       "       'k-135㎡초과', '경비비관리형태', '세대전기계약방법', '청소비관리형태', '기타/의무/임대/임의=1/2/3/4',\n",
       "       'target', '구', '동'],\n",
       "      dtype='object')"
      ]
     },
     "execution_count": 1034,
     "metadata": {},
     "output_type": "execute_result"
    }
   ],
   "source": [
    "dt.drop(columns='시군구', inplace=True)\n",
    "dt = pd.concat([dt, split_df], axis=1)\n",
    "dt.columns"
   ]
  },
  {
   "cell_type": "markdown",
   "metadata": {},
   "source": [
    "전용면적(㎡) : MinMax Scaling\n",
    "\n",
    "계약년월 :연도, 월 분리 /  월 -> 성수기(6~8월 제외), 비수기(6~8월)로 구분\n",
    "\n",
    "층 : Min max scaling\n",
    "\n",
    "건축년도 : 2024년을 기준으로 차이값을 계산 후 이를 역수로 치환 (음수로 사용해볼수도 있음)\n",
    "\n",
    "등기신청일자 : 있으면 1 없으면 0\n",
    "\n",
    "거래유형 : (중개거래1, 직거래0)"
   ]
  },
  {
   "cell_type": "markdown",
   "metadata": {},
   "source": [
    "## 계약년월 -> 연, 월 분할 / 월 -> 성수기 여부로 변환"
   ]
  },
  {
   "cell_type": "code",
   "execution_count": 1035,
   "metadata": {},
   "outputs": [
    {
     "data": {
      "text/plain": [
       "Index(['전용면적(㎡)', '층', '건축년도', '등기신청일자', '거래유형', 'k-단지분류(아파트,주상복합등등)',\n",
       "       'k-세대타입(분양형태)', 'k-관리방식', 'k-복도유형', 'k-난방방식', 'k-사용검사일-사용승인일',\n",
       "       'k-전용면적별세대현황(60㎡이하)', 'k-전용면적별세대현황(60㎡~85㎡이하)', 'k-85㎡~135㎡이하',\n",
       "       'k-135㎡초과', '경비비관리형태', '세대전기계약방법', '청소비관리형태', '기타/의무/임대/임의=1/2/3/4',\n",
       "       'target', '구', '동', '계약년도', '성수기여부'],\n",
       "      dtype='object')"
      ]
     },
     "execution_count": 1035,
     "metadata": {},
     "output_type": "execute_result"
    }
   ],
   "source": [
    "dt['계약년도'] = dt['계약년월'].astype(str).str[:4].astype(int)\n",
    "dt['계약월'] = dt['계약년월'].astype(str).str[4:6].astype(int)\n",
    "dt.drop(columns=['계약년월'], inplace=True)\n",
    "dt['성수기여부'] = dt['계약월'].apply(lambda x: 1 if 6 <= x <= 8 else 0) # 성수기 = 1, 비성수기 = 0\n",
    "dt.drop(columns='계약월', inplace=True)\n",
    "dt.columns\n",
    "\n",
    "# maps = {'비성수기' : 0, '성수기' : 1}\n",
    "# dt['성수기여부'] = dt['성수기여부'].map(maps)"
   ]
  },
  {
   "cell_type": "markdown",
   "metadata": {},
   "source": [
    "## 전용면적, 층 MinMaxScaler()\n"
   ]
  },
  {
   "cell_type": "code",
   "execution_count": 1036,
   "metadata": {},
   "outputs": [
    {
     "data": {
      "text/plain": [
       "Index(['층', '건축년도', '등기신청일자', '거래유형', 'k-단지분류(아파트,주상복합등등)', 'k-세대타입(분양형태)',\n",
       "       'k-관리방식', 'k-복도유형', 'k-난방방식', 'k-사용검사일-사용승인일', 'k-전용면적별세대현황(60㎡이하)',\n",
       "       'k-전용면적별세대현황(60㎡~85㎡이하)', 'k-85㎡~135㎡이하', 'k-135㎡초과', '경비비관리형태',\n",
       "       '세대전기계약방법', '청소비관리형태', '기타/의무/임대/임의=1/2/3/4', 'target', '구', '동',\n",
       "       '계약년도', '성수기여부', '전용면적'],\n",
       "      dtype='object')"
      ]
     },
     "execution_count": 1036,
     "metadata": {},
     "output_type": "execute_result"
    }
   ],
   "source": [
    "scaler = MinMaxScaler()\n",
    "dt['전용면적'] = scaler.fit_transform(dt[['전용면적(㎡)']])\n",
    "scaler = MinMaxScaler()\n",
    "dt['층'] = scaler.fit_transform(dt[['층']])\n",
    "dt.drop(columns=['전용면적(㎡)'], inplace=True)\n",
    "dt.columns"
   ]
  },
  {
   "cell_type": "code",
   "execution_count": 1037,
   "metadata": {},
   "outputs": [
    {
     "data": {
      "text/html": [
       "<div>\n",
       "<style scoped>\n",
       "    .dataframe tbody tr th:only-of-type {\n",
       "        vertical-align: middle;\n",
       "    }\n",
       "\n",
       "    .dataframe tbody tr th {\n",
       "        vertical-align: top;\n",
       "    }\n",
       "\n",
       "    .dataframe thead th {\n",
       "        text-align: right;\n",
       "    }\n",
       "</style>\n",
       "<table border=\"1\" class=\"dataframe\">\n",
       "  <thead>\n",
       "    <tr style=\"text-align: right;\">\n",
       "      <th></th>\n",
       "      <th>층</th>\n",
       "      <th>건축년도</th>\n",
       "      <th>등기신청일자</th>\n",
       "      <th>거래유형</th>\n",
       "      <th>k-단지분류(아파트,주상복합등등)</th>\n",
       "      <th>k-세대타입(분양형태)</th>\n",
       "      <th>k-관리방식</th>\n",
       "      <th>k-복도유형</th>\n",
       "      <th>k-난방방식</th>\n",
       "      <th>k-사용검사일-사용승인일</th>\n",
       "      <th>...</th>\n",
       "      <th>경비비관리형태</th>\n",
       "      <th>세대전기계약방법</th>\n",
       "      <th>청소비관리형태</th>\n",
       "      <th>기타/의무/임대/임의=1/2/3/4</th>\n",
       "      <th>target</th>\n",
       "      <th>구</th>\n",
       "      <th>동</th>\n",
       "      <th>계약년도</th>\n",
       "      <th>성수기여부</th>\n",
       "      <th>전용면적</th>\n",
       "    </tr>\n",
       "  </thead>\n",
       "  <tbody>\n",
       "    <tr>\n",
       "      <th>493198</th>\n",
       "      <td>0.315068</td>\n",
       "      <td>1993</td>\n",
       "      <td></td>\n",
       "      <td>-</td>\n",
       "      <td>NaN</td>\n",
       "      <td>NaN</td>\n",
       "      <td>NaN</td>\n",
       "      <td>NaN</td>\n",
       "      <td>NaN</td>\n",
       "      <td>NaN</td>\n",
       "      <td>...</td>\n",
       "      <td>NaN</td>\n",
       "      <td>NaN</td>\n",
       "      <td>NaN</td>\n",
       "      <td>NaN</td>\n",
       "      <td>82000</td>\n",
       "      <td>동작구</td>\n",
       "      <td>대방동</td>\n",
       "      <td>2017</td>\n",
       "      <td>0</td>\n",
       "      <td>0.299855</td>\n",
       "    </tr>\n",
       "    <tr>\n",
       "      <th>970695</th>\n",
       "      <td>0.205479</td>\n",
       "      <td>1983</td>\n",
       "      <td></td>\n",
       "      <td>-</td>\n",
       "      <td>NaN</td>\n",
       "      <td>NaN</td>\n",
       "      <td>NaN</td>\n",
       "      <td>NaN</td>\n",
       "      <td>NaN</td>\n",
       "      <td>NaN</td>\n",
       "      <td>...</td>\n",
       "      <td>NaN</td>\n",
       "      <td>NaN</td>\n",
       "      <td>NaN</td>\n",
       "      <td>NaN</td>\n",
       "      <td>168500</td>\n",
       "      <td>강남구</td>\n",
       "      <td>압구정동</td>\n",
       "      <td>2010</td>\n",
       "      <td>0</td>\n",
       "      <td>0.230002</td>\n",
       "    </tr>\n",
       "    <tr>\n",
       "      <th>623522</th>\n",
       "      <td>0.109589</td>\n",
       "      <td>2008</td>\n",
       "      <td></td>\n",
       "      <td>-</td>\n",
       "      <td>아파트</td>\n",
       "      <td>분양</td>\n",
       "      <td>위탁관리</td>\n",
       "      <td>계단식</td>\n",
       "      <td>지역난방</td>\n",
       "      <td>2008-09-30 00:00:00.0</td>\n",
       "      <td>...</td>\n",
       "      <td>위탁</td>\n",
       "      <td>종합계약</td>\n",
       "      <td>위탁</td>\n",
       "      <td>의무</td>\n",
       "      <td>81500</td>\n",
       "      <td>송파구</td>\n",
       "      <td>잠실동</td>\n",
       "      <td>2015</td>\n",
       "      <td>0</td>\n",
       "      <td>0.120541</td>\n",
       "    </tr>\n",
       "    <tr>\n",
       "      <th>39507</th>\n",
       "      <td>0.219178</td>\n",
       "      <td>1987</td>\n",
       "      <td></td>\n",
       "      <td>-</td>\n",
       "      <td>NaN</td>\n",
       "      <td>NaN</td>\n",
       "      <td>NaN</td>\n",
       "      <td>NaN</td>\n",
       "      <td>NaN</td>\n",
       "      <td>NaN</td>\n",
       "      <td>...</td>\n",
       "      <td>NaN</td>\n",
       "      <td>NaN</td>\n",
       "      <td>NaN</td>\n",
       "      <td>NaN</td>\n",
       "      <td>30450</td>\n",
       "      <td>도봉구</td>\n",
       "      <td>도봉동</td>\n",
       "      <td>2018</td>\n",
       "      <td>1</td>\n",
       "      <td>0.157639</td>\n",
       "    </tr>\n",
       "    <tr>\n",
       "      <th>929814</th>\n",
       "      <td>0.232877</td>\n",
       "      <td>2005</td>\n",
       "      <td></td>\n",
       "      <td>-</td>\n",
       "      <td>아파트</td>\n",
       "      <td>분양</td>\n",
       "      <td>위탁관리</td>\n",
       "      <td>계단식</td>\n",
       "      <td>개별난방</td>\n",
       "      <td>2005-05-23 00:00:00.0</td>\n",
       "      <td>...</td>\n",
       "      <td>위탁</td>\n",
       "      <td>단일계약</td>\n",
       "      <td>직영</td>\n",
       "      <td>의무</td>\n",
       "      <td>38000</td>\n",
       "      <td>노원구</td>\n",
       "      <td>월계동</td>\n",
       "      <td>2011</td>\n",
       "      <td>1</td>\n",
       "      <td>0.180603</td>\n",
       "    </tr>\n",
       "  </tbody>\n",
       "</table>\n",
       "<p>5 rows × 24 columns</p>\n",
       "</div>"
      ],
      "text/plain": [
       "               층  건축년도 등기신청일자 거래유형 k-단지분류(아파트,주상복합등등) k-세대타입(분양형태) k-관리방식  \\\n",
       "493198  0.315068  1993           -                NaN          NaN    NaN   \n",
       "970695  0.205479  1983           -                NaN          NaN    NaN   \n",
       "623522  0.109589  2008           -                아파트           분양   위탁관리   \n",
       "39507   0.219178  1987           -                NaN          NaN    NaN   \n",
       "929814  0.232877  2005           -                아파트           분양   위탁관리   \n",
       "\n",
       "       k-복도유형 k-난방방식          k-사용검사일-사용승인일  ...  경비비관리형태  세대전기계약방법  청소비관리형태  \\\n",
       "493198    NaN    NaN                    NaN  ...      NaN       NaN      NaN   \n",
       "970695    NaN    NaN                    NaN  ...      NaN       NaN      NaN   \n",
       "623522    계단식   지역난방  2008-09-30 00:00:00.0  ...       위탁      종합계약       위탁   \n",
       "39507     NaN    NaN                    NaN  ...      NaN       NaN      NaN   \n",
       "929814    계단식   개별난방  2005-05-23 00:00:00.0  ...       위탁      단일계약       직영   \n",
       "\n",
       "        기타/의무/임대/임의=1/2/3/4  target    구     동  계약년도  성수기여부      전용면적  \n",
       "493198                  NaN   82000  동작구   대방동  2017      0  0.299855  \n",
       "970695                  NaN  168500  강남구  압구정동  2010      0  0.230002  \n",
       "623522                   의무   81500  송파구   잠실동  2015      0  0.120541  \n",
       "39507                   NaN   30450  도봉구   도봉동  2018      1  0.157639  \n",
       "929814                   의무   38000  노원구   월계동  2011      1  0.180603  \n",
       "\n",
       "[5 rows x 24 columns]"
      ]
     },
     "execution_count": 1037,
     "metadata": {},
     "output_type": "execute_result"
    }
   ],
   "source": [
    "dt.sample(5)"
   ]
  },
  {
   "cell_type": "code",
   "execution_count": 1038,
   "metadata": {},
   "outputs": [
    {
     "data": {
      "text/plain": [
       "층                               0\n",
       "건축년도                            0\n",
       "등기신청일자                          0\n",
       "거래유형                            0\n",
       "k-단지분류(아파트,주상복합등등)         870691\n",
       "k-세대타입(분양형태)               869563\n",
       "k-관리방식                     869563\n",
       "k-복도유형                     869890\n",
       "k-난방방식                     869563\n",
       "k-사용검사일-사용승인일              869696\n",
       "k-전용면적별세대현황(60㎡이하)         869608\n",
       "k-전용면적별세대현황(60㎡~85㎡이하)     869608\n",
       "k-85㎡~135㎡이하               869608\n",
       "k-135㎡초과                  1118495\n",
       "경비비관리형태                    870988\n",
       "세대전기계약방법                   878747\n",
       "청소비관리형태                    871178\n",
       "기타/의무/임대/임의=1/2/3/4        869563\n",
       "target                          0\n",
       "구                               0\n",
       "동                               0\n",
       "계약년도                            0\n",
       "성수기여부                           0\n",
       "전용면적                            0\n",
       "dtype: int64"
      ]
     },
     "execution_count": 1038,
     "metadata": {},
     "output_type": "execute_result"
    }
   ],
   "source": [
    "dt.isnull().sum()"
   ]
  },
  {
   "cell_type": "markdown",
   "metadata": {},
   "source": [
    "## 건축년도 : 1 / 2024 - 건축년도\n"
   ]
  },
  {
   "cell_type": "code",
   "execution_count": 1039,
   "metadata": {},
   "outputs": [
    {
     "data": {
      "text/plain": [
       "Index(['층', '건축년도', '등기신청일자', '거래유형', 'k-단지분류(아파트,주상복합등등)', 'k-세대타입(분양형태)',\n",
       "       'k-관리방식', 'k-복도유형', 'k-난방방식', 'k-사용검사일-사용승인일', 'k-전용면적별세대현황(60㎡이하)',\n",
       "       'k-전용면적별세대현황(60㎡~85㎡이하)', 'k-85㎡~135㎡이하', 'k-135㎡초과', '경비비관리형태',\n",
       "       '세대전기계약방법', '청소비관리형태', '기타/의무/임대/임의=1/2/3/4', 'target', '구', '동',\n",
       "       '계약년도', '성수기여부', '전용면적'],\n",
       "      dtype='object')"
      ]
     },
     "execution_count": 1039,
     "metadata": {},
     "output_type": "execute_result"
    }
   ],
   "source": [
    "# 4. 건축년도 : 2024년 기준 차이값 계산 후 역수\n",
    "dt['건축년도'] = 2024 - dt['건축년도']\n",
    "dt['건축년도'] = (1 / dt['건축년도']).round(2)\n",
    "dt.columns"
   ]
  },
  {
   "cell_type": "markdown",
   "metadata": {},
   "source": [
    "## 중간점검\n"
   ]
  },
  {
   "cell_type": "code",
   "execution_count": 1040,
   "metadata": {},
   "outputs": [
    {
     "data": {
      "text/html": [
       "<div>\n",
       "<style scoped>\n",
       "    .dataframe tbody tr th:only-of-type {\n",
       "        vertical-align: middle;\n",
       "    }\n",
       "\n",
       "    .dataframe tbody tr th {\n",
       "        vertical-align: top;\n",
       "    }\n",
       "\n",
       "    .dataframe thead th {\n",
       "        text-align: right;\n",
       "    }\n",
       "</style>\n",
       "<table border=\"1\" class=\"dataframe\">\n",
       "  <thead>\n",
       "    <tr style=\"text-align: right;\">\n",
       "      <th></th>\n",
       "      <th>계약년도</th>\n",
       "      <th>성수기여부</th>\n",
       "      <th>전용면적</th>\n",
       "      <th>층</th>\n",
       "      <th>건축년도</th>\n",
       "    </tr>\n",
       "  </thead>\n",
       "  <tbody>\n",
       "    <tr>\n",
       "      <th>754581</th>\n",
       "      <td>2015</td>\n",
       "      <td>0</td>\n",
       "      <td>0.086628</td>\n",
       "      <td>0.123288</td>\n",
       "      <td>0.11</td>\n",
       "    </tr>\n",
       "    <tr>\n",
       "      <th>213422</th>\n",
       "      <td>2017</td>\n",
       "      <td>0</td>\n",
       "      <td>0.179846</td>\n",
       "      <td>0.178082</td>\n",
       "      <td>0.05</td>\n",
       "    </tr>\n",
       "    <tr>\n",
       "      <th>723026</th>\n",
       "      <td>2015</td>\n",
       "      <td>0</td>\n",
       "      <td>0.180908</td>\n",
       "      <td>0.136986</td>\n",
       "      <td>0.04</td>\n",
       "    </tr>\n",
       "    <tr>\n",
       "      <th>208537</th>\n",
       "      <td>2023</td>\n",
       "      <td>0</td>\n",
       "      <td>0.167101</td>\n",
       "      <td>0.123288</td>\n",
       "      <td>0.03</td>\n",
       "    </tr>\n",
       "    <tr>\n",
       "      <th>682874</th>\n",
       "      <td>2015</td>\n",
       "      <td>1</td>\n",
       "      <td>0.180908</td>\n",
       "      <td>0.164384</td>\n",
       "      <td>0.05</td>\n",
       "    </tr>\n",
       "  </tbody>\n",
       "</table>\n",
       "</div>"
      ],
      "text/plain": [
       "        계약년도  성수기여부      전용면적         층  건축년도\n",
       "754581  2015      0  0.086628  0.123288  0.11\n",
       "213422  2017      0  0.179846  0.178082  0.05\n",
       "723026  2015      0  0.180908  0.136986  0.04\n",
       "208537  2023      0  0.167101  0.123288  0.03\n",
       "682874  2015      1  0.180908  0.164384  0.05"
      ]
     },
     "execution_count": 1040,
     "metadata": {},
     "output_type": "execute_result"
    }
   ],
   "source": [
    "dt[['계약년도', '성수기여부', '전용면적', '층','건축년도']].sample(5)"
   ]
  },
  {
   "cell_type": "code",
   "execution_count": 1041,
   "metadata": {},
   "outputs": [
    {
     "data": {
      "text/plain": [
       "계약년도     0\n",
       "성수기여부    0\n",
       "전용면적     0\n",
       "층        0\n",
       "건축년도     0\n",
       "dtype: int64"
      ]
     },
     "execution_count": 1041,
     "metadata": {},
     "output_type": "execute_result"
    }
   ],
   "source": [
    "dt[['계약년도', '성수기여부', '전용면적', '층','건축년도']].isnull().sum()"
   ]
  },
  {
   "cell_type": "markdown",
   "metadata": {},
   "source": [
    "## 등기신청일자\n",
    "\n",
    "등기신청일자 : 있으면 1 없으면 0"
   ]
  },
  {
   "cell_type": "code",
   "execution_count": 1042,
   "metadata": {},
   "outputs": [
    {
     "data": {
      "text/html": [
       "<div>\n",
       "<style scoped>\n",
       "    .dataframe tbody tr th:only-of-type {\n",
       "        vertical-align: middle;\n",
       "    }\n",
       "\n",
       "    .dataframe tbody tr th {\n",
       "        vertical-align: top;\n",
       "    }\n",
       "\n",
       "    .dataframe thead th {\n",
       "        text-align: right;\n",
       "    }\n",
       "</style>\n",
       "<table border=\"1\" class=\"dataframe\">\n",
       "  <thead>\n",
       "    <tr style=\"text-align: right;\">\n",
       "      <th></th>\n",
       "      <th>층</th>\n",
       "      <th>건축년도</th>\n",
       "      <th>등기신청일자</th>\n",
       "      <th>거래유형</th>\n",
       "      <th>k-단지분류(아파트,주상복합등등)</th>\n",
       "      <th>k-세대타입(분양형태)</th>\n",
       "      <th>k-관리방식</th>\n",
       "      <th>k-복도유형</th>\n",
       "      <th>k-난방방식</th>\n",
       "      <th>k-사용검사일-사용승인일</th>\n",
       "      <th>...</th>\n",
       "      <th>경비비관리형태</th>\n",
       "      <th>세대전기계약방법</th>\n",
       "      <th>청소비관리형태</th>\n",
       "      <th>기타/의무/임대/임의=1/2/3/4</th>\n",
       "      <th>target</th>\n",
       "      <th>구</th>\n",
       "      <th>동</th>\n",
       "      <th>계약년도</th>\n",
       "      <th>성수기여부</th>\n",
       "      <th>전용면적</th>\n",
       "    </tr>\n",
       "  </thead>\n",
       "  <tbody>\n",
       "    <tr>\n",
       "      <th>0</th>\n",
       "      <td>0.095890</td>\n",
       "      <td>0.03</td>\n",
       "      <td></td>\n",
       "      <td>-</td>\n",
       "      <td>아파트</td>\n",
       "      <td>분양</td>\n",
       "      <td>자치관리</td>\n",
       "      <td>계단식</td>\n",
       "      <td>개별난방</td>\n",
       "      <td>1987-11-21 00:00:00.0</td>\n",
       "      <td>...</td>\n",
       "      <td>직영</td>\n",
       "      <td>단일계약</td>\n",
       "      <td>직영</td>\n",
       "      <td>임의</td>\n",
       "      <td>124000</td>\n",
       "      <td>강남구</td>\n",
       "      <td>개포동</td>\n",
       "      <td>2017</td>\n",
       "      <td>0</td>\n",
       "      <td>0.168839</td>\n",
       "    </tr>\n",
       "    <tr>\n",
       "      <th>1</th>\n",
       "      <td>0.109589</td>\n",
       "      <td>0.03</td>\n",
       "      <td></td>\n",
       "      <td>-</td>\n",
       "      <td>아파트</td>\n",
       "      <td>분양</td>\n",
       "      <td>자치관리</td>\n",
       "      <td>계단식</td>\n",
       "      <td>개별난방</td>\n",
       "      <td>1987-11-21 00:00:00.0</td>\n",
       "      <td>...</td>\n",
       "      <td>직영</td>\n",
       "      <td>단일계약</td>\n",
       "      <td>직영</td>\n",
       "      <td>임의</td>\n",
       "      <td>123500</td>\n",
       "      <td>강남구</td>\n",
       "      <td>개포동</td>\n",
       "      <td>2017</td>\n",
       "      <td>0</td>\n",
       "      <td>0.168839</td>\n",
       "    </tr>\n",
       "    <tr>\n",
       "      <th>2</th>\n",
       "      <td>0.123288</td>\n",
       "      <td>0.03</td>\n",
       "      <td></td>\n",
       "      <td>-</td>\n",
       "      <td>아파트</td>\n",
       "      <td>분양</td>\n",
       "      <td>자치관리</td>\n",
       "      <td>계단식</td>\n",
       "      <td>개별난방</td>\n",
       "      <td>1987-11-21 00:00:00.0</td>\n",
       "      <td>...</td>\n",
       "      <td>직영</td>\n",
       "      <td>단일계약</td>\n",
       "      <td>직영</td>\n",
       "      <td>임의</td>\n",
       "      <td>91500</td>\n",
       "      <td>강남구</td>\n",
       "      <td>개포동</td>\n",
       "      <td>2017</td>\n",
       "      <td>0</td>\n",
       "      <td>0.108520</td>\n",
       "    </tr>\n",
       "    <tr>\n",
       "      <th>3</th>\n",
       "      <td>0.109589</td>\n",
       "      <td>0.03</td>\n",
       "      <td></td>\n",
       "      <td>-</td>\n",
       "      <td>아파트</td>\n",
       "      <td>분양</td>\n",
       "      <td>자치관리</td>\n",
       "      <td>계단식</td>\n",
       "      <td>개별난방</td>\n",
       "      <td>1987-11-21 00:00:00.0</td>\n",
       "      <td>...</td>\n",
       "      <td>직영</td>\n",
       "      <td>단일계약</td>\n",
       "      <td>직영</td>\n",
       "      <td>임의</td>\n",
       "      <td>130000</td>\n",
       "      <td>강남구</td>\n",
       "      <td>개포동</td>\n",
       "      <td>2018</td>\n",
       "      <td>0</td>\n",
       "      <td>0.168839</td>\n",
       "    </tr>\n",
       "    <tr>\n",
       "      <th>4</th>\n",
       "      <td>0.082192</td>\n",
       "      <td>0.03</td>\n",
       "      <td></td>\n",
       "      <td>-</td>\n",
       "      <td>아파트</td>\n",
       "      <td>분양</td>\n",
       "      <td>자치관리</td>\n",
       "      <td>계단식</td>\n",
       "      <td>개별난방</td>\n",
       "      <td>1987-11-21 00:00:00.0</td>\n",
       "      <td>...</td>\n",
       "      <td>직영</td>\n",
       "      <td>단일계약</td>\n",
       "      <td>직영</td>\n",
       "      <td>임의</td>\n",
       "      <td>117000</td>\n",
       "      <td>강남구</td>\n",
       "      <td>개포동</td>\n",
       "      <td>2018</td>\n",
       "      <td>0</td>\n",
       "      <td>0.168839</td>\n",
       "    </tr>\n",
       "    <tr>\n",
       "      <th>...</th>\n",
       "      <td>...</td>\n",
       "      <td>...</td>\n",
       "      <td>...</td>\n",
       "      <td>...</td>\n",
       "      <td>...</td>\n",
       "      <td>...</td>\n",
       "      <td>...</td>\n",
       "      <td>...</td>\n",
       "      <td>...</td>\n",
       "      <td>...</td>\n",
       "      <td>...</td>\n",
       "      <td>...</td>\n",
       "      <td>...</td>\n",
       "      <td>...</td>\n",
       "      <td>...</td>\n",
       "      <td>...</td>\n",
       "      <td>...</td>\n",
       "      <td>...</td>\n",
       "      <td>...</td>\n",
       "      <td>...</td>\n",
       "      <td>...</td>\n",
       "    </tr>\n",
       "    <tr>\n",
       "      <th>1118817</th>\n",
       "      <td>0.205479</td>\n",
       "      <td>0.04</td>\n",
       "      <td></td>\n",
       "      <td>-</td>\n",
       "      <td>아파트</td>\n",
       "      <td>분양</td>\n",
       "      <td>위탁관리</td>\n",
       "      <td>혼합식</td>\n",
       "      <td>개별난방</td>\n",
       "      <td>1998-11-28 00:00:00.0</td>\n",
       "      <td>...</td>\n",
       "      <td>위탁</td>\n",
       "      <td>종합계약</td>\n",
       "      <td>위탁</td>\n",
       "      <td>의무</td>\n",
       "      <td>20000</td>\n",
       "      <td>은평구</td>\n",
       "      <td>구산동</td>\n",
       "      <td>2007</td>\n",
       "      <td>1</td>\n",
       "      <td>0.120492</td>\n",
       "    </tr>\n",
       "    <tr>\n",
       "      <th>1118818</th>\n",
       "      <td>0.191781</td>\n",
       "      <td>0.04</td>\n",
       "      <td></td>\n",
       "      <td>-</td>\n",
       "      <td>아파트</td>\n",
       "      <td>분양</td>\n",
       "      <td>위탁관리</td>\n",
       "      <td>혼합식</td>\n",
       "      <td>개별난방</td>\n",
       "      <td>1998-11-28 00:00:00.0</td>\n",
       "      <td>...</td>\n",
       "      <td>위탁</td>\n",
       "      <td>종합계약</td>\n",
       "      <td>위탁</td>\n",
       "      <td>의무</td>\n",
       "      <td>20000</td>\n",
       "      <td>은평구</td>\n",
       "      <td>구산동</td>\n",
       "      <td>2007</td>\n",
       "      <td>1</td>\n",
       "      <td>0.120492</td>\n",
       "    </tr>\n",
       "    <tr>\n",
       "      <th>1118819</th>\n",
       "      <td>0.328767</td>\n",
       "      <td>0.04</td>\n",
       "      <td></td>\n",
       "      <td>-</td>\n",
       "      <td>아파트</td>\n",
       "      <td>분양</td>\n",
       "      <td>위탁관리</td>\n",
       "      <td>혼합식</td>\n",
       "      <td>개별난방</td>\n",
       "      <td>1998-11-28 00:00:00.0</td>\n",
       "      <td>...</td>\n",
       "      <td>위탁</td>\n",
       "      <td>종합계약</td>\n",
       "      <td>위탁</td>\n",
       "      <td>의무</td>\n",
       "      <td>28000</td>\n",
       "      <td>은평구</td>\n",
       "      <td>구산동</td>\n",
       "      <td>2007</td>\n",
       "      <td>1</td>\n",
       "      <td>0.180570</td>\n",
       "    </tr>\n",
       "    <tr>\n",
       "      <th>1118820</th>\n",
       "      <td>0.164384</td>\n",
       "      <td>0.04</td>\n",
       "      <td></td>\n",
       "      <td>-</td>\n",
       "      <td>아파트</td>\n",
       "      <td>분양</td>\n",
       "      <td>위탁관리</td>\n",
       "      <td>혼합식</td>\n",
       "      <td>개별난방</td>\n",
       "      <td>1998-11-28 00:00:00.0</td>\n",
       "      <td>...</td>\n",
       "      <td>위탁</td>\n",
       "      <td>종합계약</td>\n",
       "      <td>위탁</td>\n",
       "      <td>의무</td>\n",
       "      <td>29000</td>\n",
       "      <td>은평구</td>\n",
       "      <td>구산동</td>\n",
       "      <td>2007</td>\n",
       "      <td>0</td>\n",
       "      <td>0.180570</td>\n",
       "    </tr>\n",
       "    <tr>\n",
       "      <th>1118821</th>\n",
       "      <td>0.123288</td>\n",
       "      <td>0.02</td>\n",
       "      <td></td>\n",
       "      <td>-</td>\n",
       "      <td>아파트</td>\n",
       "      <td>분양</td>\n",
       "      <td>자치관리</td>\n",
       "      <td>복도식</td>\n",
       "      <td>개별난방</td>\n",
       "      <td>1981-05-25 00:00:00.0</td>\n",
       "      <td>...</td>\n",
       "      <td>직영</td>\n",
       "      <td>종합계약</td>\n",
       "      <td>직영</td>\n",
       "      <td>임의</td>\n",
       "      <td>13250</td>\n",
       "      <td>중구</td>\n",
       "      <td>묵정동</td>\n",
       "      <td>2007</td>\n",
       "      <td>0</td>\n",
       "      <td>0.102438</td>\n",
       "    </tr>\n",
       "  </tbody>\n",
       "</table>\n",
       "<p>1103907 rows × 24 columns</p>\n",
       "</div>"
      ],
      "text/plain": [
       "                층  건축년도 등기신청일자 거래유형 k-단지분류(아파트,주상복합등등) k-세대타입(분양형태) k-관리방식  \\\n",
       "0        0.095890  0.03           -                아파트           분양   자치관리   \n",
       "1        0.109589  0.03           -                아파트           분양   자치관리   \n",
       "2        0.123288  0.03           -                아파트           분양   자치관리   \n",
       "3        0.109589  0.03           -                아파트           분양   자치관리   \n",
       "4        0.082192  0.03           -                아파트           분양   자치관리   \n",
       "...           ...   ...    ...  ...                ...          ...    ...   \n",
       "1118817  0.205479  0.04           -                아파트           분양   위탁관리   \n",
       "1118818  0.191781  0.04           -                아파트           분양   위탁관리   \n",
       "1118819  0.328767  0.04           -                아파트           분양   위탁관리   \n",
       "1118820  0.164384  0.04           -                아파트           분양   위탁관리   \n",
       "1118821  0.123288  0.02           -                아파트           분양   자치관리   \n",
       "\n",
       "        k-복도유형 k-난방방식          k-사용검사일-사용승인일  ...  경비비관리형태  세대전기계약방법  청소비관리형태  \\\n",
       "0          계단식   개별난방  1987-11-21 00:00:00.0  ...       직영      단일계약       직영   \n",
       "1          계단식   개별난방  1987-11-21 00:00:00.0  ...       직영      단일계약       직영   \n",
       "2          계단식   개별난방  1987-11-21 00:00:00.0  ...       직영      단일계약       직영   \n",
       "3          계단식   개별난방  1987-11-21 00:00:00.0  ...       직영      단일계약       직영   \n",
       "4          계단식   개별난방  1987-11-21 00:00:00.0  ...       직영      단일계약       직영   \n",
       "...        ...    ...                    ...  ...      ...       ...      ...   \n",
       "1118817    혼합식   개별난방  1998-11-28 00:00:00.0  ...       위탁      종합계약       위탁   \n",
       "1118818    혼합식   개별난방  1998-11-28 00:00:00.0  ...       위탁      종합계약       위탁   \n",
       "1118819    혼합식   개별난방  1998-11-28 00:00:00.0  ...       위탁      종합계약       위탁   \n",
       "1118820    혼합식   개별난방  1998-11-28 00:00:00.0  ...       위탁      종합계약       위탁   \n",
       "1118821    복도식   개별난방  1981-05-25 00:00:00.0  ...       직영      종합계약       직영   \n",
       "\n",
       "         기타/의무/임대/임의=1/2/3/4  target    구    동  계약년도  성수기여부      전용면적  \n",
       "0                         임의  124000  강남구  개포동  2017      0  0.168839  \n",
       "1                         임의  123500  강남구  개포동  2017      0  0.168839  \n",
       "2                         임의   91500  강남구  개포동  2017      0  0.108520  \n",
       "3                         임의  130000  강남구  개포동  2018      0  0.168839  \n",
       "4                         임의  117000  강남구  개포동  2018      0  0.168839  \n",
       "...                      ...     ...  ...  ...   ...    ...       ...  \n",
       "1118817                   의무   20000  은평구  구산동  2007      1  0.120492  \n",
       "1118818                   의무   20000  은평구  구산동  2007      1  0.120492  \n",
       "1118819                   의무   28000  은평구  구산동  2007      1  0.180570  \n",
       "1118820                   의무   29000  은평구  구산동  2007      0  0.180570  \n",
       "1118821                   임의   13250   중구  묵정동  2007      0  0.102438  \n",
       "\n",
       "[1103907 rows x 24 columns]"
      ]
     },
     "execution_count": 1042,
     "metadata": {},
     "output_type": "execute_result"
    }
   ],
   "source": [
    "dt[dt['등기신청일자'] == ' ' ]"
   ]
  },
  {
   "cell_type": "code",
   "execution_count": 1043,
   "metadata": {},
   "outputs": [
    {
     "data": {
      "text/plain": [
       "array([0.1, 1. ])"
      ]
     },
     "execution_count": 1043,
     "metadata": {},
     "output_type": "execute_result"
    }
   ],
   "source": [
    "dt['등기신청일자'] = dt['등기신청일자'].apply(lambda x:0.1 if x == ' ' else 1)\n",
    "dt['등기신청일자'].unique()"
   ]
  },
  {
   "cell_type": "markdown",
   "metadata": {},
   "source": [
    "## 거래유형"
   ]
  },
  {
   "cell_type": "code",
   "execution_count": 1044,
   "metadata": {},
   "outputs": [
    {
     "data": {
      "text/plain": [
       "array(['-', '중개거래', '직거래'], dtype=object)"
      ]
     },
     "execution_count": 1044,
     "metadata": {},
     "output_type": "execute_result"
    }
   ],
   "source": [
    "dt['거래유형'].unique()"
   ]
  },
  {
   "cell_type": "code",
   "execution_count": 1045,
   "metadata": {},
   "outputs": [],
   "source": [
    "dt['거래유형'] = dt['거래유형'].apply(lambda x : 0.1 if x == '직거래' else(1 if x == '중개거래' else 0.5))"
   ]
  },
  {
   "cell_type": "code",
   "execution_count": 1046,
   "metadata": {},
   "outputs": [
    {
     "data": {
      "text/plain": [
       "array([0.5, 1. , 0.1])"
      ]
     },
     "execution_count": 1046,
     "metadata": {},
     "output_type": "execute_result"
    }
   ],
   "source": [
    "dt['거래유형'].unique()"
   ]
  },
  {
   "cell_type": "code",
   "execution_count": 1047,
   "metadata": {},
   "outputs": [
    {
     "data": {
      "text/plain": [
       "Index(['층', '건축년도', '등기신청일자', '거래유형', 'k-단지분류(아파트,주상복합등등)', 'k-세대타입(분양형태)',\n",
       "       'k-관리방식', 'k-복도유형', 'k-난방방식', 'k-사용검사일-사용승인일', 'k-전용면적별세대현황(60㎡이하)',\n",
       "       'k-전용면적별세대현황(60㎡~85㎡이하)', 'k-85㎡~135㎡이하', 'k-135㎡초과', '경비비관리형태',\n",
       "       '세대전기계약방법', '청소비관리형태', '기타/의무/임대/임의=1/2/3/4', 'target', '구', '동',\n",
       "       '계약년도', '성수기여부', '전용면적'],\n",
       "      dtype='object')"
      ]
     },
     "execution_count": 1047,
     "metadata": {},
     "output_type": "execute_result"
    }
   ],
   "source": [
    "dt.columns"
   ]
  },
  {
   "cell_type": "markdown",
   "metadata": {},
   "source": [
    "##\n",
    "k-단지분류(아파트,주상복합등등) : 아파트 > 주상복합 ? 연립주택 > 도시형생활 주택(주상복합 > 아파트) 내림차순 번호 할당\n",
    "\n",
    "k-세대타입(분양형태) : O : 분양, (기타 )> 임대\n",
    "\n",
    "k-관리방식 : O : 위탁관리 > 자치관리 > 직영\n",
    "\n",
    "k-복도유형 : O : 계단식 > 혼합식 > 복도식 > 타워형 > 기타\n",
    "\n",
    "k-난방방식 : O :개별난방 > 지역난방 > 중앙난방 > 기타\n",
    "\n",
    "k-사용검사일-사용승인일 : - : 사용승인일 - 사용검사일 의 결과값에 대해서 Min Max Scale"
   ]
  },
  {
   "cell_type": "markdown",
   "metadata": {},
   "source": [
    "## 단지분류 : 아파트 > 주상복합 ? 연립주택 > 도시형생활 주택(주상복합 > 아파트) 내림차순 번호 할당"
   ]
  },
  {
   "cell_type": "code",
   "execution_count": 1048,
   "metadata": {},
   "outputs": [
    {
     "data": {
      "text/plain": [
       "array(['아파트', '주상복합', nan, '연립주택', '도시형 생활주택(아파트)', '도시형 생활주택(주상복합)'],\n",
       "      dtype=object)"
      ]
     },
     "execution_count": 1048,
     "metadata": {},
     "output_type": "execute_result"
    }
   ],
   "source": [
    "dt['k-단지분류(아파트,주상복합등등)'].unique()"
   ]
  },
  {
   "cell_type": "code",
   "execution_count": 1049,
   "metadata": {},
   "outputs": [
    {
     "data": {
      "text/plain": [
       "Index(['층', '건축년도', '등기신청일자', '거래유형', 'k-세대타입(분양형태)', 'k-관리방식', 'k-복도유형',\n",
       "       'k-난방방식', 'k-사용검사일-사용승인일', 'k-전용면적별세대현황(60㎡이하)',\n",
       "       'k-전용면적별세대현황(60㎡~85㎡이하)', 'k-85㎡~135㎡이하', 'k-135㎡초과', '경비비관리형태',\n",
       "       '세대전기계약방법', '청소비관리형태', '기타/의무/임대/임의=1/2/3/4', 'target', '구', '동',\n",
       "       '계약년도', '성수기여부', '전용면적', '단지분류'],\n",
       "      dtype='object')"
      ]
     },
     "execution_count": 1049,
     "metadata": {},
     "output_type": "execute_result"
    }
   ],
   "source": [
    "maps = {\n",
    "    '아파트' : 5,\n",
    "    '주상복합' : 4,\n",
    "    '연립주택택' : 3,\n",
    "    '도시형 생활주택(주상복합)' : 2,\n",
    "    '도시형 생활주택(아파트)' : 1, \n",
    "}\n",
    "dt['단지분류'] = dt['k-단지분류(아파트,주상복합등등)'].map(maps)\n",
    "# dt['단지분류'].apply(lambda x: 0 if x == pd.isna(x) else x)\n",
    "dt['단지분류'].fillna(0, inplace = True)\n",
    "dt.drop(columns='k-단지분류(아파트,주상복합등등)', inplace = True)\n",
    "dt.columns"
   ]
  },
  {
   "cell_type": "markdown",
   "metadata": {},
   "source": [
    "## 세대타입(분양형태) : 분양, (기타 )> 임대 = 1, 0.5, 0.1\n"
   ]
  },
  {
   "cell_type": "code",
   "execution_count": 1050,
   "metadata": {},
   "outputs": [
    {
     "data": {
      "text/plain": [
       "array(['분양', '기타', nan, '임대'], dtype=object)"
      ]
     },
     "execution_count": 1050,
     "metadata": {},
     "output_type": "execute_result"
    }
   ],
   "source": [
    "dt['k-세대타입(분양형태)'].unique()"
   ]
  },
  {
   "cell_type": "code",
   "execution_count": 1051,
   "metadata": {},
   "outputs": [
    {
     "data": {
      "text/plain": [
       "array([1. , 0.5, 0.1])"
      ]
     },
     "execution_count": 1051,
     "metadata": {},
     "output_type": "execute_result"
    }
   ],
   "source": [
    "maps = {\n",
    "    '분양' : 1,\n",
    "    '기타' : 0.5,\n",
    "    '임대' : 0.1\n",
    "}\n",
    "dt['세대타입(분양형태)'] = dt['k-세대타입(분양형태)'].map(maps)\n",
    "dt.drop(columns='k-세대타입(분양형태)' ,inplace=True)\n",
    "dt['세대타입(분양형태)'].fillna(0.1, inplace=True)\n",
    "dt['세대타입(분양형태)'].unique()"
   ]
  },
  {
   "cell_type": "code",
   "execution_count": 1052,
   "metadata": {},
   "outputs": [
    {
     "data": {
      "text/plain": [
       "Index(['층', '건축년도', '등기신청일자', '거래유형', 'k-관리방식', 'k-복도유형', 'k-난방방식',\n",
       "       'k-사용검사일-사용승인일', 'k-전용면적별세대현황(60㎡이하)', 'k-전용면적별세대현황(60㎡~85㎡이하)',\n",
       "       'k-85㎡~135㎡이하', 'k-135㎡초과', '경비비관리형태', '세대전기계약방법', '청소비관리형태',\n",
       "       '기타/의무/임대/임의=1/2/3/4', 'target', '구', '동', '계약년도', '성수기여부', '전용면적',\n",
       "       '단지분류', '세대타입(분양형태)'],\n",
       "      dtype='object')"
      ]
     },
     "execution_count": 1052,
     "metadata": {},
     "output_type": "execute_result"
    }
   ],
   "source": [
    "dt.columns"
   ]
  },
  {
   "cell_type": "markdown",
   "metadata": {},
   "source": [
    "## 관리방식 : 위탁관리 > 자치관리 > 직영 (1, 0.5, 0.1)\n"
   ]
  },
  {
   "cell_type": "code",
   "execution_count": 1053,
   "metadata": {},
   "outputs": [
    {
     "data": {
      "text/plain": [
       "array(['자치관리', '위탁관리', '직영', nan], dtype=object)"
      ]
     },
     "execution_count": 1053,
     "metadata": {},
     "output_type": "execute_result"
    }
   ],
   "source": [
    "dt['k-관리방식'].unique()"
   ]
  },
  {
   "cell_type": "code",
   "execution_count": 1054,
   "metadata": {},
   "outputs": [
    {
     "data": {
      "text/plain": [
       "array([0.5, 1. , 0.1])"
      ]
     },
     "execution_count": 1054,
     "metadata": {},
     "output_type": "execute_result"
    }
   ],
   "source": [
    "maps = {\n",
    "    '위탁관리' : 1,\n",
    "    '자치관리' : 0.5,\n",
    "    '직영' : 0.1\n",
    "}\n",
    "dt['관리방식'] = dt['k-관리방식'].map(maps)\n",
    "dt.drop(columns='k-관리방식' ,inplace=True)\n",
    "dt['관리방식'].fillna(0.1, inplace = True)\n",
    "dt['관리방식'].unique()"
   ]
  },
  {
   "cell_type": "markdown",
   "metadata": {},
   "source": [
    "## 복도유형 : 계단식 > 혼합식 > 복도식 > 타워형 > 기타 (4, 3, 2, 1, 0.1)\n"
   ]
  },
  {
   "cell_type": "code",
   "execution_count": 1055,
   "metadata": {},
   "outputs": [
    {
     "data": {
      "text/plain": [
       "array(['계단식', '혼합식', '복도식', '타워형', '기타', nan], dtype=object)"
      ]
     },
     "execution_count": 1055,
     "metadata": {},
     "output_type": "execute_result"
    }
   ],
   "source": [
    "dt['k-복도유형'].unique()"
   ]
  },
  {
   "cell_type": "code",
   "execution_count": 1056,
   "metadata": {},
   "outputs": [
    {
     "data": {
      "text/plain": [
       "array([4. , 3. , 2. , 1. , 0.1])"
      ]
     },
     "execution_count": 1056,
     "metadata": {},
     "output_type": "execute_result"
    }
   ],
   "source": [
    "maps = {\n",
    "    '계단식' : 4,\n",
    "    '혼합식' : 3,\n",
    "    '복도식' : 2,\n",
    "    '타워형' : 1,\n",
    "    '기타' : 0.1\n",
    "}\n",
    "dt['복도유형'] = dt['k-복도유형'].map(maps)\n",
    "dt.drop(columns= 'k-복도유형',inplace=True)\n",
    "dt['복도유형'].fillna(0.1, inplace=True)\n",
    "dt['복도유형'].unique()"
   ]
  },
  {
   "cell_type": "code",
   "execution_count": 1057,
   "metadata": {},
   "outputs": [
    {
     "data": {
      "text/plain": [
       "Index(['층', '건축년도', '등기신청일자', '거래유형', 'k-난방방식', 'k-사용검사일-사용승인일',\n",
       "       'k-전용면적별세대현황(60㎡이하)', 'k-전용면적별세대현황(60㎡~85㎡이하)', 'k-85㎡~135㎡이하',\n",
       "       'k-135㎡초과', '경비비관리형태', '세대전기계약방법', '청소비관리형태', '기타/의무/임대/임의=1/2/3/4',\n",
       "       'target', '구', '동', '계약년도', '성수기여부', '전용면적', '단지분류', '세대타입(분양형태)',\n",
       "       '관리방식', '복도유형'],\n",
       "      dtype='object')"
      ]
     },
     "execution_count": 1057,
     "metadata": {},
     "output_type": "execute_result"
    }
   ],
   "source": [
    "dt.columns"
   ]
  },
  {
   "cell_type": "markdown",
   "metadata": {},
   "source": [
    "## 난방방식 : 개별난방 > 지역난방 > 중앙난방 > 기타 (3, 2, 1, 0.1)\n"
   ]
  },
  {
   "cell_type": "code",
   "execution_count": 1058,
   "metadata": {},
   "outputs": [
    {
     "data": {
      "text/plain": [
       "array(['개별난방', '지역난방', '기타', nan, '중앙난방'], dtype=object)"
      ]
     },
     "execution_count": 1058,
     "metadata": {},
     "output_type": "execute_result"
    }
   ],
   "source": [
    "dt['k-난방방식'].unique()"
   ]
  },
  {
   "cell_type": "code",
   "execution_count": 1059,
   "metadata": {},
   "outputs": [
    {
     "data": {
      "text/plain": [
       "array([3. , 2. , 0.1, 1. ])"
      ]
     },
     "execution_count": 1059,
     "metadata": {},
     "output_type": "execute_result"
    }
   ],
   "source": [
    "maps = {\n",
    "    '개별난방' : 3,\n",
    "    '지역난방' : 2,\n",
    "    '중앙난방' : 1,\n",
    "    '기타' : 0.1\n",
    "}\n",
    "dt['난방방식'] = dt['k-난방방식'].map(maps)\n",
    "dt.drop(columns= 'k-난방방식',inplace=True)\n",
    "dt['난방방식'].fillna(0.1, inplace=True)\n",
    "dt['난방방식'].unique()"
   ]
  },
  {
   "cell_type": "code",
   "execution_count": 1060,
   "metadata": {},
   "outputs": [
    {
     "data": {
      "text/plain": [
       "Index(['층', '건축년도', '등기신청일자', '거래유형', 'k-사용검사일-사용승인일', 'k-전용면적별세대현황(60㎡이하)',\n",
       "       'k-전용면적별세대현황(60㎡~85㎡이하)', 'k-85㎡~135㎡이하', 'k-135㎡초과', '경비비관리형태',\n",
       "       '세대전기계약방법', '청소비관리형태', '기타/의무/임대/임의=1/2/3/4', 'target', '구', '동',\n",
       "       '계약년도', '성수기여부', '전용면적', '단지분류', '세대타입(분양형태)', '관리방식', '복도유형', '난방방식'],\n",
       "      dtype='object')"
      ]
     },
     "execution_count": 1060,
     "metadata": {},
     "output_type": "execute_result"
    }
   ],
   "source": [
    "dt.columns"
   ]
  },
  {
   "cell_type": "markdown",
   "metadata": {},
   "source": [
    "## 사용검사일-사용승인일 : 제거\n"
   ]
  },
  {
   "cell_type": "code",
   "execution_count": 1061,
   "metadata": {},
   "outputs": [
    {
     "data": {
      "text/plain": [
       "00:00:00.0    249126\n",
       "Name: Time, dtype: int64"
      ]
     },
     "execution_count": 1061,
     "metadata": {},
     "output_type": "execute_result"
    }
   ],
   "source": [
    "tmp = dt['k-사용검사일-사용승인일'].str.split(' ', expand=True)\n",
    "tmp.columns = ['Date', 'Time'] \n",
    "tmp['Time'].value_counts()"
   ]
  },
  {
   "cell_type": "code",
   "execution_count": 1062,
   "metadata": {},
   "outputs": [
    {
     "data": {
      "text/plain": [
       "Index(['층', '건축년도', '등기신청일자', '거래유형', 'k-전용면적별세대현황(60㎡이하)',\n",
       "       'k-전용면적별세대현황(60㎡~85㎡이하)', 'k-85㎡~135㎡이하', 'k-135㎡초과', '경비비관리형태',\n",
       "       '세대전기계약방법', '청소비관리형태', '기타/의무/임대/임의=1/2/3/4', 'target', '구', '동',\n",
       "       '계약년도', '성수기여부', '전용면적', '단지분류', '세대타입(분양형태)', '관리방식', '복도유형', '난방방식'],\n",
       "      dtype='object')"
      ]
     },
     "execution_count": 1062,
     "metadata": {},
     "output_type": "execute_result"
    }
   ],
   "source": [
    "dt.drop(columns='k-사용검사일-사용승인일', inplace=True)\n",
    "dt.columns"
   ]
  },
  {
   "cell_type": "markdown",
   "metadata": {},
   "source": [
    "## 면적별~\n"
   ]
  },
  {
   "cell_type": "code",
   "execution_count": 1063,
   "metadata": {},
   "outputs": [
    {
     "data": {
      "text/plain": [
       "k-전용면적별세대현황(60㎡이하)         869608\n",
       "k-전용면적별세대현황(60㎡~85㎡이하)     869608\n",
       "k-85㎡~135㎡이하               869608\n",
       "k-135㎡초과                  1118495\n",
       "dtype: int64"
      ]
     },
     "execution_count": 1063,
     "metadata": {},
     "output_type": "execute_result"
    }
   ],
   "source": [
    "dt[['k-전용면적별세대현황(60㎡이하)','k-전용면적별세대현황(60㎡~85㎡이하)','k-85㎡~135㎡이하','k-135㎡초과']].isnull().sum()"
   ]
  },
  {
   "cell_type": "code",
   "execution_count": 1064,
   "metadata": {},
   "outputs": [
    {
     "data": {
      "text/plain": [
       "전용면적별세대현황(60㎡이하)        0\n",
       "전용면적별세대현황(60㎡~85㎡이하)    0\n",
       "85㎡~135㎡이하              0\n",
       "135㎡초과                  0\n",
       "dtype: int64"
      ]
     },
     "execution_count": 1064,
     "metadata": {},
     "output_type": "execute_result"
    }
   ],
   "source": [
    "dt['전용면적별세대현황(60㎡이하)'] = dt['k-전용면적별세대현황(60㎡이하)'].fillna(dt['k-전용면적별세대현황(60㎡이하)'].mean())\n",
    "dt['전용면적별세대현황(60㎡~85㎡이하)'] = dt['k-전용면적별세대현황(60㎡~85㎡이하)'].fillna(dt['k-전용면적별세대현황(60㎡~85㎡이하)'].mean())\n",
    "dt['85㎡~135㎡이하'] = dt['k-85㎡~135㎡이하'].fillna(dt['k-85㎡~135㎡이하'].mean())\n",
    "dt['135㎡초과'] = dt['k-135㎡초과'].fillna(dt['k-135㎡초과'].mean())\n",
    "dt.drop(columns=['k-전용면적별세대현황(60㎡이하)','k-전용면적별세대현황(60㎡~85㎡이하)','k-85㎡~135㎡이하','k-135㎡초과'], inplace = True)\n",
    "dt[['전용면적별세대현황(60㎡이하)', '전용면적별세대현황(60㎡~85㎡이하)', '85㎡~135㎡이하', '135㎡초과']].isnull().sum()"
   ]
  },
  {
   "cell_type": "code",
   "execution_count": 1065,
   "metadata": {},
   "outputs": [],
   "source": [
    "categories = ['전용면적별세대현황(60㎡이하)', '전용면적별세대현황(60㎡~85㎡이하)', '85㎡~135㎡이하', '135㎡초과']\n",
    "for c in categories:\n",
    "    scaler = MinMaxScaler()\n",
    "    dt[c] = scaler.fit_transform(dt[[c]])"
   ]
  },
  {
   "cell_type": "code",
   "execution_count": 1066,
   "metadata": {},
   "outputs": [
    {
     "data": {
      "text/html": [
       "<div>\n",
       "<style scoped>\n",
       "    .dataframe tbody tr th:only-of-type {\n",
       "        vertical-align: middle;\n",
       "    }\n",
       "\n",
       "    .dataframe tbody tr th {\n",
       "        vertical-align: top;\n",
       "    }\n",
       "\n",
       "    .dataframe thead th {\n",
       "        text-align: right;\n",
       "    }\n",
       "</style>\n",
       "<table border=\"1\" class=\"dataframe\">\n",
       "  <thead>\n",
       "    <tr style=\"text-align: right;\">\n",
       "      <th></th>\n",
       "      <th>전용면적별세대현황(60㎡이하)</th>\n",
       "      <th>전용면적별세대현황(60㎡~85㎡이하)</th>\n",
       "      <th>85㎡~135㎡이하</th>\n",
       "      <th>135㎡초과</th>\n",
       "    </tr>\n",
       "  </thead>\n",
       "  <tbody>\n",
       "    <tr>\n",
       "      <th>1098013</th>\n",
       "      <td>0.096063</td>\n",
       "      <td>0.092890</td>\n",
       "      <td>0.111686</td>\n",
       "      <td>0.0</td>\n",
       "    </tr>\n",
       "    <tr>\n",
       "      <th>362250</th>\n",
       "      <td>0.096063</td>\n",
       "      <td>0.092890</td>\n",
       "      <td>0.111686</td>\n",
       "      <td>0.0</td>\n",
       "    </tr>\n",
       "    <tr>\n",
       "      <th>414273</th>\n",
       "      <td>0.096063</td>\n",
       "      <td>0.092890</td>\n",
       "      <td>0.111686</td>\n",
       "      <td>0.0</td>\n",
       "    </tr>\n",
       "    <tr>\n",
       "      <th>85650</th>\n",
       "      <td>0.000000</td>\n",
       "      <td>0.008963</td>\n",
       "      <td>0.101333</td>\n",
       "      <td>0.0</td>\n",
       "    </tr>\n",
       "    <tr>\n",
       "      <th>698007</th>\n",
       "      <td>0.096063</td>\n",
       "      <td>0.092890</td>\n",
       "      <td>0.111686</td>\n",
       "      <td>0.0</td>\n",
       "    </tr>\n",
       "    <tr>\n",
       "      <th>185232</th>\n",
       "      <td>0.000000</td>\n",
       "      <td>0.079501</td>\n",
       "      <td>0.288000</td>\n",
       "      <td>0.0</td>\n",
       "    </tr>\n",
       "    <tr>\n",
       "      <th>800855</th>\n",
       "      <td>0.096063</td>\n",
       "      <td>0.092890</td>\n",
       "      <td>0.111686</td>\n",
       "      <td>0.0</td>\n",
       "    </tr>\n",
       "    <tr>\n",
       "      <th>429262</th>\n",
       "      <td>0.231156</td>\n",
       "      <td>0.787607</td>\n",
       "      <td>0.324000</td>\n",
       "      <td>0.0</td>\n",
       "    </tr>\n",
       "    <tr>\n",
       "      <th>1084403</th>\n",
       "      <td>0.096063</td>\n",
       "      <td>0.092890</td>\n",
       "      <td>0.111686</td>\n",
       "      <td>0.0</td>\n",
       "    </tr>\n",
       "    <tr>\n",
       "      <th>70848</th>\n",
       "      <td>0.096063</td>\n",
       "      <td>0.092890</td>\n",
       "      <td>0.111686</td>\n",
       "      <td>0.0</td>\n",
       "    </tr>\n",
       "  </tbody>\n",
       "</table>\n",
       "</div>"
      ],
      "text/plain": [
       "         전용면적별세대현황(60㎡이하)  전용면적별세대현황(60㎡~85㎡이하)  85㎡~135㎡이하  135㎡초과\n",
       "1098013          0.096063              0.092890    0.111686     0.0\n",
       "362250           0.096063              0.092890    0.111686     0.0\n",
       "414273           0.096063              0.092890    0.111686     0.0\n",
       "85650            0.000000              0.008963    0.101333     0.0\n",
       "698007           0.096063              0.092890    0.111686     0.0\n",
       "185232           0.000000              0.079501    0.288000     0.0\n",
       "800855           0.096063              0.092890    0.111686     0.0\n",
       "429262           0.231156              0.787607    0.324000     0.0\n",
       "1084403          0.096063              0.092890    0.111686     0.0\n",
       "70848            0.096063              0.092890    0.111686     0.0"
      ]
     },
     "execution_count": 1066,
     "metadata": {},
     "output_type": "execute_result"
    }
   ],
   "source": [
    "dt[['전용면적별세대현황(60㎡이하)', '전용면적별세대현황(60㎡~85㎡이하)', '85㎡~135㎡이하', '135㎡초과']].sample(10)"
   ]
  },
  {
   "cell_type": "code",
   "execution_count": 1067,
   "metadata": {},
   "outputs": [
    {
     "data": {
      "text/plain": [
       "Index(['층', '건축년도', '등기신청일자', '거래유형', '경비비관리형태', '세대전기계약방법', '청소비관리형태',\n",
       "       '기타/의무/임대/임의=1/2/3/4', 'target', '구', '동', '계약년도', '성수기여부', '전용면적',\n",
       "       '단지분류', '세대타입(분양형태)', '관리방식', '복도유형', '난방방식', '전용면적별세대현황(60㎡이하)',\n",
       "       '전용면적별세대현황(60㎡~85㎡이하)', '85㎡~135㎡이하', '135㎡초과'],\n",
       "      dtype='object')"
      ]
     },
     "execution_count": 1067,
     "metadata": {},
     "output_type": "execute_result"
    }
   ],
   "source": [
    "dt.columns"
   ]
  },
  {
   "cell_type": "markdown",
   "metadata": {},
   "source": [
    "## 중간점검\n",
    "\n",
    "경비비관리형태 : 위탁 > 직영 > 위탁+직영 > 기타 : 내림차순 ~ 0\n",
    "\n",
    "세대전기계약방법 : 종합계약 > 단일계약 : 1, 0\n",
    "\n",
    "청소비관리형태 : 위탁 > 직영 > 위탁+직영 : 2, 1, 0\n",
    "\n",
    "기타/의무/임대/임의=1/2/3/4 : 의무 > 기타 > 임의 > 임대\n"
   ]
  },
  {
   "cell_type": "markdown",
   "metadata": {},
   "source": [
    "## 경비비관리형태 : 위탁 > 직영 > 위탁+직영 > 기타\n"
   ]
  },
  {
   "cell_type": "code",
   "execution_count": 1068,
   "metadata": {},
   "outputs": [
    {
     "data": {
      "text/plain": [
       "array(['직영', '위탁', '위탁+직영', nan, '기타'], dtype=object)"
      ]
     },
     "execution_count": 1068,
     "metadata": {},
     "output_type": "execute_result"
    }
   ],
   "source": [
    "dt['경비비관리형태'].unique()"
   ]
  },
  {
   "cell_type": "code",
   "execution_count": 1069,
   "metadata": {},
   "outputs": [
    {
     "data": {
      "text/plain": [
       "array([2. , 3. , 1. , 0.1])"
      ]
     },
     "execution_count": 1069,
     "metadata": {},
     "output_type": "execute_result"
    }
   ],
   "source": [
    "maps = {\n",
    "    '위탁' : 3,\n",
    "    '직영' : 2,\n",
    "    '위탁+직영' : 1,\n",
    "    '기타' : 0.1\n",
    "}\n",
    "dt['경비비관리형태'] = dt['경비비관리형태'].map(maps)\n",
    "dt['경비비관리형태'].fillna(0.1, inplace=True)\n",
    "dt['경비비관리형태'].unique()"
   ]
  },
  {
   "cell_type": "markdown",
   "metadata": {},
   "source": [
    "## 세대전기계약방법 : 종합계약 > 단일계약 : 2, 1"
   ]
  },
  {
   "cell_type": "code",
   "execution_count": 1070,
   "metadata": {},
   "outputs": [
    {
     "data": {
      "text/plain": [
       "array(['단일계약', '종합계약', nan], dtype=object)"
      ]
     },
     "execution_count": 1070,
     "metadata": {},
     "output_type": "execute_result"
    }
   ],
   "source": [
    "dt['세대전기계약방법'].unique()"
   ]
  },
  {
   "cell_type": "code",
   "execution_count": 1071,
   "metadata": {},
   "outputs": [
    {
     "data": {
      "text/plain": [
       "array([1. , 2. , 0.5])"
      ]
     },
     "execution_count": 1071,
     "metadata": {},
     "output_type": "execute_result"
    }
   ],
   "source": [
    "maps = {\n",
    "    '종합계약' : 2,\n",
    "    '단일계약' : 1,\n",
    "}\n",
    "dt['세대전기계약방법'] = dt['세대전기계약방법'].map(maps)\n",
    "dt['세대전기계약방법'].fillna(0.5, inplace=True)\n",
    "dt['세대전기계약방법'].unique()"
   ]
  },
  {
   "cell_type": "markdown",
   "metadata": {},
   "source": [
    "## 청소비관리형태 : 위탁 > 직영 > 위탁+직영 : 2, 1, 0"
   ]
  },
  {
   "cell_type": "code",
   "execution_count": 1072,
   "metadata": {},
   "outputs": [
    {
     "data": {
      "text/plain": [
       "array(['직영', '위탁', '위탁+직영', nan, '기타'], dtype=object)"
      ]
     },
     "execution_count": 1072,
     "metadata": {},
     "output_type": "execute_result"
    }
   ],
   "source": [
    "dt['청소비관리형태'].unique()"
   ]
  },
  {
   "cell_type": "code",
   "execution_count": 1073,
   "metadata": {},
   "outputs": [
    {
     "data": {
      "text/plain": [
       "array([2. , 3. , 1. , 0.1])"
      ]
     },
     "execution_count": 1073,
     "metadata": {},
     "output_type": "execute_result"
    }
   ],
   "source": [
    "maps = {\n",
    "    '위탁' : 3,\n",
    "    '직영' : 2,\n",
    "    '위탁+직영' : 1,\n",
    "    '기타' : 0.1,\n",
    "}\n",
    "dt['청소비관리형태'] = dt['청소비관리형태'].map(maps)\n",
    "dt['청소비관리형태'].fillna(0.1, inplace=True)\n",
    "dt['청소비관리형태'].unique()"
   ]
  },
  {
   "cell_type": "markdown",
   "metadata": {},
   "source": [
    "## 기타/의무/임대/임의"
   ]
  },
  {
   "cell_type": "code",
   "execution_count": 1074,
   "metadata": {},
   "outputs": [
    {
     "data": {
      "text/plain": [
       "의무    239198\n",
       "기타      4177\n",
       "임의      3682\n",
       "임대      2202\n",
       "Name: 기타/의무/임대/임의=1/2/3/4, dtype: int64"
      ]
     },
     "execution_count": 1074,
     "metadata": {},
     "output_type": "execute_result"
    }
   ],
   "source": [
    "dt['기타/의무/임대/임의=1/2/3/4'].value_counts()"
   ]
  },
  {
   "cell_type": "code",
   "execution_count": 1075,
   "metadata": {},
   "outputs": [
    {
     "data": {
      "image/png": "[encoded data removed]",
      "text/plain": [
       "<Figure size 1200x800 with 1 Axes>"
      ]
     },
     "metadata": {},
     "output_type": "display_data"
    }
   ],
   "source": [
    "categories = dt['기타/의무/임대/임의=1/2/3/4'].unique()\n",
    "\n",
    "plt.figure(figsize=(12, 8))\n",
    "for category in categories:\n",
    "    subset = dt[dt['기타/의무/임대/임의=1/2/3/4'] == category]\n",
    "    plt.hist(subset['target'], bins=20, alpha=0.6, label=category)\n",
    "\n",
    "plt.title('Histogram of Target by Category', fontsize=16)\n",
    "plt.xlabel('Target', fontsize=12)\n",
    "plt.ylabel('Frequency', fontsize=12)\n",
    "plt.legend(title='Category')\n",
    "plt.show()"
   ]
  },
  {
   "cell_type": "code",
   "execution_count": 1076,
   "metadata": {},
   "outputs": [
    {
     "data": {
      "text/plain": [
       "array([1. , 3. , 0.1])"
      ]
     },
     "execution_count": 1076,
     "metadata": {},
     "output_type": "execute_result"
    }
   ],
   "source": [
    "maps = {\n",
    "    '의무' : 3,\n",
    "    '임의' : 1,\n",
    "    '임대대' : 0.5,\n",
    "    '기타' : 0.1,\n",
    "}\n",
    "dt['기타/의무/임대/임의=1/2/3/4'] = dt['기타/의무/임대/임의=1/2/3/4'].map(maps)\n",
    "dt['기타/의무/임대/임의=1/2/3/4'].fillna(0.1, inplace=True)\n",
    "dt['기타/의무/임대/임의=1/2/3/4'].unique()"
   ]
  },
  {
   "cell_type": "code",
   "execution_count": 1077,
   "metadata": {},
   "outputs": [
    {
     "data": {
      "text/plain": [
       "Index(['층', '건축년도', '등기신청일자', '거래유형', '경비비관리형태', '세대전기계약방법', '청소비관리형태',\n",
       "       '기타/의무/임대/임의=1/2/3/4', 'target', '구', '동', '계약년도', '성수기여부', '전용면적',\n",
       "       '단지분류', '세대타입(분양형태)', '관리방식', '복도유형', '난방방식', '전용면적별세대현황(60㎡이하)',\n",
       "       '전용면적별세대현황(60㎡~85㎡이하)', '85㎡~135㎡이하', '135㎡초과'],\n",
       "      dtype='object')"
      ]
     },
     "execution_count": 1077,
     "metadata": {},
     "output_type": "execute_result"
    }
   ],
   "source": [
    "dt.columns"
   ]
  },
  {
   "cell_type": "markdown",
   "metadata": {},
   "source": [
    "## Endpoint\n"
   ]
  },
  {
   "cell_type": "code",
   "execution_count": 1078,
   "metadata": {},
   "outputs": [
    {
     "data": {
      "text/html": [
       "<div>\n",
       "<style scoped>\n",
       "    .dataframe tbody tr th:only-of-type {\n",
       "        vertical-align: middle;\n",
       "    }\n",
       "\n",
       "    .dataframe tbody tr th {\n",
       "        vertical-align: top;\n",
       "    }\n",
       "\n",
       "    .dataframe thead th {\n",
       "        text-align: right;\n",
       "    }\n",
       "</style>\n",
       "<table border=\"1\" class=\"dataframe\">\n",
       "  <thead>\n",
       "    <tr style=\"text-align: right;\">\n",
       "      <th></th>\n",
       "      <th>층</th>\n",
       "      <th>건축년도</th>\n",
       "      <th>등기신청일자</th>\n",
       "      <th>거래유형</th>\n",
       "      <th>경비비관리형태</th>\n",
       "      <th>세대전기계약방법</th>\n",
       "      <th>청소비관리형태</th>\n",
       "      <th>기타/의무/임대/임의=1/2/3/4</th>\n",
       "      <th>target</th>\n",
       "      <th>구</th>\n",
       "      <th>...</th>\n",
       "      <th>전용면적</th>\n",
       "      <th>단지분류</th>\n",
       "      <th>세대타입(분양형태)</th>\n",
       "      <th>관리방식</th>\n",
       "      <th>복도유형</th>\n",
       "      <th>난방방식</th>\n",
       "      <th>전용면적별세대현황(60㎡이하)</th>\n",
       "      <th>전용면적별세대현황(60㎡~85㎡이하)</th>\n",
       "      <th>85㎡~135㎡이하</th>\n",
       "      <th>135㎡초과</th>\n",
       "    </tr>\n",
       "  </thead>\n",
       "  <tbody>\n",
       "    <tr>\n",
       "      <th>284170</th>\n",
       "      <td>0.136986</td>\n",
       "      <td>0.05</td>\n",
       "      <td>0.1</td>\n",
       "      <td>0.5</td>\n",
       "      <td>0.1</td>\n",
       "      <td>0.5</td>\n",
       "      <td>0.1</td>\n",
       "      <td>0.1</td>\n",
       "      <td>42000</td>\n",
       "      <td>양천구</td>\n",
       "      <td>...</td>\n",
       "      <td>0.173546</td>\n",
       "      <td>0.0</td>\n",
       "      <td>0.1</td>\n",
       "      <td>0.1</td>\n",
       "      <td>0.1</td>\n",
       "      <td>0.1</td>\n",
       "      <td>0.096063</td>\n",
       "      <td>0.09289</td>\n",
       "      <td>0.111686</td>\n",
       "      <td>0.0</td>\n",
       "    </tr>\n",
       "    <tr>\n",
       "      <th>145694</th>\n",
       "      <td>0.260274</td>\n",
       "      <td>0.05</td>\n",
       "      <td>0.1</td>\n",
       "      <td>0.5</td>\n",
       "      <td>0.1</td>\n",
       "      <td>0.5</td>\n",
       "      <td>0.1</td>\n",
       "      <td>0.1</td>\n",
       "      <td>17550</td>\n",
       "      <td>강동구</td>\n",
       "      <td>...</td>\n",
       "      <td>0.057181</td>\n",
       "      <td>0.0</td>\n",
       "      <td>0.1</td>\n",
       "      <td>0.1</td>\n",
       "      <td>0.1</td>\n",
       "      <td>0.1</td>\n",
       "      <td>0.096063</td>\n",
       "      <td>0.09289</td>\n",
       "      <td>0.111686</td>\n",
       "      <td>0.0</td>\n",
       "    </tr>\n",
       "    <tr>\n",
       "      <th>22994</th>\n",
       "      <td>0.219178</td>\n",
       "      <td>0.04</td>\n",
       "      <td>0.1</td>\n",
       "      <td>0.5</td>\n",
       "      <td>0.1</td>\n",
       "      <td>0.5</td>\n",
       "      <td>0.1</td>\n",
       "      <td>0.1</td>\n",
       "      <td>75000</td>\n",
       "      <td>광진구</td>\n",
       "      <td>...</td>\n",
       "      <td>0.120492</td>\n",
       "      <td>0.0</td>\n",
       "      <td>0.1</td>\n",
       "      <td>0.1</td>\n",
       "      <td>0.1</td>\n",
       "      <td>0.1</td>\n",
       "      <td>0.096063</td>\n",
       "      <td>0.09289</td>\n",
       "      <td>0.111686</td>\n",
       "      <td>0.0</td>\n",
       "    </tr>\n",
       "    <tr>\n",
       "      <th>400069</th>\n",
       "      <td>0.191781</td>\n",
       "      <td>0.04</td>\n",
       "      <td>0.1</td>\n",
       "      <td>0.5</td>\n",
       "      <td>0.1</td>\n",
       "      <td>0.5</td>\n",
       "      <td>0.1</td>\n",
       "      <td>0.1</td>\n",
       "      <td>50000</td>\n",
       "      <td>강서구</td>\n",
       "      <td>...</td>\n",
       "      <td>0.232585</td>\n",
       "      <td>0.0</td>\n",
       "      <td>0.1</td>\n",
       "      <td>0.1</td>\n",
       "      <td>0.1</td>\n",
       "      <td>0.1</td>\n",
       "      <td>0.096063</td>\n",
       "      <td>0.09289</td>\n",
       "      <td>0.111686</td>\n",
       "      <td>0.0</td>\n",
       "    </tr>\n",
       "    <tr>\n",
       "      <th>862068</th>\n",
       "      <td>0.383562</td>\n",
       "      <td>0.06</td>\n",
       "      <td>0.1</td>\n",
       "      <td>0.5</td>\n",
       "      <td>0.1</td>\n",
       "      <td>0.5</td>\n",
       "      <td>0.1</td>\n",
       "      <td>0.1</td>\n",
       "      <td>40500</td>\n",
       "      <td>구로구</td>\n",
       "      <td>...</td>\n",
       "      <td>0.180932</td>\n",
       "      <td>0.0</td>\n",
       "      <td>0.1</td>\n",
       "      <td>0.1</td>\n",
       "      <td>0.1</td>\n",
       "      <td>0.1</td>\n",
       "      <td>0.096063</td>\n",
       "      <td>0.09289</td>\n",
       "      <td>0.111686</td>\n",
       "      <td>0.0</td>\n",
       "    </tr>\n",
       "  </tbody>\n",
       "</table>\n",
       "<p>5 rows × 23 columns</p>\n",
       "</div>"
      ],
      "text/plain": [
       "               층  건축년도  등기신청일자  거래유형  경비비관리형태  세대전기계약방법  청소비관리형태  \\\n",
       "284170  0.136986  0.05     0.1   0.5      0.1       0.5      0.1   \n",
       "145694  0.260274  0.05     0.1   0.5      0.1       0.5      0.1   \n",
       "22994   0.219178  0.04     0.1   0.5      0.1       0.5      0.1   \n",
       "400069  0.191781  0.04     0.1   0.5      0.1       0.5      0.1   \n",
       "862068  0.383562  0.06     0.1   0.5      0.1       0.5      0.1   \n",
       "\n",
       "        기타/의무/임대/임의=1/2/3/4  target    구  ...      전용면적  단지분류  세대타입(분양형태)  \\\n",
       "284170                  0.1   42000  양천구  ...  0.173546   0.0         0.1   \n",
       "145694                  0.1   17550  강동구  ...  0.057181   0.0         0.1   \n",
       "22994                   0.1   75000  광진구  ...  0.120492   0.0         0.1   \n",
       "400069                  0.1   50000  강서구  ...  0.232585   0.0         0.1   \n",
       "862068                  0.1   40500  구로구  ...  0.180932   0.0         0.1   \n",
       "\n",
       "        관리방식  복도유형  난방방식  전용면적별세대현황(60㎡이하)  전용면적별세대현황(60㎡~85㎡이하)  85㎡~135㎡이하  \\\n",
       "284170   0.1   0.1   0.1          0.096063               0.09289    0.111686   \n",
       "145694   0.1   0.1   0.1          0.096063               0.09289    0.111686   \n",
       "22994    0.1   0.1   0.1          0.096063               0.09289    0.111686   \n",
       "400069   0.1   0.1   0.1          0.096063               0.09289    0.111686   \n",
       "862068   0.1   0.1   0.1          0.096063               0.09289    0.111686   \n",
       "\n",
       "        135㎡초과  \n",
       "284170     0.0  \n",
       "145694     0.0  \n",
       "22994      0.0  \n",
       "400069     0.0  \n",
       "862068     0.0  \n",
       "\n",
       "[5 rows x 23 columns]"
      ]
     },
     "execution_count": 1078,
     "metadata": {},
     "output_type": "execute_result"
    }
   ],
   "source": [
    "# 세대타입, 관리방식, 난방방식방방식\n",
    "dt.sample(5)"
   ]
  },
  {
   "cell_type": "markdown",
   "metadata": {},
   "source": [
    "## 구 컬럼 처리 \n",
    "\n",
    "1. map 이용\n",
    "2. 원핫인코딩(보류)"
   ]
  },
  {
   "cell_type": "code",
   "execution_count": 1079,
   "metadata": {},
   "outputs": [
    {
     "data": {
      "text/plain": [
       "25"
      ]
     },
     "execution_count": 1079,
     "metadata": {},
     "output_type": "execute_result"
    }
   ],
   "source": [
    "len(dt['구'].unique())"
   ]
  },
  {
   "cell_type": "code",
   "execution_count": 1080,
   "metadata": {},
   "outputs": [
    {
     "name": "stdout",
     "output_type": "stream",
     "text": [
      "Index(['도봉구', '금천구', '노원구', '중랑구', '강북구', '구로구', '관악구', '은평구', '강서구', '성북구',\n",
      "       '동대문구', '서대문구', '강동구', '영등포구', '종로구', '양천구', '동작구', '중구', '마포구', '광진구',\n",
      "       '성동구', '송파구', '용산구', '서초구', '강남구'],\n",
      "      dtype='object', name='구')\n"
     ]
    }
   ],
   "source": [
    "idx = dt.groupby('구')['target'].mean().sort_values(ascending=True).index\n",
    "print(idx)"
   ]
  },
  {
   "cell_type": "code",
   "execution_count": 1081,
   "metadata": {},
   "outputs": [
    {
     "data": {
      "text/plain": [
       "{'도봉구': 1,\n",
       " '금천구': 2,\n",
       " '노원구': 3,\n",
       " '중랑구': 4,\n",
       " '강북구': 5,\n",
       " '구로구': 6,\n",
       " '관악구': 7,\n",
       " '은평구': 8,\n",
       " '강서구': 9,\n",
       " '성북구': 10,\n",
       " '동대문구': 11,\n",
       " '서대문구': 12,\n",
       " '강동구': 13,\n",
       " '영등포구': 14,\n",
       " '종로구': 15,\n",
       " '양천구': 16,\n",
       " '동작구': 17,\n",
       " '중구': 18,\n",
       " '마포구': 19,\n",
       " '광진구': 20,\n",
       " '성동구': 21,\n",
       " '송파구': 22,\n",
       " '용산구': 23,\n",
       " '서초구': 24,\n",
       " '강남구': 25}"
      ]
     },
     "execution_count": 1081,
     "metadata": {},
     "output_type": "execute_result"
    }
   ],
   "source": [
    "maps = { idx[i-1] : i for i in range(1, len(idx) + 1) }\n",
    "maps"
   ]
  },
  {
   "cell_type": "code",
   "execution_count": 1082,
   "metadata": {},
   "outputs": [
    {
     "data": {
      "text/plain": [
       "array([25, 13,  5,  9,  7, 20,  6,  2,  3,  1, 11, 17, 19, 12, 24, 21, 10,\n",
       "       22, 16, 14, 23,  8, 15, 18,  4])"
      ]
     },
     "execution_count": 1082,
     "metadata": {},
     "output_type": "execute_result"
    }
   ],
   "source": [
    "dt['구'] = dt['구'].map(maps)\n",
    "dt['구'].unique()"
   ]
  },
  {
   "cell_type": "code",
   "execution_count": 1083,
   "metadata": {},
   "outputs": [
    {
     "data": {
      "text/html": [
       "<div>\n",
       "<style scoped>\n",
       "    .dataframe tbody tr th:only-of-type {\n",
       "        vertical-align: middle;\n",
       "    }\n",
       "\n",
       "    .dataframe tbody tr th {\n",
       "        vertical-align: top;\n",
       "    }\n",
       "\n",
       "    .dataframe thead th {\n",
       "        text-align: right;\n",
       "    }\n",
       "</style>\n",
       "<table border=\"1\" class=\"dataframe\">\n",
       "  <thead>\n",
       "    <tr style=\"text-align: right;\">\n",
       "      <th></th>\n",
       "      <th>층</th>\n",
       "      <th>건축년도</th>\n",
       "      <th>등기신청일자</th>\n",
       "      <th>거래유형</th>\n",
       "      <th>경비비관리형태</th>\n",
       "      <th>세대전기계약방법</th>\n",
       "      <th>청소비관리형태</th>\n",
       "      <th>기타/의무/임대/임의=1/2/3/4</th>\n",
       "      <th>target</th>\n",
       "      <th>구</th>\n",
       "      <th>...</th>\n",
       "      <th>전용면적</th>\n",
       "      <th>단지분류</th>\n",
       "      <th>세대타입(분양형태)</th>\n",
       "      <th>관리방식</th>\n",
       "      <th>복도유형</th>\n",
       "      <th>난방방식</th>\n",
       "      <th>전용면적별세대현황(60㎡이하)</th>\n",
       "      <th>전용면적별세대현황(60㎡~85㎡이하)</th>\n",
       "      <th>85㎡~135㎡이하</th>\n",
       "      <th>135㎡초과</th>\n",
       "    </tr>\n",
       "  </thead>\n",
       "  <tbody>\n",
       "    <tr>\n",
       "      <th>0</th>\n",
       "      <td>0.095890</td>\n",
       "      <td>0.03</td>\n",
       "      <td>0.1</td>\n",
       "      <td>0.5</td>\n",
       "      <td>2.0</td>\n",
       "      <td>1.0</td>\n",
       "      <td>2.0</td>\n",
       "      <td>1.0</td>\n",
       "      <td>124000</td>\n",
       "      <td>25</td>\n",
       "      <td>...</td>\n",
       "      <td>0.168839</td>\n",
       "      <td>5.0</td>\n",
       "      <td>1.0</td>\n",
       "      <td>0.5</td>\n",
       "      <td>4.0</td>\n",
       "      <td>3.0</td>\n",
       "      <td>0.00402</td>\n",
       "      <td>0.048714</td>\n",
       "      <td>0.0</td>\n",
       "      <td>0.0</td>\n",
       "    </tr>\n",
       "    <tr>\n",
       "      <th>1</th>\n",
       "      <td>0.109589</td>\n",
       "      <td>0.03</td>\n",
       "      <td>0.1</td>\n",
       "      <td>0.5</td>\n",
       "      <td>2.0</td>\n",
       "      <td>1.0</td>\n",
       "      <td>2.0</td>\n",
       "      <td>1.0</td>\n",
       "      <td>123500</td>\n",
       "      <td>25</td>\n",
       "      <td>...</td>\n",
       "      <td>0.168839</td>\n",
       "      <td>5.0</td>\n",
       "      <td>1.0</td>\n",
       "      <td>0.5</td>\n",
       "      <td>4.0</td>\n",
       "      <td>3.0</td>\n",
       "      <td>0.00402</td>\n",
       "      <td>0.048714</td>\n",
       "      <td>0.0</td>\n",
       "      <td>0.0</td>\n",
       "    </tr>\n",
       "    <tr>\n",
       "      <th>2</th>\n",
       "      <td>0.123288</td>\n",
       "      <td>0.03</td>\n",
       "      <td>0.1</td>\n",
       "      <td>0.5</td>\n",
       "      <td>2.0</td>\n",
       "      <td>1.0</td>\n",
       "      <td>2.0</td>\n",
       "      <td>1.0</td>\n",
       "      <td>91500</td>\n",
       "      <td>25</td>\n",
       "      <td>...</td>\n",
       "      <td>0.108520</td>\n",
       "      <td>5.0</td>\n",
       "      <td>1.0</td>\n",
       "      <td>0.5</td>\n",
       "      <td>4.0</td>\n",
       "      <td>3.0</td>\n",
       "      <td>0.00402</td>\n",
       "      <td>0.048714</td>\n",
       "      <td>0.0</td>\n",
       "      <td>0.0</td>\n",
       "    </tr>\n",
       "    <tr>\n",
       "      <th>3</th>\n",
       "      <td>0.109589</td>\n",
       "      <td>0.03</td>\n",
       "      <td>0.1</td>\n",
       "      <td>0.5</td>\n",
       "      <td>2.0</td>\n",
       "      <td>1.0</td>\n",
       "      <td>2.0</td>\n",
       "      <td>1.0</td>\n",
       "      <td>130000</td>\n",
       "      <td>25</td>\n",
       "      <td>...</td>\n",
       "      <td>0.168839</td>\n",
       "      <td>5.0</td>\n",
       "      <td>1.0</td>\n",
       "      <td>0.5</td>\n",
       "      <td>4.0</td>\n",
       "      <td>3.0</td>\n",
       "      <td>0.00402</td>\n",
       "      <td>0.048714</td>\n",
       "      <td>0.0</td>\n",
       "      <td>0.0</td>\n",
       "    </tr>\n",
       "    <tr>\n",
       "      <th>4</th>\n",
       "      <td>0.082192</td>\n",
       "      <td>0.03</td>\n",
       "      <td>0.1</td>\n",
       "      <td>0.5</td>\n",
       "      <td>2.0</td>\n",
       "      <td>1.0</td>\n",
       "      <td>2.0</td>\n",
       "      <td>1.0</td>\n",
       "      <td>117000</td>\n",
       "      <td>25</td>\n",
       "      <td>...</td>\n",
       "      <td>0.168839</td>\n",
       "      <td>5.0</td>\n",
       "      <td>1.0</td>\n",
       "      <td>0.5</td>\n",
       "      <td>4.0</td>\n",
       "      <td>3.0</td>\n",
       "      <td>0.00402</td>\n",
       "      <td>0.048714</td>\n",
       "      <td>0.0</td>\n",
       "      <td>0.0</td>\n",
       "    </tr>\n",
       "  </tbody>\n",
       "</table>\n",
       "<p>5 rows × 23 columns</p>\n",
       "</div>"
      ],
      "text/plain": [
       "          층  건축년도  등기신청일자  거래유형  경비비관리형태  세대전기계약방법  청소비관리형태  \\\n",
       "0  0.095890  0.03     0.1   0.5      2.0       1.0      2.0   \n",
       "1  0.109589  0.03     0.1   0.5      2.0       1.0      2.0   \n",
       "2  0.123288  0.03     0.1   0.5      2.0       1.0      2.0   \n",
       "3  0.109589  0.03     0.1   0.5      2.0       1.0      2.0   \n",
       "4  0.082192  0.03     0.1   0.5      2.0       1.0      2.0   \n",
       "\n",
       "   기타/의무/임대/임의=1/2/3/4  target   구  ...      전용면적  단지분류  세대타입(분양형태)  관리방식  \\\n",
       "0                  1.0  124000  25  ...  0.168839   5.0         1.0   0.5   \n",
       "1                  1.0  123500  25  ...  0.168839   5.0         1.0   0.5   \n",
       "2                  1.0   91500  25  ...  0.108520   5.0         1.0   0.5   \n",
       "3                  1.0  130000  25  ...  0.168839   5.0         1.0   0.5   \n",
       "4                  1.0  117000  25  ...  0.168839   5.0         1.0   0.5   \n",
       "\n",
       "   복도유형  난방방식  전용면적별세대현황(60㎡이하)  전용면적별세대현황(60㎡~85㎡이하)  85㎡~135㎡이하  135㎡초과  \n",
       "0   4.0   3.0           0.00402              0.048714         0.0     0.0  \n",
       "1   4.0   3.0           0.00402              0.048714         0.0     0.0  \n",
       "2   4.0   3.0           0.00402              0.048714         0.0     0.0  \n",
       "3   4.0   3.0           0.00402              0.048714         0.0     0.0  \n",
       "4   4.0   3.0           0.00402              0.048714         0.0     0.0  \n",
       "\n",
       "[5 rows x 23 columns]"
      ]
     },
     "execution_count": 1083,
     "metadata": {},
     "output_type": "execute_result"
    }
   ],
   "source": [
    "dt.head()"
   ]
  },
  {
   "cell_type": "code",
   "execution_count": 1084,
   "metadata": {},
   "outputs": [
    {
     "name": "stdout",
     "output_type": "stream",
     "text": [
      "/data/ephemeral/home/code\n"
     ]
    }
   ],
   "source": [
    "!pwd"
   ]
  },
  {
   "cell_type": "markdown",
   "metadata": {},
   "source": [
    "## 동 컬럼 처리 (일단은 drop)"
   ]
  },
  {
   "cell_type": "code",
   "execution_count": 1085,
   "metadata": {},
   "outputs": [
    {
     "data": {
      "text/plain": [
       "Index(['층', '건축년도', '등기신청일자', '거래유형', '경비비관리형태', '세대전기계약방법', '청소비관리형태',\n",
       "       '기타/의무/임대/임의=1/2/3/4', 'target', '구', '계약년도', '성수기여부', '전용면적', '단지분류',\n",
       "       '세대타입(분양형태)', '관리방식', '복도유형', '난방방식', '전용면적별세대현황(60㎡이하)',\n",
       "       '전용면적별세대현황(60㎡~85㎡이하)', '85㎡~135㎡이하', '135㎡초과'],\n",
       "      dtype='object')"
      ]
     },
     "execution_count": 1085,
     "metadata": {},
     "output_type": "execute_result"
    }
   ],
   "source": [
    "dt.drop(columns='동', inplace = True)\n",
    "dt.columns"
   ]
  },
  {
   "cell_type": "code",
   "execution_count": 1086,
   "metadata": {},
   "outputs": [],
   "source": [
    "# idx = dt.groupby('동')['target'].mean().sort_values(ascending=True).index\n",
    "# print(idx)\n",
    "# maps = { idx[i-1] : i for i in range(1, len(idx) + 1) }\n",
    "# maps\n",
    "# dt['동'] = dt['동'].map(maps)\n",
    "# dt['동'].unique()"
   ]
  },
  {
   "cell_type": "markdown",
   "metadata": {},
   "source": [
    "# 파일저장"
   ]
  },
  {
   "cell_type": "code",
   "execution_count": 1088,
   "metadata": {},
   "outputs": [],
   "source": [
    "dt.to_csv('./new_train.csv', index=False)"
   ]
  },
  {
   "cell_type": "markdown",
   "metadata": {},
   "source": [
    "# EDA"
   ]
  },
  {
   "cell_type": "code",
   "execution_count": null,
   "metadata": {},
   "outputs": [
    {
     "name": "stdout",
     "output_type": "stream",
     "text": [
      "해제사유발생일의 결측치 비율 99.46524111967766%\n",
      "k-단지분류(아파트,주상복합등등)의 결측치 비율 77.8221200512682%\n",
      "k-전화번호의 결측치 비율 77.78484870694355%\n",
      "k-팩스번호의 결측치 비율 78.00543786232305%\n",
      "단지소개기존clob의 결측치 비율 93.87015986457185%\n",
      "k-세대타입(분양형태)의 결측치 비율 77.72129972417417%\n",
      "k-관리방식의 결측치 비율 77.72129972417417%\n",
      "k-복도유형의 결측치 비율 77.75052689346474%\n",
      "k-난방방식의 결측치 비율 77.72129972417417%\n",
      "k-전체동수의 결측치 비율 77.81666788818954%\n",
      "k-전체세대수의 결측치 비율 77.72129972417417%\n",
      "k-건설사(시공사)의 결측치 비율 77.85492240946282%\n",
      "k-시행사의 결측치 비율 77.87244083509263%\n",
      "k-사용검사일-사용승인일의 결측치 비율 77.73318722728013%\n",
      "k-연면적의 결측치 비율 77.72129972417417%\n",
      "k-주거전용면적의 결측치 비율 77.72532181169123%\n",
      "k-관리비부과면적의 결측치 비율 77.72129972417417%\n",
      "k-전용면적별세대현황(60㎡이하)의 결측치 비율 77.72532181169123%\n",
      "k-전용면적별세대현황(60㎡~85㎡이하)의 결측치 비율 77.72532181169123%\n",
      "k-85㎡~135㎡이하의 결측치 비율 77.72532181169123%\n",
      "k-135㎡초과의 결측치 비율 99.97077283070944%\n",
      "k-홈페이지의 결측치 비율 89.88444989462131%\n",
      "k-등록일자의 결측치 비율 99.01771684861399%\n",
      "k-수정일자의 결측치 비율 77.72532181169123%\n",
      "고용보험관리번호의 결측치 비율 81.63085817046858%\n",
      "경비비관리형태의 결측치 비율 77.84866582888074%\n",
      "세대전기계약방법의 결측치 비율 78.54216309654262%\n",
      "청소비관리형태의 결측치 비율 77.86564797617494%\n",
      "건축면적의 결측치 비율 77.73479606228693%\n",
      "주차대수의 결측치 비율 77.73479606228693%\n",
      "기타/의무/임대/임의=1/2/3/4의 결측치 비율 77.72129972417417%\n",
      "단지승인일의 결측치 비율 77.78592126361477%\n",
      "사용허가여부의 결측치 비율 77.72129972417417%\n",
      "관리비 업로드의 결측치 비율 77.72129972417417%\n",
      "좌표X의 결측치 비율 77.7308633544925%\n",
      "좌표Y의 결측치 비율 77.7308633544925%\n",
      "단지신청일의 결측치 비율 77.72684126697544%\n"
     ]
    }
   ],
   "source": [
    "rows = dt.shape[0]\n",
    "over70 = []\n",
    "over80 = []\n",
    "for col in dt.columns:\n",
    "    nand = (dt[col].isnull().sum() / rows) * 100\n",
    "    if nand >= 70:\n",
    "        over70.append(col)\n",
    "        print(f'{col}의 결측치 비율 {nand}%')\n",
    "    if nand >= 80:\n",
    "        over80.append(col)"
   ]
  },
  {
   "cell_type": "code",
   "execution_count": 10,
   "metadata": {},
   "outputs": [
    {
     "name": "stdout",
     "output_type": "stream",
     "text": [
      "37 6\n"
     ]
    }
   ],
   "source": [
    "print(len(over70), len(over80))"
   ]
  },
  {
   "cell_type": "code",
   "execution_count": 14,
   "metadata": {},
   "outputs": [
    {
     "data": {
      "text/plain": [
       "시군구                               서울특별시 강남구 개포동\n",
       "번지                                        658-1\n",
       "본번                                        658.0\n",
       "부번                                          1.0\n",
       "아파트명                                     개포6차우성\n",
       "전용면적(㎡)                                   79.97\n",
       "계약년월                                     201712\n",
       "계약일                                          22\n",
       "층                                             4\n",
       "건축년도                                       1987\n",
       "도로명                                       언주로 3\n",
       "해제사유발생일                                     NaN\n",
       "등기신청일자                                         \n",
       "거래유형                                          -\n",
       "중개사소재지                                        -\n",
       "k-단지분류(아파트,주상복합등등)                          아파트\n",
       "k-전화번호                                025776611\n",
       "k-팩스번호                                025776673\n",
       "단지소개기존clob                                  NaN\n",
       "k-세대타입(분양형태)                                 분양\n",
       "k-관리방식                                     자치관리\n",
       "k-복도유형                                      계단식\n",
       "k-난방방식                                     개별난방\n",
       "k-전체동수                                      8.0\n",
       "k-전체세대수                                   270.0\n",
       "k-건설사(시공사)                                 우성건설\n",
       "k-시행사                                        모름\n",
       "k-사용검사일-사용승인일             1987-11-21 00:00:00.0\n",
       "k-연면적                                   22637.0\n",
       "k-주거전용면적                                20204.0\n",
       "k-관리비부과면적                               22637.0\n",
       "k-전용면적별세대현황(60㎡이하)                         20.0\n",
       "k-전용면적별세대현황(60㎡~85㎡이하)                    250.0\n",
       "k-85㎡~135㎡이하                                0.0\n",
       "k-135㎡초과                                    NaN\n",
       "k-홈페이지                                      NaN\n",
       "k-등록일자                    2022-11-09 20:10:43.0\n",
       "k-수정일자                    2023-09-23 17:21:41.0\n",
       "고용보험관리번호                                    NaN\n",
       "경비비관리형태                                      직영\n",
       "세대전기계약방법                                   단일계약\n",
       "청소비관리형태                                      직영\n",
       "건축면적                                     4858.0\n",
       "주차대수                                      262.0\n",
       "기타/의무/임대/임의=1/2/3/4                          임의\n",
       "단지승인일                     2022-11-17 13:00:29.0\n",
       "사용허가여부                                        Y\n",
       "관리비 업로드                                       N\n",
       "좌표X                                   127.05721\n",
       "좌표Y                                   37.476763\n",
       "단지신청일                     2022-11-17 10:19:06.0\n",
       "target                                   123500\n",
       "Name: 1, dtype: object"
      ]
     },
     "execution_count": 14,
     "metadata": {},
     "output_type": "execute_result"
    }
   ],
   "source": [
    "dt.iloc[1]"
   ]
  },
  {
   "cell_type": "code",
   "execution_count": 24,
   "metadata": {},
   "outputs": [
    {
     "name": "stdout",
     "output_type": "stream",
     "text": [
      "40 60194\n"
     ]
    }
   ],
   "source": [
    "missing_values = dt.isnull().sum(axis=1)\n",
    "max_missing_row_index = missing_values.idxmax()\n",
    "print(missing_values.max(), max_missing_row_index)"
   ]
  },
  {
   "cell_type": "code",
   "execution_count": 19,
   "metadata": {},
   "outputs": [
    {
     "data": {
      "text/plain": [
       "40"
      ]
     },
     "execution_count": 19,
     "metadata": {},
     "output_type": "execute_result"
    }
   ],
   "source": [
    "dt.iloc[60194,].isnull().sum()"
   ]
  },
  {
   "cell_type": "code",
   "execution_count": 26,
   "metadata": {},
   "outputs": [
    {
     "data": {
      "text/plain": [
       "37    862769\n",
       "4     108088\n",
       "5      99730\n",
       "3      23652\n",
       "6      13478\n",
       "36      4619\n",
       "38      2100\n",
       "7       1796\n",
       "9       1083\n",
       "12       650\n",
       "8        478\n",
       "2        136\n",
       "40        75\n",
       "14        62\n",
       "11        61\n",
       "15        45\n",
       "dtype: int64"
      ]
     },
     "execution_count": 26,
     "metadata": {},
     "output_type": "execute_result"
    }
   ],
   "source": [
    "missing_values.value_counts()"
   ]
  },
  {
   "cell_type": "markdown",
   "metadata": {},
   "source": [
    "## 컬럼 제거\n"
   ]
  },
  {
   "cell_type": "code",
   "execution_count": 54,
   "metadata": {},
   "outputs": [
    {
     "data": {
      "text/plain": [
       "Index(['시군구', '전용면적(㎡)', '계약년월', '계약일', '층', '건축년도', '해제사유발생일', '등기신청일자',\n",
       "       '거래유형', 'k-단지분류(아파트,주상복합등등)', 'k-세대타입(분양형태)', 'k-관리방식', 'k-복도유형',\n",
       "       'k-난방방식', 'k-전체세대수', 'k-건설사(시공사)', 'k-시행사', 'k-사용검사일-사용승인일', 'k-주거전용면적',\n",
       "       'k-관리비부과면적', 'k-전용면적별세대현황(60㎡이하)', 'k-전용면적별세대현황(60㎡~85㎡이하)',\n",
       "       'k-85㎡~135㎡이하', 'k-135㎡초과', '경비비관리형태', '세대전기계약방법', '청소비관리형태', '건축면적',\n",
       "       '주차대수', '기타/의무/임대/임의=1/2/3/4', '단지승인일', '관리비 업로드', '좌표X', '좌표Y',\n",
       "       '단지신청일', 'target'],\n",
       "      dtype='object')"
      ]
     },
     "execution_count": 54,
     "metadata": {},
     "output_type": "execute_result"
    }
   ],
   "source": [
    "# 제거할 열 리스트\n",
    "columns_to_remove = ['아파트명', '도로명', '중개사소재지', '번지', '본번', '부번',\n",
    "                     'k-전화번호', 'k-팩스번호', '단지소개기존clob', 'k-전체동수',\n",
    "                     'k-연면적', 'k-홈페이지', 'k-등록일자', 'k-수정일자', '고용보험관리번호', \n",
    "                     '사용허가여부']\n",
    "\n",
    "# 특정 열들을 한번에 제거*\n",
    "dt_droped = dt.drop(columns=columns_to_remove)\n",
    "dt_droped.columns"
   ]
  },
  {
   "cell_type": "code",
   "execution_count": 55,
   "metadata": {},
   "outputs": [
    {
     "data": {
      "text/plain": [
       "(1118822, 36)"
      ]
     },
     "execution_count": 55,
     "metadata": {},
     "output_type": "execute_result"
    }
   ],
   "source": [
    "dt_droped.shape"
   ]
  },
  {
   "cell_type": "code",
   "execution_count": 56,
   "metadata": {},
   "outputs": [
    {
     "name": "stdout",
     "output_type": "stream",
     "text": [
      "27 975\n"
     ]
    }
   ],
   "source": [
    "missing_values = dt_droped.isnull().sum(axis=1)\n",
    "max_missing_row_index = missing_values.idxmax()\n",
    "print(missing_values.max(), max_missing_row_index)"
   ]
  },
  {
   "cell_type": "code",
   "execution_count": 57,
   "metadata": {},
   "outputs": [
    {
     "data": {
      "text/plain": [
       "27    864918\n",
       "26      4645\n",
       "11        62\n",
       "10        45\n",
       "6        787\n",
       "5        799\n",
       "4       1350\n",
       "3       8916\n",
       "2     236035\n",
       "1       1265\n",
       "dtype: int64"
      ]
     },
     "execution_count": 57,
     "metadata": {},
     "output_type": "execute_result"
    }
   ],
   "source": [
    "missing_values.value_counts().sort_index(ascending=False)"
   ]
  },
  {
   "cell_type": "markdown",
   "metadata": {},
   "source": [
    "## 결측치 비율에 따른 행 제거\n"
   ]
  },
  {
   "cell_type": "code",
   "execution_count": 58,
   "metadata": {},
   "outputs": [],
   "source": [
    "threshold = 27  # 결측치 개수\n",
    "\n",
    "# 각 행에 대해 결측치 개수를 계산하고, threshold 이상의 결측치를 가진 행을 삭제\n",
    "dt_cleaned = dt_droped[dt_droped.isnull().sum(axis=1) < threshold]"
   ]
  },
  {
   "cell_type": "code",
   "execution_count": 59,
   "metadata": {},
   "outputs": [
    {
     "data": {
      "text/plain": [
       "(253904, 36)"
      ]
     },
     "execution_count": 59,
     "metadata": {},
     "output_type": "execute_result"
    }
   ],
   "source": [
    "dt_cleaned.shape"
   ]
  },
  {
   "cell_type": "code",
   "execution_count": 60,
   "metadata": {},
   "outputs": [
    {
     "data": {
      "text/plain": [
       "시군구                            0\n",
       "전용면적(㎡)                        0\n",
       "계약년월                           0\n",
       "계약일                            0\n",
       "층                              0\n",
       "건축년도                           0\n",
       "해제사유발생일                   247921\n",
       "등기신청일자                         0\n",
       "거래유형                           0\n",
       "k-단지분류(아파트,주상복합등등)          5773\n",
       "k-세대타입(분양형태)                4645\n",
       "k-관리방식                      4645\n",
       "k-복도유형                      4972\n",
       "k-난방방식                      4645\n",
       "k-전체세대수                     4645\n",
       "k-건설사(시공사)                  6140\n",
       "k-시행사                       6336\n",
       "k-사용검사일-사용승인일               4778\n",
       "k-주거전용면적                    4690\n",
       "k-관리비부과면적                   4645\n",
       "k-전용면적별세대현황(60㎡이하)          4690\n",
       "k-전용면적별세대현황(60㎡~85㎡이하)      4690\n",
       "k-85㎡~135㎡이하                4690\n",
       "k-135㎡초과                  253577\n",
       "경비비관리형태                     6070\n",
       "세대전기계약방법                   13829\n",
       "청소비관리형태                     6260\n",
       "건축면적                        4796\n",
       "주차대수                        4796\n",
       "기타/의무/임대/임의=1/2/3/4         4645\n",
       "단지승인일                       5368\n",
       "관리비 업로드                     4645\n",
       "좌표X                         4752\n",
       "좌표Y                         4752\n",
       "단지신청일                       4707\n",
       "target                         0\n",
       "dtype: int64"
      ]
     },
     "execution_count": 60,
     "metadata": {},
     "output_type": "execute_result"
    }
   ],
   "source": [
    "dt_cleaned.isnull().sum()"
   ]
  },
  {
   "cell_type": "code",
   "execution_count": 61,
   "metadata": {},
   "outputs": [
    {
     "name": "stdout",
     "output_type": "stream",
     "text": [
      "연속형 변수: ['전용면적(㎡)', '계약년월', '계약일', '층', '건축년도', '해제사유발생일', 'k-전체세대수', 'k-주거전용면적', 'k-관리비부과면적', 'k-전용면적별세대현황(60㎡이하)', 'k-전용면적별세대현황(60㎡~85㎡이하)', 'k-85㎡~135㎡이하', 'k-135㎡초과', '건축면적', '주차대수', '좌표X', '좌표Y', 'target']\n",
      "범주형 변수: ['시군구', '등기신청일자', '거래유형', 'k-단지분류(아파트,주상복합등등)', 'k-세대타입(분양형태)', 'k-관리방식', 'k-복도유형', 'k-난방방식', 'k-건설사(시공사)', 'k-시행사', 'k-사용검사일-사용승인일', '경비비관리형태', '세대전기계약방법', '청소비관리형태', '기타/의무/임대/임의=1/2/3/4', '단지승인일', '관리비 업로드', '단지신청일']\n"
     ]
    }
   ],
   "source": [
    "# 파생변수 제작으로 추가된 변수들이 존재하기에, 다시한번 연속형과 범주형 칼럼을 분리해주겠습니다.\n",
    "continuous_columns_v2 = []\n",
    "categorical_columns_v2 = []\n",
    "\n",
    "for column in dt_cleaned.columns:\n",
    "    if pd.api.types.is_numeric_dtype(dt_cleaned[column]):\n",
    "        continuous_columns_v2.append(column)\n",
    "    else:\n",
    "        categorical_columns_v2.append(column)\n",
    "\n",
    "print(\"연속형 변수:\", continuous_columns_v2)\n",
    "print(\"범주형 변수:\", categorical_columns_v2)"
   ]
  },
  {
   "cell_type": "markdown",
   "metadata": {},
   "source": [
    "---\n",
    "\n",
    "구분선\n",
    "\n",
    "---\n"
   ]
  },
  {
   "cell_type": "code",
   "execution_count": 37,
   "metadata": {},
   "outputs": [
    {
     "data": {
      "text/html": [
       "<div>\n",
       "<style scoped>\n",
       "    .dataframe tbody tr th:only-of-type {\n",
       "        vertical-align: middle;\n",
       "    }\n",
       "\n",
       "    .dataframe tbody tr th {\n",
       "        vertical-align: top;\n",
       "    }\n",
       "\n",
       "    .dataframe thead th {\n",
       "        text-align: right;\n",
       "    }\n",
       "</style>\n",
       "<table border=\"1\" class=\"dataframe\">\n",
       "  <thead>\n",
       "    <tr style=\"text-align: right;\">\n",
       "      <th></th>\n",
       "      <th>k-전용면적별세대현황(60㎡이하)</th>\n",
       "      <th>k-전용면적별세대현황(60㎡~85㎡이하)</th>\n",
       "      <th>k-85㎡~135㎡이하</th>\n",
       "      <th>k-135㎡초과</th>\n",
       "    </tr>\n",
       "  </thead>\n",
       "  <tbody>\n",
       "    <tr>\n",
       "      <th>571126</th>\n",
       "      <td>264.0</td>\n",
       "      <td>327.0</td>\n",
       "      <td>0.0</td>\n",
       "      <td>NaN</td>\n",
       "    </tr>\n",
       "    <tr>\n",
       "      <th>93311</th>\n",
       "      <td>0.0</td>\n",
       "      <td>106.0</td>\n",
       "      <td>142.0</td>\n",
       "      <td>NaN</td>\n",
       "    </tr>\n",
       "    <tr>\n",
       "      <th>1102543</th>\n",
       "      <td>206.0</td>\n",
       "      <td>152.0</td>\n",
       "      <td>119.0</td>\n",
       "      <td>NaN</td>\n",
       "    </tr>\n",
       "    <tr>\n",
       "      <th>954333</th>\n",
       "      <td>0.0</td>\n",
       "      <td>327.0</td>\n",
       "      <td>476.0</td>\n",
       "      <td>NaN</td>\n",
       "    </tr>\n",
       "    <tr>\n",
       "      <th>1008928</th>\n",
       "      <td>118.0</td>\n",
       "      <td>104.0</td>\n",
       "      <td>0.0</td>\n",
       "      <td>NaN</td>\n",
       "    </tr>\n",
       "    <tr>\n",
       "      <th>854897</th>\n",
       "      <td>184.0</td>\n",
       "      <td>282.0</td>\n",
       "      <td>304.0</td>\n",
       "      <td>NaN</td>\n",
       "    </tr>\n",
       "    <tr>\n",
       "      <th>406641</th>\n",
       "      <td>0.0</td>\n",
       "      <td>0.0</td>\n",
       "      <td>564.0</td>\n",
       "      <td>NaN</td>\n",
       "    </tr>\n",
       "    <tr>\n",
       "      <th>530206</th>\n",
       "      <td>225.0</td>\n",
       "      <td>142.0</td>\n",
       "      <td>0.0</td>\n",
       "      <td>NaN</td>\n",
       "    </tr>\n",
       "    <tr>\n",
       "      <th>623860</th>\n",
       "      <td>0.0</td>\n",
       "      <td>197.0</td>\n",
       "      <td>0.0</td>\n",
       "      <td>NaN</td>\n",
       "    </tr>\n",
       "    <tr>\n",
       "      <th>532539</th>\n",
       "      <td>44.0</td>\n",
       "      <td>202.0</td>\n",
       "      <td>246.0</td>\n",
       "      <td>NaN</td>\n",
       "    </tr>\n",
       "  </tbody>\n",
       "</table>\n",
       "</div>"
      ],
      "text/plain": [
       "         k-전용면적별세대현황(60㎡이하)  k-전용면적별세대현황(60㎡~85㎡이하)  k-85㎡~135㎡이하  k-135㎡초과\n",
       "571126                264.0                   327.0           0.0       NaN\n",
       "93311                   0.0                   106.0         142.0       NaN\n",
       "1102543               206.0                   152.0         119.0       NaN\n",
       "954333                  0.0                   327.0         476.0       NaN\n",
       "1008928               118.0                   104.0           0.0       NaN\n",
       "854897                184.0                   282.0         304.0       NaN\n",
       "406641                  0.0                     0.0         564.0       NaN\n",
       "530206                225.0                   142.0           0.0       NaN\n",
       "623860                  0.0                   197.0           0.0       NaN\n",
       "532539                 44.0                   202.0         246.0       NaN"
      ]
     },
     "execution_count": 37,
     "metadata": {},
     "output_type": "execute_result"
    }
   ],
   "source": [
    "dt_cleaned[['k-전용면적별세대현황(60㎡이하)', 'k-전용면적별세대현황(60㎡~85㎡이하)', 'k-85㎡~135㎡이하','k-135㎡초과' ]].sample(10)"
   ]
  },
  {
   "cell_type": "code",
   "execution_count": 41,
   "metadata": {},
   "outputs": [
    {
     "data": {
      "text/plain": [
       "93602    70.0\n",
       "93603    70.0\n",
       "93604    70.0\n",
       "93605    70.0\n",
       "93606    70.0\n",
       "Name: k-135㎡초과, dtype: float64"
      ]
     },
     "execution_count": 41,
     "metadata": {},
     "output_type": "execute_result"
    }
   ],
   "source": [
    "dt_cleaned.loc[dt_cleaned['k-135㎡초과'].notna() == True]['k-135㎡초과'].head(5)"
   ]
  }
 ],
 "metadata": {
  "kernelspec": {
   "display_name": "gogetter",
   "language": "python",
   "name": "python3"
  },
  "language_info": {
   "codemirror_mode": {
    "name": "ipython",
    "version": 3
   },
   "file_extension": ".py",
   "mimetype": "text/x-python",
   "name": "python",
   "nbconvert_exporter": "python",
   "pygments_lexer": "ipython3",
   "version": "3.10.13"
  }
 },
 "nbformat": 4,
 "nbformat_minor": 2
}
